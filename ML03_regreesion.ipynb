{
 "cells": [
  {
   "cell_type": "code",
   "execution_count": null,
   "metadata": {},
   "outputs": [],
   "source": []
  },
  {
   "cell_type": "markdown",
   "metadata": {},
   "source": [
    "### k-최근접 이웃 회귀\n",
    "- k-최근접 이웃 분류\n",
    "    - 예측하려는 샘플에 가장 가까운 이웃을 k개를 선택\n",
    "    - 이웃들의 클래스를 확인\n",
    "    - 샘플 주변의 다수의 클래스를 샘플의 클래스로 예측\n",
    "- k-최근접 이웃 회귀\n",
    "    - 예측하려는 샘플에 가장 가까운 이웃 k개를 선택\n",
    "    - 이웃의 평균을 구함"
   ]
  },
  {
   "cell_type": "markdown",
   "metadata": {},
   "source": [
    "##### 데이터 준비\n",
    "- 농어(perch)의 길이로 무게를 잘 예측할 수 있을까?"
   ]
  },
  {
   "cell_type": "code",
   "execution_count": 1,
   "metadata": {},
   "outputs": [
    {
     "data": {
      "image/png": "[encoded data removed]",
      "text/plain": [
       "<Figure size 432x288 with 1 Axes>"
      ]
     },
     "metadata": {
      "needs_background": "light"
     },
     "output_type": "display_data"
    }
   ],
   "source": [
    "import\tnumpy as\tnp\n",
    "import\tmatplotlib.pyplot as\tplt\n",
    "\n",
    "perch_length =\tnp.array([8.4,\t13.7,\t15.0,\t16.2,\t17.4,\t18.0,\t18.7,\t19.0,\t19.6,\t20.0,\t\n",
    "21.0,\t21.0,\t21.0,\t21.3,\t22.0,\t22.0,\t22.0,\t22.0,\t22.0,\t22.5,\t\n",
    "22.5,\t22.7,\t23.0,\t23.5,\t24.0,\t24.0,\t24.6,\t25.0,\t25.6,\t26.5,\t\n",
    "27.3,\t27.5,\t27.5,\t27.5,\t28.0,\t28.7,\t30.0,\t32.8,\t34.5,\t35.0,\t\n",
    "36.5,\t36.0,\t37.0,\t37.0,\t39.0,\t39.0,\t39.0,\t40.0,\t40.0,\t40.0,\t\n",
    "40.0,\t42.0,\t43.0,\t43.0,\t43.5,\t44.0])\n",
    "perch_weight =\tnp.array([5.9,\t32.0,\t40.0,\t51.5,\t70.0,\t100.0,\t78.0,\t80.0,\t85.0,\t85.0,\t\n",
    "110.0,\t115.0,\t125.0,\t130.0,\t120.0,\t120.0,\t130.0,\t135.0,\t110.0,\t130.0,\n",
    "150.0,\t145.0,\t150.0,\t170.0,\t225.0,\t145.0,\t188.0,\t180.0,\t197.0,\t218.0,\t\n",
    "300.0,\t260.0,\t265.0,\t250.0,\t250.0,\t300.0,\t320.0,\t514.0,\t556.0,\t840.0,\t\n",
    "685.0,\t700.0,\t700.0,\t690.0,\t900.0,\t650.0,\t820.0,\t850.0,\t900.0,\t1015.0,\n",
    "820.0,\t1100.0,\t1000.0,\t1100.0,\t1000.0,\t1000.0])\n",
    "#\t산점도 확인\n",
    "plt.scatter(perch_length,\tperch_weight)\n",
    "plt.xlabel('length')\n",
    "plt.ylabel('weight')\n",
    "plt.show()"
   ]
  },
  {
   "cell_type": "markdown",
   "metadata": {},
   "source": [
    "훈련 세트와 테스트 세트 준비\n",
    "§ train_test_split() 함수 사용\n",
    "• 1개의 데이터 세트(perch_length)만 사용\n",
    "• scikit-learn의 훈련 세트는 2차원 배열을 사용\n",
    "– 입력 데이터 세트를 2차원 배열 형태로 변경이 필요\n",
    "– reshape(row,\tcol) 함수 사용\n",
    "– (42,) -> (42, 1)형태로 변경"
   ]
  },
  {
   "cell_type": "code",
   "execution_count": 5,
   "metadata": {},
   "outputs": [
    {
     "name": "stdout",
     "output_type": "stream",
     "text": [
      "(42,) (14,)\n",
      "(42, 1) (14, 1)\n"
     ]
    }
   ],
   "source": [
    "from sklearn.model_selection import train_test_split\n",
    "\n",
    "train_input,\ttest_input,\ttrain_target,\ttest_target = train_test_split(\n",
    "    perch_length, perch_weight, random_state=42)\n",
    "\n",
    "print(train_input.shape,\ttest_input.shape)\n",
    "\n",
    "#\treshape(-1,\t1):\t-1:\t행의 크기를 자동 지정\n",
    "train_input=train_input.reshape(-1, 1) # 2차원 배열로 변경\n",
    "test_input=test_input.reshape(-1, 1) # 2차원 배열로 변경\\\n",
    "\n",
    "print(train_input.shape,\ttest_input.shape)"
   ]
  },
  {
   "cell_type": "markdown",
   "metadata": {},
   "source": [
    "#### k-최근접 이웃 회귀 알고리즘 정확도 계산\n",
    "- k-최근접 이웃 회귀 알고리즘\n",
    "    - KNeighborsRegressor 클래스 사용\n",
    "- n_neighbors: 기본 값=5\n",
    "\n",
    "- score()\n",
    "    - 결정 계수(R2)를 리턴함\n",
    "    - 출력하는 값이 높을수록 정확도가 높음"
   ]
  },
  {
   "cell_type": "code",
   "execution_count": 6,
   "metadata": {},
   "outputs": [
    {
     "name": "stdout",
     "output_type": "stream",
     "text": [
      "0.992809406101064\n"
     ]
    }
   ],
   "source": [
    "from sklearn.neighbors import KNeighborsRegressor\n",
    "\n",
    "knr=KNeighborsRegressor()\n",
    "# 모델 훈련\n",
    "knr.fit(train_input, train_target)\n",
    "\n",
    "#\tscore():\t훈련 모델 점수 확인,\t결정 계수(R2)를 리턴\n",
    "print(knr.score(test_input,\ttest_target))\n",
    "# 0.992809406101064 => 결정계수"
   ]
  },
  {
   "cell_type": "markdown",
   "metadata": {},
   "source": [
    "##### 결정 계수(R2)\n",
    "- 결정 계수 (R2) 값</br>\n",
    "    • 회귀식이 얼마나 정확한지를 나타내는 숫자 (0 ≤ $R^2$ ≤ 1)</br>\n",
    "    – 0에 가까울수록, 회귀식의 정확도는 낮음</br>\n",
    "    – 1에 가까울 수록, 회귀식의 정확도는 높음</br>\n",
    "\n",
    "- $R^2$ = 1 − $(target − 예측)^2$의 합 / $(target - target평균)^2$의 합\n"
   ]
  },
  {
   "cell_type": "code",
   "execution_count": null,
   "metadata": {},
   "outputs": [],
   "source": []
  }
 ],
 "metadata": {
  "kernelspec": {
   "display_name": "Python 3.9.12 ('EV_PY39')",
   "language": "python",
   "name": "python3"
  },
  "language_info": {
   "codemirror_mode": {
    "name": "ipython",
    "version": 3
   },
   "file_extension": ".py",
   "mimetype": "text/x-python",
   "name": "python",
   "nbconvert_exporter": "python",
   "pygments_lexer": "ipython3",
   "version": "3.9.12"
  },
  "orig_nbformat": 4,
  "vscode": {
   "interpreter": {
    "hash": "c34f60c4b6508d34c0193a1e5ad16bfc3f81e2e087a9e2f73ef284bcb9806a0b"
   }
  }
 },
 "nbformat": 4,
 "nbformat_minor": 2
}
