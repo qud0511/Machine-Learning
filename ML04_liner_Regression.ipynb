{
 "cells": [
  {
   "cell_type": "code",
   "execution_count": 1,
   "metadata": {},
   "outputs": [],
   "source": [
    "import\tnumpy as\tnp\n",
    "perch_length =\tnp.array([8.4,\t13.7,\t15.0,\t16.2,\t17.4,\t18.0,\t18.7,\t19.0,\t19.6,\t20.0,\n",
    "21.0,\t21.0,\t21.0,\t21.3,\t22.0,\t22.0,\t22.0,\t22.0,\t22.0,\t22.5,\n",
    "22.5,\t22.7,\t23.0,\t23.5,\t24.0,\t24.0,\t24.6,\t25.0,\t25.6,\t26.5,\n",
    "27.3,\t27.5,\t27.5,\t27.5,\t28.0,\t28.7,\t30.0,\t32.8,\t34.5,\t35.0,\n",
    "36.5,\t36.0,\t37.0,\t37.0,\t39.0,\t39.0,\t39.0,\t40.0,\t40.0,\t40.0,\n",
    "40.0,\t42.0,\t43.0,\t43.0,\t43.5,\t44.0])\n",
    "perch_weight =\tnp.array([5.9,\t32.0,\t40.0,\t51.5,\t70.0,\t100.0,\t78.0,\t80.0,\t85.0,\t85.0,\n",
    "110.0,\t115.0,\t125.0,\t130.0,\t120.0,\t120.0,\t130.0,\t135.0,\t110.0,\t130.0,\n",
    "150.0,\t145.0,\t150.0,\t170.0,\t225.0,\t145.0,\t188.0,\t180.0,\t197.0,\t218.0,\n",
    "300.0,\t260.0,\t265.0,\t250.0,\t250.0,\t300.0,\t320.0,\t514.0,\t556.0,\t840.0,\n",
    "685.0,\t700.0,\t700.0,\t690.0,\t900.0,\t650.0,\t820.0,\t850.0,\t900.0,\t1015.0,\n",
    "820.0,\t1100.0,\t1000.0,\t1100.0,\t1000.0,\t1000.0])"
   ]
  },
  {
   "cell_type": "code",
   "execution_count": null,
   "metadata": {},
   "outputs": [],
   "source": []
  }
 ],
 "metadata": {
  "kernelspec": {
   "display_name": "Python 3.9.12 ('EV_PY39')",
   "language": "python",
   "name": "python3"
  },
  "language_info": {
   "codemirror_mode": {
    "name": "ipython",
    "version": 3
   },
   "file_extension": ".py",
   "mimetype": "text/x-python",
   "name": "python",
   "nbconvert_exporter": "python",
   "pygments_lexer": "ipython3",
   "version": "3.9.12"
  },
  "orig_nbformat": 4,
  "vscode": {
   "interpreter": {
    "hash": "c34f60c4b6508d34c0193a1e5ad16bfc3f81e2e087a9e2f73ef284bcb9806a0b"
   }
  }
 },
 "nbformat": 4,
 "nbformat_minor": 2
}
