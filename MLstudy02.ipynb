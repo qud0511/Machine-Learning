{
 "cells": [
  {
   "cell_type": "markdown",
   "metadata": {},
   "source": [
    "#### Linear Regression 구현\n",
    "- 아래 데이터를 이용하여 각 항목별 연관 관계를 분석하고 선형 회\n",
    "귀 분석 기법을 통해 상관 관계를 그래프로 표시하시오.</br>\n",
    "\n",
    "• index_price: 물가지수</br>\n",
    "• interest_rate: 이자율,</br>\n",
    "• unemployment_rate: 실업률</br>"
   ]
  },
  {
   "cell_type": "code",
   "execution_count": 16,
   "metadata": {},
   "outputs": [
    {
     "name": "stdout",
     "output_type": "stream",
     "text": [
      "   year  month  interest_rate  unemployment_rate  index_price\n",
      "0  2017     12           2.75                5.3         1464\n",
      "1  2017     11           2.50                5.3         1394\n",
      "2  2017     10           2.50                5.3         1357\n",
      "3  2017      9           2.50                5.3         1293\n",
      "4  2017      8           2.50                5.4         1256\n"
     ]
    },
    {
     "data": {
      "text/plain": [
       "<matplotlib.collections.PathCollection at 0x291292d56a0>"
      ]
     },
     "execution_count": 16,
     "metadata": {},
     "output_type": "execute_result"
    },
    {
     "data": {
      "image/png": "[encoded data removed]",
      "text/plain": [
       "<Figure size 432x288 with 1 Axes>"
      ]
     },
     "metadata": {},
     "output_type": "display_data"
    }
   ],
   "source": [
    "import pandas as pd\n",
    "import matplotlib.pyplot as plt\n",
    "\n",
    "data = {'year':[2017,2017,2017,2017,2017,2017,2017,2017,2017,2017,2017,2017,\n",
    "2016,2016,2016,2016,2016,2016,2016,2016,2016,2016,2016,2016],\n",
    "'month':[12,11,10,9,8,7,6,5,4,3,2,1,12,11,10,9,8,7,6,5,4,3,2,1],\n",
    "'interest_rate':[2.75,2.5,2.5,2.5,2.5,2.5,2.5,2.25,2.25,2.25,2,2,2,\n",
    "1.75,1.75,1.75,1.75,1.75,1.75,1.75,1.75,1.75,1.75,1.75],\n",
    "'unemployment_rate':[5.3,5.3,5.3,5.3,5.4,5.6,5.5,5.5,5.5,5.6,5.7,5.9,6,5.9,\n",
    "5.8,6.1,6.2,6.1,6.1,6.1,5.9,6.2,6.2,6.1],\n",
    "'index_price':[1464,1394,1357,1293,1256,1254,1234,1195,1159,1167,1130,1075,\n",
    "1047,965,943,958,971,949,884,866,876,822,704,719]}\n",
    "\n",
    "df = pd.DataFrame(data)\n",
    "print(df.head())\n",
    "\n",
    "plt.style.use ('ggplot')\n",
    "plt.scatter(df['interest_rate'], df['index_price'])"
   ]
  },
  {
   "cell_type": "markdown",
   "metadata": {},
   "source": [
    "### 선형 회귀: 이자율과 물가지수 상관 관계 분석\n",
    "- 물가지수와 이자율 산점도 및 선형 회귀 분석"
   ]
  },
  {
   "cell_type": "code",
   "execution_count": 34,
   "metadata": {},
   "outputs": [
    {
     "name": "stdout",
     "output_type": "stream",
     "text": [
      "(18, 1) (6, 1)\n"
     ]
    }
   ],
   "source": [
    "import numpy as np\n",
    "from sklearn.model_selection import train_test_split\n",
    "\n",
    "interest_rate = np.array(df['interest_rate'])\n",
    "index_price = np.array(df['index_price'])\n",
    "\n",
    "train_input, test_input, train_target, test_target = train_test_split(\n",
    "    interest_rate, index_price, random_state=42)\n",
    "\n",
    "train_input = train_input.reshape(-1, 1)\n",
    "test_input =test_input.reshape(-1,\t1)\n",
    "\n",
    "print(train_input.shape, test_input.shape)"
   ]
  },
  {
   "cell_type": "code",
   "execution_count": 55,
   "metadata": {},
   "outputs": [
    {
     "name": "stdout",
     "output_type": "stream",
     "text": [
      "0.8541859618501457\n",
      "0.941892392945057\n",
      "[574.45637584] -127.38255033557084\n"
     ]
    }
   ],
   "source": [
    "from sklearn.linear_model import LinearRegression\n",
    "\n",
    "lr = LinearRegression()\n",
    "lr.fit(train_input, train_target)\n",
    "print(lr.score(train_input, train_target))\n",
    "print(lr.score(test_input, test_target))\n",
    "\n",
    "# 기울기(a):\tcoef_,\t절편(bias):\tintercept_\n",
    "print(lr.coef_, lr.intercept_)"
   ]
  },
  {
   "cell_type": "code",
   "execution_count": 56,
   "metadata": {},
   "outputs": [
    {
     "data": {
      "text/plain": [
       "<matplotlib.collections.PathCollection at 0x29131974790>"
      ]
     },
     "execution_count": 56,
     "metadata": {},
     "output_type": "execute_result"
    },
    {
     "data": {
      "image/png": "[encoded data removed]",
      "text/plain": [
       "<Figure size 432x288 with 1 Axes>"
      ]
     },
     "metadata": {},
     "output_type": "display_data"
    }
   ],
   "source": [
    "plt.scatter(train_input, train_target, color = 'blue')\n",
    "# plt.plot([1.75, 700], [lr.coef_ + lr.intercept_, lr.coef_ + lr.intercept_], linestyle='--', color = 'red')"
   ]
  },
  {
   "cell_type": "code",
   "execution_count": null,
   "metadata": {},
   "outputs": [],
   "source": []
  },
  {
   "cell_type": "markdown",
   "metadata": {},
   "source": [
    "### 다항 회귀: 이자율과 물가지수 상관 관계 분석"
   ]
  },
  {
   "cell_type": "code",
   "execution_count": 59,
   "metadata": {},
   "outputs": [
    {
     "name": "stdout",
     "output_type": "stream",
     "text": [
      "[[3.0625 1.75  ]\n",
      " [6.25   2.5   ]\n",
      " [3.0625 1.75  ]\n",
      " [6.25   2.5   ]\n",
      " [6.25   2.5   ]]\n",
      "(18, 2) (6, 2)\n"
     ]
    }
   ],
   "source": [
    "train_poly = np.column_stack((train_input**2, train_input))\n",
    "test_poly =\tnp.column_stack((test_input**2,\ttest_input))\n",
    "\n",
    "print(train_poly[0:5])\n",
    "print(train_poly.shape,\ttest_poly.shape)"
   ]
  },
  {
   "cell_type": "code",
   "execution_count": 63,
   "metadata": {},
   "outputs": [
    {
     "name": "stdout",
     "output_type": "stream",
     "text": [
      "[-524.84946237 2802.42473118] -2429.1028225806517\n",
      "0.8676269364555872\n",
      "0.7945265214367343\n"
     ]
    }
   ],
   "source": [
    "# 선형 회귀 모델 재훈련\n",
    "# • 제곱한 데이터를 이용하여 선형 회귀 모델을 다시 훈련\n",
    "# • 타깃값은 그대로 사용함\n",
    "\n",
    "lr = LinearRegression()\n",
    "lr.fit(train_poly, train_target)\n",
    "print(lr.coef_, lr.intercept_)\n",
    "\n",
    "print(lr.score(train_poly, train_target))\n",
    "print(lr.score(test_poly, test_target))"
   ]
  },
  {
   "cell_type": "code",
   "execution_count": null,
   "metadata": {},
   "outputs": [],
   "source": []
  }
 ],
 "metadata": {
  "kernelspec": {
   "display_name": "Python 3.9.12 ('EV_PY39')",
   "language": "python",
   "name": "python3"
  },
  "language_info": {
   "codemirror_mode": {
    "name": "ipython",
    "version": 3
   },
   "file_extension": ".py",
   "mimetype": "text/x-python",
   "name": "python",
   "nbconvert_exporter": "python",
   "pygments_lexer": "ipython3",
   "version": "3.9.12"
  },
  "orig_nbformat": 4,
  "vscode": {
   "interpreter": {
    "hash": "c34f60c4b6508d34c0193a1e5ad16bfc3f81e2e087a9e2f73ef284bcb9806a0b"
   }
  }
 },
 "nbformat": 4,
 "nbformat_minor": 2
}
