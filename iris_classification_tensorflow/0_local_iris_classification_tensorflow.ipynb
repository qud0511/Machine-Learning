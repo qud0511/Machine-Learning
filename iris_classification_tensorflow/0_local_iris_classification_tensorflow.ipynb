{
 "cells": [
  {
   "cell_type": "markdown",
   "id": "0bcd41c4",
   "metadata": {},
   "source": [
    "# 로컬 개발 코드\n",
    "- 로컬에서 주피터 노트북(Jupyter Notebook), 주피터 랩(JupyterLab) 또는 파이썬(Python)을 이용한다. \n",
    "- 사이킷 런(scikit-learn), 텐서플로우(tensorflow), 파이토치(pytorch)를 사용하여 딥러닝 프로그램을 개발한다.\n",
    "- 파일명: 0_local_iris_classification_tensorflow.ipynb\n",
    "\n",
    "### 로컬 개발 워크플로우(workflow)  \n",
    "- 로컬 개발 워크플로우를 다음의 4단계로 분리한다.\n",
    "\n",
    "1. **데이터 세트 준비(Data Setup)**\n",
    "- 로컬 저장소에서 전처리 및 학습에 필요한 학습 데이터 세트를 준비한다.\n",
    "\n",
    "2. **데이터 전처리(Data Preprocessing)**\n",
    "- 데이터 세트의 분석 및 정규화(Normalization)등의 전처리를 수행한다.\n",
    "- 데이터를 모델 학습에 사용할 수 있도록 가공한다.\n",
    "- 추론과정에서 필요한 경우, 데이터 전처리에 사용된 객체를 meta_data 폴더 아래에 저장한다.\n",
    "\n",
    "3. **학습 모델 훈련(Train Model)**\n",
    "- 데이터를 훈련에 사용할 수 있도록 가공한 뒤에 학습 모델을 구성한다. \n",
    "- 학습 모델을 준비된 데이터 세트로 훈련시킨다.\n",
    "- 정확도(Accuracy)나 손실(Loss)등 학습 모델의 성능을 검증한다.\n",
    "- 학습 모델의 성능 검증 후, 학습 모델을 배포한다.\n",
    "- 배포할 학습 모델을 meta_data 폴더 아래에 저장한다.\n",
    "\n",
    "4. **추론(Inference)**\n",
    "- 저장된 전처리 객체나 학습 모델 객체를 준비한다.\n",
    "- 추론에 필요한 테스트 데이터 세트를 준비한다.\n",
    "- 배포된 학습 모델을 통해 테스트 데이터에 대한 추론을 진행한다. "
   ]
  },
  {
   "cell_type": "code",
   "execution_count": null,
   "id": "09d7e60c",
   "metadata": {},
   "outputs": [],
   "source": []
  },
  {
   "cell_type": "markdown",
   "id": "e9955083",
   "metadata": {},
   "source": [
    "# IRIS 분류( Classification)\n",
    "- iris 꽃 데이터 분류"
   ]
  },
  {
   "cell_type": "code",
   "execution_count": null,
   "id": "fb82e85c",
   "metadata": {},
   "outputs": [],
   "source": []
  },
  {
   "cell_type": "code",
   "execution_count": 1,
   "id": "855b1134",
   "metadata": {},
   "outputs": [],
   "source": [
    "import tensorflow as tf\n",
    "import logging\n",
    "import os\n",
    "import pandas as pd\n",
    "import numpy as np\n",
    "from sklearn.model_selection import train_test_split\n",
    "from sklearn.preprocessing import LabelEncoder\n",
    "import pickle"
   ]
  },
  {
   "cell_type": "markdown",
   "id": "1d94634d",
   "metadata": {},
   "source": [
    "## 1. **데이터 세트 준비(Data Setup)**"
   ]
  },
  {
   "cell_type": "code",
   "execution_count": 2,
   "id": "7daa1a00",
   "metadata": {},
   "outputs": [],
   "source": [
    "# 로컬에 저장된 iris 데이터 csv 파일을 읽어온다.\n",
    "df = pd.read_csv('./dataset/iris_classification_dataset.csv')"
   ]
  },
  {
   "cell_type": "markdown",
   "id": "1df13dd5",
   "metadata": {},
   "source": [
    "## **2. 데이터 전처리(Data Preprocessing)**"
   ]
  },
  {
   "cell_type": "code",
   "execution_count": 3,
   "id": "9e63d17e",
   "metadata": {},
   "outputs": [],
   "source": [
    "# 문제 데이터와 정답 데이터 나누기\n",
    "X=df.iloc[:,:-1]\n",
    "y=df.iloc[:,-1:]"
   ]
  },
  {
   "cell_type": "code",
   "execution_count": 4,
   "id": "2e057231",
   "metadata": {},
   "outputs": [
    {
     "name": "stderr",
     "output_type": "stream",
     "text": [
      "C:\\Users\\USER\\anaconda3\\envs\\hunmin2\\lib\\site-packages\\sklearn\\preprocessing\\_label.py:115: DataConversionWarning: A column-vector y was passed when a 1d array was expected. Please change the shape of y to (n_samples, ), for example using ravel().\n",
      "  y = column_or_1d(y, warn=True)\n"
     ]
    }
   ],
   "source": [
    "# LabelEncoder를 이용해서 'Iris-setosa', 'Iris-versicolor', 'Iris-virginica'를 각각 0, 1, 2의 숫자형 레이블로 변환\n",
    "label_encoder = LabelEncoder()\n",
    "y=label_encoder.fit_transform(y)"
   ]
  },
  {
   "cell_type": "code",
   "execution_count": 5,
   "id": "944ef773",
   "metadata": {},
   "outputs": [],
   "source": [
    "# 과적합 방지를 위한 데이터 셋 분리\n",
    "X_train, X_test, Y_train, Y_test = train_test_split(X,y,test_size=0.2,random_state=0)"
   ]
  },
  {
   "cell_type": "code",
   "execution_count": 6,
   "id": "f2d67f73",
   "metadata": {},
   "outputs": [],
   "source": [
    "# 추론을 위한 데이터 저장.\n",
    "with open(os.path.join('meta_data/label_encoder.p'), 'wb') as f:\n",
    "    pickle.dump(label_encoder, f) "
   ]
  },
  {
   "cell_type": "markdown",
   "id": "690263dc",
   "metadata": {},
   "source": [
    "## 3.모델 설계 및 훈련"
   ]
  },
  {
   "cell_type": "code",
   "execution_count": 7,
   "id": "e9ea34ed",
   "metadata": {},
   "outputs": [],
   "source": [
    "    model =tf.keras.models.Sequential(    [\n",
    "      tf.keras.layers.Dense(16,input_dim=4, activation='relu'),  \n",
    "      tf.keras.layers.Dense(32, activation='relu'),  \n",
    "      tf.keras.layers.Dense(10, activation='relu'),\n",
    "      tf.keras.layers.Dense(3, activation='softmax')\n",
    "    ])\n",
    "\n",
    "    model.compile(optimizer='adam',\n",
    "                loss='sparse_categorical_crossentropy',\n",
    "                metrics=['accuracy'])"
   ]
  },
  {
   "cell_type": "code",
   "execution_count": 8,
   "id": "f1be4ac7",
   "metadata": {},
   "outputs": [
    {
     "name": "stdout",
     "output_type": "stream",
     "text": [
      "Epoch 1/100\n",
      "4/4 [==============================] - 1s 4ms/step - loss: 1.3256 - accuracy: 0.3667\n",
      "Epoch 2/100\n",
      "4/4 [==============================] - 0s 3ms/step - loss: 1.1684 - accuracy: 0.3667\n",
      "Epoch 3/100\n",
      "4/4 [==============================] - 0s 3ms/step - loss: 1.1138 - accuracy: 0.3250\n",
      "Epoch 4/100\n",
      "4/4 [==============================] - 0s 3ms/step - loss: 1.0831 - accuracy: 0.3583\n",
      "Epoch 5/100\n",
      "4/4 [==============================] - 0s 3ms/step - loss: 1.0491 - accuracy: 0.4583\n",
      "Epoch 6/100\n",
      "4/4 [==============================] - 0s 3ms/step - loss: 1.0125 - accuracy: 0.6917\n",
      "Epoch 7/100\n",
      "4/4 [==============================] - 0s 4ms/step - loss: 0.9857 - accuracy: 0.6917\n",
      "Epoch 8/100\n",
      "4/4 [==============================] - 0s 3ms/step - loss: 0.9662 - accuracy: 0.6917\n",
      "Epoch 9/100\n",
      "4/4 [==============================] - 0s 3ms/step - loss: 0.9472 - accuracy: 0.6917\n",
      "Epoch 10/100\n",
      "4/4 [==============================] - 0s 3ms/step - loss: 0.9281 - accuracy: 0.6917\n",
      "Epoch 11/100\n",
      "4/4 [==============================] - 0s 3ms/step - loss: 0.9048 - accuracy: 0.6917\n",
      "Epoch 12/100\n",
      "4/4 [==============================] - 0s 3ms/step - loss: 0.8839 - accuracy: 0.6917\n",
      "Epoch 13/100\n",
      "4/4 [==============================] - 0s 3ms/step - loss: 0.8630 - accuracy: 0.6917\n",
      "Epoch 14/100\n",
      "4/4 [==============================] - 0s 3ms/step - loss: 0.8405 - accuracy: 0.6917\n",
      "Epoch 15/100\n",
      "4/4 [==============================] - 0s 3ms/step - loss: 0.8173 - accuracy: 0.6917\n",
      "Epoch 16/100\n",
      "4/4 [==============================] - 0s 3ms/step - loss: 0.7930 - accuracy: 0.6917\n",
      "Epoch 17/100\n",
      "4/4 [==============================] - 0s 3ms/step - loss: 0.7700 - accuracy: 0.6917\n",
      "Epoch 18/100\n",
      "4/4 [==============================] - 0s 4ms/step - loss: 0.7481 - accuracy: 0.6917\n",
      "Epoch 19/100\n",
      "4/4 [==============================] - 0s 3ms/step - loss: 0.7254 - accuracy: 0.6917\n",
      "Epoch 20/100\n",
      "4/4 [==============================] - 0s 3ms/step - loss: 0.7029 - accuracy: 0.6917\n",
      "Epoch 21/100\n",
      "4/4 [==============================] - 0s 3ms/step - loss: 0.6827 - accuracy: 0.6917\n",
      "Epoch 22/100\n",
      "4/4 [==============================] - 0s 3ms/step - loss: 0.6596 - accuracy: 0.6917\n",
      "Epoch 23/100\n",
      "4/4 [==============================] - 0s 3ms/step - loss: 0.6399 - accuracy: 0.7000\n",
      "Epoch 24/100\n",
      "4/4 [==============================] - 0s 3ms/step - loss: 0.6213 - accuracy: 0.7000\n",
      "Epoch 25/100\n",
      "4/4 [==============================] - 0s 3ms/step - loss: 0.6040 - accuracy: 0.7083\n",
      "Epoch 26/100\n",
      "4/4 [==============================] - 0s 3ms/step - loss: 0.5871 - accuracy: 0.7083\n",
      "Epoch 27/100\n",
      "4/4 [==============================] - 0s 3ms/step - loss: 0.5698 - accuracy: 0.7083\n",
      "Epoch 28/100\n",
      "4/4 [==============================] - 0s 3ms/step - loss: 0.5531 - accuracy: 0.7083\n",
      "Epoch 29/100\n",
      "4/4 [==============================] - 0s 3ms/step - loss: 0.5376 - accuracy: 0.7250\n",
      "Epoch 30/100\n",
      "4/4 [==============================] - 0s 3ms/step - loss: 0.5232 - accuracy: 0.7667\n",
      "Epoch 31/100\n",
      "4/4 [==============================] - 0s 3ms/step - loss: 0.5087 - accuracy: 0.7917\n",
      "Epoch 32/100\n",
      "4/4 [==============================] - 0s 3ms/step - loss: 0.4938 - accuracy: 0.7917\n",
      "Epoch 33/100\n",
      "4/4 [==============================] - 0s 3ms/step - loss: 0.4806 - accuracy: 0.8500\n",
      "Epoch 34/100\n",
      "4/4 [==============================] - 0s 3ms/step - loss: 0.4657 - accuracy: 0.8583\n",
      "Epoch 35/100\n",
      "4/4 [==============================] - 0s 3ms/step - loss: 0.4534 - accuracy: 0.8333\n",
      "Epoch 36/100\n",
      "4/4 [==============================] - 0s 3ms/step - loss: 0.4394 - accuracy: 0.8500\n",
      "Epoch 37/100\n",
      "4/4 [==============================] - 0s 3ms/step - loss: 0.4264 - accuracy: 0.8750\n",
      "Epoch 38/100\n",
      "4/4 [==============================] - 0s 3ms/step - loss: 0.4134 - accuracy: 0.9000\n",
      "Epoch 39/100\n",
      "4/4 [==============================] - 0s 3ms/step - loss: 0.4020 - accuracy: 0.9167\n",
      "Epoch 40/100\n",
      "4/4 [==============================] - 0s 3ms/step - loss: 0.3893 - accuracy: 0.9083\n",
      "Epoch 41/100\n",
      "4/4 [==============================] - 0s 2ms/step - loss: 0.3798 - accuracy: 0.8750\n",
      "Epoch 42/100\n",
      "4/4 [==============================] - 0s 3ms/step - loss: 0.3641 - accuracy: 0.9250\n",
      "Epoch 43/100\n",
      "4/4 [==============================] - 0s 3ms/step - loss: 0.3608 - accuracy: 0.9500\n",
      "Epoch 44/100\n",
      "4/4 [==============================] - 0s 3ms/step - loss: 0.3463 - accuracy: 0.9417\n",
      "Epoch 45/100\n",
      "4/4 [==============================] - 0s 3ms/step - loss: 0.3340 - accuracy: 0.9417\n",
      "Epoch 46/100\n",
      "4/4 [==============================] - 0s 2ms/step - loss: 0.3253 - accuracy: 0.9417\n",
      "Epoch 47/100\n",
      "4/4 [==============================] - 0s 3ms/step - loss: 0.3181 - accuracy: 0.9417\n",
      "Epoch 48/100\n",
      "4/4 [==============================] - 0s 3ms/step - loss: 0.3059 - accuracy: 0.9583\n",
      "Epoch 49/100\n",
      "4/4 [==============================] - 0s 2ms/step - loss: 0.2973 - accuracy: 0.9500\n",
      "Epoch 50/100\n",
      "4/4 [==============================] - 0s 2ms/step - loss: 0.2880 - accuracy: 0.9417\n",
      "Epoch 51/100\n",
      "4/4 [==============================] - 0s 3ms/step - loss: 0.2808 - accuracy: 0.9417\n",
      "Epoch 52/100\n",
      "4/4 [==============================] - 0s 3ms/step - loss: 0.2730 - accuracy: 0.9417\n",
      "Epoch 53/100\n",
      "4/4 [==============================] - 0s 3ms/step - loss: 0.2659 - accuracy: 0.9667\n",
      "Epoch 54/100\n",
      "4/4 [==============================] - 0s 2ms/step - loss: 0.2580 - accuracy: 0.9667\n",
      "Epoch 55/100\n",
      "4/4 [==============================] - 0s 3ms/step - loss: 0.2511 - accuracy: 0.9583\n",
      "Epoch 56/100\n",
      "4/4 [==============================] - 0s 3ms/step - loss: 0.2450 - accuracy: 0.9583\n",
      "Epoch 57/100\n",
      "4/4 [==============================] - 0s 3ms/step - loss: 0.2380 - accuracy: 0.9667\n",
      "Epoch 58/100\n",
      "4/4 [==============================] - 0s 3ms/step - loss: 0.2328 - accuracy: 0.9667\n",
      "Epoch 59/100\n",
      "4/4 [==============================] - 0s 3ms/step - loss: 0.2275 - accuracy: 0.9667\n",
      "Epoch 60/100\n",
      "4/4 [==============================] - 0s 3ms/step - loss: 0.2213 - accuracy: 0.9667\n",
      "Epoch 61/100\n",
      "4/4 [==============================] - 0s 3ms/step - loss: 0.2163 - accuracy: 0.9667\n",
      "Epoch 62/100\n",
      "4/4 [==============================] - 0s 3ms/step - loss: 0.2106 - accuracy: 0.9667\n",
      "Epoch 63/100\n",
      "4/4 [==============================] - 0s 3ms/step - loss: 0.2059 - accuracy: 0.9667\n",
      "Epoch 64/100\n",
      "4/4 [==============================] - 0s 3ms/step - loss: 0.2009 - accuracy: 0.9667\n",
      "Epoch 65/100\n",
      "4/4 [==============================] - 0s 3ms/step - loss: 0.1965 - accuracy: 0.9667\n",
      "Epoch 66/100\n",
      "4/4 [==============================] - 0s 3ms/step - loss: 0.1921 - accuracy: 0.9667\n",
      "Epoch 67/100\n",
      "4/4 [==============================] - 0s 3ms/step - loss: 0.1881 - accuracy: 0.9667\n",
      "Epoch 68/100\n",
      "4/4 [==============================] - 0s 2ms/step - loss: 0.1838 - accuracy: 0.9667\n",
      "Epoch 69/100\n",
      "4/4 [==============================] - 0s 3ms/step - loss: 0.1800 - accuracy: 0.9667\n",
      "Epoch 70/100\n",
      "4/4 [==============================] - 0s 3ms/step - loss: 0.1772 - accuracy: 0.9667\n",
      "Epoch 71/100\n",
      "4/4 [==============================] - 0s 3ms/step - loss: 0.1745 - accuracy: 0.9667\n",
      "Epoch 72/100\n",
      "4/4 [==============================] - 0s 2ms/step - loss: 0.1699 - accuracy: 0.9667\n",
      "Epoch 73/100\n",
      "4/4 [==============================] - 0s 3ms/step - loss: 0.1657 - accuracy: 0.9667\n",
      "Epoch 74/100\n",
      "4/4 [==============================] - 0s 3ms/step - loss: 0.1657 - accuracy: 0.9667\n",
      "Epoch 75/100\n",
      "4/4 [==============================] - 0s 3ms/step - loss: 0.1601 - accuracy: 0.9667\n",
      "Epoch 76/100\n",
      "4/4 [==============================] - 0s 3ms/step - loss: 0.1571 - accuracy: 0.9667\n",
      "Epoch 77/100\n",
      "4/4 [==============================] - 0s 3ms/step - loss: 0.1538 - accuracy: 0.9667\n",
      "Epoch 78/100\n",
      "4/4 [==============================] - 0s 3ms/step - loss: 0.1553 - accuracy: 0.9667\n",
      "Epoch 79/100\n",
      "4/4 [==============================] - 0s 3ms/step - loss: 0.1508 - accuracy: 0.9667\n",
      "Epoch 80/100\n",
      "4/4 [==============================] - 0s 3ms/step - loss: 0.1493 - accuracy: 0.9667\n",
      "Epoch 81/100\n",
      "4/4 [==============================] - 0s 3ms/step - loss: 0.1443 - accuracy: 0.9667\n",
      "Epoch 82/100\n",
      "4/4 [==============================] - 0s 3ms/step - loss: 0.1446 - accuracy: 0.9667\n",
      "Epoch 83/100\n",
      "4/4 [==============================] - 0s 3ms/step - loss: 0.1421 - accuracy: 0.9667\n",
      "Epoch 84/100\n"
     ]
    },
    {
     "name": "stdout",
     "output_type": "stream",
     "text": [
      "4/4 [==============================] - 0s 4ms/step - loss: 0.1394 - accuracy: 0.9667\n",
      "Epoch 85/100\n",
      "4/4 [==============================] - 0s 3ms/step - loss: 0.1374 - accuracy: 0.9667\n",
      "Epoch 86/100\n",
      "4/4 [==============================] - 0s 2ms/step - loss: 0.1346 - accuracy: 0.9667\n",
      "Epoch 87/100\n",
      "4/4 [==============================] - 0s 3ms/step - loss: 0.1328 - accuracy: 0.9667\n",
      "Epoch 88/100\n",
      "4/4 [==============================] - 0s 3ms/step - loss: 0.1315 - accuracy: 0.9667\n",
      "Epoch 89/100\n",
      "4/4 [==============================] - 0s 3ms/step - loss: 0.1285 - accuracy: 0.9667\n",
      "Epoch 90/100\n",
      "4/4 [==============================] - 0s 3ms/step - loss: 0.1293 - accuracy: 0.9667\n",
      "Epoch 91/100\n",
      "4/4 [==============================] - 0s 3ms/step - loss: 0.1304 - accuracy: 0.9667\n",
      "Epoch 92/100\n",
      "4/4 [==============================] - 0s 3ms/step - loss: 0.1271 - accuracy: 0.9667\n",
      "Epoch 93/100\n",
      "4/4 [==============================] - 0s 3ms/step - loss: 0.1243 - accuracy: 0.9667\n",
      "Epoch 94/100\n",
      "4/4 [==============================] - 0s 3ms/step - loss: 0.1222 - accuracy: 0.9667\n",
      "Epoch 95/100\n",
      "4/4 [==============================] - 0s 3ms/step - loss: 0.1201 - accuracy: 0.9667\n",
      "Epoch 96/100\n",
      "4/4 [==============================] - 0s 3ms/step - loss: 0.1208 - accuracy: 0.9667\n",
      "Epoch 97/100\n",
      "4/4 [==============================] - 0s 3ms/step - loss: 0.1181 - accuracy: 0.9667\n",
      "Epoch 98/100\n",
      "4/4 [==============================] - 0s 3ms/step - loss: 0.1170 - accuracy: 0.9667\n",
      "Epoch 99/100\n",
      "4/4 [==============================] - 0s 3ms/step - loss: 0.1157 - accuracy: 0.9667\n",
      "Epoch 100/100\n",
      "4/4 [==============================] - 0s 3ms/step - loss: 0.1147 - accuracy: 0.9667\n"
     ]
    },
    {
     "data": {
      "text/plain": [
       "<keras.callbacks.History at 0x20d84073a00>"
      ]
     },
     "execution_count": 8,
     "metadata": {},
     "output_type": "execute_result"
    }
   ],
   "source": [
    "model.fit(X_train, Y_train, epochs=100)"
   ]
  },
  {
   "cell_type": "code",
   "execution_count": 9,
   "id": "51ed87c8",
   "metadata": {},
   "outputs": [
    {
     "name": "stdout",
     "output_type": "stream",
     "text": [
      "1/1 [==============================] - 0s 79ms/step - loss: 0.0903 - accuracy: 1.0000\n"
     ]
    },
    {
     "data": {
      "text/plain": [
       "[0.09032716602087021, 1.0]"
      ]
     },
     "execution_count": 9,
     "metadata": {},
     "output_type": "execute_result"
    }
   ],
   "source": [
    "# 모델을 평가한다\n",
    "model.evaluate(X_test,Y_test)"
   ]
  },
  {
   "cell_type": "markdown",
   "id": "5a8d2c29",
   "metadata": {},
   "source": [
    "## 4. 모델 추론(Inference)"
   ]
  },
  {
   "cell_type": "code",
   "execution_count": 10,
   "id": "75f23516",
   "metadata": {},
   "outputs": [
    {
     "name": "stdout",
     "output_type": "stream",
     "text": [
      "1/1 [==============================] - 0s 44ms/step\n"
     ]
    },
    {
     "data": {
      "text/plain": [
       "array([2, 1, 0, 2, 0, 2, 0, 1, 1, 1, 2, 1, 1, 1, 1, 0, 1, 1, 0, 0, 2, 1,\n",
       "       0, 0, 2, 0, 0, 1, 1, 0], dtype=int64)"
      ]
     },
     "execution_count": 10,
     "metadata": {},
     "output_type": "execute_result"
    }
   ],
   "source": [
    "# np.argmax : 가장 높은 값의 인덱스 반환\n",
    "(np.argmax(model.predict(X_test), axis=1))"
   ]
  },
  {
   "cell_type": "code",
   "execution_count": 11,
   "id": "0bbfc8c8",
   "metadata": {},
   "outputs": [
    {
     "name": "stdout",
     "output_type": "stream",
     "text": [
      "1/1 [==============================] - 0s 12ms/step\n"
     ]
    },
    {
     "data": {
      "text/plain": [
       "array(['Iris-virginica', 'Iris-versicolor', 'Iris-setosa',\n",
       "       'Iris-virginica', 'Iris-setosa', 'Iris-virginica', 'Iris-setosa',\n",
       "       'Iris-versicolor', 'Iris-versicolor', 'Iris-versicolor',\n",
       "       'Iris-virginica', 'Iris-versicolor', 'Iris-versicolor',\n",
       "       'Iris-versicolor', 'Iris-versicolor', 'Iris-setosa',\n",
       "       'Iris-versicolor', 'Iris-versicolor', 'Iris-setosa', 'Iris-setosa',\n",
       "       'Iris-virginica', 'Iris-versicolor', 'Iris-setosa', 'Iris-setosa',\n",
       "       'Iris-virginica', 'Iris-setosa', 'Iris-setosa', 'Iris-versicolor',\n",
       "       'Iris-versicolor', 'Iris-setosa'], dtype=object)"
      ]
     },
     "execution_count": 11,
     "metadata": {},
     "output_type": "execute_result"
    }
   ],
   "source": [
    "# 숫자형 레이블을 다시 문자형으로 변환\n",
    "label_encoder.inverse_transform(np.argmax(model.predict(X_test),axis=1))"
   ]
  },
  {
   "cell_type": "code",
   "execution_count": null,
   "id": "917e145f",
   "metadata": {
    "scrolled": true
   },
   "outputs": [],
   "source": []
  },
  {
   "cell_type": "code",
   "execution_count": null,
   "id": "528a66d3",
   "metadata": {},
   "outputs": [],
   "source": []
  }
 ],
 "metadata": {
  "kernelspec": {
   "display_name": "Python 3 (ipykernel)",
   "language": "python",
   "name": "python3"
  },
  "language_info": {
   "codemirror_mode": {
    "name": "ipython",
    "version": 3
   },
   "file_extension": ".py",
   "mimetype": "text/x-python",
   "name": "python",
   "nbconvert_exporter": "python",
   "pygments_lexer": "ipython3",
   "version": "3.9.12"
  }
 },
 "nbformat": 4,
 "nbformat_minor": 5
}
