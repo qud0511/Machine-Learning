{
 "cells": [
  {
   "cell_type": "code",
   "execution_count": 1,
   "metadata": {},
   "outputs": [
    {
     "name": "stdout",
     "output_type": "stream",
     "text": [
      "  \n",
      "  *\n",
      "  **\n",
      "  ***\n",
      "  ****\n"
     ]
    }
   ],
   "source": [
    "for i in range(5):\n",
    "    print(' ', '*'*i)"
   ]
  },
  {
   "cell_type": "code",
   "execution_count": 21,
   "metadata": {},
   "outputs": [
    {
     "name": "stdout",
     "output_type": "stream",
     "text": [
      "   \n",
      "  \n",
      " *\n",
      " **\n",
      " ***\n",
      " ****\n",
      " *****\n",
      " ******\n",
      " *******\n",
      " ********\n"
     ]
    }
   ],
   "source": [
    "for i in range(10):\n",
    "    print(' '*(2-i), \"*\"*(i-1))"
   ]
  },
  {
   "cell_type": "code",
   "execution_count": null,
   "metadata": {},
   "outputs": [],
   "source": []
  }
 ],
 "metadata": {
  "kernelspec": {
   "display_name": "Python 3.9.13 ('EV_PY3.9')",
   "language": "python",
   "name": "python3"
  },
  "language_info": {
   "codemirror_mode": {
    "name": "ipython",
    "version": 3
   },
   "file_extension": ".py",
   "mimetype": "text/x-python",
   "name": "python",
   "nbconvert_exporter": "python",
   "pygments_lexer": "ipython3",
   "version": "3.9.13"
  },
  "orig_nbformat": 4,
  "vscode": {
   "interpreter": {
    "hash": "13acb295a180db814dae502e2a918586ebb60545aa897424b0a712f38270c5ef"
   }
  }
 },
 "nbformat": 4,
 "nbformat_minor": 2
}
