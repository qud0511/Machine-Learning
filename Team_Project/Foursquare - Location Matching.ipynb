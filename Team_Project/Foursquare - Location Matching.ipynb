{
 "cells": [
  {
   "cell_type": "code",
   "execution_count": 1,
   "metadata": {},
   "outputs": [],
   "source": [
    "import pandas as pd\n",
    "import numpy as np\n",
    "import matplotlib.pyplot as plt\n",
    "import matplotlib\n",
    "matplotlib.rcParams['font.family'] ='Malgun Gothic'\n",
    "matplotlib.rcParams['axes.unicode_minus'] =False\n",
    "# %matplotlib inline\n",
    "import seaborn as sns\n",
    "import warnings\n",
    "warnings.filterwarnings('ignore') # 경고문자 무시\n",
    "# geopy.distance 좌표 간 거리 계산\n",
    "# import reverse_geocode # 좌표 -> 목적지 -----> 오류\n",
    "from geopy.geocoders import Nominatim # 좌표 -> 목적지(api 가입 X)"
   ]
  },
  {
   "cell_type": "code",
   "execution_count": 2,
   "metadata": {},
   "outputs": [],
   "source": [
    "df_pairs = pd.read_csv('./pairs.csv', encoding='UTF-8', nrows=10000)\n",
    "# sample_submission = pd.read_csv('./test.csv', encoding='utf-8')\n",
    "df_test = pd.read_csv('./test.csv', encoding='UTF-8')\n",
    "df_train = pd.read_csv('./train.csv', encoding='UTF-8', nrows=10000)"
   ]
  },
  {
   "cell_type": "markdown",
   "metadata": {},
   "source": [
    "##### df_train 보기"
   ]
  },
  {
   "cell_type": "code",
   "execution_count": 3,
   "metadata": {},
   "outputs": [
    {
     "name": "stdout",
     "output_type": "stream",
     "text": [
      "(10000, 13)\n"
     ]
    },
    {
     "data": {
      "text/html": [
       "<div>\n",
       "<style scoped>\n",
       "    .dataframe tbody tr th:only-of-type {\n",
       "        vertical-align: middle;\n",
       "    }\n",
       "\n",
       "    .dataframe tbody tr th {\n",
       "        vertical-align: top;\n",
       "    }\n",
       "\n",
       "    .dataframe thead th {\n",
       "        text-align: right;\n",
       "    }\n",
       "</style>\n",
       "<table border=\"1\" class=\"dataframe\">\n",
       "  <thead>\n",
       "    <tr style=\"text-align: right;\">\n",
       "      <th></th>\n",
       "      <th>id</th>\n",
       "      <th>name</th>\n",
       "      <th>latitude</th>\n",
       "      <th>longitude</th>\n",
       "      <th>address</th>\n",
       "      <th>city</th>\n",
       "      <th>state</th>\n",
       "      <th>zip</th>\n",
       "      <th>country</th>\n",
       "      <th>url</th>\n",
       "      <th>phone</th>\n",
       "      <th>categories</th>\n",
       "      <th>point_of_interest</th>\n",
       "    </tr>\n",
       "  </thead>\n",
       "  <tbody>\n",
       "    <tr>\n",
       "      <th>0</th>\n",
       "      <td>E_000001272c6c5d</td>\n",
       "      <td>Café Stad Oudenaarde</td>\n",
       "      <td>50.859975</td>\n",
       "      <td>3.634196</td>\n",
       "      <td>Abdijstraat</td>\n",
       "      <td>Nederename</td>\n",
       "      <td>Oost-Vlaanderen</td>\n",
       "      <td>9700</td>\n",
       "      <td>BE</td>\n",
       "      <td>NaN</td>\n",
       "      <td>NaN</td>\n",
       "      <td>Bars</td>\n",
       "      <td>P_677e840bb6fc7e</td>\n",
       "    </tr>\n",
       "    <tr>\n",
       "      <th>1</th>\n",
       "      <td>E_000002eae2a589</td>\n",
       "      <td>Carioca Manero</td>\n",
       "      <td>-22.907225</td>\n",
       "      <td>-43.178244</td>\n",
       "      <td>NaN</td>\n",
       "      <td>NaN</td>\n",
       "      <td>NaN</td>\n",
       "      <td>NaN</td>\n",
       "      <td>BR</td>\n",
       "      <td>NaN</td>\n",
       "      <td>NaN</td>\n",
       "      <td>Brazilian Restaurants</td>\n",
       "      <td>P_d82910d8382a83</td>\n",
       "    </tr>\n",
       "    <tr>\n",
       "      <th>2</th>\n",
       "      <td>E_000007f24ebc95</td>\n",
       "      <td>ร้านตัดผมการาเกด</td>\n",
       "      <td>13.780813</td>\n",
       "      <td>100.484900</td>\n",
       "      <td>NaN</td>\n",
       "      <td>NaN</td>\n",
       "      <td>NaN</td>\n",
       "      <td>NaN</td>\n",
       "      <td>TH</td>\n",
       "      <td>NaN</td>\n",
       "      <td>NaN</td>\n",
       "      <td>Salons / Barbershops</td>\n",
       "      <td>P_b1066599e78477</td>\n",
       "    </tr>\n",
       "    <tr>\n",
       "      <th>3</th>\n",
       "      <td>E_000008a8ba4f48</td>\n",
       "      <td>Turkcell</td>\n",
       "      <td>37.844510</td>\n",
       "      <td>27.844202</td>\n",
       "      <td>Adnan Menderes Bulvarı</td>\n",
       "      <td>NaN</td>\n",
       "      <td>NaN</td>\n",
       "      <td>NaN</td>\n",
       "      <td>TR</td>\n",
       "      <td>NaN</td>\n",
       "      <td>NaN</td>\n",
       "      <td>Mobile Phone Shops</td>\n",
       "      <td>P_b2ed86905a4cd3</td>\n",
       "    </tr>\n",
       "    <tr>\n",
       "      <th>4</th>\n",
       "      <td>E_00001d92066153</td>\n",
       "      <td>Restaurante Casa Cofiño</td>\n",
       "      <td>43.338196</td>\n",
       "      <td>-4.326821</td>\n",
       "      <td>NaN</td>\n",
       "      <td>Caviedes</td>\n",
       "      <td>Cantabria</td>\n",
       "      <td>NaN</td>\n",
       "      <td>ES</td>\n",
       "      <td>NaN</td>\n",
       "      <td>NaN</td>\n",
       "      <td>Spanish Restaurants</td>\n",
       "      <td>P_809a884d4407fb</td>\n",
       "    </tr>\n",
       "  </tbody>\n",
       "</table>\n",
       "</div>"
      ],
      "text/plain": [
       "                 id                     name   latitude   longitude  \\\n",
       "0  E_000001272c6c5d     Café Stad Oudenaarde  50.859975    3.634196   \n",
       "1  E_000002eae2a589           Carioca Manero -22.907225  -43.178244   \n",
       "2  E_000007f24ebc95         ร้านตัดผมการาเกด  13.780813  100.484900   \n",
       "3  E_000008a8ba4f48                 Turkcell  37.844510   27.844202   \n",
       "4  E_00001d92066153  Restaurante Casa Cofiño  43.338196   -4.326821   \n",
       "\n",
       "                  address        city            state   zip country  url  \\\n",
       "0             Abdijstraat  Nederename  Oost-Vlaanderen  9700      BE  NaN   \n",
       "1                     NaN         NaN              NaN   NaN      BR  NaN   \n",
       "2                     NaN         NaN              NaN   NaN      TH  NaN   \n",
       "3  Adnan Menderes Bulvarı         NaN              NaN   NaN      TR  NaN   \n",
       "4                     NaN    Caviedes        Cantabria   NaN      ES  NaN   \n",
       "\n",
       "  phone             categories point_of_interest  \n",
       "0   NaN                   Bars  P_677e840bb6fc7e  \n",
       "1   NaN  Brazilian Restaurants  P_d82910d8382a83  \n",
       "2   NaN   Salons / Barbershops  P_b1066599e78477  \n",
       "3   NaN     Mobile Phone Shops  P_b2ed86905a4cd3  \n",
       "4   NaN    Spanish Restaurants  P_809a884d4407fb  "
      ]
     },
     "execution_count": 3,
     "metadata": {},
     "output_type": "execute_result"
    }
   ],
   "source": [
    "print(df_train.shape)\n",
    "df_train.head()"
   ]
  },
  {
   "cell_type": "markdown",
   "metadata": {},
   "source": [
    "##### df_pairs 보기"
   ]
  },
  {
   "cell_type": "code",
   "execution_count": 4,
   "metadata": {},
   "outputs": [
    {
     "name": "stdout",
     "output_type": "stream",
     "text": [
      "(10000, 25)\n"
     ]
    },
    {
     "data": {
      "text/html": [
       "<div>\n",
       "<style scoped>\n",
       "    .dataframe tbody tr th:only-of-type {\n",
       "        vertical-align: middle;\n",
       "    }\n",
       "\n",
       "    .dataframe tbody tr th {\n",
       "        vertical-align: top;\n",
       "    }\n",
       "\n",
       "    .dataframe thead th {\n",
       "        text-align: right;\n",
       "    }\n",
       "</style>\n",
       "<table border=\"1\" class=\"dataframe\">\n",
       "  <thead>\n",
       "    <tr style=\"text-align: right;\">\n",
       "      <th></th>\n",
       "      <th>id_1</th>\n",
       "      <th>name_1</th>\n",
       "      <th>latitude_1</th>\n",
       "      <th>longitude_1</th>\n",
       "      <th>address_1</th>\n",
       "      <th>city_1</th>\n",
       "      <th>state_1</th>\n",
       "      <th>zip_1</th>\n",
       "      <th>country_1</th>\n",
       "      <th>url_1</th>\n",
       "      <th>...</th>\n",
       "      <th>longitude_2</th>\n",
       "      <th>address_2</th>\n",
       "      <th>city_2</th>\n",
       "      <th>state_2</th>\n",
       "      <th>zip_2</th>\n",
       "      <th>country_2</th>\n",
       "      <th>url_2</th>\n",
       "      <th>phone_2</th>\n",
       "      <th>categories_2</th>\n",
       "      <th>match</th>\n",
       "    </tr>\n",
       "  </thead>\n",
       "  <tbody>\n",
       "    <tr>\n",
       "      <th>0</th>\n",
       "      <td>E_000001272c6c5d</td>\n",
       "      <td>Café Stad Oudenaarde</td>\n",
       "      <td>50.859975</td>\n",
       "      <td>3.634196</td>\n",
       "      <td>Abdijstraat</td>\n",
       "      <td>Nederename</td>\n",
       "      <td>Oost-Vlaanderen</td>\n",
       "      <td>9700</td>\n",
       "      <td>BE</td>\n",
       "      <td>NaN</td>\n",
       "      <td>...</td>\n",
       "      <td>3.635206</td>\n",
       "      <td>NaN</td>\n",
       "      <td>NaN</td>\n",
       "      <td>NaN</td>\n",
       "      <td>NaN</td>\n",
       "      <td>BE</td>\n",
       "      <td>NaN</td>\n",
       "      <td>NaN</td>\n",
       "      <td>Bars</td>\n",
       "      <td>True</td>\n",
       "    </tr>\n",
       "    <tr>\n",
       "      <th>1</th>\n",
       "      <td>E_000008a8ba4f48</td>\n",
       "      <td>Turkcell</td>\n",
       "      <td>37.844510</td>\n",
       "      <td>27.844202</td>\n",
       "      <td>Adnan Menderes Bulvarı</td>\n",
       "      <td>NaN</td>\n",
       "      <td>NaN</td>\n",
       "      <td>NaN</td>\n",
       "      <td>TR</td>\n",
       "      <td>NaN</td>\n",
       "      <td>...</td>\n",
       "      <td>27.845560</td>\n",
       "      <td>batı aydın</td>\n",
       "      <td>aydın</td>\n",
       "      <td>NaN</td>\n",
       "      <td>67500</td>\n",
       "      <td>TR</td>\n",
       "      <td>NaN</td>\n",
       "      <td>NaN</td>\n",
       "      <td>Electronics Stores</td>\n",
       "      <td>False</td>\n",
       "    </tr>\n",
       "    <tr>\n",
       "      <th>2</th>\n",
       "      <td>E_000023d8f4be44</td>\n",
       "      <td>Island Spa</td>\n",
       "      <td>14.518970</td>\n",
       "      <td>121.018702</td>\n",
       "      <td>5th Flr, Newport Mall, Resorts World Manila</td>\n",
       "      <td>Pasay City</td>\n",
       "      <td>Metro Manila</td>\n",
       "      <td>NaN</td>\n",
       "      <td>PH</td>\n",
       "      <td>NaN</td>\n",
       "      <td>...</td>\n",
       "      <td>121.019827</td>\n",
       "      <td>NaN</td>\n",
       "      <td>NaN</td>\n",
       "      <td>NaN</td>\n",
       "      <td>NaN</td>\n",
       "      <td>PH</td>\n",
       "      <td>NaN</td>\n",
       "      <td>NaN</td>\n",
       "      <td>Spas</td>\n",
       "      <td>True</td>\n",
       "    </tr>\n",
       "    <tr>\n",
       "      <th>3</th>\n",
       "      <td>E_00007dcd2bb53f</td>\n",
       "      <td>TOGO'S Sandwiches</td>\n",
       "      <td>38.257797</td>\n",
       "      <td>-122.064599</td>\n",
       "      <td>1380 Holiday Ln., Ste. B</td>\n",
       "      <td>Fairfield</td>\n",
       "      <td>CA</td>\n",
       "      <td>94534</td>\n",
       "      <td>US</td>\n",
       "      <td>https://locations.togos.com/ll/US/CA/Fairfield...</td>\n",
       "      <td>...</td>\n",
       "      <td>-122.064606</td>\n",
       "      <td>NaN</td>\n",
       "      <td>Fairfield</td>\n",
       "      <td>CA</td>\n",
       "      <td>NaN</td>\n",
       "      <td>US</td>\n",
       "      <td>NaN</td>\n",
       "      <td>NaN</td>\n",
       "      <td>Sandwich Places</td>\n",
       "      <td>True</td>\n",
       "    </tr>\n",
       "    <tr>\n",
       "      <th>4</th>\n",
       "      <td>E_0000c362229d93</td>\n",
       "      <td>Coffee Cat</td>\n",
       "      <td>7.082218</td>\n",
       "      <td>125.610244</td>\n",
       "      <td>F. Torres St.</td>\n",
       "      <td>Davao City</td>\n",
       "      <td>Davao Region</td>\n",
       "      <td>8000</td>\n",
       "      <td>PH</td>\n",
       "      <td>NaN</td>\n",
       "      <td>...</td>\n",
       "      <td>125.611457</td>\n",
       "      <td>E. Jacinto Extension</td>\n",
       "      <td>Davao City</td>\n",
       "      <td>Davao Region</td>\n",
       "      <td>8000</td>\n",
       "      <td>PH</td>\n",
       "      <td>NaN</td>\n",
       "      <td>NaN</td>\n",
       "      <td>Coffee Shops, Cafés, Dessert Shops</td>\n",
       "      <td>False</td>\n",
       "    </tr>\n",
       "  </tbody>\n",
       "</table>\n",
       "<p>5 rows × 25 columns</p>\n",
       "</div>"
      ],
      "text/plain": [
       "               id_1                name_1  latitude_1  longitude_1  \\\n",
       "0  E_000001272c6c5d  Café Stad Oudenaarde   50.859975     3.634196   \n",
       "1  E_000008a8ba4f48              Turkcell   37.844510    27.844202   \n",
       "2  E_000023d8f4be44            Island Spa   14.518970   121.018702   \n",
       "3  E_00007dcd2bb53f     TOGO'S Sandwiches   38.257797  -122.064599   \n",
       "4  E_0000c362229d93            Coffee Cat    7.082218   125.610244   \n",
       "\n",
       "                                     address_1      city_1          state_1  \\\n",
       "0                                  Abdijstraat  Nederename  Oost-Vlaanderen   \n",
       "1                       Adnan Menderes Bulvarı         NaN              NaN   \n",
       "2  5th Flr, Newport Mall, Resorts World Manila  Pasay City     Metro Manila   \n",
       "3                     1380 Holiday Ln., Ste. B   Fairfield               CA   \n",
       "4                                F. Torres St.  Davao City     Davao Region   \n",
       "\n",
       "   zip_1 country_1                                              url_1  ...  \\\n",
       "0   9700        BE                                                NaN  ...   \n",
       "1    NaN        TR                                                NaN  ...   \n",
       "2    NaN        PH                                                NaN  ...   \n",
       "3  94534        US  https://locations.togos.com/ll/US/CA/Fairfield...  ...   \n",
       "4   8000        PH                                                NaN  ...   \n",
       "\n",
       "  longitude_2             address_2      city_2       state_2  zip_2  \\\n",
       "0    3.635206                   NaN         NaN           NaN    NaN   \n",
       "1   27.845560            batı aydın       aydın           NaN  67500   \n",
       "2  121.019827                   NaN         NaN           NaN    NaN   \n",
       "3 -122.064606                   NaN   Fairfield            CA    NaN   \n",
       "4  125.611457  E. Jacinto Extension  Davao City  Davao Region   8000   \n",
       "\n",
       "   country_2 url_2 phone_2                        categories_2  match  \n",
       "0         BE   NaN     NaN                                Bars   True  \n",
       "1         TR   NaN     NaN                  Electronics Stores  False  \n",
       "2         PH   NaN     NaN                                Spas   True  \n",
       "3         US   NaN     NaN                     Sandwich Places   True  \n",
       "4         PH   NaN     NaN  Coffee Shops, Cafés, Dessert Shops  False  \n",
       "\n",
       "[5 rows x 25 columns]"
      ]
     },
     "execution_count": 4,
     "metadata": {},
     "output_type": "execute_result"
    }
   ],
   "source": [
    "print(df_pairs.shape)\n",
    "df_pairs.head()"
   ]
  },
  {
   "cell_type": "markdown",
   "metadata": {},
   "source": [
    "##### df_test 보기"
   ]
  },
  {
   "cell_type": "code",
   "execution_count": 5,
   "metadata": {},
   "outputs": [
    {
     "name": "stdout",
     "output_type": "stream",
     "text": [
      "(5, 12)\n",
      "                 id                                      name   latitude  \\\n",
      "0  E_00001118ad0191                   Jamu Petani Bagan Serai   5.012169   \n",
      "1  E_000020eb6fed40                              Johnny's Bar  40.434209   \n",
      "2  E_00002f98667edf                                      QIWI  47.215134   \n",
      "3  E_001b6bad66eb98  Gelora Sriwijaya, Jaka Baring Sport City  -3.014675   \n",
      "4  E_0283d9f61e569d                  Stadion Gelora Sriwijaya  -3.021727   \n",
      "\n",
      "    longitude                       address            city          state  \\\n",
      "0  100.535805                           NaN             NaN            NaN   \n",
      "1  -80.564160                 497 N 12th St         Weirton             WV   \n",
      "2   39.686088             Межевая улица, 60  Ростов-на-Дону            NaN   \n",
      "3  104.794374                           NaN             NaN            NaN   \n",
      "4  104.788628  Jalan Gubernur Hasan Bastari       Palembang  South Sumatra   \n",
      "\n",
      "       zip country               url         phone       categories  \n",
      "0      NaN      MY               NaN           NaN            Cafés  \n",
      "1  26062.0      US               NaN           NaN             Bars  \n",
      "2      NaN      RU  https://qiwi.com  7.800301e+10             ATMs  \n",
      "3      NaN      ID               NaN           NaN         Stadiums  \n",
      "4  11480.0      ID               NaN           NaN  Soccer Stadiums  \n"
     ]
    }
   ],
   "source": [
    "print(df_test.shape)\n",
    "print(df_test.head())"
   ]
  },
  {
   "cell_type": "markdown",
   "metadata": {},
   "source": [
    "#### 어느 나라의 location이 가장 높은가\n",
    "- 미국"
   ]
  },
  {
   "cell_type": "code",
   "execution_count": 6,
   "metadata": {},
   "outputs": [
    {
     "data": {
      "image/png": "[encoded data removed]",
      "text/plain": [
       "<Figure size 432x288 with 1 Axes>"
      ]
     },
     "metadata": {
      "needs_background": "light"
     },
     "output_type": "display_data"
    }
   ],
   "source": [
    "country = df_train['country'].value_counts()*100 / df_train['country'].value_counts().sum() # 비율로 보기\n",
    "country = country.head(10) # 상위 10개까지만\n",
    "\n",
    "plt.figure()\n",
    "color = ['skyblue'] * len(country.index)\n",
    "color[0] = 'hotpink'\n",
    "sns.barplot(x=country.index, y=country.values, palette=color, saturation=0.7)\n",
    "plt.xlabel('Percentage')\n",
    "plt.ylabel('country')\n",
    "plt.title('어느 나라?')\n",
    "plt.show()\n"
   ]
  },
  {
   "cell_type": "markdown",
   "metadata": {},
   "source": [
    "#### 미국 내 loaction이 높은 주?\n",
    "- 캘리포니아"
   ]
  },
  {
   "cell_type": "code",
   "execution_count": 7,
   "metadata": {},
   "outputs": [
    {
     "data": {
      "image/png": "[encoded data removed]",
      "text/plain": [
       "<Figure size 432x288 with 1 Axes>"
      ]
     },
     "metadata": {
      "needs_background": "light"
     },
     "output_type": "display_data"
    }
   ],
   "source": [
    "state = df_train[df_train['country']=='US']['state'].value_counts()*100 / df_train[df_train['country']=='US']['state'].value_counts().sum()\n",
    "state = state.head(10)\n",
    "\n",
    "plt.figure()\n",
    "color=[\"skyblue\"] * len(state.index)\n",
    "color[0]=\"hotpink\"\n",
    "sns.barplot(x=state.index, y=state.values, palette=color, saturation=0.7)\n",
    "plt.xlabel('State')\n",
    "plt.ylabel('Percentage')\n",
    "plt.title(\"어느 주?\")\n",
    "plt.show()"
   ]
  },
  {
   "cell_type": "markdown",
   "metadata": {},
   "source": [
    "#### 어떤 카테고리?\n",
    "- 주거용 건물(아파트/콘도)"
   ]
  },
  {
   "cell_type": "code",
   "execution_count": 8,
   "metadata": {},
   "outputs": [
    {
     "data": {
      "image/png": "[encoded data removed]",
      "text/plain": [
       "<Figure size 432x288 with 1 Axes>"
      ]
     },
     "metadata": {
      "needs_background": "light"
     },
     "output_type": "display_data"
    }
   ],
   "source": [
    "category = df_train['categories'].value_counts()*100 / df_train['categories'].value_counts().sum()\n",
    "category = category.head(10)\n",
    "\n",
    "plt.figure()\n",
    "color = [\"skyblue\"] * len(category.index)\n",
    "color[0] = \"hotpink\"\n",
    "sns.barplot(x=category.index, y=category.values, palette=color, saturation=0.7)\n",
    "plt.xticks(rotation=90)\n",
    "plt.xlabel('category')\n",
    "plt.ylabel('Percentage')\n",
    "plt.title(\"어느 카테고리?\")\n",
    "plt.show()"
   ]
  },
  {
   "cell_type": "code",
   "execution_count": 9,
   "metadata": {},
   "outputs": [
    {
     "data": {
      "image/png": "[encoded data removed]",
      "text/plain": [
       "<Figure size 1080x360 with 2 Axes>"
      ]
     },
     "metadata": {
      "needs_background": "light"
     },
     "output_type": "display_data"
    }
   ],
   "source": [
    "\n",
    "\n",
    "# 피쳐 별 잃어버린 값의 개수 그래프로\n",
    "fig, axs = plt.subplots(1, 2, figsize=(15, 5))\n",
    "df_train.isna().mean().sort_values(ascending=False).plot(\n",
    "    kind=\"bar\", title=\"Missing Values by Feature\", ax=axs[0]\n",
    ")\n",
    "axs[0].set_ylabel(\"퍼센트, 결측치 수\")\n",
    "\n",
    "# 각 행마다 잃어버린 값이 몇 개인지 카운트해보기\n",
    "df_train.isna().sum(axis=1).value_counts().sort_index().plot(\n",
    "    ax=axs[1], title=\"Missing Values by Observation\", kind=\"bar\", color='red'\n",
    ")\n",
    "\n",
    "axs[1].set_xlabel(\"결측치를 가진 Features들의 수\")\n",
    "axs[1].set_ylabel(\"\")\n",
    "plt.xticks(rotation=0)\n",
    "plt.show()"
   ]
  },
  {
   "cell_type": "markdown",
   "metadata": {},
   "source": [
    "## 데이터 전처리"
   ]
  },
  {
   "cell_type": "code",
   "execution_count": 10,
   "metadata": {},
   "outputs": [],
   "source": [
    "# 소문자로\n",
    "def Str_lower(df : pd.DataFrame):\n",
    "    for c in df.columns:\n",
    "        df[c] = df[c].fillna('').astype(str).apply(lambda x:x.lower())\n",
    "\n",
    "Str_lower(df_train)\n",
    "Str_lower(df_pairs)\n",
    "Str_lower(df_test)"
   ]
  },
  {
   "cell_type": "code",
   "execution_count": 11,
   "metadata": {},
   "outputs": [],
   "source": [
    "# 빈 칸을 결측치로\n",
    "def Replace_missing(df : pd.DataFrame):\n",
    "    for c in df.columns:\n",
    "        df[c] =  df[c].replace('', np.nan)\n",
    "\n",
    "Replace_missing(df_train)\n",
    "Replace_missing(df_pairs)\n",
    "Replace_missing(df_test)"
   ]
  },
  {
   "cell_type": "code",
   "execution_count": 12,
   "metadata": {},
   "outputs": [],
   "source": [
    "# object를 category로 형변환\n",
    "def OtC(df : pd.DataFrame):\n",
    "    for c in df.columns:\n",
    "        if df[c].dtype == 'O':\n",
    "            df[c] = df[c].astype('category')\n",
    "\n",
    "OtC(df_train)\n",
    "OtC(df_pairs)\n",
    "OtC(df_test)"
   ]
  },
  {
   "cell_type": "code",
   "execution_count": 13,
   "metadata": {
    "vscode": {
     "languageId": "ruby"
    }
   },
   "outputs": [],
   "source": [
    "df_train['lat_long_coords'] = df_train['latitude'].astype(str) + ', ' + df_train['longitude'].astype(str)\n",
    "df_pairs['lat_long_coords_1'] = df_pairs['latitude_1'].astype(str) + ', ' + df_pairs['longitude_1'].astype(str)\n",
    "df_pairs['lat_long_coords_2'] = df_pairs['latitude_2'].astype(str) + ', ' + df_pairs['longitude_2'].astype(str)"
   ]
  },
  {
   "cell_type": "code",
   "execution_count": 14,
   "metadata": {},
   "outputs": [],
   "source": [
    "# 장소(좌표)별 국가\n",
    "def geo_reverse_country(list): \n",
    "    geolocoder = Nominatim(user_agent = 'World', timeout=None)\n",
    "    country_list=[]\n",
    "    for i in list:\n",
    "        \n",
    "        address = geolocoder.reverse(i, zoom=1)\n",
    "        country_list.append(address[0])\n",
    "    return country_list\n"
   ]
  },
  {
   "cell_type": "code",
   "execution_count": 15,
   "metadata": {},
   "outputs": [],
   "source": [
    "# df_train['country_code'] = df_train['lat_long_coords']"
   ]
  },
  {
   "cell_type": "code",
   "execution_count": 16,
   "metadata": {},
   "outputs": [],
   "source": [
    "# geolocoder = Nominatim(user_agent = 'World', timeout=None)\n",
    "\n",
    "# country_list=[]\n",
    "# for j in df_train['lat_long_coords']:\n",
    "#     country_list.append(geolocoder.reverse(j, zoom=1))\n",
    "#     # country_list = pd.DataFrame(country_list)\n",
    "#     df_train['country_code'] = pd.DataFrame(country_list)\n",
    "\n",
    "# df_train\n",
    "#     # df_pairs['country_code_1'] = geo_reverse_country(list(df_pairs['lat_long_coords_1']))\n",
    "#     # df_pairs['country_code_2'] = geo_reverse_country(list(df_pairs['lat_long_coords_2']))"
   ]
  },
  {
   "cell_type": "code",
   "execution_count": 17,
   "metadata": {},
   "outputs": [],
   "source": [
    "# 장소(좌표)별 도시\n",
    "# def geo_reverse_city(list): \n",
    "#     geolocoder = Nominatim(user_agent = 'World', timeout=None)\n",
    "#     city_list=[]\n",
    "#     for i in list:\n",
    "#         address = geolocoder.reverse(i, zoom=5)\n",
    "#         city_list.append(address[1])\n",
    "#     return city_list"
   ]
  },
  {
   "cell_type": "code",
   "execution_count": 18,
   "metadata": {},
   "outputs": [],
   "source": [
    "# OtC(df_train)\n",
    "# OtC(df_pairs)\n",
    "\n",
    "# Str_lower(df_train)\n",
    "# Str_lower(df_pairs)"
   ]
  },
  {
   "cell_type": "markdown",
   "metadata": {},
   "source": [
    "### 분석"
   ]
  },
  {
   "cell_type": "code",
   "execution_count": 19,
   "metadata": {},
   "outputs": [],
   "source": [
    "from sklearn.metrics import accuracy_score, classification_report,confusion_matrix\n",
    "# import tensorflow as tf\n",
    "# from tensorflow import keras\n",
    "# from tensorflow.keras import layers\n",
    "# from tensorflow.keras.models import Sequential\n",
    "# from tensorflow.keras.layers import Dense\n",
    "# import tensorflow as tf\n",
    "\n",
    "from sklearn.model_selection import train_test_split\n",
    "from sklearn.ensemble import RandomForestClassifier\n",
    "from sklearn.model_selection import cross_validate\n",
    "from sklearn.utils import all_estimators"
   ]
  },
  {
   "cell_type": "code",
   "execution_count": 20,
   "metadata": {},
   "outputs": [],
   "source": [
    "df_pairs['match']= df_pairs['match'].cat.codes # Categorical 데이터를 Numerical 로 변환\n",
    "df_pairs['categories_1']= df_pairs['categories_1'].cat.codes\n",
    "df_pairs['categories_2']= df_pairs['categories_2'].cat.codes\n",
    "\n",
    "Y = df_pairs[['latitude_1', 'longitude_1', \n",
    "'latitude_2', 'longitude_2', 'categories_1', 'categories_2', 'match']]\n",
    "\n",
    "Y['latitude_1']= Y['latitude_1'].astype(np.float)\n",
    "Y['longitude_1']= Y['longitude_1'].astype(np.float)\n",
    "Y['latitude_2']= Y['latitude_2'].astype(np.float)\n",
    "Y['longitude_2']= Y['longitude_2'].astype(np.float)"
   ]
  },
  {
   "cell_type": "code",
   "execution_count": 24,
   "metadata": {},
   "outputs": [],
   "source": [
    "train_X, test_X = train_test_split(df_train, test_size=0.2, random_state=42)\n",
    "\n",
    "train_y, test_y = train_test_split(Y, test_size=0.2, random_state=42)"
   ]
  },
  {
   "cell_type": "code",
   "execution_count": 25,
   "metadata": {},
   "outputs": [
    {
     "data": {
      "text/plain": [
       "[]"
      ]
     },
     "execution_count": 25,
     "metadata": {},
     "output_type": "execute_result"
    }
   ],
   "source": [
    "# 적합한 모델 찾기\n",
    "scores_list=[]\n",
    "models = all_estimators(type_filter='classifier')\n",
    "\n",
    "for name, model in models:\n",
    "    try:\n",
    "        # 모델 객체를 생성\n",
    "        md = model()\n",
    "        # 학습\n",
    "        md.fit(train_X, train_y)\n",
    "        # 평가\n",
    "        model_score = md.score(test_X, test_y)\n",
    "        scores_list.append((name, np.round(model_score, 4)))\n",
    "    except:\n",
    "        pass\n",
    "\n",
    "scores_list"
   ]
  },
  {
   "cell_type": "code",
   "execution_count": 23,
   "metadata": {},
   "outputs": [
    {
     "ename": "ValueError",
     "evalue": "could not convert string to float: 'e_02199551048c36'",
     "output_type": "error",
     "traceback": [
      "\u001b[1;31m---------------------------------------------------------------------------\u001b[0m",
      "\u001b[1;31mValueError\u001b[0m                                Traceback (most recent call last)",
      "\u001b[1;32mc:\\Git_bbj\\Machine-Learning\\Team_Project\\Foursquare - Location Matching.ipynb 셀 31\u001b[0m in \u001b[0;36m<cell line: 6>\u001b[1;34m()\u001b[0m\n\u001b[0;32m      <a href='vscode-notebook-cell:/c%3A/Git_bbj/Machine-Learning/Team_Project/Foursquare%20-%20Location%20Matching.ipynb#X35sZmlsZQ%3D%3D?line=3'>4</a>\u001b[0m \u001b[39m# 모델 생성\u001b[39;00m\n\u001b[0;32m      <a href='vscode-notebook-cell:/c%3A/Git_bbj/Machine-Learning/Team_Project/Foursquare%20-%20Location%20Matching.ipynb#X35sZmlsZQ%3D%3D?line=4'>5</a>\u001b[0m forest_model \u001b[39m=\u001b[39m RandomForestClassifier(max_depth\u001b[39m=\u001b[39m\u001b[39m5\u001b[39m, oob_score\u001b[39m=\u001b[39m\u001b[39mTrue\u001b[39;00m)\n\u001b[1;32m----> <a href='vscode-notebook-cell:/c%3A/Git_bbj/Machine-Learning/Team_Project/Foursquare%20-%20Location%20Matching.ipynb#X35sZmlsZQ%3D%3D?line=5'>6</a>\u001b[0m forest_model\u001b[39m.\u001b[39;49mfit(train_X, train_y)\n\u001b[0;32m      <a href='vscode-notebook-cell:/c%3A/Git_bbj/Machine-Learning/Team_Project/Foursquare%20-%20Location%20Matching.ipynb#X35sZmlsZQ%3D%3D?line=6'>7</a>\u001b[0m \u001b[39m# 모델 평가\u001b[39;00m\n\u001b[0;32m      <a href='vscode-notebook-cell:/c%3A/Git_bbj/Machine-Learning/Team_Project/Foursquare%20-%20Location%20Matching.ipynb#X35sZmlsZQ%3D%3D?line=7'>8</a>\u001b[0m \u001b[39mprint\u001b[39m(\u001b[39m'\u001b[39m\u001b[39mtrain score : \u001b[39m\u001b[39m'\u001b[39m, forest_model\u001b[39m.\u001b[39mscore(train_X, train_y))\n",
      "File \u001b[1;32mc:\\ProgramData\\Anaconda3\\lib\\site-packages\\sklearn\\ensemble\\_forest.py:327\u001b[0m, in \u001b[0;36mBaseForest.fit\u001b[1;34m(self, X, y, sample_weight)\u001b[0m\n\u001b[0;32m    325\u001b[0m \u001b[39mif\u001b[39;00m issparse(y):\n\u001b[0;32m    326\u001b[0m     \u001b[39mraise\u001b[39;00m \u001b[39mValueError\u001b[39;00m(\u001b[39m\"\u001b[39m\u001b[39msparse multilabel-indicator for y is not supported.\u001b[39m\u001b[39m\"\u001b[39m)\n\u001b[1;32m--> 327\u001b[0m X, y \u001b[39m=\u001b[39m \u001b[39mself\u001b[39;49m\u001b[39m.\u001b[39;49m_validate_data(\n\u001b[0;32m    328\u001b[0m     X, y, multi_output\u001b[39m=\u001b[39;49m\u001b[39mTrue\u001b[39;49;00m, accept_sparse\u001b[39m=\u001b[39;49m\u001b[39m\"\u001b[39;49m\u001b[39mcsc\u001b[39;49m\u001b[39m\"\u001b[39;49m, dtype\u001b[39m=\u001b[39;49mDTYPE\n\u001b[0;32m    329\u001b[0m )\n\u001b[0;32m    330\u001b[0m \u001b[39mif\u001b[39;00m sample_weight \u001b[39mis\u001b[39;00m \u001b[39mnot\u001b[39;00m \u001b[39mNone\u001b[39;00m:\n\u001b[0;32m    331\u001b[0m     sample_weight \u001b[39m=\u001b[39m _check_sample_weight(sample_weight, X)\n",
      "File \u001b[1;32mc:\\ProgramData\\Anaconda3\\lib\\site-packages\\sklearn\\base.py:581\u001b[0m, in \u001b[0;36mBaseEstimator._validate_data\u001b[1;34m(self, X, y, reset, validate_separately, **check_params)\u001b[0m\n\u001b[0;32m    579\u001b[0m         y \u001b[39m=\u001b[39m check_array(y, \u001b[39m*\u001b[39m\u001b[39m*\u001b[39mcheck_y_params)\n\u001b[0;32m    580\u001b[0m     \u001b[39melse\u001b[39;00m:\n\u001b[1;32m--> 581\u001b[0m         X, y \u001b[39m=\u001b[39m check_X_y(X, y, \u001b[39m*\u001b[39m\u001b[39m*\u001b[39mcheck_params)\n\u001b[0;32m    582\u001b[0m     out \u001b[39m=\u001b[39m X, y\n\u001b[0;32m    584\u001b[0m \u001b[39mif\u001b[39;00m \u001b[39mnot\u001b[39;00m no_val_X \u001b[39mand\u001b[39;00m check_params\u001b[39m.\u001b[39mget(\u001b[39m\"\u001b[39m\u001b[39mensure_2d\u001b[39m\u001b[39m\"\u001b[39m, \u001b[39mTrue\u001b[39;00m):\n",
      "File \u001b[1;32mc:\\ProgramData\\Anaconda3\\lib\\site-packages\\sklearn\\utils\\validation.py:964\u001b[0m, in \u001b[0;36mcheck_X_y\u001b[1;34m(X, y, accept_sparse, accept_large_sparse, dtype, order, copy, force_all_finite, ensure_2d, allow_nd, multi_output, ensure_min_samples, ensure_min_features, y_numeric, estimator)\u001b[0m\n\u001b[0;32m    961\u001b[0m \u001b[39mif\u001b[39;00m y \u001b[39mis\u001b[39;00m \u001b[39mNone\u001b[39;00m:\n\u001b[0;32m    962\u001b[0m     \u001b[39mraise\u001b[39;00m \u001b[39mValueError\u001b[39;00m(\u001b[39m\"\u001b[39m\u001b[39my cannot be None\u001b[39m\u001b[39m\"\u001b[39m)\n\u001b[1;32m--> 964\u001b[0m X \u001b[39m=\u001b[39m check_array(\n\u001b[0;32m    965\u001b[0m     X,\n\u001b[0;32m    966\u001b[0m     accept_sparse\u001b[39m=\u001b[39;49maccept_sparse,\n\u001b[0;32m    967\u001b[0m     accept_large_sparse\u001b[39m=\u001b[39;49maccept_large_sparse,\n\u001b[0;32m    968\u001b[0m     dtype\u001b[39m=\u001b[39;49mdtype,\n\u001b[0;32m    969\u001b[0m     order\u001b[39m=\u001b[39;49morder,\n\u001b[0;32m    970\u001b[0m     copy\u001b[39m=\u001b[39;49mcopy,\n\u001b[0;32m    971\u001b[0m     force_all_finite\u001b[39m=\u001b[39;49mforce_all_finite,\n\u001b[0;32m    972\u001b[0m     ensure_2d\u001b[39m=\u001b[39;49mensure_2d,\n\u001b[0;32m    973\u001b[0m     allow_nd\u001b[39m=\u001b[39;49mallow_nd,\n\u001b[0;32m    974\u001b[0m     ensure_min_samples\u001b[39m=\u001b[39;49mensure_min_samples,\n\u001b[0;32m    975\u001b[0m     ensure_min_features\u001b[39m=\u001b[39;49mensure_min_features,\n\u001b[0;32m    976\u001b[0m     estimator\u001b[39m=\u001b[39;49mestimator,\n\u001b[0;32m    977\u001b[0m )\n\u001b[0;32m    979\u001b[0m y \u001b[39m=\u001b[39m _check_y(y, multi_output\u001b[39m=\u001b[39mmulti_output, y_numeric\u001b[39m=\u001b[39my_numeric)\n\u001b[0;32m    981\u001b[0m check_consistent_length(X, y)\n",
      "File \u001b[1;32mc:\\ProgramData\\Anaconda3\\lib\\site-packages\\sklearn\\utils\\validation.py:746\u001b[0m, in \u001b[0;36mcheck_array\u001b[1;34m(array, accept_sparse, accept_large_sparse, dtype, order, copy, force_all_finite, ensure_2d, allow_nd, ensure_min_samples, ensure_min_features, estimator)\u001b[0m\n\u001b[0;32m    744\u001b[0m         array \u001b[39m=\u001b[39m array\u001b[39m.\u001b[39mastype(dtype, casting\u001b[39m=\u001b[39m\u001b[39m\"\u001b[39m\u001b[39munsafe\u001b[39m\u001b[39m\"\u001b[39m, copy\u001b[39m=\u001b[39m\u001b[39mFalse\u001b[39;00m)\n\u001b[0;32m    745\u001b[0m     \u001b[39melse\u001b[39;00m:\n\u001b[1;32m--> 746\u001b[0m         array \u001b[39m=\u001b[39m np\u001b[39m.\u001b[39;49masarray(array, order\u001b[39m=\u001b[39;49morder, dtype\u001b[39m=\u001b[39;49mdtype)\n\u001b[0;32m    747\u001b[0m \u001b[39mexcept\u001b[39;00m ComplexWarning \u001b[39mas\u001b[39;00m complex_warning:\n\u001b[0;32m    748\u001b[0m     \u001b[39mraise\u001b[39;00m \u001b[39mValueError\u001b[39;00m(\n\u001b[0;32m    749\u001b[0m         \u001b[39m\"\u001b[39m\u001b[39mComplex data not supported\u001b[39m\u001b[39m\\n\u001b[39;00m\u001b[39m{}\u001b[39;00m\u001b[39m\\n\u001b[39;00m\u001b[39m\"\u001b[39m\u001b[39m.\u001b[39mformat(array)\n\u001b[0;32m    750\u001b[0m     ) \u001b[39mfrom\u001b[39;00m \u001b[39mcomplex_warning\u001b[39;00m\n",
      "\u001b[1;31mValueError\u001b[0m: could not convert string to float: 'e_02199551048c36'"
     ]
    }
   ],
   "source": [
    "train_X = np.array(train_X)\n",
    "train_y = np.array(train_y)\n",
    "\n",
    "# 모델 생성\n",
    "forest_model = RandomForestClassifier(max_depth=5, oob_score=True)\n",
    "forest_model.fit(train_X, train_y)\n",
    "# 모델 평가\n",
    "print('train score : ', forest_model.score(train_X, train_y))\n",
    "print('test score : ', forest_model.score(test_X, test_y))\n",
    "print('oob_score_ : ', forest_model.oob_score_)"
   ]
  },
  {
   "cell_type": "code",
   "execution_count": null,
   "metadata": {},
   "outputs": [],
   "source": [
    "# 교차 검증 후 평가점수 확인\n",
    "result = cross_validate(forest_model, df_train, X, return_train_score=True, cv=3)\n",
    "print(result)\n",
    "print(result['test_score'].mean())"
   ]
  },
  {
   "cell_type": "code",
   "execution_count": null,
   "metadata": {},
   "outputs": [],
   "source": []
  }
 ],
 "metadata": {
  "kernelspec": {
   "display_name": "Python 3.9.12 ('base')",
   "language": "python",
   "name": "python3"
  },
  "language_info": {
   "codemirror_mode": {
    "name": "ipython",
    "version": 3
   },
   "file_extension": ".py",
   "mimetype": "text/x-python",
   "name": "python",
   "nbconvert_exporter": "python",
   "pygments_lexer": "ipython3",
   "version": "3.9.12"
  },
  "orig_nbformat": 4,
  "vscode": {
   "interpreter": {
    "hash": "ad2bdc8ecc057115af97d19610ffacc2b4e99fae6737bb82f5d7fb13d2f2c186"
   }
  }
 },
 "nbformat": 4,
 "nbformat_minor": 2
}
