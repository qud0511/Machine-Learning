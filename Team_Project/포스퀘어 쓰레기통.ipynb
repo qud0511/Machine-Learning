{
 "cells": [
  {
   "cell_type": "code",
   "execution_count": null,
   "metadata": {},
   "outputs": [],
   "source": [
    "# # 장소(좌표)별 국가, 도시 이름\n",
    "# def geocoding_reverse(list): \n",
    "#     geolocoder = Nominatim(user_agent = 'World', timeout=None)\n",
    "#     addr_list=[]\n",
    "#     country_list=[]\n",
    "#     city_list=[]\n",
    "#     for i in list:\n",
    "#         address = geolocoder.reverse(i)\n",
    "#         addr_list.append(address)\n",
    "#         country_list=addr_list[0][0].split('/')[-1]\n",
    "#         city_list=addr_list[0][0].split('/')[-2]\n",
    "#     return country_list, city_list\n",
    "\n",
    "# df_train['country_code'] = geocoding_reverse(list(df_train['lat_long_coords'])[:3])[0]\n",
    "# df_train['city_code'] =geocoding_reverse(list(df_train['lat_long_coords'])[:3])[1]\n",
    "\n",
    "# df_pairs['country_code_1'] = geocoding_reverse(list(df_pairs['lat_long_coords_1'])[:3])[0]\n",
    "# df_pairs['city_code_1'] = geocoding_reverse(list(df_pairs['lat_long_coords_1'])[:3])[1]\n",
    "\n",
    "# df_pairs['country_code_2'] = geocoding_reverse(list(df_pairs['lat_long_coords_2'])[:3])[0]\n",
    "# df_pairs['city_code_2'] = geocoding_reverse(list(df_pairs['lat_long_coords_2'])[:3])[1]\n"
   ]
  }
 ],
 "metadata": {
  "language_info": {
   "name": "python"
  },
  "orig_nbformat": 4
 },
 "nbformat": 4,
 "nbformat_minor": 2
}
