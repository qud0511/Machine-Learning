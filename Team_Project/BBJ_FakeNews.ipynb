{
 "cells": [
  {
   "cell_type": "markdown",
   "id": "9c63aea3-078c-42ff-b296-8e20ebd4d360",
   "metadata": {},
   "source": [
    "- 레스토랑 리뷰 감성 분류하기 :\n",
    "https://github.com/rickiepark/nlp-with-pytorch/blob/main/chapter_3/3_5_Classifying_Yelp_Review_Sentiment.ipynb\n",
    "\n",
    "- NLP using GloVe Embeddings(FAKE NEWS) : \n",
    "https://www.kaggle.com/code/madz2000/nlp-using-glove-embeddings-99-87-accuracy\n",
    "- https://www.kaggle.com/code/lorwohl/fake-news-detection"
   ]
  },
  {
   "cell_type": "code",
   "execution_count": 47,
   "id": "ad238e88-41cc-44dd-bbe2-7a858ad24309",
   "metadata": {},
   "outputs": [],
   "source": [
    "# 모듈 로딩\n",
    "import numpy as np\n",
    "import pandas as pd\n",
    "import re\n",
    "from string import punctuation\n",
    "\n",
    "import seaborn as sns\n",
    "import matplotlib.pyplot as plt\n",
    "\n",
    "import nltk\n",
    "from nltk.corpus import stopwords\n",
    "from wordcloud import WordCloud, STOPWORDS\n",
    "from nltk.tokenize import word_tokenize, sent_tokenize\n",
    "\n",
    "\n",
    "from sklearn.metrics import classification_report, confusion_matrix, accuracy_score\n",
    "from sklearn.model_selection import train_test_split\n",
    "\n",
    "from tensorflow.keras.preprocessing.text import Tokenizer # used to tokenize text sequences\n",
    "from tensorflow.keras.preprocessing.sequence import pad_sequences # padding sequences to the same length\n",
    "from tensorflow.keras.models import Sequential # building sequential models like FF layers in the transformer encoder\n",
    "from tensorflow.keras.layers import Dense,Embedding # used for parts of the transformer encoder"
   ]
  },
  {
   "cell_type": "markdown",
   "id": "df23a0ac-cc8a-445d-9157-1740fe407a02",
   "metadata": {},
   "source": [
    "### [1] 데이터 보기"
   ]
  },
  {
   "cell_type": "code",
   "execution_count": 50,
   "id": "b69b6f28-801e-4d60-b150-0f173ab88c50",
   "metadata": {},
   "outputs": [],
   "source": [
    "real = pd.read_csv(\"./True.csv\")\n",
    "fake = pd.read_csv(\"./Fake.csv\")"
   ]
  },
  {
   "cell_type": "code",
   "execution_count": 51,
   "id": "3f56c9c0-b38f-4eb4-9a93-d1048537c9ae",
   "metadata": {},
   "outputs": [
    {
     "data": {
      "text/html": [
       "<div>\n",
       "<style scoped>\n",
       "    .dataframe tbody tr th:only-of-type {\n",
       "        vertical-align: middle;\n",
       "    }\n",
       "\n",
       "    .dataframe tbody tr th {\n",
       "        vertical-align: top;\n",
       "    }\n",
       "\n",
       "    .dataframe thead th {\n",
       "        text-align: right;\n",
       "    }\n",
       "</style>\n",
       "<table border=\"1\" class=\"dataframe\">\n",
       "  <thead>\n",
       "    <tr style=\"text-align: right;\">\n",
       "      <th></th>\n",
       "      <th>title</th>\n",
       "      <th>text</th>\n",
       "      <th>subject</th>\n",
       "      <th>date</th>\n",
       "    </tr>\n",
       "  </thead>\n",
       "  <tbody>\n",
       "    <tr>\n",
       "      <th>0</th>\n",
       "      <td>As U.S. budget fight looms, Republicans flip t...</td>\n",
       "      <td>WASHINGTON (Reuters) - The head of a conservat...</td>\n",
       "      <td>politicsNews</td>\n",
       "      <td>December 31, 2017</td>\n",
       "    </tr>\n",
       "    <tr>\n",
       "      <th>1</th>\n",
       "      <td>U.S. military to accept transgender recruits o...</td>\n",
       "      <td>WASHINGTON (Reuters) - Transgender people will...</td>\n",
       "      <td>politicsNews</td>\n",
       "      <td>December 29, 2017</td>\n",
       "    </tr>\n",
       "    <tr>\n",
       "      <th>2</th>\n",
       "      <td>Senior U.S. Republican senator: 'Let Mr. Muell...</td>\n",
       "      <td>WASHINGTON (Reuters) - The special counsel inv...</td>\n",
       "      <td>politicsNews</td>\n",
       "      <td>December 31, 2017</td>\n",
       "    </tr>\n",
       "    <tr>\n",
       "      <th>3</th>\n",
       "      <td>FBI Russia probe helped by Australian diplomat...</td>\n",
       "      <td>WASHINGTON (Reuters) - Trump campaign adviser ...</td>\n",
       "      <td>politicsNews</td>\n",
       "      <td>December 30, 2017</td>\n",
       "    </tr>\n",
       "    <tr>\n",
       "      <th>4</th>\n",
       "      <td>Trump wants Postal Service to charge 'much mor...</td>\n",
       "      <td>SEATTLE/WASHINGTON (Reuters) - President Donal...</td>\n",
       "      <td>politicsNews</td>\n",
       "      <td>December 29, 2017</td>\n",
       "    </tr>\n",
       "  </tbody>\n",
       "</table>\n",
       "</div>"
      ],
      "text/plain": [
       "                                               title  \\\n",
       "0  As U.S. budget fight looms, Republicans flip t...   \n",
       "1  U.S. military to accept transgender recruits o...   \n",
       "2  Senior U.S. Republican senator: 'Let Mr. Muell...   \n",
       "3  FBI Russia probe helped by Australian diplomat...   \n",
       "4  Trump wants Postal Service to charge 'much mor...   \n",
       "\n",
       "                                                text       subject  \\\n",
       "0  WASHINGTON (Reuters) - The head of a conservat...  politicsNews   \n",
       "1  WASHINGTON (Reuters) - Transgender people will...  politicsNews   \n",
       "2  WASHINGTON (Reuters) - The special counsel inv...  politicsNews   \n",
       "3  WASHINGTON (Reuters) - Trump campaign adviser ...  politicsNews   \n",
       "4  SEATTLE/WASHINGTON (Reuters) - President Donal...  politicsNews   \n",
       "\n",
       "                 date  \n",
       "0  December 31, 2017   \n",
       "1  December 29, 2017   \n",
       "2  December 31, 2017   \n",
       "3  December 30, 2017   \n",
       "4  December 29, 2017   "
      ]
     },
     "execution_count": 51,
     "metadata": {},
     "output_type": "execute_result"
    }
   ],
   "source": [
    "real.head()"
   ]
  },
  {
   "cell_type": "code",
   "execution_count": 52,
   "id": "49f64491-f75e-4de0-924d-61a33ed73b9a",
   "metadata": {},
   "outputs": [
    {
     "data": {
      "text/html": [
       "<div>\n",
       "<style scoped>\n",
       "    .dataframe tbody tr th:only-of-type {\n",
       "        vertical-align: middle;\n",
       "    }\n",
       "\n",
       "    .dataframe tbody tr th {\n",
       "        vertical-align: top;\n",
       "    }\n",
       "\n",
       "    .dataframe thead th {\n",
       "        text-align: right;\n",
       "    }\n",
       "</style>\n",
       "<table border=\"1\" class=\"dataframe\">\n",
       "  <thead>\n",
       "    <tr style=\"text-align: right;\">\n",
       "      <th></th>\n",
       "      <th>title</th>\n",
       "      <th>text</th>\n",
       "      <th>subject</th>\n",
       "      <th>date</th>\n",
       "    </tr>\n",
       "  </thead>\n",
       "  <tbody>\n",
       "    <tr>\n",
       "      <th>0</th>\n",
       "      <td>Donald Trump Sends Out Embarrassing New Year’...</td>\n",
       "      <td>Donald Trump just couldn t wish all Americans ...</td>\n",
       "      <td>News</td>\n",
       "      <td>December 31, 2017</td>\n",
       "    </tr>\n",
       "    <tr>\n",
       "      <th>1</th>\n",
       "      <td>Drunk Bragging Trump Staffer Started Russian ...</td>\n",
       "      <td>House Intelligence Committee Chairman Devin Nu...</td>\n",
       "      <td>News</td>\n",
       "      <td>December 31, 2017</td>\n",
       "    </tr>\n",
       "    <tr>\n",
       "      <th>2</th>\n",
       "      <td>Sheriff David Clarke Becomes An Internet Joke...</td>\n",
       "      <td>On Friday, it was revealed that former Milwauk...</td>\n",
       "      <td>News</td>\n",
       "      <td>December 30, 2017</td>\n",
       "    </tr>\n",
       "    <tr>\n",
       "      <th>3</th>\n",
       "      <td>Trump Is So Obsessed He Even Has Obama’s Name...</td>\n",
       "      <td>On Christmas day, Donald Trump announced that ...</td>\n",
       "      <td>News</td>\n",
       "      <td>December 29, 2017</td>\n",
       "    </tr>\n",
       "    <tr>\n",
       "      <th>4</th>\n",
       "      <td>Pope Francis Just Called Out Donald Trump Dur...</td>\n",
       "      <td>Pope Francis used his annual Christmas Day mes...</td>\n",
       "      <td>News</td>\n",
       "      <td>December 25, 2017</td>\n",
       "    </tr>\n",
       "  </tbody>\n",
       "</table>\n",
       "</div>"
      ],
      "text/plain": [
       "                                               title  \\\n",
       "0   Donald Trump Sends Out Embarrassing New Year’...   \n",
       "1   Drunk Bragging Trump Staffer Started Russian ...   \n",
       "2   Sheriff David Clarke Becomes An Internet Joke...   \n",
       "3   Trump Is So Obsessed He Even Has Obama’s Name...   \n",
       "4   Pope Francis Just Called Out Donald Trump Dur...   \n",
       "\n",
       "                                                text subject  \\\n",
       "0  Donald Trump just couldn t wish all Americans ...    News   \n",
       "1  House Intelligence Committee Chairman Devin Nu...    News   \n",
       "2  On Friday, it was revealed that former Milwauk...    News   \n",
       "3  On Christmas day, Donald Trump announced that ...    News   \n",
       "4  Pope Francis used his annual Christmas Day mes...    News   \n",
       "\n",
       "                date  \n",
       "0  December 31, 2017  \n",
       "1  December 31, 2017  \n",
       "2  December 30, 2017  \n",
       "3  December 29, 2017  \n",
       "4  December 25, 2017  "
      ]
     },
     "execution_count": 52,
     "metadata": {},
     "output_type": "execute_result"
    }
   ],
   "source": [
    "fake.head()"
   ]
  },
  {
   "cell_type": "code",
   "execution_count": 53,
   "id": "cdaf534c-e30b-4447-83f2-4b31c0f8f570",
   "metadata": {},
   "outputs": [],
   "source": [
    "# real / fake에 범주 부여\n",
    "real['category']=1\n",
    "fake['category']=0"
   ]
  },
  {
   "cell_type": "code",
   "execution_count": 54,
   "id": "4ee7803b-aff6-4e1d-a57c-224fb7c74aa0",
   "metadata": {},
   "outputs": [],
   "source": [
    "# real / fake 합치기\n",
    "df=pd.concat([real, fake])"
   ]
  },
  {
   "cell_type": "code",
   "execution_count": 7,
   "id": "fa64f3e0-2b2c-474d-9b29-fc4f43a7ff18",
   "metadata": {},
   "outputs": [
    {
     "name": "stdout",
     "output_type": "stream",
     "text": [
      "0    23481\n",
      "1    21417\n",
      "Name: category, dtype: int64\n",
      "FakeNews : 0.52%\n",
      "FakeNews : 0.48%\n"
     ]
    },
    {
     "name": "stderr",
     "output_type": "stream",
     "text": [
      "C:\\ProgramData\\Anaconda3\\lib\\site-packages\\seaborn\\_decorators.py:36: FutureWarning: Pass the following variable as a keyword arg: x. From version 0.12, the only valid positional argument will be `data`, and passing other arguments without an explicit keyword will result in an error or misinterpretation.\n",
      "  warnings.warn(\n"
     ]
    },
    {
     "data": {
      "text/plain": [
       "<AxesSubplot:xlabel='category', ylabel='count'>"
      ]
     },
     "execution_count": 7,
     "metadata": {},
     "output_type": "execute_result"
    },
    {
     "data": {
      "image/png": "[encoded data removed]",
      "text/plain": [
       "<Figure size 432x288 with 1 Axes>"
      ]
     },
     "metadata": {
      "needs_background": "light"
     },
     "output_type": "display_data"
    }
   ],
   "source": [
    "# 카테고리 확인\n",
    "print(df.category.value_counts())\n",
    "print(f'FakeNews : {round(df.category.value_counts()[0] / df.category.count(), 2)}%')\n",
    "print(f'FakeNews : {round(df.category.value_counts()[1] / df.category.count(), 2)}%')\n",
    "\n",
    "# sns.countplot => 갯수 확인 시각화\n",
    "sns.countplot(df.category)"
   ]
  },
  {
   "cell_type": "code",
   "execution_count": 8,
   "id": "b4bb8cb7-f5d6-4d5b-a26f-976c56098916",
   "metadata": {},
   "outputs": [
    {
     "name": "stdout",
     "output_type": "stream",
     "text": [
      "<class 'pandas.core.frame.DataFrame'>\n",
      "Int64Index: 44898 entries, 0 to 23480\n",
      "Data columns (total 5 columns):\n",
      " #   Column    Non-Null Count  Dtype \n",
      "---  ------    --------------  ----- \n",
      " 0   title     44898 non-null  object\n",
      " 1   text      44898 non-null  object\n",
      " 2   subject   44898 non-null  object\n",
      " 3   date      44898 non-null  object\n",
      " 4   category  44898 non-null  int64 \n",
      "dtypes: int64(1), object(4)\n",
      "memory usage: 2.1+ MB\n"
     ]
    }
   ],
   "source": [
    "# 정보 확인\n",
    "df.info()"
   ]
  },
  {
   "cell_type": "code",
   "execution_count": 9,
   "id": "0158ef73-d965-4660-ba94-7ef9be9efdb8",
   "metadata": {},
   "outputs": [
    {
     "name": "stdout",
     "output_type": "stream",
     "text": [
      "politicsNews       11272\n",
      "worldnews          10145\n",
      "News                9050\n",
      "politics            6841\n",
      "left-news           4459\n",
      "Government News     1570\n",
      "US_News              783\n",
      "Middle-east          778\n",
      "Name: subject, dtype: int64\n"
     ]
    },
    {
     "data": {
      "text/plain": [
       "<AxesSubplot:xlabel='subject', ylabel='count'>"
      ]
     },
     "execution_count": 9,
     "metadata": {},
     "output_type": "execute_result"
    },
    {
     "data": {
      "image/png": "[encoded data removed]",
      "text/plain": [
       "<Figure size 432x288 with 1 Axes>"
      ]
     },
     "metadata": {
      "needs_background": "light"
     },
     "output_type": "display_data"
    }
   ],
   "source": [
    "# 뉴스의 종류 확인\n",
    "print(df.subject.value_counts())\n",
    "\n",
    "# 카테고리 별 뉴스 종류 확인\n",
    "plt.xticks(rotation=70)\n",
    "sns.countplot(x='subject', hue='category', data=df)"
   ]
  },
  {
   "cell_type": "code",
   "execution_count": 10,
   "id": "7132b885-3148-4cb8-86e9-64ee1e9b1af8",
   "metadata": {},
   "outputs": [
    {
     "data": {
      "text/plain": [
       "title       0\n",
       "text        0\n",
       "subject     0\n",
       "date        0\n",
       "category    0\n",
       "dtype: int64"
      ]
     },
     "execution_count": 10,
     "metadata": {},
     "output_type": "execute_result"
    }
   ],
   "source": [
    "# 결측치 확인\n",
    "df.isnull().sum()"
   ]
  },
  {
   "cell_type": "markdown",
   "id": "b8465346-dcf4-425a-8a04-4766f274d57b",
   "metadata": {},
   "source": [
    "## [2] 데이터 처리"
   ]
  },
  {
   "cell_type": "code",
   "execution_count": 11,
   "id": "ca200308-beb0-4614-99c0-e62230711d81",
   "metadata": {},
   "outputs": [
    {
     "data": {
      "text/plain": [
       "0    WASHINGTON (Reuters) - The head of a conservat...\n",
       "1    WASHINGTON (Reuters) - Transgender people will...\n",
       "2    WASHINGTON (Reuters) - The special counsel inv...\n",
       "3    WASHINGTON (Reuters) - Trump campaign adviser ...\n",
       "4    SEATTLE/WASHINGTON (Reuters) - President Donal...\n",
       "Name: text_all, dtype: object"
      ]
     },
     "execution_count": 11,
     "metadata": {},
     "output_type": "execute_result"
    }
   ],
   "source": [
    "# 뉴스 기사들을 한 컬럼으로 합치기\n",
    "df['text_all']=df['text'] + ' ' + df['title']\n",
    "df['text_all'].head()"
   ]
  },
  {
   "cell_type": "markdown",
   "id": "7f2bacdd-c967-42ed-b410-a737e1bdc5ef",
   "metadata": {},
   "source": [
    "### 불용어 처리\n",
    "string.punctuation -> !\"#$%&'()*+,-./:;<=>?@[\\]^_`{|}~"
   ]
  },
  {
   "cell_type": "code",
   "execution_count": 12,
   "id": "a4ae8098-ef15-4b5a-960f-cad1f36c73f4",
   "metadata": {},
   "outputs": [],
   "source": [
    "from wordcloud import WordCloud, STOPWORDS # wordcloud 모듈에도 stopword 기능 있음.\n",
    "from nltk.corpus import stopwords\n",
    "\n",
    "stop=set(stopwords.words('english'))\n",
    "# stopwords=set(nltk.corpus.stopwords.words('english'))\n",
    "punctuation = string.punctuation\n",
    "stop.update(punctuation)"
   ]
  },
  {
   "cell_type": "markdown",
   "id": "2ef5baba-4169-4cfe-aade-81b9be72419d",
   "metadata": {},
   "source": [
    "### 데이터 분할"
   ]
  },
  {
   "cell_type": "code",
   "execution_count": 43,
   "id": "cd4cebaa-c13a-417f-9210-c27ff6135516",
   "metadata": {},
   "outputs": [
    {
     "name": "stdout",
     "output_type": "stream",
     "text": [
      "X_train : (35918,), X_test : (8980,)\n"
     ]
    }
   ],
   "source": [
    "# from sklearn.model_selection import train_test_split, 비율에 맞게 분할\n",
    "X_train, X_test, y_train, y_test = train_test_split(df.text_all, \n",
    "                                                    df.category, \n",
    "                                                    test_size=0.2, \n",
    "                                                    stratify=df.category,\n",
    "                                                    random_state=11)\n",
    "\n",
    "print(f'X_train : {X_train.shape}, X_test : {X_test.shape}')"
   ]
  },
  {
   "cell_type": "code",
   "execution_count": 28,
   "id": "9e1858fc-0a25-411a-afb9-f3b426b29e44",
   "metadata": {},
   "outputs": [
    {
     "name": "stdout",
     "output_type": "stream",
     "text": [
      "X_train : (28734,), X_test : (8980,) , X_val : (7184,)\n"
     ]
    }
   ],
   "source": [
    "X_train, X_val, y_train, y_val = train_test_split(X_train, \n",
    "                                                  y_train, \n",
    "                                                  test_size=0.2, \n",
    "                                                  stratify=y_train,\n",
    "                                                  random_state=11)\n",
    "print(f'X_train : {X_train.shape}, X_test : {X_test.shape} , X_val : {X_val.shape}')"
   ]
  },
  {
   "cell_type": "code",
   "execution_count": 42,
   "id": "b5dceb0a-c49c-47d2-b35a-4fd9a8d8fb71",
   "metadata": {},
   "outputs": [
    {
     "name": "stdout",
     "output_type": "stream",
     "text": [
      "\n",
      " 학습 데이터 --------------------\n",
      "X_train : (28734,), y_train : (28734,)\n",
      "가짜뉴스 : 0.52%\n",
      "진짜뉴스 : 0.48%\n",
      "\n",
      " 테스트 데이터 --------------------\n",
      "X_test   : (8980,), y_test : (8980,)\n",
      "가짜뉴스 : 0.52%\n",
      "진짜뉴스 : 0.48%\n",
      "\n",
      " 검증 데이터 --------------------\n",
      "X_val    : (7184,), y_val : (7184,)\n",
      "가짜뉴스 : 0.52%\n",
      "진짜뉴스 : 0.48%\n"
     ]
    }
   ],
   "source": [
    "print('\\n', '학습 데이터', '-'*20)\n",
    "print(f'X_train : {X_train.shape}, y_train : {y_train.shape}')\n",
    "print(f'가짜뉴스 : {round(y_train.value_counts()[0]/len(y_train),2)}%')\n",
    "print(f'진짜뉴스 : {round(y_train.value_counts()[1]/len(y_train),2)}%')\n",
    "\n",
    "print('\\n', '테스트 데이터', '-'*20)\n",
    "print(f'X_test   : {X_test.shape}, y_test : {y_test.shape}')\n",
    "print(f'가짜뉴스 : {round(y_test.value_counts()[0]/len(y_test),2)}%')\n",
    "print(f'진짜뉴스 : {round(y_test.value_counts()[1]/len(y_test),2)}%')\n",
    "\n",
    "print('\\n', '검증 데이터', '-'*20)\n",
    "print(f'X_val    : {X_val.shape}, y_val : {y_val.shape}')\n",
    "print(f'가짜뉴스 : {round(y_val.value_counts()[0]/len(y_val),2)}%')\n",
    "print(f'진짜뉴스 : {round(y_val.value_counts()[1]/len(y_val),2)}%')"
   ]
  },
  {
   "cell_type": "markdown",
   "id": "3904dcb0-4d8a-44f7-a8ea-96d595434f32",
   "metadata": {},
   "source": [
    "### 데이터 벡터화"
   ]
  },
  {
   "cell_type": "code",
   "execution_count": 46,
   "id": "78e4d7ec-8152-4741-b0f1-72092c78c9d7",
   "metadata": {},
   "outputs": [],
   "source": [
    "# 텍스트 데이터 토큰화 진행 \n",
    "def makeToken(textData, numWord=0):\n",
    "    if numWord > 0:\n",
    "        myToken = Tokenizer(num_words=numWord)\n",
    "    else:\n",
    "        myToken=Tokenizer()\n",
    "    \n",
    "    # 단어사전(voca) 생성\n",
    "    myToken.fit_on_texts(textData)\n",
    "    \n",
    "    return myToken"
   ]
  },
  {
   "cell_type": "code",
   "execution_count": null,
   "id": "ef4efe90-0b7d-48ce-884b-29c3737c0c39",
   "metadata": {},
   "outputs": [],
   "source": [
    "def checkWordCount(tokenizer, freq_num=100):\n",
    "    "
   ]
  }
 ],
 "metadata": {
  "kernelspec": {
   "display_name": "Python 3 (ipykernel)",
   "language": "python",
   "name": "python3"
  },
  "language_info": {
   "codemirror_mode": {
    "name": "ipython",
    "version": 3
   },
   "file_extension": ".py",
   "mimetype": "text/x-python",
   "name": "python",
   "nbconvert_exporter": "python",
   "pygments_lexer": "ipython3",
   "version": "3.9.12"
  }
 },
 "nbformat": 4,
 "nbformat_minor": 5
}
