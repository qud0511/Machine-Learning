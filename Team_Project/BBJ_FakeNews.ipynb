{
 "cells": [
  {
   "cell_type": "markdown",
   "id": "9c63aea3-078c-42ff-b296-8e20ebd4d360",
   "metadata": {},
   "source": [
    "- 레스토랑 리뷰 감성 분류하기 :\n",
    "https://github.com/rickiepark/nlp-with-pytorch/blob/main/chapter_3/3_5_Classifying_Yelp_Review_Sentiment.ipynb\n",
    "\n",
    "- NLP using GloVe Embeddings(FAKE NEWS) : \n",
    "https://www.kaggle.com/code/madz2000/nlp-using-glove-embeddings-99-87-accuracy"
   ]
  },
  {
   "cell_type": "code",
   "execution_count": null,
   "id": "ad238e88-41cc-44dd-bbe2-7a858ad24309",
   "metadata": {},
   "outputs": [],
   "source": []
  }
 ],
 "metadata": {
  "kernelspec": {
   "display_name": "Python 3 (ipykernel)",
   "language": "python",
   "name": "python3"
  },
  "language_info": {
   "codemirror_mode": {
    "name": "ipython",
    "version": 3
   },
   "file_extension": ".py",
   "mimetype": "text/x-python",
   "name": "python",
   "nbconvert_exporter": "python",
   "pygments_lexer": "ipython3",
   "version": "3.9.12"
  }
 },
 "nbformat": 4,
 "nbformat_minor": 5
}
