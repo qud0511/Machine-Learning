{
 "cells": [
  {
   "cell_type": "code",
   "execution_count": 9,
   "id": "1daf7a1b-5b15-44fa-a56c-cc45e130dff1",
   "metadata": {},
   "outputs": [],
   "source": [
    "# 경고메시지 무시\n",
    "# import warnings\n",
    "# warnings.filterwarnings('ignore')"
   ]
  },
  {
   "cell_type": "code",
   "execution_count": 17,
   "id": "e70c6240-b040-403b-ad75-193712826aea",
   "metadata": {},
   "outputs": [],
   "source": [
    "import matplotlib.pyplot as plt\n",
    "import seaborn as sns\n",
    "from PIL import Image # 이미지 불러오기\n",
    "from mpl_toolkits.mplot3d import Axes3D # 3차원 데이터 가시화"
   ]
  },
  {
   "cell_type": "code",
   "execution_count": 20,
   "id": "0f6991b7-016c-463d-9f01-9bf543087c8d",
   "metadata": {},
   "outputs": [],
   "source": [
    "from sklearn.decomposition import PCA\n",
    "from sklearn.model_selection import train_test_split\n",
    "from sklearn.preprocessing import StandardScaler\n",
    "from sklearn.manifold import TSNE # 매니폴드 학습 : 비선형 차원 축소에 대한 접근 방식, TSNE : 고차원 데이터를 시각화"
   ]
  },
  {
   "cell_type": "code",
   "execution_count": 18,
   "id": "6379cbc0-b6ac-40b9-b80f-ee2368d207bd",
   "metadata": {},
   "outputs": [],
   "source": [
    "from tensorflow.keras import Sequential, models\n",
    "from tensorflow.keras.utils import set_random_seed, plot_model\n",
    "from keras.layers import Conv2D, Dense, Dropout, Input, Flatten\n",
    "from keras.layers import MaxPooling2D, GlobalMaxPooling2D\n",
    "from keras.applications import vgg16, resnet\n",
    "\n",
    "# from keras.layers.normalization import BatchNormalization\n",
    "# from keras.layers.merge import Concatenate\n",
    "from keras.callbacks import ModelCheckpoint, Callback, EarlyStopping, ReduceLROnPlateau\n",
    "from keras.utils import to_categorical"
   ]
  },
  {
   "cell_type": "code",
   "execution_count": 11,
   "id": "d7e823e0-ef76-4030-8515-c587fd268314",
   "metadata": {},
   "outputs": [],
   "source": [
    "import itertools # 효율적인 루핑을 위한 이터레이터를 만드는 함수\n"
   ]
  },
  {
   "cell_type": "code",
   "execution_count": 21,
   "id": "844a51a9-e911-4f98-9bea-852e66afabfc",
   "metadata": {},
   "outputs": [
    {
     "ename": "ModuleNotFoundError",
     "evalue": "No module named 'umap'",
     "output_type": "error",
     "traceback": [
      "\u001b[1;31m---------------------------------------------------------------------------\u001b[0m",
      "\u001b[1;31mModuleNotFoundError\u001b[0m                       Traceback (most recent call last)",
      "Input \u001b[1;32mIn [21]\u001b[0m, in \u001b[0;36m<cell line: 3>\u001b[1;34m()\u001b[0m\n\u001b[0;32m      1\u001b[0m \u001b[38;5;28;01mimport\u001b[39;00m \u001b[38;5;21;01mnumpy\u001b[39;00m \u001b[38;5;28;01mas\u001b[39;00m \u001b[38;5;21;01mnp\u001b[39;00m\n\u001b[0;32m      2\u001b[0m \u001b[38;5;28;01mimport\u001b[39;00m \u001b[38;5;21;01mpandas\u001b[39;00m \u001b[38;5;28;01mas\u001b[39;00m \u001b[38;5;21;01mpd\u001b[39;00m\n\u001b[1;32m----> 3\u001b[0m \u001b[38;5;28;01mimport\u001b[39;00m \u001b[38;5;21;01mumap\u001b[39;00m \u001b[38;5;66;03m# 차원 축소 알고리즘\u001b[39;00m\n\u001b[0;32m      4\u001b[0m \u001b[38;5;28;01mimport\u001b[39;00m \u001b[38;5;21;01mos\u001b[39;00m\n\u001b[0;32m      5\u001b[0m \u001b[38;5;28;01mimport\u001b[39;00m \u001b[38;5;21;01mglob\u001b[39;00m\n",
      "\u001b[1;31mModuleNotFoundError\u001b[0m: No module named 'umap'"
     ]
    }
   ],
   "source": [
    "import numpy as np\n",
    "import pandas as pd\n",
    "import umap # 차원 축소 알고리즘\n",
    "import os\n",
    "import glob\n",
    "from os import listdir, makedirs, getcwd, remove\n",
    "from os.path import isfile, join, abspath, exists, isdir, expanduser"
   ]
  },
  {
   "cell_type": "code",
   "execution_count": null,
   "id": "8a756ce7-3385-4b24-a86e-cbf1ad897dc1",
   "metadata": {},
   "outputs": [],
   "source": []
  }
 ],
 "metadata": {
  "kernelspec": {
   "display_name": "Python 3 (ipykernel)",
   "language": "python",
   "name": "python3"
  },
  "language_info": {
   "codemirror_mode": {
    "name": "ipython",
    "version": 3
   },
   "file_extension": ".py",
   "mimetype": "text/x-python",
   "name": "python",
   "nbconvert_exporter": "python",
   "pygments_lexer": "ipython3",
   "version": "3.9.12"
  }
 },
 "nbformat": 4,
 "nbformat_minor": 5
}
