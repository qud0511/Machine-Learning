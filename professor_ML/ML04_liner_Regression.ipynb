{
 "cells": [
  {
   "cell_type": "code",
   "execution_count": 1,
   "metadata": {},
   "outputs": [],
   "source": [
    "import\tnumpy as\tnp\n",
    "perch_length =\tnp.array([8.4,\t13.7,\t15.0,\t16.2,\t17.4,\t18.0,\t18.7,\t19.0,\t19.6,\t20.0,\n",
    "21.0,\t21.0,\t21.0,\t21.3,\t22.0,\t22.0,\t22.0,\t22.0,\t22.0,\t22.5,\n",
    "22.5,\t22.7,\t23.0,\t23.5,\t24.0,\t24.0,\t24.6,\t25.0,\t25.6,\t26.5,\n",
    "27.3,\t27.5,\t27.5,\t27.5,\t28.0,\t28.7,\t30.0,\t32.8,\t34.5,\t35.0,\n",
    "36.5,\t36.0,\t37.0,\t37.0,\t39.0,\t39.0,\t39.0,\t40.0,\t40.0,\t40.0,\n",
    "40.0,\t42.0,\t43.0,\t43.0,\t43.5,\t44.0])\n",
    "perch_weight =\tnp.array([5.9,\t32.0,\t40.0,\t51.5,\t70.0,\t100.0,\t78.0,\t80.0,\t85.0,\t85.0,\n",
    "110.0,\t115.0,\t125.0,\t130.0,\t120.0,\t120.0,\t130.0,\t135.0,\t110.0,\t130.0,\n",
    "150.0,\t145.0,\t150.0,\t170.0,\t225.0,\t145.0,\t188.0,\t180.0,\t197.0,\t218.0,\n",
    "300.0,\t260.0,\t265.0,\t250.0,\t250.0,\t300.0,\t320.0,\t514.0,\t556.0,\t840.0,\n",
    "685.0,\t700.0,\t700.0,\t690.0,\t900.0,\t650.0,\t820.0,\t850.0,\t900.0,\t1015.0,\n",
    "820.0,\t1100.0,\t1000.0,\t1100.0,\t1000.0,\t1000.0])"
   ]
  },
  {
   "cell_type": "code",
   "execution_count": 3,
   "metadata": {},
   "outputs": [
    {
     "name": "stdout",
     "output_type": "stream",
     "text": [
      "(42,) (14,)\n",
      "(42, 1) (14, 1)\n"
     ]
    }
   ],
   "source": [
    "from sklearn.model_selection import train_test_split\n",
    "\n",
    "train_input,\ttest_input,\ttrain_target,\ttest_target = train_test_split(\n",
    "    perch_length, perch_weight, random_state=42)\n",
    "\n",
    "print(train_input.shape,\ttest_input.shape)\n",
    "\n",
    "#\treshape(-1,\t1):\t-1:\t행의 크기를 자동 지정\n",
    "train_input=train_input.reshape(-1, 1) # 2차원 배열로 변경\n",
    "test_input=test_input.reshape(-1, 1) # 2차원 배열로 변경\\\n",
    "\n",
    "print(train_input.shape,\ttest_input.shape)"
   ]
  },
  {
   "cell_type": "markdown",
   "metadata": {},
   "source": [
    "### 선형 회귀(Linear Regression)\n",
    "- 선형 회귀</br>\n",
    "    • 데이터를 가장 잘 표현할 수 있는 직선 방정식을 찾는 알고리즘</br>\n",
    "    • 특성과 타킷 사이의 관계를 가장 잘 나타내는 선형 방정식을 찾음</br>\n",
    "        – 특성과 타킷 사이의 관계: 선형 방정식의 계수(기울기) 와 절편에 저장\n",
    "\n",
    "• LinearRegression 클래스 사용</br>\n",
    "    – sklearn.linear_model 패키지</br>\n",
    "    – fit(),\tscore(),\tpredict() 메소드"
   ]
  },
  {
   "cell_type": "markdown",
   "metadata": {},
   "source": [
    "##### 훈련 데이터를 이용한 직선 방정식 구하기"
   ]
  },
  {
   "cell_type": "code",
   "execution_count": 9,
   "metadata": {},
   "outputs": [
    {
     "name": "stdout",
     "output_type": "stream",
     "text": [
      "50cm:\t [1241.83860323]\n",
      "[39.01714496] -709.0186449535477\n"
     ]
    }
   ],
   "source": [
    "from\tsklearn.linear_model import\tLinearRegression\n",
    "\n",
    "lr = LinearRegression()\n",
    "#\t선형 회귀 모델 훈련\n",
    "lr.fit(train_input,\ttrain_target)\n",
    "#\t50cm\t농어에 대한 예측\n",
    "print('50cm:\t',\tlr.predict([[50]]))\n",
    "\n",
    "#\t기울기(a):\tcoef_,\t절편(bias):\tintercept_\n",
    "print(lr.coef_, lr.intercept_)\n",
    "# [39.01714496] => 하나의 특성( 농어의 길이)만 사용했기 때문에 배열의 원소는 1개"
   ]
  },
  {
   "cell_type": "markdown",
   "metadata": {},
   "source": [
    "#### 산점도 및 직선 그래프 그리기\n",
    "- 기울기와 절편을 이용한 1차 방정식 그래프"
   ]
  },
  {
   "cell_type": "code",
   "execution_count": 16,
   "metadata": {},
   "outputs": [
    {
     "data": {
      "image/png": "[encoded data removed]",
      "text/plain": [
       "<Figure size 432x288 with 1 Axes>"
      ]
     },
     "metadata": {
      "needs_background": "light"
     },
     "output_type": "display_data"
    }
   ],
   "source": [
    "import matplotlib.pyplot as plt\n",
    "\n",
    "plt.scatter(train_input, train_target)\n",
    "\n",
    "#\t15에서 50까지 1차 방정식 그래프 그리기\n",
    "#\tplot([x축 데이터:시작, 끝],\t[y축 데이터:시작, 끝])\n",
    "plt.plot([15, 50], [15*lr.coef_ + lr.intercept_, 50*lr.coef_ + lr.intercept_],\n",
    "color='red', linestyle='--')\n",
    "\n",
    "#\t50cm\t농어 데이터\n",
    "plt.scatter(50,\t1241.8,\tmarker='^',\tcolor='orangered')\n",
    "plt.show()\n",
    "\n",
    "# 농어 무게가 0이하로 내려갈 수 있는 문제점\n"
   ]
  },
  {
   "cell_type": "code",
   "execution_count": 18,
   "metadata": {},
   "outputs": [
    {
     "name": "stdout",
     "output_type": "stream",
     "text": [
      "train data score:\t 0.939846333997604\n",
      "test data score:\t 0.8247503123313558\n"
     ]
    }
   ],
   "source": [
    "print('train data score:\t',\t\t\t\t\t\n",
    "lr.score(train_input,\ttrain_target))\n",
    "print('test data score:\t',\t\n",
    "lr.score(test_input,\ttest_target))\n",
    "\n",
    "# 전체적으로 과소 적합 (훈련 세트와 테스트 세트의 점수가 모두 낮음)"
   ]
  },
  {
   "cell_type": "code",
   "execution_count": 19,
   "metadata": {},
   "outputs": [
    {
     "name": "stdout",
     "output_type": "stream",
     "text": [
      "[-123.7614705] [1241.83860323]\n"
     ]
    }
   ],
   "source": [
    "print(15*lr.coef_ + lr.intercept_, 50*lr.coef_ + lr.intercept_)"
   ]
  },
  {
   "cell_type": "markdown",
   "metadata": {},
   "source": [
    "## 다항 회귀(Polynomial Regression)\n",
    "- 농어의 길이와 무게에 대한 산점도</br>\n",
    "    • 일직선(1차 방정식)으로 표현하기 어려움</br>\n",
    "    • 무게가 0 이하일 가능성 발생</br>\n",
    "        - 모델이 더 복잡할 필요성이 있음</br>\n",
    "\n",
    "- 최적의 곡선(2차 방정식)을 구함</br>\n",
    "    • 길이를 제곱한 항을 훈련 세트에 추가해야 됨"
   ]
  },
  {
   "cell_type": "markdown",
   "metadata": {},
   "source": [
    "##### 훈련 세트에 데이터 추가\n",
    "- 길이를 제곱한 데이터를 훈련 세트에 추가</br>\n",
    "    • column_stack()사용</br>\n",
    "    – broadcasting 적용"
   ]
  },
  {
   "cell_type": "code",
   "execution_count": 21,
   "metadata": {},
   "outputs": [
    {
     "name": "stdout",
     "output_type": "stream",
     "text": [
      "[[ 384.16   19.6 ]\n",
      " [ 484.     22.  ]\n",
      " [ 349.69   18.7 ]\n",
      " [ 302.76   17.4 ]\n",
      " [1296.     36.  ]]\n",
      "(42, 2) (14, 2)\n"
     ]
    }
   ],
   "source": [
    "train_poly = np.column_stack((train_input**2, train_input))\n",
    "test_poly = np.column_stack((test_input**2, test_input))\n",
    "\n",
    "print(train_poly[0:5])\n",
    "print(train_poly.shape,\ttest_poly.shape)"
   ]
  },
  {
   "cell_type": "markdown",
   "metadata": {},
   "source": [
    "###### 다항 회귀식 구하기\n",
    "- 선형 회귀 모델 재훈련</br>\n",
    "• 제곱한 데이터를 이용하여 선형 회귀 모델을 다시 훈련</br>\n",
    "• 타깃값은 그대로 사용함"
   ]
  },
  {
   "cell_type": "code",
   "execution_count": null,
   "metadata": {},
   "outputs": [],
   "source": [
    "lr =\tLinearRegression()\n",
    "lr.fit(train_poly,\ttrain_target)\n",
    "print(lr.predict([[50**2,\t50]]))\t#\t50cm\t농어의 무게 예측\n",
    "print(lr.coef_,\tlr.intercept_)"
   ]
  }
 ],
 "metadata": {
  "kernelspec": {
   "display_name": "Python 3.9.12 ('EV_PY39')",
   "language": "python",
   "name": "python3"
  },
  "language_info": {
   "codemirror_mode": {
    "name": "ipython",
    "version": 3
   },
   "file_extension": ".py",
   "mimetype": "text/x-python",
   "name": "python",
   "nbconvert_exporter": "python",
   "pygments_lexer": "ipython3",
   "version": "3.9.12"
  },
  "orig_nbformat": 4,
  "vscode": {
   "interpreter": {
    "hash": "c34f60c4b6508d34c0193a1e5ad16bfc3f81e2e087a9e2f73ef284bcb9806a0b"
   }
  }
 },
 "nbformat": 4,
 "nbformat_minor": 2
}
