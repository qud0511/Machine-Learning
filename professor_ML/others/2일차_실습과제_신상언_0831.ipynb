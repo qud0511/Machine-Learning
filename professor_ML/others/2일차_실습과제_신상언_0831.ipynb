{
 "cells": [
  {
   "cell_type": "markdown",
   "id": "5b0655e8",
   "metadata": {},
   "source": [
    "# 선형 회귀: 이자율과 물가지수 상관 관계 분석"
   ]
  },
  {
   "cell_type": "code",
   "execution_count": 107,
   "id": "677ae3dc",
   "metadata": {},
   "outputs": [],
   "source": [
    "import pandas as pd\n",
    "import matplotlib.pyplot as plt\n",
    "from sklearn.model_selection import train_test_split\n",
    "from sklearn.linear_model import LinearRegression\n",
    "import numpy as np"
   ]
  },
  {
   "cell_type": "code",
   "execution_count": 108,
   "id": "04a48ca5",
   "metadata": {},
   "outputs": [
    {
     "name": "stdout",
     "output_type": "stream",
     "text": [
      "    year  month  interest_rate  unemployment_rate  index_price\n",
      "0   2017     12           2.75                5.3         1464\n",
      "1   2017     11           2.50                5.3         1394\n",
      "2   2017     10           2.50                5.3         1357\n",
      "3   2017      9           2.50                5.3         1293\n",
      "4   2017      8           2.50                5.4         1256\n",
      "5   2017      7           2.50                5.6         1254\n",
      "6   2017      6           2.50                5.5         1234\n",
      "7   2017      5           2.25                5.5         1195\n",
      "8   2017      4           2.25                5.5         1159\n",
      "9   2017      3           2.25                5.6         1167\n",
      "10  2017      2           2.00                5.7         1130\n",
      "11  2017      1           2.00                5.9         1075\n",
      "12  2016     12           2.00                6.0         1047\n",
      "13  2016     11           1.75                5.9          965\n",
      "14  2016     10           1.75                5.8          943\n",
      "15  2016      9           1.75                6.1          958\n",
      "16  2016      8           1.75                6.2          971\n",
      "17  2016      7           1.75                6.1          949\n",
      "18  2016      6           1.75                6.1          884\n",
      "19  2016      5           1.75                6.1          866\n",
      "20  2016      4           1.75                5.9          876\n",
      "21  2016      3           1.75                6.2          822\n",
      "22  2016      2           1.75                6.2          704\n",
      "23  2016      1           1.75                6.1          719\n"
     ]
    }
   ],
   "source": [
    "data = {'year': [2017,2017,2017,2017,2017,2017,2017,2017,2017,2017,2017,2017,\n",
    "2016,2016,2016,2016,2016,2016,2016,2016,2016,2016,2016,2016],\n",
    "'month': [12,11,10,9,8,7,6,5,4,3,2,1,12,11,10,9,8,7,6,5,4,3,2,1],\n",
    "'interest_rate': [2.75,2.5,2.5,2.5,2.5,2.5,2.5,2.25,2.25,2.25,2,2,2,\n",
    "1.75,1.75,1.75,1.75,1.75,1.75,1.75,1.75,1.75,1.75,1.75],\n",
    "'unemployment_rate': [5.3,5.3,5.3,5.3,5.4,5.6,5.5,5.5,5.5,5.6,5.7,5.9,6,5.9,\n",
    "\n",
    "5.8,6.1,6.2,6.1,6.1,6.1,5.9,6.2,6.2,6.1],\n",
    "\n",
    "'index_price': [1464,1394,1357,1293,1256,1254,1234,1195,1159,1167,1130,1075,\n",
    "\n",
    "1047,965,943,958,971,949,884,866,876,822,704,719]}\n",
    "\n",
    "df = pd.DataFrame(data)\n",
    "print(df)"
   ]
  },
  {
   "cell_type": "code",
   "execution_count": 109,
   "id": "c11e014b",
   "metadata": {},
   "outputs": [],
   "source": [
    "interest_rate = df['interest_rate'].to_numpy()\n",
    "index_price = df['index_price'].to_numpy()"
   ]
  },
  {
   "cell_type": "code",
   "execution_count": 110,
   "id": "493950f8",
   "metadata": {},
   "outputs": [],
   "source": [
    "train_input, test_input, train_target, test_target = train_test_split(\n",
    "interest_rate, index_price, random_state=42)"
   ]
  },
  {
   "cell_type": "code",
   "execution_count": 111,
   "id": "e7a49055",
   "metadata": {},
   "outputs": [],
   "source": [
    "train_input = train_input.reshape(-1,1) # 1 컬럼 지정 해놓고 -1 나머지 알아서\n",
    "test_input = test_input.reshape(-1,1)"
   ]
  },
  {
   "cell_type": "code",
   "execution_count": 112,
   "id": "413c9b21",
   "metadata": {},
   "outputs": [
    {
     "name": "stdout",
     "output_type": "stream",
     "text": [
      "[574.45637584] -127.38255033557084\n"
     ]
    }
   ],
   "source": [
    "lr = LinearRegression()\n",
    "lr.fit(train_input, train_target)\n",
    "\n",
    "print(lr.coef_, lr.intercept_)"
   ]
  },
  {
   "cell_type": "code",
   "execution_count": 113,
   "id": "c4d53ef9",
   "metadata": {},
   "outputs": [
    {
     "data": {
      "image/png": "[encoded data removed]",
      "text/plain": [
       "<Figure size 432x288 with 1 Axes>"
      ]
     },
     "metadata": {
      "needs_background": "light"
     },
     "output_type": "display_data"
    }
   ],
   "source": [
    "plt.scatter(train_input, train_target)\n",
    "plt.xlabel('Interest Rate')\n",
    "plt.ylabel('Index Price')\n",
    "plt.title('Interest Rate VS Index Price')\n",
    "plt.show()"
   ]
  },
  {
   "cell_type": "code",
   "execution_count": 114,
   "id": "45440b20",
   "metadata": {
    "scrolled": true
   },
   "outputs": [
    {
     "data": {
      "image/png": "[encoded data removed]",
      "text/plain": [
       "<Figure size 432x288 with 1 Axes>"
      ]
     },
     "metadata": {
      "needs_background": "light"
     },
     "output_type": "display_data"
    }
   ],
   "source": [
    "plt.scatter(train_input, train_target)\n",
    "plt.plot([1.75,2.5], [1.75*lr.coef_ + lr.intercept_, 2.5*lr.coef_ + lr.intercept_],\n",
    "        color = 'red', linestyle='--')\n",
    "plt.xlabel('Interest Rate')\n",
    "plt.ylabel('Index Price')\n",
    "plt.title('Interest Rate VS Index Price')\n",
    "plt.show()"
   ]
  },
  {
   "cell_type": "code",
   "execution_count": 115,
   "id": "7e817f9d",
   "metadata": {},
   "outputs": [
    {
     "name": "stdout",
     "output_type": "stream",
     "text": [
      "Interest Rate vs. Index Price\n",
      "coef_: [574.45637584] intercept_: -127.38255033557084\n"
     ]
    }
   ],
   "source": [
    "print(\"Interest Rate vs. Index Price\")\n",
    "print(\"coef_:\",lr.coef_, \"intercept_:\",lr.intercept_)"
   ]
  },
  {
   "cell_type": "code",
   "execution_count": 116,
   "id": "25e2a607",
   "metadata": {},
   "outputs": [
    {
     "name": "stdout",
     "output_type": "stream",
     "text": [
      "train data score: 0.8541859618501457\n",
      "test data score: 0.941892392945057\n"
     ]
    }
   ],
   "source": [
    "print(\"train data score:\", lr.score(train_input, train_target))\n",
    "print(\"test data score:\", lr.score(test_input, test_target))"
   ]
  },
  {
   "cell_type": "markdown",
   "id": "422a4534",
   "metadata": {},
   "source": [
    "# 다항 회귀"
   ]
  },
  {
   "cell_type": "code",
   "execution_count": 117,
   "id": "67f18618",
   "metadata": {},
   "outputs": [],
   "source": [
    "train_poly = np.column_stack((train_input**2, train_input))\n",
    "test_poly = np.column_stack((test_input**2, test_input))"
   ]
  },
  {
   "cell_type": "code",
   "execution_count": 118,
   "id": "199ec659",
   "metadata": {},
   "outputs": [
    {
     "data": {
      "image/png": "[encoded data removed]",
      "text/plain": [
       "<Figure size 432x288 with 1 Axes>"
      ]
     },
     "metadata": {
      "needs_background": "light"
     },
     "output_type": "display_data"
    }
   ],
   "source": [
    "point = np.arange(1.7,2.6,0.1)\n",
    "plt.scatter(train_input, train_target)\n",
    "plt.plot(point, -524.84*point**2  + 2802.42*point - 2429.1,\n",
    "        color = 'red', linestyle = '--')\n",
    "plt.xlabel('Interest Rate')\n",
    "plt.ylabel('Index Price')\n",
    "plt.show()"
   ]
  },
  {
   "cell_type": "code",
   "execution_count": 119,
   "id": "705ec859",
   "metadata": {},
   "outputs": [
    {
     "name": "stdout",
     "output_type": "stream",
     "text": [
      "[-524.84946237 2802.42473118] -2429.1028225806517\n"
     ]
    }
   ],
   "source": [
    "lr = LinearRegression()\n",
    "lr.fit(train_poly, train_target)\n",
    "print(lr.coef_, lr.intercept_)"
   ]
  },
  {
   "cell_type": "code",
   "execution_count": 120,
   "id": "e4f8a367",
   "metadata": {},
   "outputs": [
    {
     "name": "stdout",
     "output_type": "stream",
     "text": [
      "이자율과 물가지수 다항 회귀\n",
      "다항 회귀 coef_: [-524.84946237 2802.42473118] intercept_: -2429.1028225806517\n"
     ]
    }
   ],
   "source": [
    "print(\"이자율과 물가지수 다항 회귀\")\n",
    "print(\"다항 회귀 coef_:\",lr.coef_, \"intercept_:\",lr.intercept_)"
   ]
  },
  {
   "cell_type": "code",
   "execution_count": 121,
   "id": "efb1b57e",
   "metadata": {},
   "outputs": [
    {
     "name": "stdout",
     "output_type": "stream",
     "text": [
      "다항 회귀 train data score:  0.8676269364555872\n",
      "다항 회귀 test data score:  0.7945265214367343\n"
     ]
    }
   ],
   "source": [
    "print(\"다항 회귀 train data score: \", lr.score(train_poly, train_target))\n",
    "print(\"다항 회귀 test data score: \", lr.score(test_poly, test_target))"
   ]
  },
  {
   "cell_type": "markdown",
   "id": "375952de",
   "metadata": {},
   "source": [
    "# 선형 회귀: 실업률과 물가지수 상관 관계 분석"
   ]
  },
  {
   "cell_type": "code",
   "execution_count": 122,
   "id": "88725df5",
   "metadata": {},
   "outputs": [],
   "source": [
    "unemployment_rate = df['unemployment_rate'].to_numpy()"
   ]
  },
  {
   "cell_type": "code",
   "execution_count": 123,
   "id": "0bb8ddf1",
   "metadata": {},
   "outputs": [],
   "source": [
    "train_input, test_input, train_target, test_target = train_test_split(\n",
    "unemployment_rate, index_price, random_state=42)"
   ]
  },
  {
   "cell_type": "code",
   "execution_count": 124,
   "id": "318ea420",
   "metadata": {},
   "outputs": [],
   "source": [
    "train_input = train_input.reshape(-1,1) # 1 컬럼 지정 해놓고 -1 나머지 알아서\n",
    "test_input = test_input.reshape(-1,1)"
   ]
  },
  {
   "cell_type": "code",
   "execution_count": 125,
   "id": "5dd3b7b1",
   "metadata": {},
   "outputs": [
    {
     "name": "stdout",
     "output_type": "stream",
     "text": [
      "[-611.41330166] 4586.05463182898\n"
     ]
    }
   ],
   "source": [
    "lr = LinearRegression()\n",
    "lr.fit(train_input, train_target)\n",
    "\n",
    "print(lr.coef_, lr.intercept_)"
   ]
  },
  {
   "cell_type": "code",
   "execution_count": 126,
   "id": "4cb94964",
   "metadata": {},
   "outputs": [
    {
     "data": {
      "image/png": "[encoded data removed]",
      "text/plain": [
       "<Figure size 432x288 with 1 Axes>"
      ]
     },
     "metadata": {
      "needs_background": "light"
     },
     "output_type": "display_data"
    }
   ],
   "source": [
    "plt.scatter(train_input, train_target, color = 'green')\n",
    "plt.xlabel('Unemployment Rate')\n",
    "plt.ylabel('Index Price')\n",
    "plt.title('Unemployment Rate VS Index Price')\n",
    "plt.show()"
   ]
  },
  {
   "cell_type": "code",
   "execution_count": 127,
   "id": "b759ee66",
   "metadata": {},
   "outputs": [
    {
     "data": {
      "image/png": "[encoded data removed]",
      "text/plain": [
       "<Figure size 432x288 with 1 Axes>"
      ]
     },
     "metadata": {
      "needs_background": "light"
     },
     "output_type": "display_data"
    }
   ],
   "source": [
    "plt.scatter(train_input, train_target)\n",
    "plt.plot([5.3,6.2], [5.3*lr.coef_ + lr.intercept_, 6.2*lr.coef_ + lr.intercept_],\n",
    "        color = 'red', linestyle='--')\n",
    "plt.xlabel('Unemployment Rate')\n",
    "plt.ylabel('Index Price')\n",
    "plt.title('Unemployment Rate VS Index Price')\n",
    "plt.show()"
   ]
  },
  {
   "cell_type": "code",
   "execution_count": 128,
   "id": "c499788e",
   "metadata": {},
   "outputs": [
    {
     "name": "stdout",
     "output_type": "stream",
     "text": [
      "Unemployment Rate vs. Index Price\n",
      "coef_: [-611.41330166] intercept_: 4586.05463182898\n"
     ]
    }
   ],
   "source": [
    "print(\"Unemployment Rate vs. Index Price\")\n",
    "print(\"coef_:\",lr.coef_, \"intercept_:\",lr.intercept_)"
   ]
  },
  {
   "cell_type": "code",
   "execution_count": 129,
   "id": "679940ed",
   "metadata": {},
   "outputs": [
    {
     "name": "stdout",
     "output_type": "stream",
     "text": [
      "train data score: 0.8748908875163574\n",
      "test data score: 0.707475113377226\n"
     ]
    }
   ],
   "source": [
    "print(\"train data score:\", lr.score(train_input, train_target))\n",
    "print(\"test data score:\", lr.score(test_input, test_target))"
   ]
  },
  {
   "cell_type": "markdown",
   "id": "939a1776",
   "metadata": {},
   "source": [
    "# 다항 회귀: 실업률과 물가지수 상관 관계 분석"
   ]
  },
  {
   "cell_type": "code",
   "execution_count": 130,
   "id": "4ef29cb7",
   "metadata": {},
   "outputs": [],
   "source": [
    "train_poly = np.column_stack((train_input**2, train_input))\n",
    "test_poly = np.column_stack((test_input**2, test_input))"
   ]
  },
  {
   "cell_type": "code",
   "execution_count": 131,
   "id": "3bddf482",
   "metadata": {},
   "outputs": [
    {
     "name": "stdout",
     "output_type": "stream",
     "text": [
      "[  -7.26428138 -527.97932022] 4347.248197109266\n"
     ]
    }
   ],
   "source": [
    "lr = LinearRegression()\n",
    "lr.fit(train_poly, train_target)\n",
    "print(lr.coef_, lr.intercept_)"
   ]
  },
  {
   "cell_type": "code",
   "execution_count": 132,
   "id": "d1c129cc",
   "metadata": {},
   "outputs": [
    {
     "data": {
      "image/png": "[encoded data removed]",
      "text/plain": [
       "<Figure size 432x288 with 1 Axes>"
      ]
     },
     "metadata": {
      "needs_background": "light"
     },
     "output_type": "display_data"
    }
   ],
   "source": [
    "point = np.arange(5.3,6.3,0.1)\n",
    "plt.scatter(train_input, train_target)\n",
    "plt.plot(point, -7.26*point**2  - 527.97*point + 4347.24,\n",
    "        color = 'red', linestyle = '--')\n",
    "plt.xlabel('Unemployment Rate')\n",
    "plt.ylabel('Index Price')\n",
    "plt.show()"
   ]
  },
  {
   "cell_type": "code",
   "execution_count": 135,
   "id": "0b814fae",
   "metadata": {},
   "outputs": [
    {
     "name": "stdout",
     "output_type": "stream",
     "text": [
      "실업률과 물가지수 다항 회귀\n",
      "다항 회귀 coef_: [  -7.26428138 -527.97932022] intercept_: 4347.248197109266\n"
     ]
    }
   ],
   "source": [
    "print(\"실업률과 물가지수 다항 회귀\")\n",
    "print(\"다항 회귀 coef_:\",lr.coef_, \"intercept_:\",lr.intercept_)"
   ]
  },
  {
   "cell_type": "code",
   "execution_count": 134,
   "id": "80d88e35",
   "metadata": {},
   "outputs": [
    {
     "name": "stdout",
     "output_type": "stream",
     "text": [
      "다항 회귀 train data score:  0.8748971920999006\n",
      "다항 회귀 test data score:  0.7057073065929076\n"
     ]
    }
   ],
   "source": [
    "print(\"다항 회귀 train data score: \", lr.score(train_poly, train_target))\n",
    "print(\"다항 회귀 test data score: \", lr.score(test_poly, test_target))"
   ]
  },
  {
   "cell_type": "code",
   "execution_count": null,
   "id": "118cee85",
   "metadata": {},
   "outputs": [],
   "source": []
  }
 ],
 "metadata": {
  "kernelspec": {
   "display_name": "Python 3 (ipykernel)",
   "language": "python",
   "name": "python3"
  },
  "language_info": {
   "codemirror_mode": {
    "name": "ipython",
    "version": 3
   },
   "file_extension": ".py",
   "mimetype": "text/x-python",
   "name": "python",
   "nbconvert_exporter": "python",
   "pygments_lexer": "ipython3",
   "version": "3.9.12"
  }
 },
 "nbformat": 4,
 "nbformat_minor": 5
}
