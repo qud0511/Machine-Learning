{
 "cells": [
  {
   "cell_type": "code",
   "execution_count": 7,
   "metadata": {},
   "outputs": [],
   "source": [
    "# import pandas as pd\n",
    "# import numpy as np\n",
    "\n",
    "# data = {'year':[2017,2017,2017,2017,2017,2017,2017,2017,2017,2017,2017,2017,\n",
    "# 2016,2016,2016,2016,2016,2016,2016,2016,2016,2016,2016,2016],\n",
    "# 'month':[12,11,10,9,8,7,6,5,4,3,2,1,12,11,10,9,8,7,6,5,4,3,2,1],\n",
    "# 'interest_rate':[2.75,2.5,2.5,2.5,2.5,2.5,2.5,2.25,2.25,2.25,2,2,2,\n",
    "# 1.75,1.75,1.75,1.75,1.75,1.75,1.75,1.75,1.75,1.75,1.75],\n",
    "# 'unemployment_rate':[5.3,5.3,5.3,5.3,5.4,5.6,5.5,5.5,5.5,5.6,5.7,5.9,6,5.9,\n",
    "# 5.8,6.1,6.2,6.1,6.1,6.1,5.9,6.2,6.2,6.1],\n",
    "# 'index_price':[1464,1394,1357,1293,1256,1254,1234,1195,1159,1167,1130,1075,\n",
    "# 1047,965,943,958,971,949,884,866,876,822,704,719]}"
   ]
  },
  {
   "cell_type": "code",
   "execution_count": null,
   "metadata": {},
   "outputs": [],
   "source": [
    "\n",
    "from tokenize import PlainToken\n",
    "\n",
    "\n",
    "def Linear_regression(col01, col02):\n",
    "    from sklearn.model_selection import train_test_split\n",
    "    train_input, test_input, train_target, test_target = train_test_split(\n",
    "        col01, col02, random_state=42)\n",
    "\n",
    "    import numpy as np\n",
    "    train_input = train_input.reshape(-1, 1)\n",
    "    test_input = test_input.reshape(-1, 1)\n",
    "\n",
    "    from sklearn.linear_model import LinearRegression\n",
    "    lr = LinearRegression()\n",
    "    lr.fit(train_input, train_target)\n",
    "\n",
    "    import matplotlib.pyplot as plt\n",
    "    "
   ]
  }
 ],
 "metadata": {
  "kernelspec": {
   "display_name": "Python 3.9.12 ('EV_PY39')",
   "language": "python",
   "name": "python3"
  },
  "language_info": {
   "codemirror_mode": {
    "name": "ipython",
    "version": 3
   },
   "file_extension": ".py",
   "mimetype": "text/x-python",
   "name": "python",
   "nbconvert_exporter": "python",
   "pygments_lexer": "ipython3",
   "version": "3.9.12"
  },
  "orig_nbformat": 4,
  "vscode": {
   "interpreter": {
    "hash": "c34f60c4b6508d34c0193a1e5ad16bfc3f81e2e087a9e2f73ef284bcb9806a0b"
   }
  }
 },
 "nbformat": 4,
 "nbformat_minor": 2
}
