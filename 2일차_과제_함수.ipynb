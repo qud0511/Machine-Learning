{
 "cells": [
  {
   "cell_type": "code",
   "execution_count": 38,
   "metadata": {},
   "outputs": [],
   "source": [
    "def Linear_regr(colX, colY):\n",
    "\n",
    "    import numpy as np\n",
    "    colX = np.array(colX)\n",
    "    colY = np.array(colY)\n",
    "\n",
    "    from sklearn.model_selection import train_test_split\n",
    "    train_input, test_input, train_target, test_target = train_test_split(\n",
    "        colX, colY, random_state=42)\n",
    "\n",
    "    train_input = train_input.reshape(-1, 1)\n",
    "    test_input = test_input.reshape(-1, 1)\n",
    "\n",
    "    from sklearn.linear_model import LinearRegression\n",
    "    lr = LinearRegression()\n",
    "    lr.fit(train_input, train_target)\n",
    "\n",
    "    print('train data score: ', lr.score(train_input, train_target))\n",
    "    print('test data score: ', lr.score(test_input, test_target))\n",
    "    print('coef_: ', lr.coef_, 'intercept_: ', lr.intercept_)\n",
    "\n",
    "    import matplotlib.pyplot as plt\n",
    "    import pandas as pd\n",
    "    minEle = min(colX)\n",
    "    maxEle = max(colX)\n",
    "    plt.scatter(train_input, train_target, color='blue')\n",
    "    plt.plot([minEle, maxEle], [minEle*lr.coef_ + lr.intercept_,\n",
    "    maxEle*lr.coef_ + lr.intercept_], linestyle='--', color='red')\n",
    "    # plt.xlabel(colX) # 기존의 컬럼명이 들어가는게 아니라 값들이 들어감....\n",
    "    # plt.ylabel(colY)\n",
    "    # plt.title(f'{colX} VS {colY}')\n",
    "    plt.grid()\n",
    "    plt.show()\n",
    "    "
   ]
  },
  {
   "cell_type": "code",
   "execution_count": 43,
   "metadata": {},
   "outputs": [],
   "source": [
    "from tokenize import PlainToken\n",
    "\n",
    "\n",
    "def Polynomial_regr(colX, colY):\n",
    "    import numpy as np\n",
    "    colX = np.array(colX)\n",
    "    colY = np.array(colY)\n",
    "\n",
    "    from sklearn.model_selection import train_test_split\n",
    "    train_input, test_input, train_target, test_target = train_test_split(\n",
    "        colX, colY, random_state=42)\n",
    "\n",
    "    train_input = train_input.reshape(-1, 1)\n",
    "    test_input = test_input.reshape(-1, 1)\n",
    "    \n",
    "    train_poly = np.column_stack((train_input**2, train_input))\n",
    "    test_poly = np.column_stack((test_input**2, test_input))\n",
    "\n",
    "    from sklearn.linear_model import LinearRegression\n",
    "    lr = LinearRegression()\n",
    "    lr.fit(train_poly, train_target)\n",
    "\n",
    "    print('다항 회귀 train data score', lr.score(train_poly, train_target))\n",
    "    print('다항 회귀 test data score', lr.score(test_poly, test_target))\n",
    "    print('다항 회귀 coef_: ', lr.coef_, '다항회귀 intercept_: ', lr.intercept_)\n",
    "\n",
    "    from matplotlib.pyplot import plt\n",
    "    plt.scatter()\n",
    "\n",
    "    "
   ]
  },
  {
   "cell_type": "code",
   "execution_count": 44,
   "metadata": {},
   "outputs": [],
   "source": [
    "import pandas as pd\n",
    "\n",
    "data = {'year':[2017,2017,2017,2017,2017,2017,2017,2017,2017,2017,2017,2017,\n",
    "2016,2016,2016,2016,2016,2016,2016,2016,2016,2016,2016,2016],\n",
    "'month':[12,11,10,9,8,7,6,5,4,3,2,1,12,11,10,9,8,7,6,5,4,3,2,1],\n",
    "'interest_rate':[2.75,2.5,2.5,2.5,2.5,2.5,2.5,2.25,2.25,2.25,2,2,2,\n",
    "1.75,1.75,1.75,1.75,1.75,1.75,1.75,1.75,1.75,1.75,1.75],\n",
    "'unemployment_rate':[5.3,5.3,5.3,5.3,5.4,5.6,5.5,5.5,5.5,5.6,5.7,5.9,6,5.9,\n",
    "5.8,6.1,6.2,6.1,6.1,6.1,5.9,6.2,6.2,6.1],\n",
    "'index_price':[1464,1394,1357,1293,1256,1254,1234,1195,1159,1167,1130,1075,\n",
    "1047,965,943,958,971,949,884,866,876,822,704,719]}\n",
    "\n",
    "df = pd.DataFrame(data)"
   ]
  },
  {
   "cell_type": "code",
   "execution_count": 45,
   "metadata": {},
   "outputs": [
    {
     "name": "stdout",
     "output_type": "stream",
     "text": [
      "train data score:  0.8541859618501457\n",
      "test data score:  0.941892392945057\n",
      "coef_:  [574.45637584] intercept_:  -127.38255033557084\n"
     ]
    },
    {
     "data": {
      "image/png": "[encoded data removed]",
      "text/plain": [
       "<Figure size 432x288 with 1 Axes>"
      ]
     },
     "metadata": {
      "needs_background": "light"
     },
     "output_type": "display_data"
    }
   ],
   "source": [
    "Linear_regr(df['interest_rate'], df['index_price'])\n",
    "# Linear_regression(df.interest_rate, df.index_price)"
   ]
  },
  {
   "cell_type": "code",
   "execution_count": 46,
   "metadata": {},
   "outputs": [
    {
     "name": "stdout",
     "output_type": "stream",
     "text": [
      "다항 회귀 train data score 0.8676269364555872\n",
      "다항 회귀 test data score 0.7945265214367343\n",
      "다항 회귀 coef_:  [-524.84946237 2802.42473118] 다항회귀 intercept_:  -2429.1028225806517\n"
     ]
    },
    {
     "ename": "ImportError",
     "evalue": "cannot import name 'plt' from 'matplotlib.pyplot' (c:\\ProgramData\\Miniconda3\\envs\\EV_PY39\\lib\\site-packages\\matplotlib\\pyplot.py)",
     "output_type": "error",
     "traceback": [
      "\u001b[1;31m---------------------------------------------------------------------------\u001b[0m",
      "\u001b[1;31mImportError\u001b[0m                               Traceback (most recent call last)",
      "\u001b[1;32mc:\\Git_bbj\\Machine-Learning\\2일차_과제_함수.ipynb 셀 5\u001b[0m in \u001b[0;36m<cell line: 1>\u001b[1;34m()\u001b[0m\n\u001b[1;32m----> <a href='vscode-notebook-cell:/c%3A/Git_bbj/Machine-Learning/2%EC%9D%BC%EC%B0%A8_%EA%B3%BC%EC%A0%9C_%ED%95%A8%EC%88%98.ipynb#X14sZmlsZQ%3D%3D?line=0'>1</a>\u001b[0m Polynomial_regr(df[\u001b[39m'\u001b[39;49m\u001b[39minterest_rate\u001b[39;49m\u001b[39m'\u001b[39;49m], df[\u001b[39m'\u001b[39;49m\u001b[39mindex_price\u001b[39;49m\u001b[39m'\u001b[39;49m])\n",
      "\u001b[1;32mc:\\Git_bbj\\Machine-Learning\\2일차_과제_함수.ipynb 셀 5\u001b[0m in \u001b[0;36mPolynomial_regr\u001b[1;34m(colX, colY)\u001b[0m\n\u001b[0;32m     <a href='vscode-notebook-cell:/c%3A/Git_bbj/Machine-Learning/2%EC%9D%BC%EC%B0%A8_%EA%B3%BC%EC%A0%9C_%ED%95%A8%EC%88%98.ipynb#X14sZmlsZQ%3D%3D?line=23'>24</a>\u001b[0m \u001b[39mprint\u001b[39m(\u001b[39m'\u001b[39m\u001b[39m다항 회귀 test data score\u001b[39m\u001b[39m'\u001b[39m, lr\u001b[39m.\u001b[39mscore(test_poly, test_target))\n\u001b[0;32m     <a href='vscode-notebook-cell:/c%3A/Git_bbj/Machine-Learning/2%EC%9D%BC%EC%B0%A8_%EA%B3%BC%EC%A0%9C_%ED%95%A8%EC%88%98.ipynb#X14sZmlsZQ%3D%3D?line=24'>25</a>\u001b[0m \u001b[39mprint\u001b[39m(\u001b[39m'\u001b[39m\u001b[39m다항 회귀 coef_: \u001b[39m\u001b[39m'\u001b[39m, lr\u001b[39m.\u001b[39mcoef_, \u001b[39m'\u001b[39m\u001b[39m다항회귀 intercept_: \u001b[39m\u001b[39m'\u001b[39m, lr\u001b[39m.\u001b[39mintercept_)\n\u001b[1;32m---> <a href='vscode-notebook-cell:/c%3A/Git_bbj/Machine-Learning/2%EC%9D%BC%EC%B0%A8_%EA%B3%BC%EC%A0%9C_%ED%95%A8%EC%88%98.ipynb#X14sZmlsZQ%3D%3D?line=26'>27</a>\u001b[0m \u001b[39mfrom\u001b[39;00m \u001b[39mmatplotlib\u001b[39;00m\u001b[39m.\u001b[39;00m\u001b[39mpyplot\u001b[39;00m \u001b[39mimport\u001b[39;00m plt\n\u001b[0;32m     <a href='vscode-notebook-cell:/c%3A/Git_bbj/Machine-Learning/2%EC%9D%BC%EC%B0%A8_%EA%B3%BC%EC%A0%9C_%ED%95%A8%EC%88%98.ipynb#X14sZmlsZQ%3D%3D?line=27'>28</a>\u001b[0m plt\u001b[39m.\u001b[39mscatter()\n",
      "\u001b[1;31mImportError\u001b[0m: cannot import name 'plt' from 'matplotlib.pyplot' (c:\\ProgramData\\Miniconda3\\envs\\EV_PY39\\lib\\site-packages\\matplotlib\\pyplot.py)"
     ]
    }
   ],
   "source": [
    "Polynomial_regr(df['interest_rate'], df['index_price'])"
   ]
  },
  {
   "cell_type": "code",
   "execution_count": null,
   "metadata": {},
   "outputs": [],
   "source": []
  }
 ],
 "metadata": {
  "kernelspec": {
   "display_name": "Python 3.9.12 ('EV_PY39')",
   "language": "python",
   "name": "python3"
  },
  "language_info": {
   "codemirror_mode": {
    "name": "ipython",
    "version": 3
   },
   "file_extension": ".py",
   "mimetype": "text/x-python",
   "name": "python",
   "nbconvert_exporter": "python",
   "pygments_lexer": "ipython3",
   "version": "3.9.12"
  },
  "orig_nbformat": 4,
  "vscode": {
   "interpreter": {
    "hash": "c34f60c4b6508d34c0193a1e5ad16bfc3f81e2e087a9e2f73ef284bcb9806a0b"
   }
  }
 },
 "nbformat": 4,
 "nbformat_minor": 2
}
