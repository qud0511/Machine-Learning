{
 "cells": [
  {
   "cell_type": "markdown",
   "metadata": {},
   "source": [
    "생선 분류 문제\n",
    "§ 생선 마켓에서 도미와 빙어 분류 문제\n",
    "• 전통적인 프로그램\n",
    "– 다양한 생선 종류 (정해진 기준대로 분류)\n",
    "– 길이만으로 분류하기 어려움"
   ]
  },
  {
   "cell_type": "code",
   "execution_count": 2,
   "metadata": {},
   "outputs": [
    {
     "name": "stdout",
     "output_type": "stream",
     "text": [
      "도미\n"
     ]
    }
   ],
   "source": [
    "fish_length = 40\n",
    "if fish_length >= 30:\n",
    "    print(\"도미\") "
   ]
  },
  {
   "cell_type": "markdown",
   "metadata": {},
   "source": [
    "• 첫 번째 머신 러닝 프로그램\n",
    "– 스스로 기준을 찾고, 기준을 이용하여 생선을 분류\n",
    "– 기준 설정\n",
    "Ø 생선의 길이와 무게로 비교"
   ]
  },
  {
   "cell_type": "code",
   "execution_count": 4,
   "metadata": {},
   "outputs": [
    {
     "data": {
      "image/png": "[encoded data removed]",
      "text/plain": [
       "<Figure size 432x288 with 1 Axes>"
      ]
     },
     "metadata": {
      "needs_background": "light"
     },
     "output_type": "display_data"
    }
   ],
   "source": [
    "# 도미(bream) 데이터 활용:\n",
    "# • 총 35마리의 데이터\n",
    "# • 길이와 무게를 이용한 산점도(scatter plot) 그리기\n",
    "\n",
    "bream_length =\t[25.4,\t26.3,\t26.5,\t29.0,\t29.0,\t29.7,\t29.7,\t30.0,\t30.0,\t30.7,\t31.0,\t\n",
    "31.0,\t31.5,\t32.0,\t32.0,\t32.0,\t33.0,\t33.0,\t33.5,\t33.5,\t34.0,\t34.0,\t\n",
    "34.5,\t35.0,\t35.0,\t35.0,\t35.0,\t36.0,\t36.0,\t37.0,\t38.5,\t38.5,\t39.5,\t\n",
    "41.0,\t41.0]\n",
    "bream_weight = [242.0,\t290.0,\t340.0,\t363.0,\t430.0,\t450.0,\t500.0,\t390.0,\t450.0,\t500.0,\t\n",
    "475.0,\t500.0,\t500.0,\t340.0,\t600.0,\t600.0,\t700.0,\t700.0,\t610.0,\t650.0,\n",
    "575.0,\t685.0,\t620.0,\t680.0,\t700.0,\t725.0,\t720.0,\t714.0,\t850.0,\t1000.0,\n",
    "920.0,\t955.0,\t925.0,\t975.0,\t950.0]\n",
    "\n",
    "import matplotlib.pyplot as plt\n",
    "plt.scatter(bream_length, bream_weight)\n",
    "plt.xlabel('bream length') # x축은 길이\n",
    "plt.ylabel('bream weight') # y축은 무게\n",
    "plt.show()"
   ]
  },
  {
   "cell_type": "markdown",
   "metadata": {},
   "source": [
    "빙어 데이터와 도미 데이터 비교"
   ]
  },
  {
   "cell_type": "code",
   "execution_count": 5,
   "metadata": {},
   "outputs": [
    {
     "data": {
      "image/png": "[encoded data removed]",
      "text/plain": [
       "<Figure size 432x288 with 1 Axes>"
      ]
     },
     "metadata": {
      "needs_background": "light"
     },
     "output_type": "display_data"
    }
   ],
   "source": [
    "# 빙어(smelt) 데이터\n",
    "# • 총 14마리의 빙어 데이터\n",
    "\n",
    "smelt_length = [9.8, 10.5, 10.6, 11.0, 11.2, 11.3, 11.8, 11.8, 12.0, 12.2, \n",
    "12.4, 13.0, 14.3, 15.0]\n",
    "smelt_weight = [6.7, 7.5, 7.0, 9.7, 9.8, 8.7, 10.0, 9.9, 9.8, 12.2, 13.4, \n",
    "12.2, 19.7, 19.9]\n",
    "\n",
    "plt.scatter(bream_length, bream_weight, label='bream')\n",
    "plt.scatter(smelt_length, smelt_weight, label='smelt')\n",
    "plt.xlabel('length')\n",
    "plt.ylabel('weight')\n",
    "plt.legend()\n",
    "plt.show()"
   ]
  },
  {
   "cell_type": "markdown",
   "metadata": {},
   "source": [
    "2차원 리스트로 데이터 변형"
   ]
  },
  {
   "cell_type": "code",
   "execution_count": 6,
   "metadata": {},
   "outputs": [
    {
     "name": "stdout",
     "output_type": "stream",
     "text": [
      "[[25.4, 242.0], [26.3, 290.0], [26.5, 340.0], [29.0, 363.0], [29.0, 430.0], [29.7, 450.0], [29.7, 500.0], [30.0, 390.0], [30.0, 450.0], [30.7, 500.0], [31.0, 475.0], [31.0, 500.0], [31.5, 500.0], [32.0, 340.0], [32.0, 600.0], [32.0, 600.0], [33.0, 700.0], [33.0, 700.0], [33.5, 610.0], [33.5, 650.0], [34.0, 575.0], [34.0, 685.0], [34.5, 620.0], [35.0, 680.0], [35.0, 700.0], [35.0, 725.0], [35.0, 720.0], [36.0, 714.0], [36.0, 850.0], [37.0, 1000.0], [38.5, 920.0], [38.5, 955.0], [39.5, 925.0], [41.0, 975.0], [41.0, 950.0], [9.8, 6.7], [10.5, 7.5], [10.6, 7.0], [11.0, 9.7], [11.2, 9.8], [11.3, 8.7], [11.8, 10.0], [11.8, 9.9], [12.0, 9.8], [12.2, 12.2], [12.4, 13.4], [13.0, 12.2], [14.3, 19.7], [15.0, 19.9]]\n"
     ]
    }
   ],
   "source": [
    "# 도미 데이터와 빙어 데이터 합치기\n",
    "length = bream_length + smelt_length\n",
    "weight = bream_weight + smelt_weight\n",
    "\n",
    "# 데이터 변형\n",
    "# • 1차원 리스트 2개를 2차원 리스트로 변경\n",
    "# • zip(length,\tweight)함수를 이용\n",
    "# – 길이와 무게를 하나의 쌍으로 묶음\n",
    "fish_data = [[l, w] for l, w in zip(length, weight)]\n",
    "print(fish_data)"
   ]
  },
  {
   "cell_type": "markdown",
   "metadata": {},
   "source": [
    "정답 데이터(fish_target) 준비\n",
    "• 생선의 길이와 무게를 이용하여 도미(1)와 빙어(0)를 구분\n",
    "– 찾고자 하는 데이터(도미)를 1로 설정\n",
    "• 원본 데이터:\n",
    "– 도미 데이터: 35마리의 데이터를 1로 설정\n",
    "– 빙어 데이터: 14마리의 데이터를 0으로 설정"
   ]
  },
  {
   "cell_type": "code",
   "execution_count": 7,
   "metadata": {},
   "outputs": [
    {
     "name": "stdout",
     "output_type": "stream",
     "text": [
      "[1, 1, 1, 1, 1, 1, 1, 1, 1, 1, 1, 1, 1, 1, 1, 1, 1, 1, 1, 1, 1, 1, 1, 1, 1, 1, 1, 1, 1, 1, 1, 1, 1, 1, 1, 0, 0, 0, 0, 0, 0, 0, 0, 0, 0, 0, 0, 0, 0]\n"
     ]
    }
   ],
   "source": [
    "fish_target =\t[1]\t*\t35\t+\t[0]\t*\t14\n",
    "print(fish_target)\n",
    "# 도미(1), 방어(1)"
   ]
  },
  {
   "cell_type": "markdown",
   "metadata": {},
   "source": [
    "k-최근접 알고리즘 개요\n",
    "k-최근접 알고리즘(k-Nearest Neighbor, kNN)\n",
    "• 가장 간단한 분류 알고리즘 (classification)\n",
    "• “비슷한 특성을 가진 데이터는 비슷한 범주에 속한다”는 가정\n",
    "• 주변의 가장 가까운 k개의 데이터를 보고, 데이터가 속할 그룹을 판단\n",
    "• 단점\n",
    "– 모든 데이터를 가지고 있어야 됨\n",
    "– 많은 메모리 소모, 거리 계산에 많은 시간이 소요"
   ]
  },
  {
   "cell_type": "markdown",
   "metadata": {},
   "source": [
    "k-최근접 알고리즘 적용 과정\n",
    "모델 생성 -> 모델 훈련(fit) -> 모델 평가(score) -> 새로운 데이터 -> 결과 예측(predict)"
   ]
  },
  {
   "cell_type": "code",
   "execution_count": 10,
   "metadata": {},
   "outputs": [
    {
     "ename": "ModuleNotFoundError",
     "evalue": "No module named 'sklearn'",
     "output_type": "error",
     "traceback": [
      "\u001b[1;31m---------------------------------------------------------------------------\u001b[0m",
      "\u001b[1;31mModuleNotFoundError\u001b[0m                       Traceback (most recent call last)",
      "\u001b[1;32mc:\\Git_bbj\\Machine-Learning\\ML01.ipynb 셀 13\u001b[0m in \u001b[0;36m<cell line: 4>\u001b[1;34m()\u001b[0m\n\u001b[0;32m      <a href='vscode-notebook-cell:/c%3A/Git_bbj/Machine-Learning/ML01.ipynb#X15sZmlsZQ%3D%3D?line=0'>1</a>\u001b[0m \u001b[39m# kNN 모델 생성\u001b[39;00m\n\u001b[0;32m      <a href='vscode-notebook-cell:/c%3A/Git_bbj/Machine-Learning/ML01.ipynb#X15sZmlsZQ%3D%3D?line=1'>2</a>\u001b[0m \u001b[39m# • KNeighborClassifier(n_ngighbors,\t…) 객체 생성\u001b[39;00m\n\u001b[0;32m      <a href='vscode-notebook-cell:/c%3A/Git_bbj/Machine-Learning/ML01.ipynb#X15sZmlsZQ%3D%3D?line=2'>3</a>\u001b[0m \u001b[39m# • 기본 이웃의 개수: n_neighbors=5\u001b[39;00m\n\u001b[1;32m----> <a href='vscode-notebook-cell:/c%3A/Git_bbj/Machine-Learning/ML01.ipynb#X15sZmlsZQ%3D%3D?line=3'>4</a>\u001b[0m \u001b[39mfrom\u001b[39;00m\t\u001b[39msklearn\u001b[39;00m\u001b[39m.\u001b[39;00m\u001b[39mneighbors\u001b[39;00m \u001b[39mimport\u001b[39;00m\tKNeighborsClassifier\n\u001b[0;32m      <a href='vscode-notebook-cell:/c%3A/Git_bbj/Machine-Learning/ML01.ipynb#X15sZmlsZQ%3D%3D?line=4'>5</a>\u001b[0m kn \u001b[39m=\u001b[39m\tKNeighborsClassifier()\n",
      "\u001b[1;31mModuleNotFoundError\u001b[0m: No module named 'sklearn'"
     ]
    }
   ],
   "source": [
    "# kNN 모델 생성\n",
    "# • KNeighborClassifier(n_ngighbors,\t…) 객체 생성\n",
    "# • 기본 이웃의 개수: n_neighbors=5\n",
    "from\tsklearn.neighbors import\tKNeighborsClassifier\n",
    "kn =\tKNeighborsClassifier()"
   ]
  },
  {
   "cell_type": "code",
   "execution_count": null,
   "metadata": {},
   "outputs": [],
   "source": []
  }
 ],
 "metadata": {
  "kernelspec": {
   "display_name": "Python 3.9.12 ('EV_PY39')",
   "language": "python",
   "name": "python3"
  },
  "language_info": {
   "codemirror_mode": {
    "name": "ipython",
    "version": 3
   },
   "file_extension": ".py",
   "mimetype": "text/x-python",
   "name": "python",
   "nbconvert_exporter": "python",
   "pygments_lexer": "ipython3",
   "version": "3.9.12"
  },
  "orig_nbformat": 4,
  "vscode": {
   "interpreter": {
    "hash": "c34f60c4b6508d34c0193a1e5ad16bfc3f81e2e087a9e2f73ef284bcb9806a0b"
   }
  }
 },
 "nbformat": 4,
 "nbformat_minor": 2
}
