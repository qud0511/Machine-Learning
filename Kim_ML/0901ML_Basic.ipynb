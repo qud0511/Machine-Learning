{
 "cells": [
  {
   "cell_type": "markdown",
   "metadata": {},
   "source": [
    "# Sckikit-learn ML 기본동작\n",
    "\n",
    "1) 데이터 수집 & 준비\n",
    "\n",
    "2) 데이터 전처리\n",
    "    -  데이터 / 타겟 분리\n",
    "    - 데이터 표준화 / 정규화\n",
    "    - 타겟(라벨) 인코딩\n",
    "    \n",
    "3) 학습을 위한 데이터 준비\n",
    "    - 데이터셋\n",
    "        * 학습용 데이터셋 => 학습에 사용\n",
    "        * 검증용 데이터셋 => 모델 생성 중에 사용\n",
    "        * 테스트용 데이터셋 => 모델 완성 후 사용\n",
    "\n",
    "4) 학습 모델 생성\n",
    "    - 학습 방법 선정 및 모델 객체 생성\n",
    "    - 학습 진행\n",
    "        * 모델 파라미터 최적화 => 학습에 의해서 결정되는 파라미터\n",
    "        * 최적의 모델 파라미터를 찾기위한 방법으로 => 최적화(optimizer)\n",
    "        * 예) W 가중치, b 절편\n",
    "    - 모델 평가\n",
    "        * 성능 개션 => 하이퍼파라미터(모델마다 다름) => 모델 튜닝\n",
    "        * 예) KNN => K, 학습 횟수, 학습크기(배치 사이즈), 규제 값들\n",
    "\n",
    "5) 모델 테스트\n",
    "    - 학습에 사용되지 않은 데이터\n",
    "    - 새로운 데이터로 테스트 진행"
   ]
  },
  {
   "cell_type": "code",
   "execution_count": 2,
   "metadata": {},
   "outputs": [],
   "source": [
    "# 모듈 로딩\n",
    "from sklearn.model_selection import train_test_split\n",
    "from sklearn.linear_model import LinearRegression"
   ]
  },
  {
   "cell_type": "markdown",
   "metadata": {},
   "source": [
    "##### [1] 데이터 준비"
   ]
  },
  {
   "cell_type": "code",
   "execution_count": 3,
   "metadata": {},
   "outputs": [],
   "source": [
    "# 시간 : 점수\n",
    "X=[2,4,6,8,10,12]\n",
    "y=[40,50,60,70,80,90]"
   ]
  },
  {
   "cell_type": "markdown",
   "metadata": {},
   "source": [
    "##### [2] 데이터 분포 분석 => EDA => 시각화"
   ]
  },
  {
   "cell_type": "code",
   "execution_count": 4,
   "metadata": {},
   "outputs": [],
   "source": [
    "import matplotlib.pyplot as plt"
   ]
  },
  {
   "cell_type": "code",
   "execution_count": 5,
   "metadata": {},
   "outputs": [
    {
     "data": {
      "image/png": "[encoded data removed]",
      "text/plain": [
       "<Figure size 432x288 with 1 Axes>"
      ]
     },
     "metadata": {
      "needs_background": "light"
     },
     "output_type": "display_data"
    }
   ],
   "source": [
    "plt.scatter(X, y)\n",
    "plt.xlabel('Hour')\n",
    "plt.ylabel('Score')\n",
    "plt.show()"
   ]
  },
  {
   "cell_type": "markdown",
   "metadata": {},
   "source": [
    "- 시간과 점수는 비례 관계이다.\n",
    "- 선형의 데이터 분포\n",
    "- 독립변수 => hour\n",
    "- 종속변수 => score"
   ]
  },
  {
   "cell_type": "markdown",
   "metadata": {},
   "source": [
    "##### [2.5] 학습에 사용되는 형태로 데이터 변환"
   ]
  },
  {
   "cell_type": "code",
   "execution_count": 11,
   "metadata": {},
   "outputs": [
    {
     "name": "stdout",
     "output_type": "stream",
     "text": [
      "(2, 6)\n"
     ]
    }
   ],
   "source": [
    "import pandas as pd\n",
    "df = pd.DataFrame([X, y]) # 리스트 안에 리스트 들어감\n",
    "# df = pd.DataFrame({'Hour':X, 'Score':y}) # 딕셔너리로도 가능\n",
    "print(df.shape)"
   ]
  },
  {
   "cell_type": "code",
   "execution_count": 13,
   "metadata": {},
   "outputs": [
    {
     "name": "stdout",
     "output_type": "stream",
     "text": [
      "(6,) (6,)\n"
     ]
    }
   ],
   "source": [
    "import numpy as np\n",
    "arrX=np.array(X)\n",
    "arrY=np.array(y)\n",
    "print(arrX.shape, arrY.shape)"
   ]
  },
  {
   "cell_type": "code",
   "execution_count": 14,
   "metadata": {},
   "outputs": [
    {
     "name": "stdout",
     "output_type": "stream",
     "text": [
      "(6, 1) (6, 1)\n"
     ]
    }
   ],
   "source": [
    "# 1차원의 데이터를 -> 2차원으로\n",
    "arrX=arrX.reshape(-1,1)\n",
    "arrY=arrY.reshape(-1,1)\n",
    "print(arrX.shape, arrY.shape)"
   ]
  },
  {
   "cell_type": "markdown",
   "metadata": {},
   "source": [
    "##### [3] 학습 방법 선택 및 모델 생성\n",
    "    - 시간에 따른 점수 예측\n",
    "    - 데이터 + 라벨 => 지도학습\n",
    "    - 선형 데이터 분포 => 선형 모델을 적용"
   ]
  },
  {
   "cell_type": "code",
   "execution_count": 15,
   "metadata": {},
   "outputs": [
    {
     "name": "stdout",
     "output_type": "stream",
     "text": [
      "w :  [[5.]] b :  [30.]\n"
     ]
    }
   ],
   "source": [
    "#  모델 객체 생성\n",
    "model = LinearRegression()\n",
    "\n",
    "# 학습 => 트레이니 데이터 사용\n",
    "# fit()메서드 => 2차원 형태의 데이터여야 함.\n",
    "model.fit(arrX, arrY)\n",
    "\n",
    "# 모델 파라미터 => w 가중치, b 절편\n",
    "print('w : ', model.coef_, 'b : ', model.intercept_)"
   ]
  },
  {
   "cell_type": "markdown",
   "metadata": {},
   "source": [
    "##### [4] 모델평가\n",
    "    - 테스트(검증) 데이털 평가\n",
    "    - score()\n",
    "        * 분류 : 정답과 예측답의 맞춘 정도\n",
    "            - 정확도\n",
    "        * 회귀 : 정답과 예측답의 차이 오차(Error)\n",
    "            - 손실함수(Loss/Cost Function) : MSE, MAE, RMSE가 낮을 수록 좋음\n",
    "            - R2 계수 : 0 ~ 1 사이, 높을 수록 좋음.\n",
    "            \n",
    "        "
   ]
  },
  {
   "cell_type": "code",
   "execution_count": 16,
   "metadata": {},
   "outputs": [
    {
     "data": {
      "text/plain": [
       "1.0"
      ]
     },
     "execution_count": 16,
     "metadata": {},
     "output_type": "execute_result"
    }
   ],
   "source": [
    "# 회귀 => 결정계수 R^2 반환\n",
    "model.score(arrX, arrY)"
   ]
  },
  {
   "cell_type": "code",
   "execution_count": 17,
   "metadata": {},
   "outputs": [
    {
     "name": "stdout",
     "output_type": "stream",
     "text": [
      "58.0 8.414516322357459e-30\n"
     ]
    }
   ],
   "source": [
    "# 오차 확인\n",
    "from sklearn.metrics import mean_absolute_error, mean_squared_error\n",
    "\n",
    "# 예측값 추출\n",
    "predictY=model.predict(arrX)\n",
    "\n",
    "MAE=mean_absolute_error(arrX, predictY)\n",
    "MSE=mean_squared_error(arrY, predictY)\n",
    "\n",
    "print(MAE, MSE)"
   ]
  },
  {
   "cell_type": "code",
   "execution_count": null,
   "metadata": {},
   "outputs": [],
   "source": []
  }
 ],
 "metadata": {
  "kernelspec": {
   "display_name": "Python 3.9.12 ('EV_PY39')",
   "language": "python",
   "name": "python3"
  },
  "language_info": {
   "codemirror_mode": {
    "name": "ipython",
    "version": 3
   },
   "file_extension": ".py",
   "mimetype": "text/x-python",
   "name": "python",
   "nbconvert_exporter": "python",
   "pygments_lexer": "ipython3",
   "version": "3.9.12"
  },
  "orig_nbformat": 4,
  "vscode": {
   "interpreter": {
    "hash": "c34f60c4b6508d34c0193a1e5ad16bfc3f81e2e087a9e2f73ef284bcb9806a0b"
   }
  }
 },
 "nbformat": 4,
 "nbformat_minor": 2
}
