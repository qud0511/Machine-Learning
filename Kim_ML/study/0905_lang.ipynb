{
 "cells": [
  {
   "cell_type": "code",
   "execution_count": 8,
   "metadata": {},
   "outputs": [],
   "source": [
    "import pandas as pd\n",
    "import numpy as np\n",
    "import matplotlib.pyplot as plt\n",
    "import os\n",
    "import re"
   ]
  },
  {
   "cell_type": "code",
   "execution_count": null,
   "metadata": {},
   "outputs": [],
   "source": [
    "# #텍스트 정제(전처리)\n",
    "# def cleanText(readData):\n",
    "#     #스팸 메세지에 포함되어 있는 특수 문자 제거\n",
    "#     text = re.sub('[-=+,#/\\?:^$.@*\\\"※~&%ㆍ!』\\\\‘|\\(\\)\\[\\]\\<\\>`\\'…》]', '', readData)\n",
    "#     #양쪽(위,아래)줄바꿈 제거\n",
    "#     text = text.strip('\\n')\n",
    "#     return text"
   ]
  },
  {
   "cell_type": "markdown",
   "metadata": {},
   "source": [
    "##### 하나에 대해 해보기"
   ]
  },
  {
   "cell_type": "code",
   "execution_count": 36,
   "metadata": {},
   "outputs": [
    {
     "name": "stdout",
     "output_type": "stream",
     "text": [
      "train data에 대한 알파벳 빈도수\n",
      "a : 349\n",
      "b : 59\n",
      "c : 210\n",
      "d : 212\n",
      "e : 484\n",
      "f : 72\n",
      "g : 88\n",
      "h : 201\n",
      "i : 340\n",
      "j : 8\n",
      "k : 25\n",
      "l : 247\n",
      "m : 121\n",
      "n : 356\n",
      "o : 412\n",
      "p : 76\n",
      "q : 0\n",
      "r : 357\n",
      "s : 282\n",
      "t : 370\n",
      "u : 119\n",
      "v : 45\n",
      "w : 65\n",
      "x : 3\n",
      "y : 92\n",
      "z : 2\n"
     ]
    }
   ],
   "source": [
    "# 알파벳 소문자로 변환\n",
    "train_ex = open('./lang/train/en-1.txt', 'r', encoding='utf-8')\n",
    "train_str_ex = train_ex.read().lower()\n",
    "train_ex.close()\n",
    "\n",
    "test_ex = open('./lang/test/en-1.txt', 'r', encoding='utf-8')\n",
    "test_str_ex = test_ex.read().lower()\n",
    "test_ex.close()\n",
    "\n",
    "# 알파벳 빈도수 계산\n",
    "Alphabet='abcdefghijklmnopqrstuvwxyz'\n",
    "train_freq_ex = [0]*26 # train 알파벳 26자\n",
    "test_freq_ex = [0]*26 # test 알파벳 26자\n",
    "\n",
    "for c in train_str_ex:\n",
    "    if c in Alphabet:\n",
    "        idx = Alphabet.find(c)\n",
    "        train_freq_ex[idx] += 1\n",
    "\n",
    "for c in test_str_ex:\n",
    "    if c in Alphabet:\n",
    "        idx = Alphabet.find(c)\n",
    "        test_freq_ex[idx] += 1\n",
    "\n",
    "# 알파벳 빈도수 출력\n",
    "print('train data에 대한 알파벳 빈도수')\n",
    "for i in range(len(Alphabet)):\n",
    "    print(f'{Alphabet[i]} : {train_freq_ex[i]}')\n",
    "\n",
    "# print('test data에 대한 알파벳 빈도수')\n",
    "# for i in range(len(Alphabet)):\n",
    "#     print(f'{Alphabet[i]} : {test_freq_ex[i]}')"
   ]
  },
  {
   "cell_type": "markdown",
   "metadata": {},
   "source": [
    "### 함수화"
   ]
  },
  {
   "cell_type": "code",
   "execution_count": null,
   "metadata": {},
   "outputs": [],
   "source": []
  }
 ],
 "metadata": {
  "kernelspec": {
   "display_name": "Python 3.9.12 ('EV_PY39')",
   "language": "python",
   "name": "python3"
  },
  "language_info": {
   "codemirror_mode": {
    "name": "ipython",
    "version": 3
   },
   "file_extension": ".py",
   "mimetype": "text/x-python",
   "name": "python",
   "nbconvert_exporter": "python",
   "pygments_lexer": "ipython3",
   "version": "3.9.12"
  },
  "orig_nbformat": 4,
  "vscode": {
   "interpreter": {
    "hash": "c34f60c4b6508d34c0193a1e5ad16bfc3f81e2e087a9e2f73ef284bcb9806a0b"
   }
  }
 },
 "nbformat": 4,
 "nbformat_minor": 2
}
