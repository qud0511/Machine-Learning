{
 "cells": [
  {
   "cell_type": "code",
   "execution_count": 4,
   "metadata": {},
   "outputs": [],
   "source": [
    "\n",
    "\n",
    "def openfiles():\n",
    "    import os\n",
    "    train_listdir = os.listdir('./lang/train/')\n",
    "\n",
    "    for i in range(len(train_listdir)):\n",
    "        for l in train_listdir:\n",
    "            train = open(f'./lang/train/{l}', 'r', encoding='utf-8')\n",
    "            train_str = train.read().lower()\n",
    "            train.close()\n",
    "    return train_str\n",
    "\n",
    "def lowerA(train_str):\n",
    "    \n",
    "    Alphabet='abcdefghijklmnopqrstuvwxyz'\n",
    "    train_freq = [0]*26\n",
    "    \n",
    "    for c in train_str:\n",
    "        if c in Alphabet:\n",
    "            idx = Alphabet.find(c)\n",
    "            train_freq[idx] += 1\n",
    "    return train_freq"
   ]
  },
  {
   "cell_type": "code",
   "execution_count": 5,
   "metadata": {},
   "outputs": [
    {
     "data": {
      "text/plain": [
       "[1469,\n",
       " 165,\n",
       " 142,\n",
       " 269,\n",
       " 466,\n",
       " 42,\n",
       " 240,\n",
       " 49,\n",
       " 548,\n",
       " 17,\n",
       " 107,\n",
       " 367,\n",
       " 173,\n",
       " 834,\n",
       " 491,\n",
       " 224,\n",
       " 13,\n",
       " 286,\n",
       " 472,\n",
       " 335,\n",
       " 202,\n",
       " 35,\n",
       " 42,\n",
       " 3,\n",
       " 246,\n",
       " 22]"
      ]
     },
     "execution_count": 5,
     "metadata": {},
     "output_type": "execute_result"
    }
   ],
   "source": [
    "lowerA(openfiles())"
   ]
  },
  {
   "cell_type": "code",
   "execution_count": null,
   "metadata": {},
   "outputs": [],
   "source": []
  }
 ],
 "metadata": {
  "kernelspec": {
   "display_name": "Python 3.9.12 ('EV_PY39')",
   "language": "python",
   "name": "python3"
  },
  "language_info": {
   "codemirror_mode": {
    "name": "ipython",
    "version": 3
   },
   "file_extension": ".py",
   "mimetype": "text/x-python",
   "name": "python",
   "nbconvert_exporter": "python",
   "pygments_lexer": "ipython3",
   "version": "3.9.12"
  },
  "orig_nbformat": 4,
  "vscode": {
   "interpreter": {
    "hash": "c34f60c4b6508d34c0193a1e5ad16bfc3f81e2e087a9e2f73ef284bcb9806a0b"
   }
  }
 },
 "nbformat": 4,
 "nbformat_minor": 2
}
