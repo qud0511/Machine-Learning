{
 "cells": [
  {
   "cell_type": "code",
   "execution_count": 172,
   "metadata": {},
   "outputs": [],
   "source": [
    "import pandas as pd\n",
    "import numpy as np\n",
    "import matplotlib.pyplot as plt\n",
    "import os\n",
    "import warnings\n",
    "warnings.filterwarnings('ignore')"
   ]
  },
  {
   "cell_type": "code",
   "execution_count": 173,
   "metadata": {},
   "outputs": [],
   "source": [
    "# #텍스트 정제(전처리)\n",
    "# def cleanText(readData):\n",
    "#     #스팸 메세지에 포함되어 있는 특수 문자 제거\n",
    "#     text = re.sub('[-=+,#/\\?:^$.@*\\\"※~&%ㆍ!』\\\\‘|\\(\\)\\[\\]\\<\\>`\\'…》]', '', readData)\n",
    "#     #양쪽(위,아래)줄바꿈 제거/\n",
    "#     text = text.strip('\\n')\n",
    "#     return text"
   ]
  },
  {
   "cell_type": "markdown",
   "metadata": {},
   "source": [
    "##### 하나에 대해 해보기"
   ]
  },
  {
   "cell_type": "code",
   "execution_count": 174,
   "metadata": {},
   "outputs": [],
   "source": [
    "# 알파벳 소문자로 변환\n",
    "train_ex = open('./lang/train/en-1.txt', 'r', encoding='utf-8')\n",
    "train_str_ex = train_ex.read().lower()\n",
    "train_ex.close()\n",
    "\n",
    "test_ex = open('./lang/test/en-1.txt', 'r', encoding='utf-8')\n",
    "test_str_ex = test_ex.read().lower()\n",
    "test_ex.close()\n",
    "\n",
    "# 알파벳 빈도수 계산\n",
    "Alphabet='abcdefghijklmnopqrstuvwxyz'\n",
    "train_freq_ex = [0]*26 # train 알파벳 26자\n",
    "test_freq_ex = [0]*26 # test 알파벳 26자\n",
    "\n",
    "for c in train_str_ex:\n",
    "    if c in Alphabet:\n",
    "        idx = Alphabet.find(c)\n",
    "        train_freq_ex[idx] += 1\n",
    "\n",
    "for c in test_str_ex:\n",
    "    if c in Alphabet:\n",
    "        idx = Alphabet.find(c)\n",
    "        test_freq_ex[idx] += 1\n",
    "\n",
    "# 알파벳 빈도수 출력\n",
    "# print('train data에 대한 알파벳 빈도수')\n",
    "# for i in range(len(Alphabet)):\n",
    "#     print(f'{Alphabet[i]} : {train_freq_ex[i]}')\n",
    "\n",
    "# print('test data에 대한 알파벳 빈도수')\n",
    "# for i in range(len(Alphabet)):\n",
    "#     print(f'{Alphabet[i]} : {test_freq_ex[i]}')\n",
    "\n",
    "# a ~ z 컬럼명 담기\n",
    "Alphabet_names = []\n",
    "for i in range(len(Alphabet)):\n",
    "    Alphabet_names.append(Alphabet[i])\n",
    "\n",
    "# DataFrame으로 만들기\n",
    "# pd.DataFrame(zip(Alphabet_names, train_freq_ex), columns=['Alphabet', 'freq'])\n",
    "\n",
    "# 딕셔너리로 만들기\n",
    "# dict(zip(Alphabet_names, train_freq_ex))"
   ]
  },
  {
   "cell_type": "markdown",
   "metadata": {},
   "source": [
    "### 전체에 대해"
   ]
  },
  {
   "cell_type": "code",
   "execution_count": 175,
   "metadata": {},
   "outputs": [
    {
     "data": {
      "text/html": [
       "<div>\n",
       "<style scoped>\n",
       "    .dataframe tbody tr th:only-of-type {\n",
       "        vertical-align: middle;\n",
       "    }\n",
       "\n",
       "    .dataframe tbody tr th {\n",
       "        vertical-align: top;\n",
       "    }\n",
       "\n",
       "    .dataframe thead th {\n",
       "        text-align: right;\n",
       "    }\n",
       "</style>\n",
       "<table border=\"1\" class=\"dataframe\">\n",
       "  <thead>\n",
       "    <tr style=\"text-align: right;\">\n",
       "      <th></th>\n",
       "      <th>a</th>\n",
       "      <th>b</th>\n",
       "      <th>c</th>\n",
       "      <th>d</th>\n",
       "      <th>e</th>\n",
       "      <th>f</th>\n",
       "      <th>g</th>\n",
       "      <th>h</th>\n",
       "      <th>i</th>\n",
       "      <th>j</th>\n",
       "      <th>...</th>\n",
       "      <th>q</th>\n",
       "      <th>r</th>\n",
       "      <th>s</th>\n",
       "      <th>t</th>\n",
       "      <th>u</th>\n",
       "      <th>v</th>\n",
       "      <th>w</th>\n",
       "      <th>x</th>\n",
       "      <th>y</th>\n",
       "      <th>z</th>\n",
       "    </tr>\n",
       "  </thead>\n",
       "  <tbody>\n",
       "  </tbody>\n",
       "</table>\n",
       "<p>0 rows × 26 columns</p>\n",
       "</div>"
      ],
      "text/plain": [
       "Empty DataFrame\n",
       "Columns: [a, b, c, d, e, f, g, h, i, j, k, l, m, n, o, p, q, r, s, t, u, v, w, x, y, z]\n",
       "Index: []\n",
       "\n",
       "[0 rows x 26 columns]"
      ]
     },
     "execution_count": 175,
     "metadata": {},
     "output_type": "execute_result"
    }
   ],
   "source": [
    "df=pd.DataFrame(columns = Alphabet_names)\n",
    "df"
   ]
  },
  {
   "cell_type": "code",
   "execution_count": 176,
   "metadata": {},
   "outputs": [],
   "source": [
    "# train data\n",
    "train_listdir = os.listdir('./lang/train/') # 해당 경로의 폴더 내 모든 파일 리스트로\n",
    "Alphabet='abcdefghijklmnopqrstuvwxyz'\n",
    "for l in train_listdir:\n",
    "    train_freq = [0]*26\n",
    "    train = open(f'./lang/train/{l}', 'r', encoding='utf-8')\n",
    "    train_str = train.read().lower() # 알파벳 소문자로\n",
    "    for c in train_str:\n",
    "        if c in Alphabet:\n",
    "            idx = Alphabet.find(c) # 알파벳 분류 및 담기\n",
    "            train_freq[idx] += 1\n",
    "\n",
    "    for j in range(len(train_freq)):\n",
    "        train_freq[j] = train_freq[j] / sum(train_freq) # 비율로 변환\n",
    "    df = df.append(pd.Series(train_freq, index=Alphabet_names), ignore_index=True) # 데이터프레임으로 변환, 담을 때 리스트에서 시리즈로 변환\n",
    "    train.close()"
   ]
  },
  {
   "cell_type": "code",
   "execution_count": 177,
   "metadata": {},
   "outputs": [
    {
     "data": {
      "text/html": [
       "<div>\n",
       "<style scoped>\n",
       "    .dataframe tbody tr th:only-of-type {\n",
       "        vertical-align: middle;\n",
       "    }\n",
       "\n",
       "    .dataframe tbody tr th {\n",
       "        vertical-align: top;\n",
       "    }\n",
       "\n",
       "    .dataframe thead th {\n",
       "        text-align: right;\n",
       "    }\n",
       "</style>\n",
       "<table border=\"1\" class=\"dataframe\">\n",
       "  <thead>\n",
       "    <tr style=\"text-align: right;\">\n",
       "      <th></th>\n",
       "      <th>a</th>\n",
       "      <th>b</th>\n",
       "      <th>c</th>\n",
       "      <th>d</th>\n",
       "      <th>e</th>\n",
       "      <th>f</th>\n",
       "      <th>g</th>\n",
       "      <th>h</th>\n",
       "      <th>i</th>\n",
       "      <th>j</th>\n",
       "      <th>...</th>\n",
       "      <th>r</th>\n",
       "      <th>s</th>\n",
       "      <th>t</th>\n",
       "      <th>u</th>\n",
       "      <th>v</th>\n",
       "      <th>w</th>\n",
       "      <th>x</th>\n",
       "      <th>y</th>\n",
       "      <th>z</th>\n",
       "      <th>target</th>\n",
       "    </tr>\n",
       "  </thead>\n",
       "  <tbody>\n",
       "    <tr>\n",
       "      <th>0</th>\n",
       "      <td>0.075952</td>\n",
       "      <td>0.013895</td>\n",
       "      <td>0.050154</td>\n",
       "      <td>0.053305</td>\n",
       "      <td>0.128546</td>\n",
       "      <td>0.021942</td>\n",
       "      <td>0.027420</td>\n",
       "      <td>0.064395</td>\n",
       "      <td>0.116421</td>\n",
       "      <td>0.003100</td>\n",
       "      <td>...</td>\n",
       "      <td>0.267184</td>\n",
       "      <td>0.287924</td>\n",
       "      <td>0.530304</td>\n",
       "      <td>0.362536</td>\n",
       "      <td>0.214689</td>\n",
       "      <td>0.394369</td>\n",
       "      <td>0.029936</td>\n",
       "      <td>0.946070</td>\n",
       "      <td>0.323078</td>\n",
       "      <td>en</td>\n",
       "    </tr>\n",
       "    <tr>\n",
       "      <th>1</th>\n",
       "      <td>0.084178</td>\n",
       "      <td>0.021742</td>\n",
       "      <td>0.033936</td>\n",
       "      <td>0.044909</td>\n",
       "      <td>0.165725</td>\n",
       "      <td>0.025241</td>\n",
       "      <td>0.046467</td>\n",
       "      <td>0.042779</td>\n",
       "      <td>0.122803</td>\n",
       "      <td>0.004873</td>\n",
       "      <td>...</td>\n",
       "      <td>0.289533</td>\n",
       "      <td>0.323920</td>\n",
       "      <td>0.519639</td>\n",
       "      <td>0.426034</td>\n",
       "      <td>0.331733</td>\n",
       "      <td>0.504319</td>\n",
       "      <td>0.147186</td>\n",
       "      <td>0.912341</td>\n",
       "      <td>0.523032</td>\n",
       "      <td>en</td>\n",
       "    </tr>\n",
       "    <tr>\n",
       "      <th>2</th>\n",
       "      <td>0.071646</td>\n",
       "      <td>0.013111</td>\n",
       "      <td>0.049818</td>\n",
       "      <td>0.037494</td>\n",
       "      <td>0.143273</td>\n",
       "      <td>0.020421</td>\n",
       "      <td>0.035794</td>\n",
       "      <td>0.034674</td>\n",
       "      <td>0.144523</td>\n",
       "      <td>0.004445</td>\n",
       "      <td>...</td>\n",
       "      <td>0.178551</td>\n",
       "      <td>0.354395</td>\n",
       "      <td>0.505471</td>\n",
       "      <td>0.365646</td>\n",
       "      <td>0.372544</td>\n",
       "      <td>0.374235</td>\n",
       "      <td>0.027672</td>\n",
       "      <td>0.924569</td>\n",
       "      <td>0.321151</td>\n",
       "      <td>en</td>\n",
       "    </tr>\n",
       "    <tr>\n",
       "      <th>3</th>\n",
       "      <td>0.072210</td>\n",
       "      <td>0.029872</td>\n",
       "      <td>0.033305</td>\n",
       "      <td>0.045502</td>\n",
       "      <td>0.145737</td>\n",
       "      <td>0.023649</td>\n",
       "      <td>0.034020</td>\n",
       "      <td>0.088184</td>\n",
       "      <td>0.106907</td>\n",
       "      <td>0.002768</td>\n",
       "      <td>...</td>\n",
       "      <td>0.196849</td>\n",
       "      <td>0.303591</td>\n",
       "      <td>0.556780</td>\n",
       "      <td>0.325602</td>\n",
       "      <td>0.100929</td>\n",
       "      <td>0.432225</td>\n",
       "      <td>0.233496</td>\n",
       "      <td>0.883350</td>\n",
       "      <td>0.683666</td>\n",
       "      <td>en</td>\n",
       "    </tr>\n",
       "    <tr>\n",
       "      <th>4</th>\n",
       "      <td>0.073806</td>\n",
       "      <td>0.021991</td>\n",
       "      <td>0.034332</td>\n",
       "      <td>0.045317</td>\n",
       "      <td>0.169150</td>\n",
       "      <td>0.029353</td>\n",
       "      <td>0.030240</td>\n",
       "      <td>0.087178</td>\n",
       "      <td>0.109091</td>\n",
       "      <td>0.006184</td>\n",
       "      <td>...</td>\n",
       "      <td>0.236916</td>\n",
       "      <td>0.255074</td>\n",
       "      <td>0.548696</td>\n",
       "      <td>0.317407</td>\n",
       "      <td>0.199611</td>\n",
       "      <td>0.554208</td>\n",
       "      <td>0.158674</td>\n",
       "      <td>0.914104</td>\n",
       "      <td>0.410740</td>\n",
       "      <td>en</td>\n",
       "    </tr>\n",
       "  </tbody>\n",
       "</table>\n",
       "<p>5 rows × 27 columns</p>\n",
       "</div>"
      ],
      "text/plain": [
       "          a         b         c         d         e         f         g  \\\n",
       "0  0.075952  0.013895  0.050154  0.053305  0.128546  0.021942  0.027420   \n",
       "1  0.084178  0.021742  0.033936  0.044909  0.165725  0.025241  0.046467   \n",
       "2  0.071646  0.013111  0.049818  0.037494  0.143273  0.020421  0.035794   \n",
       "3  0.072210  0.029872  0.033305  0.045502  0.145737  0.023649  0.034020   \n",
       "4  0.073806  0.021991  0.034332  0.045317  0.169150  0.029353  0.030240   \n",
       "\n",
       "          h         i         j  ...         r         s         t         u  \\\n",
       "0  0.064395  0.116421  0.003100  ...  0.267184  0.287924  0.530304  0.362536   \n",
       "1  0.042779  0.122803  0.004873  ...  0.289533  0.323920  0.519639  0.426034   \n",
       "2  0.034674  0.144523  0.004445  ...  0.178551  0.354395  0.505471  0.365646   \n",
       "3  0.088184  0.106907  0.002768  ...  0.196849  0.303591  0.556780  0.325602   \n",
       "4  0.087178  0.109091  0.006184  ...  0.236916  0.255074  0.548696  0.317407   \n",
       "\n",
       "          v         w         x         y         z  target  \n",
       "0  0.214689  0.394369  0.029936  0.946070  0.323078      en  \n",
       "1  0.331733  0.504319  0.147186  0.912341  0.523032      en  \n",
       "2  0.372544  0.374235  0.027672  0.924569  0.321151      en  \n",
       "3  0.100929  0.432225  0.233496  0.883350  0.683666      en  \n",
       "4  0.199611  0.554208  0.158674  0.914104  0.410740      en  \n",
       "\n",
       "[5 rows x 27 columns]"
      ]
     },
     "execution_count": 177,
     "metadata": {},
     "output_type": "execute_result"
    }
   ],
   "source": [
    "df['target'] = ['en', 'en','en','en','en','fr','fr','fr','fr','fr','id','id','id','id','id','tl','tl','tl','tl','tl']\n",
    "df.head()\n",
    "# 타겟데이터 설정, 국가별로"
   ]
  },
  {
   "cell_type": "code",
   "execution_count": 178,
   "metadata": {},
   "outputs": [
    {
     "data": {
      "text/plain": [
       "20"
      ]
     },
     "execution_count": 178,
     "metadata": {},
     "output_type": "execute_result"
    }
   ],
   "source": [
    "df['target'].count()"
   ]
  },
  {
   "cell_type": "markdown",
   "metadata": {},
   "source": [
    "### 분석"
   ]
  },
  {
   "cell_type": "code",
   "execution_count": 179,
   "metadata": {},
   "outputs": [],
   "source": [
    "from sklearn.model_selection import train_test_split\n",
    "from sklearn.ensemble import RandomForestClassifier\n",
    "from sklearn.model_selection import cross_validate\n",
    "from sklearn.utils import all_estimators"
   ]
  },
  {
   "cell_type": "code",
   "execution_count": 180,
   "metadata": {},
   "outputs": [],
   "source": [
    "train_X, test_X, train_y, test_y = train_test_split(df[df.columns[0:-1]], df['target'], test_size=0.2, random_state=42)\n",
    "                                                         # input data    # input target"
   ]
  },
  {
   "cell_type": "code",
   "execution_count": 181,
   "metadata": {},
   "outputs": [
    {
     "data": {
      "text/plain": [
       "[('AdaBoostClassifier', 1.0),\n",
       " ('BaggingClassifier', 1.0),\n",
       " ('BernoulliNB', 0.0),\n",
       " ('CalibratedClassifierCV', 0.75),\n",
       " ('CategoricalNB', 0.0),\n",
       " ('ComplementNB', 0.25),\n",
       " ('DecisionTreeClassifier', 0.5),\n",
       " ('DummyClassifier', 0.0),\n",
       " ('ExtraTreeClassifier', 0.25),\n",
       " ('ExtraTreesClassifier', 1.0),\n",
       " ('GaussianNB', 1.0),\n",
       " ('GaussianProcessClassifier', 0.0),\n",
       " ('GradientBoostingClassifier', 1.0),\n",
       " ('HistGradientBoostingClassifier', 0.0),\n",
       " ('KNeighborsClassifier', 0.75),\n",
       " ('LabelPropagation', 1.0),\n",
       " ('LabelSpreading', 1.0),\n",
       " ('LinearDiscriminantAnalysis', 0.75),\n",
       " ('LinearSVC', 0.75),\n",
       " ('LogisticRegression', 0.0),\n",
       " ('LogisticRegressionCV', 0.75),\n",
       " ('MLPClassifier', 1.0),\n",
       " ('MultinomialNB', 0.0),\n",
       " ('NearestCentroid', 0.75),\n",
       " ('NuSVC', 1.0),\n",
       " ('PassiveAggressiveClassifier', 0.75),\n",
       " ('Perceptron', 0.75),\n",
       " ('QuadraticDiscriminantAnalysis', 0.5),\n",
       " ('RadiusNeighborsClassifier', 0.0),\n",
       " ('RandomForestClassifier', 1.0),\n",
       " ('RidgeClassifier', 0.75),\n",
       " ('RidgeClassifierCV', 0.75),\n",
       " ('SGDClassifier', 0.75),\n",
       " ('SVC', 0.0)]"
      ]
     },
     "execution_count": 181,
     "metadata": {},
     "output_type": "execute_result"
    }
   ],
   "source": [
    "# 적합한 모델 찾기\n",
    "scores_list=[]\n",
    "models = all_estimators(type_filter='classifier')\n",
    "\n",
    "for name, model in models:\n",
    "    try:\n",
    "        # 모델 객체를 생성\n",
    "        md = model()\n",
    "        # 학습\n",
    "        md.fit(train_X, train_y)\n",
    "        # 평가\n",
    "        model_score = md.score(test_X, test_y)\n",
    "        scores_list.append((name, np.round(model_score, 4)))\n",
    "    except:\n",
    "        pass\n",
    "\n",
    "scores_list"
   ]
  },
  {
   "cell_type": "code",
   "execution_count": 182,
   "metadata": {},
   "outputs": [
    {
     "name": "stdout",
     "output_type": "stream",
     "text": [
      "train score :  1.0\n",
      "test score :  1.0\n",
      "oob_score_ :  0.875\n"
     ]
    }
   ],
   "source": [
    "# np.array 또는 train_X.values 사용\n",
    "train_X = np.array(train_X)\n",
    "train_y = np.array(train_y)\n",
    "\n",
    "# 모델 생성\n",
    "forest_model = RandomForestClassifier(max_depth=3, oob_score=True)\n",
    "forest_model.fit(train_X, train_y)\n",
    "# 모델 평가\n",
    "print('train score : ', forest_model.score(train_X, train_y))\n",
    "print('test score : ', forest_model.score(test_X, test_y))\n",
    "print('oob_score_ : ', forest_model.oob_score_)"
   ]
  },
  {
   "cell_type": "code",
   "execution_count": 183,
   "metadata": {},
   "outputs": [
    {
     "name": "stdout",
     "output_type": "stream",
     "text": [
      "{'fit_time': array([0.09865689, 0.08630157, 0.08968902]), 'score_time': array([0.00797296, 0.00797176, 0.00598001]), 'test_score': array([1., 1., 1.]), 'train_score': array([1., 1., 1.])}\n",
      "1.0\n"
     ]
    }
   ],
   "source": [
    "# 교차 검증 후 평가점수 확인\n",
    "result = cross_validate(forest_model, df[df.columns[0:-1]], df['target'], return_train_score=True, cv=3)\n",
    "print(result)\n",
    "print(result['test_score'].mean())"
   ]
  },
  {
   "cell_type": "code",
   "execution_count": 184,
   "metadata": {},
   "outputs": [],
   "source": [
    "# 실제로 테스트할 모델 지정\n",
    "\n",
    "def test_lang():\n",
    "    user_text = input('확인할 언어를 입력하십시오 : ')\n",
    "    language_lower = user_text.lower()\n",
    "    \n",
    "    Alphabet = 'abcdefghijklmnopqrstuvwxyz'\n",
    "    Alphabet_freq = [0]*26\n",
    "    for al in language_lower:\n",
    "        if al in Alphabet:\n",
    "            idx = Alphabet.find(al)\n",
    "            Alphabet_freq[idx]+=1\n",
    "\n",
    "    for j in range(len(Alphabet_freq)):\n",
    "        Alphabet_freq[j] = Alphabet_freq[j] / sum(Alphabet_freq)\n",
    "    print('입력한 언어에 해당하는 언어는 ', forest_model.predict([Alphabet_freq])[0])\n",
    "\n"
   ]
  },
  {
   "cell_type": "code",
   "execution_count": 185,
   "metadata": {},
   "outputs": [
    {
     "name": "stdout",
     "output_type": "stream",
     "text": [
      "입력한 언어에 해당하는 언어는  en\n"
     ]
    }
   ],
   "source": [
    "test_lang()"
   ]
  },
  {
   "cell_type": "code",
   "execution_count": 187,
   "metadata": {},
   "outputs": [],
   "source": [
    "# 테스트 해본 문장 : \n",
    "# Microsoft Windows (or simply Windows) is a metafamily of graphical operating systems developed, marketed, and sold by Microsoft. It consists of several families of operating systems, each of which cater to a certain sector of the computing industry. Active Windows families include Windows NT, Windows Embedded and Windows Phone; these may encompass subfamilies, e.g. Windows Embedded Compact (Windows CE) or Windows Server. Defunct Windows families include Windows 9x; Windows 10 Mobile is an active product, unrelated to the defunct family Windows Mobile.\n",
    "# Microsoft introduced an operating environment named Windows on November 20, 1985, as a graphical operating system shell for MS-DOS in response to the growing interest in graphical user interfaces (GUIs).[4] Microsoft Windows came to dominate the world's personal computer (PC) market with over 90% market share, overtaking Mac OS, which had been introduced in 1984. On PCs, Windows is still the most popular operating system. However, in 2014, Microsoft admitted losing the majority of the overall operating system market to Android,[5] because of the massive growth in sales of Android smartphones. In 2014, the number of Windows devices sold were less than 25% of Android devices sold. This comparisons, however, may not be fully relevant as the two operating systems traditionally targeted different platforms.\n",
    "# As of March 2016[update], the most recent version of Windows for PCs, tablets, smartphones and embedded devices is Windows 10. The most recent versions for server computers is Windows Server 2012 R2. A specialized version of Windows runs on the Xbox One game console.[6]"
   ]
  }
 ],
 "metadata": {
  "kernelspec": {
   "display_name": "Python 3.9.13 ('EV_PY3.9')",
   "language": "python",
   "name": "python3"
  },
  "language_info": {
   "codemirror_mode": {
    "name": "ipython",
    "version": 3
   },
   "file_extension": ".py",
   "mimetype": "text/x-python",
   "name": "python",
   "nbconvert_exporter": "python",
   "pygments_lexer": "ipython3",
   "version": "3.9.13"
  },
  "orig_nbformat": 4,
  "vscode": {
   "interpreter": {
    "hash": "13acb295a180db814dae502e2a918586ebb60545aa897424b0a712f38270c5ef"
   }
  }
 },
 "nbformat": 4,
 "nbformat_minor": 2
}
