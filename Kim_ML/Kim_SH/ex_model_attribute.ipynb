{
 "cells": [
  {
   "cell_type": "markdown",
   "id": "afcc29b7",
   "metadata": {},
   "source": [
    "## 모델 속성 및 W,b초기값 고정\n",
    "---\n",
    "- 모델 속성 확인\n",
    "- 모델 생성 시 랜덤으로 초기화 되는 W,b값 고정"
   ]
  },
  {
   "cell_type": "code",
   "execution_count": 20,
   "id": "2fb094fb",
   "metadata": {},
   "outputs": [],
   "source": [
    "from tensorflow.keras import models, layers\n",
    "import numpy as np\n",
    "from tensorflow import random         # random seed 설정용 "
   ]
  },
  {
   "cell_type": "code",
   "execution_count": 21,
   "id": "4c96770f",
   "metadata": {},
   "outputs": [],
   "source": [
    "# 임시 테스트 데이터\n",
    "# 특성 Feature 시간, 과외횟수 2개, 출력 1개 점수\n",
    "X=np.array([[2,0],[3,0],[4,3],[5,1],[6,1],[7, 0],[8, 2]])\n",
    "y=np.array([52,56,71,77,82,94,100])"
   ]
  },
  {
   "cell_type": "code",
   "execution_count": 22,
   "id": "e7d814d3",
   "metadata": {},
   "outputs": [
    {
     "data": {
      "text/plain": [
       "((7, 2), (7,))"
      ]
     },
     "execution_count": 22,
     "metadata": {},
     "output_type": "execute_result"
    }
   ],
   "source": [
    "X.shape, y.shape"
   ]
  },
  {
   "cell_type": "code",
   "execution_count": 23,
   "id": "0fe5e9f7",
   "metadata": {},
   "outputs": [],
   "source": [
    "## W,b 초기값 고정 \n",
    "random.set_seed(11)"
   ]
  },
  {
   "cell_type": "markdown",
   "id": "1ef19743",
   "metadata": {},
   "source": [
    "### 모델 구상"
   ]
  },
  {
   "cell_type": "code",
   "execution_count": 24,
   "id": "61770e27",
   "metadata": {},
   "outputs": [],
   "source": [
    "model=models.Sequential()"
   ]
  },
  {
   "cell_type": "code",
   "execution_count": 25,
   "id": "8142d836",
   "metadata": {},
   "outputs": [],
   "source": [
    "model.add(layers.Dense(15, activation='relu', input_shape=(2,)))"
   ]
  },
  {
   "cell_type": "code",
   "execution_count": 26,
   "id": "74501cb9",
   "metadata": {},
   "outputs": [],
   "source": [
    "model.add(layers.Dense(1, activation='linear'))"
   ]
  },
  {
   "cell_type": "code",
   "execution_count": 27,
   "id": "49c56c28",
   "metadata": {},
   "outputs": [],
   "source": [
    "\n",
    "#globalObj=random.get_global_generator()\n"
   ]
  },
  {
   "cell_type": "code",
   "execution_count": 28,
   "id": "baad7830",
   "metadata": {},
   "outputs": [],
   "source": [
    "#globalObj.reset_from_seed(12)"
   ]
  },
  {
   "cell_type": "markdown",
   "id": "ab7c30f5",
   "metadata": {},
   "source": [
    "###  모델 속성 확인\n",
    "---"
   ]
  },
  {
   "cell_type": "code",
   "execution_count": 29,
   "id": "fc880d3a",
   "metadata": {},
   "outputs": [
    {
     "data": {
      "text/plain": [
       "[<keras.layers.core.dense.Dense at 0x14f7fc4d250>,\n",
       " <keras.layers.core.dense.Dense at 0x14f7fd81940>]"
      ]
     },
     "execution_count": 29,
     "metadata": {},
     "output_type": "execute_result"
    }
   ],
   "source": [
    "model.layers"
   ]
  },
  {
   "cell_type": "code",
   "execution_count": 30,
   "id": "6c9adf1e",
   "metadata": {},
   "outputs": [],
   "source": [
    "l1=model.layers[0]"
   ]
  },
  {
   "cell_type": "code",
   "execution_count": 31,
   "id": "730588ff",
   "metadata": {},
   "outputs": [
    {
     "data": {
      "text/plain": [
       "array([[-0.29631114,  0.37537187, -0.24640921,  0.5142406 ,  0.31416845,\n",
       "        -0.41857034, -0.19999248, -0.58546865, -0.3554358 ,  0.58291185,\n",
       "        -0.12107381,  0.3238395 , -0.06760222, -0.02177614,  0.05121469],\n",
       "       [ 0.3202483 ,  0.16437584, -0.42809546, -0.22091794,  0.47248828,\n",
       "        -0.02519327, -0.32629982,  0.12834728,  0.30775893,  0.09019065,\n",
       "         0.07265884, -0.48352158, -0.19885129, -0.11066794, -0.15434334]],\n",
       "      dtype=float32)"
      ]
     },
     "execution_count": 31,
     "metadata": {},
     "output_type": "execute_result"
    }
   ],
   "source": [
    "l1.get_weights()[0]"
   ]
  },
  {
   "cell_type": "code",
   "execution_count": null,
   "id": "40e829e9",
   "metadata": {},
   "outputs": [],
   "source": []
  },
  {
   "cell_type": "code",
   "execution_count": 32,
   "id": "479dc794",
   "metadata": {},
   "outputs": [],
   "source": [
    "# l2_model=models.Sequential()"
   ]
  },
  {
   "cell_type": "code",
   "execution_count": 33,
   "id": "48f6bc51",
   "metadata": {},
   "outputs": [],
   "source": [
    "# l2_model.add(layers.Dense(3, \n",
    "#                           kernel_regularizer=regularizers.l2(0.001), \n",
    "#                           activation='relu',\n",
    "#                           input_shape=(2,)))\n",
    "# l2_model.add(layers.Dense(3, \n",
    "#                           kernel_regularizer=regularizers.l2(0.001), \n",
    "#                           activation='relu'))\n",
    "# l2_model.add(layers.Dense(1, activation='linear'))"
   ]
  },
  {
   "cell_type": "code",
   "execution_count": 34,
   "id": "8129b1fa",
   "metadata": {},
   "outputs": [],
   "source": [
    "# l2_model.get_weights()[0].round(3)"
   ]
  },
  {
   "cell_type": "code",
   "execution_count": 35,
   "id": "ea08333e",
   "metadata": {},
   "outputs": [],
   "source": [
    "# l2_model.compile(loss='mse')"
   ]
  },
  {
   "cell_type": "code",
   "execution_count": null,
   "id": "9d0cd750",
   "metadata": {},
   "outputs": [],
   "source": []
  },
  {
   "cell_type": "code",
   "execution_count": 36,
   "id": "6c117e87",
   "metadata": {},
   "outputs": [],
   "source": [
    "# l2_model.fit(X,y, epochs=5, verbose=0)"
   ]
  },
  {
   "cell_type": "code",
   "execution_count": 37,
   "id": "c253ddbd",
   "metadata": {},
   "outputs": [],
   "source": [
    "# l2_model.get_weights()[0].round(3)"
   ]
  },
  {
   "cell_type": "code",
   "execution_count": null,
   "id": "c7c97d36",
   "metadata": {},
   "outputs": [],
   "source": []
  },
  {
   "cell_type": "code",
   "execution_count": null,
   "id": "b54eec5b",
   "metadata": {},
   "outputs": [],
   "source": []
  }
 ],
 "metadata": {
  "kernelspec": {
   "display_name": "Python 3 (ipykernel)",
   "language": "python",
   "name": "python3"
  },
  "language_info": {
   "codemirror_mode": {
    "name": "ipython",
    "version": 3
   },
   "file_extension": ".py",
   "mimetype": "text/x-python",
   "name": "python",
   "nbconvert_exporter": "python",
   "pygments_lexer": "ipython3",
   "version": "3.9.12"
  }
 },
 "nbformat": 4,
 "nbformat_minor": 5
}
