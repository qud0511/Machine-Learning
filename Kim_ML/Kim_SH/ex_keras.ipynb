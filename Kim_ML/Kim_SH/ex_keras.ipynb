{
 "cells": [
  {
   "cell_type": "markdown",
   "id": "495ccc1a",
   "metadata": {},
   "source": [
    "## Keras LIB\n",
    "---\n",
    "- Tensorflow 기반의 Keras 패키지\n",
    "- 기본 데이터 Tensor 타입\n",
    "- 모델을 직접 설계/생성 해야함!!!"
   ]
  },
  {
   "cell_type": "code",
   "execution_count": 181,
   "id": "7639a864",
   "metadata": {},
   "outputs": [],
   "source": [
    "import tensorflow as tf"
   ]
  },
  {
   "cell_type": "code",
   "execution_count": 182,
   "id": "7cae43bd",
   "metadata": {},
   "outputs": [],
   "source": [
    "from tensorflow.keras import Sequential\n",
    "from tensorflow.keras.layers import Dense\n",
    "import numpy as np\n",
    "from sklearn.datasets import load_iris"
   ]
  },
  {
   "cell_type": "code",
   "execution_count": 183,
   "id": "356061f0",
   "metadata": {},
   "outputs": [],
   "source": [
    "from keras import Sequential\n",
    "from keras.layers import Dense"
   ]
  },
  {
   "cell_type": "code",
   "execution_count": 184,
   "id": "5b409989",
   "metadata": {},
   "outputs": [
    {
     "data": {
      "text/plain": [
       "'2.9.1'"
      ]
     },
     "execution_count": 184,
     "metadata": {},
     "output_type": "execute_result"
    }
   ],
   "source": [
    "import tensorflow\n",
    "tensorflow.__version__"
   ]
  },
  {
   "cell_type": "code",
   "execution_count": 185,
   "id": "cd070ecc",
   "metadata": {},
   "outputs": [],
   "source": [
    "## 데이터 로딩\n",
    "iris=load_iris()"
   ]
  },
  {
   "cell_type": "code",
   "execution_count": 186,
   "id": "b1f006ab",
   "metadata": {},
   "outputs": [],
   "source": [
    "data=iris.data\n",
    "target=iris.target"
   ]
  },
  {
   "cell_type": "code",
   "execution_count": 187,
   "id": "14107ca0",
   "metadata": {},
   "outputs": [
    {
     "name": "stdout",
     "output_type": "stream",
     "text": [
      "(150, 4) (150,)\n"
     ]
    }
   ],
   "source": [
    "print(data.shape, target.shape)"
   ]
  },
  {
   "cell_type": "code",
   "execution_count": 188,
   "id": "bb159140",
   "metadata": {},
   "outputs": [
    {
     "data": {
      "text/plain": [
       "array([[5.1, 3.5, 1.4, 0.2]])"
      ]
     },
     "execution_count": 188,
     "metadata": {},
     "output_type": "execute_result"
    }
   ],
   "source": [
    "data[:1]"
   ]
  },
  {
   "cell_type": "code",
   "execution_count": 189,
   "id": "a0120fd3",
   "metadata": {},
   "outputs": [
    {
     "data": {
      "text/plain": [
       "(array([0, 0, 0, 0, 0]), array([1, 1, 1, 1, 1]), array([2, 2, 2, 2, 2]))"
      ]
     },
     "execution_count": 189,
     "metadata": {},
     "output_type": "execute_result"
    }
   ],
   "source": [
    "target[:5], target[50:55], target[100:105]"
   ]
  },
  {
   "cell_type": "code",
   "execution_count": null,
   "id": "f3dd6efe",
   "metadata": {},
   "outputs": [],
   "source": []
  },
  {
   "cell_type": "code",
   "execution_count": 190,
   "id": "2c810c55",
   "metadata": {},
   "outputs": [],
   "source": [
    "from sklearn.preprocessing import LabelEncoder, OneHotEncoder"
   ]
  },
  {
   "cell_type": "code",
   "execution_count": 191,
   "id": "7874ba0a",
   "metadata": {},
   "outputs": [],
   "source": [
    "label=LabelEncoder()\n",
    "target_=label.fit(target).transform(target)"
   ]
  },
  {
   "cell_type": "code",
   "execution_count": 192,
   "id": "71615d3b",
   "metadata": {},
   "outputs": [],
   "source": [
    "ohe=OneHotEncoder()\n",
    "target_2=ohe.fit(target.reshape(-1,1)).transform(target.reshape(-1,1))"
   ]
  },
  {
   "cell_type": "code",
   "execution_count": 193,
   "id": "36c033e5",
   "metadata": {},
   "outputs": [
    {
     "data": {
      "text/plain": [
       "scipy.sparse.csr.csr_matrix"
      ]
     },
     "execution_count": 193,
     "metadata": {},
     "output_type": "execute_result"
    }
   ],
   "source": [
    "type(target_2)"
   ]
  },
  {
   "cell_type": "code",
   "execution_count": 194,
   "id": "e0ca59b4",
   "metadata": {},
   "outputs": [
    {
     "data": {
      "text/plain": [
       "(numpy.ndarray,\n",
       " array([1., 0., 0.]),\n",
       " array([0., 1., 0.]),\n",
       " array([0., 0., 1.]),\n",
       " (150, 3))"
      ]
     },
     "execution_count": 194,
     "metadata": {},
     "output_type": "execute_result"
    }
   ],
   "source": [
    "target_3=target_2.toarray()\n",
    "type(target_3),     target_3[0], target_3[50], target_3[100], target_3.shape"
   ]
  },
  {
   "cell_type": "markdown",
   "id": "5e6d7c2b",
   "metadata": {},
   "source": [
    "### [1] 모델 구성"
   ]
  },
  {
   "cell_type": "code",
   "execution_count": 195,
   "id": "32108c9b",
   "metadata": {},
   "outputs": [],
   "source": [
    "model=Sequential(name='IRIS')"
   ]
  },
  {
   "cell_type": "code",
   "execution_count": 196,
   "id": "b363bba1",
   "metadata": {},
   "outputs": [],
   "source": [
    "# 첫번째 층은 반드시 입력정보 파라미터 설정 => input_shape=() 튜플, input_dim=숫자\n",
    "# 각 노드(퍼셉트론, 유닛) : 4개 입력 / 출력 : 1개 \n",
    "# 총 10개가 다음 층(Layer)의 입력 \n",
    "l1=Dense(10, activation='relu', input_shape=(4,))"
   ]
  },
  {
   "cell_type": "code",
   "execution_count": 197,
   "id": "6f05715e",
   "metadata": {},
   "outputs": [],
   "source": [
    "# 각 노드(퍼셉트론, 유닛) : 10개 입력 / 출력 : 1개\n",
    "# 총 3개 출력\n",
    "l2=Dense(3, activation='softmax')"
   ]
  },
  {
   "cell_type": "code",
   "execution_count": 198,
   "id": "a3502a7c",
   "metadata": {},
   "outputs": [],
   "source": [
    "model.add(l1)\n",
    "model.add(l2)"
   ]
  },
  {
   "cell_type": "code",
   "execution_count": 199,
   "id": "1b2ce78e",
   "metadata": {},
   "outputs": [
    {
     "name": "stdout",
     "output_type": "stream",
     "text": [
      "Model: \"IRIS\"\n",
      "_________________________________________________________________\n",
      " Layer (type)                Output Shape              Param #   \n",
      "=================================================================\n",
      " dense_33 (Dense)            (None, 10)                50        \n",
      "                                                                 \n",
      " dense_34 (Dense)            (None, 3)                 33        \n",
      "                                                                 \n",
      "=================================================================\n",
      "Total params: 83\n",
      "Trainable params: 83\n",
      "Non-trainable params: 0\n",
      "_________________________________________________________________\n"
     ]
    }
   ],
   "source": [
    "## 모델 구성 확인 => summary()\n",
    "model.summary()"
   ]
  },
  {
   "cell_type": "markdown",
   "id": "81e5411e",
   "metadata": {},
   "source": [
    "### [2] 모델 생성\n",
    "---\n",
    "- 손실함수, 최적화 기법, 성능평가항목 설정\n",
    "- compile() 메서드\n",
    "    * optimizer :  string 타입의 최적화기법명 입력 또는 객체 <- 기본값 사용하지 않는 경우\n",
    "    * loss :  손실함수로 string 타입의 이름 입\n",
    "        - 분류 : categorical_crossentropy, sparse_categorical_crossentropy, binary_crossentropy\n",
    "        - 회귀 : mean_squred_error, mean_absolute_error..\n",
    "    * metrics : 모델 평가 항목\n",
    "        - accuracy, mse, mae..."
   ]
  },
  {
   "cell_type": "code",
   "execution_count": 200,
   "id": "9e5f0b3e",
   "metadata": {},
   "outputs": [],
   "source": [
    "model.compile(optimizer='adam', loss='categorical_crossentropy', metrics=['accuracy'])"
   ]
  },
  {
   "cell_type": "markdown",
   "id": "fa73d3e5",
   "metadata": {},
   "source": [
    "### [3] 학습\n",
    "---\n",
    "- fit() 메서드\n",
    "    * 훈련용 데이터\n",
    "    * 훈련용 타겟\n",
    "    * epochs : 학습 횟수(처음~끝까지)\n",
    "    * batch_size : 한번 학습량 (기:32)\n",
    "    * validation_split / validation_data=(,) :  검증 데이터 설정 \n",
    "    * callbacks: 이벤트처리 함수 목록 (예: 학습중단 이벤트, 모델 검증 및 저장 이벤트...)\n",
    "    * verbose : 학습 과정 출력 여부 설정(기: True)\n",
    "    "
   ]
  },
  {
   "cell_type": "code",
   "execution_count": 201,
   "id": "f1aacaec",
   "metadata": {},
   "outputs": [
    {
     "name": "stdout",
     "output_type": "stream",
     "text": [
      "Epoch 1/5\n",
      "5/5 [==============================] - 1s 2ms/step - loss: 5.0611 - accuracy: 0.3333\n",
      "Epoch 2/5\n",
      "5/5 [==============================] - 0s 4ms/step - loss: 4.8217 - accuracy: 0.3333\n",
      "Epoch 3/5\n",
      "5/5 [==============================] - 0s 14ms/step - loss: 4.5914 - accuracy: 0.3333\n",
      "Epoch 4/5\n",
      "5/5 [==============================] - 0s 3ms/step - loss: 4.3618 - accuracy: 0.3333\n",
      "Epoch 5/5\n",
      "5/5 [==============================] - 0s 3ms/step - loss: 4.1340 - accuracy: 0.3333\n"
     ]
    },
    {
     "data": {
      "text/plain": [
       "<keras.callbacks.History at 0x26dabf967f0>"
      ]
     },
     "execution_count": 201,
     "metadata": {},
     "output_type": "execute_result"
    }
   ],
   "source": [
    "model.fit(data, target_3, epochs=5)"
   ]
  },
  {
   "cell_type": "markdown",
   "id": "3aa54b8f",
   "metadata": {},
   "source": [
    "### [4] 평가\n",
    "---\n",
    "- evaluate() 메서드\n",
    "- 테스트용 데이터로 진행"
   ]
  },
  {
   "cell_type": "code",
   "execution_count": 207,
   "id": "ffb24382",
   "metadata": {},
   "outputs": [
    {
     "name": "stdout",
     "output_type": "stream",
     "text": [
      "5/5 [==============================] - 0s 3ms/step - loss: 4.0024 - accuracy: 0.3333\n"
     ]
    },
    {
     "data": {
      "text/plain": [
       "[4.002392292022705, 0.3333333432674408]"
      ]
     },
     "execution_count": 207,
     "metadata": {},
     "output_type": "execute_result"
    }
   ],
   "source": [
    "## 평가\n",
    "model.evaluate(data, target_3)"
   ]
  },
  {
   "cell_type": "markdown",
   "id": "695ed5fc",
   "metadata": {},
   "source": [
    "### [5]  예측\n",
    "---\n",
    "- predit()"
   ]
  },
  {
   "cell_type": "code",
   "execution_count": 206,
   "id": "5c7648b9",
   "metadata": {},
   "outputs": [
    {
     "name": "stdout",
     "output_type": "stream",
     "text": [
      "1/1 [==============================] - 0s 42ms/step\n"
     ]
    },
    {
     "data": {
      "text/plain": [
       "array([[0.9370551 , 0.05725253, 0.00569241]], dtype=float32)"
      ]
     },
     "execution_count": 206,
     "metadata": {},
     "output_type": "execute_result"
    }
   ],
   "source": [
    "# 예측\n",
    "model.predict([[5.1, 3.5, 1.4, 0.2]])"
   ]
  },
  {
   "cell_type": "code",
   "execution_count": null,
   "id": "0f5d12b2",
   "metadata": {},
   "outputs": [],
   "source": []
  },
  {
   "cell_type": "code",
   "execution_count": null,
   "id": "32fb6462",
   "metadata": {},
   "outputs": [],
   "source": []
  }
 ],
 "metadata": {
  "kernelspec": {
   "display_name": "Python 3 (ipykernel)",
   "language": "python",
   "name": "python3"
  },
  "language_info": {
   "codemirror_mode": {
    "name": "ipython",
    "version": 3
   },
   "file_extension": ".py",
   "mimetype": "text/x-python",
   "name": "python",
   "nbconvert_exporter": "python",
   "pygments_lexer": "ipython3",
   "version": "3.9.12"
  }
 },
 "nbformat": 4,
 "nbformat_minor": 5
}
