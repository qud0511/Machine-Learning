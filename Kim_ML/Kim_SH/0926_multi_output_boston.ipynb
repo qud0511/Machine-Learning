{
 "cells": [
  {
   "cell_type": "markdown",
   "id": "3c00c330",
   "metadata": {},
   "source": [
    "## MULTIOUTPUT MODEL\n",
    "---\n",
    "- 다중입력 + 다중출력 모델"
   ]
  },
  {
   "cell_type": "markdown",
   "id": "f04c51d3",
   "metadata": {},
   "source": [
    "## [1] 데이터 준비\n",
    "---"
   ]
  },
  {
   "cell_type": "code",
   "execution_count": 20,
   "id": "d824ab82",
   "metadata": {},
   "outputs": [],
   "source": [
    "# 데이터 처리관련 모듈 로딩 -----------------------------------------------\n",
    "from sklearn.datasets import load_boston\n",
    "from sklearn.model_selection import train_test_split\n",
    "import pandas as pd\n",
    "import numpy as np\n",
    "import warnings\n",
    "\n",
    "warnings.filterwarnings('ignore')"
   ]
  },
  {
   "cell_type": "code",
   "execution_count": 21,
   "id": "b5dfb42d",
   "metadata": {},
   "outputs": [],
   "source": [
    "boston = load_boston()"
   ]
  },
  {
   "cell_type": "code",
   "execution_count": 22,
   "id": "9d7c1dc7",
   "metadata": {},
   "outputs": [],
   "source": [
    "data = pd.DataFrame(boston.data)"
   ]
  },
  {
   "cell_type": "code",
   "execution_count": 23,
   "id": "7f2ffe2c",
   "metadata": {},
   "outputs": [],
   "source": [
    "data.columns = boston.feature_names"
   ]
  },
  {
   "cell_type": "code",
   "execution_count": 24,
   "id": "e2439f46",
   "metadata": {},
   "outputs": [
    {
     "data": {
      "text/html": [
       "<div>\n",
       "<style scoped>\n",
       "    .dataframe tbody tr th:only-of-type {\n",
       "        vertical-align: middle;\n",
       "    }\n",
       "\n",
       "    .dataframe tbody tr th {\n",
       "        vertical-align: top;\n",
       "    }\n",
       "\n",
       "    .dataframe thead th {\n",
       "        text-align: right;\n",
       "    }\n",
       "</style>\n",
       "<table border=\"1\" class=\"dataframe\">\n",
       "  <thead>\n",
       "    <tr style=\"text-align: right;\">\n",
       "      <th></th>\n",
       "      <th>CRIM</th>\n",
       "      <th>ZN</th>\n",
       "      <th>INDUS</th>\n",
       "      <th>CHAS</th>\n",
       "      <th>NOX</th>\n",
       "      <th>RM</th>\n",
       "      <th>AGE</th>\n",
       "      <th>DIS</th>\n",
       "      <th>RAD</th>\n",
       "      <th>TAX</th>\n",
       "      <th>PTRATIO</th>\n",
       "      <th>B</th>\n",
       "      <th>LSTAT</th>\n",
       "      <th>PRICE</th>\n",
       "    </tr>\n",
       "  </thead>\n",
       "  <tbody>\n",
       "    <tr>\n",
       "      <th>0</th>\n",
       "      <td>0.00632</td>\n",
       "      <td>18.0</td>\n",
       "      <td>2.31</td>\n",
       "      <td>0.0</td>\n",
       "      <td>0.538</td>\n",
       "      <td>6.575</td>\n",
       "      <td>65.2</td>\n",
       "      <td>4.0900</td>\n",
       "      <td>1.0</td>\n",
       "      <td>296.0</td>\n",
       "      <td>15.3</td>\n",
       "      <td>396.90</td>\n",
       "      <td>4.98</td>\n",
       "      <td>24.0</td>\n",
       "    </tr>\n",
       "    <tr>\n",
       "      <th>1</th>\n",
       "      <td>0.02731</td>\n",
       "      <td>0.0</td>\n",
       "      <td>7.07</td>\n",
       "      <td>0.0</td>\n",
       "      <td>0.469</td>\n",
       "      <td>6.421</td>\n",
       "      <td>78.9</td>\n",
       "      <td>4.9671</td>\n",
       "      <td>2.0</td>\n",
       "      <td>242.0</td>\n",
       "      <td>17.8</td>\n",
       "      <td>396.90</td>\n",
       "      <td>9.14</td>\n",
       "      <td>21.6</td>\n",
       "    </tr>\n",
       "    <tr>\n",
       "      <th>2</th>\n",
       "      <td>0.02729</td>\n",
       "      <td>0.0</td>\n",
       "      <td>7.07</td>\n",
       "      <td>0.0</td>\n",
       "      <td>0.469</td>\n",
       "      <td>7.185</td>\n",
       "      <td>61.1</td>\n",
       "      <td>4.9671</td>\n",
       "      <td>2.0</td>\n",
       "      <td>242.0</td>\n",
       "      <td>17.8</td>\n",
       "      <td>392.83</td>\n",
       "      <td>4.03</td>\n",
       "      <td>34.7</td>\n",
       "    </tr>\n",
       "    <tr>\n",
       "      <th>3</th>\n",
       "      <td>0.03237</td>\n",
       "      <td>0.0</td>\n",
       "      <td>2.18</td>\n",
       "      <td>0.0</td>\n",
       "      <td>0.458</td>\n",
       "      <td>6.998</td>\n",
       "      <td>45.8</td>\n",
       "      <td>6.0622</td>\n",
       "      <td>3.0</td>\n",
       "      <td>222.0</td>\n",
       "      <td>18.7</td>\n",
       "      <td>394.63</td>\n",
       "      <td>2.94</td>\n",
       "      <td>33.4</td>\n",
       "    </tr>\n",
       "    <tr>\n",
       "      <th>4</th>\n",
       "      <td>0.06905</td>\n",
       "      <td>0.0</td>\n",
       "      <td>2.18</td>\n",
       "      <td>0.0</td>\n",
       "      <td>0.458</td>\n",
       "      <td>7.147</td>\n",
       "      <td>54.2</td>\n",
       "      <td>6.0622</td>\n",
       "      <td>3.0</td>\n",
       "      <td>222.0</td>\n",
       "      <td>18.7</td>\n",
       "      <td>396.90</td>\n",
       "      <td>5.33</td>\n",
       "      <td>36.2</td>\n",
       "    </tr>\n",
       "  </tbody>\n",
       "</table>\n",
       "</div>"
      ],
      "text/plain": [
       "      CRIM    ZN  INDUS  CHAS    NOX     RM   AGE     DIS  RAD    TAX  \\\n",
       "0  0.00632  18.0   2.31   0.0  0.538  6.575  65.2  4.0900  1.0  296.0   \n",
       "1  0.02731   0.0   7.07   0.0  0.469  6.421  78.9  4.9671  2.0  242.0   \n",
       "2  0.02729   0.0   7.07   0.0  0.469  7.185  61.1  4.9671  2.0  242.0   \n",
       "3  0.03237   0.0   2.18   0.0  0.458  6.998  45.8  6.0622  3.0  222.0   \n",
       "4  0.06905   0.0   2.18   0.0  0.458  7.147  54.2  6.0622  3.0  222.0   \n",
       "\n",
       "   PTRATIO       B  LSTAT  PRICE  \n",
       "0     15.3  396.90   4.98   24.0  \n",
       "1     17.8  396.90   9.14   21.6  \n",
       "2     17.8  392.83   4.03   34.7  \n",
       "3     18.7  394.63   2.94   33.4  \n",
       "4     18.7  396.90   5.33   36.2  "
      ]
     },
     "execution_count": 24,
     "metadata": {},
     "output_type": "execute_result"
    }
   ],
   "source": [
    "data['PRICE'] = boston.target\n",
    "data.head()"
   ]
  },
  {
   "cell_type": "markdown",
   "id": "8df1f9c7",
   "metadata": {},
   "source": [
    "## [2] 데이터 전처리\n",
    "---"
   ]
  },
  {
   "cell_type": "code",
   "execution_count": 25,
   "id": "3c96e857",
   "metadata": {},
   "outputs": [],
   "source": [
    "# 학습, 검증, 테스트 데이터 분할\n",
    "train,test = train_test_split(data, test_size=0.2, random_state = 1)\n",
    "train,val = train_test_split(train, test_size=0.2, random_state = 1)"
   ]
  },
  {
   "cell_type": "code",
   "execution_count": 26,
   "id": "4c9396d1",
   "metadata": {},
   "outputs": [],
   "source": [
    "# Helper functions\n",
    "def norm(x):\n",
    "    return (x - train_stats['mean']) / train_stats['std']\n",
    "\n",
    "def format_output(data):\n",
    "    y1 = data.pop('PRICE')\n",
    "    y1 = np.array(y1)\n",
    "    y2 = data.pop('PTRATIO')\n",
    "    y2 = np.array(y2)\n",
    "    return y1, y2"
   ]
  },
  {
   "cell_type": "code",
   "execution_count": 27,
   "id": "9e0ba39c",
   "metadata": {},
   "outputs": [],
   "source": [
    "# PRICE, TRATIO 2가지 출력\n",
    "# PTRATIO - pupil-teacher ratio by town  타운별 학생/교사 비율\n",
    "train_stats = train.describe()\n",
    "\n",
    "train_stats.pop('PRICE')\n",
    "train_stats.pop('PTRATIO')\n",
    "train_stats = train_stats.transpose()\n",
    "\n",
    "train_Y = format_output(train)\n",
    "test_Y = format_output(test)\n",
    "val_Y = format_output(val)"
   ]
  },
  {
   "cell_type": "code",
   "execution_count": 28,
   "id": "f0e2437d",
   "metadata": {},
   "outputs": [],
   "source": [
    "# Normalize the training and test data\n",
    "norm_train_X = np.array(norm(train))\n",
    "norm_test_X = np.array(norm(test))\n",
    "norm_val_X = np.array(norm(val))"
   ]
  },
  {
   "cell_type": "markdown",
   "id": "93266f1d",
   "metadata": {},
   "source": [
    "## MODEL"
   ]
  },
  {
   "cell_type": "code",
   "execution_count": 29,
   "id": "583ea214",
   "metadata": {},
   "outputs": [],
   "source": [
    "from tensorflow.keras import Sequential, Model\n",
    "from tensorflow.keras.layers import Dense, Input\n",
    "from tensorflow.keras.utils import plot_model\n",
    "import tensorflow as tf"
   ]
  },
  {
   "cell_type": "markdown",
   "id": "e4122ea1",
   "metadata": {},
   "source": [
    "### [1]  모델 구성 "
   ]
  },
  {
   "cell_type": "code",
   "execution_count": 30,
   "id": "c6d0058a",
   "metadata": {},
   "outputs": [],
   "source": [
    "def build_model():\n",
    "    \n",
    "    # Layer 정의\n",
    "    input_layer = Input(shape=(len(train .columns),))\n",
    "    first_dense = Dense(units='128', activation='relu')(input_layer)\n",
    "    \n",
    "    # 출력 Layer 정의 : first dense ===>  Y1 output\n",
    "    y1_output = Dense(units='1', name='price_output')(first_dense)\n",
    "    second_dense = Dense(units='128',activation='relu')(first_dense)\n",
    "    \n",
    "    # 출력 Layer 정의 : second dense === >Y2 output \n",
    "    y2_output = Dense(units='1',name='ptratio_output')(second_dense)\n",
    "    \n",
    "    # Model 정의\n",
    "    model = Model(inputs=input_layer,outputs=[y1_output, y2_output])\n",
    "    return model"
   ]
  },
  {
   "cell_type": "code",
   "execution_count": 31,
   "id": "450af576",
   "metadata": {},
   "outputs": [
    {
     "name": "stdout",
     "output_type": "stream",
     "text": [
      "Model: \"model_1\"\n",
      "__________________________________________________________________________________________________\n",
      " Layer (type)                   Output Shape         Param #     Connected to                     \n",
      "==================================================================================================\n",
      " input_2 (InputLayer)           [(None, 12)]         0           []                               \n",
      "                                                                                                  \n",
      " dense_2 (Dense)                (None, 128)          1664        ['input_2[0][0]']                \n",
      "                                                                                                  \n",
      " dense_3 (Dense)                (None, 128)          16512       ['dense_2[0][0]']                \n",
      "                                                                                                  \n",
      " price_output (Dense)           (None, 1)            129         ['dense_2[0][0]']                \n",
      "                                                                                                  \n",
      " ptratio_output (Dense)         (None, 1)            129         ['dense_3[0][0]']                \n",
      "                                                                                                  \n",
      "==================================================================================================\n",
      "Total params: 18,434\n",
      "Trainable params: 18,434\n",
      "Non-trainable params: 0\n",
      "__________________________________________________________________________________________________\n"
     ]
    }
   ],
   "source": [
    "model = build_model()\n",
    "model.summary()"
   ]
  },
  {
   "cell_type": "code",
   "execution_count": 32,
   "id": "19e8dfff",
   "metadata": {},
   "outputs": [
    {
     "data": {
      "image/png": "[encoded data removed]",
      "text/plain": [
       "<IPython.core.display.Image object>"
      ]
     },
     "execution_count": 32,
     "metadata": {},
     "output_type": "execute_result"
    }
   ],
   "source": [
    "plot_model(model, show_shapes=True)"
   ]
  },
  {
   "cell_type": "markdown",
   "id": "8d0cad42",
   "metadata": {},
   "source": [
    "### [2] 모델 생성"
   ]
  },
  {
   "cell_type": "code",
   "execution_count": 33,
   "id": "fbf4efe3",
   "metadata": {},
   "outputs": [],
   "source": [
    "# Specify the optimizer, and compile the model with loss functions for both outputs\n",
    "optimizer = tf.keras.optimizers.SGD(lr=0.001)\n",
    "\n",
    "model.compile(optimizer=optimizer,\n",
    "              loss={'price_output': 'mse', 'ptratio_output': 'mse'},\n",
    "              metrics={'price_output':tf.keras.metrics.RootMeanSquaredError(),\n",
    "                       'ptratio_output':tf.keras.metrics.RootMeanSquaredError()})"
   ]
  },
  {
   "cell_type": "markdown",
   "id": "a4f9bae7",
   "metadata": {},
   "source": [
    "## [3] 학습"
   ]
  },
  {
   "cell_type": "code",
   "execution_count": 34,
   "id": "797e8aac",
   "metadata": {
    "scrolled": true
   },
   "outputs": [
    {
     "name": "stdout",
     "output_type": "stream",
     "text": [
      "Epoch 1/100\n",
      "33/33 [==============================] - 1s 8ms/step - loss: 517.3522 - price_output_loss: 373.2412 - ptratio_output_loss: 144.1111 - price_output_root_mean_squared_error: 19.3195 - ptratio_output_root_mean_squared_error: 12.0046 - val_loss: 157.5873 - val_price_output_loss: 138.7359 - val_ptratio_output_loss: 18.8514 - val_price_output_root_mean_squared_error: 11.7786 - val_ptratio_output_root_mean_squared_error: 4.3418\n",
      "Epoch 2/100\n",
      "33/33 [==============================] - 0s 3ms/step - loss: 75.0843 - price_output_loss: 63.4784 - ptratio_output_loss: 11.6059 - price_output_root_mean_squared_error: 7.9673 - ptratio_output_root_mean_squared_error: 3.4067 - val_loss: 54.2474 - val_price_output_loss: 45.7667 - val_ptratio_output_loss: 8.4808 - val_price_output_root_mean_squared_error: 6.7651 - val_ptratio_output_root_mean_squared_error: 2.9122\n",
      "Epoch 3/100\n",
      "33/33 [==============================] - 0s 3ms/step - loss: 41.2051 - price_output_loss: 34.4508 - ptratio_output_loss: 6.7543 - price_output_root_mean_squared_error: 5.8695 - ptratio_output_root_mean_squared_error: 2.5989 - val_loss: 37.6582 - val_price_output_loss: 31.4415 - val_ptratio_output_loss: 6.2167 - val_price_output_root_mean_squared_error: 5.6073 - val_ptratio_output_root_mean_squared_error: 2.4933\n",
      "Epoch 4/100\n",
      "33/33 [==============================] - 0s 3ms/step - loss: 33.1785 - price_output_loss: 28.1034 - ptratio_output_loss: 5.0751 - price_output_root_mean_squared_error: 5.3013 - ptratio_output_root_mean_squared_error: 2.2528 - val_loss: 35.4052 - val_price_output_loss: 30.9148 - val_ptratio_output_loss: 4.4905 - val_price_output_root_mean_squared_error: 5.5601 - val_ptratio_output_root_mean_squared_error: 2.1191\n",
      "Epoch 5/100\n",
      "33/33 [==============================] - 0s 3ms/step - loss: 30.3301 - price_output_loss: 25.9957 - ptratio_output_loss: 4.3344 - price_output_root_mean_squared_error: 5.0986 - ptratio_output_root_mean_squared_error: 2.0819 - val_loss: 28.8525 - val_price_output_loss: 24.3177 - val_ptratio_output_loss: 4.5349 - val_price_output_root_mean_squared_error: 4.9313 - val_ptratio_output_root_mean_squared_error: 2.1295\n",
      "Epoch 6/100\n",
      "33/33 [==============================] - 0s 3ms/step - loss: 27.8423 - price_output_loss: 23.9631 - ptratio_output_loss: 3.8792 - price_output_root_mean_squared_error: 4.8952 - ptratio_output_root_mean_squared_error: 1.9696 - val_loss: 27.1165 - val_price_output_loss: 22.8514 - val_ptratio_output_loss: 4.2652 - val_price_output_root_mean_squared_error: 4.7803 - val_ptratio_output_root_mean_squared_error: 2.0652\n",
      "Epoch 7/100\n",
      "33/33 [==============================] - 0s 2ms/step - loss: 26.2214 - price_output_loss: 22.6069 - ptratio_output_loss: 3.6144 - price_output_root_mean_squared_error: 4.7547 - ptratio_output_root_mean_squared_error: 1.9012 - val_loss: 25.3822 - val_price_output_loss: 21.1427 - val_ptratio_output_loss: 4.2395 - val_price_output_root_mean_squared_error: 4.5981 - val_ptratio_output_root_mean_squared_error: 2.0590\n",
      "Epoch 8/100\n",
      "33/33 [==============================] - 0s 3ms/step - loss: 24.6006 - price_output_loss: 21.1618 - ptratio_output_loss: 3.4388 - price_output_root_mean_squared_error: 4.6002 - ptratio_output_root_mean_squared_error: 1.8544 - val_loss: 23.7916 - val_price_output_loss: 19.9326 - val_ptratio_output_loss: 3.8591 - val_price_output_root_mean_squared_error: 4.4646 - val_ptratio_output_root_mean_squared_error: 1.9644\n",
      "Epoch 9/100\n",
      "33/33 [==============================] - 0s 3ms/step - loss: 23.7980 - price_output_loss: 20.4120 - ptratio_output_loss: 3.3860 - price_output_root_mean_squared_error: 4.5180 - ptratio_output_root_mean_squared_error: 1.8401 - val_loss: 23.8720 - val_price_output_loss: 20.0173 - val_ptratio_output_loss: 3.8547 - val_price_output_root_mean_squared_error: 4.4741 - val_ptratio_output_root_mean_squared_error: 1.9633\n",
      "Epoch 10/100\n",
      "33/33 [==============================] - 0s 3ms/step - loss: 23.0934 - price_output_loss: 19.9014 - ptratio_output_loss: 3.1920 - price_output_root_mean_squared_error: 4.4611 - ptratio_output_root_mean_squared_error: 1.7866 - val_loss: 22.6288 - val_price_output_loss: 18.6077 - val_ptratio_output_loss: 4.0211 - val_price_output_root_mean_squared_error: 4.3137 - val_ptratio_output_root_mean_squared_error: 2.0053\n",
      "Epoch 11/100\n",
      "33/33 [==============================] - 0s 3ms/step - loss: 22.1480 - price_output_loss: 19.0785 - ptratio_output_loss: 3.0695 - price_output_root_mean_squared_error: 4.3679 - ptratio_output_root_mean_squared_error: 1.7520 - val_loss: 21.7935 - val_price_output_loss: 18.1687 - val_ptratio_output_loss: 3.6248 - val_price_output_root_mean_squared_error: 4.2625 - val_ptratio_output_root_mean_squared_error: 1.9039\n",
      "Epoch 12/100\n",
      "33/33 [==============================] - 0s 3ms/step - loss: 21.0530 - price_output_loss: 18.0898 - ptratio_output_loss: 2.9633 - price_output_root_mean_squared_error: 4.2532 - ptratio_output_root_mean_squared_error: 1.7214 - val_loss: 21.2088 - val_price_output_loss: 17.6769 - val_ptratio_output_loss: 3.5319 - val_price_output_root_mean_squared_error: 4.2044 - val_ptratio_output_root_mean_squared_error: 1.8793\n",
      "Epoch 13/100\n",
      "33/33 [==============================] - 0s 3ms/step - loss: 20.4553 - price_output_loss: 17.5498 - ptratio_output_loss: 2.9056 - price_output_root_mean_squared_error: 4.1892 - ptratio_output_root_mean_squared_error: 1.7046 - val_loss: 25.2035 - val_price_output_loss: 21.3531 - val_ptratio_output_loss: 3.8504 - val_price_output_root_mean_squared_error: 4.6209 - val_ptratio_output_root_mean_squared_error: 1.9622\n",
      "Epoch 14/100\n",
      "33/33 [==============================] - 0s 3ms/step - loss: 20.6604 - price_output_loss: 17.7694 - ptratio_output_loss: 2.8910 - price_output_root_mean_squared_error: 4.2154 - ptratio_output_root_mean_squared_error: 1.7003 - val_loss: 21.1273 - val_price_output_loss: 17.8244 - val_ptratio_output_loss: 3.3029 - val_price_output_root_mean_squared_error: 4.2219 - val_ptratio_output_root_mean_squared_error: 1.8174\n",
      "Epoch 15/100\n",
      "33/33 [==============================] - 0s 3ms/step - loss: 19.4813 - price_output_loss: 16.6966 - ptratio_output_loss: 2.7847 - price_output_root_mean_squared_error: 4.0861 - ptratio_output_root_mean_squared_error: 1.6688 - val_loss: 20.1443 - val_price_output_loss: 16.6973 - val_ptratio_output_loss: 3.4471 - val_price_output_root_mean_squared_error: 4.0862 - val_ptratio_output_root_mean_squared_error: 1.8566\n",
      "Epoch 16/100\n",
      "33/33 [==============================] - 0s 3ms/step - loss: 19.2095 - price_output_loss: 16.5071 - ptratio_output_loss: 2.7024 - price_output_root_mean_squared_error: 4.0629 - ptratio_output_root_mean_squared_error: 1.6439 - val_loss: 19.9740 - val_price_output_loss: 16.7792 - val_ptratio_output_loss: 3.1949 - val_price_output_root_mean_squared_error: 4.0962 - val_ptratio_output_root_mean_squared_error: 1.7874\n",
      "Epoch 17/100\n",
      "33/33 [==============================] - 0s 3ms/step - loss: 18.2774 - price_output_loss: 15.6424 - ptratio_output_loss: 2.6350 - price_output_root_mean_squared_error: 3.9550 - ptratio_output_root_mean_squared_error: 1.6233 - val_loss: 20.3086 - val_price_output_loss: 17.1263 - val_ptratio_output_loss: 3.1823 - val_price_output_root_mean_squared_error: 4.1384 - val_ptratio_output_root_mean_squared_error: 1.7839\n",
      "Epoch 18/100\n",
      "33/33 [==============================] - 0s 3ms/step - loss: 18.2292 - price_output_loss: 15.6786 - ptratio_output_loss: 2.5506 - price_output_root_mean_squared_error: 3.9596 - ptratio_output_root_mean_squared_error: 1.5971 - val_loss: 18.9560 - val_price_output_loss: 15.4206 - val_ptratio_output_loss: 3.5354 - val_price_output_root_mean_squared_error: 3.9269 - val_ptratio_output_root_mean_squared_error: 1.8803\n",
      "Epoch 19/100\n",
      "33/33 [==============================] - 0s 3ms/step - loss: 17.8900 - price_output_loss: 15.2968 - ptratio_output_loss: 2.5933 - price_output_root_mean_squared_error: 3.9111 - ptratio_output_root_mean_squared_error: 1.6104 - val_loss: 20.5271 - val_price_output_loss: 17.0515 - val_ptratio_output_loss: 3.4756 - val_price_output_root_mean_squared_error: 4.1293 - val_ptratio_output_root_mean_squared_error: 1.8643\n",
      "Epoch 20/100\n"
     ]
    },
    {
     "name": "stdout",
     "output_type": "stream",
     "text": [
      "33/33 [==============================] - 0s 3ms/step - loss: 17.8187 - price_output_loss: 15.2171 - ptratio_output_loss: 2.6015 - price_output_root_mean_squared_error: 3.9009 - ptratio_output_root_mean_squared_error: 1.6129 - val_loss: 18.1014 - val_price_output_loss: 14.9712 - val_ptratio_output_loss: 3.1302 - val_price_output_root_mean_squared_error: 3.8693 - val_ptratio_output_root_mean_squared_error: 1.7692\n",
      "Epoch 21/100\n",
      "33/33 [==============================] - 0s 3ms/step - loss: 17.1855 - price_output_loss: 14.7151 - ptratio_output_loss: 2.4704 - price_output_root_mean_squared_error: 3.8360 - ptratio_output_root_mean_squared_error: 1.5718 - val_loss: 18.6615 - val_price_output_loss: 15.5375 - val_ptratio_output_loss: 3.1240 - val_price_output_root_mean_squared_error: 3.9418 - val_ptratio_output_root_mean_squared_error: 1.7675\n",
      "Epoch 22/100\n",
      "33/33 [==============================] - 0s 3ms/step - loss: 16.8478 - price_output_loss: 14.5159 - ptratio_output_loss: 2.3319 - price_output_root_mean_squared_error: 3.8100 - ptratio_output_root_mean_squared_error: 1.5270 - val_loss: 18.2268 - val_price_output_loss: 15.1321 - val_ptratio_output_loss: 3.0948 - val_price_output_root_mean_squared_error: 3.8900 - val_ptratio_output_root_mean_squared_error: 1.7592\n",
      "Epoch 23/100\n",
      "33/33 [==============================] - 0s 3ms/step - loss: 16.6471 - price_output_loss: 14.3551 - ptratio_output_loss: 2.2919 - price_output_root_mean_squared_error: 3.7888 - ptratio_output_root_mean_squared_error: 1.5139 - val_loss: 18.4215 - val_price_output_loss: 15.3225 - val_ptratio_output_loss: 3.0990 - val_price_output_root_mean_squared_error: 3.9144 - val_ptratio_output_root_mean_squared_error: 1.7604\n",
      "Epoch 24/100\n",
      "33/33 [==============================] - 0s 3ms/step - loss: 16.0687 - price_output_loss: 13.8654 - ptratio_output_loss: 2.2032 - price_output_root_mean_squared_error: 3.7236 - ptratio_output_root_mean_squared_error: 1.4843 - val_loss: 17.6130 - val_price_output_loss: 14.5334 - val_ptratio_output_loss: 3.0796 - val_price_output_root_mean_squared_error: 3.8123 - val_ptratio_output_root_mean_squared_error: 1.7549\n",
      "Epoch 25/100\n",
      "33/33 [==============================] - 0s 3ms/step - loss: 16.0569 - price_output_loss: 13.7800 - ptratio_output_loss: 2.2769 - price_output_root_mean_squared_error: 3.7121 - ptratio_output_root_mean_squared_error: 1.5089 - val_loss: 17.1556 - val_price_output_loss: 14.1856 - val_ptratio_output_loss: 2.9700 - val_price_output_root_mean_squared_error: 3.7664 - val_ptratio_output_root_mean_squared_error: 1.7234\n",
      "Epoch 26/100\n",
      "33/33 [==============================] - 0s 2ms/step - loss: 15.8519 - price_output_loss: 13.6804 - ptratio_output_loss: 2.1716 - price_output_root_mean_squared_error: 3.6987 - ptratio_output_root_mean_squared_error: 1.4736 - val_loss: 20.6246 - val_price_output_loss: 16.3477 - val_ptratio_output_loss: 4.2768 - val_price_output_root_mean_squared_error: 4.0432 - val_ptratio_output_root_mean_squared_error: 2.0681\n",
      "Epoch 27/100\n",
      "33/33 [==============================] - 0s 3ms/step - loss: 15.8381 - price_output_loss: 13.5980 - ptratio_output_loss: 2.2401 - price_output_root_mean_squared_error: 3.6876 - ptratio_output_root_mean_squared_error: 1.4967 - val_loss: 16.7999 - val_price_output_loss: 13.8909 - val_ptratio_output_loss: 2.9090 - val_price_output_root_mean_squared_error: 3.7270 - val_ptratio_output_root_mean_squared_error: 1.7056\n",
      "Epoch 28/100\n",
      "33/33 [==============================] - 0s 2ms/step - loss: 15.3875 - price_output_loss: 13.2709 - ptratio_output_loss: 2.1166 - price_output_root_mean_squared_error: 3.6429 - ptratio_output_root_mean_squared_error: 1.4548 - val_loss: 16.7681 - val_price_output_loss: 13.9248 - val_ptratio_output_loss: 2.8433 - val_price_output_root_mean_squared_error: 3.7316 - val_ptratio_output_root_mean_squared_error: 1.6862\n",
      "Epoch 29/100\n",
      "33/33 [==============================] - 0s 2ms/step - loss: 15.3278 - price_output_loss: 13.2918 - ptratio_output_loss: 2.0359 - price_output_root_mean_squared_error: 3.6458 - ptratio_output_root_mean_squared_error: 1.4269 - val_loss: 16.4755 - val_price_output_loss: 13.4822 - val_ptratio_output_loss: 2.9933 - val_price_output_root_mean_squared_error: 3.6718 - val_ptratio_output_root_mean_squared_error: 1.7301\n",
      "Epoch 30/100\n",
      "33/33 [==============================] - 0s 3ms/step - loss: 15.0333 - price_output_loss: 13.0057 - ptratio_output_loss: 2.0276 - price_output_root_mean_squared_error: 3.6063 - ptratio_output_root_mean_squared_error: 1.4239 - val_loss: 16.9890 - val_price_output_loss: 13.9752 - val_ptratio_output_loss: 3.0138 - val_price_output_root_mean_squared_error: 3.7383 - val_ptratio_output_root_mean_squared_error: 1.7360\n",
      "Epoch 31/100\n",
      "33/33 [==============================] - 0s 3ms/step - loss: 15.0052 - price_output_loss: 12.9040 - ptratio_output_loss: 2.1012 - price_output_root_mean_squared_error: 3.5922 - ptratio_output_root_mean_squared_error: 1.4495 - val_loss: 16.6867 - val_price_output_loss: 13.2966 - val_ptratio_output_loss: 3.3901 - val_price_output_root_mean_squared_error: 3.6465 - val_ptratio_output_root_mean_squared_error: 1.8412\n",
      "Epoch 32/100\n",
      "33/33 [==============================] - 0s 3ms/step - loss: 14.9221 - price_output_loss: 12.8904 - ptratio_output_loss: 2.0317 - price_output_root_mean_squared_error: 3.5903 - ptratio_output_root_mean_squared_error: 1.4254 - val_loss: 16.1167 - val_price_output_loss: 13.3536 - val_ptratio_output_loss: 2.7631 - val_price_output_root_mean_squared_error: 3.6543 - val_ptratio_output_root_mean_squared_error: 1.6622\n",
      "Epoch 33/100\n",
      "33/33 [==============================] - 0s 3ms/step - loss: 14.4544 - price_output_loss: 12.4782 - ptratio_output_loss: 1.9762 - price_output_root_mean_squared_error: 3.5325 - ptratio_output_root_mean_squared_error: 1.4058 - val_loss: 16.2162 - val_price_output_loss: 13.1848 - val_ptratio_output_loss: 3.0314 - val_price_output_root_mean_squared_error: 3.6311 - val_ptratio_output_root_mean_squared_error: 1.7411\n",
      "Epoch 34/100\n",
      "33/33 [==============================] - 0s 3ms/step - loss: 14.5190 - price_output_loss: 12.5752 - ptratio_output_loss: 1.9438 - price_output_root_mean_squared_error: 3.5462 - ptratio_output_root_mean_squared_error: 1.3942 - val_loss: 15.7620 - val_price_output_loss: 12.9611 - val_ptratio_output_loss: 2.8009 - val_price_output_root_mean_squared_error: 3.6002 - val_ptratio_output_root_mean_squared_error: 1.6736\n",
      "Epoch 35/100\n",
      "33/33 [==============================] - 0s 4ms/step - loss: 14.6332 - price_output_loss: 12.6600 - ptratio_output_loss: 1.9732 - price_output_root_mean_squared_error: 3.5581 - ptratio_output_root_mean_squared_error: 1.4047 - val_loss: 15.9911 - val_price_output_loss: 13.2033 - val_ptratio_output_loss: 2.7877 - val_price_output_root_mean_squared_error: 3.6336 - val_ptratio_output_root_mean_squared_error: 1.6696\n",
      "Epoch 36/100\n",
      "33/33 [==============================] - 0s 4ms/step - loss: 14.1696 - price_output_loss: 12.3158 - ptratio_output_loss: 1.8538 - price_output_root_mean_squared_error: 3.5094 - ptratio_output_root_mean_squared_error: 1.3615 - val_loss: 16.3213 - val_price_output_loss: 12.7573 - val_ptratio_output_loss: 3.5640 - val_price_output_root_mean_squared_error: 3.5717 - val_ptratio_output_root_mean_squared_error: 1.8879\n",
      "Epoch 37/100\n",
      "33/33 [==============================] - 0s 4ms/step - loss: 14.1386 - price_output_loss: 12.2001 - ptratio_output_loss: 1.9384 - price_output_root_mean_squared_error: 3.4929 - ptratio_output_root_mean_squared_error: 1.3923 - val_loss: 20.1490 - val_price_output_loss: 12.5655 - val_ptratio_output_loss: 7.5835 - val_price_output_root_mean_squared_error: 3.5448 - val_ptratio_output_root_mean_squared_error: 2.7538\n",
      "Epoch 38/100\n",
      "33/33 [==============================] - 0s 4ms/step - loss: 14.3400 - price_output_loss: 12.1895 - ptratio_output_loss: 2.1505 - price_output_root_mean_squared_error: 3.4914 - ptratio_output_root_mean_squared_error: 1.4664 - val_loss: 15.6919 - val_price_output_loss: 12.7525 - val_ptratio_output_loss: 2.9394 - val_price_output_root_mean_squared_error: 3.5711 - val_ptratio_output_root_mean_squared_error: 1.7145\n",
      "Epoch 39/100\n"
     ]
    },
    {
     "name": "stdout",
     "output_type": "stream",
     "text": [
      "33/33 [==============================] - 0s 4ms/step - loss: 13.9980 - price_output_loss: 12.1175 - ptratio_output_loss: 1.8806 - price_output_root_mean_squared_error: 3.4810 - ptratio_output_root_mean_squared_error: 1.3713 - val_loss: 15.3813 - val_price_output_loss: 12.7132 - val_ptratio_output_loss: 2.6681 - val_price_output_root_mean_squared_error: 3.5656 - val_ptratio_output_root_mean_squared_error: 1.6334\n",
      "Epoch 40/100\n",
      "33/33 [==============================] - 0s 4ms/step - loss: 13.9238 - price_output_loss: 12.0803 - ptratio_output_loss: 1.8434 - price_output_root_mean_squared_error: 3.4757 - ptratio_output_root_mean_squared_error: 1.3577 - val_loss: 15.3908 - val_price_output_loss: 12.4742 - val_ptratio_output_loss: 2.9167 - val_price_output_root_mean_squared_error: 3.5319 - val_ptratio_output_root_mean_squared_error: 1.7078\n",
      "Epoch 41/100\n",
      "33/33 [==============================] - 0s 3ms/step - loss: 13.7471 - price_output_loss: 11.9127 - ptratio_output_loss: 1.8344 - price_output_root_mean_squared_error: 3.4515 - ptratio_output_root_mean_squared_error: 1.3544 - val_loss: 15.1171 - val_price_output_loss: 12.4656 - val_ptratio_output_loss: 2.6515 - val_price_output_root_mean_squared_error: 3.5307 - val_ptratio_output_root_mean_squared_error: 1.6284\n",
      "Epoch 42/100\n",
      "33/33 [==============================] - 0s 2ms/step - loss: 13.9158 - price_output_loss: 12.0878 - ptratio_output_loss: 1.8280 - price_output_root_mean_squared_error: 3.4768 - ptratio_output_root_mean_squared_error: 1.3520 - val_loss: 14.9577 - val_price_output_loss: 12.3413 - val_ptratio_output_loss: 2.6164 - val_price_output_root_mean_squared_error: 3.5130 - val_ptratio_output_root_mean_squared_error: 1.6175\n",
      "Epoch 43/100\n",
      "33/33 [==============================] - 0s 4ms/step - loss: 13.5113 - price_output_loss: 11.7948 - ptratio_output_loss: 1.7166 - price_output_root_mean_squared_error: 3.4344 - ptratio_output_root_mean_squared_error: 1.3102 - val_loss: 15.5076 - val_price_output_loss: 12.6377 - val_ptratio_output_loss: 2.8699 - val_price_output_root_mean_squared_error: 3.5550 - val_ptratio_output_root_mean_squared_error: 1.6941\n",
      "Epoch 44/100\n",
      "33/33 [==============================] - 0s 3ms/step - loss: 13.6987 - price_output_loss: 11.8590 - ptratio_output_loss: 1.8397 - price_output_root_mean_squared_error: 3.4437 - ptratio_output_root_mean_squared_error: 1.3564 - val_loss: 15.2721 - val_price_output_loss: 12.5273 - val_ptratio_output_loss: 2.7448 - val_price_output_root_mean_squared_error: 3.5394 - val_ptratio_output_root_mean_squared_error: 1.6567\n",
      "Epoch 45/100\n",
      "33/33 [==============================] - 0s 3ms/step - loss: 13.4450 - price_output_loss: 11.6650 - ptratio_output_loss: 1.7800 - price_output_root_mean_squared_error: 3.4154 - ptratio_output_root_mean_squared_error: 1.3342 - val_loss: 17.3128 - val_price_output_loss: 14.4477 - val_ptratio_output_loss: 2.8651 - val_price_output_root_mean_squared_error: 3.8010 - val_ptratio_output_root_mean_squared_error: 1.6927\n",
      "Epoch 46/100\n",
      "33/33 [==============================] - 0s 4ms/step - loss: 13.4315 - price_output_loss: 11.6705 - ptratio_output_loss: 1.7610 - price_output_root_mean_squared_error: 3.4162 - ptratio_output_root_mean_squared_error: 1.3270 - val_loss: 15.0064 - val_price_output_loss: 12.4312 - val_ptratio_output_loss: 2.5752 - val_price_output_root_mean_squared_error: 3.5258 - val_ptratio_output_root_mean_squared_error: 1.6048\n",
      "Epoch 47/100\n",
      "33/33 [==============================] - 0s 6ms/step - loss: 13.2415 - price_output_loss: 11.4523 - ptratio_output_loss: 1.7892 - price_output_root_mean_squared_error: 3.3841 - ptratio_output_root_mean_squared_error: 1.3376 - val_loss: 15.6788 - val_price_output_loss: 12.6499 - val_ptratio_output_loss: 3.0289 - val_price_output_root_mean_squared_error: 3.5567 - val_ptratio_output_root_mean_squared_error: 1.7404\n",
      "Epoch 48/100\n",
      "33/33 [==============================] - 0s 3ms/step - loss: 13.0385 - price_output_loss: 11.3652 - ptratio_output_loss: 1.6733 - price_output_root_mean_squared_error: 3.3712 - ptratio_output_root_mean_squared_error: 1.2936 - val_loss: 14.9620 - val_price_output_loss: 12.4664 - val_ptratio_output_loss: 2.4956 - val_price_output_root_mean_squared_error: 3.5308 - val_ptratio_output_root_mean_squared_error: 1.5798\n",
      "Epoch 49/100\n",
      "33/33 [==============================] - 0s 2ms/step - loss: 13.0632 - price_output_loss: 11.3841 - ptratio_output_loss: 1.6792 - price_output_root_mean_squared_error: 3.3740 - ptratio_output_root_mean_squared_error: 1.2958 - val_loss: 15.5641 - val_price_output_loss: 12.5169 - val_ptratio_output_loss: 3.0473 - val_price_output_root_mean_squared_error: 3.5379 - val_ptratio_output_root_mean_squared_error: 1.7456\n",
      "Epoch 50/100\n",
      "33/33 [==============================] - 0s 2ms/step - loss: 12.9318 - price_output_loss: 11.2858 - ptratio_output_loss: 1.6460 - price_output_root_mean_squared_error: 3.3594 - ptratio_output_root_mean_squared_error: 1.2830 - val_loss: 15.1224 - val_price_output_loss: 12.4977 - val_ptratio_output_loss: 2.6248 - val_price_output_root_mean_squared_error: 3.5352 - val_ptratio_output_root_mean_squared_error: 1.6201\n",
      "Epoch 51/100\n",
      "33/33 [==============================] - 0s 3ms/step - loss: 12.9781 - price_output_loss: 11.3377 - ptratio_output_loss: 1.6405 - price_output_root_mean_squared_error: 3.3671 - ptratio_output_root_mean_squared_error: 1.2808 - val_loss: 15.2604 - val_price_output_loss: 12.7440 - val_ptratio_output_loss: 2.5164 - val_price_output_root_mean_squared_error: 3.5699 - val_ptratio_output_root_mean_squared_error: 1.5863\n",
      "Epoch 52/100\n",
      "33/33 [==============================] - 0s 3ms/step - loss: 12.9146 - price_output_loss: 11.3052 - ptratio_output_loss: 1.6095 - price_output_root_mean_squared_error: 3.3623 - ptratio_output_root_mean_squared_error: 1.2686 - val_loss: 14.8434 - val_price_output_loss: 12.3685 - val_ptratio_output_loss: 2.4750 - val_price_output_root_mean_squared_error: 3.5169 - val_ptratio_output_root_mean_squared_error: 1.5732\n",
      "Epoch 53/100\n",
      "33/33 [==============================] - 0s 3ms/step - loss: 12.9254 - price_output_loss: 11.3221 - ptratio_output_loss: 1.6033 - price_output_root_mean_squared_error: 3.3648 - ptratio_output_root_mean_squared_error: 1.2662 - val_loss: 14.9604 - val_price_output_loss: 12.4510 - val_ptratio_output_loss: 2.5094 - val_price_output_root_mean_squared_error: 3.5286 - val_ptratio_output_root_mean_squared_error: 1.5841\n",
      "Epoch 54/100\n",
      "33/33 [==============================] - 0s 3ms/step - loss: 12.7042 - price_output_loss: 11.1587 - ptratio_output_loss: 1.5455 - price_output_root_mean_squared_error: 3.3405 - ptratio_output_root_mean_squared_error: 1.2432 - val_loss: 15.0321 - val_price_output_loss: 12.5264 - val_ptratio_output_loss: 2.5057 - val_price_output_root_mean_squared_error: 3.5393 - val_ptratio_output_root_mean_squared_error: 1.5829\n",
      "Epoch 55/100\n",
      "33/33 [==============================] - 0s 3ms/step - loss: 12.7344 - price_output_loss: 11.2039 - ptratio_output_loss: 1.5304 - price_output_root_mean_squared_error: 3.3472 - ptratio_output_root_mean_squared_error: 1.2371 - val_loss: 14.6830 - val_price_output_loss: 12.2769 - val_ptratio_output_loss: 2.4062 - val_price_output_root_mean_squared_error: 3.5038 - val_ptratio_output_root_mean_squared_error: 1.5512\n",
      "Epoch 56/100\n",
      "33/33 [==============================] - 0s 3ms/step - loss: 12.4275 - price_output_loss: 10.8598 - ptratio_output_loss: 1.5677 - price_output_root_mean_squared_error: 3.2954 - ptratio_output_root_mean_squared_error: 1.2521 - val_loss: 15.0287 - val_price_output_loss: 12.4410 - val_ptratio_output_loss: 2.5877 - val_price_output_root_mean_squared_error: 3.5272 - val_ptratio_output_root_mean_squared_error: 1.6086\n",
      "Epoch 57/100\n",
      "33/33 [==============================] - 0s 2ms/step - loss: 12.5420 - price_output_loss: 10.9767 - ptratio_output_loss: 1.5653 - price_output_root_mean_squared_error: 3.3131 - ptratio_output_root_mean_squared_error: 1.2511 - val_loss: 14.8530 - val_price_output_loss: 12.4070 - val_ptratio_output_loss: 2.4459 - val_price_output_root_mean_squared_error: 3.5224 - val_ptratio_output_root_mean_squared_error: 1.5639\n",
      "Epoch 58/100\n"
     ]
    },
    {
     "name": "stdout",
     "output_type": "stream",
     "text": [
      "33/33 [==============================] - 0s 2ms/step - loss: 12.3568 - price_output_loss: 10.8432 - ptratio_output_loss: 1.5136 - price_output_root_mean_squared_error: 3.2929 - ptratio_output_root_mean_squared_error: 1.2303 - val_loss: 14.5205 - val_price_output_loss: 12.0148 - val_ptratio_output_loss: 2.5057 - val_price_output_root_mean_squared_error: 3.4662 - val_ptratio_output_root_mean_squared_error: 1.5829\n",
      "Epoch 59/100\n",
      "33/33 [==============================] - 0s 2ms/step - loss: 12.4634 - price_output_loss: 10.9760 - ptratio_output_loss: 1.4874 - price_output_root_mean_squared_error: 3.3130 - ptratio_output_root_mean_squared_error: 1.2196 - val_loss: 14.6450 - val_price_output_loss: 12.0192 - val_ptratio_output_loss: 2.6257 - val_price_output_root_mean_squared_error: 3.4669 - val_ptratio_output_root_mean_squared_error: 1.6204\n",
      "Epoch 60/100\n",
      "33/33 [==============================] - 0s 3ms/step - loss: 12.3009 - price_output_loss: 10.8459 - ptratio_output_loss: 1.4550 - price_output_root_mean_squared_error: 3.2933 - ptratio_output_root_mean_squared_error: 1.2062 - val_loss: 14.7733 - val_price_output_loss: 12.2877 - val_ptratio_output_loss: 2.4856 - val_price_output_root_mean_squared_error: 3.5054 - val_ptratio_output_root_mean_squared_error: 1.5766\n",
      "Epoch 61/100\n",
      "33/33 [==============================] - 0s 3ms/step - loss: 12.2367 - price_output_loss: 10.7298 - ptratio_output_loss: 1.5069 - price_output_root_mean_squared_error: 3.2756 - ptratio_output_root_mean_squared_error: 1.2276 - val_loss: 14.4638 - val_price_output_loss: 11.7729 - val_ptratio_output_loss: 2.6909 - val_price_output_root_mean_squared_error: 3.4312 - val_ptratio_output_root_mean_squared_error: 1.6404\n",
      "Epoch 62/100\n",
      "33/33 [==============================] - 0s 3ms/step - loss: 12.0514 - price_output_loss: 10.6150 - ptratio_output_loss: 1.4364 - price_output_root_mean_squared_error: 3.2581 - ptratio_output_root_mean_squared_error: 1.1985 - val_loss: 14.2410 - val_price_output_loss: 11.7579 - val_ptratio_output_loss: 2.4831 - val_price_output_root_mean_squared_error: 3.4290 - val_ptratio_output_root_mean_squared_error: 1.5758\n",
      "Epoch 63/100\n",
      "33/33 [==============================] - 0s 2ms/step - loss: 12.1026 - price_output_loss: 10.6484 - ptratio_output_loss: 1.4542 - price_output_root_mean_squared_error: 3.2632 - ptratio_output_root_mean_squared_error: 1.2059 - val_loss: 13.6598 - val_price_output_loss: 11.1863 - val_ptratio_output_loss: 2.4735 - val_price_output_root_mean_squared_error: 3.3446 - val_ptratio_output_root_mean_squared_error: 1.5727\n",
      "Epoch 64/100\n",
      "33/33 [==============================] - 0s 3ms/step - loss: 11.9860 - price_output_loss: 10.5089 - ptratio_output_loss: 1.4771 - price_output_root_mean_squared_error: 3.2417 - ptratio_output_root_mean_squared_error: 1.2154 - val_loss: 14.8040 - val_price_output_loss: 12.2783 - val_ptratio_output_loss: 2.5258 - val_price_output_root_mean_squared_error: 3.5040 - val_ptratio_output_root_mean_squared_error: 1.5893\n",
      "Epoch 65/100\n",
      "33/33 [==============================] - 0s 3ms/step - loss: 12.2904 - price_output_loss: 10.8400 - ptratio_output_loss: 1.4504 - price_output_root_mean_squared_error: 3.2924 - ptratio_output_root_mean_squared_error: 1.2043 - val_loss: 14.2424 - val_price_output_loss: 11.5297 - val_ptratio_output_loss: 2.7127 - val_price_output_root_mean_squared_error: 3.3955 - val_ptratio_output_root_mean_squared_error: 1.6470\n",
      "Epoch 66/100\n",
      "33/33 [==============================] - 0s 2ms/step - loss: 11.9341 - price_output_loss: 10.5476 - ptratio_output_loss: 1.3864 - price_output_root_mean_squared_error: 3.2477 - ptratio_output_root_mean_squared_error: 1.1775 - val_loss: 14.3237 - val_price_output_loss: 11.9988 - val_ptratio_output_loss: 2.3249 - val_price_output_root_mean_squared_error: 3.4639 - val_ptratio_output_root_mean_squared_error: 1.5248\n",
      "Epoch 67/100\n",
      "33/33 [==============================] - 0s 2ms/step - loss: 11.8865 - price_output_loss: 10.5453 - ptratio_output_loss: 1.3412 - price_output_root_mean_squared_error: 3.2474 - ptratio_output_root_mean_squared_error: 1.1581 - val_loss: 14.8136 - val_price_output_loss: 12.4010 - val_ptratio_output_loss: 2.4126 - val_price_output_root_mean_squared_error: 3.5215 - val_ptratio_output_root_mean_squared_error: 1.5532\n",
      "Epoch 68/100\n",
      "33/33 [==============================] - 0s 2ms/step - loss: 11.5926 - price_output_loss: 10.2193 - ptratio_output_loss: 1.3733 - price_output_root_mean_squared_error: 3.1968 - ptratio_output_root_mean_squared_error: 1.1719 - val_loss: 14.1873 - val_price_output_loss: 11.7541 - val_ptratio_output_loss: 2.4332 - val_price_output_root_mean_squared_error: 3.4284 - val_ptratio_output_root_mean_squared_error: 1.5599\n",
      "Epoch 69/100\n",
      "33/33 [==============================] - 0s 3ms/step - loss: 11.9683 - price_output_loss: 10.5958 - ptratio_output_loss: 1.3725 - price_output_root_mean_squared_error: 3.2551 - ptratio_output_root_mean_squared_error: 1.1715 - val_loss: 14.0253 - val_price_output_loss: 11.6029 - val_ptratio_output_loss: 2.4224 - val_price_output_root_mean_squared_error: 3.4063 - val_ptratio_output_root_mean_squared_error: 1.5564\n",
      "Epoch 70/100\n",
      "33/33 [==============================] - 0s 3ms/step - loss: 11.5130 - price_output_loss: 10.1735 - ptratio_output_loss: 1.3395 - price_output_root_mean_squared_error: 3.1896 - ptratio_output_root_mean_squared_error: 1.1574 - val_loss: 14.6706 - val_price_output_loss: 12.1764 - val_ptratio_output_loss: 2.4942 - val_price_output_root_mean_squared_error: 3.4895 - val_ptratio_output_root_mean_squared_error: 1.5793\n",
      "Epoch 71/100\n",
      "33/33 [==============================] - 0s 3ms/step - loss: 11.6131 - price_output_loss: 10.2833 - ptratio_output_loss: 1.3298 - price_output_root_mean_squared_error: 3.2068 - ptratio_output_root_mean_squared_error: 1.1532 - val_loss: 14.8285 - val_price_output_loss: 12.1020 - val_ptratio_output_loss: 2.7264 - val_price_output_root_mean_squared_error: 3.4788 - val_ptratio_output_root_mean_squared_error: 1.6512\n",
      "Epoch 72/100\n",
      "33/33 [==============================] - 0s 2ms/step - loss: 11.6712 - price_output_loss: 10.3236 - ptratio_output_loss: 1.3476 - price_output_root_mean_squared_error: 3.2130 - ptratio_output_root_mean_squared_error: 1.1609 - val_loss: 14.2015 - val_price_output_loss: 11.7200 - val_ptratio_output_loss: 2.4815 - val_price_output_root_mean_squared_error: 3.4235 - val_ptratio_output_root_mean_squared_error: 1.5753\n",
      "Epoch 73/100\n",
      "33/33 [==============================] - 0s 3ms/step - loss: 11.5459 - price_output_loss: 10.2247 - ptratio_output_loss: 1.3212 - price_output_root_mean_squared_error: 3.1976 - ptratio_output_root_mean_squared_error: 1.1494 - val_loss: 13.9077 - val_price_output_loss: 11.5423 - val_ptratio_output_loss: 2.3654 - val_price_output_root_mean_squared_error: 3.3974 - val_ptratio_output_root_mean_squared_error: 1.5380\n",
      "Epoch 74/100\n",
      "33/33 [==============================] - 0s 2ms/step - loss: 11.4008 - price_output_loss: 10.1263 - ptratio_output_loss: 1.2744 - price_output_root_mean_squared_error: 3.1822 - ptratio_output_root_mean_squared_error: 1.1289 - val_loss: 13.7275 - val_price_output_loss: 11.3094 - val_ptratio_output_loss: 2.4180 - val_price_output_root_mean_squared_error: 3.3630 - val_ptratio_output_root_mean_squared_error: 1.5550\n",
      "Epoch 75/100\n",
      "33/33 [==============================] - 0s 3ms/step - loss: 11.4793 - price_output_loss: 10.1842 - ptratio_output_loss: 1.2950 - price_output_root_mean_squared_error: 3.1913 - ptratio_output_root_mean_squared_error: 1.1380 - val_loss: 14.1844 - val_price_output_loss: 11.9088 - val_ptratio_output_loss: 2.2756 - val_price_output_root_mean_squared_error: 3.4509 - val_ptratio_output_root_mean_squared_error: 1.5085\n",
      "Epoch 76/100\n",
      "33/33 [==============================] - 0s 3ms/step - loss: 11.3482 - price_output_loss: 10.0401 - ptratio_output_loss: 1.3081 - price_output_root_mean_squared_error: 3.1686 - ptratio_output_root_mean_squared_error: 1.1437 - val_loss: 16.1620 - val_price_output_loss: 13.7706 - val_ptratio_output_loss: 2.3913 - val_price_output_root_mean_squared_error: 3.7109 - val_ptratio_output_root_mean_squared_error: 1.5464\n",
      "Epoch 77/100\n"
     ]
    },
    {
     "name": "stdout",
     "output_type": "stream",
     "text": [
      "33/33 [==============================] - 0s 4ms/step - loss: 11.5071 - price_output_loss: 10.1648 - ptratio_output_loss: 1.3423 - price_output_root_mean_squared_error: 3.1882 - ptratio_output_root_mean_squared_error: 1.1586 - val_loss: 13.8611 - val_price_output_loss: 11.6111 - val_ptratio_output_loss: 2.2500 - val_price_output_root_mean_squared_error: 3.4075 - val_ptratio_output_root_mean_squared_error: 1.5000\n",
      "Epoch 78/100\n",
      "33/33 [==============================] - 0s 3ms/step - loss: 11.2076 - price_output_loss: 9.9479 - ptratio_output_loss: 1.2598 - price_output_root_mean_squared_error: 3.1540 - ptratio_output_root_mean_squared_error: 1.1224 - val_loss: 14.7145 - val_price_output_loss: 12.1276 - val_ptratio_output_loss: 2.5869 - val_price_output_root_mean_squared_error: 3.4825 - val_ptratio_output_root_mean_squared_error: 1.6084\n",
      "Epoch 79/100\n",
      "33/33 [==============================] - 0s 3ms/step - loss: 11.2532 - price_output_loss: 9.9608 - ptratio_output_loss: 1.2924 - price_output_root_mean_squared_error: 3.1561 - ptratio_output_root_mean_squared_error: 1.1368 - val_loss: 13.7027 - val_price_output_loss: 11.2867 - val_ptratio_output_loss: 2.4160 - val_price_output_root_mean_squared_error: 3.3596 - val_ptratio_output_root_mean_squared_error: 1.5543\n",
      "Epoch 80/100\n",
      "33/33 [==============================] - 0s 3ms/step - loss: 11.1883 - price_output_loss: 9.9654 - ptratio_output_loss: 1.2228 - price_output_root_mean_squared_error: 3.1568 - ptratio_output_root_mean_squared_error: 1.1058 - val_loss: 13.8888 - val_price_output_loss: 11.6514 - val_ptratio_output_loss: 2.2374 - val_price_output_root_mean_squared_error: 3.4134 - val_ptratio_output_root_mean_squared_error: 1.4958\n",
      "Epoch 81/100\n",
      "33/33 [==============================] - 0s 3ms/step - loss: 11.2719 - price_output_loss: 10.0643 - ptratio_output_loss: 1.2075 - price_output_root_mean_squared_error: 3.1724 - ptratio_output_root_mean_squared_error: 1.0989 - val_loss: 13.6131 - val_price_output_loss: 11.2827 - val_ptratio_output_loss: 2.3304 - val_price_output_root_mean_squared_error: 3.3590 - val_ptratio_output_root_mean_squared_error: 1.5266\n",
      "Epoch 82/100\n",
      "33/33 [==============================] - 0s 3ms/step - loss: 11.1924 - price_output_loss: 9.9885 - ptratio_output_loss: 1.2039 - price_output_root_mean_squared_error: 3.1605 - ptratio_output_root_mean_squared_error: 1.0972 - val_loss: 14.3787 - val_price_output_loss: 12.0822 - val_ptratio_output_loss: 2.2965 - val_price_output_root_mean_squared_error: 3.4760 - val_ptratio_output_root_mean_squared_error: 1.5154\n",
      "Epoch 83/100\n",
      "33/33 [==============================] - 0s 2ms/step - loss: 11.0985 - price_output_loss: 9.9016 - ptratio_output_loss: 1.1969 - price_output_root_mean_squared_error: 3.1467 - ptratio_output_root_mean_squared_error: 1.0940 - val_loss: 13.8272 - val_price_output_loss: 11.2110 - val_ptratio_output_loss: 2.6161 - val_price_output_root_mean_squared_error: 3.3483 - val_ptratio_output_root_mean_squared_error: 1.6175\n",
      "Epoch 84/100\n",
      "33/33 [==============================] - 0s 2ms/step - loss: 10.9643 - price_output_loss: 9.7932 - ptratio_output_loss: 1.1711 - price_output_root_mean_squared_error: 3.1294 - ptratio_output_root_mean_squared_error: 1.0822 - val_loss: 14.0017 - val_price_output_loss: 11.7257 - val_ptratio_output_loss: 2.2760 - val_price_output_root_mean_squared_error: 3.4243 - val_ptratio_output_root_mean_squared_error: 1.5086\n",
      "Epoch 85/100\n",
      "33/33 [==============================] - 0s 3ms/step - loss: 11.0121 - price_output_loss: 9.8168 - ptratio_output_loss: 1.1953 - price_output_root_mean_squared_error: 3.1332 - ptratio_output_root_mean_squared_error: 1.0933 - val_loss: 13.8856 - val_price_output_loss: 11.4234 - val_ptratio_output_loss: 2.4622 - val_price_output_root_mean_squared_error: 3.3799 - val_ptratio_output_root_mean_squared_error: 1.5691\n",
      "Epoch 86/100\n",
      "33/33 [==============================] - 0s 3ms/step - loss: 10.9500 - price_output_loss: 9.7560 - ptratio_output_loss: 1.1940 - price_output_root_mean_squared_error: 3.1235 - ptratio_output_root_mean_squared_error: 1.0927 - val_loss: 13.7956 - val_price_output_loss: 11.5011 - val_ptratio_output_loss: 2.2945 - val_price_output_root_mean_squared_error: 3.3913 - val_ptratio_output_root_mean_squared_error: 1.5148\n",
      "Epoch 87/100\n",
      "33/33 [==============================] - 0s 2ms/step - loss: 10.7695 - price_output_loss: 9.6380 - ptratio_output_loss: 1.1315 - price_output_root_mean_squared_error: 3.1045 - ptratio_output_root_mean_squared_error: 1.0637 - val_loss: 13.9648 - val_price_output_loss: 11.7042 - val_ptratio_output_loss: 2.2607 - val_price_output_root_mean_squared_error: 3.4211 - val_ptratio_output_root_mean_squared_error: 1.5036\n",
      "Epoch 88/100\n",
      "33/33 [==============================] - 0s 2ms/step - loss: 10.9928 - price_output_loss: 9.8000 - ptratio_output_loss: 1.1928 - price_output_root_mean_squared_error: 3.1305 - ptratio_output_root_mean_squared_error: 1.0922 - val_loss: 14.0557 - val_price_output_loss: 11.8622 - val_ptratio_output_loss: 2.1935 - val_price_output_root_mean_squared_error: 3.4442 - val_ptratio_output_root_mean_squared_error: 1.4811\n",
      "Epoch 89/100\n",
      "33/33 [==============================] - 0s 3ms/step - loss: 10.7302 - price_output_loss: 9.6027 - ptratio_output_loss: 1.1274 - price_output_root_mean_squared_error: 3.0988 - ptratio_output_root_mean_squared_error: 1.0618 - val_loss: 13.6893 - val_price_output_loss: 11.3233 - val_ptratio_output_loss: 2.3660 - val_price_output_root_mean_squared_error: 3.3650 - val_ptratio_output_root_mean_squared_error: 1.5382\n",
      "Epoch 90/100\n",
      "33/33 [==============================] - 0s 3ms/step - loss: 10.7742 - price_output_loss: 9.6192 - ptratio_output_loss: 1.1550 - price_output_root_mean_squared_error: 3.1015 - ptratio_output_root_mean_squared_error: 1.0747 - val_loss: 13.3982 - val_price_output_loss: 11.2308 - val_ptratio_output_loss: 2.1674 - val_price_output_root_mean_squared_error: 3.3512 - val_ptratio_output_root_mean_squared_error: 1.4722\n",
      "Epoch 91/100\n",
      "33/33 [==============================] - 0s 2ms/step - loss: 10.7253 - price_output_loss: 9.6326 - ptratio_output_loss: 1.0927 - price_output_root_mean_squared_error: 3.1036 - ptratio_output_root_mean_squared_error: 1.0453 - val_loss: 13.3686 - val_price_output_loss: 10.9461 - val_ptratio_output_loss: 2.4225 - val_price_output_root_mean_squared_error: 3.3085 - val_ptratio_output_root_mean_squared_error: 1.5564\n",
      "Epoch 92/100\n",
      "33/33 [==============================] - 0s 2ms/step - loss: 10.9373 - price_output_loss: 9.7922 - ptratio_output_loss: 1.1451 - price_output_root_mean_squared_error: 3.1292 - ptratio_output_root_mean_squared_error: 1.0701 - val_loss: 13.4345 - val_price_output_loss: 11.2217 - val_ptratio_output_loss: 2.2128 - val_price_output_root_mean_squared_error: 3.3499 - val_ptratio_output_root_mean_squared_error: 1.4875\n",
      "Epoch 93/100\n",
      "33/33 [==============================] - 0s 2ms/step - loss: 10.6883 - price_output_loss: 9.5510 - ptratio_output_loss: 1.1373 - price_output_root_mean_squared_error: 3.0905 - ptratio_output_root_mean_squared_error: 1.0665 - val_loss: 13.6989 - val_price_output_loss: 11.2985 - val_ptratio_output_loss: 2.4004 - val_price_output_root_mean_squared_error: 3.3613 - val_ptratio_output_root_mean_squared_error: 1.5493\n",
      "Epoch 94/100\n",
      "33/33 [==============================] - 0s 2ms/step - loss: 10.7455 - price_output_loss: 9.6338 - ptratio_output_loss: 1.1117 - price_output_root_mean_squared_error: 3.1038 - ptratio_output_root_mean_squared_error: 1.0544 - val_loss: 13.3334 - val_price_output_loss: 11.1712 - val_ptratio_output_loss: 2.1622 - val_price_output_root_mean_squared_error: 3.3423 - val_ptratio_output_root_mean_squared_error: 1.4704\n",
      "Epoch 95/100\n",
      "33/33 [==============================] - 0s 2ms/step - loss: 10.5351 - price_output_loss: 9.4290 - ptratio_output_loss: 1.1061 - price_output_root_mean_squared_error: 3.0707 - ptratio_output_root_mean_squared_error: 1.0517 - val_loss: 13.4698 - val_price_output_loss: 11.2346 - val_ptratio_output_loss: 2.2352 - val_price_output_root_mean_squared_error: 3.3518 - val_ptratio_output_root_mean_squared_error: 1.4951\n",
      "Epoch 96/100\n"
     ]
    },
    {
     "name": "stdout",
     "output_type": "stream",
     "text": [
      "33/33 [==============================] - 0s 2ms/step - loss: 10.6779 - price_output_loss: 9.5715 - ptratio_output_loss: 1.1064 - price_output_root_mean_squared_error: 3.0938 - ptratio_output_root_mean_squared_error: 1.0519 - val_loss: 14.2071 - val_price_output_loss: 12.0583 - val_ptratio_output_loss: 2.1488 - val_price_output_root_mean_squared_error: 3.4725 - val_ptratio_output_root_mean_squared_error: 1.4659\n",
      "Epoch 97/100\n",
      "33/33 [==============================] - 0s 2ms/step - loss: 10.4989 - price_output_loss: 9.4342 - ptratio_output_loss: 1.0647 - price_output_root_mean_squared_error: 3.0715 - ptratio_output_root_mean_squared_error: 1.0318 - val_loss: 14.0439 - val_price_output_loss: 11.8029 - val_ptratio_output_loss: 2.2410 - val_price_output_root_mean_squared_error: 3.4355 - val_ptratio_output_root_mean_squared_error: 1.4970\n",
      "Epoch 98/100\n",
      "33/33 [==============================] - 0s 2ms/step - loss: 10.5648 - price_output_loss: 9.4821 - ptratio_output_loss: 1.0827 - price_output_root_mean_squared_error: 3.0793 - ptratio_output_root_mean_squared_error: 1.0405 - val_loss: 13.5263 - val_price_output_loss: 11.1168 - val_ptratio_output_loss: 2.4095 - val_price_output_root_mean_squared_error: 3.3342 - val_ptratio_output_root_mean_squared_error: 1.5522\n",
      "Epoch 99/100\n",
      "33/33 [==============================] - 0s 3ms/step - loss: 10.3444 - price_output_loss: 9.2725 - ptratio_output_loss: 1.0719 - price_output_root_mean_squared_error: 3.0451 - ptratio_output_root_mean_squared_error: 1.0353 - val_loss: 14.1381 - val_price_output_loss: 11.3512 - val_ptratio_output_loss: 2.7869 - val_price_output_root_mean_squared_error: 3.3692 - val_ptratio_output_root_mean_squared_error: 1.6694\n",
      "Epoch 100/100\n",
      "33/33 [==============================] - 0s 3ms/step - loss: 10.4206 - price_output_loss: 9.3831 - ptratio_output_loss: 1.0375 - price_output_root_mean_squared_error: 3.0632 - ptratio_output_root_mean_squared_error: 1.0186 - val_loss: 14.0438 - val_price_output_loss: 11.7438 - val_ptratio_output_loss: 2.3000 - val_price_output_root_mean_squared_error: 3.4269 - val_ptratio_output_root_mean_squared_error: 1.5166\n"
     ]
    }
   ],
   "source": [
    "history = model.fit(norm_train_X, train_Y,\n",
    "                    epochs=100, batch_size=10, \n",
    "                    validation_data=(norm_test_X, test_Y))"
   ]
  },
  {
   "cell_type": "markdown",
   "id": "f3382d91",
   "metadata": {},
   "source": [
    "### [4] 평가"
   ]
  },
  {
   "cell_type": "code",
   "execution_count": 35,
   "id": "67abae14",
   "metadata": {},
   "outputs": [
    {
     "name": "stdout",
     "output_type": "stream",
     "text": [
      "3/3 [==============================] - 0s 3ms/step - loss: 15.2409 - price_output_loss: 13.1338 - ptratio_output_loss: 2.1071 - price_output_root_mean_squared_error: 3.6241 - ptratio_output_root_mean_squared_error: 1.4516\n",
      "\n",
      "loss: 15.240870475769043\n",
      "price_loss: 13.133809089660645\n",
      "ptratio_loss: 2.1070618629455566\n",
      "price_rmse: 3.6240596771240234\n",
      "ptratio_rmse: 1.4515721797943115\n"
     ]
    }
   ],
   "source": [
    "loss,Y1_loss,Y2_loss,Y1_rmse,Y2_rmse=model.evaluate(x=norm_val_X, y=val_Y)\n",
    "print()\n",
    "print(f'loss: {loss}')\n",
    "print(f'price_loss: {Y1_loss}')\n",
    "print(f'ptratio_loss: {Y2_loss}')\n",
    "print(f'price_rmse: {Y1_rmse}')\n",
    "print(f'ptratio_rmse: {Y2_rmse}')"
   ]
  },
  {
   "cell_type": "markdown",
   "id": "e817679c",
   "metadata": {},
   "source": [
    "### [5] 예측 - 새 데이터"
   ]
  },
  {
   "cell_type": "code",
   "execution_count": 61,
   "id": "833e3877",
   "metadata": {},
   "outputs": [
    {
     "name": "stdout",
     "output_type": "stream",
     "text": [
      "4/4 [==============================] - 0s 2ms/step\n"
     ]
    },
    {
     "data": {
      "text/plain": [
       "<matplotlib.legend.Legend at 0x231d4fb2490>"
      ]
     },
     "execution_count": 61,
     "metadata": {},
     "output_type": "execute_result"
    },
    {
     "data": {
      "image/png": "[encoded data removed]",
      "text/plain": [
       "<Figure size 432x288 with 1 Axes>"
      ]
     },
     "metadata": {
      "needs_background": "light"
     },
     "output_type": "display_data"
    }
   ],
   "source": [
    "Y_pred = model.predict(norm_test_X)\n",
    "\n",
    "plt.plot(Y_pred[0])\n",
    "plt.plot(Y_pred[1])\n",
    "plt.legend(['price', 'ptratio'])"
   ]
  }
 ],
 "metadata": {
  "kernelspec": {
   "display_name": "Python 3 (ipykernel)",
   "language": "python",
   "name": "python3"
  },
  "language_info": {
   "codemirror_mode": {
    "name": "ipython",
    "version": 3
   },
   "file_extension": ".py",
   "mimetype": "text/x-python",
   "name": "python",
   "nbconvert_exporter": "python",
   "pygments_lexer": "ipython3",
   "version": "3.9.12"
  }
 },
 "nbformat": 4,
 "nbformat_minor": 5
}
