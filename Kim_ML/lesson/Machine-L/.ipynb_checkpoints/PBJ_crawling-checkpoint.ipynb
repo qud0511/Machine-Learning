{
 "cells": [
  {
   "cell_type": "markdown",
   "id": "f0a4cd5a-0d7a-4562-9572-32332c2f6f98",
   "metadata": {},
   "source": [
    "https://velog.io/@jaehyeong/CNN-%EB%AA%A8%EB%8D%B8%EC%9D%84-%ED%86%B5%ED%95%9C-%EC%9E%90%EB%8F%99%EC%B0%A8-%EC%82%AC%EA%B3%A0-%EC%9D%B4%EB%AF%B8%EC%A7%80-%EB%B6%84%EB%A5%98"
   ]
  },
  {
   "cell_type": "code",
   "execution_count": 10,
   "id": "1b420076-8d39-452c-b4fe-05121e2e0fe4",
   "metadata": {},
   "outputs": [],
   "source": [
    "import numpy as np\n",
    "import pandas as pd\n",
    "import os, glob\n",
    "from PIL import Image\n",
    "from sklearn.model_selection import train_test_split\n",
    "\n",
    "import tensorflow as tf\n",
    "from keras.utils import set_random_seed"
   ]
  },
  {
   "cell_type": "code",
   "execution_count": 9,
   "id": "db5fb99f-1a5c-4cb1-ac47-afcce10b1838",
   "metadata": {},
   "outputs": [],
   "source": [
    "# 랜덤값 고정\n",
    "np.random.seed(42)\n",
    "tf.random.set_seed(42)\n",
    "set_random_seed(42)"
   ]
  },
  {
   "cell_type": "code",
   "execution_count": 11,
   "id": "6df1dbe4-792a-49a8-bd30-f7d884d3dae0",
   "metadata": {},
   "outputs": [],
   "source": [
    "# 데이터 불러오기\n",
    "train = pd.read_csv('/MainData/train.csv')\n",
    "test=pd.read_csv('/MainData/test.csv')"
   ]
  },
  {
   "cell_type": "code",
   "execution_count": 28,
   "id": "ae7ff172-a4ba-45b1-9744-ba20683a5516",
   "metadata": {},
   "outputs": [
    {
     "data": {
      "text/plain": [
       "음식점       4912\n",
       "육상 레포츠    2288\n",
       "자연관광지     1578\n",
       "역사관광지     1571\n",
       "숙박시설      1434\n",
       "문화시설      1220\n",
       "휴양관광지      889\n",
       "체험관광지      805\n",
       "쇼핑         696\n",
       "축제         569\n",
       "건축/조형물     328\n",
       "수상 레포츠     277\n",
       "관광자원       141\n",
       "공연/행사      139\n",
       "산업관광지       93\n",
       "복합 레포츠      24\n",
       "항공 레포츠      11\n",
       "레포츠소개       11\n",
       "Name: cat2, dtype: int64"
      ]
     },
     "execution_count": 28,
     "metadata": {},
     "output_type": "execute_result"
    }
   ],
   "source": [
    "train.cat2.value_counts()"
   ]
  },
  {
   "cell_type": "code",
   "execution_count": 39,
   "id": "b94d2a5d-edc7-4af0-af3f-ec07c9a32bea",
   "metadata": {},
   "outputs": [
    {
     "data": {
      "text/plain": [
       "array(['자연관광지', '육상 레포츠', '음식점', '축제', '역사관광지', '문화시설', '휴양관광지', '숙박시설',\n",
       "       '공연/행사', '쇼핑', '체험관광지', '복합 레포츠', '건축/조형물', '관광자원', '수상 레포츠',\n",
       "       '산업관광지', '항공 레포츠', '레포츠소개'], dtype=object)"
      ]
     },
     "execution_count": 39,
     "metadata": {},
     "output_type": "execute_result"
    }
   ],
   "source": [
    "train.cat2.unique()"
   ]
  },
  {
   "cell_type": "code",
   "execution_count": 33,
   "id": "ea35760d-0574-4755-8eba-4064f5490a43",
   "metadata": {},
   "outputs": [],
   "source": [
    "# ! pip install icrawler\n",
    "from icrawler.builtin import GoogleImageCrawler"
   ]
  },
  {
   "cell_type": "code",
   "execution_count": 36,
   "id": "9f195612-7bf7-445f-b7f1-a25399a71c26",
   "metadata": {
    "collapsed": true,
    "jupyter": {
     "outputs_hidden": true
    },
    "tags": []
   },
   "outputs": [
    {
     "name": "stderr",
     "output_type": "stream",
     "text": [
      "2022-10-05 19:07:57,202 - INFO - icrawler.crawler - start crawling...\n",
      "2022-10-05 19:07:57,205 - INFO - icrawler.crawler - starting 1 feeder threads...\n",
      "2022-10-05 19:07:57,209 - INFO - feeder - thread feeder-001 exit\n",
      "2022-10-05 19:07:57,215 - INFO - icrawler.crawler - starting 2 parser threads...\n",
      "2022-10-05 19:07:57,235 - INFO - icrawler.crawler - starting 4 downloader threads...\n",
      "2022-10-05 19:07:58,375 - INFO - parser - parsing result page https://www.google.com/search?q=%EC%97%AC%ED%96%89&ijn=1&start=100&tbs=&tbm=isch\n",
      "2022-10-05 19:07:58,606 - INFO - parser - parsing result page https://www.google.com/search?q=%EC%97%AC%ED%96%89&ijn=0&start=0&tbs=&tbm=isch\n",
      "2022-10-05 19:07:58,975 - INFO - downloader - image #1\thttp://image1.lottetour.com/static/promotion/2022/09/1934/mo_m.jpg\n",
      "2022-10-05 19:07:59,059 - INFO - downloader - image #2\thttps://ichef.bbci.co.uk/news/640/cpsprodpb/A790/production/_123669824_ebaf878f-e274-4efa-ae58-40dad7aaa9fb.jpg\n",
      "2022-10-05 19:07:59,175 - INFO - downloader - image #3\thttp://www.criteo.com/kr/wp-content/uploads/sites/7/2019/07/blue-clouds-daylight-2088282.jpg\n",
      "2022-10-05 19:07:59,332 - INFO - downloader - image #4\thttps://cdn.drtour.com/MainNew/PromotionItem/2022/9/6b2707f6-4f35-4f47-9cfd-a8419fef2909.jpg\n",
      "2022-10-05 19:07:59,336 - INFO - downloader - image #5\thttps://cdn.traveltimes.co.kr/news/photo/202207/402048_22875_5554.jpg\n",
      "2022-10-05 19:07:59,344 - INFO - downloader - image #6\thttp://www.criteo.com/kr/wp-content/uploads/sites/7/2021/05/Travel-data-pack-Q1-2021-cover2.png\n",
      "2022-10-05 19:07:59,546 - INFO - downloader - image #7\thttps://www.korea.kr/newsWeb/resources/attaches/2022.05/24/63.jpg\n",
      "2022-10-05 19:07:59,728 - INFO - downloader - image #8\thttps://www.0404.go.kr/images/accompany/appbg.png\n",
      "2022-10-05 19:07:59,908 - INFO - downloader - image #9\thttps://cdn.imweb.me/upload/S201712205a3a0910b89f5/5eec37d6c6065.jpg\n",
      "2022-10-05 19:07:59,953 - INFO - downloader - image #10\thttps://res.klook.com/image/upload/q_85/c_fill,w_750/v1617101647/blog/edlhmuf96dpqcnodl9qf.jpg\n",
      "2022-10-05 19:08:00,087 - INFO - downloader - image #11\thttps://cdn.traveltimes.co.kr/news/photo/202209/402943_24210_3416.jpg\n",
      "2022-10-05 19:08:00,329 - INFO - downloader - image #12\thttps://d2ur7st6jjikze.cloudfront.net/cms/2347_original_1663928634.png\n",
      "2022-10-05 19:08:00,537 - INFO - downloader - image #13\thttp://www.mdon.co.kr/data/photos/20211145/art_1636353726674_4ce82d.png\n",
      "2022-10-05 19:08:00,626 - INFO - downloader - image #14\thttps://www.korea.kr/newsWeb/resources/attaches/2022.06/07/9a20f8811412ce940c96044b6f768945.jpg\n",
      "2022-10-05 19:08:00,759 - INFO - downloader - image #15\thttp://openimage.interpark.com/dia/images/32/5/220923005/900e3cd13c894542bc08431eb46682b9.jpg\n",
      "2022-10-05 19:08:00,802 - INFO - downloader - image #16\thttps://contents.verygoodtour.com/Images/m/main/event/m_banner_13103.jpg\n",
      "2022-10-05 19:08:00,928 - INFO - downloader - image #17\thttps://img.modetour.com/promotion/10018/750_10018_m.jpg\n",
      "2022-10-05 19:08:01,005 - ERROR - downloader - Exception caught when downloading file https://image1.onlinetour.co.kr/resize.php?w\\u003d400\\u0026u\\u003dhttps://image1.onlinetour.co.kr/obms_images/keyword/2022/0928/20220928140645467960B09C1542748A2792C1C0816F07.jpg, error: No host specified., remaining retry times: 2\n",
      "2022-10-05 19:08:01,048 - ERROR - downloader - Exception caught when downloading file https://image1.onlinetour.co.kr/resize.php?w\\u003d400\\u0026u\\u003dhttps://image1.onlinetour.co.kr/obms_images/keyword/2022/0928/20220928140645467960B09C1542748A2792C1C0816F07.jpg, error: No host specified., remaining retry times: 1\n",
      "2022-10-05 19:08:01,084 - INFO - downloader - image #18\thttps://openimage.interpark.com/dia/images/208/19/220914019/b8ca14efd6b840dbb93dc74dad9f0ea5_W750H413.jpg\n",
      "2022-10-05 19:08:01,095 - ERROR - downloader - Exception caught when downloading file https://image1.onlinetour.co.kr/resize.php?w\\u003d400\\u0026u\\u003dhttps://image1.onlinetour.co.kr/obms_images/keyword/2022/0928/20220928140645467960B09C1542748A2792C1C0816F07.jpg, error: No host specified., remaining retry times: 0\n",
      "2022-10-05 19:08:01,517 - INFO - downloader - image #19\thttps://static.priviatravel.com/event/prm-gen-img/a6acaf0c-dc11-4a29-98ad-591a85ed342a.jpg\n",
      "2022-10-05 19:08:01,565 - INFO - downloader - image #20\thttps://image.cnet.co.kr/2022/09/28/b769118231abf462766b40863284bbdd-770xAAA.jpg\n",
      "2022-10-05 19:08:01,766 - INFO - downloader - image #21\thttp://www.hotelrestaurant.co.kr/data/photos/20220728/art_16575051213065_0f3832.jpg\n",
      "2022-10-05 19:08:01,794 - INFO - downloader - image #22\thttp://www.hotelrestaurant.co.kr/data/photos/20190416/art_15554800195894_783572.bmp\n",
      "2022-10-05 19:08:01,894 - INFO - downloader - image #23\thttp://www.amc.seoul.kr/healthinfo/health/attach/img/29548/20111221103018_0_29548.jpg\n",
      "2022-10-05 19:08:01,903 - ERROR - downloader - Exception caught when downloading file https://www.hsg.go.kr/tour/img/main/vpr1/v1001_2021.jpg, error: HTTPSConnectionPool(host='www.hsg.go.kr', port=443): Max retries exceeded with url: /tour/img/main/vpr1/v1001_2021.jpg (Caused by SSLError(SSLCertVerificationError(1, '[SSL: CERTIFICATE_VERIFY_FAILED] certificate verify failed: unable to get local issuer certificate (_ssl.c:1129)'))), remaining retry times: 2\n",
      "2022-10-05 19:08:01,997 - ERROR - downloader - Exception caught when downloading file https://www.hsg.go.kr/tour/img/main/vpr1/v1001_2021.jpg, error: HTTPSConnectionPool(host='www.hsg.go.kr', port=443): Max retries exceeded with url: /tour/img/main/vpr1/v1001_2021.jpg (Caused by SSLError(SSLCertVerificationError(1, '[SSL: CERTIFICATE_VERIFY_FAILED] certificate verify failed: unable to get local issuer certificate (_ssl.c:1129)'))), remaining retry times: 1\n",
      "2022-10-05 19:08:02,146 - ERROR - downloader - Exception caught when downloading file https://www.hsg.go.kr/tour/img/main/vpr1/v1001_2021.jpg, error: HTTPSConnectionPool(host='www.hsg.go.kr', port=443): Max retries exceeded with url: /tour/img/main/vpr1/v1001_2021.jpg (Caused by SSLError(SSLCertVerificationError(1, '[SSL: CERTIFICATE_VERIFY_FAILED] certificate verify failed: unable to get local issuer certificate (_ssl.c:1129)'))), remaining retry times: 0\n",
      "2022-10-05 19:08:02,480 - INFO - downloader - image #24\thttps://d2ur7st6jjikze.cloudfront.net/cms/2304_original_1664851421.png\n",
      "2022-10-05 19:08:03,086 - INFO - downloader - image #25\thttps://cimgcdn.ybtour.co.kr/attachHome/EP/EM/202204/202204291247385231904003001040.jpg\n",
      "2022-10-05 19:08:03,260 - INFO - downloader - image #26\thttp://m.greentrip.kr/PageArea/Images/20170626165231.jpg\n",
      "2022-10-05 19:08:03,563 - INFO - downloader - image #27\thttps://www.gn.go.kr/tour/images/tour/main_new/mvisual_img03.jpg\n",
      "2022-10-05 19:08:04,063 - INFO - downloader - image #28\thttps://www.korea.kr/newsWeb/resources/attaches/2022.06/07/a35372edc506001f4d7be13b8352e0e0.jpg\n",
      "2022-10-05 19:08:04,433 - INFO - downloader - image #29\thttps://content.presspage.com/uploads/685/1920_solaceinsolo1.jpg\n",
      "2022-10-05 19:08:04,542 - INFO - downloader - image #30\thttps://cdn.eroun.net/news/photo/202206/28777_53852_60.jpg\n",
      "2022-10-05 19:08:04,937 - INFO - downloader - image #31\thttps://openimage.interpark.com/dia/images/442/5/220923005/9d453c3dba3d43cca5ce417a99bcc17d.png\n",
      "2022-10-05 19:08:05,134 - INFO - downloader - image #32\thttps://www.visitdubai.com/-/media/images/leisure/homepage/homepage-personalization-headers/uk-global-homepage-header.jpg\n",
      "2022-10-05 19:08:05,256 - INFO - downloader - image #33\thttps://img.modetour.com/promotion20/11859/750_11859_m.jpg\n",
      "2022-10-05 19:08:05,374 - INFO - downloader - image #34\thttp://file.scourt.go.kr/crosseditor/images/000001/20200108161455251_FUHWAXIP.jpg\n",
      "2022-10-05 19:08:05,449 - INFO - downloader - image #35\thttps://tour.geoje.go.kr/ntour/images/contents/tourBg.jpg\n",
      "2022-10-05 19:08:05,557 - INFO - downloader - image #36\thttps://cdn.imweb.me/thumbnail/20220330/267e80dd081d4.jpg\n",
      "2022-10-05 19:08:05,641 - INFO - downloader - image #37\thttps://cimgcdn.ybtour.co.kr/attachHome/DM/BM/202209/202209301021233751410002001048.jpg\n",
      "2022-10-05 19:08:05,667 - INFO - downloader - image #38\thttps://www.seantour.com/newseantour/upload/attach/mainImg/20211201/MAINIMG_1404924927501600.jpg\n",
      "2022-10-05 19:08:05,894 - INFO - downloader - image #39\thttps://www.gurye.go.kr/images/homepage/site/tour/main/img_visual01.jpg\n",
      "2022-10-05 19:08:05,912 - INFO - downloader - image #40\thttp://www.rda.go.kr/webzine/2020/07/images/sub3-1_img01.jpg\n",
      "2022-10-05 19:08:06,334 - INFO - downloader - image #41\thttps://contents.verygoodtour.com/content/310/JP/J33/OSA/image/1923231_0.jpg\n",
      "2022-10-05 19:08:06,471 - INFO - downloader - image #42\thttps://www.50plus.or.kr/upload/im/2019/01/d3c19df5-37b2-4eab-9a97-51423b7cb419.jpg\n",
      "2022-10-05 19:08:06,517 - INFO - downloader - image #43\thttps://files.covid19.ca.gov/img/travelcovidsafe-3.png\n",
      "2022-10-05 19:08:06,676 - INFO - downloader - image #44\thttps://www.brcn.go.kr/images/tour/sub02/nine-thumb01.jpg\n",
      "2022-10-05 19:08:06,943 - INFO - downloader - image #45\thttps://image.gmarket.co.kr/service_image/2022/10/04/20221004-092630.jpg\n",
      "2022-10-05 19:08:06,945 - INFO - downloader - image #46\thttps://www.discoverhongkong.com/content/dam/dhk/intl/plan/traveller-info/what-you-should-know-before-travelling-to-hong-kong/traveller-16-9.jpg\n",
      "2022-10-05 19:08:07,081 - INFO - downloader - image #47\thttps://vacation.visitkorea.or.kr/admin/vt/202110/48229aa3-cc58-4b50-b8c8-a492bd5d5d09.jpg\n",
      "2022-10-05 19:08:07,127 - INFO - downloader - image #48\thttps://cdns.tourvis.com/upload/image/inventory/2022/07/20/51354_TourvisMO_ML_Banner(750_940)_20220720175936.png\n",
      "2022-10-05 19:08:07,251 - INFO - downloader - image #49\thttps://eiec.kdi.re.kr/userdata/nara/202104/edit/aaaOJlFjZLO3qeZc4wxFx_1616737560757.jpg\n",
      "2022-10-05 19:08:07,312 - INFO - downloader - image #50\thttps://gogo.sen.go.kr/images/egovframework/main/bg03.jpg\n",
      "2022-10-05 19:08:07,314 - INFO - downloader - image #51\thttp://www.hanatourcompany.com/kor/img2/main_img.jpg\n",
      "2022-10-05 19:08:07,387 - INFO - downloader - image #52\thttps://www.newzealand.com/assets/Tourism-NZ/Queenstown/97bcbd817e/img-1536338440-1759-21935-C929F84C-C444-CD4F-58DA7438FDC418E5__aWxvdmVrZWxseQo_FocalPointCropWzQ0MCw3NDcsNTAsNTYsNzUsImpwZyIsNjUsMi41XQ.jpg\n",
      "2022-10-05 19:08:07,456 - INFO - downloader - image #53\thttp://image1.lottetour.com/static/promotion/2022/04/1762/mo_m.jpg\n",
      "2022-10-05 19:08:07,644 - INFO - downloader - image #54\thttps://cdn.drtour.com/MainNew/TopList/2022/9/8cf5ef96-54dc-4764-aca0-ff02b43c44ab.jpg\n",
      "2022-10-05 19:08:07,792 - INFO - downloader - image #55\thttp://www.ygtour.kr/upload/2021/0827/202108271630025630676264.jpg\n",
      "2022-10-05 19:08:07,827 - INFO - downloader - image #56\thttps://www.korailtravel.com/web/images/sub/subBanner/subPremium_service02.jpg\n",
      "2022-10-05 19:08:07,920 - INFO - downloader - image #57\thttps://cdn.traveltimes.co.kr/news/photo/202210/402952_24219_473.jpg\n",
      "2022-10-05 19:08:07,944 - ERROR - downloader - Exception caught when downloading file https://www.namdokorea.com/site/jeonnam/tour/images/main/img_course.jpg, error: HTTPSConnectionPool(host='www.namdokorea.com', port=443): Max retries exceeded with url: /site/jeonnam/tour/images/main/img_course.jpg (Caused by SSLError(SSLCertVerificationError(1, '[SSL: CERTIFICATE_VERIFY_FAILED] certificate verify failed: unable to get local issuer certificate (_ssl.c:1129)'))), remaining retry times: 2\n",
      "2022-10-05 19:08:08,047 - ERROR - downloader - Exception caught when downloading file https://www.namdokorea.com/site/jeonnam/tour/images/main/img_course.jpg, error: HTTPSConnectionPool(host='www.namdokorea.com', port=443): Max retries exceeded with url: /site/jeonnam/tour/images/main/img_course.jpg (Caused by SSLError(SSLCertVerificationError(1, '[SSL: CERTIFICATE_VERIFY_FAILED] certificate verify failed: unable to get local issuer certificate (_ssl.c:1129)'))), remaining retry times: 1\n",
      "2022-10-05 19:08:08,124 - ERROR - downloader - Exception caught when downloading file https://www.namdokorea.com/site/jeonnam/tour/images/main/img_course.jpg, error: HTTPSConnectionPool(host='www.namdokorea.com', port=443): Max retries exceeded with url: /site/jeonnam/tour/images/main/img_course.jpg (Caused by SSLError(SSLCertVerificationError(1, '[SSL: CERTIFICATE_VERIFY_FAILED] certificate verify failed: unable to get local issuer certificate (_ssl.c:1129)'))), remaining retry times: 0\n",
      "2022-10-05 19:08:08,124 - INFO - downloader - image #58\thttp://m.palmtour.co.kr/images/main/promotion_maldives1.jpg\n",
      "2022-10-05 19:08:08,258 - INFO - downloader - image #59\thttps://www.gyeongju.go.kr/design/tour2019/img/sub/themaImg1.jpg\n",
      "2022-10-05 19:08:08,318 - INFO - downloader - image #60\thttp://img2.tmon.kr/cdn4/deals/2022/09/22/13637553194/original_13637553194_mobile_343a7_1663841643production.jpg\n",
      "2022-10-05 19:08:08,439 - INFO - downloader - image #61\thttps://www.utour.go.kr/_res/utour/img/main/vpr1/v20220328.jpg\n",
      "2022-10-05 19:08:08,719 - INFO - downloader - image #62\thttps://www.korea.kr/newsWeb/resources/attaches/2022.06/15/31e7c367a208be0d1a21e484d3214a77.jpg\n",
      "2022-10-05 19:08:08,728 - INFO - downloader - image #63\thttps://www.jnilbo.com//2022/10/04/2022100416103067624_l.jpg\n",
      "2022-10-05 19:08:08,800 - INFO - downloader - image #64\thttps://i.ytimg.com/vi/zdBIDbtdJO0/maxresdefault.jpg\n",
      "2022-10-05 19:08:09,171 - INFO - downloader - image #65\thttps://flexible.img.hani.co.kr/flexible/normal/700/466/imgdb/original/2021/0603/20210603504045.jpg\n",
      "2022-10-05 19:08:09,265 - INFO - downloader - image #66\thttp://www.ulleung.go.kr/design/tour/img/main/popup_220705.jpg\n",
      "2022-10-05 19:08:09,300 - INFO - downloader - image #67\thttp://hi.esmplus.com/b/2022/09/14/1663147178116vvg5du8.jpg\n",
      "2022-10-05 19:08:09,431 - INFO - parser - parsing result page https://www.google.com/search?q=%EC%97%AC%ED%96%89&ijn=2&start=200&tbs=&tbm=isch\n",
      "2022-10-05 19:08:10,042 - INFO - parser - parsing result page https://www.google.com/search?q=%EC%97%AC%ED%96%89&ijn=3&start=300&tbs=&tbm=isch\n",
      "2022-10-05 19:08:10,141 - INFO - downloader - image #68\thttps://www.newzealand.com/assets/Tourism-NZ/Other/img-1536021628-7172-18765-p-1AA1632D-BCD8-3537-8C3C5C481C360D94-2544003__aWxvdmVrZWxseQo_FocalPointCropWzM1MiwxMDI0LDUwLDUwLDc1LCJqcGciLDY1LDIuNV0.jpg\n",
      "2022-10-05 19:08:10,204 - INFO - parser - parsing result page https://www.google.com/search?q=%EC%97%AC%ED%96%89&ijn=4&start=400&tbs=&tbm=isch\n",
      "2022-10-05 19:08:10,405 - INFO - downloader - image #69\thttps://mcst.go.kr/attachFiles/cultureInfoCourt/monthServ/1661736281100.jpg\n",
      "2022-10-05 19:08:10,516 - INFO - downloader - image #70\thttps://www.vietnamairlines.com/~/media/Covid-19-Banner/1300x450/antoantrainghiembay_1300x450.jpg\n",
      "2022-10-05 19:08:10,713 - ERROR - downloader - Exception caught when downloading file https://www.swmaestro.org/contents/commoneditor/20210630145040d6c4af97-4ea3-4ce0-aef9-6750c0a33ad9.jpg, error: HTTPSConnectionPool(host='www.swmaestro.org', port=443): Max retries exceeded with url: /contents/commoneditor/20210630145040d6c4af97-4ea3-4ce0-aef9-6750c0a33ad9.jpg (Caused by SSLError(SSLCertVerificationError(1, '[SSL: CERTIFICATE_VERIFY_FAILED] certificate verify failed: unable to get local issuer certificate (_ssl.c:1129)'))), remaining retry times: 2\n",
      "2022-10-05 19:08:10,809 - ERROR - downloader - Exception caught when downloading file https://www.swmaestro.org/contents/commoneditor/20210630145040d6c4af97-4ea3-4ce0-aef9-6750c0a33ad9.jpg, error: HTTPSConnectionPool(host='www.swmaestro.org', port=443): Max retries exceeded with url: /contents/commoneditor/20210630145040d6c4af97-4ea3-4ce0-aef9-6750c0a33ad9.jpg (Caused by SSLError(SSLCertVerificationError(1, '[SSL: CERTIFICATE_VERIFY_FAILED] certificate verify failed: unable to get local issuer certificate (_ssl.c:1129)'))), remaining retry times: 1\n",
      "2022-10-05 19:08:10,816 - INFO - downloader - image #71\thttps://mediahub.seoul.go.kr/uploads/mediahub/2022/03/NMqYxEpNemwSYsCEFGkyvSNjBUxVQsXt.png\n",
      "2022-10-05 19:08:10,876 - ERROR - downloader - Exception caught when downloading file https://www.swmaestro.org/contents/commoneditor/20210630145040d6c4af97-4ea3-4ce0-aef9-6750c0a33ad9.jpg, error: HTTPSConnectionPool(host='www.swmaestro.org', port=443): Max retries exceeded with url: /contents/commoneditor/20210630145040d6c4af97-4ea3-4ce0-aef9-6750c0a33ad9.jpg (Caused by SSLError(SSLCertVerificationError(1, '[SSL: CERTIFICATE_VERIFY_FAILED] certificate verify failed: unable to get local issuer certificate (_ssl.c:1129)'))), remaining retry times: 0\n",
      "2022-10-05 19:08:11,058 - INFO - downloader - image #72\thttps://www.hyecho.com/HStorage/upload/event_hcho_68520220920100606.jpg\n",
      "2022-10-05 19:08:11,095 - INFO - downloader - image #73\thttps://news.seoul.go.kr/culture/files/2019/04/5cac40cc5c2e70.26513140.jpg\n",
      "2022-10-05 19:08:11,388 - INFO - downloader - image #74\thttps://www.ganghwa.go.kr/open_content/tour/images/contents/kyodongdo2.jpg\n",
      "2022-10-05 19:08:11,462 - INFO - downloader - image #75\thttps://kdca.go.kr/cdc/cms/content/98/139798_body_1_15.jpg\n",
      "2022-10-05 19:08:12,117 - INFO - parser - no more page urls for thread parser-002 to parse\n",
      "2022-10-05 19:08:12,117 - INFO - parser - thread parser-002 exit\n",
      "2022-10-05 19:08:12,289 - INFO - parser - no more page urls for thread parser-001 to parse\n",
      "2022-10-05 19:08:12,289 - INFO - parser - thread parser-001 exit\n",
      "2022-10-05 19:08:14,144 - INFO - downloader - image #76\thttps://images.france.fr/zeaejvyq9bhj/SSi2OrOKSAcR13MgO8DOL/9f130d1ea15a7857f49281697029d94c/____________-___________________-002.png\n",
      "2022-10-05 19:08:16,107 - INFO - downloader - no more download task for thread downloader-002\n",
      "2022-10-05 19:08:16,108 - INFO - downloader - thread downloader-002 exit\n",
      "2022-10-05 19:08:16,405 - INFO - downloader - no more download task for thread downloader-003\n",
      "2022-10-05 19:08:16,406 - INFO - downloader - thread downloader-003 exit\n",
      "2022-10-05 19:08:16,465 - INFO - downloader - no more download task for thread downloader-001\n",
      "2022-10-05 19:08:16,465 - INFO - downloader - thread downloader-001 exit\n",
      "2022-10-05 19:08:19,154 - INFO - downloader - no more download task for thread downloader-004\n",
      "2022-10-05 19:08:19,154 - INFO - downloader - thread downloader-004 exit\n",
      "2022-10-05 19:08:19,423 - INFO - icrawler.crawler - Crawling task done!\n"
     ]
    }
   ],
   "source": [
    "# 이미지 크롤링\n",
    "google_crawler = GoogleImageCrawler(parser_threads=2, downloader_threads=4,\n",
    "                                    storage={'root_dir': '../data'})\n",
    "\n",
    "google_crawler.crawl(keyword='여행', max_num=500,\n",
    "                     min_size=(200,200), max_size=None)\n",
    "# keyward: 수집하고자 하는 이미지\n",
    "# max_num: 수집할 이미지 수\n",
    "# date_min/date_max: 수집할 기간\n",
    "# min_size/max_size: 이미지 크기"
   ]
  },
  {
   "cell_type": "code",
   "execution_count": 40,
   "id": "a80ff342-f0b4-4b8d-9f84-b3aadae26934",
   "metadata": {},
   "outputs": [],
   "source": [
    "# 분류 대상 카테고리 선택하기\n",
    "trip_dir = \"./image\"\n",
    "categories=['자연관광지', '육상 레포츠', '음식점', '축제', '역사관광지', '문화시설', '휴양관광지', '숙박시설',\n",
    "       '공연/행사', '쇼핑', '체험관광지', '복합 레포츠', '건축/조형물', '관광자원', '수상 레포츠',\n",
    "       '산업관광지', '항공 레포츠', '레포츠소개']\n",
    "nb_classes=len(categories)"
   ]
  },
  {
   "cell_type": "code",
   "execution_count": 41,
   "id": "6d302ecf-9a93-40ad-9031-cda58dc47029",
   "metadata": {},
   "outputs": [],
   "source": [
    "# 이미지 크기 지정\n",
    "image_w=64\n",
    "image_h=64\n",
    "pixels=image_w*image_h*3"
   ]
  },
  {
   "cell_type": "code",
   "execution_count": 42,
   "id": "4b6be0f8-6a0b-4d62-9e54-2adf0065a22d",
   "metadata": {},
   "outputs": [],
   "source": [
    "# 이미지 데이터 읽어 들이기 \n",
    "X = []\n",
    "Y = []\n",
    "for idx, cat in enumerate(categories):\n",
    "    # 레이블 지정 \n",
    "    label = [0 for i in range(nb_classes)]\n",
    "    label[idx] = 1\n",
    "    # 이미지 \n",
    "    image_dir = trip_dir + \"/\" + cat\n",
    "    files = glob.glob(image_dir+\"/*.jpg\")\n",
    "    for i, f in enumerate(files):\n",
    "        img = Image.open(f) \n",
    "        img = img.convert(\"RGB\")\n",
    "        img = img.resize((image_w, image_h))\n",
    "        data = np.asarray(img)      # numpy 배열로 변환\n",
    "        X.append(data)\n",
    "        Y.append(label)\n",
    "        if i % 10 == 0:\n",
    "            print(i, \"\\n\", data)"
   ]
  },
  {
   "cell_type": "code",
   "execution_count": 43,
   "id": "5c97da71-24a9-4178-974c-275fcb1ce2a5",
   "metadata": {},
   "outputs": [],
   "source": [
    "X=np.array(X)\n",
    "Y=np.array(Y)"
   ]
  },
  {
   "cell_type": "code",
   "execution_count": 44,
   "id": "8458a11d-bd7f-4e4f-8a51-7e1890746208",
   "metadata": {
    "tags": []
   },
   "outputs": [
    {
     "ename": "ValueError",
     "evalue": "With n_samples=0, test_size=0.2 and train_size=None, the resulting train set will be empty. Adjust any of the aforementioned parameters.",
     "output_type": "error",
     "traceback": [
      "\u001b[1;31m---------------------------------------------------------------------------\u001b[0m",
      "\u001b[1;31mValueError\u001b[0m                                Traceback (most recent call last)",
      "Input \u001b[1;32mIn [44]\u001b[0m, in \u001b[0;36m<cell line: 2>\u001b[1;34m()\u001b[0m\n\u001b[0;32m      1\u001b[0m \u001b[38;5;66;03m# 학습, 테스트 데이터 구분\u001b[39;00m\n\u001b[1;32m----> 2\u001b[0m X_train, X_test, y_train, y_test\u001b[38;5;241m=\u001b[39m\u001b[43mtrain_test_split\u001b[49m\u001b[43m(\u001b[49m\u001b[43mX\u001b[49m\u001b[43m,\u001b[49m\u001b[43m \u001b[49m\u001b[43mY\u001b[49m\u001b[43m,\u001b[49m\n\u001b[0;32m      3\u001b[0m \u001b[43m                                                 \u001b[49m\u001b[43mstratify\u001b[49m\u001b[38;5;241;43m=\u001b[39;49m\u001b[43mY\u001b[49m\u001b[43m,\u001b[49m\n\u001b[0;32m      4\u001b[0m \u001b[43m                                                 \u001b[49m\u001b[43mrandom_state\u001b[49m\u001b[38;5;241;43m=\u001b[39;49m\u001b[38;5;241;43m42\u001b[39;49m\u001b[43m,\u001b[49m\n\u001b[0;32m      5\u001b[0m \u001b[43m                                                 \u001b[49m\u001b[43mtest_size\u001b[49m\u001b[38;5;241;43m=\u001b[39;49m\u001b[38;5;241;43m0.2\u001b[39;49m\u001b[43m)\u001b[49m\n",
      "File \u001b[1;32mC:\\ProgramData\\Anaconda3\\envs\\PY3.9\\lib\\site-packages\\sklearn\\model_selection\\_split.py:2448\u001b[0m, in \u001b[0;36mtrain_test_split\u001b[1;34m(test_size, train_size, random_state, shuffle, stratify, *arrays)\u001b[0m\n\u001b[0;32m   2445\u001b[0m arrays \u001b[38;5;241m=\u001b[39m indexable(\u001b[38;5;241m*\u001b[39marrays)\n\u001b[0;32m   2447\u001b[0m n_samples \u001b[38;5;241m=\u001b[39m _num_samples(arrays[\u001b[38;5;241m0\u001b[39m])\n\u001b[1;32m-> 2448\u001b[0m n_train, n_test \u001b[38;5;241m=\u001b[39m \u001b[43m_validate_shuffle_split\u001b[49m\u001b[43m(\u001b[49m\n\u001b[0;32m   2449\u001b[0m \u001b[43m    \u001b[49m\u001b[43mn_samples\u001b[49m\u001b[43m,\u001b[49m\u001b[43m \u001b[49m\u001b[43mtest_size\u001b[49m\u001b[43m,\u001b[49m\u001b[43m \u001b[49m\u001b[43mtrain_size\u001b[49m\u001b[43m,\u001b[49m\u001b[43m \u001b[49m\u001b[43mdefault_test_size\u001b[49m\u001b[38;5;241;43m=\u001b[39;49m\u001b[38;5;241;43m0.25\u001b[39;49m\n\u001b[0;32m   2450\u001b[0m \u001b[43m\u001b[49m\u001b[43m)\u001b[49m\n\u001b[0;32m   2452\u001b[0m \u001b[38;5;28;01mif\u001b[39;00m shuffle \u001b[38;5;129;01mis\u001b[39;00m \u001b[38;5;28;01mFalse\u001b[39;00m:\n\u001b[0;32m   2453\u001b[0m     \u001b[38;5;28;01mif\u001b[39;00m stratify \u001b[38;5;129;01mis\u001b[39;00m \u001b[38;5;129;01mnot\u001b[39;00m \u001b[38;5;28;01mNone\u001b[39;00m:\n",
      "File \u001b[1;32mC:\\ProgramData\\Anaconda3\\envs\\PY3.9\\lib\\site-packages\\sklearn\\model_selection\\_split.py:2126\u001b[0m, in \u001b[0;36m_validate_shuffle_split\u001b[1;34m(n_samples, test_size, train_size, default_test_size)\u001b[0m\n\u001b[0;32m   2123\u001b[0m n_train, n_test \u001b[38;5;241m=\u001b[39m \u001b[38;5;28mint\u001b[39m(n_train), \u001b[38;5;28mint\u001b[39m(n_test)\n\u001b[0;32m   2125\u001b[0m \u001b[38;5;28;01mif\u001b[39;00m n_train \u001b[38;5;241m==\u001b[39m \u001b[38;5;241m0\u001b[39m:\n\u001b[1;32m-> 2126\u001b[0m     \u001b[38;5;28;01mraise\u001b[39;00m \u001b[38;5;167;01mValueError\u001b[39;00m(\n\u001b[0;32m   2127\u001b[0m         \u001b[38;5;124m\"\u001b[39m\u001b[38;5;124mWith n_samples=\u001b[39m\u001b[38;5;132;01m{}\u001b[39;00m\u001b[38;5;124m, test_size=\u001b[39m\u001b[38;5;132;01m{}\u001b[39;00m\u001b[38;5;124m and train_size=\u001b[39m\u001b[38;5;132;01m{}\u001b[39;00m\u001b[38;5;124m, the \u001b[39m\u001b[38;5;124m\"\u001b[39m\n\u001b[0;32m   2128\u001b[0m         \u001b[38;5;124m\"\u001b[39m\u001b[38;5;124mresulting train set will be empty. Adjust any of the \u001b[39m\u001b[38;5;124m\"\u001b[39m\n\u001b[0;32m   2129\u001b[0m         \u001b[38;5;124m\"\u001b[39m\u001b[38;5;124maforementioned parameters.\u001b[39m\u001b[38;5;124m\"\u001b[39m\u001b[38;5;241m.\u001b[39mformat(n_samples, test_size, train_size)\n\u001b[0;32m   2130\u001b[0m     )\n\u001b[0;32m   2132\u001b[0m \u001b[38;5;28;01mreturn\u001b[39;00m n_train, n_test\n",
      "\u001b[1;31mValueError\u001b[0m: With n_samples=0, test_size=0.2 and train_size=None, the resulting train set will be empty. Adjust any of the aforementioned parameters."
     ]
    }
   ],
   "source": [
    "# 학습, 테스트 데이터 구분\n",
    "X_train, X_test, y_train, y_test=train_test_split(X, Y,\n",
    "                                                 stratify=Y,\n",
    "                                                 random_state=42,\n",
    "                                                 test_size=0.2)"
   ]
  },
  {
   "cell_type": "code",
   "execution_count": 26,
   "id": "dfddd9fb-20c8-4cde-9ae8-bc3a67b0c8a5",
   "metadata": {},
   "outputs": [
    {
     "ename": "NameError",
     "evalue": "name 'X_train' is not defined",
     "output_type": "error",
     "traceback": [
      "\u001b[1;31m---------------------------------------------------------------------------\u001b[0m",
      "\u001b[1;31mNameError\u001b[0m                                 Traceback (most recent call last)",
      "Input \u001b[1;32mIn [26]\u001b[0m, in \u001b[0;36m<cell line: 1>\u001b[1;34m()\u001b[0m\n\u001b[1;32m----> 1\u001b[0m xy\u001b[38;5;241m=\u001b[39m(\u001b[43mX_train\u001b[49m, X_test, y_train, y_test)\n",
      "\u001b[1;31mNameError\u001b[0m: name 'X_train' is not defined"
     ]
    }
   ],
   "source": [
    "xy=(X_train, X_test, y_train, y_test)"
   ]
  },
  {
   "cell_type": "code",
   "execution_count": null,
   "id": "282e7772-0ee1-4d74-8634-9b2aaf2373bc",
   "metadata": {},
   "outputs": [],
   "source": [
    "print('>>> 데이터 저장 중...')\n",
    "np.save('/MainData/image/crawling_img/7obj.npy', xy)\n",
    "print('ok', len(Y))"
   ]
  }
 ],
 "metadata": {
  "kernelspec": {
   "display_name": "Python 3 (ipykernel)",
   "language": "python",
   "name": "python3"
  },
  "language_info": {
   "codemirror_mode": {
    "name": "ipython",
    "version": 3
   },
   "file_extension": ".py",
   "mimetype": "text/x-python",
   "name": "python",
   "nbconvert_exporter": "python",
   "pygments_lexer": "ipython3",
   "version": "3.9.13"
  }
 },
 "nbformat": 4,
 "nbformat_minor": 5
}
