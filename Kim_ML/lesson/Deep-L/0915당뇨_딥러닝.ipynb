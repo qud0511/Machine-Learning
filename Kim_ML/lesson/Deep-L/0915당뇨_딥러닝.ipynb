{
 "cells": [
  {
   "cell_type": "code",
   "execution_count": 1,
   "id": "9267238e-ad3b-435a-b52a-ebb30574446b",
   "metadata": {},
   "outputs": [],
   "source": [
    "# 딥러닝, 당뇨data\n",
    "# from sklearn.datasets import load_diabetes\n",
    "import tensorflow as tf"
   ]
  },
  {
   "cell_type": "code",
   "execution_count": 2,
   "id": "5dcc7815-6268-4fd9-93c5-10d97b64371a",
   "metadata": {},
   "outputs": [],
   "source": [
    "from tensorflow.keras import Sequential # 모델 객체\n",
    "from tensorflow.keras.layers import Dense, Flatten, Dropout # 모델 레이어(층)\n",
    "from sklearn.model_selection import train_test_split\n",
    "import numpy as np\n",
    "import pandas as pd"
   ]
  },
  {
   "cell_type": "code",
   "execution_count": 3,
   "id": "41de1506-33ef-4338-935f-4449c6a5a432",
   "metadata": {},
   "outputs": [],
   "source": [
    "# data, target = load_diabetes(return_X_y=True, as_frame=True)\n",
    "# type(data), type(target)"
   ]
  },
  {
   "cell_type": "markdown",
   "id": "4eb494c6-ef9f-449f-b6a2-47c730b4b6e7",
   "metadata": {},
   "source": [
    "### 모델 생성"
   ]
  },
  {
   "cell_type": "code",
   "execution_count": 4,
   "id": "8155b2df-6b1d-4ff8-bca3-81d1a759e2a8",
   "metadata": {},
   "outputs": [],
   "source": [
    "df = pd.read_csv('./diabetes.csv')"
   ]
  },
  {
   "cell_type": "code",
   "execution_count": 5,
   "id": "7807d9ef-e6ab-4408-b0ef-35f1ed954c5f",
   "metadata": {
    "tags": []
   },
   "outputs": [
    {
     "data": {
      "text/html": [
       "<div>\n",
       "<style scoped>\n",
       "    .dataframe tbody tr th:only-of-type {\n",
       "        vertical-align: middle;\n",
       "    }\n",
       "\n",
       "    .dataframe tbody tr th {\n",
       "        vertical-align: top;\n",
       "    }\n",
       "\n",
       "    .dataframe thead th {\n",
       "        text-align: right;\n",
       "    }\n",
       "</style>\n",
       "<table border=\"1\" class=\"dataframe\">\n",
       "  <thead>\n",
       "    <tr style=\"text-align: right;\">\n",
       "      <th></th>\n",
       "      <th>Pregnancies</th>\n",
       "      <th>Glucose</th>\n",
       "      <th>BloodPressure</th>\n",
       "      <th>SkinThickness</th>\n",
       "      <th>Insulin</th>\n",
       "      <th>BMI</th>\n",
       "      <th>DiabetesPedigreeFunction</th>\n",
       "      <th>Age</th>\n",
       "      <th>Outcome</th>\n",
       "    </tr>\n",
       "  </thead>\n",
       "  <tbody>\n",
       "    <tr>\n",
       "      <th>0</th>\n",
       "      <td>6</td>\n",
       "      <td>148</td>\n",
       "      <td>72</td>\n",
       "      <td>35</td>\n",
       "      <td>0</td>\n",
       "      <td>33.6</td>\n",
       "      <td>0.627</td>\n",
       "      <td>50</td>\n",
       "      <td>1</td>\n",
       "    </tr>\n",
       "    <tr>\n",
       "      <th>1</th>\n",
       "      <td>1</td>\n",
       "      <td>85</td>\n",
       "      <td>66</td>\n",
       "      <td>29</td>\n",
       "      <td>0</td>\n",
       "      <td>26.6</td>\n",
       "      <td>0.351</td>\n",
       "      <td>31</td>\n",
       "      <td>0</td>\n",
       "    </tr>\n",
       "    <tr>\n",
       "      <th>2</th>\n",
       "      <td>8</td>\n",
       "      <td>183</td>\n",
       "      <td>64</td>\n",
       "      <td>0</td>\n",
       "      <td>0</td>\n",
       "      <td>23.3</td>\n",
       "      <td>0.672</td>\n",
       "      <td>32</td>\n",
       "      <td>1</td>\n",
       "    </tr>\n",
       "    <tr>\n",
       "      <th>3</th>\n",
       "      <td>1</td>\n",
       "      <td>89</td>\n",
       "      <td>66</td>\n",
       "      <td>23</td>\n",
       "      <td>94</td>\n",
       "      <td>28.1</td>\n",
       "      <td>0.167</td>\n",
       "      <td>21</td>\n",
       "      <td>0</td>\n",
       "    </tr>\n",
       "    <tr>\n",
       "      <th>4</th>\n",
       "      <td>0</td>\n",
       "      <td>137</td>\n",
       "      <td>40</td>\n",
       "      <td>35</td>\n",
       "      <td>168</td>\n",
       "      <td>43.1</td>\n",
       "      <td>2.288</td>\n",
       "      <td>33</td>\n",
       "      <td>1</td>\n",
       "    </tr>\n",
       "  </tbody>\n",
       "</table>\n",
       "</div>"
      ],
      "text/plain": [
       "   Pregnancies  Glucose  BloodPressure  SkinThickness  Insulin   BMI  \\\n",
       "0            6      148             72             35        0  33.6   \n",
       "1            1       85             66             29        0  26.6   \n",
       "2            8      183             64              0        0  23.3   \n",
       "3            1       89             66             23       94  28.1   \n",
       "4            0      137             40             35      168  43.1   \n",
       "\n",
       "   DiabetesPedigreeFunction  Age  Outcome  \n",
       "0                     0.627   50        1  \n",
       "1                     0.351   31        0  \n",
       "2                     0.672   32        1  \n",
       "3                     0.167   21        0  \n",
       "4                     2.288   33        1  "
      ]
     },
     "execution_count": 5,
     "metadata": {},
     "output_type": "execute_result"
    }
   ],
   "source": [
    "df.head()"
   ]
  },
  {
   "cell_type": "code",
   "execution_count": 6,
   "id": "1d29a19a-4068-48c6-85be-f1994bfdd3fe",
   "metadata": {},
   "outputs": [
    {
     "name": "stdout",
     "output_type": "stream",
     "text": [
      "<class 'pandas.core.frame.DataFrame'>\n",
      "RangeIndex: 768 entries, 0 to 767\n",
      "Data columns (total 9 columns):\n",
      " #   Column                    Non-Null Count  Dtype  \n",
      "---  ------                    --------------  -----  \n",
      " 0   Pregnancies               768 non-null    int64  \n",
      " 1   Glucose                   768 non-null    int64  \n",
      " 2   BloodPressure             768 non-null    int64  \n",
      " 3   SkinThickness             768 non-null    int64  \n",
      " 4   Insulin                   768 non-null    int64  \n",
      " 5   BMI                       768 non-null    float64\n",
      " 6   DiabetesPedigreeFunction  768 non-null    float64\n",
      " 7   Age                       768 non-null    int64  \n",
      " 8   Outcome                   768 non-null    int64  \n",
      "dtypes: float64(2), int64(7)\n",
      "memory usage: 54.1 KB\n",
      "Pregnancies                 0\n",
      "Glucose                     0\n",
      "BloodPressure               0\n",
      "SkinThickness               0\n",
      "Insulin                     0\n",
      "BMI                         0\n",
      "DiabetesPedigreeFunction    0\n",
      "Age                         0\n",
      "Outcome                     0\n",
      "dtype: int64\n"
     ]
    }
   ],
   "source": [
    "# 데이터타입 확인\n",
    "df.info()\n",
    "\n",
    "# 고유값 확인\n",
    "# for i in df.columns:\n",
    "#     print(i)\n",
    "#     print(df[i].unique())\n",
    "\n",
    "# 결측치 확인\n",
    "print(df.isnull().sum())"
   ]
  },
  {
   "cell_type": "code",
   "execution_count": 7,
   "id": "011c6186-faf3-45bd-9cbe-cc76c48b16a0",
   "metadata": {},
   "outputs": [
    {
     "data": {
      "text/plain": [
       "<AxesSubplot:>"
      ]
     },
     "execution_count": 7,
     "metadata": {},
     "output_type": "execute_result"
    },
    {
     "data": {
      "image/png": "[encoded data removed]",
      "text/plain": [
       "<Figure size 432x288 with 2 Axes>"
      ]
     },
     "metadata": {
      "needs_background": "light"
     },
     "output_type": "display_data"
    }
   ],
   "source": [
    "import seaborn as sns\n",
    "import matplotlib.pyplot as plt\n",
    "sns.heatmap(df.corr(), annot=True)"
   ]
  },
  {
   "cell_type": "code",
   "execution_count": 8,
   "id": "df9fb605-bf34-4b28-88f6-83be617b77da",
   "metadata": {},
   "outputs": [],
   "source": [
    "data = df.iloc[:, :-1]\n",
    "target = df['Outcome']"
   ]
  },
  {
   "cell_type": "code",
   "execution_count": 9,
   "id": "c9de1788-162a-4172-8b06-a0dbb6b4ceaa",
   "metadata": {},
   "outputs": [],
   "source": [
    "from sklearn.preprocessing import MinMaxScaler"
   ]
  },
  {
   "cell_type": "code",
   "execution_count": 10,
   "id": "70afff0d-b914-4464-8fee-03af47f4d0a7",
   "metadata": {},
   "outputs": [],
   "source": [
    "scaler=MinMaxScaler()\n",
    "data = scaler.fit_transform(data)"
   ]
  },
  {
   "cell_type": "code",
   "execution_count": 11,
   "id": "3bece801-f796-4c48-86cc-bafea4086c44",
   "metadata": {},
   "outputs": [],
   "source": [
    "X_train, X_test, y_train, y_test = train_test_split(data, target,\n",
    "                                                 random_state=42,\n",
    "                                                 test_size=0.2)"
   ]
  },
  {
   "cell_type": "code",
   "execution_count": 12,
   "id": "8d06f472-1bfa-4c9f-be3a-bea4dad3cc6c",
   "metadata": {},
   "outputs": [],
   "source": [
    "X_train, X_val, y_train, y_val = train_test_split(X_train, y_train,\n",
    "                                                 random_state=42,\n",
    "                                                 test_size=0.2)"
   ]
  },
  {
   "cell_type": "code",
   "execution_count": 13,
   "id": "c47fed08-7573-4283-a8b3-a03d4e4bb78a",
   "metadata": {},
   "outputs": [],
   "source": [
    "X_train = np.array(X_train)\n",
    "X_val = np.array(X_val)\n",
    "y_train = np.array(y_train)\n",
    "y_val = np.array(y_val)\n",
    "X_test = np.array(X_test)\n",
    "y_test = np.array(y_test)"
   ]
  },
  {
   "cell_type": "code",
   "execution_count": 14,
   "id": "c0fa65cb-99ba-4566-baf5-a697bf054549",
   "metadata": {},
   "outputs": [
    {
     "data": {
      "text/plain": [
       "(491, 8)"
      ]
     },
     "execution_count": 14,
     "metadata": {},
     "output_type": "execute_result"
    }
   ],
   "source": [
    "X_train.shape"
   ]
  },
  {
   "cell_type": "markdown",
   "id": "83efc497-018e-4fe8-80a6-536c9e30b070",
   "metadata": {},
   "source": [
    "### 모델 구상"
   ]
  },
  {
   "cell_type": "markdown",
   "id": "b4f10c59-46ad-4b48-985c-2eff947f4e1d",
   "metadata": {},
   "source": [
    "- 첫번째 인자 = 출력 뉴런의 수.\n",
    "\n",
    "- input_dim = 입력 뉴런의 수. (입력의 차원)\n",
    "\n",
    "- activation = 활성화 함수.\n",
    "\n",
    "    - linear : 디폴트 값으로 별도 활성화 함수 없이 입력 뉴런과 가중치의 계산 결과 그대로 출력.\n",
    "    \n",
    "    - sigmoid : 이진 분류 문제에서 출력층에 주로 사용되는 활성화 함수.\n",
    "    \n",
    "    - softmax : 셋 이상의 선택지 중 하나를 택하는 다중 클래스 분류 문제에서 출력층에 주로 사용되는 활성화 함수.\n",
    "    \n",
    "    - relu : 은닉층에 주로 사용되는 활성화 함수."
   ]
  },
  {
   "cell_type": "code",
   "execution_count": 15,
   "id": "e086e18e-1463-40dd-882f-d36e56575730",
   "metadata": {},
   "outputs": [],
   "source": [
    "model = Sequential(name='Diabetes')"
   ]
  },
  {
   "cell_type": "code",
   "execution_count": 16,
   "id": "c7744d39-aab8-4dfc-af20-915b7aa7ec85",
   "metadata": {},
   "outputs": [],
   "source": [
    "model.add(Dense(100, activation='relu', input_shape=(8,)))"
   ]
  },
  {
   "cell_type": "code",
   "execution_count": 17,
   "id": "de096a1b-10c6-4e88-a7b6-b4c3468b8ed8",
   "metadata": {},
   "outputs": [],
   "source": [
    "model.add(Dropout(0.5))"
   ]
  },
  {
   "cell_type": "code",
   "execution_count": 18,
   "id": "ce5ef7c9-d569-410e-94a8-453277bd2622",
   "metadata": {},
   "outputs": [],
   "source": [
    "model.add(Dense(100, activation = 'relu'))"
   ]
  },
  {
   "cell_type": "code",
   "execution_count": 19,
   "id": "473eecfb-4e73-4b4f-ad28-ad6fef0639f9",
   "metadata": {},
   "outputs": [],
   "source": [
    "model.add(Dropout(0.3))"
   ]
  },
  {
   "cell_type": "code",
   "execution_count": 20,
   "id": "597391e9-1250-40db-b26f-590c177a9ade",
   "metadata": {},
   "outputs": [],
   "source": [
    "# 출력 Layer 생성 => Node(퍼셉트론, 뉴런) 갯수, 활성화함수\n",
    "model.add(Dense(1, activation ='sigmoid'))"
   ]
  },
  {
   "cell_type": "code",
   "execution_count": 21,
   "id": "020efcdd-b99d-442c-b152-b66903614c3b",
   "metadata": {},
   "outputs": [
    {
     "name": "stdout",
     "output_type": "stream",
     "text": [
      "Model: \"Diabetes\"\n",
      "_________________________________________________________________\n",
      " Layer (type)                Output Shape              Param #   \n",
      "=================================================================\n",
      " dense (Dense)               (None, 100)               900       \n",
      "                                                                 \n",
      " dropout (Dropout)           (None, 100)               0         \n",
      "                                                                 \n",
      " dense_1 (Dense)             (None, 100)               10100     \n",
      "                                                                 \n",
      " dropout_1 (Dropout)         (None, 100)               0         \n",
      "                                                                 \n",
      " dense_2 (Dense)             (None, 1)                 101       \n",
      "                                                                 \n",
      "=================================================================\n",
      "Total params: 11,101\n",
      "Trainable params: 11,101\n",
      "Non-trainable params: 0\n",
      "_________________________________________________________________\n"
     ]
    }
   ],
   "source": [
    "model.summary()"
   ]
  },
  {
   "cell_type": "markdown",
   "id": "7912c266-6730-4d4c-b23f-e8228da49339",
   "metadata": {},
   "source": [
    "### 모델 생성"
   ]
  },
  {
   "cell_type": "code",
   "execution_count": 22,
   "id": "d5dfc339-4aa9-429d-80e2-f77adfa61160",
   "metadata": {},
   "outputs": [],
   "source": [
    "model.compile(loss='binary_crossentropy',\n",
    "             optimizer='adam',\n",
    "             metrics=\"accuracy\")"
   ]
  },
  {
   "cell_type": "markdown",
   "id": "c61fe49e-55a2-413c-b919-8ecb8770eb19",
   "metadata": {},
   "source": [
    "### 모델 학습"
   ]
  },
  {
   "cell_type": "code",
   "execution_count": 23,
   "id": "67665a05-7751-4fd0-a77d-9252f12eb689",
   "metadata": {
    "collapsed": true,
    "jupyter": {
     "outputs_hidden": true
    },
    "tags": []
   },
   "outputs": [
    {
     "name": "stdout",
     "output_type": "stream",
     "text": [
      "Epoch 1/100\n",
      "99/99 [==============================] - 1s 3ms/step - loss: 0.6643 - accuracy: 0.6334 - val_loss: 0.6451 - val_accuracy: 0.6585\n",
      "Epoch 2/100\n",
      "99/99 [==============================] - 0s 2ms/step - loss: 0.6282 - accuracy: 0.6640 - val_loss: 0.6266 - val_accuracy: 0.6504\n",
      "Epoch 3/100\n",
      "99/99 [==============================] - 0s 2ms/step - loss: 0.6051 - accuracy: 0.6823 - val_loss: 0.6172 - val_accuracy: 0.6667\n",
      "Epoch 4/100\n",
      "99/99 [==============================] - 0s 2ms/step - loss: 0.5902 - accuracy: 0.6802 - val_loss: 0.5931 - val_accuracy: 0.6585\n",
      "Epoch 5/100\n",
      "99/99 [==============================] - 0s 2ms/step - loss: 0.5884 - accuracy: 0.6578 - val_loss: 0.5851 - val_accuracy: 0.6748\n",
      "Epoch 6/100\n",
      "99/99 [==============================] - 0s 2ms/step - loss: 0.5808 - accuracy: 0.6945 - val_loss: 0.5666 - val_accuracy: 0.6585\n",
      "Epoch 7/100\n",
      "99/99 [==============================] - 0s 2ms/step - loss: 0.5564 - accuracy: 0.7128 - val_loss: 0.5469 - val_accuracy: 0.6748\n",
      "Epoch 8/100\n",
      "99/99 [==============================] - 0s 2ms/step - loss: 0.5378 - accuracy: 0.7312 - val_loss: 0.5327 - val_accuracy: 0.6829\n",
      "Epoch 9/100\n",
      "99/99 [==============================] - 0s 2ms/step - loss: 0.5436 - accuracy: 0.7189 - val_loss: 0.5299 - val_accuracy: 0.6992\n",
      "Epoch 10/100\n",
      "99/99 [==============================] - 0s 2ms/step - loss: 0.5301 - accuracy: 0.7291 - val_loss: 0.5167 - val_accuracy: 0.7154\n",
      "Epoch 11/100\n",
      "99/99 [==============================] - 0s 2ms/step - loss: 0.5414 - accuracy: 0.7230 - val_loss: 0.5065 - val_accuracy: 0.7236\n",
      "Epoch 12/100\n",
      "99/99 [==============================] - 0s 2ms/step - loss: 0.5076 - accuracy: 0.7617 - val_loss: 0.5066 - val_accuracy: 0.7236\n",
      "Epoch 13/100\n",
      "99/99 [==============================] - 0s 2ms/step - loss: 0.5157 - accuracy: 0.7352 - val_loss: 0.4921 - val_accuracy: 0.7236\n",
      "Epoch 14/100\n",
      "99/99 [==============================] - 0s 2ms/step - loss: 0.5150 - accuracy: 0.7576 - val_loss: 0.4926 - val_accuracy: 0.7073\n",
      "Epoch 15/100\n",
      "99/99 [==============================] - 0s 2ms/step - loss: 0.4934 - accuracy: 0.7536 - val_loss: 0.4985 - val_accuracy: 0.7561\n",
      "Epoch 16/100\n",
      "99/99 [==============================] - 0s 2ms/step - loss: 0.5065 - accuracy: 0.7576 - val_loss: 0.4894 - val_accuracy: 0.7236\n",
      "Epoch 17/100\n",
      "99/99 [==============================] - 0s 2ms/step - loss: 0.4984 - accuracy: 0.7495 - val_loss: 0.4888 - val_accuracy: 0.7398\n",
      "Epoch 18/100\n",
      "99/99 [==============================] - 0s 2ms/step - loss: 0.4890 - accuracy: 0.7597 - val_loss: 0.4679 - val_accuracy: 0.7724\n",
      "Epoch 19/100\n",
      "99/99 [==============================] - 0s 1ms/step - loss: 0.4942 - accuracy: 0.7637 - val_loss: 0.4851 - val_accuracy: 0.7236\n",
      "Epoch 20/100\n",
      "99/99 [==============================] - 0s 1ms/step - loss: 0.5023 - accuracy: 0.7617 - val_loss: 0.4703 - val_accuracy: 0.7724\n",
      "Epoch 21/100\n",
      "99/99 [==============================] - 0s 1ms/step - loss: 0.4752 - accuracy: 0.7597 - val_loss: 0.4847 - val_accuracy: 0.7154\n",
      "Epoch 22/100\n",
      "99/99 [==============================] - 0s 1ms/step - loss: 0.4797 - accuracy: 0.7658 - val_loss: 0.4728 - val_accuracy: 0.7642\n",
      "Epoch 23/100\n",
      "99/99 [==============================] - 0s 1ms/step - loss: 0.4504 - accuracy: 0.7780 - val_loss: 0.4745 - val_accuracy: 0.7317\n",
      "Epoch 24/100\n",
      "99/99 [==============================] - 0s 1ms/step - loss: 0.4917 - accuracy: 0.7739 - val_loss: 0.4657 - val_accuracy: 0.7642\n",
      "Epoch 25/100\n",
      "99/99 [==============================] - 0s 2ms/step - loss: 0.4807 - accuracy: 0.7576 - val_loss: 0.4640 - val_accuracy: 0.7642\n",
      "Epoch 26/100\n",
      "99/99 [==============================] - 0s 1ms/step - loss: 0.4606 - accuracy: 0.7902 - val_loss: 0.4676 - val_accuracy: 0.7317\n",
      "Epoch 27/100\n",
      "99/99 [==============================] - 0s 2ms/step - loss: 0.4771 - accuracy: 0.7434 - val_loss: 0.4739 - val_accuracy: 0.7561\n",
      "Epoch 28/100\n",
      "99/99 [==============================] - 0s 2ms/step - loss: 0.4653 - accuracy: 0.7841 - val_loss: 0.4636 - val_accuracy: 0.7398\n",
      "Epoch 29/100\n",
      "99/99 [==============================] - 0s 2ms/step - loss: 0.4735 - accuracy: 0.7475 - val_loss: 0.4624 - val_accuracy: 0.7480\n",
      "Epoch 30/100\n",
      "99/99 [==============================] - 0s 2ms/step - loss: 0.4740 - accuracy: 0.7515 - val_loss: 0.4504 - val_accuracy: 0.7805\n",
      "Epoch 31/100\n",
      "99/99 [==============================] - 0s 2ms/step - loss: 0.4808 - accuracy: 0.7454 - val_loss: 0.4588 - val_accuracy: 0.7642\n",
      "Epoch 32/100\n",
      "99/99 [==============================] - 0s 2ms/step - loss: 0.4750 - accuracy: 0.7760 - val_loss: 0.4632 - val_accuracy: 0.7317\n",
      "Epoch 33/100\n",
      "99/99 [==============================] - 0s 3ms/step - loss: 0.4799 - accuracy: 0.7637 - val_loss: 0.4814 - val_accuracy: 0.7480\n",
      "Epoch 34/100\n",
      "99/99 [==============================] - 0s 2ms/step - loss: 0.4635 - accuracy: 0.7760 - val_loss: 0.4623 - val_accuracy: 0.7642\n",
      "Epoch 35/100\n",
      "99/99 [==============================] - 0s 2ms/step - loss: 0.4513 - accuracy: 0.7760 - val_loss: 0.4575 - val_accuracy: 0.7480\n",
      "Epoch 36/100\n",
      "99/99 [==============================] - 0s 2ms/step - loss: 0.4592 - accuracy: 0.7699 - val_loss: 0.4540 - val_accuracy: 0.7561\n",
      "Epoch 37/100\n",
      "99/99 [==============================] - 0s 2ms/step - loss: 0.4720 - accuracy: 0.7576 - val_loss: 0.4615 - val_accuracy: 0.7561\n",
      "Epoch 38/100\n",
      "99/99 [==============================] - 0s 2ms/step - loss: 0.4563 - accuracy: 0.7678 - val_loss: 0.4635 - val_accuracy: 0.7642\n",
      "Epoch 39/100\n",
      "99/99 [==============================] - 0s 2ms/step - loss: 0.4551 - accuracy: 0.7739 - val_loss: 0.4629 - val_accuracy: 0.7480\n",
      "Epoch 40/100\n",
      "99/99 [==============================] - 0s 2ms/step - loss: 0.4585 - accuracy: 0.8045 - val_loss: 0.4677 - val_accuracy: 0.7561\n",
      "Epoch 41/100\n",
      "99/99 [==============================] - 0s 2ms/step - loss: 0.4437 - accuracy: 0.7882 - val_loss: 0.4679 - val_accuracy: 0.7480\n",
      "Epoch 42/100\n",
      "99/99 [==============================] - 0s 2ms/step - loss: 0.4462 - accuracy: 0.7821 - val_loss: 0.4816 - val_accuracy: 0.7724\n",
      "Epoch 43/100\n",
      "99/99 [==============================] - 0s 3ms/step - loss: 0.4597 - accuracy: 0.7760 - val_loss: 0.4730 - val_accuracy: 0.7724\n",
      "Epoch 44/100\n",
      "99/99 [==============================] - 0s 2ms/step - loss: 0.4499 - accuracy: 0.7699 - val_loss: 0.4752 - val_accuracy: 0.7398\n",
      "Epoch 45/100\n",
      "99/99 [==============================] - 0s 2ms/step - loss: 0.4615 - accuracy: 0.7597 - val_loss: 0.5094 - val_accuracy: 0.7480\n",
      "Epoch 46/100\n",
      "99/99 [==============================] - 0s 2ms/step - loss: 0.4692 - accuracy: 0.7658 - val_loss: 0.4667 - val_accuracy: 0.7561\n",
      "Epoch 47/100\n",
      "99/99 [==============================] - 0s 2ms/step - loss: 0.4384 - accuracy: 0.7862 - val_loss: 0.4846 - val_accuracy: 0.7561\n",
      "Epoch 48/100\n",
      "99/99 [==============================] - 0s 2ms/step - loss: 0.4488 - accuracy: 0.7841 - val_loss: 0.4730 - val_accuracy: 0.7561\n",
      "Epoch 49/100\n",
      "99/99 [==============================] - 0s 2ms/step - loss: 0.4333 - accuracy: 0.8126 - val_loss: 0.4762 - val_accuracy: 0.7480\n",
      "Epoch 50/100\n",
      "99/99 [==============================] - 0s 2ms/step - loss: 0.4563 - accuracy: 0.7739 - val_loss: 0.4713 - val_accuracy: 0.7398\n",
      "Epoch 51/100\n",
      "99/99 [==============================] - 0s 2ms/step - loss: 0.4484 - accuracy: 0.7862 - val_loss: 0.4656 - val_accuracy: 0.7561\n",
      "Epoch 52/100\n",
      "99/99 [==============================] - 0s 2ms/step - loss: 0.4510 - accuracy: 0.7923 - val_loss: 0.4738 - val_accuracy: 0.7724\n",
      "Epoch 53/100\n",
      "99/99 [==============================] - 0s 2ms/step - loss: 0.4431 - accuracy: 0.7841 - val_loss: 0.4774 - val_accuracy: 0.7642\n",
      "Epoch 54/100\n",
      "99/99 [==============================] - 0s 2ms/step - loss: 0.4687 - accuracy: 0.7719 - val_loss: 0.4745 - val_accuracy: 0.7642\n",
      "Epoch 55/100\n",
      "99/99 [==============================] - 0s 2ms/step - loss: 0.4341 - accuracy: 0.7780 - val_loss: 0.4686 - val_accuracy: 0.7805\n",
      "Epoch 56/100\n",
      "99/99 [==============================] - 0s 2ms/step - loss: 0.4453 - accuracy: 0.7780 - val_loss: 0.4755 - val_accuracy: 0.7724\n",
      "Epoch 57/100\n",
      "99/99 [==============================] - 0s 2ms/step - loss: 0.4397 - accuracy: 0.7902 - val_loss: 0.5077 - val_accuracy: 0.7480\n",
      "Epoch 58/100\n",
      "99/99 [==============================] - 0s 1ms/step - loss: 0.4412 - accuracy: 0.7678 - val_loss: 0.4692 - val_accuracy: 0.7398\n",
      "Epoch 59/100\n",
      "99/99 [==============================] - 0s 2ms/step - loss: 0.4570 - accuracy: 0.7821 - val_loss: 0.4759 - val_accuracy: 0.7561\n",
      "Epoch 60/100\n",
      "99/99 [==============================] - 0s 2ms/step - loss: 0.4383 - accuracy: 0.8126 - val_loss: 0.4783 - val_accuracy: 0.7398\n",
      "Epoch 61/100\n",
      "99/99 [==============================] - 0s 1ms/step - loss: 0.4280 - accuracy: 0.8004 - val_loss: 0.4962 - val_accuracy: 0.7398\n",
      "Epoch 62/100\n",
      "99/99 [==============================] - 0s 2ms/step - loss: 0.4636 - accuracy: 0.7719 - val_loss: 0.4835 - val_accuracy: 0.7480\n",
      "Epoch 63/100\n",
      "99/99 [==============================] - 0s 2ms/step - loss: 0.4462 - accuracy: 0.7923 - val_loss: 0.4850 - val_accuracy: 0.7561\n",
      "Epoch 64/100\n",
      "99/99 [==============================] - 0s 2ms/step - loss: 0.4332 - accuracy: 0.7821 - val_loss: 0.4866 - val_accuracy: 0.7561\n",
      "Epoch 65/100\n",
      "99/99 [==============================] - 0s 2ms/step - loss: 0.4405 - accuracy: 0.7821 - val_loss: 0.4832 - val_accuracy: 0.7480\n",
      "Epoch 66/100\n",
      "99/99 [==============================] - 0s 2ms/step - loss: 0.4243 - accuracy: 0.7984 - val_loss: 0.4827 - val_accuracy: 0.7561\n",
      "Epoch 67/100\n",
      "99/99 [==============================] - 0s 2ms/step - loss: 0.4417 - accuracy: 0.7780 - val_loss: 0.4903 - val_accuracy: 0.7642\n",
      "Epoch 68/100\n",
      "99/99 [==============================] - 0s 1ms/step - loss: 0.4390 - accuracy: 0.7739 - val_loss: 0.4974 - val_accuracy: 0.7398\n",
      "Epoch 69/100\n",
      "99/99 [==============================] - 0s 2ms/step - loss: 0.4190 - accuracy: 0.7902 - val_loss: 0.4987 - val_accuracy: 0.7398\n",
      "Epoch 70/100\n",
      "99/99 [==============================] - 0s 2ms/step - loss: 0.4326 - accuracy: 0.7902 - val_loss: 0.4946 - val_accuracy: 0.7398\n",
      "Epoch 71/100\n",
      "99/99 [==============================] - 0s 1ms/step - loss: 0.4386 - accuracy: 0.7760 - val_loss: 0.4907 - val_accuracy: 0.7480\n",
      "Epoch 72/100\n",
      "99/99 [==============================] - 0s 2ms/step - loss: 0.4244 - accuracy: 0.8147 - val_loss: 0.4904 - val_accuracy: 0.7236\n",
      "Epoch 73/100\n",
      "99/99 [==============================] - 0s 2ms/step - loss: 0.4234 - accuracy: 0.8106 - val_loss: 0.4852 - val_accuracy: 0.7642\n",
      "Epoch 74/100\n",
      "99/99 [==============================] - 0s 1ms/step - loss: 0.4384 - accuracy: 0.7943 - val_loss: 0.4900 - val_accuracy: 0.7561\n",
      "Epoch 75/100\n",
      "99/99 [==============================] - 0s 1ms/step - loss: 0.4487 - accuracy: 0.7923 - val_loss: 0.4998 - val_accuracy: 0.7805\n",
      "Epoch 76/100\n",
      "99/99 [==============================] - 0s 2ms/step - loss: 0.4288 - accuracy: 0.7841 - val_loss: 0.4921 - val_accuracy: 0.7724\n",
      "Epoch 77/100\n",
      "99/99 [==============================] - 0s 1ms/step - loss: 0.4400 - accuracy: 0.7902 - val_loss: 0.5018 - val_accuracy: 0.7724\n",
      "Epoch 78/100\n",
      "99/99 [==============================] - 0s 2ms/step - loss: 0.4270 - accuracy: 0.7963 - val_loss: 0.5288 - val_accuracy: 0.7480\n",
      "Epoch 79/100\n",
      "99/99 [==============================] - 0s 2ms/step - loss: 0.4315 - accuracy: 0.7800 - val_loss: 0.5044 - val_accuracy: 0.7398\n",
      "Epoch 80/100\n",
      "99/99 [==============================] - 0s 1ms/step - loss: 0.4341 - accuracy: 0.7699 - val_loss: 0.5035 - val_accuracy: 0.7236\n",
      "Epoch 81/100\n",
      "99/99 [==============================] - 0s 1ms/step - loss: 0.4128 - accuracy: 0.8045 - val_loss: 0.5066 - val_accuracy: 0.7317\n",
      "Epoch 82/100\n",
      "99/99 [==============================] - 0s 1ms/step - loss: 0.4165 - accuracy: 0.7984 - val_loss: 0.5001 - val_accuracy: 0.7317\n",
      "Epoch 83/100\n",
      "99/99 [==============================] - 0s 2ms/step - loss: 0.4314 - accuracy: 0.7984 - val_loss: 0.5056 - val_accuracy: 0.7480\n",
      "Epoch 84/100\n",
      "99/99 [==============================] - 0s 2ms/step - loss: 0.4244 - accuracy: 0.7984 - val_loss: 0.4991 - val_accuracy: 0.7398\n",
      "Epoch 85/100\n",
      "99/99 [==============================] - 0s 2ms/step - loss: 0.4137 - accuracy: 0.8045 - val_loss: 0.5113 - val_accuracy: 0.7642\n",
      "Epoch 86/100\n",
      "99/99 [==============================] - 0s 2ms/step - loss: 0.4168 - accuracy: 0.7984 - val_loss: 0.5330 - val_accuracy: 0.7642\n",
      "Epoch 87/100\n",
      "99/99 [==============================] - 0s 2ms/step - loss: 0.4232 - accuracy: 0.8024 - val_loss: 0.5186 - val_accuracy: 0.7398\n",
      "Epoch 88/100\n",
      "99/99 [==============================] - 0s 2ms/step - loss: 0.4131 - accuracy: 0.8126 - val_loss: 0.5302 - val_accuracy: 0.7480\n",
      "Epoch 89/100\n",
      "99/99 [==============================] - 0s 2ms/step - loss: 0.4201 - accuracy: 0.8024 - val_loss: 0.5154 - val_accuracy: 0.7398\n",
      "Epoch 90/100\n",
      "99/99 [==============================] - 0s 2ms/step - loss: 0.4281 - accuracy: 0.8004 - val_loss: 0.5126 - val_accuracy: 0.7317\n",
      "Epoch 91/100\n",
      "99/99 [==============================] - 0s 2ms/step - loss: 0.4331 - accuracy: 0.7943 - val_loss: 0.5291 - val_accuracy: 0.7236\n",
      "Epoch 92/100\n",
      "99/99 [==============================] - 0s 2ms/step - loss: 0.4113 - accuracy: 0.7943 - val_loss: 0.5397 - val_accuracy: 0.7317\n",
      "Epoch 93/100\n",
      "99/99 [==============================] - 0s 2ms/step - loss: 0.4115 - accuracy: 0.8004 - val_loss: 0.5263 - val_accuracy: 0.7317\n",
      "Epoch 94/100\n",
      "99/99 [==============================] - 0s 2ms/step - loss: 0.4145 - accuracy: 0.8147 - val_loss: 0.5434 - val_accuracy: 0.7398\n",
      "Epoch 95/100\n",
      "99/99 [==============================] - 0s 1ms/step - loss: 0.4262 - accuracy: 0.7841 - val_loss: 0.5346 - val_accuracy: 0.7236\n",
      "Epoch 96/100\n",
      "99/99 [==============================] - 0s 2ms/step - loss: 0.4226 - accuracy: 0.7963 - val_loss: 0.5461 - val_accuracy: 0.7236\n",
      "Epoch 97/100\n",
      "99/99 [==============================] - 0s 2ms/step - loss: 0.4043 - accuracy: 0.8086 - val_loss: 0.5553 - val_accuracy: 0.7480\n",
      "Epoch 98/100\n",
      "99/99 [==============================] - 0s 2ms/step - loss: 0.4052 - accuracy: 0.8065 - val_loss: 0.5579 - val_accuracy: 0.7154\n",
      "Epoch 99/100\n",
      "99/99 [==============================] - 0s 2ms/step - loss: 0.3966 - accuracy: 0.8065 - val_loss: 0.5473 - val_accuracy: 0.7561\n",
      "Epoch 100/100\n",
      "99/99 [==============================] - 0s 2ms/step - loss: 0.4045 - accuracy: 0.8228 - val_loss: 0.5597 - val_accuracy: 0.7154\n"
     ]
    }
   ],
   "source": [
    "result=model.fit(X_train,y_train,\n",
    "                epochs=100,\n",
    "                batch_size=5,\n",
    "                validation_data=(X_val,y_val))"
   ]
  },
  {
   "cell_type": "markdown",
   "id": "be79b7bf-baac-4975-9f5a-51a902c441c1",
   "metadata": {},
   "source": [
    "### 시각화"
   ]
  },
  {
   "cell_type": "code",
   "execution_count": 26,
   "id": "d2a911f2-43ed-4ba2-b458-b1239f2cecbf",
   "metadata": {},
   "outputs": [
    {
     "data": {
      "image/png": "[encoded data removed]",
      "text/plain": [
       "<Figure size 432x288 with 1 Axes>"
      ]
     },
     "metadata": {
      "needs_background": "light"
     },
     "output_type": "display_data"
    }
   ],
   "source": [
    "# loss 비교\n",
    "plt.plot(result.epoch, result.history['loss'],label='Train loss')\n",
    "plt.plot(result.epoch, result.history['val_loss'],label='validation loss')\n",
    "plt.xlabel('epochs')\n",
    "plt.ylabel('loss')\n",
    "plt.legend()\n",
    "plt.show()"
   ]
  },
  {
   "cell_type": "code",
   "execution_count": 25,
   "id": "225c31c1-739f-4cc5-a5b6-39962556cfca",
   "metadata": {},
   "outputs": [
    {
     "data": {
      "image/png": "[encoded data removed]",
      "text/plain": [
       "<Figure size 432x288 with 1 Axes>"
      ]
     },
     "metadata": {
      "needs_background": "light"
     },
     "output_type": "display_data"
    }
   ],
   "source": [
    "plt.plot(result.epoch, result.history['accuracy'],label='Train accuracy')\n",
    "plt.plot(result.epoch, result.history['val_accuracy'],label='validation accuracy')\n",
    "plt.xlabel('epochs')\n",
    "plt.ylabel('accuracy')\n",
    "plt.legend()\n",
    "plt.show()"
   ]
  },
  {
   "cell_type": "code",
   "execution_count": null,
   "id": "d370c033-ea57-4037-ac5b-94bca546363e",
   "metadata": {},
   "outputs": [],
   "source": []
  },
  {
   "cell_type": "code",
   "execution_count": null,
   "id": "94cd2623-d535-49e8-be05-c034b889d40d",
   "metadata": {},
   "outputs": [],
   "source": []
  }
 ],
 "metadata": {
  "kernelspec": {
   "display_name": "Python 3 (ipykernel)",
   "language": "python",
   "name": "python3"
  },
  "language_info": {
   "codemirror_mode": {
    "name": "ipython",
    "version": 3
   },
   "file_extension": ".py",
   "mimetype": "text/x-python",
   "name": "python",
   "nbconvert_exporter": "python",
   "pygments_lexer": "ipython3",
   "version": "3.9.12"
  }
 },
 "nbformat": 4,
 "nbformat_minor": 5
}
