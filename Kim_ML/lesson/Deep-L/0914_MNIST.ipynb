{
 "cells": [
  {
   "cell_type": "markdown",
   "id": "e12cf4f9-a825-48b0-9e2c-ecae4c1ab38e",
   "metadata": {},
   "source": [
    "- 데이터: MNIST 데이터 사용\n",
    "- 학습모델 : 신경망 모델\n",
    "- 동작: 0~9 사이 숫자 판별"
   ]
  },
  {
   "cell_type": "code",
   "execution_count": 1,
   "id": "0210828e-6672-4c99-bec3-4068faddcb3d",
   "metadata": {},
   "outputs": [],
   "source": [
    "# 모듈로딩\n",
    "import tensorflow as tf\n",
    "from tensorflow.keras import Sequential # 모델 객체\n",
    "from tensorflow.keras.layers import Dense, Dropout # 모델 레이어(층)\n",
    "from tensorflow.keras.datasets.mnist import load_data # 데이터셋\n",
    "from sklearn.model_selection import train_test_split"
   ]
  },
  {
   "cell_type": "code",
   "execution_count": 2,
   "id": "59094565-b975-4ec4-bf3f-295427837a43",
   "metadata": {},
   "outputs": [],
   "source": [
    "# 데이터 불러오기\n",
    "(x_train, y_train), (x_test, y_test)=load_data()"
   ]
  },
  {
   "cell_type": "code",
   "execution_count": 3,
   "id": "d68663ea-c25a-4e6e-9b60-29b22aa2f41c",
   "metadata": {},
   "outputs": [
    {
     "name": "stdout",
     "output_type": "stream",
     "text": [
      "x_train => (60000, 28, 28), x_test => (10000, 28, 28)\n",
      "y_train.shape: (60000,), y_test.shape:(10000,)\n"
     ]
    }
   ],
   "source": [
    "# 데이터 모양 확인\n",
    "print(f\"x_train => {x_train.shape}, x_test => {x_test.shape}\")\n",
    "print(f'y_train.shape: {y_train.shape}, y_test.shape:{y_test.shape}')"
   ]
  },
  {
   "cell_type": "code",
   "execution_count": 4,
   "id": "37e6ca0f-1071-4bfb-a448-9d9ca97ca46e",
   "metadata": {},
   "outputs": [],
   "source": [
    "# 검증용 데이터셋 준비\n",
    "x_train, x_val, y_train, y_val = train_test_split(x_train, y_train, stratify=y_train)"
   ]
  },
  {
   "cell_type": "code",
   "execution_count": 5,
   "id": "fd9dcd26-b20a-4c31-abe5-86ff32f240a2",
   "metadata": {},
   "outputs": [
    {
     "name": "stdout",
     "output_type": "stream",
     "text": [
      "x_train.shape: (45000, 28, 28), x_val.shape:(10000, 28, 28)\n",
      "y_train.shape: (45000,), y_val.shape:(10000,)\n"
     ]
    }
   ],
   "source": [
    "print(f'x_train.shape: {x_train.shape}, x_val.shape:{x_test.shape}')\n",
    "print(f'y_train.shape: {y_train.shape}, y_val.shape:{y_test.shape}')"
   ]
  },
  {
   "cell_type": "markdown",
   "id": "fdaa60db-5981-429b-88d2-e83c54c4669e",
   "metadata": {},
   "source": [
    "## [2] 데이터 전처리\n",
    "- 수치형 데이터 => 스케일링\n",
    "- 범주형 데이터 => 원 핫 인코딩"
   ]
  },
  {
   "cell_type": "code",
   "execution_count": 6,
   "id": "c06287c5-c294-4c5f-9174-4535736e267b",
   "metadata": {
    "collapsed": true,
    "jupyter": {
     "outputs_hidden": true
    },
    "tags": []
   },
   "outputs": [
    {
     "data": {
      "text/plain": [
       "(array([[  0,   0,   0,   0,   0,   0,   0,   0,   0,   0,   0,   0,   0,\n",
       "           0,   0,   0,   0,   0,   0,   0,   0,   0,   0,   0,   0,   0,\n",
       "           0,   0],\n",
       "        [  0,   0,   0,   0,   0,   0,   0,   0,   0,   0,   0,   0,   0,\n",
       "           0,   0,   0,   0,   0,   0,   0,   0,   0,   0,   0,   0,   0,\n",
       "           0,   0],\n",
       "        [  0,   0,   0,   0,   0,   0,   0,   0,   0,   0,   0,   0,   0,\n",
       "           0,   0,   0,   0,   0,   0,   0,   0,   0,   0,   0,   0,   0,\n",
       "           0,   0],\n",
       "        [  0,   0,   0,   0,   0,   0,   0,   0,   0,   0,   0,   0,   0,\n",
       "           0,   0,   0,   0,   0,   0,   0,   0,   0,   0,   0,   0,   0,\n",
       "           0,   0],\n",
       "        [  0,   0,   0,   0,   0,   0,   0,   0,   0,   0,   0,   0,   0,\n",
       "           0,   0,   0,   0,   0,   0,   0,   0,   0,   0,   0,   0,   0,\n",
       "           0,   0],\n",
       "        [  0,   0,   0,   0,   0,   0,   0,   0,  90,  64,   0,   0,   0,\n",
       "           0,   0,   0,   0,   0,   3, 129, 253, 253,  99,   0,   0,   0,\n",
       "           0,   0],\n",
       "        [  0,   0,   0,   0,   0,   0,   0,   0, 242, 236,  38,   0,   0,\n",
       "           0,   0,   0,   0,   0, 100, 252, 252, 252,  99,   0,   0,   0,\n",
       "           0,   0],\n",
       "        [  0,   0,   0,   0,   0,   0,   0,   0, 242, 252,  55,   0,   0,\n",
       "           0,   0,   0,   0,   0, 224, 252, 252,  61,  17,   0,   0,   0,\n",
       "           0,   0],\n",
       "        [  0,   0,   0,   0,   0,   0,   0,   0, 242, 252,  55,   0,   0,\n",
       "           0,   0,   0,   0,  96, 252, 247, 106,   1,   0,   0,   0,   0,\n",
       "           0,   0],\n",
       "        [  0,   0,   0,   0,   0,   0,   0,  66, 249, 252,  55,   0,   0,\n",
       "           0,   0,   0,   0, 171, 252, 197,   0,   0,   0,   0,   0,   0,\n",
       "           0,   0],\n",
       "        [  0,   0,   0,   0,   0,   0,   0, 100, 252, 209,  12,   0,   0,\n",
       "           0,   0,   0,  24, 224, 252, 159,   0,   0,   0,   0,   0,   0,\n",
       "           0,   0],\n",
       "        [  0,   0,   0,   0,   0,   0,   0, 200, 252, 144,   0,   0,   0,\n",
       "           0,   0,   2, 123, 252, 237,  46,   0,   0,   0,   0,   0,   0,\n",
       "           0,   0],\n",
       "        [  0,   0,   0,   0,   0,   0,   0, 209, 252,  88,   0,   0,   0,\n",
       "           0,   0,  53, 252, 252, 121,   0,   0,   0,   0,   0,   0,   0,\n",
       "           0,   0],\n",
       "        [  0,   0,   0,   0,   0,   0,   0, 209, 252,  88,   0,   0,   0,\n",
       "           0,   0, 177, 252, 252,  39,   0,   0,  38,  64,   0,   0,   0,\n",
       "           0,   0],\n",
       "        [  0,   0,   0,   0,   0,   0,   0, 209, 252, 207,  24,   0,   0,\n",
       "           0, 144, 253, 252, 118,  11, 111, 197, 236, 160,   0,   0,   0,\n",
       "           0,   0],\n",
       "        [  0,   0,   0,   0,   0,   0,   0, 134, 252, 253, 215, 143, 143,\n",
       "         143, 239, 255, 253, 205, 253, 253, 242, 215,  43,   0,   0,   0,\n",
       "           0,   0],\n",
       "        [  0,   0,   0,   0,   0,   0,   0,   0, 213, 252, 252, 252, 252,\n",
       "         252, 252, 253, 252, 252, 252, 185,  50,   0,   0,   0,   0,   0,\n",
       "           0,   0],\n",
       "        [  0,   0,   0,   0,   0,   0,   0,   0,  23, 116, 188, 252, 252,\n",
       "         252, 252, 253, 183, 111,  44,  15,   0,   0,   0,   0,   0,   0,\n",
       "           0,   0],\n",
       "        [  0,   0,   0,   0,   0,   0,   0,   0,   0,   0,   4,  11, 119,\n",
       "         252, 252, 154,   3,   0,   0,   0,   0,   0,   0,   0,   0,   0,\n",
       "           0,   0],\n",
       "        [  0,   0,   0,   0,   0,   0,   0,   0,   0,   0,   0,  36, 252,\n",
       "         252, 180,   0,   0,   0,   0,   0,   0,   0,   0,   0,   0,   0,\n",
       "           0,   0],\n",
       "        [  0,   0,   0,   0,   0,   0,   0,   0,   0,   0,   0, 122, 252,\n",
       "         252, 104,   0,   0,   0,   0,   0,   0,   0,   0,   0,   0,   0,\n",
       "           0,   0],\n",
       "        [  0,   0,   0,   0,   0,   0,   0,   0,   0,   0,   0, 222, 252,\n",
       "         215,  17,   0,   0,   0,   0,   0,   0,   0,   0,   0,   0,   0,\n",
       "           0,   0],\n",
       "        [  0,   0,   0,   0,   0,   0,   0,   0,   0,   0,   0, 231, 252,\n",
       "         175,   0,   0,   0,   0,   0,   0,   0,   0,   0,   0,   0,   0,\n",
       "           0,   0],\n",
       "        [  0,   0,   0,   0,   0,   0,   0,   0,   0,   0,   0, 149, 252,\n",
       "         175,   0,   0,   0,   0,   0,   0,   0,   0,   0,   0,   0,   0,\n",
       "           0,   0],\n",
       "        [  0,   0,   0,   0,   0,   0,   0,   0,   0,   0,   0,  26, 252,\n",
       "         128,   0,   0,   0,   0,   0,   0,   0,   0,   0,   0,   0,   0,\n",
       "           0,   0],\n",
       "        [  0,   0,   0,   0,   0,   0,   0,   0,   0,   0,   0,   0,   0,\n",
       "           0,   0,   0,   0,   0,   0,   0,   0,   0,   0,   0,   0,   0,\n",
       "           0,   0],\n",
       "        [  0,   0,   0,   0,   0,   0,   0,   0,   0,   0,   0,   0,   0,\n",
       "           0,   0,   0,   0,   0,   0,   0,   0,   0,   0,   0,   0,   0,\n",
       "           0,   0],\n",
       "        [  0,   0,   0,   0,   0,   0,   0,   0,   0,   0,   0,   0,   0,\n",
       "           0,   0,   0,   0,   0,   0,   0,   0,   0,   0,   0,   0,   0,\n",
       "           0,   0]], dtype=uint8),\n",
       " 4)"
      ]
     },
     "execution_count": 6,
     "metadata": {},
     "output_type": "execute_result"
    }
   ],
   "source": [
    "# 저장된 값 확인\n",
    "x_train[0],y_train[0]"
   ]
  },
  {
   "cell_type": "code",
   "execution_count": 7,
   "id": "6af31cfc-0139-4018-8876-b8e73848c829",
   "metadata": {
    "tags": []
   },
   "outputs": [],
   "source": [
    "# 이미지 데이터의 픽셀값 즉 특성(Feature) 0.0 ~ 1.0으로 스케일링\n",
    "x_train = x_train/255.0\n",
    "x_val = x_val/255.0\n",
    "x_test = x_test/255.0"
   ]
  },
  {
   "cell_type": "code",
   "execution_count": 8,
   "id": "5c90a9b9-46d4-4014-b318-96cdf3489e08",
   "metadata": {},
   "outputs": [],
   "source": [
    "# 타켓 라벨 => OHE으로 변환\n",
    "from sklearn.preprocessing import OneHotEncoder,LabelEncoder\n",
    "\n",
    "encoder=OneHotEncoder()\n",
    "encoder.fit(y_train.reshape(-1, 1))\n",
    "y_train=encoder.transform(y_train.reshape(-1, 1))\n",
    "y_val=encoder.transform(y_val.reshape(-1, 1))\n",
    "y_test=encoder.transform(y_test.reshape(-1, 1))"
   ]
  },
  {
   "cell_type": "code",
   "execution_count": 10,
   "id": "1386d90c-647a-477b-92ba-117c74dc1bb5",
   "metadata": {},
   "outputs": [
    {
     "data": {
      "text/plain": [
       "(scipy.sparse.csr.csr_matrix,\n",
       " scipy.sparse.csr.csr_matrix,\n",
       " scipy.sparse.csr.csr_matrix)"
      ]
     },
     "execution_count": 10,
     "metadata": {},
     "output_type": "execute_result"
    }
   ],
   "source": [
    "# 원핫인코딩 후 타입확인\n",
    "type(y_train), type(y_val), type(y_test)"
   ]
  },
  {
   "cell_type": "code",
   "execution_count": 11,
   "id": "ba06c614-2e83-4d0d-a145-9de5619038af",
   "metadata": {},
   "outputs": [],
   "source": [
    "# 타겟 타입 변경\n",
    "y_train=y_train.toarray()\n",
    "y_val=y_val.toarray()\n",
    "y_test=y_test.toarray()"
   ]
  },
  {
   "cell_type": "code",
   "execution_count": 12,
   "id": "3ea7dd54-1f8b-420f-a6c5-5280de82031c",
   "metadata": {},
   "outputs": [
    {
     "data": {
      "text/plain": [
       "(numpy.ndarray, numpy.ndarray, numpy.ndarray)"
      ]
     },
     "execution_count": 12,
     "metadata": {},
     "output_type": "execute_result"
    }
   ],
   "source": [
    "# 타입변경 후\n",
    "type(y_train), type(y_val), type(y_test)"
   ]
  },
  {
   "cell_type": "markdown",
   "id": "0defb881-019a-4946-b377-6682e3ef9fa5",
   "metadata": {},
   "source": [
    "### [3] 모델\n",
    "- (1) 모델구성\n",
    "- (2) 모델 생성"
   ]
  },
  {
   "cell_type": "markdown",
   "id": "ad549495-98a2-40dd-bc06-1568c0d1e5b2",
   "metadata": {},
   "source": [
    "#### [3-1] 모델 구성\n",
    "- 입력 데이터 : 784 => 28*28 이미지 데이터\n",
    "- 출력 데이터 : 10 => 0~9 숫자 라벨\n",
    "- 학습 방법 : 분류-다중분류"
   ]
  },
  {
   "cell_type": "code",
   "execution_count": null,
   "id": "d73f7a80-0218-4946-a5c6-130b6241aa60",
   "metadata": {},
   "outputs": [],
   "source": []
  }
 ],
 "metadata": {
  "kernelspec": {
   "display_name": "Python 3 (ipykernel)",
   "language": "python",
   "name": "python3"
  },
  "language_info": {
   "codemirror_mode": {
    "name": "ipython",
    "version": 3
   },
   "file_extension": ".py",
   "mimetype": "text/x-python",
   "name": "python",
   "nbconvert_exporter": "python",
   "pygments_lexer": "ipython3",
   "version": "3.9.12"
  }
 },
 "nbformat": 4,
 "nbformat_minor": 5
}
