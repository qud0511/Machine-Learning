{
 "cells": [
  {
   "cell_type": "markdown",
   "id": "e48f77e3-528b-49f8-b96a-b7ec0506a5b3",
   "metadata": {},
   "source": [
    "## CiFAR 이미지 분류 모델 구현\n",
    "- 데이터 : CiFAR10 https://www.cs.toronto.edu/~kriz/cifar.html\n",
    "- 학습 방법 : 10가지 이미지 종류 분류 => 다중분류\n",
    "- 이미지 : DNN(MLP), CNN"
   ]
  },
  {
   "cell_type": "code",
   "execution_count": null,
   "id": "328e3191-05d5-490d-8256-77bf13ab2007",
   "metadata": {},
   "outputs": [],
   "source": []
  }
 ],
 "metadata": {
  "kernelspec": {
   "display_name": "Python 3 (ipykernel)",
   "language": "python",
   "name": "python3"
  },
  "language_info": {
   "codemirror_mode": {
    "name": "ipython",
    "version": 3
   },
   "file_extension": ".py",
   "mimetype": "text/x-python",
   "name": "python",
   "nbconvert_exporter": "python",
   "pygments_lexer": "ipython3",
   "version": "3.9.12"
  }
 },
 "nbformat": 4,
 "nbformat_minor": 5
}
