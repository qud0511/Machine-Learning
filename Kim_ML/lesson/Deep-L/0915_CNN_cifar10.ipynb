{
 "cells": [
  {
   "cell_type": "markdown",
   "id": "e48f77e3-528b-49f8-b96a-b7ec0506a5b3",
   "metadata": {},
   "source": [
    "## CiFAR 이미지 분류 모델 구현\n",
    "- 데이터 : CiFAR10 https://www.cs.toronto.edu/~kriz/cifar.html\n",
    "- 학습 방법 : 10가지 이미지 종류 분류 => 다중분류\n",
    "- 이미지 : DNN(MLP), CNN"
   ]
  },
  {
   "cell_type": "code",
   "execution_count": 46,
   "id": "328e3191-05d5-490d-8256-77bf13ab2007",
   "metadata": {},
   "outputs": [],
   "source": [
    "from tensorflow.keras.utils import set_random_seed, plot_model\n",
    "from tensorflow.keras import Sequential\n",
    "from tensorflow.keras.layers import Dense, Conv2D, Flatten, MaxPool2D\n",
    "from tensorflow.keras.datasets.cifar10 import load_data\n",
    "import numpy as np\n",
    "import matplotlib.pyplot as plt"
   ]
  },
  {
   "cell_type": "code",
   "execution_count": 78,
   "id": "c43c71ad-2ef2-4373-a8ca-8e8a1ee7f120",
   "metadata": {},
   "outputs": [],
   "source": [
    "# W,b 고정하도록 seed 설정\n",
    "set_random_seed(11)"
   ]
  },
  {
   "cell_type": "markdown",
   "id": "6dcb570f-cea1-4086-968a-248096c0fd42",
   "metadata": {},
   "source": [
    "---\n",
    "### [1] 데이터 로딩 및 준비"
   ]
  },
  {
   "cell_type": "code",
   "execution_count": 79,
   "id": "52679fec-32ab-4c3a-8050-58bb1914f5f2",
   "metadata": {},
   "outputs": [],
   "source": [
    "(x_train, y_train), (x_test, y_test) = load_data()"
   ]
  },
  {
   "cell_type": "code",
   "execution_count": 80,
   "id": "c54877de-0b52-4d65-84f8-9f6097fd3473",
   "metadata": {},
   "outputs": [
    {
     "name": "stdout",
     "output_type": "stream",
     "text": [
      "x_train.shape : (50000, 32, 32, 3), y_train.shape : (50000, 1)\n",
      "x_test.shape : (10000, 32, 32, 3), y_train.shape : (10000, 1)\n"
     ]
    }
   ],
   "source": [
    "print(f'x_train.shape : {x_train.shape}, y_train.shape : {y_train.shape}')\n",
    "print(f'x_test.shape : {x_test.shape}, y_train.shape : {y_test.shape}')"
   ]
  },
  {
   "cell_type": "markdown",
   "id": "4acb2664-97e2-4927-be02-6fd7876529a5",
   "metadata": {},
   "source": [
    "---\n",
    "## [2] 데이터 전처리 및 학습형태로 변환"
   ]
  },
  {
   "cell_type": "code",
   "execution_count": 81,
   "id": "4c05ddc5-1a63-479f-bbdf-702bd5339ee5",
   "metadata": {},
   "outputs": [],
   "source": [
    "# 스케일링 => 픽셀 / 255.0\n",
    "x_train=x_train/255.0\n",
    "x_test=x_test/255.0"
   ]
  },
  {
   "cell_type": "code",
   "execution_count": 82,
   "id": "98f46467-b607-44de-a4c2-3cb356a80ff6",
   "metadata": {},
   "outputs": [],
   "source": [
    "# Conv 레이어는 이미지의 채널 정보까지 입력\n",
    "x_train=x_train.reshape(-1, 32, 32, 3)\n",
    "x_test=x_test.reshape(-1, 32, 32, 3)"
   ]
  },
  {
   "cell_type": "code",
   "execution_count": 83,
   "id": "860ddd66-e770-43ec-a240-00fe703fad91",
   "metadata": {},
   "outputs": [],
   "source": [
    "# 검증용 데이터 준비\n",
    "from sklearn.model_selection import train_test_split\n",
    "x_train, x_val, y_train, y_val = train_test_split(x_train, y_train, stratify=y_train, random_state=11, test_size=0.2)"
   ]
  },
  {
   "cell_type": "code",
   "execution_count": 84,
   "id": "b46d2b29-8db9-4838-8951-d6dd75958f02",
   "metadata": {},
   "outputs": [
    {
     "name": "stdout",
     "output_type": "stream",
     "text": [
      "x_train.shape : (40000, 32, 32, 3)\n",
      "x_val.shape : (10000, 32, 32, 3)\n",
      "y_train.shape : (40000, 1)\n",
      "y_val.shape : (10000, 1)\n"
     ]
    }
   ],
   "source": [
    "print(f'x_train.shape : {x_train.shape}')\n",
    "print(f'x_val.shape : {x_val.shape}')\n",
    "print(f'y_train.shape : {y_train.shape}')\n",
    "print(f'y_val.shape : {y_val.shape}')"
   ]
  },
  {
   "cell_type": "markdown",
   "id": "f3bb6bbe-bc84-4e8e-8145-f1acedf15e58",
   "metadata": {},
   "source": [
    "---\n",
    "## [3-1] 모델 구성"
   ]
  },
  {
   "cell_type": "code",
   "execution_count": 85,
   "id": "1569f5b2-0482-4b36-bf89-24968a64c9f2",
   "metadata": {},
   "outputs": [],
   "source": [
    "model=Sequential()"
   ]
  },
  {
   "cell_type": "code",
   "execution_count": 86,
   "id": "809c9839-f887-4d91-977b-9076358a0806",
   "metadata": {},
   "outputs": [],
   "source": [
    "# 이미지 특징 추출 Layer => 첫번째 입력값 설정\n",
    "model.add(Conv2D(2, kernel_size=3, padding='same', input_shape=(32,32,3)))"
   ]
  },
  {
   "cell_type": "code",
   "execution_count": 87,
   "id": "ca4b4744-05c5-4694-b05e-5b884b6568ed",
   "metadata": {},
   "outputs": [],
   "source": [
    "# 이미지 특징 다른 샘플링 Layer => MaxPool2D\n",
    "model.add(MaxPool2D())"
   ]
  },
  {
   "cell_type": "code",
   "execution_count": 88,
   "id": "d039b9b8-6b68-414a-b4bd-e2edaee67250",
   "metadata": {},
   "outputs": [],
   "source": [
    "# 1차원으로 데이터 형태 변환 Layer => Flatten\n",
    "model.add(Flatten())"
   ]
  },
  {
   "cell_type": "code",
   "execution_count": 89,
   "id": "0f92b8c5-0c47-4099-96aa-ed9f7cc9c61f",
   "metadata": {},
   "outputs": [],
   "source": [
    "# 출력층 => Node : 10개(0~9), activation : softmax\n",
    "model.add(Dense(10, activation='softmax'))"
   ]
  },
  {
   "cell_type": "code",
   "execution_count": 90,
   "id": "e63fd460-4cef-429b-b5f8-19f7e048f85e",
   "metadata": {},
   "outputs": [
    {
     "name": "stdout",
     "output_type": "stream",
     "text": [
      "Model: \"sequential_2\"\n",
      "_________________________________________________________________\n",
      " Layer (type)                Output Shape              Param #   \n",
      "=================================================================\n",
      " conv2d_2 (Conv2D)           (None, 32, 32, 2)         56        \n",
      "                                                                 \n",
      " max_pooling2d_2 (MaxPooling  (None, 16, 16, 2)        0         \n",
      " 2D)                                                             \n",
      "                                                                 \n",
      " flatten_2 (Flatten)         (None, 512)               0         \n",
      "                                                                 \n",
      " dense_2 (Dense)             (None, 10)                5130      \n",
      "                                                                 \n",
      "=================================================================\n",
      "Total params: 5,186\n",
      "Trainable params: 5,186\n",
      "Non-trainable params: 0\n",
      "_________________________________________________________________\n"
     ]
    }
   ],
   "source": [
    "model.summary()"
   ]
  },
  {
   "cell_type": "code",
   "execution_count": 91,
   "id": "331563ab-5198-4941-80e5-a6a80adf5e82",
   "metadata": {},
   "outputs": [
    {
     "name": "stdout",
     "output_type": "stream",
     "text": [
      "You must install pydot (`pip install pydot`) and install graphviz (see instructions at https://graphviz.gitlab.io/download/) for plot_model to work.\n"
     ]
    }
   ],
   "source": [
    "plot_model(model, show_shapes=True, show_dtype=True)"
   ]
  },
  {
   "cell_type": "markdown",
   "id": "0c954ff8-2afa-40f9-aa42-0a00d797f07b",
   "metadata": {
    "tags": []
   },
   "source": [
    "---\n",
    "## [3-2] 모델 생성\n",
    "- compile 메서드"
   ]
  },
  {
   "cell_type": "code",
   "execution_count": 106,
   "id": "3a622f8f-5991-45ca-aab9-4134cae8058d",
   "metadata": {},
   "outputs": [],
   "source": [
    "model.compile(loss='sparse_categorical_crossentropy',\n",
    "             optimizer='adam',\n",
    "             metrics='accuracy')"
   ]
  },
  {
   "cell_type": "markdown",
   "id": "548ae267-ace4-4578-8cd8-8d4e482e5d28",
   "metadata": {},
   "source": [
    "---\n",
    "## [3-3] 모델 학습\n",
    "- fit 메서드"
   ]
  },
  {
   "cell_type": "code",
   "execution_count": 108,
   "id": "43553726-b137-453e-991d-85d105980e31",
   "metadata": {},
   "outputs": [
    {
     "name": "stdout",
     "output_type": "stream",
     "text": [
      "Epoch 1/5\n",
      "8000/8000 [==============================] - 28s 3ms/step - loss: 1.5130 - accuracy: 0.4712 - val_loss: 1.6448 - val_accuracy: 0.4385\n",
      "Epoch 2/5\n",
      "8000/8000 [==============================] - 28s 3ms/step - loss: 1.5115 - accuracy: 0.4735 - val_loss: 1.7393 - val_accuracy: 0.4112\n",
      "Epoch 3/5\n",
      "8000/8000 [==============================] - 27s 3ms/step - loss: 1.5090 - accuracy: 0.4747 - val_loss: 1.6478 - val_accuracy: 0.4255\n",
      "Epoch 4/5\n",
      "8000/8000 [==============================] - 27s 3ms/step - loss: 1.5095 - accuracy: 0.4724 - val_loss: 1.5726 - val_accuracy: 0.4545\n",
      "Epoch 5/5\n",
      "8000/8000 [==============================] - 27s 3ms/step - loss: 1.5084 - accuracy: 0.4746 - val_loss: 1.5816 - val_accuracy: 0.4434\n"
     ]
    }
   ],
   "source": [
    "result = model.fit(x_train, y_train, epochs=5, batch_size=5, validation_data=(x_val,y_val))"
   ]
  },
  {
   "cell_type": "code",
   "execution_count": 109,
   "id": "b25d1054-3356-47bc-964e-0c28045b12ad",
   "metadata": {},
   "outputs": [
    {
     "data": {
      "image/png": "[encoded data removed]",
      "text/plain": [
       "<Figure size 432x288 with 1 Axes>"
      ]
     },
     "metadata": {
      "needs_background": "light"
     },
     "output_type": "display_data"
    }
   ],
   "source": [
    "plt.imshow(x_val[0].reshape(32, 32, 3), cmap='gray_r')\n",
    "plt.title(f'Label = {y_val[0]}')\n",
    "plt.show()"
   ]
  },
  {
   "cell_type": "code",
   "execution_count": 110,
   "id": "671f4003-0b1c-44d5-9895-1c80453bf5cd",
   "metadata": {},
   "outputs": [
    {
     "data": {
      "image/png": "[encoded data removed]",
      "text/plain": [
       "<Figure size 432x288 with 1 Axes>"
      ]
     },
     "metadata": {
      "needs_background": "light"
     },
     "output_type": "display_data"
    }
   ],
   "source": [
    "# loss 비교\n",
    "plt.plot(result.epoch, result.history['loss'],label='Train loss')\n",
    "plt.plot(result.epoch, result.history['val_loss'],label='validation loss')\n",
    "plt.xlabel('epochs')\n",
    "plt.ylabel('loss')\n",
    "plt.legend()\n",
    "plt.show()"
   ]
  },
  {
   "cell_type": "code",
   "execution_count": 111,
   "id": "ffc13270-6f3f-4202-8fae-98b553f0d74f",
   "metadata": {},
   "outputs": [
    {
     "data": {
      "image/png": "[encoded data removed]",
      "text/plain": [
       "<Figure size 432x288 with 1 Axes>"
      ]
     },
     "metadata": {
      "needs_background": "light"
     },
     "output_type": "display_data"
    }
   ],
   "source": [
    "# accuracy 비교\n",
    "plt.plot(result.epoch, result.history['accuracy'],label='Train accuracy')\n",
    "plt.plot(result.epoch, result.history['val_accuracy'],label='validation accuracy')\n",
    "plt.xlabel('epochs')\n",
    "plt.ylabel('accuracy')\n",
    "plt.legend()\n",
    "plt.show()"
   ]
  },
  {
   "cell_type": "markdown",
   "id": "29c1d7b1-5322-4c60-84bd-dec33584f77f",
   "metadata": {},
   "source": [
    "---\n",
    "## [4] 테스트 평가\n",
    "- evaluate 메서드\n",
    "- 테스트 데이터, 테스트 라벨"
   ]
  },
  {
   "cell_type": "code",
   "execution_count": 116,
   "id": "b5b17948-c327-4a88-af74-dbf9e6e3395a",
   "metadata": {},
   "outputs": [
    {
     "name": "stdout",
     "output_type": "stream",
     "text": [
      "1/1 [==============================] - 0s 24ms/step\n"
     ]
    }
   ],
   "source": [
    "predict_y = model.predict(x_test[0].reshape(-1, 32, 32, 3))"
   ]
  },
  {
   "cell_type": "code",
   "execution_count": 117,
   "id": "2db8846f-2025-46a1-a62a-096d0ac209e6",
   "metadata": {},
   "outputs": [
    {
     "data": {
      "text/plain": [
       "(array([[0.05, 0.03, 0.09, 0.1 , 0.01, 0.04, 0.13, 0.  , 0.55, 0.01]],\n",
       "       dtype=float32),\n",
       " (1, 10))"
      ]
     },
     "execution_count": 117,
     "metadata": {},
     "output_type": "execute_result"
    }
   ],
   "source": [
    "predict_y.round(2), predict_y.shape"
   ]
  },
  {
   "cell_type": "code",
   "execution_count": 118,
   "id": "5b8bf02f-741b-457c-af8c-c7c455683358",
   "metadata": {},
   "outputs": [
    {
     "data": {
      "text/plain": [
       "array([3], dtype=uint8)"
      ]
     },
     "execution_count": 118,
     "metadata": {},
     "output_type": "execute_result"
    }
   ],
   "source": [
    "y_test[0]"
   ]
  },
  {
   "cell_type": "code",
   "execution_count": 119,
   "id": "ea3b2eef-819d-4fd3-8595-c536d3d18677",
   "metadata": {},
   "outputs": [],
   "source": [
    "# pilimg를 사용하여 이미지를 불러온다\n",
    "import PIL.Image as pilimg\n",
    "import numpy as np"
   ]
  },
  {
   "cell_type": "code",
   "execution_count": 129,
   "id": "3603c432-dc05-46fa-88d1-182414cca30f",
   "metadata": {},
   "outputs": [
    {
     "data": {
      "text/plain": [
       "<matplotlib.image.AxesImage at 0x2fd8c446c70>"
      ]
     },
     "execution_count": 129,
     "metadata": {},
     "output_type": "execute_result"
    },
    {
     "data": {
      "image/png": "[encoded data removed]",
      "text/plain": [
       "<Figure size 432x288 with 1 Axes>"
      ]
     },
     "metadata": {
      "needs_background": "light"
     },
     "output_type": "display_data"
    }
   ],
   "source": [
    "# 불러온 이미지를 matplot으로 나타내기 위해 numpy array로 만든다\n",
    "# pilimg.open : 이미지를 불러온다.\n",
    "# image.show() : 이미지를 띄운다.\n",
    "# np.array(image) : 불러온 이미지를 Numpy Array로 만든다.\n",
    "airplane = pilimg.open('airplane_image.jpg')\n",
    "airplane.show()\n",
    "\n",
    "pix=np.array(airplane)\n",
    "\n",
    "plt.imshow(pix)"
   ]
  },
  {
   "cell_type": "code",
   "execution_count": 139,
   "id": "03d688b1-bdd8-4c85-8817-60e4cb53151d",
   "metadata": {},
   "outputs": [
    {
     "name": "stdout",
     "output_type": "stream",
     "text": [
      "1/1 [==============================] - 0s 57ms/step\n"
     ]
    },
    {
     "data": {
      "text/plain": [
       "array([[0., 1., 0., 0., 0., 0., 0., 0., 0., 0.]], dtype=float32)"
      ]
     },
     "execution_count": 139,
     "metadata": {},
     "output_type": "execute_result"
    }
   ],
   "source": [
    "predict_airplane = model.predict(pix.reshape(-1, 32, 32, 3))\n",
    "predict_airplane"
   ]
  },
  {
   "cell_type": "code",
   "execution_count": 142,
   "id": "028991f1-8f50-4626-b927-a7636b3a926e",
   "metadata": {},
   "outputs": [],
   "source": [
    "# airplane\n",
    "# automobile\n",
    "# bird\n",
    "# cat\n",
    "# deer\n",
    "# dog\n",
    "# frog\n",
    "# horse\n",
    "# ship\n",
    "# truck"
   ]
  },
  {
   "cell_type": "code",
   "execution_count": null,
   "id": "291d2e17-05c5-44ef-9da6-8523893f73d9",
   "metadata": {},
   "outputs": [],
   "source": []
  }
 ],
 "metadata": {
  "kernelspec": {
   "display_name": "Python 3 (ipykernel)",
   "language": "python",
   "name": "python3"
  },
  "language_info": {
   "codemirror_mode": {
    "name": "ipython",
    "version": 3
   },
   "file_extension": ".py",
   "mimetype": "text/x-python",
   "name": "python",
   "nbconvert_exporter": "python",
   "pygments_lexer": "ipython3",
   "version": "3.9.12"
  }
 },
 "nbformat": 4,
 "nbformat_minor": 5
}
