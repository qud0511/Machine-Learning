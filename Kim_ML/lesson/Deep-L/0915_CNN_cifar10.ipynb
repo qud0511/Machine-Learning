{
 "cells": [
  {
   "cell_type": "markdown",
   "id": "e48f77e3-528b-49f8-b96a-b7ec0506a5b3",
   "metadata": {},
   "source": [
    "## CiFAR 이미지 분류 모델 구현\n",
    "- 데이터 : CiFAR10 https://www.cs.toronto.edu/~kriz/cifar.html\n",
    "- 학습 방법 : 10가지 이미지 종류 분류 => 다중분류\n",
    "- 이미지 : DNN(MLP), CNN"
   ]
  },
  {
   "cell_type": "code",
   "execution_count": 143,
   "id": "328e3191-05d5-490d-8256-77bf13ab2007",
   "metadata": {},
   "outputs": [],
   "source": [
    "from tensorflow.keras.utils import set_random_seed, plot_model\n",
    "from tensorflow.keras import Sequential\n",
    "from tensorflow.keras.layers import Dense, Conv2D, Flatten, MaxPool2D\n",
    "from tensorflow.keras.datasets.cifar10 import load_data\n",
    "import numpy as np\n",
    "import matplotlib.pyplot as plt"
   ]
  },
  {
   "cell_type": "code",
   "execution_count": 144,
   "id": "c43c71ad-2ef2-4373-a8ca-8e8a1ee7f120",
   "metadata": {},
   "outputs": [],
   "source": [
    "# W,b 고정하도록 seed 설정\n",
    "set_random_seed(11)"
   ]
  },
  {
   "cell_type": "markdown",
   "id": "6dcb570f-cea1-4086-968a-248096c0fd42",
   "metadata": {},
   "source": [
    "---\n",
    "### [1] 데이터 로딩 및 준비"
   ]
  },
  {
   "cell_type": "code",
   "execution_count": 145,
   "id": "52679fec-32ab-4c3a-8050-58bb1914f5f2",
   "metadata": {},
   "outputs": [],
   "source": [
    "(x_train, y_train), (x_test, y_test) = load_data()"
   ]
  },
  {
   "cell_type": "code",
   "execution_count": 146,
   "id": "c54877de-0b52-4d65-84f8-9f6097fd3473",
   "metadata": {},
   "outputs": [
    {
     "name": "stdout",
     "output_type": "stream",
     "text": [
      "x_train.shape : (50000, 32, 32, 3), y_train.shape : (50000, 1)\n",
      "x_test.shape : (10000, 32, 32, 3), y_train.shape : (10000, 1)\n"
     ]
    }
   ],
   "source": [
    "print(f'x_train.shape : {x_train.shape}, y_train.shape : {y_train.shape}')\n",
    "print(f'x_test.shape : {x_test.shape}, y_train.shape : {y_test.shape}')"
   ]
  },
  {
   "cell_type": "markdown",
   "id": "4acb2664-97e2-4927-be02-6fd7876529a5",
   "metadata": {},
   "source": [
    "---\n",
    "## [2] 데이터 전처리 및 학습형태로 변환"
   ]
  },
  {
   "cell_type": "code",
   "execution_count": 147,
   "id": "4c05ddc5-1a63-479f-bbdf-702bd5339ee5",
   "metadata": {},
   "outputs": [],
   "source": [
    "# 스케일링 => 픽셀 / 255.0\n",
    "x_train=x_train/255.0\n",
    "x_test=x_test/255.0"
   ]
  },
  {
   "cell_type": "code",
   "execution_count": 148,
   "id": "98f46467-b607-44de-a4c2-3cb356a80ff6",
   "metadata": {},
   "outputs": [],
   "source": [
    "# Conv 레이어는 이미지의 채널 정보까지 입력\n",
    "x_train=x_train.reshape(-1, 32, 32, 3)\n",
    "x_test=x_test.reshape(-1, 32, 32, 3)"
   ]
  },
  {
   "cell_type": "code",
   "execution_count": 149,
   "id": "860ddd66-e770-43ec-a240-00fe703fad91",
   "metadata": {},
   "outputs": [],
   "source": [
    "# 검증용 데이터 준비\n",
    "from sklearn.model_selection import train_test_split\n",
    "x_train, x_val, y_train, y_val = train_test_split(x_train, y_train, stratify=y_train, random_state=11, test_size=0.2)"
   ]
  },
  {
   "cell_type": "code",
   "execution_count": 150,
   "id": "b46d2b29-8db9-4838-8951-d6dd75958f02",
   "metadata": {},
   "outputs": [
    {
     "name": "stdout",
     "output_type": "stream",
     "text": [
      "x_train.shape : (40000, 32, 32, 3)\n",
      "x_val.shape : (10000, 32, 32, 3)\n",
      "y_train.shape : (40000, 1)\n",
      "y_val.shape : (10000, 1)\n"
     ]
    }
   ],
   "source": [
    "print(f'x_train.shape : {x_train.shape}')\n",
    "print(f'x_val.shape : {x_val.shape}')\n",
    "print(f'y_train.shape : {y_train.shape}')\n",
    "print(f'y_val.shape : {y_val.shape}')"
   ]
  },
  {
   "cell_type": "markdown",
   "id": "f3bb6bbe-bc84-4e8e-8145-f1acedf15e58",
   "metadata": {},
   "source": [
    "---\n",
    "## [3-1] 모델 구성"
   ]
  },
  {
   "cell_type": "code",
   "execution_count": 151,
   "id": "1569f5b2-0482-4b36-bf89-24968a64c9f2",
   "metadata": {},
   "outputs": [],
   "source": [
    "model=Sequential()"
   ]
  },
  {
   "cell_type": "code",
   "execution_count": 152,
   "id": "809c9839-f887-4d91-977b-9076358a0806",
   "metadata": {},
   "outputs": [],
   "source": [
    "# 이미지 특징 추출 Layer => 첫번째 입력값 설정\n",
    "model.add(Conv2D(2, kernel_size=3, padding='same', input_shape=(32,32,3)))"
   ]
  },
  {
   "cell_type": "code",
   "execution_count": 153,
   "id": "ca4b4744-05c5-4694-b05e-5b884b6568ed",
   "metadata": {},
   "outputs": [],
   "source": [
    "# 이미지 특징 다른 샘플링 Layer => MaxPool2D\n",
    "model.add(MaxPool2D())"
   ]
  },
  {
   "cell_type": "code",
   "execution_count": 154,
   "id": "d039b9b8-6b68-414a-b4bd-e2edaee67250",
   "metadata": {},
   "outputs": [],
   "source": [
    "# 1차원으로 데이터 형태 변환 Layer => Flatten\n",
    "model.add(Flatten())"
   ]
  },
  {
   "cell_type": "code",
   "execution_count": 155,
   "id": "0f92b8c5-0c47-4099-96aa-ed9f7cc9c61f",
   "metadata": {},
   "outputs": [],
   "source": [
    "# 출력층 => Node : 10개(0~9), activation : softmax\n",
    "model.add(Dense(10, activation='softmax'))"
   ]
  },
  {
   "cell_type": "code",
   "execution_count": 156,
   "id": "e63fd460-4cef-429b-b5f8-19f7e048f85e",
   "metadata": {},
   "outputs": [
    {
     "name": "stdout",
     "output_type": "stream",
     "text": [
      "Model: \"sequential_3\"\n",
      "_________________________________________________________________\n",
      " Layer (type)                Output Shape              Param #   \n",
      "=================================================================\n",
      " conv2d_3 (Conv2D)           (None, 32, 32, 2)         56        \n",
      "                                                                 \n",
      " max_pooling2d_3 (MaxPooling  (None, 16, 16, 2)        0         \n",
      " 2D)                                                             \n",
      "                                                                 \n",
      " flatten_3 (Flatten)         (None, 512)               0         \n",
      "                                                                 \n",
      " dense_3 (Dense)             (None, 10)                5130      \n",
      "                                                                 \n",
      "=================================================================\n",
      "Total params: 5,186\n",
      "Trainable params: 5,186\n",
      "Non-trainable params: 0\n",
      "_________________________________________________________________\n"
     ]
    }
   ],
   "source": [
    "model.summary()"
   ]
  },
  {
   "cell_type": "code",
   "execution_count": 157,
   "id": "331563ab-5198-4941-80e5-a6a80adf5e82",
   "metadata": {},
   "outputs": [
    {
     "name": "stdout",
     "output_type": "stream",
     "text": [
      "You must install pydot (`pip install pydot`) and install graphviz (see instructions at https://graphviz.gitlab.io/download/) for plot_model to work.\n"
     ]
    }
   ],
   "source": [
    "plot_model(model, show_shapes=True, show_dtype=True)"
   ]
  },
  {
   "cell_type": "markdown",
   "id": "0c954ff8-2afa-40f9-aa42-0a00d797f07b",
   "metadata": {
    "tags": []
   },
   "source": [
    "---\n",
    "## [3-2] 모델 생성\n",
    "- compile 메서드"
   ]
  },
  {
   "cell_type": "code",
   "execution_count": 158,
   "id": "3a622f8f-5991-45ca-aab9-4134cae8058d",
   "metadata": {},
   "outputs": [],
   "source": [
    "model.compile(loss='sparse_categorical_crossentropy',\n",
    "             optimizer='adam',\n",
    "             metrics='accuracy')"
   ]
  },
  {
   "cell_type": "markdown",
   "id": "548ae267-ace4-4578-8cd8-8d4e482e5d28",
   "metadata": {},
   "source": [
    "---\n",
    "## [3-3] 모델 학습\n",
    "- fit 메서드"
   ]
  },
  {
   "cell_type": "code",
   "execution_count": 159,
   "id": "43553726-b137-453e-991d-85d105980e31",
   "metadata": {},
   "outputs": [
    {
     "name": "stdout",
     "output_type": "stream",
     "text": [
      "Epoch 1/40\n",
      "1250/1250 [==============================] - 11s 8ms/step - loss: 1.8938 - accuracy: 0.3283 - val_loss: 1.7890 - val_accuracy: 0.3814\n",
      "Epoch 2/40\n",
      "1250/1250 [==============================] - 9s 7ms/step - loss: 1.7642 - accuracy: 0.3876 - val_loss: 1.7442 - val_accuracy: 0.4018\n",
      "Epoch 3/40\n",
      "1250/1250 [==============================] - 8s 6ms/step - loss: 1.7309 - accuracy: 0.4002 - val_loss: 1.7285 - val_accuracy: 0.4044\n",
      "Epoch 4/40\n",
      "1250/1250 [==============================] - 8s 6ms/step - loss: 1.7048 - accuracy: 0.4087 - val_loss: 1.7105 - val_accuracy: 0.4098\n",
      "Epoch 5/40\n",
      "1250/1250 [==============================] - 8s 6ms/step - loss: 1.6816 - accuracy: 0.4189 - val_loss: 1.6944 - val_accuracy: 0.4170\n",
      "Epoch 6/40\n",
      "1250/1250 [==============================] - 8s 7ms/step - loss: 1.6636 - accuracy: 0.4261 - val_loss: 1.6772 - val_accuracy: 0.4208\n",
      "Epoch 7/40\n",
      "1250/1250 [==============================] - 8s 7ms/step - loss: 1.6463 - accuracy: 0.4308 - val_loss: 1.6645 - val_accuracy: 0.4272\n",
      "Epoch 8/40\n",
      "1250/1250 [==============================] - 8s 7ms/step - loss: 1.6323 - accuracy: 0.4349 - val_loss: 1.6621 - val_accuracy: 0.4312\n",
      "Epoch 9/40\n",
      "1250/1250 [==============================] - 8s 6ms/step - loss: 1.6217 - accuracy: 0.4392 - val_loss: 1.6789 - val_accuracy: 0.4290\n",
      "Epoch 10/40\n",
      "1250/1250 [==============================] - 9s 8ms/step - loss: 1.6137 - accuracy: 0.4426 - val_loss: 1.6449 - val_accuracy: 0.4341\n",
      "Epoch 11/40\n",
      "1250/1250 [==============================] - 9s 7ms/step - loss: 1.6052 - accuracy: 0.4442 - val_loss: 1.6454 - val_accuracy: 0.4308\n",
      "Epoch 12/40\n",
      "1250/1250 [==============================] - 11s 9ms/step - loss: 1.5990 - accuracy: 0.4489 - val_loss: 1.6397 - val_accuracy: 0.4340\n",
      "Epoch 13/40\n",
      "1250/1250 [==============================] - 10s 8ms/step - loss: 1.5912 - accuracy: 0.4505 - val_loss: 1.6354 - val_accuracy: 0.4376\n",
      "Epoch 14/40\n",
      "1250/1250 [==============================] - 9s 7ms/step - loss: 1.5866 - accuracy: 0.4516 - val_loss: 1.6375 - val_accuracy: 0.4344\n",
      "Epoch 15/40\n",
      "1250/1250 [==============================] - 9s 7ms/step - loss: 1.5825 - accuracy: 0.4532 - val_loss: 1.6387 - val_accuracy: 0.4381\n",
      "Epoch 16/40\n",
      "1250/1250 [==============================] - 9s 7ms/step - loss: 1.5790 - accuracy: 0.4554 - val_loss: 1.6333 - val_accuracy: 0.4346\n",
      "Epoch 17/40\n",
      "1250/1250 [==============================] - 9s 7ms/step - loss: 1.5760 - accuracy: 0.4563 - val_loss: 1.6359 - val_accuracy: 0.4323\n",
      "Epoch 18/40\n",
      "1250/1250 [==============================] - 9s 7ms/step - loss: 1.5700 - accuracy: 0.4581 - val_loss: 1.6374 - val_accuracy: 0.4348\n",
      "Epoch 19/40\n",
      "1250/1250 [==============================] - 9s 7ms/step - loss: 1.5668 - accuracy: 0.4598 - val_loss: 1.6322 - val_accuracy: 0.4367\n",
      "Epoch 20/40\n",
      "1250/1250 [==============================] - 9s 7ms/step - loss: 1.5631 - accuracy: 0.4593 - val_loss: 1.6342 - val_accuracy: 0.4342\n",
      "Epoch 21/40\n",
      "1250/1250 [==============================] - 9s 7ms/step - loss: 1.5617 - accuracy: 0.4622 - val_loss: 1.6260 - val_accuracy: 0.4409\n",
      "Epoch 22/40\n",
      "1250/1250 [==============================] - 9s 7ms/step - loss: 1.5585 - accuracy: 0.4635 - val_loss: 1.6235 - val_accuracy: 0.4436\n",
      "Epoch 23/40\n",
      "1250/1250 [==============================] - 9s 7ms/step - loss: 1.5558 - accuracy: 0.4620 - val_loss: 1.6255 - val_accuracy: 0.4408\n",
      "Epoch 24/40\n",
      "1250/1250 [==============================] - 10s 8ms/step - loss: 1.5533 - accuracy: 0.4639 - val_loss: 1.6345 - val_accuracy: 0.4405\n",
      "Epoch 25/40\n",
      "1250/1250 [==============================] - 10s 8ms/step - loss: 1.5508 - accuracy: 0.4650 - val_loss: 1.6252 - val_accuracy: 0.4418\n",
      "Epoch 26/40\n",
      "1250/1250 [==============================] - 9s 7ms/step - loss: 1.5493 - accuracy: 0.4662 - val_loss: 1.6312 - val_accuracy: 0.4401\n",
      "Epoch 27/40\n",
      "1250/1250 [==============================] - 9s 7ms/step - loss: 1.5480 - accuracy: 0.4649 - val_loss: 1.6205 - val_accuracy: 0.4426\n",
      "Epoch 28/40\n",
      "1250/1250 [==============================] - 9s 7ms/step - loss: 1.5437 - accuracy: 0.4662 - val_loss: 1.6242 - val_accuracy: 0.4391\n",
      "Epoch 29/40\n",
      "1250/1250 [==============================] - 9s 7ms/step - loss: 1.5429 - accuracy: 0.4675 - val_loss: 1.6251 - val_accuracy: 0.4440\n",
      "Epoch 30/40\n",
      "1250/1250 [==============================] - 9s 7ms/step - loss: 1.5430 - accuracy: 0.4672 - val_loss: 1.6198 - val_accuracy: 0.4443\n",
      "Epoch 31/40\n",
      "1250/1250 [==============================] - 9s 7ms/step - loss: 1.5394 - accuracy: 0.4700 - val_loss: 1.6229 - val_accuracy: 0.4423\n",
      "Epoch 32/40\n",
      "1250/1250 [==============================] - 9s 7ms/step - loss: 1.5392 - accuracy: 0.4692 - val_loss: 1.6156 - val_accuracy: 0.4434\n",
      "Epoch 33/40\n",
      "1250/1250 [==============================] - 9s 7ms/step - loss: 1.5380 - accuracy: 0.4703 - val_loss: 1.6179 - val_accuracy: 0.4422\n",
      "Epoch 34/40\n",
      "1250/1250 [==============================] - 9s 7ms/step - loss: 1.5370 - accuracy: 0.4701 - val_loss: 1.6204 - val_accuracy: 0.4418\n",
      "Epoch 35/40\n",
      "1250/1250 [==============================] - 9s 7ms/step - loss: 1.5343 - accuracy: 0.4702 - val_loss: 1.6151 - val_accuracy: 0.4442\n",
      "Epoch 36/40\n",
      "1250/1250 [==============================] - 9s 7ms/step - loss: 1.5328 - accuracy: 0.4710 - val_loss: 1.6301 - val_accuracy: 0.4374\n",
      "Epoch 37/40\n",
      "1250/1250 [==============================] - 9s 7ms/step - loss: 1.5310 - accuracy: 0.4717 - val_loss: 1.6572 - val_accuracy: 0.4321\n",
      "Epoch 38/40\n",
      "1250/1250 [==============================] - 9s 7ms/step - loss: 1.5316 - accuracy: 0.4719 - val_loss: 1.6143 - val_accuracy: 0.4433\n",
      "Epoch 39/40\n",
      "1250/1250 [==============================] - 9s 7ms/step - loss: 1.5288 - accuracy: 0.4740 - val_loss: 1.6100 - val_accuracy: 0.4480\n",
      "Epoch 40/40\n",
      "1250/1250 [==============================] - 9s 7ms/step - loss: 1.5287 - accuracy: 0.4714 - val_loss: 1.6113 - val_accuracy: 0.4468\n"
     ]
    }
   ],
   "source": [
    "result = model.fit(x_train, y_train, epochs=40, validation_data=(x_val,y_val))"
   ]
  },
  {
   "cell_type": "code",
   "execution_count": 160,
   "id": "b25d1054-3356-47bc-964e-0c28045b12ad",
   "metadata": {},
   "outputs": [
    {
     "data": {
      "image/png": "[encoded data removed]",
      "text/plain": [
       "<Figure size 432x288 with 1 Axes>"
      ]
     },
     "metadata": {
      "needs_background": "light"
     },
     "output_type": "display_data"
    }
   ],
   "source": [
    "plt.imshow(x_val[0].reshape(32, 32, 3), cmap='gray_r')\n",
    "plt.title(f'Label = {y_val[0]}')\n",
    "plt.show()"
   ]
  },
  {
   "cell_type": "code",
   "execution_count": 161,
   "id": "671f4003-0b1c-44d5-9895-1c80453bf5cd",
   "metadata": {},
   "outputs": [
    {
     "data": {
      "image/png": "[encoded data removed]",
      "text/plain": [
       "<Figure size 432x288 with 1 Axes>"
      ]
     },
     "metadata": {
      "needs_background": "light"
     },
     "output_type": "display_data"
    }
   ],
   "source": [
    "# loss 비교\n",
    "plt.plot(result.epoch, result.history['loss'],label='Train loss')\n",
    "plt.plot(result.epoch, result.history['val_loss'],label='validation loss')\n",
    "plt.xlabel('epochs')\n",
    "plt.ylabel('loss')\n",
    "plt.legend()\n",
    "plt.show()"
   ]
  },
  {
   "cell_type": "code",
   "execution_count": 162,
   "id": "ffc13270-6f3f-4202-8fae-98b553f0d74f",
   "metadata": {},
   "outputs": [
    {
     "data": {
      "image/png": "[encoded data removed]",
      "text/plain": [
       "<Figure size 432x288 with 1 Axes>"
      ]
     },
     "metadata": {
      "needs_background": "light"
     },
     "output_type": "display_data"
    }
   ],
   "source": [
    "# accuracy 비교\n",
    "plt.plot(result.epoch, result.history['accuracy'],label='Train accuracy')\n",
    "plt.plot(result.epoch, result.history['val_accuracy'],label='validation accuracy')\n",
    "plt.xlabel('epochs')\n",
    "plt.ylabel('accuracy')\n",
    "plt.legend()\n",
    "plt.show()"
   ]
  },
  {
   "cell_type": "markdown",
   "id": "29c1d7b1-5322-4c60-84bd-dec33584f77f",
   "metadata": {},
   "source": [
    "---\n",
    "## [4] 테스트 평가\n",
    "- evaluate 메서드\n",
    "- 테스트 데이터, 테스트 라벨"
   ]
  },
  {
   "cell_type": "code",
   "execution_count": 163,
   "id": "b5b17948-c327-4a88-af74-dbf9e6e3395a",
   "metadata": {},
   "outputs": [
    {
     "name": "stdout",
     "output_type": "stream",
     "text": [
      "1/1 [==============================] - 0s 57ms/step\n"
     ]
    }
   ],
   "source": [
    "predict_y = model.predict(x_test[0].reshape(-1, 32, 32, 3))"
   ]
  },
  {
   "cell_type": "code",
   "execution_count": 164,
   "id": "2db8846f-2025-46a1-a62a-096d0ac209e6",
   "metadata": {},
   "outputs": [
    {
     "data": {
      "text/plain": [
       "(array([[0.1 , 0.08, 0.12, 0.31, 0.01, 0.17, 0.13, 0.03, 0.04, 0.01]],\n",
       "       dtype=float32),\n",
       " (1, 10))"
      ]
     },
     "execution_count": 164,
     "metadata": {},
     "output_type": "execute_result"
    }
   ],
   "source": [
    "predict_y.round(2), predict_y.shape"
   ]
  },
  {
   "cell_type": "code",
   "execution_count": 165,
   "id": "5b8bf02f-741b-457c-af8c-c7c455683358",
   "metadata": {},
   "outputs": [
    {
     "data": {
      "text/plain": [
       "array([3], dtype=uint8)"
      ]
     },
     "execution_count": 165,
     "metadata": {},
     "output_type": "execute_result"
    }
   ],
   "source": [
    "y_test[0]"
   ]
  },
  {
   "cell_type": "code",
   "execution_count": 166,
   "id": "ea3b2eef-819d-4fd3-8595-c536d3d18677",
   "metadata": {},
   "outputs": [],
   "source": [
    "# pilimg를 사용하여 이미지를 불러온다\n",
    "import PIL.Image as pilimg\n",
    "import numpy as np"
   ]
  },
  {
   "cell_type": "code",
   "execution_count": 167,
   "id": "3603c432-dc05-46fa-88d1-182414cca30f",
   "metadata": {},
   "outputs": [
    {
     "data": {
      "text/plain": [
       "<matplotlib.image.AxesImage at 0x2fd8d2fb5e0>"
      ]
     },
     "execution_count": 167,
     "metadata": {},
     "output_type": "execute_result"
    },
    {
     "data": {
      "image/png": "[encoded data removed]",
      "text/plain": [
       "<Figure size 432x288 with 1 Axes>"
      ]
     },
     "metadata": {
      "needs_background": "light"
     },
     "output_type": "display_data"
    }
   ],
   "source": [
    "# 불러온 이미지를 matplot으로 나타내기 위해 numpy array로 만든다\n",
    "# pilimg.open : 이미지를 불러온다.\n",
    "# image.show() : 이미지를 띄운다.\n",
    "# np.array(image) : 불러온 이미지를 Numpy Array로 만든다.\n",
    "airplane = pilimg.open('airplane_image.jpg')\n",
    "airplane.show()\n",
    "\n",
    "pix=np.array(airplane)\n",
    "\n",
    "plt.imshow(pix)"
   ]
  },
  {
   "cell_type": "code",
   "execution_count": 168,
   "id": "03d688b1-bdd8-4c85-8817-60e4cb53151d",
   "metadata": {},
   "outputs": [
    {
     "name": "stdout",
     "output_type": "stream",
     "text": [
      "WARNING:tensorflow:5 out of the last 6 calls to <function Model.make_predict_function.<locals>.predict_function at 0x000002FD8D2831F0> triggered tf.function retracing. Tracing is expensive and the excessive number of tracings could be due to (1) creating @tf.function repeatedly in a loop, (2) passing tensors with different shapes, (3) passing Python objects instead of tensors. For (1), please define your @tf.function outside of the loop. For (2), @tf.function has reduce_retracing=True option that can avoid unnecessary retracing. For (3), please refer to https://www.tensorflow.org/guide/function#controlling_retracing and https://www.tensorflow.org/api_docs/python/tf/function for  more details.\n",
      "1/1 [==============================] - 0s 39ms/step\n"
     ]
    },
    {
     "data": {
      "text/plain": [
       "array([[0., 1., 0., 0., 0., 0., 0., 0., 0., 0.]], dtype=float32)"
      ]
     },
     "execution_count": 168,
     "metadata": {},
     "output_type": "execute_result"
    }
   ],
   "source": [
    "predict_airplane = model.predict(pix.reshape(-1, 32, 32, 3))\n",
    "predict_airplane"
   ]
  },
  {
   "cell_type": "code",
   "execution_count": 169,
   "id": "028991f1-8f50-4626-b927-a7636b3a926e",
   "metadata": {},
   "outputs": [],
   "source": [
    "# airplane\n",
    "# automobile\n",
    "# bird\n",
    "# cat\n",
    "# deer\n",
    "# dog\n",
    "# frog\n",
    "# horse\n",
    "# ship\n",
    "# truck"
   ]
  },
  {
   "cell_type": "code",
   "execution_count": null,
   "id": "291d2e17-05c5-44ef-9da6-8523893f73d9",
   "metadata": {},
   "outputs": [],
   "source": [
    "# # 새로운 사진 예측 함수\n",
    "# def pre_print(imagefile):\n",
    "#     pre_val=['airplane','automobile','bird','cat','deer','dog','frog','horse','ship','truck']\n",
    "\n",
    "#     # 이미지 불러오기\n",
    "#     test_image=Image.open('C:/deeplearning/0915/'+imagefile).resize((32,32))\n",
    "#     test_image_arr=np.array(test_image)\n",
    "\n",
    "#     # 이미지 그래프로 그리기\n",
    "#     plt.imshow(test_image)\n",
    "#     plt.show()\n",
    "\n",
    "#     # 예측\n",
    "#     result=np.round(model.predict(test_image_arr.reshape(-1,32,32,3)),2)\n",
    "#     print(f\"\"\"예측값은 {result}\\n\n",
    "#           어떤동물일까요??? {pre_val[result.argmax()]}\"\"\")"
   ]
  }
 ],
 "metadata": {
  "kernelspec": {
   "display_name": "Python 3 (ipykernel)",
   "language": "python",
   "name": "python3"
  },
  "language_info": {
   "codemirror_mode": {
    "name": "ipython",
    "version": 3
   },
   "file_extension": ".py",
   "mimetype": "text/x-python",
   "name": "python",
   "nbconvert_exporter": "python",
   "pygments_lexer": "ipython3",
   "version": "3.9.12"
  }
 },
 "nbformat": 4,
 "nbformat_minor": 5
}
