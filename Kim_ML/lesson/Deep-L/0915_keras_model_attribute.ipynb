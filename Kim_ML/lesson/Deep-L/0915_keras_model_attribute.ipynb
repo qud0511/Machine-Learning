{
 "cells": [
  {
   "cell_type": "code",
   "execution_count": 1,
   "id": "eca5ae96-36b7-41da-92ec-66d6ab84abba",
   "metadata": {},
   "outputs": [],
   "source": [
    "import tensorflow as tf"
   ]
  },
  {
   "cell_type": "code",
   "execution_count": 2,
   "id": "590c3f29-c20e-4b21-8b97-28a01ae7742b",
   "metadata": {},
   "outputs": [],
   "source": [
    "from tensorflow.keras import Sequential\n",
    "from tensorflow.keras.layers import Dense, Dropout, Flatten\n",
    "# from tensorflow.keras.datasets.fashion_mnist import load_data\n",
    "import numpy as np"
   ]
  },
  {
   "cell_type": "code",
   "execution_count": 3,
   "id": "dbc0df08-ccd6-411e-90f8-a0f286df4fdd",
   "metadata": {},
   "outputs": [],
   "source": [
    "from tensorflow.keras.utils import plot_model # 모델 도식화 기능\n",
    "# plot_model을 경고문구 없이 사용하려면\n",
    "# ! pip install pydotplus\n",
    "# ! pip install pydot\n",
    "# ! pip install graphviz"
   ]
  },
  {
   "cell_type": "markdown",
   "id": "aa752c28-7b2f-4b8c-9811-3960ed90c6d0",
   "metadata": {},
   "source": [
    "## 모델 속성 및 W,b초기값 고정\n",
    "- 모델 속성 확인\n",
    "- 모덜 생성 시 랜덤으로 초기화 되는 W,b값 고정"
   ]
  },
  {
   "cell_type": "code",
   "execution_count": 4,
   "id": "515e7a1a-c321-4732-8db3-a142bd6091b5",
   "metadata": {},
   "outputs": [],
   "source": [
    "from tensorflow.keras import models, layers\n",
    "from tensorflow import random # random seed(난수) 설정용"
   ]
  },
  {
   "cell_type": "code",
   "execution_count": 5,
   "id": "8e433482-cd80-4c5e-94be-af0cdf090cb2",
   "metadata": {},
   "outputs": [],
   "source": [
    "# 임시 테스트 데이터\n",
    "# 특성 Feature 2개 : 시간, 과외횟수 / 출력 1개 : 점수 -> 회귀가 적절?\n",
    "X=np.array([[2,0],[3,0],[4,3],[5,1],[6,1],[7, 0],[8, 2]])\n",
    "y=np.array([52,56,71,77,82,94,100])"
   ]
  },
  {
   "cell_type": "code",
   "execution_count": 6,
   "id": "f7f259ca-a1f5-4576-94a0-edc5113c3396",
   "metadata": {},
   "outputs": [
    {
     "data": {
      "text/plain": [
       "((7, 2), (7,))"
      ]
     },
     "execution_count": 6,
     "metadata": {},
     "output_type": "execute_result"
    }
   ],
   "source": [
    "X.shape, y.shape"
   ]
  },
  {
   "cell_type": "code",
   "execution_count": 64,
   "id": "6f30e0a8-2337-416c-83be-b906e2f9bdc5",
   "metadata": {},
   "outputs": [],
   "source": [
    "## W,b초기값 고정\n",
    "random.set_seed(11)"
   ]
  },
  {
   "cell_type": "markdown",
   "id": "6c2f482b-575b-43f9-9c7f-c481cf5906b3",
   "metadata": {
    "tags": []
   },
   "source": [
    "#### 모델 구상"
   ]
  },
  {
   "cell_type": "code",
   "execution_count": 65,
   "id": "90b56115-d342-4243-aa3a-3d9dd589bff1",
   "metadata": {},
   "outputs": [],
   "source": [
    "model=models.Sequential()"
   ]
  },
  {
   "cell_type": "code",
   "execution_count": 66,
   "id": "a7606179-5c6c-467f-a4e7-0f4e39f47901",
   "metadata": {},
   "outputs": [],
   "source": [
    "model.add(layers.Dense(15, activation='relu', input_shape=(2,)))"
   ]
  },
  {
   "cell_type": "code",
   "execution_count": 67,
   "id": "66fa8bae-f1df-458f-af5b-8e05d1c3254f",
   "metadata": {},
   "outputs": [],
   "source": [
    "model.add(layers.Dense(1, activation='linear'))"
   ]
  },
  {
   "cell_type": "code",
   "execution_count": 68,
   "id": "5e02c102-92a2-4a12-b087-3c503173794d",
   "metadata": {
    "tags": []
   },
   "outputs": [
    {
     "name": "stdout",
     "output_type": "stream",
     "text": [
      "Model: \"sequential_6\"\n",
      "_________________________________________________________________\n",
      " Layer (type)                Output Shape              Param #   \n",
      "=================================================================\n",
      " dense_12 (Dense)            (None, 15)                45        \n",
      "                                                                 \n",
      " dense_13 (Dense)            (None, 1)                 16        \n",
      "                                                                 \n",
      "=================================================================\n",
      "Total params: 61\n",
      "Trainable params: 61\n",
      "Non-trainable params: 0\n",
      "_________________________________________________________________\n"
     ]
    }
   ],
   "source": [
    "model.summary()"
   ]
  },
  {
   "cell_type": "markdown",
   "id": "c993afc8-2c12-44e7-a4e9-1661e53be1af",
   "metadata": {},
   "source": [
    "#### 모델 속성 확인"
   ]
  },
  {
   "cell_type": "code",
   "execution_count": 69,
   "id": "b625442b-0fb9-48dc-a104-6d74d926f234",
   "metadata": {},
   "outputs": [
    {
     "data": {
      "text/plain": [
       "[<keras.layers.core.dense.Dense at 0x1e37fc3e520>,\n",
       " <keras.layers.core.dense.Dense at 0x1e3006050a0>]"
      ]
     },
     "execution_count": 69,
     "metadata": {},
     "output_type": "execute_result"
    }
   ],
   "source": [
    "model.layers"
   ]
  },
  {
   "cell_type": "code",
   "execution_count": 70,
   "id": "2ce580c5-0c28-4a10-b48c-538cd25701ec",
   "metadata": {},
   "outputs": [
    {
     "data": {
      "text/plain": [
       "<keras.layers.core.dense.Dense at 0x1e37fc3e520>"
      ]
     },
     "execution_count": 70,
     "metadata": {},
     "output_type": "execute_result"
    }
   ],
   "source": [
    "l1=model.layers[0]\n",
    "l1"
   ]
  },
  {
   "cell_type": "code",
   "execution_count": 71,
   "id": "9cbb8a90-b60c-499f-b1f6-3808e34ef0dc",
   "metadata": {},
   "outputs": [
    {
     "data": {
      "text/plain": [
       "<tf.Variable 'dense_12/kernel:0' shape=(2, 15) dtype=float32, numpy=\n",
       "array([[ 0.19260985,  0.25963426, -0.28653234, -0.13070518,  0.2463333 ,\n",
       "         0.12035865,  0.391226  ,  0.51565063, -0.1415753 ,  0.41536283,\n",
       "        -0.5242328 , -0.3408511 ,  0.5355339 , -0.43660814,  0.55385816],\n",
       "       [-0.36716247, -0.31458944, -0.42108196, -0.33882603, -0.1579195 ,\n",
       "         0.48194432, -0.19301522,  0.3734181 ,  0.5175086 , -0.22781843,\n",
       "        -0.14091569, -0.05587667,  0.07885635,  0.0111475 ,  0.14481252]],\n",
       "      dtype=float32)>"
      ]
     },
     "execution_count": 71,
     "metadata": {},
     "output_type": "execute_result"
    }
   ],
   "source": [
    "# 가중치 확인 \n",
    "l1.weights[0]"
   ]
  },
  {
   "cell_type": "code",
   "execution_count": 75,
   "id": "cbc932fe-a76b-4cb5-a844-116d76eb6045",
   "metadata": {},
   "outputs": [
    {
     "ename": "AttributeError",
     "evalue": "'list' object has no attribute 'round'",
     "output_type": "error",
     "traceback": [
      "\u001b[1;31m---------------------------------------------------------------------------\u001b[0m",
      "\u001b[1;31mAttributeError\u001b[0m                            Traceback (most recent call last)",
      "Input \u001b[1;32mIn [75]\u001b[0m, in \u001b[0;36m<cell line: 1>\u001b[1;34m()\u001b[0m\n\u001b[1;32m----> 1\u001b[0m \u001b[43ml1\u001b[49m\u001b[38;5;241;43m.\u001b[39;49m\u001b[43mget_weights\u001b[49m\u001b[43m(\u001b[49m\u001b[43m)\u001b[49m\u001b[38;5;241;43m.\u001b[39;49m\u001b[43mround\u001b[49m(\u001b[38;5;241m3\u001b[39m)\n",
      "\u001b[1;31mAttributeError\u001b[0m: 'list' object has no attribute 'round'"
     ]
    }
   ],
   "source": [
    "l1.get_weights().round(3)"
   ]
  },
  {
   "cell_type": "code",
   "execution_count": 74,
   "id": "cc5f00fb-8b20-48dd-9438-a6ff9e85bb08",
   "metadata": {},
   "outputs": [
    {
     "data": {
      "text/plain": [
       "array([[ 0.193,  0.26 , -0.287, -0.131,  0.246,  0.12 ,  0.391,  0.516,\n",
       "        -0.142,  0.415, -0.524, -0.341,  0.536, -0.437,  0.554],\n",
       "       [-0.367, -0.315, -0.421, -0.339, -0.158,  0.482, -0.193,  0.373,\n",
       "         0.518, -0.228, -0.141, -0.056,  0.079,  0.011,  0.145]],\n",
       "      dtype=float32)"
      ]
     },
     "execution_count": 74,
     "metadata": {},
     "output_type": "execute_result"
    }
   ],
   "source": [
    "l1.get_weights()[0].round(3)"
   ]
  },
  {
   "cell_type": "code",
   "execution_count": null,
   "id": "96b22a7a-c6de-45b6-8273-90cf70031f9f",
   "metadata": {},
   "outputs": [],
   "source": []
  },
  {
   "cell_type": "code",
   "execution_count": null,
   "id": "c215f364-e9b1-4d83-9e19-cff85b8d58fa",
   "metadata": {},
   "outputs": [],
   "source": []
  }
 ],
 "metadata": {
  "kernelspec": {
   "display_name": "Python 3 (ipykernel)",
   "language": "python",
   "name": "python3"
  },
  "language_info": {
   "codemirror_mode": {
    "name": "ipython",
    "version": 3
   },
   "file_extension": ".py",
   "mimetype": "text/x-python",
   "name": "python",
   "nbconvert_exporter": "python",
   "pygments_lexer": "ipython3",
   "version": "3.9.12"
  }
 },
 "nbformat": 4,
 "nbformat_minor": 5
}
