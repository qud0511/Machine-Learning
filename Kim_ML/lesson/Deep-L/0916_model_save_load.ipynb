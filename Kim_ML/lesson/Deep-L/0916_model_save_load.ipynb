{
 "cells": [
  {
   "cell_type": "markdown",
   "id": "b076b624-9c85-47e9-b108-20f5d11166da",
   "metadata": {},
   "source": [
    "## 모델 저장과 복원\n",
    "- 방법 1) 모델 전체 저장(모델 구조 + 가중치 + 변수)\n",
    "    * save_model()\n",
    "    * 복원시 추가 작업 필요없이 모델 파일을 로딩해서 사용 가능\n",
    "    \n",
    "- 방법 2) 가중치만 저장\n",
    "    * save_weights()\n",
    "    * 복원 시 모델 구조(Architechure) 생성한 후 가중치 적용\n",
    "\n",
    "- 방법 3) 모델 전체, 가중치 자동 저장\n",
    "    * fit()에서 ModelCheckPoint Event에 대한 callback 등록\n",
    "    * save_best_only = True : 모니터링 기준에 따라서 좋은 성능의 모델만 저장\n",
    "    * save_weight_only = True : 가중치만 저장\n",
    "\n",
    "- 파일 또는 폴더\n",
    "    * 파일 확장자가 없으면 폴더로 저장\n",
    "    * 파일 확장자\n",
    "        - h5 / hdf5 : HDF5 포맷으로 모델 또는 가중치를 저장\n",
    "        - ckpf : 체크파일 형태로 저장\n",
    "        - pd : 모델 저장"
   ]
  },
  {
   "cell_type": "code",
   "execution_count": 1,
   "id": "3aaee769-638e-461c-8fd1-53c68d13ed56",
   "metadata": {},
   "outputs": [],
   "source": [
    "from sklearn.datasets import load_iris\n",
    "from tensorflow.keras import Sequential\n",
    "from tensorflow.keras.layers import Dense\n",
    "from tensorflow.keras.utils import set_random_seed, plot_model\n",
    "import numpy as np"
   ]
  },
  {
   "cell_type": "markdown",
   "id": "0f0583b0-cefd-4f5a-8f5c-f0341418500c",
   "metadata": {},
   "source": [
    "## [1] 데이터 준비 및 로딩"
   ]
  },
  {
   "cell_type": "code",
   "execution_count": 2,
   "id": "e18a61c6-6abb-42e1-9834-70b5646f2daf",
   "metadata": {},
   "outputs": [],
   "source": [
    "iris = load_iris()"
   ]
  },
  {
   "cell_type": "code",
   "execution_count": 3,
   "id": "a715d6a1-3498-4c5b-82af-8343befa7fa3",
   "metadata": {},
   "outputs": [
    {
     "name": "stdout",
     "output_type": "stream",
     "text": [
      "x_train.shape : (150, 4), y_train.shape : (150,)\n"
     ]
    }
   ],
   "source": [
    "x_train = iris.data\n",
    "y_train = iris.target\n",
    "\n",
    "print(f'x_train.shape : {x_train.shape}, y_train.shape : {y_train.shape}')"
   ]
  },
  {
   "cell_type": "code",
   "execution_count": 4,
   "id": "9fcc567d-d7aa-48a7-b177-e59fab149d1a",
   "metadata": {},
   "outputs": [
    {
     "data": {
      "text/plain": [
       "(array(['setosa', 'versicolor', 'virginica'], dtype='<U10'),\n",
       " ['sepal length (cm)',\n",
       "  'sepal width (cm)',\n",
       "  'petal length (cm)',\n",
       "  'petal width (cm)'])"
      ]
     },
     "execution_count": 4,
     "metadata": {},
     "output_type": "execute_result"
    }
   ],
   "source": [
    "iris.target_names, iris.feature_names"
   ]
  },
  {
   "cell_type": "code",
   "execution_count": 5,
   "id": "5e284150-d40c-4732-9f59-ee0fea72694e",
   "metadata": {},
   "outputs": [
    {
     "data": {
      "text/plain": [
       "(150, 2)"
      ]
     },
     "execution_count": 5,
     "metadata": {},
     "output_type": "execute_result"
    }
   ],
   "source": [
    "# Feature => 꽃잎의 길이, 너비\n",
    "x_train = x_train[:, 2:]\n",
    "x_train.shape"
   ]
  },
  {
   "cell_type": "markdown",
   "id": "3dc7ce35-5af6-4743-ae8d-190544689086",
   "metadata": {},
   "source": [
    "## [2] 데이터 전처리"
   ]
  },
  {
   "cell_type": "code",
   "execution_count": 6,
   "id": "037c2893-b248-4ce3-85ba-7ce5e3e34cce",
   "metadata": {},
   "outputs": [],
   "source": [
    "# Target => 문자를 수치로\n",
    "from sklearn.preprocessing import LabelEncoder, OneHotEncoder"
   ]
  },
  {
   "cell_type": "code",
   "execution_count": 7,
   "id": "c69242f4-f0fe-4db2-961d-8ed919d6d87c",
   "metadata": {},
   "outputs": [],
   "source": [
    "# 라벨 인코딩\n",
    "lencoder=LabelEncoder()\n",
    "y_train=lencoder.fit(y_train).transform(y_train)"
   ]
  },
  {
   "cell_type": "code",
   "execution_count": 8,
   "id": "a84ad4e5-cd4a-41f3-86cb-1805a719f046",
   "metadata": {},
   "outputs": [],
   "source": [
    "# 원 핫 인코딩\n",
    "OHE=OneHotEncoder()\n",
    "y_train=OHE.fit_transform(y_train.reshape(-1, 1))"
   ]
  },
  {
   "cell_type": "code",
   "execution_count": 9,
   "id": "55b76501-f4cb-4957-82ca-71c920486a07",
   "metadata": {},
   "outputs": [],
   "source": [
    "# 스케일링\n",
    "from sklearn.preprocessing import StandardScaler\n",
    "\n",
    "scaler=StandardScaler()\n",
    "x_scaled_train=scaler.fit(x_train)"
   ]
  },
  {
   "cell_type": "code",
   "execution_count": 13,
   "id": "db70beb4-e399-4093-934c-4d42f5e111ed",
   "metadata": {},
   "outputs": [
    {
     "data": {
      "text/plain": [
       "((150, 2),\n",
       " (150, 3),\n",
       " <1x3 sparse matrix of type '<class 'numpy.float64'>'\n",
       " \twith 1 stored elements in Compressed Sparse Row format>)"
      ]
     },
     "execution_count": 13,
     "metadata": {},
     "output_type": "execute_result"
    }
   ],
   "source": [
    "x_train.shape, y_train.shape, y_train[0]"
   ]
  },
  {
   "cell_type": "code",
   "execution_count": 17,
   "id": "3465ee4e-6711-4a11-b06b-2b4d03b57fa7",
   "metadata": {},
   "outputs": [
    {
     "data": {
      "text/plain": [
       "(numpy.ndarray, scipy.sparse.csr.csr_matrix)"
      ]
     },
     "execution_count": 17,
     "metadata": {},
     "output_type": "execute_result"
    }
   ],
   "source": [
    "type(x_train), type(y_train)"
   ]
  },
  {
   "cell_type": "code",
   "execution_count": 21,
   "id": "bc134776-34b0-4cb9-80d4-299dd51a6d93",
   "metadata": {},
   "outputs": [
    {
     "ename": "AttributeError",
     "evalue": "'numpy.ndarray' object has no attribute 'toarray'",
     "output_type": "error",
     "traceback": [
      "\u001b[1;31m---------------------------------------------------------------------------\u001b[0m",
      "\u001b[1;31mAttributeError\u001b[0m                            Traceback (most recent call last)",
      "Input \u001b[1;32mIn [21]\u001b[0m, in \u001b[0;36m<cell line: 1>\u001b[1;34m()\u001b[0m\n\u001b[1;32m----> 1\u001b[0m y_train\u001b[38;5;241m=\u001b[39m\u001b[43my_train\u001b[49m\u001b[38;5;241;43m.\u001b[39;49m\u001b[43mtoarray\u001b[49m()\n",
      "\u001b[1;31mAttributeError\u001b[0m: 'numpy.ndarray' object has no attribute 'toarray'"
     ]
    }
   ],
   "source": [
    "y_train=y_train.toarray()"
   ]
  },
  {
   "cell_type": "code",
   "execution_count": 19,
   "id": "07f20e29-bb1b-4b5c-8f33-c07fbf78f09c",
   "metadata": {
    "tags": []
   },
   "outputs": [
    {
     "ename": "TypeError",
     "evalue": "Singleton array array(StandardScaler(), dtype=object) cannot be considered a valid collection.",
     "output_type": "error",
     "traceback": [
      "\u001b[1;31m---------------------------------------------------------------------------\u001b[0m",
      "\u001b[1;31mTypeError\u001b[0m                                 Traceback (most recent call last)",
      "Input \u001b[1;32mIn [19]\u001b[0m, in \u001b[0;36m<cell line: 3>\u001b[1;34m()\u001b[0m\n\u001b[0;32m      1\u001b[0m \u001b[38;5;28;01mfrom\u001b[39;00m \u001b[38;5;21;01msklearn\u001b[39;00m\u001b[38;5;21;01m.\u001b[39;00m\u001b[38;5;21;01mmodel_selection\u001b[39;00m \u001b[38;5;28;01mimport\u001b[39;00m train_test_split\n\u001b[1;32m----> 3\u001b[0m x_train, x_test, y_train, y_test \u001b[38;5;241m=\u001b[39m \u001b[43mtrain_test_split\u001b[49m\u001b[43m(\u001b[49m\u001b[43mx_scaled_train\u001b[49m\u001b[43m,\u001b[49m\u001b[43m \u001b[49m\u001b[43my_train\u001b[49m\u001b[43m,\u001b[49m\n\u001b[0;32m      4\u001b[0m \u001b[43m                                                   \u001b[49m\u001b[43mstratify\u001b[49m\u001b[38;5;241;43m=\u001b[39;49m\u001b[43my_train\u001b[49m\u001b[43m)\u001b[49m\n",
      "File \u001b[1;32mC:\\ProgramData\\Anaconda3\\lib\\site-packages\\sklearn\\model_selection\\_split.py:2417\u001b[0m, in \u001b[0;36mtrain_test_split\u001b[1;34m(test_size, train_size, random_state, shuffle, stratify, *arrays)\u001b[0m\n\u001b[0;32m   2414\u001b[0m \u001b[38;5;28;01mif\u001b[39;00m n_arrays \u001b[38;5;241m==\u001b[39m \u001b[38;5;241m0\u001b[39m:\n\u001b[0;32m   2415\u001b[0m     \u001b[38;5;28;01mraise\u001b[39;00m \u001b[38;5;167;01mValueError\u001b[39;00m(\u001b[38;5;124m\"\u001b[39m\u001b[38;5;124mAt least one array required as input\u001b[39m\u001b[38;5;124m\"\u001b[39m)\n\u001b[1;32m-> 2417\u001b[0m arrays \u001b[38;5;241m=\u001b[39m \u001b[43mindexable\u001b[49m\u001b[43m(\u001b[49m\u001b[38;5;241;43m*\u001b[39;49m\u001b[43marrays\u001b[49m\u001b[43m)\u001b[49m\n\u001b[0;32m   2419\u001b[0m n_samples \u001b[38;5;241m=\u001b[39m _num_samples(arrays[\u001b[38;5;241m0\u001b[39m])\n\u001b[0;32m   2420\u001b[0m n_train, n_test \u001b[38;5;241m=\u001b[39m _validate_shuffle_split(\n\u001b[0;32m   2421\u001b[0m     n_samples, test_size, train_size, default_test_size\u001b[38;5;241m=\u001b[39m\u001b[38;5;241m0.25\u001b[39m\n\u001b[0;32m   2422\u001b[0m )\n",
      "File \u001b[1;32mC:\\ProgramData\\Anaconda3\\lib\\site-packages\\sklearn\\utils\\validation.py:378\u001b[0m, in \u001b[0;36mindexable\u001b[1;34m(*iterables)\u001b[0m\n\u001b[0;32m    359\u001b[0m \u001b[38;5;124;03m\"\"\"Make arrays indexable for cross-validation.\u001b[39;00m\n\u001b[0;32m    360\u001b[0m \n\u001b[0;32m    361\u001b[0m \u001b[38;5;124;03mChecks consistent length, passes through None, and ensures that everything\u001b[39;00m\n\u001b[1;32m   (...)\u001b[0m\n\u001b[0;32m    374\u001b[0m \u001b[38;5;124;03m    sparse matrix, or dataframe) or `None`.\u001b[39;00m\n\u001b[0;32m    375\u001b[0m \u001b[38;5;124;03m\"\"\"\u001b[39;00m\n\u001b[0;32m    377\u001b[0m result \u001b[38;5;241m=\u001b[39m [_make_indexable(X) \u001b[38;5;28;01mfor\u001b[39;00m X \u001b[38;5;129;01min\u001b[39;00m iterables]\n\u001b[1;32m--> 378\u001b[0m \u001b[43mcheck_consistent_length\u001b[49m\u001b[43m(\u001b[49m\u001b[38;5;241;43m*\u001b[39;49m\u001b[43mresult\u001b[49m\u001b[43m)\u001b[49m\n\u001b[0;32m    379\u001b[0m \u001b[38;5;28;01mreturn\u001b[39;00m result\n",
      "File \u001b[1;32mC:\\ProgramData\\Anaconda3\\lib\\site-packages\\sklearn\\utils\\validation.py:329\u001b[0m, in \u001b[0;36mcheck_consistent_length\u001b[1;34m(*arrays)\u001b[0m\n\u001b[0;32m    318\u001b[0m \u001b[38;5;28;01mdef\u001b[39;00m \u001b[38;5;21mcheck_consistent_length\u001b[39m(\u001b[38;5;241m*\u001b[39marrays):\n\u001b[0;32m    319\u001b[0m     \u001b[38;5;124;03m\"\"\"Check that all arrays have consistent first dimensions.\u001b[39;00m\n\u001b[0;32m    320\u001b[0m \n\u001b[0;32m    321\u001b[0m \u001b[38;5;124;03m    Checks whether all objects in arrays have the same shape or length.\u001b[39;00m\n\u001b[1;32m   (...)\u001b[0m\n\u001b[0;32m    326\u001b[0m \u001b[38;5;124;03m        Objects that will be checked for consistent length.\u001b[39;00m\n\u001b[0;32m    327\u001b[0m \u001b[38;5;124;03m    \"\"\"\u001b[39;00m\n\u001b[1;32m--> 329\u001b[0m     lengths \u001b[38;5;241m=\u001b[39m [_num_samples(X) \u001b[38;5;28;01mfor\u001b[39;00m X \u001b[38;5;129;01min\u001b[39;00m arrays \u001b[38;5;28;01mif\u001b[39;00m X \u001b[38;5;129;01mis\u001b[39;00m \u001b[38;5;129;01mnot\u001b[39;00m \u001b[38;5;28;01mNone\u001b[39;00m]\n\u001b[0;32m    330\u001b[0m     uniques \u001b[38;5;241m=\u001b[39m np\u001b[38;5;241m.\u001b[39munique(lengths)\n\u001b[0;32m    331\u001b[0m     \u001b[38;5;28;01mif\u001b[39;00m \u001b[38;5;28mlen\u001b[39m(uniques) \u001b[38;5;241m>\u001b[39m \u001b[38;5;241m1\u001b[39m:\n",
      "File \u001b[1;32mC:\\ProgramData\\Anaconda3\\lib\\site-packages\\sklearn\\utils\\validation.py:329\u001b[0m, in \u001b[0;36m<listcomp>\u001b[1;34m(.0)\u001b[0m\n\u001b[0;32m    318\u001b[0m \u001b[38;5;28;01mdef\u001b[39;00m \u001b[38;5;21mcheck_consistent_length\u001b[39m(\u001b[38;5;241m*\u001b[39marrays):\n\u001b[0;32m    319\u001b[0m     \u001b[38;5;124;03m\"\"\"Check that all arrays have consistent first dimensions.\u001b[39;00m\n\u001b[0;32m    320\u001b[0m \n\u001b[0;32m    321\u001b[0m \u001b[38;5;124;03m    Checks whether all objects in arrays have the same shape or length.\u001b[39;00m\n\u001b[1;32m   (...)\u001b[0m\n\u001b[0;32m    326\u001b[0m \u001b[38;5;124;03m        Objects that will be checked for consistent length.\u001b[39;00m\n\u001b[0;32m    327\u001b[0m \u001b[38;5;124;03m    \"\"\"\u001b[39;00m\n\u001b[1;32m--> 329\u001b[0m     lengths \u001b[38;5;241m=\u001b[39m [\u001b[43m_num_samples\u001b[49m\u001b[43m(\u001b[49m\u001b[43mX\u001b[49m\u001b[43m)\u001b[49m \u001b[38;5;28;01mfor\u001b[39;00m X \u001b[38;5;129;01min\u001b[39;00m arrays \u001b[38;5;28;01mif\u001b[39;00m X \u001b[38;5;129;01mis\u001b[39;00m \u001b[38;5;129;01mnot\u001b[39;00m \u001b[38;5;28;01mNone\u001b[39;00m]\n\u001b[0;32m    330\u001b[0m     uniques \u001b[38;5;241m=\u001b[39m np\u001b[38;5;241m.\u001b[39munique(lengths)\n\u001b[0;32m    331\u001b[0m     \u001b[38;5;28;01mif\u001b[39;00m \u001b[38;5;28mlen\u001b[39m(uniques) \u001b[38;5;241m>\u001b[39m \u001b[38;5;241m1\u001b[39m:\n",
      "File \u001b[1;32mC:\\ProgramData\\Anaconda3\\lib\\site-packages\\sklearn\\utils\\validation.py:269\u001b[0m, in \u001b[0;36m_num_samples\u001b[1;34m(x)\u001b[0m\n\u001b[0;32m    267\u001b[0m \u001b[38;5;28;01mif\u001b[39;00m \u001b[38;5;28mhasattr\u001b[39m(x, \u001b[38;5;124m\"\u001b[39m\u001b[38;5;124mshape\u001b[39m\u001b[38;5;124m\"\u001b[39m) \u001b[38;5;129;01mand\u001b[39;00m x\u001b[38;5;241m.\u001b[39mshape \u001b[38;5;129;01mis\u001b[39;00m \u001b[38;5;129;01mnot\u001b[39;00m \u001b[38;5;28;01mNone\u001b[39;00m:\n\u001b[0;32m    268\u001b[0m     \u001b[38;5;28;01mif\u001b[39;00m \u001b[38;5;28mlen\u001b[39m(x\u001b[38;5;241m.\u001b[39mshape) \u001b[38;5;241m==\u001b[39m \u001b[38;5;241m0\u001b[39m:\n\u001b[1;32m--> 269\u001b[0m         \u001b[38;5;28;01mraise\u001b[39;00m \u001b[38;5;167;01mTypeError\u001b[39;00m(\n\u001b[0;32m    270\u001b[0m             \u001b[38;5;124m\"\u001b[39m\u001b[38;5;124mSingleton array \u001b[39m\u001b[38;5;132;01m%r\u001b[39;00m\u001b[38;5;124m cannot be considered a valid collection.\u001b[39m\u001b[38;5;124m\"\u001b[39m \u001b[38;5;241m%\u001b[39m x\n\u001b[0;32m    271\u001b[0m         )\n\u001b[0;32m    272\u001b[0m     \u001b[38;5;66;03m# Check that shape is returning an integer or default to len\u001b[39;00m\n\u001b[0;32m    273\u001b[0m     \u001b[38;5;66;03m# Dask dataframes may not return numeric shape[0] value\u001b[39;00m\n\u001b[0;32m    274\u001b[0m     \u001b[38;5;28;01mif\u001b[39;00m \u001b[38;5;28misinstance\u001b[39m(x\u001b[38;5;241m.\u001b[39mshape[\u001b[38;5;241m0\u001b[39m], numbers\u001b[38;5;241m.\u001b[39mIntegral):\n",
      "\u001b[1;31mTypeError\u001b[0m: Singleton array array(StandardScaler(), dtype=object) cannot be considered a valid collection."
     ]
    }
   ],
   "source": [
    "from sklearn.model_selection import train_test_split\n",
    "\n",
    "x_train, x_test, y_train, y_test = train_test_split(x_scaled_train, y_train,\n",
    "                                                   stratify=y_train)"
   ]
  },
  {
   "cell_type": "code",
   "execution_count": null,
   "id": "ff7b7aad-1686-40f3-afcb-228d8424198c",
   "metadata": {},
   "outputs": [],
   "source": [
    "x_train, x_val, y_train, y_val = train_test_split(x_train, y_train)"
   ]
  },
  {
   "cell_type": "code",
   "execution_count": null,
   "id": "b13fb883-a3d7-496e-aed0-dbb81aea4736",
   "metadata": {},
   "outputs": [],
   "source": [
    "print(f'x_train.shape : {x_train.shape'})\n",
    "print(f'x_test.shape : {x_test.shape'})\n",
    "print(f'x_val.shape : {x_val.shape'})"
   ]
  },
  {
   "cell_type": "markdown",
   "id": "de66f0ce-0074-4be7-bb95-6e4a7dd25e84",
   "metadata": {},
   "source": [
    "## [3] 모델 구성 및 생성\n",
    "- 입력 데이터 : 2개 Feature\n",
    "- 출력 데이터 : 3개 품종\n",
    "- 학습 방법 : 분류 - 다중분류"
   ]
  },
  {
   "cell_type": "code",
   "execution_count": null,
   "id": "2b8233f2-3b97-4cec-8c47-be5eee4fcd97",
   "metadata": {},
   "outputs": [],
   "source": [
    "irisModel=Sequential(name='irisModel')"
   ]
  },
  {
   "cell_type": "code",
   "execution_count": null,
   "id": "43fbdcbf-8635-4b83-a591-4d025e067376",
   "metadata": {},
   "outputs": [],
   "source": [
    "irisModel.add(Dense(9, activation='relu', input_shape=(2,)))\n",
    "irisModel.add(Dense(3, activation='softmax'))\n",
    "\n",
    "irisModel.summary()"
   ]
  },
  {
   "cell_type": "code",
   "execution_count": null,
   "id": "75ce28db-e554-4f48-8d7e-d6dcfa9bfde7",
   "metadata": {},
   "outputs": [],
   "source": [
    "plot_model(irisModel)"
   ]
  },
  {
   "cell_type": "code",
   "execution_count": null,
   "id": "2f6d2c13-30ea-495e-b920-7c1751751c4c",
   "metadata": {},
   "outputs": [],
   "source": [
    "## 모델 생성\n",
    "irisModel.compile(loss='categoricl_crossentropy',\n",
    "                 optimizer='adam',\n",
    "                 metrics='accuracy')"
   ]
  },
  {
   "cell_type": "markdown",
   "id": "4b1e66a4-56b8-4fe1-99eb-5369971cc61e",
   "metadata": {},
   "source": [
    "## [4] 모델 학습"
   ]
  },
  {
   "cell_type": "code",
   "execution_count": null,
   "id": "8b2a2edd-ef8c-4a0f-a6e6-11308532434a",
   "metadata": {
    "tags": []
   },
   "outputs": [],
   "source": [
    "irisModel.fit(x_train, y_train, epochs=100)"
   ]
  },
  {
   "cell_type": "markdown",
   "id": "2d30b9ec-5428-4fc0-a76a-9449b201fac1",
   "metadata": {},
   "source": [
    "## [5-1] 평가"
   ]
  },
  {
   "cell_type": "code",
   "execution_count": null,
   "id": "fcb64468-f671-4ff1-8750-6dc0c0e9ddc8",
   "metadata": {},
   "outputs": [],
   "source": [
    "irisModel.evaluate(x_test, y_test)"
   ]
  },
  {
   "cell_type": "code",
   "execution_count": null,
   "id": "daff23a2-cdb6-483b-95bb-fc966322177d",
   "metadata": {},
   "outputs": [],
   "source": [
    "loosv, accv = irisModel.evaluate(x_test, y_test)"
   ]
  },
  {
   "cell_type": "code",
   "execution_count": null,
   "id": "abc1333e-4d46-4e44-82ce-1f1ba2f63ba6",
   "metadata": {},
   "outputs": [],
   "source": [
    "lossv, accv"
   ]
  },
  {
   "cell_type": "markdown",
   "id": "74bc341b-7ba3-47ad-9b7f-b5f50f668248",
   "metadata": {},
   "source": [
    "## [5-2] 모델 저장"
   ]
  },
  {
   "cell_type": "code",
   "execution_count": null,
   "id": "75c67a4a-5c06-4ddc-b454-1eed2490f0e1",
   "metadata": {},
   "outputs": [],
   "source": [
    "# 모델 저장\n",
    "from tensorflow.keras.models import save_model"
   ]
  },
  {
   "cell_type": "code",
   "execution_count": null,
   "id": "1a618a8a-3a4d-4ad2-9d37-1478cef7335d",
   "metadata": {},
   "outputs": [],
   "source": [
    "MODEL_FILE = 'irisModel.h5'\n",
    "WEIGHT_FILE = 'irisWeight'"
   ]
  },
  {
   "cell_type": "code",
   "execution_count": null,
   "id": "29aec6a6-ea6b-47c2-8649-5682a8c326c0",
   "metadata": {},
   "outputs": [],
   "source": [
    "if accv >= 0.98:\n",
    "    save_model(irisModel, MODEL_FILE)\n",
    "    irisModel.save_weights(WEIGHT_FILE)"
   ]
  },
  {
   "cell_type": "markdown",
   "id": "53265ae5-9028-4ba7-ad08-5155ee00f20f",
   "metadata": {},
   "source": [
    "## [6] 모델 복원\n",
    "- 모델 또는 가중치 복원\n",
    "- load_model(모델 파일 또는 모델 폴더명)\n",
    "- Sequential.load_weights(가중치 파일 또는 폴더명)"
   ]
  },
  {
   "cell_type": "markdown",
   "id": "64be4d51-8aac-4b7b-9d35-a72c1f873ef6",
   "metadata": {},
   "source": [
    "#### [6-1] 모델 복원"
   ]
  },
  {
   "cell_type": "code",
   "execution_count": null,
   "id": "636e1dee-13c1-4022-abbb-83df4618a933",
   "metadata": {},
   "outputs": [],
   "source": [
    "from tensorflow.keras.models import load_model"
   ]
  },
  {
   "cell_type": "code",
   "execution_count": null,
   "id": "b42b4cea-914e-4dd2-8f0a-465bf01c90c7",
   "metadata": {
    "tags": []
   },
   "outputs": [],
   "source": [
    "reModel=load_model(MODEL_FILE)"
   ]
  },
  {
   "cell_type": "code",
   "execution_count": null,
   "id": "21132ad9-ac0f-4c6c-baa8-2486820611e6",
   "metadata": {},
   "outputs": [],
   "source": [
    "reModel.evaluate(x_test, y_test)"
   ]
  },
  {
   "cell_type": "markdown",
   "id": "c3f34926-9408-4049-a9c5-6810120e1135",
   "metadata": {},
   "source": [
    "#### [6-2] 가중치 복원\n",
    "- 모델 구조 구성 및 생성\n",
    "- 가중치 로딩"
   ]
  },
  {
   "cell_type": "code",
   "execution_count": null,
   "id": "12d9a036-6275-4fea-82ce-f73532ec6bd9",
   "metadata": {},
   "outputs": [],
   "source": [
    "# 모델 구조 구성\n",
    "newModel=Sequential(name='NewIrisModel')\n",
    "irisModel.add(Dense(9, activation='relu', input_shape=(2,)))\n",
    "irisModel.add(Dense(3, activation='softmax'))\n",
    "\n",
    "irisModel.summary()"
   ]
  },
  {
   "cell_type": "code",
   "execution_count": null,
   "id": "e841e7fb-ba8a-43c0-8b39-de9895b749d4",
   "metadata": {},
   "outputs": [],
   "source": [
    "# 모델 생성\n",
    "irisModel.compile(loss='categoricl_crossentropy',\n",
    "                 optimizer='adam',\n",
    "                 metrics='accuracy')"
   ]
  },
  {
   "cell_type": "code",
   "execution_count": null,
   "id": "993c771e-1fd4-42e0-ad53-9181d9e11144",
   "metadata": {},
   "outputs": [],
   "source": [
    "# 가중치 로딩\n",
    "newModel.load_weights(WEIGHT_FILE)"
   ]
  },
  {
   "cell_type": "code",
   "execution_count": null,
   "id": "d26baf64-9d33-40f2-9d98-09665537e784",
   "metadata": {},
   "outputs": [],
   "source": [
    "newModel.evaluate(x_test, y_test)"
   ]
  }
 ],
 "metadata": {
  "kernelspec": {
   "display_name": "Python 3 (ipykernel)",
   "language": "python",
   "name": "python3"
  },
  "language_info": {
   "codemirror_mode": {
    "name": "ipython",
    "version": 3
   },
   "file_extension": ".py",
   "mimetype": "text/x-python",
   "name": "python",
   "nbconvert_exporter": "python",
   "pygments_lexer": "ipython3",
   "version": "3.9.12"
  }
 },
 "nbformat": 4,
 "nbformat_minor": 5
}
