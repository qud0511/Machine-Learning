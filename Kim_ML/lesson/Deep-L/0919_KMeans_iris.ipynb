{
 "cells": [
  {
   "cell_type": "markdown",
   "id": "83604bec-ac6b-4155-a054-de09076001c9",
   "metadata": {},
   "source": [
    "## K-Means 분할적 군집화\n",
    "- 지정된 K만큼 임의의 중심점(Centroid)를 지정\n",
    "- 중심점(Centroid)를 기준으로 가까운 거리에 있는 데이터를 하나의 군집으로 묶기\n",
    "- 군집마다 다시 중심점(Centroid) 계산\n",
    "- 중심점(Centroid) 이동이 더 이상 변경되지 않을때까지 반복하는 방법"
   ]
  },
  {
   "cell_type": "markdown",
   "id": "a69b0953-106a-45c5-8f9b-f011772184b8",
   "metadata": {},
   "source": [
    "https://velog.io/@ljs7463/%ED%81%B4%EB%9F%AC%EC%8A%A4%ED%84%B0%EB%A7%81"
   ]
  },
  {
   "cell_type": "markdown",
   "id": "35509d62-ae02-496d-924c-82eb545f985c",
   "metadata": {},
   "source": [
    "1. K개의 centroids를 선택한다.(K개의 행을 무작위로 선택)\n",
    "2. 각 데이터를 가장 가까운 centroid에 할당한다.\n",
    "3. 각 군집에 속한 모든 데이타의 평균으로 centroid를 다시 계산한다.(즉, centroid는 p-개의 길이를 갖는 평균벡터로 p는 변수의 수이다.)\n",
    "4. 각 데이터를 가장 가까운 centroid에 할당한다.\n",
    "5. 모든 관측치의 재할당이 일어나지 않거나 최대반복횟수(R에서의 dafault값은 10회)에 도달할 때까지 3과 4를 반복한다."
   ]
  },
  {
   "cell_type": "code",
   "execution_count": 1,
   "id": "a3a2adf5-da1e-409d-b053-795c2ea755ae",
   "metadata": {},
   "outputs": [],
   "source": [
    "from sklearn.datasets import load_iris\n",
    "from sklearn.cluster import KMeans\n",
    "import matplotlib.pyplot as plt\n",
    "import numpy as np\n",
    "import pandas as pd"
   ]
  },
  {
   "cell_type": "markdown",
   "id": "aea460e6-0737-4c76-b650-e8e3dac682bc",
   "metadata": {},
   "source": [
    "### [1] 데이터 로딩 및 준비"
   ]
  },
  {
   "cell_type": "code",
   "execution_count": 2,
   "id": "50e7b44b-17da-4c19-94db-d51023c07724",
   "metadata": {},
   "outputs": [],
   "source": [
    "iris=load_iris()"
   ]
  },
  {
   "cell_type": "code",
   "execution_count": 3,
   "id": "4c81c954-3620-4754-a4f7-a498c3d970b7",
   "metadata": {},
   "outputs": [
    {
     "data": {
      "text/plain": [
       "(150, 4)"
      ]
     },
     "execution_count": 3,
     "metadata": {},
     "output_type": "execute_result"
    }
   ],
   "source": [
    "data=iris.data\n",
    "# target=iris.target X => 비지도 학습이기 때문에 타겟데이터 불필요\n",
    "\n",
    "data.shape"
   ]
  },
  {
   "cell_type": "code",
   "execution_count": 4,
   "id": "8425c86a-4a67-4b92-afb3-c3e64f4d4aa7",
   "metadata": {},
   "outputs": [
    {
     "data": {
      "text/plain": [
       "['sepal length (cm)',\n",
       " 'sepal width (cm)',\n",
       " 'petal length (cm)',\n",
       " 'petal width (cm)']"
      ]
     },
     "execution_count": 4,
     "metadata": {},
     "output_type": "execute_result"
    }
   ],
   "source": [
    "iris.feature_names # iris.target_names"
   ]
  },
  {
   "cell_type": "code",
   "execution_count": 5,
   "id": "8db70b53-274a-4382-a0e2-bf31acf418d7",
   "metadata": {},
   "outputs": [
    {
     "data": {
      "text/plain": [
       "(150, 2)"
      ]
     },
     "execution_count": 5,
     "metadata": {},
     "output_type": "execute_result"
    }
   ],
   "source": [
    "data=data[:, :2] # feature 두 개만 빼오기\n",
    "data.shape"
   ]
  },
  {
   "cell_type": "markdown",
   "id": "7495e0f2-49d6-48b7-b04c-ab62a13776fe",
   "metadata": {},
   "source": [
    "### [2] 데이터 처리"
   ]
  },
  {
   "cell_type": "code",
   "execution_count": 12,
   "id": "bda9e088-40d3-4cd4-9dc2-916aa8e8843c",
   "metadata": {},
   "outputs": [],
   "source": [
    "irisCluster=KMeans(n_clusters=2, random_state=42)\n",
    "# n_clusters=8 기본값"
   ]
  },
  {
   "cell_type": "markdown",
   "id": "bd734209-5d2c-4047-baee-797c7f91c009",
   "metadata": {},
   "source": [
    "1. n_clusters  \n",
    "- 계층군집에서 해당 파라미터는 몇개의 군집으로 할것이냐를 설정하는것이라고 생각하면 옳지않다. 계층군집은 k-means와 다르게 k값을 사전에 설정하지 않는 특징을 가지고 있다. 또한 군집이 1개가 될때까지 진행한다. 따라서 해당 파라미터는 early stop같은  기능이라고 보면된다. 즉, 2를 설정하면 2개를 최종1개로 합쳐 지기전에 2개까지만 계층군집시키는것을 뜻한다.\n",
    "\n",
    "2. affinity : 거리척도(Euclidean, manhattan, cosine, precomputed)\n",
    "      - linkage가 ward인 경우 Euclidean만 사용가능\n",
    "      - precomputed는 거리 혹은 유사도 행렬을 입력으로 하는 경우에 설정하는값\n",
    " \n",
    "3. linkage : 군집간 거리(ward, complete, average, single)</br>\n",
    " \n",
    "    (3-1) ward (와드 연결법 : 가장 많이 쓰인다.)\n",
    "    - 모든 변수들에 대하여 두 군집의 ANOVA sum of square를 더한 값\n",
    "    1. 이상치에 매우둔감\n",
    "    2. 계산량이 매우 많음\n",
    "    3. 군집크기를 비슷하게 만듦( 해석이 더 편하고 이상적이다.)\n",
    "    \n",
    "    \n",
    "    (3-2) complete(최장 연결법)\n",
    "    - 한 군집의 점과 다른 군집의 점 사이의 가장 긴 거리(longest distance)\n",
    "        1. 이상치에 민감\n",
    "        2. 계산량이 많다.\n",
    "    \n",
    "    (3-3) average(평균연결법,single과 complete의 절충)\n",
    "    - 한 군집의 점과 다른 군집의 점 사이의 평균 거리.\n",
    "        1. 이상치에 둔감\n",
    "        2. 계산량이 많은편\n",
    "    \n",
    "    (3-4) single(최단연결)\n",
    "    - 한 군집의 점과 다른 군집의 점 사이의 가장 짧은 거리\n",
    "        1. 이상치에 민감\n",
    "        2. 계산량이 많은편\n",
    "    \n",
    "4. fit(x) : 데이터 x에 대한 군집화 모델 학습\n",
    "5. fit_predict(x) : 데이터 x에 대한 군집화 모델학습 및 라벨 반환\n",
    "6. labels_ : fitting한 데이터 샘플들이속한 군집 정보"
   ]
  },
  {
   "cell_type": "code",
   "execution_count": 13,
   "id": "96856de3-11fa-4273-a49c-db6514de38f8",
   "metadata": {},
   "outputs": [
    {
     "data": {
      "text/plain": [
       "KMeans(n_clusters=2, random_state=42)"
      ]
     },
     "execution_count": 13,
     "metadata": {},
     "output_type": "execute_result"
    }
   ],
   "source": [
    "irisCluster.fit(data)"
   ]
  },
  {
   "cell_type": "code",
   "execution_count": 25,
   "id": "3ce4f0f5-a159-4f8a-a47d-966989b9c091",
   "metadata": {},
   "outputs": [
    {
     "name": "stdout",
     "output_type": "stream",
     "text": [
      "cluster_centers_ : [[6.61044776 2.96567164]\n",
      " [5.22409639 3.1313253 ]]\n",
      "labels_ : [1 1 1 1 1 1 1 1 1 1 1 1 1 1 1 1 1 1 1 1 1 1 1 1 1 1 1 1 1 1 1 1 1 1 1 1 1\n",
      " 1 1 1 1 1 1 1 1 1 1 1 1 1 0 0 0 1 0 1 0 1 0 1 1 1 0 0 1 0 1 1 0 1 1 0 0 0\n",
      " 0 0 0 0 0 1 1 1 1 0 1 0 0 0 1 1 1 0 1 1 1 1 1 0 1 1 0 1 0 0 0 0 1 0 0 0 0\n",
      " 0 0 1 1 0 0 0 0 0 0 1 0 0 0 0 0 0 0 0 0 0 0 0 0 0 0 0 0 0 0 0 1 0 0 0 0 0\n",
      " 0 1]\n",
      "labels_ Counts : (array([0, 1]), array([67, 83], dtype=int64))\n",
      "inertia_ : 58.20409278906673\n",
      "n_iter_ : 6\n"
     ]
    }
   ],
   "source": [
    "# Cluster 객체 속성 확인\n",
    "print(f'cluster_centers_ : {irisCluster.cluster_centers_}')\n",
    "print(f'labels_ : {irisCluster.labels_}')\n",
    "print(f'labels_ Counts : {np.unique(irisCluster.labels_, return_counts=True)}')\n",
    "print(f'inertia_ : {irisCluster.inertia_}')\n",
    "print(f'n_iter_ : {irisCluster.n_iter_}')\n",
    "\n",
    "# 1. n_clusters : 군집 갯수\n",
    "# 2. max_iter : 최대 이터레이션 횟수(최대 군집 시도횟수)\n",
    "# 3. fit(X) : 데이터 x에 대한 군집화 모델 학습\n",
    "# 4. fit_predict(X) : 데이터 x에 대한 군집화 모델 학습 및 라벨 반환\n",
    "# 5. labels_ : fitting한 데이터에 있는 샘플들이 속한 군집 정보\n",
    "# 6. cluster_centers_ : fitting한 데이터에 있는 샘플들이 속한 군집 중심점\n",
    "# 7. init : 최초의 중심점 설정('k-means++' 를 보통 사용한다.)"
   ]
  },
  {
   "cell_type": "code",
   "execution_count": 20,
   "id": "400b8015-30f4-44e9-a009-59e79f552465",
   "metadata": {},
   "outputs": [],
   "source": [
    "# 샘플데이터를 결정된 군집으로 변환\n",
    "transIris = irisCluster.transform(data)"
   ]
  },
  {
   "cell_type": "code",
   "execution_count": 26,
   "id": "87dd640d-72a8-40b3-8acf-889f235e755b",
   "metadata": {},
   "outputs": [
    {
     "data": {
      "text/html": [
       "<div>\n",
       "<style scoped>\n",
       "    .dataframe tbody tr th:only-of-type {\n",
       "        vertical-align: middle;\n",
       "    }\n",
       "\n",
       "    .dataframe tbody tr th {\n",
       "        vertical-align: top;\n",
       "    }\n",
       "\n",
       "    .dataframe thead th {\n",
       "        text-align: right;\n",
       "    }\n",
       "</style>\n",
       "<table border=\"1\" class=\"dataframe\">\n",
       "  <thead>\n",
       "    <tr style=\"text-align: right;\">\n",
       "      <th></th>\n",
       "      <th>0</th>\n",
       "      <th>1</th>\n",
       "      <th>군집소속</th>\n",
       "    </tr>\n",
       "  </thead>\n",
       "  <tbody>\n",
       "    <tr>\n",
       "      <th>0</th>\n",
       "      <td>1.602173</td>\n",
       "      <td>0.389000</td>\n",
       "      <td>1</td>\n",
       "    </tr>\n",
       "    <tr>\n",
       "      <th>1</th>\n",
       "      <td>1.710792</td>\n",
       "      <td>0.349692</td>\n",
       "      <td>1</td>\n",
       "    </tr>\n",
       "    <tr>\n",
       "      <th>2</th>\n",
       "      <td>1.924765</td>\n",
       "      <td>0.528577</td>\n",
       "      <td>1</td>\n",
       "    </tr>\n",
       "    <tr>\n",
       "      <th>3</th>\n",
       "      <td>2.014930</td>\n",
       "      <td>0.624882</td>\n",
       "      <td>1</td>\n",
       "    </tr>\n",
       "    <tr>\n",
       "      <th>4</th>\n",
       "      <td>1.730871</td>\n",
       "      <td>0.519495</td>\n",
       "      <td>1</td>\n",
       "    </tr>\n",
       "    <tr>\n",
       "      <th>...</th>\n",
       "      <td>...</td>\n",
       "      <td>...</td>\n",
       "      <td>...</td>\n",
       "    </tr>\n",
       "    <tr>\n",
       "      <th>145</th>\n",
       "      <td>0.095906</td>\n",
       "      <td>1.481735</td>\n",
       "      <td>0</td>\n",
       "    </tr>\n",
       "    <tr>\n",
       "      <th>146</th>\n",
       "      <td>0.559668</td>\n",
       "      <td>1.247453</td>\n",
       "      <td>0</td>\n",
       "    </tr>\n",
       "    <tr>\n",
       "      <th>147</th>\n",
       "      <td>0.115660</td>\n",
       "      <td>1.282644</td>\n",
       "      <td>0</td>\n",
       "    </tr>\n",
       "    <tr>\n",
       "      <th>148</th>\n",
       "      <td>0.597586</td>\n",
       "      <td>1.012212</td>\n",
       "      <td>0</td>\n",
       "    </tr>\n",
       "    <tr>\n",
       "      <th>149</th>\n",
       "      <td>0.711277</td>\n",
       "      <td>0.688543</td>\n",
       "      <td>1</td>\n",
       "    </tr>\n",
       "  </tbody>\n",
       "</table>\n",
       "<p>150 rows × 3 columns</p>\n",
       "</div>"
      ],
      "text/plain": [
       "            0         1  군집소속\n",
       "0    1.602173  0.389000     1\n",
       "1    1.710792  0.349692     1\n",
       "2    1.924765  0.528577     1\n",
       "3    2.014930  0.624882     1\n",
       "4    1.730871  0.519495     1\n",
       "..        ...       ...   ...\n",
       "145  0.095906  1.481735     0\n",
       "146  0.559668  1.247453     0\n",
       "147  0.115660  1.282644     0\n",
       "148  0.597586  1.012212     0\n",
       "149  0.711277  0.688543     1\n",
       "\n",
       "[150 rows x 3 columns]"
      ]
     },
     "execution_count": 26,
     "metadata": {},
     "output_type": "execute_result"
    }
   ],
   "source": [
    "df=pd.DataFrame(transIris)\n",
    "df['군집소속'] = irisCluster.labels_\n",
    "df"
   ]
  },
  {
   "cell_type": "markdown",
   "id": "b69bdd74-439a-4190-90c1-21c35a1a265b",
   "metadata": {},
   "source": [
    "## 시각화"
   ]
  },
  {
   "cell_type": "code",
   "execution_count": 17,
   "id": "e44b3319-d9c8-4a5f-8838-26baa1d820f2",
   "metadata": {},
   "outputs": [
    {
     "data": {
      "image/png": "[encoded data removed]",
      "text/plain": [
       "<Figure size 432x288 with 1 Axes>"
      ]
     },
     "metadata": {
      "needs_background": "light"
     },
     "output_type": "display_data"
    }
   ],
   "source": [
    "plt.scatter(data[:, 0], data[:, 1], color = 'skyblue')\n",
    "plt.plot(irisCluster.cluster_centers_[0][0], irisCluster.cluster_centers_[0][1], 'ro', label='c1')\n",
    "plt.plot(irisCluster.cluster_centers_[1][0], irisCluster.cluster_centers_[1][1], 'go', label='c2')\n",
    "plt.show()"
   ]
  },
  {
   "cell_type": "code",
   "execution_count": 36,
   "id": "c45afacd-1ea5-4a90-86ec-2edb004a2cd3",
   "metadata": {},
   "outputs": [
    {
     "data": {
      "image/png": "[encoded data removed]",
      "text/plain": [
       "<Figure size 432x288 with 1 Axes>"
      ]
     },
     "metadata": {
      "needs_background": "light"
     },
     "output_type": "display_data"
    }
   ],
   "source": [
    "plt.scatter(df[0], df[1], color = 'skyblue')\n",
    "plt.show()"
   ]
  },
  {
   "cell_type": "code",
   "execution_count": 38,
   "id": "b26651e9-1bd9-476b-a678-9b10546ad94a",
   "metadata": {},
   "outputs": [
    {
     "data": {
      "text/plain": [
       "0.4629549773635977"
      ]
     },
     "execution_count": 38,
     "metadata": {},
     "output_type": "execute_result"
    }
   ],
   "source": [
    "from sklearn.metrics import silhouette_score\n",
    "silhouette_score(data, irisCluster.labels_, metric='euclidean')"
   ]
  },
  {
   "cell_type": "markdown",
   "id": "891b8a9c-95d7-42fe-a78c-69d202f7b0f5",
   "metadata": {},
   "source": [
    "## 군집의 갯수 결정\n",
    "- 최적의 군집갯수를 구하는 단계이다.\n",
    "- 비계층군집의 경우 \"Elbow Method\" 혹은 \"silhouette_score(실루엣점수)\"를 통해 최적의 군집을 구할 수 있다.\n",
    "\n",
    "\n",
    "- 이너셔(inertia) 활용\n",
    "    - 클러스터 중심과 클러스터 속한 샘플 사이의 거리 제곱 합\n",
    "    - 클러스터에 속한 샘플이 얼마나 가깝게 모여 있는지 나타내는 값\n",
    "    - 클러스터 개수에 반비례\n",
    "\n",
    "    - 엘보우(Elbow) 방법\n",
    "        - 이너셔 사용하여 클러스터 개수를 증가시키며 이너셔 값 변화 체크\n",
    "        - 이너셔 값이 크게 줄지 않는 시점의 개수로 설정\n",
    "        \n",
    "    - 클러스터링 후속 작업\n",
    "        - 클러서터링 결과를 라벨(타켓)으로 지도학습 진행 => 정확도 확인\n",
    "        - 지도학습 결과 불만족 스러운 경우 다시 클러스터링 진행\n",
    "        \n",
    "\n",
    "    - 특징</br>\n",
    "     원형의 데이터셋의 군집에 적합</br>\n",
    "     군집의 중심에서 샘플과의 거리 측정하기 때문</br>\n",
    "     특성들의 스케일 전처리 필요</br>\n",
    "     미리 군집 개수 지정 해야 함\n"
   ]
  },
  {
   "cell_type": "code",
   "execution_count": 71,
   "id": "f0c89447-6160-4d86-9909-bd6cc32890c8",
   "metadata": {},
   "outputs": [
    {
     "name": "stderr",
     "output_type": "stream",
     "text": [
      "C:\\ProgramData\\Anaconda3\\lib\\site-packages\\sklearn\\cluster\\_kmeans.py:1036: UserWarning: KMeans is known to have a memory leak on Windows with MKL, when there are less chunks than available threads. You can avoid it by setting the environment variable OMP_NUM_THREADS=1.\n",
      "  warnings.warn(\n"
     ]
    },
    {
     "data": {
      "image/png": "[encoded data removed]",
      "text/plain": [
       "<Figure size 432x288 with 1 Axes>"
      ]
     },
     "metadata": {
      "needs_background": "light"
     },
     "output_type": "display_data"
    }
   ],
   "source": [
    "# Elbow Method\n",
    "from sklearn.cluster import KMeans\n",
    "\n",
    "sum_of_squared_distances = []\n",
    "K = range(1, 15)\n",
    "for k in K:\n",
    "    km = KMeans(n_clusters = k)\n",
    "    km = km.fit(data)\n",
    "    sum_of_squared_distances.append(km.inertia_)\n",
    "    \n",
    "# 시각화\n",
    "plt.plot(K, sum_of_squared_distances, 'bx-')\n",
    "plt.xlabel('k')\n",
    "plt.ylabel('Sum_of_squared_distances')\n",
    "plt.title('Elbow Method For Optimal k')\n",
    "plt.axvline(2,c= 'r',alpha =0.4)\n",
    "plt.axvline(3,c= 'r',alpha =0.4)\n",
    "plt.show()"
   ]
  },
  {
   "cell_type": "markdown",
   "id": "0b7d0729-78c1-4934-8ceb-49d26bbe8916",
   "metadata": {},
   "source": [
    "---\n",
    "## 군집화 이후 추가작업\n",
    "- 라벨과 데이터를 가지고 지도학습 분류로 성능 체크"
   ]
  },
  {
   "cell_type": "code",
   "execution_count": 39,
   "id": "73f6338c-d3a8-4380-9384-6a52211b7908",
   "metadata": {},
   "outputs": [],
   "source": [
    "from sklearn.linear_model import LogisticRegression"
   ]
  },
  {
   "cell_type": "code",
   "execution_count": 64,
   "id": "fce1ee6b-e745-436f-870a-f2c41e2d2970",
   "metadata": {},
   "outputs": [
    {
     "data": {
      "text/plain": [
       "((150, 1), (150, 2))"
      ]
     },
     "execution_count": 64,
     "metadata": {},
     "output_type": "execute_result"
    }
   ],
   "source": [
    "# 군집화로 생성된 데이터\n",
    "target=irisCluster.labels_.reshape(-1,1)\n",
    "target.shape, data.shape"
   ]
  },
  {
   "cell_type": "code",
   "execution_count": 65,
   "id": "dfedf8e1-e15a-4300-96de-41ed5c512a9d",
   "metadata": {},
   "outputs": [],
   "source": [
    "lrModel=LogisticRegression(random_state=11)"
   ]
  },
  {
   "cell_type": "code",
   "execution_count": 66,
   "id": "8c04e347-49e3-4036-bd60-fc53a2af4c5b",
   "metadata": {},
   "outputs": [
    {
     "data": {
      "text/plain": [
       "LogisticRegression(random_state=11)"
      ]
     },
     "execution_count": 66,
     "metadata": {},
     "output_type": "execute_result"
    }
   ],
   "source": [
    "lrModel.fit(data, irisCluster.labels_)"
   ]
  },
  {
   "cell_type": "code",
   "execution_count": 67,
   "id": "db8e8d21-5bde-4ed1-91d5-1c7b4d885f37",
   "metadata": {},
   "outputs": [],
   "source": [
    "predict_label=lrModel.predict(data)"
   ]
  },
  {
   "cell_type": "code",
   "execution_count": 68,
   "id": "5b1f2bc9-7703-4423-8685-b61f44975c15",
   "metadata": {},
   "outputs": [
    {
     "data": {
      "image/png": "[encoded data removed]",
      "text/plain": [
       "<Figure size 432x288 with 1 Axes>"
      ]
     },
     "metadata": {
      "needs_background": "light"
     },
     "output_type": "display_data"
    }
   ],
   "source": [
    "plt.plot(predict_label, 'r--')\n",
    "# plt.plot(irisCluster.labels_, 'b-')\n",
    "plt.axis([0, 150, 0, 3])\n",
    "plt.show()"
   ]
  },
  {
   "cell_type": "code",
   "execution_count": null,
   "id": "77f07502-2666-44c9-8228-c3d316a994db",
   "metadata": {},
   "outputs": [],
   "source": []
  },
  {
   "cell_type": "markdown",
   "id": "7e380ac6-757a-4b13-9367-7345b8dec98b",
   "metadata": {},
   "source": [
    "https://speedanddirection.tistory.com/82\n",
    "https://itstory1592.tistory.com/18"
   ]
  },
  {
   "cell_type": "code",
   "execution_count": null,
   "id": "bf29f6a7-50c4-4ad5-a643-0830e7c09a3a",
   "metadata": {},
   "outputs": [],
   "source": []
  }
 ],
 "metadata": {
  "kernelspec": {
   "display_name": "Python 3 (ipykernel)",
   "language": "python",
   "name": "python3"
  },
  "language_info": {
   "codemirror_mode": {
    "name": "ipython",
    "version": 3
   },
   "file_extension": ".py",
   "mimetype": "text/x-python",
   "name": "python",
   "nbconvert_exporter": "python",
   "pygments_lexer": "ipython3",
   "version": "3.9.12"
  }
 },
 "nbformat": 4,
 "nbformat_minor": 5
}
