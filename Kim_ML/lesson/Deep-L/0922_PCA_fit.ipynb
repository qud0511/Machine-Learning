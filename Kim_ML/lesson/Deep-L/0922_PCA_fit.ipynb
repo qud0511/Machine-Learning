{
 "cells": [
  {
   "cell_type": "code",
   "execution_count": 1,
   "id": "c1cc9c61-62f2-41f4-bf5f-b586edc9f8dd",
   "metadata": {},
   "outputs": [],
   "source": [
    "import pandas as pd\n",
    "import numpy as np\n",
    "import matplotlib.pyplot as plt\n",
    "import seaborn as sns\n",
    "from pandas.plotting import scatter_matrix\n",
    "\n",
    "import tensorflow as tf\n",
    "from keras.models import Sequential, Model, save_model, load_model\n",
    "from keras.applications import vgg16\n",
    "from keras.layers import Conv2D, MaxPooling2D, Dense, Dropout, Input, Flatten\n",
    "from keras.callbacks import ModelCheckpoint, Callback, EarlyStopping, ReduceLROnPlateau\n",
    "from keras.utils import to_categorical, plot_model, set_random_seed\n",
    "\n",
    "from sklearn.model_selection import train_test_split\n",
    "from sklearn.manifold import TSNE\n",
    "from sklearn.decomposition import PCA\n",
    "from sklearn.preprocessing import StandardScaler\n",
    "\n",
    "plt.rcParams['font.family'] = 'Malgun Gothic'"
   ]
  },
  {
   "cell_type": "code",
   "execution_count": 2,
   "id": "c51244f6-e918-417b-9c7d-e5d8f74ffb7a",
   "metadata": {},
   "outputs": [],
   "source": [
    "np.random.seed(42)\n",
    "tf.random.set_seed(42)\n",
    "set_random_seed(42)"
   ]
  },
  {
   "cell_type": "markdown",
   "id": "fa749e65-89eb-4314-9fad-c35ab452789c",
   "metadata": {},
   "source": [
    "## 데이터 불러오기, 전처리, 스케일링"
   ]
  },
  {
   "cell_type": "code",
   "execution_count": 3,
   "id": "44199ab4-a8e8-4e42-9092-d1253b33d37a",
   "metadata": {},
   "outputs": [
    {
     "data": {
      "text/html": [
       "<div>\n",
       "<style scoped>\n",
       "    .dataframe tbody tr th:only-of-type {\n",
       "        vertical-align: middle;\n",
       "    }\n",
       "\n",
       "    .dataframe tbody tr th {\n",
       "        vertical-align: top;\n",
       "    }\n",
       "\n",
       "    .dataframe thead th {\n",
       "        text-align: right;\n",
       "    }\n",
       "</style>\n",
       "<table border=\"1\" class=\"dataframe\">\n",
       "  <thead>\n",
       "    <tr style=\"text-align: right;\">\n",
       "      <th></th>\n",
       "      <th>LIMIT_BAL</th>\n",
       "      <th>SEX</th>\n",
       "      <th>EDUCATION</th>\n",
       "      <th>MARRIAGE</th>\n",
       "      <th>AGE</th>\n",
       "      <th>PAY_0</th>\n",
       "      <th>PAY_2</th>\n",
       "      <th>PAY_3</th>\n",
       "      <th>PAY_4</th>\n",
       "      <th>PAY_5</th>\n",
       "      <th>...</th>\n",
       "      <th>BILL_AMT3</th>\n",
       "      <th>BILL_AMT4</th>\n",
       "      <th>BILL_AMT5</th>\n",
       "      <th>BILL_AMT6</th>\n",
       "      <th>PAY_AMT1</th>\n",
       "      <th>PAY_AMT2</th>\n",
       "      <th>PAY_AMT3</th>\n",
       "      <th>PAY_AMT4</th>\n",
       "      <th>PAY_AMT5</th>\n",
       "      <th>PAY_AMT6</th>\n",
       "    </tr>\n",
       "    <tr>\n",
       "      <th>ID</th>\n",
       "      <th></th>\n",
       "      <th></th>\n",
       "      <th></th>\n",
       "      <th></th>\n",
       "      <th></th>\n",
       "      <th></th>\n",
       "      <th></th>\n",
       "      <th></th>\n",
       "      <th></th>\n",
       "      <th></th>\n",
       "      <th></th>\n",
       "      <th></th>\n",
       "      <th></th>\n",
       "      <th></th>\n",
       "      <th></th>\n",
       "      <th></th>\n",
       "      <th></th>\n",
       "      <th></th>\n",
       "      <th></th>\n",
       "      <th></th>\n",
       "      <th></th>\n",
       "    </tr>\n",
       "  </thead>\n",
       "  <tbody>\n",
       "    <tr>\n",
       "      <th>1</th>\n",
       "      <td>20000</td>\n",
       "      <td>2</td>\n",
       "      <td>2</td>\n",
       "      <td>1</td>\n",
       "      <td>24</td>\n",
       "      <td>2</td>\n",
       "      <td>2</td>\n",
       "      <td>-1</td>\n",
       "      <td>-1</td>\n",
       "      <td>-2</td>\n",
       "      <td>...</td>\n",
       "      <td>689</td>\n",
       "      <td>0</td>\n",
       "      <td>0</td>\n",
       "      <td>0</td>\n",
       "      <td>0</td>\n",
       "      <td>689</td>\n",
       "      <td>0</td>\n",
       "      <td>0</td>\n",
       "      <td>0</td>\n",
       "      <td>0</td>\n",
       "    </tr>\n",
       "    <tr>\n",
       "      <th>2</th>\n",
       "      <td>120000</td>\n",
       "      <td>2</td>\n",
       "      <td>2</td>\n",
       "      <td>2</td>\n",
       "      <td>26</td>\n",
       "      <td>-1</td>\n",
       "      <td>2</td>\n",
       "      <td>0</td>\n",
       "      <td>0</td>\n",
       "      <td>0</td>\n",
       "      <td>...</td>\n",
       "      <td>2682</td>\n",
       "      <td>3272</td>\n",
       "      <td>3455</td>\n",
       "      <td>3261</td>\n",
       "      <td>0</td>\n",
       "      <td>1000</td>\n",
       "      <td>1000</td>\n",
       "      <td>1000</td>\n",
       "      <td>0</td>\n",
       "      <td>2000</td>\n",
       "    </tr>\n",
       "    <tr>\n",
       "      <th>3</th>\n",
       "      <td>90000</td>\n",
       "      <td>2</td>\n",
       "      <td>2</td>\n",
       "      <td>2</td>\n",
       "      <td>34</td>\n",
       "      <td>0</td>\n",
       "      <td>0</td>\n",
       "      <td>0</td>\n",
       "      <td>0</td>\n",
       "      <td>0</td>\n",
       "      <td>...</td>\n",
       "      <td>13559</td>\n",
       "      <td>14331</td>\n",
       "      <td>14948</td>\n",
       "      <td>15549</td>\n",
       "      <td>1518</td>\n",
       "      <td>1500</td>\n",
       "      <td>1000</td>\n",
       "      <td>1000</td>\n",
       "      <td>1000</td>\n",
       "      <td>5000</td>\n",
       "    </tr>\n",
       "    <tr>\n",
       "      <th>4</th>\n",
       "      <td>50000</td>\n",
       "      <td>2</td>\n",
       "      <td>2</td>\n",
       "      <td>1</td>\n",
       "      <td>37</td>\n",
       "      <td>0</td>\n",
       "      <td>0</td>\n",
       "      <td>0</td>\n",
       "      <td>0</td>\n",
       "      <td>0</td>\n",
       "      <td>...</td>\n",
       "      <td>49291</td>\n",
       "      <td>28314</td>\n",
       "      <td>28959</td>\n",
       "      <td>29547</td>\n",
       "      <td>2000</td>\n",
       "      <td>2019</td>\n",
       "      <td>1200</td>\n",
       "      <td>1100</td>\n",
       "      <td>1069</td>\n",
       "      <td>1000</td>\n",
       "    </tr>\n",
       "    <tr>\n",
       "      <th>5</th>\n",
       "      <td>50000</td>\n",
       "      <td>1</td>\n",
       "      <td>2</td>\n",
       "      <td>1</td>\n",
       "      <td>57</td>\n",
       "      <td>-1</td>\n",
       "      <td>0</td>\n",
       "      <td>-1</td>\n",
       "      <td>0</td>\n",
       "      <td>0</td>\n",
       "      <td>...</td>\n",
       "      <td>35835</td>\n",
       "      <td>20940</td>\n",
       "      <td>19146</td>\n",
       "      <td>19131</td>\n",
       "      <td>2000</td>\n",
       "      <td>36681</td>\n",
       "      <td>10000</td>\n",
       "      <td>9000</td>\n",
       "      <td>689</td>\n",
       "      <td>679</td>\n",
       "    </tr>\n",
       "    <tr>\n",
       "      <th>...</th>\n",
       "      <td>...</td>\n",
       "      <td>...</td>\n",
       "      <td>...</td>\n",
       "      <td>...</td>\n",
       "      <td>...</td>\n",
       "      <td>...</td>\n",
       "      <td>...</td>\n",
       "      <td>...</td>\n",
       "      <td>...</td>\n",
       "      <td>...</td>\n",
       "      <td>...</td>\n",
       "      <td>...</td>\n",
       "      <td>...</td>\n",
       "      <td>...</td>\n",
       "      <td>...</td>\n",
       "      <td>...</td>\n",
       "      <td>...</td>\n",
       "      <td>...</td>\n",
       "      <td>...</td>\n",
       "      <td>...</td>\n",
       "      <td>...</td>\n",
       "    </tr>\n",
       "    <tr>\n",
       "      <th>29996</th>\n",
       "      <td>220000</td>\n",
       "      <td>1</td>\n",
       "      <td>3</td>\n",
       "      <td>1</td>\n",
       "      <td>39</td>\n",
       "      <td>0</td>\n",
       "      <td>0</td>\n",
       "      <td>0</td>\n",
       "      <td>0</td>\n",
       "      <td>0</td>\n",
       "      <td>...</td>\n",
       "      <td>208365</td>\n",
       "      <td>88004</td>\n",
       "      <td>31237</td>\n",
       "      <td>15980</td>\n",
       "      <td>8500</td>\n",
       "      <td>20000</td>\n",
       "      <td>5003</td>\n",
       "      <td>3047</td>\n",
       "      <td>5000</td>\n",
       "      <td>1000</td>\n",
       "    </tr>\n",
       "    <tr>\n",
       "      <th>29997</th>\n",
       "      <td>150000</td>\n",
       "      <td>1</td>\n",
       "      <td>3</td>\n",
       "      <td>2</td>\n",
       "      <td>43</td>\n",
       "      <td>-1</td>\n",
       "      <td>-1</td>\n",
       "      <td>-1</td>\n",
       "      <td>-1</td>\n",
       "      <td>0</td>\n",
       "      <td>...</td>\n",
       "      <td>3502</td>\n",
       "      <td>8979</td>\n",
       "      <td>5190</td>\n",
       "      <td>0</td>\n",
       "      <td>1837</td>\n",
       "      <td>3526</td>\n",
       "      <td>8998</td>\n",
       "      <td>129</td>\n",
       "      <td>0</td>\n",
       "      <td>0</td>\n",
       "    </tr>\n",
       "    <tr>\n",
       "      <th>29998</th>\n",
       "      <td>30000</td>\n",
       "      <td>1</td>\n",
       "      <td>2</td>\n",
       "      <td>2</td>\n",
       "      <td>37</td>\n",
       "      <td>4</td>\n",
       "      <td>3</td>\n",
       "      <td>2</td>\n",
       "      <td>-1</td>\n",
       "      <td>0</td>\n",
       "      <td>...</td>\n",
       "      <td>2758</td>\n",
       "      <td>20878</td>\n",
       "      <td>20582</td>\n",
       "      <td>19357</td>\n",
       "      <td>0</td>\n",
       "      <td>0</td>\n",
       "      <td>22000</td>\n",
       "      <td>4200</td>\n",
       "      <td>2000</td>\n",
       "      <td>3100</td>\n",
       "    </tr>\n",
       "    <tr>\n",
       "      <th>29999</th>\n",
       "      <td>80000</td>\n",
       "      <td>1</td>\n",
       "      <td>3</td>\n",
       "      <td>1</td>\n",
       "      <td>41</td>\n",
       "      <td>1</td>\n",
       "      <td>-1</td>\n",
       "      <td>0</td>\n",
       "      <td>0</td>\n",
       "      <td>0</td>\n",
       "      <td>...</td>\n",
       "      <td>76304</td>\n",
       "      <td>52774</td>\n",
       "      <td>11855</td>\n",
       "      <td>48944</td>\n",
       "      <td>85900</td>\n",
       "      <td>3409</td>\n",
       "      <td>1178</td>\n",
       "      <td>1926</td>\n",
       "      <td>52964</td>\n",
       "      <td>1804</td>\n",
       "    </tr>\n",
       "    <tr>\n",
       "      <th>30000</th>\n",
       "      <td>50000</td>\n",
       "      <td>1</td>\n",
       "      <td>2</td>\n",
       "      <td>1</td>\n",
       "      <td>46</td>\n",
       "      <td>0</td>\n",
       "      <td>0</td>\n",
       "      <td>0</td>\n",
       "      <td>0</td>\n",
       "      <td>0</td>\n",
       "      <td>...</td>\n",
       "      <td>49764</td>\n",
       "      <td>36535</td>\n",
       "      <td>32428</td>\n",
       "      <td>15313</td>\n",
       "      <td>2078</td>\n",
       "      <td>1800</td>\n",
       "      <td>1430</td>\n",
       "      <td>1000</td>\n",
       "      <td>1000</td>\n",
       "      <td>1000</td>\n",
       "    </tr>\n",
       "  </tbody>\n",
       "</table>\n",
       "<p>30000 rows × 23 columns</p>\n",
       "</div>"
      ],
      "text/plain": [
       "       LIMIT_BAL  SEX  EDUCATION  MARRIAGE  AGE  PAY_0  PAY_2  PAY_3  PAY_4  \\\n",
       "ID                                                                            \n",
       "1          20000    2          2         1   24      2      2     -1     -1   \n",
       "2         120000    2          2         2   26     -1      2      0      0   \n",
       "3          90000    2          2         2   34      0      0      0      0   \n",
       "4          50000    2          2         1   37      0      0      0      0   \n",
       "5          50000    1          2         1   57     -1      0     -1      0   \n",
       "...          ...  ...        ...       ...  ...    ...    ...    ...    ...   \n",
       "29996     220000    1          3         1   39      0      0      0      0   \n",
       "29997     150000    1          3         2   43     -1     -1     -1     -1   \n",
       "29998      30000    1          2         2   37      4      3      2     -1   \n",
       "29999      80000    1          3         1   41      1     -1      0      0   \n",
       "30000      50000    1          2         1   46      0      0      0      0   \n",
       "\n",
       "       PAY_5  ...  BILL_AMT3  BILL_AMT4  BILL_AMT5  BILL_AMT6  PAY_AMT1  \\\n",
       "ID            ...                                                         \n",
       "1         -2  ...        689          0          0          0         0   \n",
       "2          0  ...       2682       3272       3455       3261         0   \n",
       "3          0  ...      13559      14331      14948      15549      1518   \n",
       "4          0  ...      49291      28314      28959      29547      2000   \n",
       "5          0  ...      35835      20940      19146      19131      2000   \n",
       "...      ...  ...        ...        ...        ...        ...       ...   \n",
       "29996      0  ...     208365      88004      31237      15980      8500   \n",
       "29997      0  ...       3502       8979       5190          0      1837   \n",
       "29998      0  ...       2758      20878      20582      19357         0   \n",
       "29999      0  ...      76304      52774      11855      48944     85900   \n",
       "30000      0  ...      49764      36535      32428      15313      2078   \n",
       "\n",
       "       PAY_AMT2  PAY_AMT3  PAY_AMT4  PAY_AMT5  PAY_AMT6  \n",
       "ID                                                       \n",
       "1           689         0         0         0         0  \n",
       "2          1000      1000      1000         0      2000  \n",
       "3          1500      1000      1000      1000      5000  \n",
       "4          2019      1200      1100      1069      1000  \n",
       "5         36681     10000      9000       689       679  \n",
       "...         ...       ...       ...       ...       ...  \n",
       "29996     20000      5003      3047      5000      1000  \n",
       "29997      3526      8998       129         0         0  \n",
       "29998         0     22000      4200      2000      3100  \n",
       "29999      3409      1178      1926     52964      1804  \n",
       "30000      1800      1430      1000      1000      1000  \n",
       "\n",
       "[30000 rows x 23 columns]"
      ]
     },
     "execution_count": 3,
     "metadata": {},
     "output_type": "execute_result"
    }
   ],
   "source": [
    "df=pd.read_excel('default of credit card clients.xls', index_col=0, header=1)\n",
    "x=df.iloc[:, :-1]\n",
    "y=df.iloc[:, -1]\n",
    "x"
   ]
  },
  {
   "cell_type": "code",
   "execution_count": 4,
   "id": "819fc840-a8c2-4e87-8a3a-1db13bd4fd59",
   "metadata": {},
   "outputs": [
    {
     "data": {
      "text/plain": [
       "((30000, 23), (30000,))"
      ]
     },
     "execution_count": 4,
     "metadata": {},
     "output_type": "execute_result"
    }
   ],
   "source": [
    "x.shape, y.shape"
   ]
  },
  {
   "cell_type": "code",
   "execution_count": 5,
   "id": "91268184-52f2-47f1-bcbf-c586efcf3c90",
   "metadata": {},
   "outputs": [],
   "source": [
    "scaler = StandardScaler()\n",
    "x_scaled=scaler.fit_transform(x)"
   ]
  },
  {
   "cell_type": "markdown",
   "id": "ddd03621-8696-47a9-a479-7e86091f0507",
   "metadata": {},
   "source": [
    "---\n",
    "## PCA"
   ]
  },
  {
   "cell_type": "code",
   "execution_count": 6,
   "id": "6e761d6c-3960-4622-92bf-e9b075118a1d",
   "metadata": {},
   "outputs": [
    {
     "data": {
      "text/plain": [
       "PCA()"
      ]
     },
     "execution_count": 6,
     "metadata": {},
     "output_type": "execute_result"
    }
   ],
   "source": [
    "pca = PCA()\n",
    "pca.fit(x_scaled)"
   ]
  },
  {
   "cell_type": "code",
   "execution_count": 7,
   "id": "d4b89d53-86c2-4c63-b136-f5976c6cf08b",
   "metadata": {},
   "outputs": [
    {
     "data": {
      "text/plain": [
       "array([443.04929774, 350.6420357 , 215.70539822, 210.16175361,\n",
       "       175.37713289, 169.45792011, 165.00799458, 163.18238146,\n",
       "       161.67090383, 153.25759279, 148.26882983, 143.12454352,\n",
       "       130.87573497, 125.42606134, 110.04188243,  88.29841154,\n",
       "        86.45145711,  75.23782289,  62.87756995,  45.87669015,\n",
       "        34.97910792,  27.54735755,  26.39274393])"
      ]
     },
     "execution_count": 7,
     "metadata": {},
     "output_type": "execute_result"
    }
   ],
   "source": [
    "# 주성분 행렬\n",
    "pca.singular_values_"
   ]
  },
  {
   "cell_type": "code",
   "execution_count": 8,
   "id": "32dc307f-2e7f-467b-8513-6affce44e96e",
   "metadata": {},
   "outputs": [
    {
     "data": {
      "text/plain": [
       "array([0.28448215, 0.17818817, 0.06743307, 0.06401154, 0.04457556,\n",
       "       0.04161737, 0.03946035, 0.03859201, 0.03788041, 0.03404042,\n",
       "       0.03186036, 0.02968788, 0.02482385, 0.02279956, 0.01754959,\n",
       "       0.01129943, 0.01083167, 0.00820396, 0.00572984, 0.00305025,\n",
       "       0.00177324, 0.00109979, 0.00100953])"
      ]
     },
     "execution_count": 8,
     "metadata": {},
     "output_type": "execute_result"
    }
   ],
   "source": [
    "# 주성분에 투영 후 분산 비율 정도 설명\n",
    "pca.explained_variance_ratio_"
   ]
  },
  {
   "cell_type": "markdown",
   "id": "c5ad3eac-4eb6-4876-b311-5087bb5af481",
   "metadata": {},
   "source": [
    "### **주성분 갯수 지정**\n",
    "---  \n",
    "- 방법 1) pca.explained_variance_ratio_의 누적값에서 원하는 분포정도 지정해서 PC 갯수 계산\n",
    "- 방법 2) n_components = 0.0 ~ 1.0 : 주성분 투영된 데이터 분포 정도 지정하면 PC 갯수 자동 계산"
   ]
  },
  {
   "cell_type": "code",
   "execution_count": 9,
   "id": "378d733e-7a85-4658-ac3c-0489e1838c2f",
   "metadata": {},
   "outputs": [
    {
     "name": "stdout",
     "output_type": "stream",
     "text": [
      "주성분 갯수(차원) : 15\n"
     ]
    }
   ],
   "source": [
    "cumsum = np.cumsum(pca.explained_variance_ratio_)\n",
    "# 누적값이 0.95가 필요한 경우\n",
    "d = np.argmax(cumsum >=0.95) + 1\n",
    "print((f'주성분 갯수(차원) : {d}'))"
   ]
  },
  {
   "cell_type": "code",
   "execution_count": 10,
   "id": "0ab74533-cae1-4ee4-aab9-1684c7e26c25",
   "metadata": {},
   "outputs": [],
   "source": [
    "# 지정된 PC 갯수로 주성분 데이터 압축/융합\n",
    "pca2=PCA(n_components=d)\n",
    "x_pca2=pca2.fit_transform(x_scaled)"
   ]
  },
  {
   "cell_type": "code",
   "execution_count": 11,
   "id": "66cf0ac7-7b19-462d-97e0-8b22a0327ac0",
   "metadata": {},
   "outputs": [],
   "source": [
    "# PCA한 후 x_train, x_test, y_train, y_test\n",
    "x_train, x_test, y_train, y_test = train_test_split(x_pca2, y, stratify=y, random_state=42, test_size=0.2)\n",
    "\n",
    "# x_train, x_val, y_train, y_val\n",
    "x_train, x_val, y_train, y_val = train_test_split(x_train, y_train, random_state=42, test_size=0.2)"
   ]
  },
  {
   "cell_type": "code",
   "execution_count": 12,
   "id": "b59fe473-d509-4f7e-9dd9-9bd8a52670a3",
   "metadata": {},
   "outputs": [
    {
     "data": {
      "image/png": "[encoded data removed]",
      "text/plain": [
       "<Figure size 432x288 with 1 Axes>"
      ]
     },
     "metadata": {
      "needs_background": "light"
     },
     "output_type": "display_data"
    }
   ],
   "source": [
    "# 주성분과 데이터 투영 분산 정도 시각화\n",
    "plt.plot(cumsum)\n",
    "plt.plot(d, 0.95, 'ro')\n",
    "plt.plot([15, 15], [0, 0.95], 'b--')\n",
    "plt.xlabel(\"Dimention\")\n",
    "plt.ylabel(\"Explained Variance\")\n",
    "plt.show()"
   ]
  },
  {
   "cell_type": "markdown",
   "id": "775b6535-4019-42de-bca3-90b97626bc37",
   "metadata": {},
   "source": [
    "---\n",
    "## 모델 구성"
   ]
  },
  {
   "cell_type": "code",
   "execution_count": 38,
   "id": "3d27fd56-d7c1-44bc-87fd-d4b3b3b9f64f",
   "metadata": {},
   "outputs": [],
   "source": [
    "model=Sequential()"
   ]
  },
  {
   "cell_type": "code",
   "execution_count": 39,
   "id": "2e04dea9-fbe1-4c41-8597-ed588d010926",
   "metadata": {},
   "outputs": [],
   "source": [
    "model.add(Dense(256, activation='relu', input_shape=(15,)))\n",
    "model.add(Dense(128, activation='relu'))\n",
    "model.add(Dropout(0.3))\n",
    "model.add(Dense(64, activation='relu'))\n",
    "model.add(Dropout(0.3))\n",
    "model.add(Dense(1, activation='sigmoid'))"
   ]
  },
  {
   "cell_type": "code",
   "execution_count": 40,
   "id": "fbdc6dc0-2d50-431e-a1a2-f9aa151a0bdf",
   "metadata": {},
   "outputs": [
    {
     "name": "stdout",
     "output_type": "stream",
     "text": [
      "Model: \"sequential_2\"\n",
      "_________________________________________________________________\n",
      " Layer (type)                Output Shape              Param #   \n",
      "=================================================================\n",
      " dense_11 (Dense)            (None, 256)               4096      \n",
      "                                                                 \n",
      " dense_12 (Dense)            (None, 128)               32896     \n",
      "                                                                 \n",
      " dropout_2 (Dropout)         (None, 128)               0         \n",
      "                                                                 \n",
      " dense_13 (Dense)            (None, 64)                8256      \n",
      "                                                                 \n",
      " dropout_3 (Dropout)         (None, 64)                0         \n",
      "                                                                 \n",
      " dense_14 (Dense)            (None, 1)                 65        \n",
      "                                                                 \n",
      "=================================================================\n",
      "Total params: 45,313\n",
      "Trainable params: 45,313\n",
      "Non-trainable params: 0\n",
      "_________________________________________________________________\n"
     ]
    }
   ],
   "source": [
    "model.summary()"
   ]
  },
  {
   "cell_type": "code",
   "execution_count": 41,
   "id": "e168206e-2d01-41be-bd07-0058d971021d",
   "metadata": {},
   "outputs": [
    {
     "data": {
      "image/png": "[encoded data removed]",
      "text/plain": [
       "<IPython.core.display.Image object>"
      ]
     },
     "execution_count": 41,
     "metadata": {},
     "output_type": "execute_result"
    }
   ],
   "source": [
    "plot_model(model)"
   ]
  },
  {
   "cell_type": "markdown",
   "id": "2776861f-2dbb-44f7-bc51-2e0e64e83cf7",
   "metadata": {},
   "source": [
    "---\n",
    "## 모델 생성"
   ]
  },
  {
   "cell_type": "code",
   "execution_count": 42,
   "id": "fe91718b-2253-4fd9-bb16-513b9caf65d7",
   "metadata": {},
   "outputs": [],
   "source": [
    "model.compile(loss='binary_crossentropy',\n",
    "             optimizer='adam',\n",
    "             metrics=['accuracy'])"
   ]
  },
  {
   "cell_type": "code",
   "execution_count": 43,
   "id": "ad759365-4215-4f96-8ada-c798c81b36db",
   "metadata": {},
   "outputs": [
    {
     "data": {
      "text/plain": [
       "((30000, 15), (30000,))"
      ]
     },
     "execution_count": 43,
     "metadata": {},
     "output_type": "execute_result"
    }
   ],
   "source": [
    "x_pca2.shape, y.shape"
   ]
  },
  {
   "cell_type": "markdown",
   "id": "c705f0ca-7a3c-47a5-977a-2384d3b90ea1",
   "metadata": {},
   "source": [
    "## 모델 학습"
   ]
  },
  {
   "cell_type": "code",
   "execution_count": 44,
   "id": "015e85fd-e3d3-484c-9bc5-0bdb3d597b28",
   "metadata": {},
   "outputs": [],
   "source": [
    "EarlyStop = EarlyStopping(patience=10) # 몇 번동안 변화가 없으면 멈춤\n",
    "# callbacks=[EarlyStop] # model.fit(callbacks=[EarlyStop] 리스트로 담기)"
   ]
  },
  {
   "cell_type": "code",
   "execution_count": 45,
   "id": "4edd83e3-9b49-4cc9-ad9f-ef5e9f3ce48a",
   "metadata": {},
   "outputs": [
    {
     "name": "stdout",
     "output_type": "stream",
     "text": [
      "Epoch 1/100\n",
      "300/300 [==============================] - 1s 3ms/step - loss: 0.4765 - accuracy: 0.8053 - val_loss: 0.4538 - val_accuracy: 0.8123\n",
      "Epoch 2/100\n",
      "300/300 [==============================] - 1s 2ms/step - loss: 0.4464 - accuracy: 0.8180 - val_loss: 0.4508 - val_accuracy: 0.8144\n",
      "Epoch 3/100\n",
      "300/300 [==============================] - 1s 2ms/step - loss: 0.4409 - accuracy: 0.8184 - val_loss: 0.4442 - val_accuracy: 0.8135\n",
      "Epoch 4/100\n",
      "300/300 [==============================] - 1s 2ms/step - loss: 0.4364 - accuracy: 0.8192 - val_loss: 0.4459 - val_accuracy: 0.8115\n",
      "Epoch 5/100\n",
      "300/300 [==============================] - 1s 2ms/step - loss: 0.4331 - accuracy: 0.8206 - val_loss: 0.4469 - val_accuracy: 0.8125\n",
      "Epoch 6/100\n",
      "300/300 [==============================] - 1s 2ms/step - loss: 0.4324 - accuracy: 0.8191 - val_loss: 0.4449 - val_accuracy: 0.8144\n",
      "Epoch 7/100\n",
      "300/300 [==============================] - 1s 3ms/step - loss: 0.4307 - accuracy: 0.8205 - val_loss: 0.4436 - val_accuracy: 0.8125\n",
      "Epoch 8/100\n",
      "300/300 [==============================] - 1s 2ms/step - loss: 0.4277 - accuracy: 0.8216 - val_loss: 0.4475 - val_accuracy: 0.8127\n",
      "Epoch 9/100\n",
      "300/300 [==============================] - 1s 2ms/step - loss: 0.4278 - accuracy: 0.8210 - val_loss: 0.4438 - val_accuracy: 0.8129\n",
      "Epoch 10/100\n",
      "300/300 [==============================] - 1s 2ms/step - loss: 0.4256 - accuracy: 0.8224 - val_loss: 0.4429 - val_accuracy: 0.8142\n",
      "Epoch 11/100\n",
      "300/300 [==============================] - 1s 2ms/step - loss: 0.4236 - accuracy: 0.8227 - val_loss: 0.4526 - val_accuracy: 0.8144\n",
      "Epoch 12/100\n",
      "300/300 [==============================] - 1s 2ms/step - loss: 0.4217 - accuracy: 0.8241 - val_loss: 0.4428 - val_accuracy: 0.8131\n",
      "Epoch 13/100\n",
      "300/300 [==============================] - 1s 2ms/step - loss: 0.4212 - accuracy: 0.8238 - val_loss: 0.4463 - val_accuracy: 0.8152\n",
      "Epoch 14/100\n",
      "300/300 [==============================] - 1s 2ms/step - loss: 0.4191 - accuracy: 0.8237 - val_loss: 0.4497 - val_accuracy: 0.8140\n",
      "Epoch 15/100\n",
      "300/300 [==============================] - 1s 2ms/step - loss: 0.4197 - accuracy: 0.8230 - val_loss: 0.4481 - val_accuracy: 0.8110\n",
      "Epoch 16/100\n",
      "300/300 [==============================] - 1s 2ms/step - loss: 0.4183 - accuracy: 0.8248 - val_loss: 0.4474 - val_accuracy: 0.8154\n",
      "Epoch 17/100\n",
      "300/300 [==============================] - 1s 2ms/step - loss: 0.4158 - accuracy: 0.8254 - val_loss: 0.4504 - val_accuracy: 0.8098\n",
      "Epoch 18/100\n",
      "300/300 [==============================] - 1s 2ms/step - loss: 0.4152 - accuracy: 0.8251 - val_loss: 0.4486 - val_accuracy: 0.8125\n",
      "Epoch 19/100\n",
      "300/300 [==============================] - 1s 2ms/step - loss: 0.4151 - accuracy: 0.8247 - val_loss: 0.4473 - val_accuracy: 0.8156\n",
      "Epoch 20/100\n",
      "300/300 [==============================] - 1s 2ms/step - loss: 0.4140 - accuracy: 0.8264 - val_loss: 0.4490 - val_accuracy: 0.8150\n",
      "Epoch 21/100\n",
      "300/300 [==============================] - 1s 2ms/step - loss: 0.4111 - accuracy: 0.8277 - val_loss: 0.4524 - val_accuracy: 0.8096\n",
      "Epoch 22/100\n",
      "300/300 [==============================] - 1s 2ms/step - loss: 0.4098 - accuracy: 0.8278 - val_loss: 0.4523 - val_accuracy: 0.8138\n"
     ]
    }
   ],
   "source": [
    "result = model.fit(x_train, y_train, batch_size=64,\n",
    "                  epochs=100, validation_data=(x_val, y_val), callbacks=[EarlyStop])"
   ]
  },
  {
   "cell_type": "code",
   "execution_count": 46,
   "id": "188fc810-ad20-47a1-80b3-7217b1df5f5e",
   "metadata": {},
   "outputs": [
    {
     "name": "stdout",
     "output_type": "stream",
     "text": [
      "600/600 [==============================] - 1s 1ms/step - loss: 0.3942 - accuracy: 0.8327\n"
     ]
    },
    {
     "data": {
      "text/plain": [
       "[0.3942181169986725, 0.8326562643051147]"
      ]
     },
     "execution_count": 46,
     "metadata": {},
     "output_type": "execute_result"
    }
   ],
   "source": [
    "model.evaluate(x_train, y_train)"
   ]
  },
  {
   "cell_type": "code",
   "execution_count": 47,
   "id": "39ff8ac8-3848-4861-a28e-f3d6937053e0",
   "metadata": {},
   "outputs": [
    {
     "name": "stdout",
     "output_type": "stream",
     "text": [
      "188/188 [==============================] - 0s 1ms/step - loss: 0.4432 - accuracy: 0.8145\n"
     ]
    },
    {
     "data": {
      "text/plain": [
       "[0.443185955286026, 0.8144999742507935]"
      ]
     },
     "execution_count": 47,
     "metadata": {},
     "output_type": "execute_result"
    }
   ],
   "source": [
    "model.evaluate(x_test, y_test)"
   ]
  },
  {
   "cell_type": "code",
   "execution_count": 48,
   "id": "b3d248cd-953a-4bb9-a494-2979af483d77",
   "metadata": {},
   "outputs": [
    {
     "data": {
      "image/png": "[encoded data removed]",
      "text/plain": [
       "<Figure size 1440x576 with 2 Axes>"
      ]
     },
     "metadata": {
      "needs_background": "light"
     },
     "output_type": "display_data"
    }
   ],
   "source": [
    "def plot_accuracy_and_loss(train_model):\n",
    "    hist = train_model.history\n",
    "    acc = hist['accuracy']\n",
    "    val_acc = hist['val_accuracy']\n",
    "    loss = hist['loss']\n",
    "    val_loss = hist['val_loss']\n",
    "    epochs = range(len(acc))\n",
    "    f, ax = plt.subplots(1,2, figsize=(20, 8))\n",
    "    ax[0].plot(epochs, acc, 'g', label='Training accuracy')\n",
    "    ax[0].plot(epochs, val_acc, 'r', label='Validation accuracy')\n",
    "    ax[0].set_title('Training and validation accuracy')\n",
    "    ax[0].legend(fontsize=10)\n",
    "    ax[1].plot(epochs, loss, 'g', label='Training loss')\n",
    "    ax[1].plot(epochs, val_loss, 'r', label='Validation loss')\n",
    "    ax[1].set_title('Training and validation loss')\n",
    "    ax[1].legend()\n",
    "    plt.show()\n",
    "plot_accuracy_and_loss(result)"
   ]
  },
  {
   "cell_type": "code",
   "execution_count": null,
   "id": "4f2b7661-bead-4e6a-bb48-7e5566d7d255",
   "metadata": {},
   "outputs": [],
   "source": []
  },
  {
   "cell_type": "code",
   "execution_count": null,
   "id": "51e05796-f45d-41ed-8f5e-74dd7c78ade6",
   "metadata": {},
   "outputs": [],
   "source": []
  },
  {
   "cell_type": "code",
   "execution_count": null,
   "id": "79691716-3ec5-4c55-84d4-4f16db2242bb",
   "metadata": {},
   "outputs": [],
   "source": []
  }
 ],
 "metadata": {
  "kernelspec": {
   "display_name": "Python 3 (ipykernel)",
   "language": "python",
   "name": "python3"
  },
  "language_info": {
   "codemirror_mode": {
    "name": "ipython",
    "version": 3
   },
   "file_extension": ".py",
   "mimetype": "text/x-python",
   "name": "python",
   "nbconvert_exporter": "python",
   "pygments_lexer": "ipython3",
   "version": "3.9.12"
  }
 },
 "nbformat": 4,
 "nbformat_minor": 5
}
