{
 "cells": [
  {
   "cell_type": "code",
   "execution_count": 27,
   "id": "11dec86b-2554-43e1-b1a6-5e8ea9de3f78",
   "metadata": {},
   "outputs": [],
   "source": [
    "import pandas as pd\n",
    "import numpy as np\n",
    "import matplotlib.pyplot as plt\n",
    "import seaborn as sns\n",
    "from pandas.plotting import scatter_matrix\n",
    "\n",
    "import tensorflow as tf\n",
    "from keras.models import Sequential, Model, save_model, load_model\n",
    "from keras.layers import Conv2D, MaxPooling2D, Dense, Dropout, Input, Flatten\n",
    "from keras.callbacks import ModelCheckpoint, Callback, EarlyStopping\n",
    "from keras.utils import plot_model, set_random_seed\n",
    "\n",
    "from sklearn.model_selection import train_test_split\n",
    "from sklearn.preprocessing import StandardScaler\n",
    "\n",
    "from sklearn.datasets import load_iris\n",
    "from sklearn.cluster import DBSCAN\n",
    "\n",
    "plt.rcParams['font.family'] = 'Malgun Gothic'"
   ]
  },
  {
   "cell_type": "code",
   "execution_count": 6,
   "id": "36f2a07c-4836-489e-b267-c6f543036d52",
   "metadata": {},
   "outputs": [],
   "source": [
    "np.random.seed(42)\n",
    "tf.random.set_seed(42)\n",
    "set_random_seed(42)"
   ]
  },
  {
   "cell_type": "markdown",
   "id": "0848aaf2-07dc-4d2d-bc4e-6101b512808b",
   "metadata": {},
   "source": [
    "# 비원형 데이터의 군집화 - DBSCAN\n",
    "- 분할적 군집화 방식\n",
    "- 밀도(데이터의 밀집)기반 군집화 ==> 미리 군집 수를 지정할 필요 없음.\n",
    "- 다양한 형태의 데이터에서 군집화 가능함.\n",
    "- 이상치 데이터 제거도 가능함.\n",
    "- 군집을 정하는 기준\n",
    "    - 임의의 점(Point)에서 지정된 거리만큼 영역안에 지정된 데이터 수 존재 여부\n",
    "    - 하이퍼파라미터 => 거리, 데이터 수"
   ]
  },
  {
   "cell_type": "markdown",
   "id": "63aa0e64-4fad-4618-8de5-497b7e7bf752",
   "metadata": {},
   "source": [
    "## [1] 데이터 로딩"
   ]
  },
  {
   "cell_type": "code",
   "execution_count": 14,
   "id": "2c17b5ed-5f2f-4948-9824-9385c4ffe99f",
   "metadata": {},
   "outputs": [],
   "source": [
    "iris=load_iris()"
   ]
  },
  {
   "cell_type": "code",
   "execution_count": 34,
   "id": "b2927fda-3e4e-4560-98c5-c9909549989a",
   "metadata": {},
   "outputs": [
    {
     "data": {
      "text/plain": [
       "((150, 4),\n",
       " numpy.ndarray,\n",
       " (150,),\n",
       " numpy.ndarray,\n",
       " ['sepal length (cm)',\n",
       "  'sepal width (cm)',\n",
       "  'petal length (cm)',\n",
       "  'petal width (cm)'],\n",
       " array(['setosa', 'versicolor', 'virginica'], dtype='<U10'))"
      ]
     },
     "execution_count": 34,
     "metadata": {},
     "output_type": "execute_result"
    }
   ],
   "source": [
    "data = iris.data\n",
    "target = iris.target\n",
    "data.shape, type(data), target.shape, type(target), iris.feature_names, iris.target_names"
   ]
  },
  {
   "cell_type": "code",
   "execution_count": 35,
   "id": "4bff1ba5-285e-4972-855f-36c8cdc9f009",
   "metadata": {},
   "outputs": [
    {
     "data": {
      "text/plain": [
       "(pandas.core.frame.DataFrame, pandas.core.series.Series)"
      ]
     },
     "execution_count": 35,
     "metadata": {},
     "output_type": "execute_result"
    }
   ],
   "source": [
    "## DataFrame 형태로 데이터 로딩\n",
    "X, y = load_iris(return_X_y=True, as_frame=True)\n",
    "type(X), type(y)"
   ]
  },
  {
   "cell_type": "markdown",
   "id": "f3b3a4c5-2baa-458e-9316-a48551c3c2ce",
   "metadata": {},
   "source": [
    "## [2] 데이터 전처리"
   ]
  },
  {
   "cell_type": "code",
   "execution_count": 37,
   "id": "2e1c8b9a-31be-4fb8-ab34-1723eb3c72db",
   "metadata": {},
   "outputs": [
    {
     "data": {
      "text/plain": [
       "((150, 4), pandas.core.frame.DataFrame, (150,), pandas.core.series.Series)"
      ]
     },
     "execution_count": 37,
     "metadata": {},
     "output_type": "execute_result"
    }
   ],
   "source": [
    "# 스케일링\n",
    "scaler=StandardScaler()\n",
    "X_scaled = scaler.fit_transform(X)\n",
    "X.shape, type(X), y.shape, type(y)"
   ]
  },
  {
   "cell_type": "markdown",
   "id": "ba78e0c2-561a-4ee6-afe3-dbb946b28f64",
   "metadata": {},
   "source": [
    "## [3] 군집화"
   ]
  },
  {
   "cell_type": "code",
   "execution_count": 72,
   "id": "1534fa6c-e5ae-4507-8c48-f60dc710108b",
   "metadata": {},
   "outputs": [],
   "source": [
    "# 군집화 객체 생성\n",
    "dbscan=DBSCAN(eps=0.6, min_samples=10, metric='euclidean')"
   ]
  },
  {
   "cell_type": "code",
   "execution_count": 73,
   "id": "51716521-146e-4ee8-98eb-40e183458bf4",
   "metadata": {},
   "outputs": [],
   "source": [
    "# iris 데이터를 분류\n",
    "irisDBS=dbscan.fit(X_scaled)"
   ]
  },
  {
   "cell_type": "code",
   "execution_count": 80,
   "id": "4654070d-d08a-4042-ab11-9f010d6d9d11",
   "metadata": {},
   "outputs": [
    {
     "data": {
      "text/plain": [
       "array([ 0,  0,  0,  0,  0,  0,  0,  0,  0,  0,  0,  0,  0,  0,  0,  0,  0,\n",
       "        0,  0,  0,  0,  0,  0,  0,  0,  0,  0,  0,  0,  0,  0,  0,  0,  0,\n",
       "        0,  0,  0,  0,  0,  0,  0, -1,  0,  0,  0,  0,  0,  0,  0,  0,  1,\n",
       "        1,  1,  1,  1,  1,  1, -1,  1,  1, -1,  1,  1,  1,  1,  1,  1,  1,\n",
       "        1,  1,  1,  1,  1,  1,  1,  1,  1,  1,  1,  1,  1,  1,  1,  1,  1,\n",
       "        1,  1,  1,  1,  1,  1,  1,  1, -1,  1,  1,  1,  1, -1,  1,  1,  1,\n",
       "        1,  1,  1, -1, -1,  1,  1, -1,  1,  1,  1,  1,  1,  1,  1, -1, -1,\n",
       "        1,  1,  1, -1,  1,  1,  1,  1,  1,  1,  1,  1, -1,  1,  1,  1, -1,\n",
       "        1,  1,  1,  1,  1,  1,  1,  1,  1,  1,  1,  1,  1,  1],\n",
       "      dtype=int64)"
      ]
     },
     "execution_count": 80,
     "metadata": {},
     "output_type": "execute_result"
    }
   ],
   "source": [
    "dbscan_labels=irisDBS.fit_predict(X)\n",
    "dbscan_labels"
   ]
  },
  {
   "cell_type": "code",
   "execution_count": 75,
   "id": "cec43ae3-b03a-4b97-8e2b-4d41c812168e",
   "metadata": {},
   "outputs": [
    {
     "data": {
      "text/plain": [
       "array([ 0,  0,  0,  0,  0,  0,  0,  0,  0,  0,  0,  0,  0,  0,  0,  0,  0,\n",
       "        0,  0,  0,  0,  0,  0,  0,  0,  0,  0,  0,  0,  0,  0,  0,  0,  0,\n",
       "        0,  0,  0,  0,  0,  0,  0, -1,  0,  0,  0,  0,  0,  0,  0,  0,  1,\n",
       "        1,  1,  1,  1,  1,  1, -1,  1,  1, -1,  1,  1,  1,  1,  1,  1,  1,\n",
       "        1,  1,  1,  1,  1,  1,  1,  1,  1,  1,  1,  1,  1,  1,  1,  1,  1,\n",
       "        1,  1,  1,  1,  1,  1,  1,  1, -1,  1,  1,  1,  1, -1,  1,  1,  1,\n",
       "        1,  1,  1, -1, -1,  1,  1, -1,  1,  1,  1,  1,  1,  1,  1, -1, -1,\n",
       "        1,  1,  1, -1,  1,  1,  1,  1,  1,  1,  1,  1, -1,  1,  1,  1, -1,\n",
       "        1,  1,  1,  1,  1,  1,  1,  1,  1,  1,  1,  1,  1,  1],\n",
       "      dtype=int64)"
      ]
     },
     "execution_count": 75,
     "metadata": {},
     "output_type": "execute_result"
    }
   ],
   "source": [
    "irisDBS.labels_"
   ]
  },
  {
   "cell_type": "code",
   "execution_count": 76,
   "id": "738df292-c1ee-4ac6-9d6f-d8402b73c285",
   "metadata": {},
   "outputs": [
    {
     "data": {
      "text/plain": [
       "(112, 4)"
      ]
     },
     "execution_count": 76,
     "metadata": {},
     "output_type": "execute_result"
    }
   ],
   "source": [
    "irisDBS.components_.shape"
   ]
  },
  {
   "cell_type": "code",
   "execution_count": 77,
   "id": "945a0351-fd36-4140-951d-d2fa1deccc5e",
   "metadata": {},
   "outputs": [],
   "source": [
    "## 정답지랑 하나로 묶기\n",
    "irisDF=pd.DataFrame(X_scaled)"
   ]
  },
  {
   "cell_type": "code",
   "execution_count": 78,
   "id": "c3aee199-0849-4578-b8ba-6d91d7faf758",
   "metadata": {},
   "outputs": [],
   "source": [
    "irisDF['dbscan_cluster']=dbscan_labels\n",
    "irisDF['target']=y"
   ]
  },
  {
   "cell_type": "code",
   "execution_count": 79,
   "id": "ab37b6b3-9af4-4d47-88f6-2edbfcda2288",
   "metadata": {},
   "outputs": [
    {
     "data": {
      "text/plain": [
       "target  dbscan_cluster\n",
       "0        0                49\n",
       "        -1                 1\n",
       "1        1                46\n",
       "        -1                 4\n",
       "2        1                42\n",
       "        -1                 8\n",
       "Name: dbscan_cluster, dtype: int64"
      ]
     },
     "execution_count": 79,
     "metadata": {},
     "output_type": "execute_result"
    }
   ],
   "source": [
    "irisDF_result=irisDF.groupby(['target'])['dbscan_cluster'].value_counts()\n",
    "irisDF_result"
   ]
  },
  {
   "cell_type": "code",
   "execution_count": null,
   "id": "b2e5fbdb-3892-4fd3-bb65-dd53be4d5545",
   "metadata": {},
   "outputs": [],
   "source": []
  },
  {
   "cell_type": "code",
   "execution_count": null,
   "id": "87417087-e8b1-4df5-8d6b-b48771d38466",
   "metadata": {},
   "outputs": [],
   "source": []
  }
 ],
 "metadata": {
  "kernelspec": {
   "display_name": "Python 3 (ipykernel)",
   "language": "python",
   "name": "python3"
  },
  "language_info": {
   "codemirror_mode": {
    "name": "ipython",
    "version": 3
   },
   "file_extension": ".py",
   "mimetype": "text/x-python",
   "name": "python",
   "nbconvert_exporter": "python",
   "pygments_lexer": "ipython3",
   "version": "3.9.12"
  }
 },
 "nbformat": 4,
 "nbformat_minor": 5
}
