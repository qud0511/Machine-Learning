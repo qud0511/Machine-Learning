{
 "cells": [
  {
   "cell_type": "markdown",
   "id": "595d9411-9a1c-47e6-99d4-a894a034841c",
   "metadata": {},
   "source": [
    "## scikeras\n",
    "- ! pip install scikeras\n",
    "- https://www.adriangb.com/scikeras/stable/quickstart.html"
   ]
  },
  {
   "cell_type": "code",
   "execution_count": 20,
   "id": "fa3686c8-34d1-4e91-8170-f6bbf441f643",
   "metadata": {},
   "outputs": [],
   "source": [
    "import scikeras\n",
    "from sklearn.datasets import make_classification, load_iris\n",
    "from scikeras.wrappers import KerasClassifier\n",
    "from sklearn.pipeline import Pipeline\n",
    "from sklearn.model_selection import GridSearchCV"
   ]
  },
  {
   "cell_type": "code",
   "execution_count": 21,
   "id": "e2166ca5-d82b-491d-b034-8bf7c932adb5",
   "metadata": {},
   "outputs": [],
   "source": [
    "import pandas as pd\n",
    "import numpy as np\n",
    "import matplotlib.pyplot as plt\n",
    "\n",
    "import tensorflow as tf\n",
    "from keras.models import Sequential\n",
    "from keras.layers import Dense, Dropout, Input, Flatten\n",
    "from keras.callbacks import ModelCheckpoint, Callback, EarlyStopping\n",
    "from keras.utils import plot_model, set_random_seed\n",
    "\n",
    "from sklearn.model_selection import train_test_split"
   ]
  },
  {
   "cell_type": "code",
   "execution_count": 22,
   "id": "3d540778-080c-4aae-abb8-c5f254c0ccf8",
   "metadata": {},
   "outputs": [],
   "source": [
    "# 데이터 로딩\n",
    "X, y=load_iris(as_frame=True, return_X_y=True)"
   ]
  },
  {
   "cell_type": "markdown",
   "id": "89d35d4f-4802-4148-a480-7d6464fb410d",
   "metadata": {},
   "source": [
    "## Training a model"
   ]
  },
  {
   "cell_type": "code",
   "execution_count": 23,
   "id": "f273abd9-fa51-4f43-abd9-9754cc91b065",
   "metadata": {},
   "outputs": [
    {
     "name": "stdout",
     "output_type": "stream",
     "text": [
      "5/5 [==============================] - 0s 2ms/step - loss: 1.0965\n",
      "5/5 [==============================] - 0s 1ms/step\n"
     ]
    }
   ],
   "source": [
    "# X, y = make_classification(1000, 20, n_informative=10, random_state=0)\n",
    "# X = X.astype(np.float32)\n",
    "# y = y.astype(np.int64)\n",
    "\n",
    "def get_model(hidden_layer_dim, meta):\n",
    "    # note that meta is a special argument that will be\n",
    "    # handed a dict containing input metadata\n",
    "    n_features_in_ = meta[\"n_features_in_\"]\n",
    "    X_shape_ = meta[\"X_shape_\"]\n",
    "    n_classes_ = meta[\"n_classes_\"]\n",
    "\n",
    "    model = keras.models.Sequential()\n",
    "    model.add(keras.layers.Dense(n_features_in_, input_shape=X_shape_[1:]))\n",
    "    model.add(keras.layers.Activation(\"relu\"))\n",
    "    model.add(keras.layers.Dense(hidden_layer_dim))\n",
    "    model.add(keras.layers.Activation(\"relu\"))\n",
    "    model.add(keras.layers.Dense(n_classes_))\n",
    "    model.add(keras.layers.Activation(\"softmax\"))\n",
    "    return model\n",
    "\n",
    "clf = KerasClassifier(\n",
    "    get_model,\n",
    "    loss=\"sparse_categorical_crossentropy\",\n",
    "    hidden_layer_dim=100,\n",
    ")\n",
    "\n",
    "clf.fit(X, y)\n",
    "y_proba = clf.predict_proba(X)"
   ]
  },
  {
   "cell_type": "markdown",
   "id": "06bd2541-5684-4103-9e58-e621fb1def3c",
   "metadata": {},
   "source": [
    "## In an sklearn Pipeline"
   ]
  },
  {
   "cell_type": "code",
   "execution_count": 24,
   "id": "18e9a9e1-462b-4f95-bd5a-34bb419f105d",
   "metadata": {},
   "outputs": [
    {
     "name": "stdout",
     "output_type": "stream",
     "text": [
      "5/5 [==============================] - 0s 2ms/step - loss: 1.0349\n",
      "5/5 [==============================] - 0s 2ms/step\n"
     ]
    }
   ],
   "source": [
    "pipe = Pipeline([\n",
    "    ('scale', StandardScaler()),\n",
    "    ('clf', clf),\n",
    "])\n",
    "\n",
    "pipe.fit(X, y)\n",
    "y_proba = pipe.predict_proba(X)"
   ]
  },
  {
   "cell_type": "markdown",
   "id": "fb78f6eb-2087-45df-9b6d-f56d99e09273",
   "metadata": {},
   "source": [
    "## Grid search"
   ]
  },
  {
   "cell_type": "code",
   "execution_count": 25,
   "id": "50d4f00e-7f5c-4c51-af70-31fa40d3db82",
   "metadata": {},
   "outputs": [
    {
     "name": "stdout",
     "output_type": "stream",
     "text": [
      "4/4 [==============================] - 0s 2ms/step - loss: 1.1266\n",
      "2/2 [==============================] - 0s 3ms/step\n",
      "4/4 [==============================] - 0s 2ms/step - loss: 2.5676\n",
      "2/2 [==============================] - 0s 2ms/step\n",
      "4/4 [==============================] - 0s 2ms/step - loss: 1.3446\n",
      "WARNING:tensorflow:5 out of the last 15 calls to <function Model.make_predict_function.<locals>.predict_function at 0x000002523F358C10> triggered tf.function retracing. Tracing is expensive and the excessive number of tracings could be due to (1) creating @tf.function repeatedly in a loop, (2) passing tensors with different shapes, (3) passing Python objects instead of tensors. For (1), please define your @tf.function outside of the loop. For (2), @tf.function has reduce_retracing=True option that can avoid unnecessary retracing. For (3), please refer to https://www.tensorflow.org/guide/function#controlling_retracing and https://www.tensorflow.org/api_docs/python/tf/function for  more details.\n",
      "2/2 [==============================] - 0s 3ms/step\n",
      "4/4 [==============================] - 0s 2ms/step - loss: 1.3807\n",
      "WARNING:tensorflow:5 out of the last 12 calls to <function Model.make_predict_function.<locals>.predict_function at 0x000002523F63F3A0> triggered tf.function retracing. Tracing is expensive and the excessive number of tracings could be due to (1) creating @tf.function repeatedly in a loop, (2) passing tensors with different shapes, (3) passing Python objects instead of tensors. For (1), please define your @tf.function outside of the loop. For (2), @tf.function has reduce_retracing=True option that can avoid unnecessary retracing. For (3), please refer to https://www.tensorflow.org/guide/function#controlling_retracing and https://www.tensorflow.org/api_docs/python/tf/function for  more details.\n",
      "2/2 [==============================] - 0s 2ms/step\n",
      "4/4 [==============================] - 0s 2ms/step - loss: 1.1671\n",
      "2/2 [==============================] - 0s 3ms/step\n",
      "4/4 [==============================] - 0s 2ms/step - loss: 1.1739\n",
      "2/2 [==============================] - 0s 2ms/step\n",
      "4/4 [==============================] - 0s 2ms/step - loss: 2.8070\n",
      "2/2 [==============================] - 0s 2ms/step\n",
      "4/4 [==============================] - 0s 2ms/step - loss: 1.8631\n",
      "2/2 [==============================] - 0s 5ms/step\n",
      "4/4 [==============================] - 0s 2ms/step - loss: 1.7583\n",
      "2/2 [==============================] - 0s 3ms/step\n",
      "4/4 [==============================] - 0s 2ms/step - loss: 1.1190\n",
      "2/2 [==============================] - 0s 4ms/step\n",
      "4/4 [==============================] - 0s 2ms/step - loss: 2.0268\n",
      "2/2 [==============================] - 0s 2ms/step\n",
      "4/4 [==============================] - 0s 2ms/step - loss: 1.0986\n",
      "2/2 [==============================] - 0s 2ms/step\n",
      "4/4 [==============================] - 0s 2ms/step - loss: 1.3365\n",
      "2/2 [==============================] - 0s 1ms/step\n",
      "4/4 [==============================] - 0s 2ms/step - loss: 1.4560\n",
      "2/2 [==============================] - 0s 2ms/step\n",
      "4/4 [==============================] - 0s 2ms/step - loss: 1.2006\n",
      "2/2 [==============================] - 0s 3ms/step\n",
      "4/4 [==============================] - 0s 2ms/step - loss: 1.1037\n",
      "2/2 [==============================] - 0s 2ms/step\n",
      "4/4 [==============================] - 1s 2ms/step - loss: 3.6476\n",
      "2/2 [==============================] - 0s 3ms/step\n",
      "4/4 [==============================] - 0s 2ms/step - loss: 1.0154\n",
      "2/2 [==============================] - 0s 2ms/step\n",
      "4/4 [==============================] - 0s 2ms/step - loss: 2.1049\n",
      "2/2 [==============================] - 0s 3ms/step\n",
      "4/4 [==============================] - 0s 2ms/step - loss: 1.2429\n",
      "2/2 [==============================] - 0s 2ms/step\n",
      "4/4 [==============================] - 0s 2ms/step - loss: 1.0852\n",
      "2/2 [==============================] - 0s 3ms/step\n",
      "4/4 [==============================] - 0s 2ms/step - loss: 1.2782\n",
      "2/2 [==============================] - 0s 3ms/step\n",
      "4/4 [==============================] - 0s 2ms/step - loss: 1.1304\n",
      "2/2 [==============================] - 0s 993us/step\n",
      "4/4 [==============================] - 0s 2ms/step - loss: 1.0859\n",
      "2/2 [==============================] - 0s 2ms/step\n",
      "4/4 [==============================] - 0s 2ms/step - loss: 1.5990\n",
      "2/2 [==============================] - 0s 2ms/step\n",
      "4/4 [==============================] - 0s 3ms/step - loss: 1.2777\n",
      "2/2 [==============================] - 0s 2ms/step\n",
      "4/4 [==============================] - 0s 2ms/step - loss: 2.1641\n",
      "2/2 [==============================] - 0s 2ms/step\n",
      "4/4 [==============================] - 0s 2ms/step - loss: 1.0924\n",
      "2/2 [==============================] - 0s 3ms/step\n",
      "4/4 [==============================] - 0s 2ms/step - loss: 1.1311\n",
      "2/2 [==============================] - 0s 997us/step\n",
      "4/4 [==============================] - 0s 2ms/step - loss: 1.3529\n",
      "2/2 [==============================] - 0s 3ms/step\n",
      "4/4 [==============================] - 0s 2ms/step - loss: 1.1579\n",
      "2/2 [==============================] - 0s 2ms/step\n",
      "4/4 [==============================] - 0s 2ms/step - loss: 1.6054\n",
      "2/2 [==============================] - 0s 2ms/step\n",
      "4/4 [==============================] - 0s 2ms/step - loss: 1.0562\n",
      "2/2 [==============================] - 0s 3ms/step\n",
      "4/4 [==============================] - 0s 2ms/step - loss: 1.0847\n",
      "2/2 [==============================] - 0s 3ms/step\n",
      "4/4 [==============================] - 0s 2ms/step - loss: 0.9052\n",
      "2/2 [==============================] - 0s 3ms/step\n",
      "4/4 [==============================] - 0s 2ms/step - loss: 1.1193\n",
      "2/2 [==============================] - 0s 3ms/step\n",
      "4/4 [==============================] - 1s 2ms/step - loss: 1.1111\n",
      "2/2 [==============================] - 0s 3ms/step\n",
      "4/4 [==============================] - 0s 2ms/step - loss: 1.0921\n",
      "2/2 [==============================] - 0s 4ms/step\n",
      "4/4 [==============================] - 0s 2ms/step - loss: 1.0836\n",
      "2/2 [==============================] - 0s 2ms/step\n",
      "4/4 [==============================] - 0s 2ms/step - loss: 1.1008\n",
      "2/2 [==============================] - 0s 2ms/step\n",
      "4/4 [==============================] - 0s 2ms/step - loss: 1.1195\n",
      "2/2 [==============================] - 0s 2ms/step\n",
      "4/4 [==============================] - 0s 2ms/step - loss: 1.0995\n",
      "2/2 [==============================] - 0s 2ms/step\n",
      "4/4 [==============================] - 0s 2ms/step - loss: 3.4240\n",
      "2/2 [==============================] - 0s 2ms/step\n",
      "4/4 [==============================] - 0s 2ms/step - loss: 1.0950\n",
      "2/2 [==============================] - 0s 2ms/step\n",
      "4/4 [==============================] - 0s 2ms/step - loss: 2.2007\n",
      "2/2 [==============================] - 0s 3ms/step\n",
      "4/4 [==============================] - 0s 2ms/step - loss: 1.1336\n",
      "2/2 [==============================] - 0s 3ms/step\n",
      "4/4 [==============================] - 1s 2ms/step - loss: 1.0990\n",
      "2/2 [==============================] - 0s 2ms/step\n",
      "4/4 [==============================] - 0s 2ms/step - loss: 1.2114\n",
      "2/2 [==============================] - 0s 3ms/step\n",
      "4/4 [==============================] - 0s 2ms/step - loss: 1.0749\n",
      "2/2 [==============================] - 0s 2ms/step\n",
      "4/4 [==============================] - 0s 2ms/step - loss: 1.1164\n",
      "2/2 [==============================] - 0s 2ms/step\n",
      "4/4 [==============================] - 0s 2ms/step - loss: 1.3052\n",
      "2/2 [==============================] - 0s 2ms/step\n",
      "4/4 [==============================] - 0s 2ms/step - loss: 1.1415\n",
      "2/2 [==============================] - 0s 2ms/step\n",
      "4/4 [==============================] - 0s 3ms/step - loss: 1.2082\n",
      "2/2 [==============================] - 0s 2ms/step\n",
      "4/4 [==============================] - 0s 2ms/step - loss: 2.6161\n",
      "2/2 [==============================] - 0s 3ms/step\n",
      "0.5133333333333334 {'hidden_layer_dim': 100, 'loss': 'sparse_categorical_crossentropy', 'optimizer': 'sgd', 'optimizer__learning_rate': 0.1}\n"
     ]
    }
   ],
   "source": [
    "params = {\n",
    "    \"hidden_layer_dim\": [50, 100, 200],\n",
    "    \"loss\": [\"sparse_categorical_crossentropy\"],\n",
    "    \"optimizer\": [\"adam\", \"sgd\"],\n",
    "    \"optimizer__learning_rate\": [0.0001, 0.001, 0.1],\n",
    "}\n",
    "gs = GridSearchCV(clf, params, refit=False, cv=3, scoring='accuracy')\n",
    "\n",
    "gs.fit(X, y)\n",
    "print(gs.best_score_, gs.best_params_)"
   ]
  },
  {
   "cell_type": "code",
   "execution_count": null,
   "id": "262389fe-e121-49d1-8171-cbd444fbc1da",
   "metadata": {},
   "outputs": [],
   "source": []
  }
 ],
 "metadata": {
  "kernelspec": {
   "display_name": "Python 3 (ipykernel)",
   "language": "python",
   "name": "python3"
  },
  "language_info": {
   "codemirror_mode": {
    "name": "ipython",
    "version": 3
   },
   "file_extension": ".py",
   "mimetype": "text/x-python",
   "name": "python",
   "nbconvert_exporter": "python",
   "pygments_lexer": "ipython3",
   "version": "3.9.12"
  }
 },
 "nbformat": 4,
 "nbformat_minor": 5
}
