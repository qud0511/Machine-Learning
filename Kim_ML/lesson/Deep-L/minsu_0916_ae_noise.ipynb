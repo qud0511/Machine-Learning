{
 "cells": [
  {
   "cell_type": "markdown",
   "metadata": {
    "id": "cG6P3CMk1Kxe"
   },
   "source": [
    "# AutoEncoder 노이즈 제거\n",
    "---\n",
    "- 데이터에 노이즈 제거 활용\n",
    "- 데이터에서 주요 특징만 추출 압축하기 때문에 노이즈는 주요 특징에서 제거\n",
    "- 압축된 주요 특징으로 데이터 복원 => 노이즈 제거"
   ]
  },
  {
   "cell_type": "code",
   "execution_count": 146,
   "metadata": {
    "executionInfo": {
     "elapsed": 422,
     "status": "ok",
     "timestamp": 1663311947780,
     "user": {
      "displayName": "신민수",
      "userId": "11094568375399686308"
     },
     "user_tz": -540
    },
    "id": "Z7fTVMZL50_q"
   },
   "outputs": [],
   "source": [
    "from tensorflow.keras.datasets.mnist import load_data\n",
    "from tensorflow.keras.utils import set_random_seed, plot_model\n",
    "from tensorflow.keras import Sequential\n",
    "from tensorflow.keras.layers import Dense\n",
    "from sklearn.model_selection import train_test_split\n",
    "import numpy as np\n",
    "import matplotlib.pyplot as plt"
   ]
  },
  {
   "cell_type": "code",
   "execution_count": 147,
   "metadata": {
    "executionInfo": {
     "elapsed": 362,
     "status": "ok",
     "timestamp": 1663311948473,
     "user": {
      "displayName": "신민수",
      "userId": "11094568375399686308"
     },
     "user_tz": -540
    },
    "id": "G5dS5bD06Udx"
   },
   "outputs": [],
   "source": [
    "(x_train,y_train),(x_test,y_test) = load_data()"
   ]
  },
  {
   "cell_type": "code",
   "execution_count": 148,
   "metadata": {
    "executionInfo": {
     "elapsed": 442,
     "status": "ok",
     "timestamp": 1663311948912,
     "user": {
      "displayName": "신민수",
      "userId": "11094568375399686308"
     },
     "user_tz": -540
    },
    "id": "y6dZmHsL6VuD"
   },
   "outputs": [],
   "source": [
    "x_train = x_train/255\n",
    "x_test = x_test/255"
   ]
  },
  {
   "cell_type": "code",
   "execution_count": 149,
   "metadata": {
    "executionInfo": {
     "elapsed": 6,
     "status": "ok",
     "timestamp": 1663311948913,
     "user": {
      "displayName": "신민수",
      "userId": "11094568375399686308"
     },
     "user_tz": -540
    },
    "id": "HZSu2frO6Y5j"
   },
   "outputs": [],
   "source": [
    "x_train = x_train.reshape(-1,28*28)\n",
    "x_test = x_test.reshape(-1,28*28)"
   ]
  },
  {
   "cell_type": "code",
   "execution_count": 150,
   "metadata": {
    "executionInfo": {
     "elapsed": 1790,
     "status": "ok",
     "timestamp": 1663311950698,
     "user": {
      "displayName": "신민수",
      "userId": "11094568375399686308"
     },
     "user_tz": -540
    },
    "id": "DGBmFGfU6w6s"
   },
   "outputs": [],
   "source": [
    "# 데이터셋에 노이즈 추가\n",
    "# np.random.normal(평균loc =0.0, 표준편차scale=1.0, size=None)\n",
    "x_train_noised = x_train + np.random.normal(0,0.5,size = x_train.shape)\n",
    "x_test_noised = x_test + np.random.normal(0,0.5,size = x_test.shape)\n",
    "\n",
    "# 픽셀범위 0.0 ~ 1.0 벗어나는 픽셀값 조정 no.clip(array, min, max)\n",
    "x_train_noised = np.clip(x_train_noised, a_min = 0, a_max =1)\n",
    "x_test_noised = np.clip(x_test_noised, a_min = 0, a_max =1)"
   ]
  },
  {
   "cell_type": "code",
   "execution_count": 151,
   "metadata": {
    "colab": {
     "base_uri": "https://localhost:8080/",
     "height": 265
    },
    "executionInfo": {
     "elapsed": 463,
     "status": "ok",
     "timestamp": 1663311951144,
     "user": {
      "displayName": "신민수",
      "userId": "11094568375399686308"
     },
     "user_tz": -540
    },
    "id": "vpCNLLOt7gXb",
    "outputId": "9ad51690-665e-40fe-fc30-6eb5dfc36a53"
   },
   "outputs": [
    {
     "data": {
      "image/png": "[encoded data removed]",
      "text/plain": [
       "<Figure size 432x288 with 1 Axes>"
      ]
     },
     "metadata": {
      "needs_background": "light"
     },
     "output_type": "display_data"
    }
   ],
   "source": [
    "plt.imshow(x_train[0].reshape(28,28),cmap='gray')\n",
    "plt.show()"
   ]
  },
  {
   "cell_type": "code",
   "execution_count": 152,
   "metadata": {
    "colab": {
     "base_uri": "https://localhost:8080/",
     "height": 265
    },
    "executionInfo": {
     "elapsed": 29,
     "status": "ok",
     "timestamp": 1663311951158,
     "user": {
      "displayName": "신민수",
      "userId": "11094568375399686308"
     },
     "user_tz": -540
    },
    "id": "pm4tgdb57qzy",
    "outputId": "22eba012-d04a-4f8b-f120-58b39c4223ba"
   },
   "outputs": [
    {
     "data": {
      "image/png": "[encoded data removed]",
      "text/plain": [
       "<Figure size 432x288 with 1 Axes>"
      ]
     },
     "metadata": {
      "needs_background": "light"
     },
     "output_type": "display_data"
    }
   ],
   "source": [
    "plt.imshow(x_train_noised[0].reshape(28,28),cmap='gray')\n",
    "plt.show()"
   ]
  },
  {
   "cell_type": "code",
   "execution_count": 153,
   "metadata": {
    "executionInfo": {
     "elapsed": 26,
     "status": "ok",
     "timestamp": 1663311951159,
     "user": {
      "displayName": "신민수",
      "userId": "11094568375399686308"
     },
     "user_tz": -540
    },
    "id": "p_yd4moU85q-"
   },
   "outputs": [],
   "source": [
    "def createModel(n_node):\n",
    "  model = Sequential()\n",
    "  model.add(Dense(units = n_node, activation='relu', input_shape = (784,)))\n",
    "  model.add(Dense(784, activation='sigmoid'))\n",
    "  model.compile(loss = 'mean_squared_error',\n",
    "                optimizer = 'adam')\n",
    "  return model"
   ]
  },
  {
   "cell_type": "code",
   "execution_count": 154,
   "metadata": {
    "executionInfo": {
     "elapsed": 26,
     "status": "ok",
     "timestamp": 1663311951159,
     "user": {
      "displayName": "신민수",
      "userId": "11094568375399686308"
     },
     "user_tz": -540
    },
    "id": "dTBNYCJP-Fom"
   },
   "outputs": [],
   "source": [
    "Model10 = createModel(10)\n",
    "Model50 = createModel(50)\n",
    "Model100 = createModel(100)\n",
    "Model500 = createModel(500)\n",
    "Model1000 = createModel(1000)"
   ]
  },
  {
   "cell_type": "markdown",
   "metadata": {
    "id": "xmK_gZlVBZbA"
   },
   "source": [
    "# 노이즈, 노이즈 데이터로 학습 "
   ]
  },
  {
   "cell_type": "code",
   "execution_count": 155,
   "metadata": {
    "colab": {
     "base_uri": "https://localhost:8080/"
    },
    "executionInfo": {
     "elapsed": 349119,
     "status": "ok",
     "timestamp": 1663312300254,
     "user": {
      "displayName": "신민수",
      "userId": "11094568375399686308"
     },
     "user_tz": -540
    },
    "id": "mx7BxFcL-Inn",
    "outputId": "8873908b-b63a-46c4-f81f-2543a57d6aee"
   },
   "outputs": [
    {
     "name": "stdout",
     "output_type": "stream",
     "text": [
      "Epoch 1/10\n",
      "1875/1875 [==============================] - 2s 1ms/step - loss: 0.0524\n",
      "Epoch 2/10\n",
      "1875/1875 [==============================] - 2s 1ms/step - loss: 0.0365\n",
      "Epoch 3/10\n",
      "1875/1875 [==============================] - 2s 1ms/step - loss: 0.0359\n",
      "Epoch 4/10\n",
      "1875/1875 [==============================] - 2s 1ms/step - loss: 0.0357\n",
      "Epoch 5/10\n",
      "1875/1875 [==============================] - 2s 1ms/step - loss: 0.0356\n",
      "Epoch 6/10\n",
      "1875/1875 [==============================] - 2s 1ms/step - loss: 0.0354\n",
      "Epoch 7/10\n",
      "1875/1875 [==============================] - 2s 1ms/step - loss: 0.0353\n",
      "Epoch 8/10\n",
      "1875/1875 [==============================] - 2s 1ms/step - loss: 0.0352\n",
      "Epoch 9/10\n",
      "1875/1875 [==============================] - 2s 1ms/step - loss: 0.0351\n",
      "Epoch 10/10\n",
      "1875/1875 [==============================] - 2s 1ms/step - loss: 0.0349\n",
      "Epoch 1/10\n",
      "1875/1875 [==============================] - 3s 1ms/step - loss: 0.0365\n",
      "Epoch 2/10\n",
      "1875/1875 [==============================] - 3s 1ms/step - loss: 0.0210\n",
      "Epoch 3/10\n",
      "1875/1875 [==============================] - 3s 1ms/step - loss: 0.0191\n",
      "Epoch 4/10\n",
      "1875/1875 [==============================] - 3s 1ms/step - loss: 0.0185\n",
      "Epoch 5/10\n",
      "1875/1875 [==============================] - 3s 1ms/step - loss: 0.0182\n",
      "Epoch 6/10\n",
      "1875/1875 [==============================] - 3s 1ms/step - loss: 0.0180\n",
      "Epoch 7/10\n",
      "1875/1875 [==============================] - 3s 1ms/step - loss: 0.0178\n",
      "Epoch 8/10\n",
      "1875/1875 [==============================] - 3s 1ms/step - loss: 0.0177\n",
      "Epoch 9/10\n",
      "1875/1875 [==============================] - 3s 1ms/step - loss: 0.0176\n",
      "Epoch 10/10\n",
      "1875/1875 [==============================] - 3s 1ms/step - loss: 0.0175\n",
      "Epoch 1/10\n",
      "1875/1875 [==============================] - 4s 2ms/step - loss: 0.0312\n",
      "Epoch 2/10\n",
      "1875/1875 [==============================] - 3s 2ms/step - loss: 0.0184\n",
      "Epoch 3/10\n",
      "1875/1875 [==============================] - 3s 2ms/step - loss: 0.0169\n",
      "Epoch 4/10\n",
      "1875/1875 [==============================] - 3s 2ms/step - loss: 0.0163\n",
      "Epoch 5/10\n",
      "1875/1875 [==============================] - 3s 2ms/step - loss: 0.0159\n",
      "Epoch 6/10\n",
      "1875/1875 [==============================] - 3s 2ms/step - loss: 0.0156\n",
      "Epoch 7/10\n",
      "1875/1875 [==============================] - 3s 2ms/step - loss: 0.0152\n",
      "Epoch 8/10\n",
      "1875/1875 [==============================] - 3s 2ms/step - loss: 0.0150\n",
      "Epoch 9/10\n",
      "1875/1875 [==============================] - 3s 2ms/step - loss: 0.0149\n",
      "Epoch 10/10\n",
      "1875/1875 [==============================] - 3s 2ms/step - loss: 0.0148\n",
      "Epoch 1/10\n",
      "1875/1875 [==============================] - 9s 5ms/step - loss: 0.0233\n",
      "Epoch 2/10\n",
      "1875/1875 [==============================] - 9s 5ms/step - loss: 0.0152\n",
      "Epoch 3/10\n",
      "1875/1875 [==============================] - 9s 5ms/step - loss: 0.0139\n",
      "Epoch 4/10\n",
      "1875/1875 [==============================] - 9s 5ms/step - loss: 0.0131\n",
      "Epoch 5/10\n",
      "1875/1875 [==============================] - 9s 5ms/step - loss: 0.0126\n",
      "Epoch 6/10\n",
      "1875/1875 [==============================] - 9s 5ms/step - loss: 0.0121\n",
      "Epoch 7/10\n",
      "1875/1875 [==============================] - 9s 5ms/step - loss: 0.0118\n",
      "Epoch 8/10\n",
      "1875/1875 [==============================] - 9s 5ms/step - loss: 0.0116\n",
      "Epoch 9/10\n",
      "1875/1875 [==============================] - 9s 5ms/step - loss: 0.0114\n",
      "Epoch 10/10\n",
      "1875/1875 [==============================] - 9s 5ms/step - loss: 0.0112\n",
      "Epoch 1/10\n",
      "1875/1875 [==============================] - 17s 9ms/step - loss: 0.0214\n",
      "Epoch 2/10\n",
      "1875/1875 [==============================] - 15s 8ms/step - loss: 0.0142\n",
      "Epoch 3/10\n",
      "1875/1875 [==============================] - 16s 8ms/step - loss: 0.0128\n",
      "Epoch 4/10\n",
      "1875/1875 [==============================] - 18s 10ms/step - loss: 0.0119\n",
      "Epoch 5/10\n",
      "1875/1875 [==============================] - 18s 9ms/step - loss: 0.0112\n",
      "Epoch 6/10\n",
      "1875/1875 [==============================] - 16s 9ms/step - loss: 0.0107\n",
      "Epoch 7/10\n",
      "1875/1875 [==============================] - 18s 10ms/step - loss: 0.0103\n",
      "Epoch 8/10\n",
      "1875/1875 [==============================] - 18s 10ms/step - loss: 0.0100\n",
      "Epoch 9/10\n",
      "1875/1875 [==============================] - 18s 10ms/step - loss: 0.0098\n",
      "Epoch 10/10\n",
      "1875/1875 [==============================] - 17s 9ms/step - loss: 0.0095\n"
     ]
    },
    {
     "data": {
      "text/plain": [
       "<keras.callbacks.History at 0x7f7402fd7410>"
      ]
     },
     "execution_count": 155,
     "metadata": {},
     "output_type": "execute_result"
    }
   ],
   "source": [
    "Model10.fit(x_train_noised,x_train,epochs=10)\n",
    "Model50.fit(x_train_noised,x_train,epochs=10)\n",
    "Model100.fit(x_train_noised,x_train,epochs=10)\n",
    "Model500.fit(x_train_noised,x_train,epochs=10)\n",
    "Model1000.fit(x_train_noised,x_train,epochs=10)"
   ]
  },
  {
   "cell_type": "code",
   "execution_count": 156,
   "metadata": {
    "executionInfo": {
     "elapsed": 6,
     "status": "ok",
     "timestamp": 1663312300254,
     "user": {
      "displayName": "신민수",
      "userId": "11094568375399686308"
     },
     "user_tz": -540
    },
    "id": "Co7WigST-Pmr"
   },
   "outputs": [],
   "source": [
    "pre_out10 = Model10.predict(x_test_noised[0].reshape(-1,784))\n",
    "pre_out50 = Model50.predict(x_test_noised[0].reshape(-1,784))\n",
    "pre_out100 = Model100.predict(x_test_noised[0].reshape(-1,784))\n",
    "pre_out500 = Model500.predict(x_test_noised[0].reshape(-1,784))\n",
    "pre_out1000 = Model1000.predict(x_test_noised[0].reshape(-1,784))"
   ]
  },
  {
   "cell_type": "code",
   "execution_count": 157,
   "metadata": {
    "colab": {
     "base_uri": "https://localhost:8080/",
     "height": 498
    },
    "executionInfo": {
     "elapsed": 719,
     "status": "ok",
     "timestamp": 1663312300968,
     "user": {
      "displayName": "신민수",
      "userId": "11094568375399686308"
     },
     "user_tz": -540
    },
    "id": "y3IlHJj4-P_g",
    "outputId": "b5197f96-10d7-4355-b67f-6f163edaa8a6"
   },
   "outputs": [
    {
     "data": {
      "image/png": "[encoded data removed]",
      "text/plain": [
       "<Figure size 864x576 with 6 Axes>"
      ]
     },
     "metadata": {
      "needs_background": "light"
     },
     "output_type": "display_data"
    }
   ],
   "source": [
    "plt.figure(figsize=(16,12))\n",
    "\n",
    "plt.subplot(2, 3, 1) \n",
    "plt.title('origin')\n",
    "plt.imshow(x_test_noised[0].reshape(28,28),cmap='gray')\n",
    "\n",
    "plt.subplot(2, 3, 2) \n",
    "plt.imshow(pre_out10.reshape(28,28),cmap ='gray')\n",
    "plt.title('unit=10')\n",
    "\n",
    "plt.subplot(2, 3, 3) \n",
    "plt.imshow(pre_out50.reshape(28,28),cmap ='gray')\n",
    "plt.title('unit=50')\n",
    "\n",
    "plt.subplot(2, 3, 4) \n",
    "plt.imshow(pre_out100.reshape(28,28),cmap ='gray')\n",
    "plt.title('unit=100')\n",
    "\n",
    "plt.subplot(2, 3, 5) \n",
    "plt.imshow(pre_out500.reshape(28,28),cmap ='gray')\n",
    "plt.title('unit=500')\n",
    "\n",
    "plt.subplot(2, 3, 6) \n",
    "plt.imshow(pre_out500.reshape(28,28),cmap ='gray')\n",
    "plt.title('unit=1000')\n",
    "\n",
    "plt.show()\n"
   ]
  },
  {
   "cell_type": "markdown",
   "metadata": {
    "id": "ZgfIH0k9IbJt"
   },
   "source": [
    "# CNN으로 노이즈 제거"
   ]
  },
  {
   "cell_type": "code",
   "execution_count": 157,
   "metadata": {
    "executionInfo": {
     "elapsed": 10,
     "status": "ok",
     "timestamp": 1663312300969,
     "user": {
      "displayName": "신민수",
      "userId": "11094568375399686308"
     },
     "user_tz": -540
    },
    "id": "Ri6iWmHNDuhC"
   },
   "outputs": [],
   "source": [
    "def createAE_cnn(n_node):\n",
    "  model = Sequential()\n",
    "  #입력\n",
    "  model.add(Dense(units = n_node, activation='relu', input_shape(784,)))\n",
    "\n",
    "  #출력\n",
    "  "
   ]
  }
 ],
 "metadata": {
  "colab": {
   "authorship_tag": "ABX9TyNBJqZbJVqsPXzmYiL+34Lw",
   "collapsed_sections": [],
   "provenance": []
  },
  "kernelspec": {
   "display_name": "Python 3 (ipykernel)",
   "language": "python",
   "name": "python3"
  },
  "language_info": {
   "codemirror_mode": {
    "name": "ipython",
    "version": 3
   },
   "file_extension": ".py",
   "mimetype": "text/x-python",
   "name": "python",
   "nbconvert_exporter": "python",
   "pygments_lexer": "ipython3",
   "version": "3.9.12"
  }
 },
 "nbformat": 4,
 "nbformat_minor": 4
}
