{
 "cells": [
  {
   "cell_type": "markdown",
   "id": "73d5f2c9-33cd-43c2-a665-acbc99112495",
   "metadata": {},
   "source": [
    "# MNIST + PCA\n",
    "- Feat 784개 ==> 주요 Featrue로 압축"
   ]
  },
  {
   "cell_type": "code",
   "execution_count": 1,
   "id": "8635c7de-90e0-4112-aa48-0cdfc3521733",
   "metadata": {},
   "outputs": [],
   "source": [
    "from sklearn.datasets import fetch_openml\n",
    "from sklearn.decomposition import PCA\n",
    "import numpy as np\n",
    "import matplotlib.pyplot as plt\n",
    "import pandas as pd\n",
    "from keras.datasets.mnist import load_data"
   ]
  },
  {
   "cell_type": "markdown",
   "id": "575221a6-b2aa-4808-b0bc-3f121a4347fb",
   "metadata": {},
   "source": [
    "### [1] 데이터 로딩"
   ]
  },
  {
   "cell_type": "code",
   "execution_count": 2,
   "id": "8f372e84-d8ba-4df4-9068-ac4e03fea16f",
   "metadata": {},
   "outputs": [
    {
     "data": {
      "text/plain": [
       "((60000, 28, 28), (10000, 28, 28))"
      ]
     },
     "execution_count": 2,
     "metadata": {},
     "output_type": "execute_result"
    }
   ],
   "source": [
    "(x_train, y_train), (x_test, y_test)=load_data()\n",
    "x_train.shape, x_test.shape"
   ]
  },
  {
   "cell_type": "markdown",
   "id": "06969d3b-6147-4b69-a359-8fd82c555156",
   "metadata": {},
   "source": [
    "### [1-2] 데이터 전처리 및 형변환"
   ]
  },
  {
   "cell_type": "code",
   "execution_count": 3,
   "id": "c757fdb7-1f71-4eae-af99-6c9aa7c12c4b",
   "metadata": {},
   "outputs": [],
   "source": [
    "# 0~1사이 범위값으로 Feature 정규화\n",
    "x_train=x_train/255.0\n",
    "x_test=x_test/255.0"
   ]
  },
  {
   "cell_type": "code",
   "execution_count": 4,
   "id": "66eb9bb3-8e16-4b61-bdb0-c8f6ce063ec5",
   "metadata": {},
   "outputs": [
    {
     "data": {
      "text/plain": [
       "((60000, 784), (10000, 784))"
      ]
     },
     "execution_count": 4,
     "metadata": {},
     "output_type": "execute_result"
    }
   ],
   "source": [
    "# PCA 2차원 데이터 처리 : 3D => 2D 형변환\n",
    "x_train=x_train.reshape(-1, 28*28)\n",
    "x_test=x_test.reshape(-1, 28*28)\n",
    "x_train.shape, x_test.shape"
   ]
  },
  {
   "cell_type": "markdown",
   "id": "af11bdb9-9c4d-4c0c-bd93-80a96fa252dd",
   "metadata": {},
   "source": [
    "## [2] MNIST의 PC(주성분 요소) 수 찾기"
   ]
  },
  {
   "cell_type": "code",
   "execution_count": 43,
   "id": "a8b3d088-68c2-4c94-8493-77d789858d03",
   "metadata": {},
   "outputs": [],
   "source": [
    "# PCA 객체 생성\n",
    "pca=PCA(n_components=0.95)\n",
    "pca2=PCA(n_components=0.5)"
   ]
  },
  {
   "cell_type": "code",
   "execution_count": 44,
   "id": "7b3b987a-7ac5-4ef5-9a68-0cffc24e1af4",
   "metadata": {},
   "outputs": [
    {
     "data": {
      "text/plain": [
       "PCA(n_components=0.5)"
      ]
     },
     "execution_count": 44,
     "metadata": {},
     "output_type": "execute_result"
    }
   ],
   "source": [
    "# PC 계산\n",
    "pca.fit(x_train)\n",
    "pca2.fit(x_train)"
   ]
  },
  {
   "cell_type": "code",
   "execution_count": 7,
   "id": "996722c8-fc06-45e0-ac34-0c75b1acf3db",
   "metadata": {
    "collapsed": true,
    "jupyter": {
     "outputs_hidden": true
    },
    "tags": []
   },
   "outputs": [
    {
     "data": {
      "text/plain": [
       "array([554.08236184, 473.79289646, 441.76832659, 412.90967564,\n",
       "       392.45954891, 369.34743738, 321.72592959, 302.04650943,\n",
       "       295.59576934, 273.06366032, 258.31039157, 252.97700677,\n",
       "       232.98056847, 231.36547104, 223.47337767, 216.59463867,\n",
       "       204.70103539, 200.98426661, 193.8016728 , 190.95856472,\n",
       "       183.65236363, 178.45839561, 173.68452004, 169.90685928,\n",
       "       167.17214551, 162.9474728 , 160.33074547, 157.72351701,\n",
       "       153.49152274, 147.83552759, 144.28725   , 143.19277799,\n",
       "       138.07150073, 136.22239172, 134.28567117, 131.13991042,\n",
       "       126.49333601, 124.2313057 , 123.40999747, 122.22992796,\n",
       "       120.20481924, 118.62713309, 115.06215042, 112.23881111,\n",
       "       110.35705642, 108.93302362, 107.01475474, 105.46372614,\n",
       "       103.71956692, 100.90840213, 100.45950025,  99.47658474,\n",
       "        96.76475599,  95.60902108,  94.8075482 ,  92.66540711,\n",
       "        92.3380578 ,  90.42557427,  89.59931997,  87.99801628,\n",
       "        87.22623816,  87.0004999 ,  85.37550857,  83.71483558,\n",
       "        82.22568067,  80.9665046 ,  80.14523835,  78.90007754,\n",
       "        78.10823212,  77.24889952,  76.90918966,  75.68727777,\n",
       "        74.94785429,  74.38349456,  72.41384403,  72.00547004,\n",
       "        71.469276  ,  70.05077701,  68.33549279,  67.30065293,\n",
       "        67.04590903,  66.82352995,  66.5914453 ,  65.52878832,\n",
       "        65.07117027,  64.71754652,  64.16796224,  63.10307337,\n",
       "        62.3351542 ,  62.0187697 ,  60.84724886,  60.28290373,\n",
       "        59.85383983,  59.22727057,  58.72201077,  58.1594256 ,\n",
       "        57.41290684,  57.36076904,  56.5972135 ,  56.39310145,\n",
       "        55.79373442,  54.81180891,  54.57044799,  53.83580892,\n",
       "        53.59092793,  53.26591092,  52.32272174,  52.01287174,\n",
       "        51.72156693,  51.00947631,  50.04176729,  49.86299964,\n",
       "        49.82072842,  49.31734234,  49.16263463,  48.80980057,\n",
       "        48.27850824,  47.96126982,  47.7139341 ,  47.28651838,\n",
       "        46.90390921,  46.79372995,  46.49335018,  46.17783007,\n",
       "        45.93110297,  45.18074297,  44.84086799,  44.70139093,\n",
       "        44.39202671,  43.75885024,  43.69730012,  43.36636739,\n",
       "        43.14061636,  43.07502119,  42.88441615,  42.71776149,\n",
       "        42.2912094 ,  41.8927035 ,  41.14623249,  40.78928805,\n",
       "        40.7570055 ,  40.17709417,  39.88921118,  39.81407897,\n",
       "        39.72000871,  39.41447268,  39.19182526,  39.08305782,\n",
       "        38.72394262,  38.49195148,  38.41987497,  38.28496768,\n",
       "        38.1179312 ,  37.74622774])"
      ]
     },
     "execution_count": 7,
     "metadata": {},
     "output_type": "execute_result"
    }
   ],
   "source": [
    "# 주성분 행렬\n",
    "pca.singular_values_"
   ]
  },
  {
   "cell_type": "code",
   "execution_count": 8,
   "id": "e51becec-22c7-4595-9133-10e0c69d8ac5",
   "metadata": {
    "collapsed": true,
    "jupyter": {
     "outputs_hidden": true
    },
    "tags": []
   },
   "outputs": [
    {
     "data": {
      "text/plain": [
       "array([0.09704664, 0.07095924, 0.06169089, 0.05389419, 0.04868797,\n",
       "       0.04312231, 0.0327193 , 0.02883895, 0.02762029, 0.02357001,\n",
       "       0.0210919 , 0.02022991, 0.01715818, 0.01692111, 0.01578641,\n",
       "       0.01482953, 0.01324561, 0.01276897, 0.01187263, 0.01152684,\n",
       "       0.01066166, 0.01006713, 0.00953573, 0.00912544, 0.00883405,\n",
       "       0.00839319, 0.00812579, 0.00786366, 0.00744733, 0.00690859,\n",
       "       0.00658094, 0.00648148, 0.00602615, 0.00586582, 0.00570021,\n",
       "       0.00543628, 0.00505786, 0.00487859, 0.00481429, 0.00472266,\n",
       "       0.00456747, 0.00444836, 0.00418501, 0.00398215, 0.00384975,\n",
       "       0.00375103, 0.00362009, 0.00351591, 0.00340058, 0.00321874,\n",
       "       0.00319017, 0.00312805, 0.00295983, 0.00288955, 0.0028413 ,\n",
       "       0.00271436, 0.00269521, 0.00258473, 0.00253771, 0.00244781,\n",
       "       0.00240506, 0.00239263, 0.00230408, 0.00221532, 0.00213721,\n",
       "       0.00207225, 0.00203043, 0.00196783, 0.00192853, 0.00188632,\n",
       "       0.00186977, 0.00181083, 0.00177562, 0.00174898, 0.00165758,\n",
       "       0.00163894, 0.00161462, 0.00155116, 0.00147613, 0.00143176,\n",
       "       0.00142094, 0.00141153, 0.00140174, 0.00135736, 0.00133847,\n",
       "       0.00132396, 0.00130157, 0.00125873, 0.00122828, 0.00121584,\n",
       "       0.00117034, 0.00114874, 0.00113244, 0.00110886, 0.00109002,\n",
       "       0.00106923, 0.00104196, 0.00104007, 0.00101256, 0.00100527,\n",
       "       0.00098402, 0.00094969, 0.00094134, 0.00091617, 0.00090785,\n",
       "       0.00089687, 0.00086539, 0.00085517, 0.00084562, 0.0008225 ,\n",
       "       0.00079158, 0.00078594, 0.00078461, 0.00076883, 0.00076402,\n",
       "       0.00075309, 0.00073678, 0.00072713, 0.00071965, 0.00070682,\n",
       "       0.00069542, 0.00069216, 0.0006833 , 0.00067406, 0.00066688,\n",
       "       0.00064527, 0.00063559, 0.00063165, 0.00062293, 0.00060529,\n",
       "       0.00060359, 0.00059448, 0.00058831, 0.00058652, 0.00058134,\n",
       "       0.00057683, 0.00056537, 0.00055476, 0.00053517, 0.00052593,\n",
       "       0.00052509, 0.00051026, 0.00050297, 0.00050108, 0.00049871,\n",
       "       0.00049107, 0.00048554, 0.00048285, 0.00047401, 0.00046835,\n",
       "       0.0004666 , 0.00046333, 0.00045929, 0.00045038])"
      ]
     },
     "execution_count": 8,
     "metadata": {},
     "output_type": "execute_result"
    }
   ],
   "source": [
    "# 주성분에 투영 후 분산 정도 설명\n",
    "pca.explained_variance_ratio_ # 비율로"
   ]
  },
  {
   "cell_type": "code",
   "execution_count": 45,
   "id": "c1aa81e6-bc38-4ebd-b9e3-c20fdd99fddd",
   "metadata": {},
   "outputs": [],
   "source": [
    "# PC기반 데이터 투영\n",
    "mnistPCA=pca.transform(x_train)\n",
    "mnistPCA2=pca2.transform(x_train)"
   ]
  },
  {
   "cell_type": "code",
   "execution_count": 46,
   "id": "ea11e0d4-c69f-447e-937e-c56474eac6bb",
   "metadata": {},
   "outputs": [
    {
     "data": {
      "text/plain": [
       "((60000, 154), (60000, 11))"
      ]
     },
     "execution_count": 46,
     "metadata": {},
     "output_type": "execute_result"
    }
   ],
   "source": [
    "mnistPCA.shape, mnistPCA2.shape"
   ]
  },
  {
   "cell_type": "code",
   "execution_count": 48,
   "id": "bc896036-745e-4682-a172-68a9219b855b",
   "metadata": {},
   "outputs": [
    {
     "data": {
      "text/plain": [
       "((60000, 784), (60000, 784))"
      ]
     },
     "execution_count": 48,
     "metadata": {},
     "output_type": "execute_result"
    }
   ],
   "source": [
    "# 압축된 피쳐성분기반을 원래 성분으로 복원\n",
    "reMnist=pca.inverse_transform(mnistPCA)\n",
    "reMnist2=pca2.inverse_transform(mnistPCA2)\n",
    "\n",
    "reMnist.shape, reMnist2.shape"
   ]
  },
  {
   "cell_type": "code",
   "execution_count": 50,
   "id": "fac9391c-e7c9-444c-89a8-4106492e11a7",
   "metadata": {},
   "outputs": [],
   "source": [
    "# PCA 전후 이미지 비교\n",
    "def drawImage(selectImg, title):\n",
    "    plt.imshow(selectImg.reshape(28, 28), cmap='gray')\n",
    "    plt.title(f'[{title}]')\n",
    "    plt.show()"
   ]
  },
  {
   "cell_type": "code",
   "execution_count": 51,
   "id": "ef5b5770-48e6-4774-9d7e-ba58cb5e5757",
   "metadata": {},
   "outputs": [
    {
     "data": {
      "image/png": "[encoded data removed]",
      "text/plain": [
       "<Figure size 432x288 with 1 Axes>"
      ]
     },
     "metadata": {
      "needs_background": "light"
     },
     "output_type": "display_data"
    }
   ],
   "source": [
    "drawImage(x_train[0], 'Original-MNIST')"
   ]
  },
  {
   "cell_type": "code",
   "execution_count": 52,
   "id": "cf39bf44-7a20-424c-a336-3afeb950f5a7",
   "metadata": {},
   "outputs": [
    {
     "data": {
      "image/png": "[encoded data removed]",
      "text/plain": [
       "<Figure size 432x288 with 1 Axes>"
      ]
     },
     "metadata": {
      "needs_background": "light"
     },
     "output_type": "display_data"
    }
   ],
   "source": [
    "drawImage(reMnist[0], 'Re-MNIST')"
   ]
  },
  {
   "cell_type": "code",
   "execution_count": 53,
   "id": "660354f2-bb76-4413-a094-68b0cd53d620",
   "metadata": {},
   "outputs": [
    {
     "data": {
      "image/png": "[encoded data removed]",
      "text/plain": [
       "<Figure size 432x288 with 1 Axes>"
      ]
     },
     "metadata": {
      "needs_background": "light"
     },
     "output_type": "display_data"
    }
   ],
   "source": [
    "drawImage(reMnist2[0], 'Re-MNIST')"
   ]
  },
  {
   "cell_type": "code",
   "execution_count": null,
   "id": "d2a6585f-1583-469c-8134-8bb16ef49f51",
   "metadata": {},
   "outputs": [],
   "source": []
  }
 ],
 "metadata": {
  "kernelspec": {
   "display_name": "Python 3 (ipykernel)",
   "language": "python",
   "name": "python3"
  },
  "language_info": {
   "codemirror_mode": {
    "name": "ipython",
    "version": 3
   },
   "file_extension": ".py",
   "mimetype": "text/x-python",
   "name": "python",
   "nbconvert_exporter": "python",
   "pygments_lexer": "ipython3",
   "version": "3.9.12"
  }
 },
 "nbformat": 4,
 "nbformat_minor": 5
}
