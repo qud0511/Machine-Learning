{
 "cells": [
  {
   "cell_type": "markdown",
   "source": [
    "# MNIST + PCA\n",
    "---\n",
    "- Feature : 784개 => PCA사용하여 주요 feature만 압축"
   ],
   "metadata": {
    "collapsed": false,
    "pycharm": {
     "name": "#%% md\n"
    }
   }
  },
  {
   "cell_type": "code",
   "execution_count": 147,
   "outputs": [],
   "source": [
    "# 모듈 로딩\n",
    "from keras.datasets.mnist import load_data\n",
    "from sklearn.decomposition import PCA\n",
    "import matplotlib.pyplot as plt\n",
    "import numpy as np"
   ],
   "metadata": {
    "collapsed": false,
    "pycharm": {
     "name": "#%%\n"
    }
   }
  },
  {
   "cell_type": "markdown",
   "source": [
    "### [1] 데이터 로딩"
   ],
   "metadata": {
    "collapsed": false,
    "pycharm": {
     "name": "#%% md\n"
    }
   }
  },
  {
   "cell_type": "code",
   "execution_count": 148,
   "outputs": [
    {
     "data": {
      "text/plain": "((60000, 28, 28), (10000, 28, 28))"
     },
     "execution_count": 148,
     "metadata": {},
     "output_type": "execute_result"
    }
   ],
   "source": [
    "# 데이터 로딩\n",
    "(x_train, y_train), (x_test, y_test) = load_data()\n",
    "x_train.shape, x_test.shape"
   ],
   "metadata": {
    "collapsed": false,
    "pycharm": {
     "name": "#%%\n"
    }
   }
  },
  {
   "cell_type": "markdown",
   "source": [
    "### [2] 데이터 전처리"
   ],
   "metadata": {
    "collapsed": false,
    "pycharm": {
     "name": "#%% md\n"
    }
   }
  },
  {
   "cell_type": "code",
   "execution_count": 149,
   "outputs": [],
   "source": [
    "# data 0 ~ 1사이로 스케일링\n",
    "x_train = x_train / 255.0\n",
    "x_test = x_test / 255.0"
   ],
   "metadata": {
    "collapsed": false,
    "pycharm": {
     "name": "#%%\n"
    }
   }
  },
  {
   "cell_type": "markdown",
   "source": [
    "### [3] MNIST의 PC수 찾기"
   ],
   "metadata": {
    "collapsed": false,
    "pycharm": {
     "name": "#%% md\n"
    }
   }
  },
  {
   "cell_type": "code",
   "execution_count": 150,
   "outputs": [],
   "source": [
    "# PCA하기 위해 2차원으로 reshape\n",
    "x_train = x_train.reshape(-1, 784)\n",
    "x_test = x_test.reshape(-1, 784)"
   ],
   "metadata": {
    "collapsed": false,
    "pycharm": {
     "name": "#%%\n"
    }
   }
  },
  {
   "cell_type": "code",
   "execution_count": 151,
   "outputs": [],
   "source": [
    "# 98% 비율로 PCA\n",
    "pca = PCA(n_components=0.98)\n",
    "pca.fit(x_train)\n",
    "mnistPCA = pca.transform(x_train)"
   ],
   "metadata": {
    "collapsed": false,
    "pycharm": {
     "name": "#%%\n"
    }
   }
  },
  {
   "cell_type": "code",
   "execution_count": 152,
   "outputs": [],
   "source": [
    "# 70% 비율로 PCA\n",
    "pca_70 = PCA(n_components=0.70)\n",
    "pca_70.fit(x_train)\n",
    "mnistPCA_70 = pca_70.transform(x_train)"
   ],
   "metadata": {
    "collapsed": false,
    "pycharm": {
     "name": "#%%\n"
    }
   }
  },
  {
   "cell_type": "code",
   "execution_count": 153,
   "outputs": [
    {
     "name": "stdout",
     "output_type": "stream",
     "text": [
      "[554.08236184 473.79289646 441.76832659 412.90967564 392.45954891]\n",
      "[5.11687301 3.74139084 3.25270845 2.8416207  2.56711774]\n",
      "[0.09704664 0.07095924 0.06169089 0.05389419 0.04868797]\n"
     ]
    }
   ],
   "source": [
    "# PCA 데이터 확인\n",
    "print(pca.singular_values_[:5])\n",
    "print(pca.explained_variance_[:5])\n",
    "print(pca.explained_variance_ratio_[:5])"
   ],
   "metadata": {
    "collapsed": false,
    "pycharm": {
     "name": "#%%\n"
    }
   }
  },
  {
   "cell_type": "code",
   "execution_count": 154,
   "outputs": [
    {
     "data": {
      "text/plain": "<Figure size 640x480 with 1 Axes>",
      "image/png": "[encoded data removed]"
     },
     "metadata": {},
     "output_type": "display_data"
    }
   ],
   "source": [
    "# 주성분과 데이터 투영 분산 저정도 시각화\n",
    "pca_temp = PCA()\n",
    "pca_temp.fit(x_train)\n",
    "cumsum = np.cumsum(pca_temp.explained_variance_ratio_)\n",
    "dim = np.argmax(cumsum >= 0.98) + 1\n",
    "\n",
    "plt.plot(cumsum, 'b-')\n",
    "plt.plot(dim, 0.98, 'ro')\n",
    "plt.plot([261.0, 261.0], [0, 0.98], 'k--')\n",
    "plt.plot([0, 261.0], [0.98, 0.98], 'k--')\n",
    "plt.axis([0, 784, 0, 1])\n",
    "plt.xlabel('Dimension')\n",
    "plt.ylabel('Explained Variance')\n",
    "plt.show()"
   ],
   "metadata": {
    "collapsed": false,
    "pycharm": {
     "name": "#%%\n"
    }
   }
  },
  {
   "cell_type": "markdown",
   "source": [
    "### [4] PCA 이전/이후 이미지 비교"
   ],
   "metadata": {
    "collapsed": false,
    "pycharm": {
     "name": "#%% md\n"
    }
   }
  },
  {
   "cell_type": "code",
   "execution_count": 155,
   "outputs": [
    {
     "data": {
      "text/plain": "((60000, 784), (60000, 784))"
     },
     "execution_count": 155,
     "metadata": {},
     "output_type": "execute_result"
    }
   ],
   "source": [
    "# PCA 복원\n",
    "re = pca.inverse_transform(mnistPCA)\n",
    "re_70 = pca_70.inverse_transform(mnistPCA_70)\n",
    "re.shape, re_70.shape"
   ],
   "metadata": {
    "collapsed": false,
    "pycharm": {
     "name": "#%%\n"
    }
   }
  },
  {
   "cell_type": "code",
   "execution_count": 159,
   "outputs": [
    {
     "data": {
      "text/plain": "<Figure size 640x480 with 3 Axes>",
      "image/png": "[encoded data removed]"
     },
     "metadata": {},
     "output_type": "display_data"
    },
    {
     "data": {
      "text/plain": "<Figure size 1000x1000 with 0 Axes>"
     },
     "metadata": {},
     "output_type": "display_data"
    }
   ],
   "source": [
    "# imshow로 시각화\n",
    "f, axes = plt.subplots(1, 3)\n",
    "fig = plt.figure(figsize=(10, 10))\n",
    "axes[0].set_title('Before PCA')\n",
    "axes[0].imshow(x_train[0].reshape(28, 28), cmap='gray')\n",
    "axes[1].set_title('re-PCA(98%)')\n",
    "axes[1].imshow(re[0].reshape(28, 28), cmap='gray')\n",
    "axes[2].set_title('re-PCA(70%)')\n",
    "axes[2].imshow(re_70[0].reshape(28, 28), cmap='gray')\n",
    "plt.show()"
   ],
   "metadata": {
    "collapsed": false,
    "pycharm": {
     "name": "#%%\n"
    }
   }
  },
  {
   "cell_type": "code",
   "execution_count": 156,
   "outputs": [],
   "source": [],
   "metadata": {
    "collapsed": false,
    "pycharm": {
     "name": "#%%\n"
    }
   }
  }
 ],
 "metadata": {
  "kernelspec": {
   "display_name": "Python 3",
   "language": "python",
   "name": "python3"
  },
  "language_info": {
   "codemirror_mode": {
    "name": "ipython",
    "version": 2
   },
   "file_extension": ".py",
   "mimetype": "text/x-python",
   "name": "python",
   "nbconvert_exporter": "python",
   "pygments_lexer": "ipython2",
   "version": "2.7.6"
  }
 },
 "nbformat": 4,
 "nbformat_minor": 0
}