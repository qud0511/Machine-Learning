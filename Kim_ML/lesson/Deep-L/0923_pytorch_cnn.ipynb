{
 "cells": [
  {
   "cell_type": "markdown",
   "metadata": {},
   "source": [
    "#  "
   ]
  },
  {
   "cell_type": "code",
   "execution_count": 2,
   "metadata": {},
   "outputs": [],
   "source": [
    "# 모듈로딩\n",
    "import os\n",
    "import torch\n",
    "from torch import nn # 신경망 모듈\n",
    "from torch.utils.data import DataLoader # 데이터 로딩 관련 모듈\n",
    "from torchvision import datasets, transforms # torch저장소 데이터셋 모듈"
   ]
  },
  {
   "cell_type": "markdown",
   "metadata": {},
   "source": [
    "## [1] 데이터 준비"
   ]
  },
  {
   "cell_type": "code",
   "execution_count": 3,
   "metadata": {},
   "outputs": [
    {
     "name": "stdout",
     "output_type": "stream",
     "text": [
      "Using cpu device\n"
     ]
    }
   ],
   "source": [
    "# tensor의 저장소 설정을 위한 체크\n",
    "device = \"cuda\" if torch.cuda.is_available() else \"cpu\"\n",
    "print(f\"Using {device} device\")"
   ]
  },
  {
   "cell_type": "markdown",
   "metadata": {},
   "source": [
    "## [2] NN(뉴런 네트워크) 모델 생성"
   ]
  },
  {
   "cell_type": "code",
   "execution_count": 7,
   "metadata": {},
   "outputs": [],
   "source": [
    "# 순차적인 Layer(레이어) 구성 => Sequential, Layer, ...\n",
    "class NeuralNetwork(nn.Module):\n",
    "    # 생성자 메서드, NeuralNetwork() 객체 생성 시 실행\n",
    "    def __init__(self):\n",
    "        super(NeuralNetwork, self).__init__()\n",
    "        self.flatten = nn.Flatten()\n",
    "        self.linear_relu_stack = nn.Sequential(\n",
    "            nn.Linear(28*28, 512), # 입력층 (input_dim, output_dim)\n",
    "            nn.ReLU(), # 은닉층 (input_dim, output_dim)\n",
    "            nn.Linear(512, 512), # 은닉층 (input_dim, output_dim)\n",
    "            nn.ReLU(), # 은닉층 (input_dim, output_dim)\n",
    "            nn.Linear(512, 10) # 출력층 (input_dim, output_dim)\n",
    "        )\n",
    "    \n",
    "    # NN 모델이 동작을 시작할 때 실행\n",
    "    def forward(self, x):\n",
    "        x = self.flatten(x) # 1차원으로 데이터 변환\n",
    "        logits = self.linear_relu_stack(x) # NN 모델에 데이터 전달\n",
    "        return logits"
   ]
  },
  {
   "cell_type": "code",
   "execution_count": 8,
   "metadata": {},
   "outputs": [],
   "source": [
    "# NN 모델 생성\n",
    "mnistM=NeuralNetwork()"
   ]
  },
  {
   "cell_type": "code",
   "execution_count": 9,
   "metadata": {},
   "outputs": [
    {
     "name": "stdout",
     "output_type": "stream",
     "text": [
      "NeuralNetwork(\n",
      "  (flatten): Flatten(start_dim=1, end_dim=-1)\n",
      "  (linear_relu_stack): Sequential(\n",
      "    (0): Linear(in_features=784, out_features=512, bias=True)\n",
      "    (1): ReLU()\n",
      "    (2): Linear(in_features=512, out_features=512, bias=True)\n",
      "    (3): ReLU()\n",
      "    (4): Linear(in_features=512, out_features=10, bias=True)\n",
      "  )\n",
      ")\n"
     ]
    }
   ],
   "source": [
    "# NN 모델 생성\n",
    "model = NeuralNetwork().to(device)\n",
    "print(model)"
   ]
  },
  {
   "cell_type": "code",
   "execution_count": 22,
   "metadata": {},
   "outputs": [
    {
     "name": "stdout",
     "output_type": "stream",
     "text": [
      "X => tensor([[[0.2570, 0.8733, 0.4228, 0.9735, 0.3401, 0.0339, 0.7689, 0.1388,\n",
      "          0.4084, 0.8254, 0.7946, 0.3496, 0.0347, 0.0938, 0.2394, 0.9101,\n",
      "          0.0543, 0.7686, 0.9495, 0.2579, 0.1524, 0.0625, 0.8827, 0.6260,\n",
      "          0.5596, 0.0211, 0.3221, 0.7964],\n",
      "         [0.3549, 0.9228, 0.5529, 0.7437, 0.2972, 0.3324, 0.0854, 0.3124,\n",
      "          0.4474, 0.4106, 0.7356, 0.1326, 0.2916, 0.8207, 0.9662, 0.1065,\n",
      "          0.7865, 0.9026, 0.3020, 0.0485, 0.4716, 0.1795, 0.8297, 0.7736,\n",
      "          0.0278, 0.2836, 0.6438, 0.4917],\n",
      "         [0.0492, 0.7991, 0.9315, 0.5761, 0.3173, 0.6088, 0.8778, 0.7980,\n",
      "          0.4604, 0.9073, 0.8020, 0.2082, 0.2170, 0.7406, 0.4921, 0.6859,\n",
      "          0.9899, 0.4369, 0.6052, 0.6470, 0.6579, 0.1200, 0.6457, 0.9476,\n",
      "          0.2509, 0.8389, 0.6139, 0.1281],\n",
      "         [0.5872, 0.0133, 0.7653, 0.7269, 0.6679, 0.1450, 0.0534, 0.0977,\n",
      "          0.7927, 0.3959, 0.0788, 0.9715, 0.9139, 0.9546, 0.6627, 0.2163,\n",
      "          0.2102, 0.7491, 0.9652, 0.9339, 0.1577, 0.3563, 0.1751, 0.8311,\n",
      "          0.1660, 0.5430, 0.3622, 0.6350],\n",
      "         [0.7766, 0.0163, 0.3458, 0.6423, 0.6028, 0.9485, 0.3087, 0.7982,\n",
      "          0.1789, 0.8707, 0.2034, 0.7591, 0.6029, 0.8365, 0.0854, 0.3086,\n",
      "          0.9762, 0.5397, 0.7801, 0.5521, 0.1816, 0.0395, 0.2506, 0.8293,\n",
      "          0.4271, 0.4159, 0.8399, 0.6136],\n",
      "         [0.7945, 0.8623, 0.6408, 0.9453, 0.8080, 0.4297, 0.6127, 0.9888,\n",
      "          0.4270, 0.3282, 0.3357, 0.7294, 0.6189, 0.9923, 0.8625, 0.3385,\n",
      "          0.8184, 0.7535, 0.4636, 0.4089, 0.9683, 0.3729, 0.3799, 0.6480,\n",
      "          0.5465, 0.0061, 0.3422, 0.2012],\n",
      "         [0.4316, 0.4006, 0.4350, 0.8713, 0.8345, 0.3043, 0.3437, 0.9547,\n",
      "          0.1659, 0.1932, 0.3282, 0.3089, 0.6064, 0.4496, 0.3919, 0.8125,\n",
      "          0.5408, 0.8972, 0.9999, 0.1456, 0.2555, 0.3243, 0.3252, 0.8520,\n",
      "          0.0605, 0.8871, 0.0147, 0.4267],\n",
      "         [0.5170, 0.9409, 0.9837, 0.6333, 0.8232, 0.0053, 0.1784, 0.7096,\n",
      "          0.2488, 0.6115, 0.4967, 0.3134, 0.3918, 0.3733, 0.0562, 0.2472,\n",
      "          0.7439, 0.8472, 0.8010, 0.8919, 0.7410, 0.7306, 0.7648, 0.7940,\n",
      "          0.8958, 0.7118, 0.2126, 0.0017],\n",
      "         [0.5975, 0.3770, 0.2696, 0.4877, 0.9620, 0.6733, 0.6638, 0.7160,\n",
      "          0.8880, 0.0858, 0.7707, 0.4626, 0.9369, 0.6760, 0.9468, 0.2873,\n",
      "          0.2199, 0.3853, 0.6016, 0.7997, 0.5910, 0.9489, 0.6453, 0.8566,\n",
      "          0.1238, 0.0457, 0.2274, 0.4557],\n",
      "         [0.9321, 0.2483, 0.6152, 0.8799, 0.2318, 0.0141, 0.9167, 0.4066,\n",
      "          0.4401, 0.3892, 0.5740, 0.9759, 0.9900, 0.9528, 0.0118, 0.2103,\n",
      "          0.5099, 0.6322, 0.8627, 0.4452, 0.1520, 0.7937, 0.6854, 0.9039,\n",
      "          0.7599, 0.6466, 0.2371, 0.4543],\n",
      "         [0.2194, 0.8534, 0.3422, 0.9675, 0.9362, 0.0076, 0.5720, 0.7578,\n",
      "          0.2061, 0.6299, 0.3803, 0.1647, 0.5861, 0.5359, 0.5786, 0.9427,\n",
      "          0.0694, 0.6399, 0.8382, 0.0932, 0.8118, 0.6325, 0.7833, 0.5189,\n",
      "          0.3051, 0.0783, 0.0924, 0.2554],\n",
      "         [0.3196, 0.0148, 0.1108, 0.7508, 0.5754, 0.0154, 0.1968, 0.6833,\n",
      "          0.4506, 0.0743, 0.5454, 0.1630, 0.2661, 0.4227, 0.8483, 0.6456,\n",
      "          0.9784, 0.5335, 0.0287, 0.8110, 0.1544, 0.0522, 0.0244, 0.7360,\n",
      "          0.9891, 0.7901, 0.9207, 0.0927],\n",
      "         [0.4007, 0.3932, 0.3761, 0.1318, 0.4659, 0.5310, 0.1816, 0.8045,\n",
      "          0.5348, 0.8961, 0.9412, 0.8323, 0.8214, 0.2791, 0.0232, 0.6289,\n",
      "          0.2023, 0.4555, 0.7826, 0.4032, 0.5158, 0.1980, 0.4134, 0.5920,\n",
      "          0.9609, 0.3422, 0.9806, 0.0694],\n",
      "         [0.3028, 0.8040, 0.5362, 0.4785, 0.9549, 0.2013, 0.5589, 0.9156,\n",
      "          0.6774, 0.7675, 0.0456, 0.3157, 0.7218, 0.8530, 0.6376, 0.5904,\n",
      "          0.2779, 0.8017, 0.8496, 0.3098, 0.2298, 0.9106, 0.9157, 0.7973,\n",
      "          0.6632, 0.8242, 0.5708, 0.7876],\n",
      "         [0.8050, 0.6021, 0.8090, 0.7670, 0.8200, 0.7824, 0.9758, 0.8779,\n",
      "          0.6789, 0.1208, 0.3534, 0.9930, 0.6696, 0.1535, 0.4345, 0.8351,\n",
      "          0.9215, 0.9791, 0.2196, 0.0656, 0.4693, 0.8446, 0.7076, 0.8632,\n",
      "          0.3106, 0.4576, 0.7369, 0.4775],\n",
      "         [0.9015, 0.6268, 0.9777, 0.5653, 0.4919, 0.9596, 0.4238, 0.8450,\n",
      "          0.1702, 0.5999, 0.0292, 0.5876, 0.8928, 0.7872, 0.3255, 0.2412,\n",
      "          0.0863, 0.5727, 0.5292, 0.9880, 0.6461, 0.7017, 0.3219, 0.4614,\n",
      "          0.0953, 0.3397, 0.7040, 0.4462],\n",
      "         [0.1688, 0.6491, 0.0074, 0.3638, 0.8768, 0.6438, 0.6497, 0.6580,\n",
      "          0.9856, 0.2723, 0.5852, 0.8124, 0.9829, 0.9441, 0.6675, 0.0622,\n",
      "          0.4348, 0.5981, 0.3840, 0.2520, 0.4967, 0.6661, 0.7586, 0.9097,\n",
      "          0.8663, 0.2883, 0.5257, 0.8768],\n",
      "         [0.5643, 0.7104, 0.1596, 0.1081, 0.7321, 0.3687, 0.4984, 0.5837,\n",
      "          0.6769, 0.8984, 0.2902, 0.5806, 0.3466, 0.8467, 0.0855, 0.0355,\n",
      "          0.9093, 0.5644, 0.9071, 0.1965, 0.0209, 0.0586, 0.8592, 0.2327,\n",
      "          0.2616, 0.4097, 0.6589, 0.7344],\n",
      "         [0.8363, 0.8703, 0.4946, 0.9223, 0.3518, 0.2933, 0.5645, 0.5808,\n",
      "          0.9172, 0.6710, 0.0711, 0.5685, 0.9922, 0.6831, 0.6213, 0.2506,\n",
      "          0.1163, 0.7353, 0.8003, 0.3779, 0.6653, 0.7670, 0.5579, 0.5506,\n",
      "          0.8777, 0.0560, 0.8285, 0.0306],\n",
      "         [0.9306, 0.3774, 0.7160, 0.7050, 0.6161, 0.7703, 0.5270, 0.6156,\n",
      "          0.3541, 0.4149, 0.2358, 0.4938, 0.9291, 0.3230, 0.0676, 0.3766,\n",
      "          0.6798, 0.0874, 0.4191, 0.3688, 0.8719, 0.5751, 0.2500, 0.6868,\n",
      "          0.8643, 0.0094, 0.1922, 0.8711],\n",
      "         [0.8415, 0.3671, 0.5651, 0.3270, 0.2173, 0.9504, 0.8865, 0.4671,\n",
      "          0.2376, 0.4610, 0.9122, 0.8044, 0.0997, 0.9989, 0.7330, 0.3673,\n",
      "          0.6907, 0.4503, 0.2941, 0.6873, 0.5253, 0.1635, 0.5233, 0.0741,\n",
      "          0.6899, 0.6599, 0.1800, 0.3258],\n",
      "         [0.6417, 0.9461, 0.5940, 0.4256, 0.9567, 0.1454, 0.1007, 0.1036,\n",
      "          0.6750, 0.9680, 0.7702, 0.8881, 0.6486, 0.7538, 0.0736, 0.4597,\n",
      "          0.0533, 0.5331, 0.0860, 0.8197, 0.9461, 0.0227, 0.6301, 0.8802,\n",
      "          0.6795, 0.7708, 0.3139, 0.5952],\n",
      "         [0.6185, 0.1487, 0.3170, 0.6650, 0.5432, 0.7444, 0.6268, 0.1740,\n",
      "          0.1039, 0.5788, 0.3727, 0.8719, 0.2719, 0.6598, 0.1956, 0.7690,\n",
      "          0.2380, 0.2858, 0.3647, 0.5077, 0.2387, 0.6241, 0.6428, 0.3659,\n",
      "          0.2952, 0.5210, 0.1209, 0.7938],\n",
      "         [0.5881, 0.0143, 0.9043, 0.3537, 0.1279, 0.9914, 0.2177, 0.9906,\n",
      "          0.4337, 0.4720, 0.1861, 0.4596, 0.1375, 0.1555, 0.0206, 0.6812,\n",
      "          0.4111, 1.0000, 0.9385, 0.1250, 0.4918, 0.0619, 0.8719, 0.1043,\n",
      "          0.6106, 0.6388, 0.4048, 0.3604],\n",
      "         [0.6050, 0.0424, 0.9666, 0.0447, 0.6710, 0.5162, 0.8713, 0.9038,\n",
      "          0.7489, 0.6800, 0.5425, 0.2072, 0.5985, 0.8565, 0.0923, 0.6457,\n",
      "          0.6431, 0.9925, 0.9216, 0.4709, 0.7128, 0.0606, 0.3619, 0.5559,\n",
      "          0.0499, 0.2380, 0.3769, 0.1125],\n",
      "         [0.7322, 0.2972, 0.1301, 0.5906, 0.2333, 0.9846, 0.5920, 0.7551,\n",
      "          0.2643, 0.3366, 0.3616, 0.4322, 0.9926, 0.3742, 0.6475, 0.1872,\n",
      "          0.6921, 0.2302, 0.6295, 0.8092, 0.6203, 0.2150, 0.1951, 0.4258,\n",
      "          0.0070, 0.4795, 0.5667, 0.2252],\n",
      "         [0.9533, 0.7220, 0.6960, 0.8377, 0.3193, 0.0375, 0.9377, 0.9028,\n",
      "          0.2601, 0.0503, 0.2357, 0.8091, 0.3334, 0.1890, 0.1051, 0.6029,\n",
      "          0.8295, 0.9064, 0.5144, 0.3585, 0.7776, 0.1835, 0.2364, 0.7562,\n",
      "          0.2857, 0.8173, 0.8574, 0.5145],\n",
      "         [0.2352, 0.4556, 0.4490, 0.7556, 0.4015, 0.5601, 0.9639, 0.7734,\n",
      "          0.7148, 0.2471, 0.4399, 0.0483, 0.6447, 0.7691, 0.2068, 0.1947,\n",
      "          0.6107, 0.8052, 0.0039, 0.2246, 0.2889, 0.4967, 0.8252, 0.6724,\n",
      "          0.6758, 0.4402, 0.7963, 0.4216]]])\n"
     ]
    }
   ],
   "source": [
    "# 데이터 준비\n",
    "X = torch.rand(1, 28, 28, device=device)\n",
    "print(f\"X => {X}\")\n",
    "\n",
    "# sample은 1개 행은 28개 열은 28개"
   ]
  },
  {
   "cell_type": "code",
   "execution_count": 23,
   "metadata": {},
   "outputs": [],
   "source": [
    "# 모델 학습\n",
    "logits=model(X)"
   ]
  },
  {
   "cell_type": "code",
   "execution_count": 29,
   "metadata": {},
   "outputs": [
    {
     "name": "stdout",
     "output_type": "stream",
     "text": [
      "학습결과 -----------------\n",
      "tensor([[ 0.0696,  0.0919, -0.1209, -0.0188,  0.0205,  0.0591,  0.0031, -0.0220,\n",
      "         -0.0158, -0.1173]], grad_fn=<AddmmBackward0>)\n",
      "torch.Size([1, 10])\n"
     ]
    }
   ],
   "source": [
    "print(f\"학습결과 -----------------\\n{logits}\\n{logits.shape}\")"
   ]
  },
  {
   "cell_type": "code",
   "execution_count": 25,
   "metadata": {},
   "outputs": [
    {
     "name": "stdout",
     "output_type": "stream",
     "text": [
      "pred_probab: tensor([[0.1075, 0.1099, 0.0889, 0.0984, 0.1023, 0.1064, 0.1006, 0.0981, 0.0987,\n",
      "         0.0892]], grad_fn=<SoftmaxBackward0>)\n",
      "Predicted class: tensor([1])\n"
     ]
    }
   ],
   "source": [
    "# 결과 분석\n",
    "pred_probab = nn.Softmax(dim=1)(logits)\n",
    "print(f\"pred_probab: {pred_probab}\")\n",
    "y_pred = pred_probab.argmax(1)\n",
    "print(f\"Predicted class: {y_pred}\")"
   ]
  },
  {
   "cell_type": "code",
   "execution_count": 26,
   "metadata": {},
   "outputs": [],
   "source": [
    "import matplotlib.pyplot as plt"
   ]
  },
  {
   "cell_type": "code",
   "execution_count": 27,
   "metadata": {},
   "outputs": [
    {
     "data": {
      "image/png": "[encoded data removed]",
      "text/plain": [
       "<Figure size 432x288 with 1 Axes>"
      ]
     },
     "metadata": {
      "needs_background": "light"
     },
     "output_type": "display_data"
    }
   ],
   "source": [
    "plt.imshow(X.reshape(28,28),cmap='gray')\n",
    "plt.show()"
   ]
  },
  {
   "cell_type": "markdown",
   "metadata": {},
   "source": [
    "## [3] MNIST 데이터 불러오기"
   ]
  },
  {
   "cell_type": "code",
   "execution_count": null,
   "metadata": {},
   "outputs": [],
   "source": [
    "from torch.utils.data import Dataset\n",
    "from torchvision.transforms import ToTensor"
   ]
  },
  {
   "cell_type": "code",
   "execution_count": 30,
   "metadata": {},
   "outputs": [
    {
     "name": "stdout",
     "output_type": "stream",
     "text": [
      "Downloading http://fashion-mnist.s3-website.eu-central-1.amazonaws.com/train-images-idx3-ubyte.gz\n",
      "Downloading http://fashion-mnist.s3-website.eu-central-1.amazonaws.com/train-images-idx3-ubyte.gz to data\\FashionMNIST\\raw\\train-images-idx3-ubyte.gz\n"
     ]
    },
    {
     "data": {
      "application/vnd.jupyter.widget-view+json": {
       "model_id": "d23d190aadf2453190cc9a8ea45ab65e",
       "version_major": 2,
       "version_minor": 0
      },
      "text/plain": [
       "  0%|          | 0/26421880 [00:00<?, ?it/s]"
      ]
     },
     "metadata": {},
     "output_type": "display_data"
    },
    {
     "name": "stdout",
     "output_type": "stream",
     "text": [
      "Extracting data\\FashionMNIST\\raw\\train-images-idx3-ubyte.gz to data\\FashionMNIST\\raw\n",
      "\n",
      "Downloading http://fashion-mnist.s3-website.eu-central-1.amazonaws.com/train-labels-idx1-ubyte.gz\n",
      "Downloading http://fashion-mnist.s3-website.eu-central-1.amazonaws.com/train-labels-idx1-ubyte.gz to data\\FashionMNIST\\raw\\train-labels-idx1-ubyte.gz\n"
     ]
    },
    {
     "data": {
      "application/vnd.jupyter.widget-view+json": {
       "model_id": "e20b50284e6d42e8a16c25e610bab8ba",
       "version_major": 2,
       "version_minor": 0
      },
      "text/plain": [
       "  0%|          | 0/29515 [00:00<?, ?it/s]"
      ]
     },
     "metadata": {},
     "output_type": "display_data"
    },
    {
     "name": "stdout",
     "output_type": "stream",
     "text": [
      "Extracting data\\FashionMNIST\\raw\\train-labels-idx1-ubyte.gz to data\\FashionMNIST\\raw\n",
      "\n",
      "Downloading http://fashion-mnist.s3-website.eu-central-1.amazonaws.com/t10k-images-idx3-ubyte.gz\n",
      "Downloading http://fashion-mnist.s3-website.eu-central-1.amazonaws.com/t10k-images-idx3-ubyte.gz to data\\FashionMNIST\\raw\\t10k-images-idx3-ubyte.gz\n"
     ]
    },
    {
     "data": {
      "application/vnd.jupyter.widget-view+json": {
       "model_id": "6857731e850241cfba917b1fce6b605c",
       "version_major": 2,
       "version_minor": 0
      },
      "text/plain": [
       "  0%|          | 0/4422102 [00:00<?, ?it/s]"
      ]
     },
     "metadata": {},
     "output_type": "display_data"
    },
    {
     "name": "stdout",
     "output_type": "stream",
     "text": [
      "Extracting data\\FashionMNIST\\raw\\t10k-images-idx3-ubyte.gz to data\\FashionMNIST\\raw\n",
      "\n",
      "Downloading http://fashion-mnist.s3-website.eu-central-1.amazonaws.com/t10k-labels-idx1-ubyte.gz\n",
      "Downloading http://fashion-mnist.s3-website.eu-central-1.amazonaws.com/t10k-labels-idx1-ubyte.gz to data\\FashionMNIST\\raw\\t10k-labels-idx1-ubyte.gz\n"
     ]
    },
    {
     "data": {
      "application/vnd.jupyter.widget-view+json": {
       "model_id": "8b5e27048bd2468e9b67f66b01cd1c7e",
       "version_major": 2,
       "version_minor": 0
      },
      "text/plain": [
       "  0%|          | 0/5148 [00:00<?, ?it/s]"
      ]
     },
     "metadata": {},
     "output_type": "display_data"
    },
    {
     "name": "stdout",
     "output_type": "stream",
     "text": [
      "Extracting data\\FashionMNIST\\raw\\t10k-labels-idx1-ubyte.gz to data\\FashionMNIST\\raw\n",
      "\n"
     ]
    }
   ],
   "source": [
    "# MNIST 데이터 => train,훈련\n",
    "training_data = datasets.FashionMNIST(\n",
    "    root=\"data\",\n",
    "    train=True,\n",
    "    download=True,\n",
    "    transform=ToTensor()\n",
    ")\n",
    "\n",
    "test_data = datasets.FashionMNIST(\n",
    "    root=\"data\",\n",
    "    train=False,\n",
    "    download=True,\n",
    "    transform=ToTensor()\n",
    ")"
   ]
  },
  {
   "cell_type": "code",
   "execution_count": 31,
   "metadata": {},
   "outputs": [
    {
     "data": {
      "text/plain": [
       "(torchvision.datasets.mnist.FashionMNIST, torch.Size([60000, 28, 28]))"
      ]
     },
     "execution_count": 31,
     "metadata": {},
     "output_type": "execute_result"
    }
   ],
   "source": [
    "type(training_data),training_data.data.shape"
   ]
  },
  {
   "cell_type": "code",
   "execution_count": 32,
   "metadata": {},
   "outputs": [
    {
     "data": {
      "text/plain": [
       "(torchvision.datasets.mnist.FashionMNIST, torch.Size([10000, 28, 28]))"
      ]
     },
     "execution_count": 32,
     "metadata": {},
     "output_type": "execute_result"
    }
   ],
   "source": [
    "type(test_data),test_data.data.shape"
   ]
  },
  {
   "cell_type": "code",
   "execution_count": 33,
   "metadata": {},
   "outputs": [],
   "source": [
    "# 데이터 타겟 정보\n",
    "labels_map = {\n",
    "    0: \"T-Shirt\",\n",
    "    1: \"Trouser\",\n",
    "    2: \"Pullover\",\n",
    "    3: \"Dress\",\n",
    "    4: \"Coat\",\n",
    "    5: \"Sandal\",\n",
    "    6: \"Shirt\",\n",
    "    7: \"Sneaker\",\n",
    "    8: \"Bag\",\n",
    "    9: \"Ankle Boot\",\n",
    "}"
   ]
  },
  {
   "cell_type": "code",
   "execution_count": 37,
   "metadata": {},
   "outputs": [
    {
     "name": "stdout",
     "output_type": "stream",
     "text": [
      "img => torch.Size([1, 28, 28])\n",
      "img => torch.Size([28, 28])\n",
      "img => torch.Size([1, 28, 28])\n",
      "img => torch.Size([28, 28])\n",
      "img => torch.Size([1, 28, 28])\n",
      "img => torch.Size([28, 28])\n",
      "img => torch.Size([1, 28, 28])\n",
      "img => torch.Size([28, 28])\n",
      "img => torch.Size([1, 28, 28])\n",
      "img => torch.Size([28, 28])\n",
      "img => torch.Size([1, 28, 28])\n",
      "img => torch.Size([28, 28])\n",
      "img => torch.Size([1, 28, 28])\n",
      "img => torch.Size([28, 28])\n",
      "img => torch.Size([1, 28, 28])\n",
      "img => torch.Size([28, 28])\n",
      "img => torch.Size([1, 28, 28])\n",
      "img => torch.Size([28, 28])\n"
     ]
    },
    {
     "data": {
      "image/png": "[encoded data removed]",
      "text/plain": [
       "<Figure size 576x576 with 9 Axes>"
      ]
     },
     "metadata": {
      "needs_background": "light"
     },
     "output_type": "display_data"
    }
   ],
   "source": [
    "figure = plt.figure(figsize=(8, 8))\n",
    "cols, rows = 3, 3\n",
    "for i in range(1, cols * rows + 1):\n",
    "    sample_idx = torch.randint(len(training_data), size=(1,)).item()\n",
    "    img, label = training_data[sample_idx]\n",
    "    figure.add_subplot(rows, cols, i)\n",
    "    plt.title(labels_map[label])\n",
    "    plt.axis(\"off\")\n",
    "    print(f\"img => {img.shape}\")\n",
    "    a=img.squeeze()\n",
    "    print(f\"img => {a.shape}\")\n",
    "    plt.imshow(img.squeeze(), cmap=\"gray\")\n",
    "plt.show()"
   ]
  },
  {
   "cell_type": "code",
   "execution_count": null,
   "metadata": {},
   "outputs": [],
   "source": []
  },
  {
   "cell_type": "code",
   "execution_count": null,
   "metadata": {},
   "outputs": [],
   "source": []
  },
  {
   "cell_type": "code",
   "execution_count": null,
   "metadata": {},
   "outputs": [],
   "source": []
  },
  {
   "cell_type": "code",
   "execution_count": null,
   "metadata": {},
   "outputs": [],
   "source": []
  },
  {
   "cell_type": "code",
   "execution_count": null,
   "metadata": {},
   "outputs": [],
   "source": []
  }
 ],
 "metadata": {
  "kernelspec": {
   "display_name": "Python 3.9.12 ('base')",
   "language": "python",
   "name": "python3"
  },
  "language_info": {
   "codemirror_mode": {
    "name": "ipython",
    "version": 3
   },
   "file_extension": ".py",
   "mimetype": "text/x-python",
   "name": "python",
   "nbconvert_exporter": "python",
   "pygments_lexer": "ipython3",
   "version": "3.9.12"
  },
  "orig_nbformat": 4,
  "vscode": {
   "interpreter": {
    "hash": "ad2bdc8ecc057115af97d19610ffacc2b4e99fae6737bb82f5d7fb13d2f2c186"
   }
  }
 },
 "nbformat": 4,
 "nbformat_minor": 2
}
