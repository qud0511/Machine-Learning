{
 "cells": [
  {
   "cell_type": "markdown",
   "metadata": {},
   "source": [
    "# <span style='color:orange'>MNIST</span>\n",
    "- 학습용 : 60000 개\n",
    "- 테스트용 : 10000 개\n",
    "- 이미지 : 28*28 = 784 => 입력\n",
    "- 타겟 : 0~9 총 10개 => 출력"
   ]
  },
  {
   "cell_type": "markdown",
   "metadata": {},
   "source": [
    "## 손글씨 숫자 식별 모델\n",
    "- 데이터 : MNIST 데이터 사용\n",
    "- 학습모델 : 신경망 모델\n",
    "- 동작 : 0~9사이 숫자 판별"
   ]
  },
  {
   "cell_type": "code",
   "execution_count": 219,
   "metadata": {},
   "outputs": [],
   "source": [
    "# 모듈 로딩\n",
    "import tensorflow as tf\n",
    "from keras.datasets.mnist import load_data\n",
    "from keras import Sequential\n",
    "from keras.layers import Dense, Dropout\n",
    "import numpy as np"
   ]
  },
  {
   "cell_type": "markdown",
   "metadata": {},
   "source": [
    "### [1] 데이터 불러오기"
   ]
  },
  {
   "cell_type": "code",
   "execution_count": 220,
   "metadata": {},
   "outputs": [],
   "source": [
    "(x_train,y_train),(x_test,y_test)=load_data()"
   ]
  },
  {
   "cell_type": "code",
   "execution_count": 221,
   "metadata": {},
   "outputs": [
    {
     "name": "stdout",
     "output_type": "stream",
     "text": [
      "x_train shape : (60000, 28, 28), x_test shape : (10000, 28, 28)\n"
     ]
    }
   ],
   "source": [
    "print(f\"x_train shape : {x_train.shape}, x_test shape : {x_test.shape}\")"
   ]
  },
  {
   "cell_type": "code",
   "execution_count": 222,
   "metadata": {},
   "outputs": [],
   "source": [
    "# 검증용 데이터 셋 준비\n",
    "from sklearn.model_selection import train_test_split\n",
    "\n",
    "x_train,x_val,y_train,y_val=train_test_split(x_train,y_train,stratify=y_train)"
   ]
  },
  {
   "cell_type": "code",
   "execution_count": 223,
   "metadata": {},
   "outputs": [
    {
     "name": "stdout",
     "output_type": "stream",
     "text": [
      "x_train shape : (45000, 28, 28), x_val shape : (15000, 28, 28)\n",
      "y_train shape : (45000,), y_val shape : (15000,)\n"
     ]
    }
   ],
   "source": [
    "print(f\"x_train shape : {x_train.shape}, x_val shape : {x_val.shape}\")\n",
    "print(f\"y_train shape : {y_train.shape}, y_val shape : {y_val.shape}\")"
   ]
  },
  {
   "cell_type": "markdown",
   "metadata": {},
   "source": [
    "### [2] 데이터 전처리\n",
    "- 수치데이터 => 스케일링\n",
    "- 범주형 데이터 => OHE"
   ]
  },
  {
   "cell_type": "code",
   "execution_count": 224,
   "metadata": {},
   "outputs": [
    {
     "data": {
      "text/plain": [
       "(array([[  0,   0,   0,   0,   0,   0,   0,   0,   0,   0,   0,   0,   0,\n",
       "           0,   0,   0,   0,   0,   0,   0,   0,   0,   0,   0,   0,   0,\n",
       "           0,   0],\n",
       "        [  0,   0,   0,   0,   0,   0,   0,   0,   0,   0,   0,   0,   0,\n",
       "           0,   0,   0,   0,   0,   0,   0,   0,   0,   0,   0,   0,   0,\n",
       "           0,   0],\n",
       "        [  0,   0,   0,   0,   0,   0,   0,   0,   0,   0,   0,   0,   0,\n",
       "           0,   0,   0,   0,   0,   0,   0,   0,   0,   0,   0,   0,   0,\n",
       "           0,   0],\n",
       "        [  0,   0,   0,   0,   0,   0,   0,   0,   0,   0,   0,   0,   0,\n",
       "           0,   0,   0,   0,   0,   0,   0,   0,   0,   0,   0,   0,   0,\n",
       "           0,   0],\n",
       "        [  0,   0,   0,   0,   0,   0,   0,   0,   0,   0,   0,   0,   0,\n",
       "           0,   0,   0,   0,   0,   0,   0,   0,   0,   0,   0,   0,   0,\n",
       "           0,   0],\n",
       "        [  0,   0,   0,   0,   0,   0,   0,   0,   0,   0,   0,   0,   0,\n",
       "           0,   0,   0,   0,   0,   0,   0,   0,   0,   0,   0,   0,   0,\n",
       "           0,   0],\n",
       "        [  0,   0,   0,   0,   0,   0,   0,   0,  11,  62, 107, 107,  62,\n",
       "          11,   0,   0,   0,   0,   0,   0,   0,   0,   0,   0,   0,   0,\n",
       "           0,   0],\n",
       "        [  0,   0,   0,   0,   0,   0,  15, 121, 220, 253, 253, 253, 253,\n",
       "         220, 123,  12,   0,   0,   0,   0,   0,   0,   0,   0,   0,   0,\n",
       "           0,   0],\n",
       "        [  0,   0,   0,   0,   0,   0,  64, 253, 253, 248, 218, 226, 253,\n",
       "         253, 253, 222,  80,   0,   0,   0,   0,   0,   0,   0,   0,   0,\n",
       "           0,   0],\n",
       "        [  0,   0,   0,   0,   0,   0, 175, 253, 253, 178,   7,  15,  41,\n",
       "         135, 234, 253, 234,  15,   0,   0,   0,   0,   0,   0,   0,   0,\n",
       "           0,   0],\n",
       "        [  0,   0,   0,   0,   0,   0, 111, 253, 247,  81,   0,   0,   0,\n",
       "           0,  44, 230, 254, 144,   0,   0,   0,   0,   0,   0,   0,   0,\n",
       "           0,   0],\n",
       "        [  0,   0,   0,   0,   0,   0,  38, 106,  43,   0,   0,   0,   0,\n",
       "           0,   0, 169, 254, 124,   0,   0,   0,   0,   0,   0,   0,   0,\n",
       "           0,   0],\n",
       "        [  0,   0,   0,   0,   0,   0,   0,   0,   0,   0,   0,   0,   0,\n",
       "           0,   0, 106, 254, 213,   0,   0,   0,   0,   0,   0,   0,   0,\n",
       "           0,   0],\n",
       "        [  0,   0,   0,   0,   0,   0,   0,   0,   0,   0,   0,   0,   0,\n",
       "           0,   0, 111, 254, 208,   0,   0,   0,   0,   0,   0,   0,   0,\n",
       "           0,   0],\n",
       "        [  0,   0,   0,   0,   0,   0,   0,   0,   0,   0,   0,   0,   0,\n",
       "           0,   0, 112, 255, 208,   0,   0,   0,   0,   0,   0,   0,   0,\n",
       "           0,   0],\n",
       "        [  0,   0,   0,   0,   0,   0,   0,   0,   0,   3,  43,  33,  99,\n",
       "          99,  99, 198, 254, 214,   5,   0,   0,   0,   0,   0,   0,   0,\n",
       "           0,   0],\n",
       "        [  0,   0,   0,   0,   0,   0,   0,   0,  80, 196, 253, 253, 253,\n",
       "         253, 253, 253, 254, 253, 144,  96,  25,  12,   0,   0,   0,   0,\n",
       "           0,   0],\n",
       "        [  0,   0,   0,   0,   0,   0,   0,  19, 199, 253, 237, 135, 138,\n",
       "         253, 253, 253, 254, 253, 253, 253, 253, 224, 151,  68,   3,   0,\n",
       "           0,   0],\n",
       "        [  0,   0,   0,   0,   0,   0,   0,  59, 253, 253,  91,  38, 194,\n",
       "         253, 253, 240,  76, 107, 164, 212, 232, 253, 253, 253, 131,  17,\n",
       "           0,   0],\n",
       "        [  0,   0,   0,   0,   0,   0,   0,  33, 253, 253, 246, 233, 253,\n",
       "         253, 207,  59,   0,   0,   0,   0,  20, 126, 247, 253, 253, 184,\n",
       "           0,   0],\n",
       "        [  0,   0,   0,   0,   0,   0,   0,  54, 253, 253, 253, 253, 240,\n",
       "         101,   2,   0,   0,   0,   0,   0,   0,   0,  28,  80, 114,  51,\n",
       "           0,   0],\n",
       "        [  0,   0,   0,   0,   0,   0,   0,   2,  32, 106, 106,  90,  19,\n",
       "           0,   0,   0,   0,   0,   0,   0,   0,   0,   0,   0,   0,   0,\n",
       "           0,   0],\n",
       "        [  0,   0,   0,   0,   0,   0,   0,   0,   0,   0,   0,   0,   0,\n",
       "           0,   0,   0,   0,   0,   0,   0,   0,   0,   0,   0,   0,   0,\n",
       "           0,   0],\n",
       "        [  0,   0,   0,   0,   0,   0,   0,   0,   0,   0,   0,   0,   0,\n",
       "           0,   0,   0,   0,   0,   0,   0,   0,   0,   0,   0,   0,   0,\n",
       "           0,   0],\n",
       "        [  0,   0,   0,   0,   0,   0,   0,   0,   0,   0,   0,   0,   0,\n",
       "           0,   0,   0,   0,   0,   0,   0,   0,   0,   0,   0,   0,   0,\n",
       "           0,   0],\n",
       "        [  0,   0,   0,   0,   0,   0,   0,   0,   0,   0,   0,   0,   0,\n",
       "           0,   0,   0,   0,   0,   0,   0,   0,   0,   0,   0,   0,   0,\n",
       "           0,   0],\n",
       "        [  0,   0,   0,   0,   0,   0,   0,   0,   0,   0,   0,   0,   0,\n",
       "           0,   0,   0,   0,   0,   0,   0,   0,   0,   0,   0,   0,   0,\n",
       "           0,   0],\n",
       "        [  0,   0,   0,   0,   0,   0,   0,   0,   0,   0,   0,   0,   0,\n",
       "           0,   0,   0,   0,   0,   0,   0,   0,   0,   0,   0,   0,   0,\n",
       "           0,   0]], dtype=uint8),\n",
       " 2)"
      ]
     },
     "execution_count": 224,
     "metadata": {},
     "output_type": "execute_result"
    }
   ],
   "source": [
    "# 저장된 값 확인\n",
    "x_train[0], y_train[0]"
   ]
  },
  {
   "cell_type": "code",
   "execution_count": 225,
   "metadata": {},
   "outputs": [],
   "source": [
    "# 이미지 데이터의 픽셀값 즉, 특성 0.0~1.0으로 스케일링\n",
    "# 브로드 캐스팅\n",
    "x_train=x_train/255.\n",
    "x_val=x_val/255.\n",
    "x_test=x_test/255."
   ]
  },
  {
   "cell_type": "code",
   "execution_count": 226,
   "metadata": {},
   "outputs": [],
   "source": [
    "# 타켓 라벨 => OHE으로 변환\n",
    "from sklearn.preprocessing import OneHotEncoder,LabelEncoder"
   ]
  },
  {
   "cell_type": "code",
   "execution_count": 227,
   "metadata": {},
   "outputs": [],
   "source": [
    "encoder=OneHotEncoder()\n",
    "encoder.fit(y_train.reshape(-1, 1))\n",
    "y_train=encoder.transform(y_train.reshape(-1, 1))\n",
    "y_val=encoder.transform(y_val.reshape(-1, 1))\n",
    "y_test=encoder.transform(y_test.reshape(-1, 1))"
   ]
  },
  {
   "cell_type": "code",
   "execution_count": 228,
   "metadata": {},
   "outputs": [
    {
     "data": {
      "text/plain": [
       "(scipy.sparse._csr.csr_matrix,\n",
       " scipy.sparse._csr.csr_matrix,\n",
       " scipy.sparse._csr.csr_matrix)"
      ]
     },
     "execution_count": 228,
     "metadata": {},
     "output_type": "execute_result"
    }
   ],
   "source": [
    "# 원핫인코딩 후 타입확인\n",
    "type(y_train), type(y_val), type(y_test)"
   ]
  },
  {
   "cell_type": "code",
   "execution_count": 229,
   "metadata": {},
   "outputs": [],
   "source": [
    "# 타겟 타입 변경\n",
    "y_train=y_train.toarray()\n",
    "y_val=y_val.toarray()\n",
    "y_test=y_test.toarray()"
   ]
  },
  {
   "cell_type": "code",
   "execution_count": 230,
   "metadata": {},
   "outputs": [
    {
     "data": {
      "text/plain": [
       "(numpy.ndarray, numpy.ndarray, numpy.ndarray)"
      ]
     },
     "execution_count": 230,
     "metadata": {},
     "output_type": "execute_result"
    }
   ],
   "source": [
    "# 타입변경 후\n",
    "type(y_train), type(y_val), type(y_test)"
   ]
  },
  {
   "cell_type": "markdown",
   "metadata": {},
   "source": [
    "### [3] 모델\n",
    "- (1) 모델구성\n",
    "- (2) 모델 생성"
   ]
  },
  {
   "cell_type": "markdown",
   "metadata": {},
   "source": [
    "#### [3-1] 모델 구성\n",
    "- 입력 데이터 : 784 => 28*28 이미지 데이터\n",
    "- 출력 데이터 : 10 => 0~9 숫자 라벨\n",
    "- 학습 방법 : 분류-다중분류"
   ]
  },
  {
   "cell_type": "code",
   "execution_count": 243,
   "metadata": {},
   "outputs": [],
   "source": [
    "# 모델 테두리 생성\n",
    "model=Sequential(name='MNIST_NNModel')"
   ]
  },
  {
   "cell_type": "code",
   "execution_count": 244,
   "metadata": {},
   "outputs": [],
   "source": [
    "# 모델 추가\n",
    "\n",
    "# Layer 생성 => Node(퍼셉트론, 뉴런) 갯수, 활성화 함수, [옵션]input_shape()\n",
    "model.add(Dense(250,activation='relu',input_shape=(784,)))\n",
    "model.add(Dropout(0.3))\n",
    "\n",
    "# 여러개의 은닉층\n",
    "model.add(Dense(100,activation='relu'))\n",
    "model.add(Dropout(0.3))\n",
    "\n",
    "# 출력층 생성 => Node(퍼셉트론, 뉴런) 갯수, 활성화 함수\n",
    "model.add(Dense(10,activation='softmax'))"
   ]
  },
  {
   "cell_type": "code",
   "execution_count": 245,
   "metadata": {},
   "outputs": [
    {
     "name": "stdout",
     "output_type": "stream",
     "text": [
      "Model: \"MNIST_NNModel\"\n",
      "_________________________________________________________________\n",
      " Layer (type)                Output Shape              Param #   \n",
      "=================================================================\n",
      " dense_20 (Dense)            (None, 250)               196250    \n",
      "                                                                 \n",
      " dropout_2 (Dropout)         (None, 250)               0         \n",
      "                                                                 \n",
      " dense_21 (Dense)            (None, 100)               25100     \n",
      "                                                                 \n",
      " dropout_3 (Dropout)         (None, 100)               0         \n",
      "                                                                 \n",
      " dense_22 (Dense)            (None, 10)                1010      \n",
      "                                                                 \n",
      "=================================================================\n",
      "Total params: 222,360\n",
      "Trainable params: 222,360\n",
      "Non-trainable params: 0\n",
      "_________________________________________________________________\n"
     ]
    }
   ],
   "source": [
    "# 모델 확인\n",
    "model.summary()\n",
    "\n",
    "# 첫번째 레이어에서는 (784+1)*30=23550\n",
    "# 출력층에서는 (30+1)*10=310"
   ]
  },
  {
   "cell_type": "markdown",
   "metadata": {},
   "source": [
    "#### [3-2] 모델생성\n",
    "- loss 함수\n",
    "  - 이진분류 => binary_crossentropy\n",
    "  - 다중분류 => sparse_categorical_crossentropy, categorical_crossentropy\n",
    "- optimizer 기법 => 'rmsprop'\n",
    "- metrics 평가항목 => 'loss'"
   ]
  },
  {
   "cell_type": "code",
   "execution_count": 246,
   "metadata": {},
   "outputs": [],
   "source": [
    "model.compile(loss='categorical_crossentropy',optimizer='adam',metrics='accuracy')"
   ]
  },
  {
   "cell_type": "markdown",
   "metadata": {},
   "source": [
    "### [4] 학습"
   ]
  },
  {
   "cell_type": "code",
   "execution_count": 267,
   "metadata": {},
   "outputs": [],
   "source": [
    "from keras.callbacks import EarlyStopping,ModelCheckpoint"
   ]
  },
  {
   "cell_type": "code",
   "execution_count": 253,
   "metadata": {},
   "outputs": [],
   "source": [
    "# callback 함수 만들기\n",
    "stopCB=EarlyStopping(monitor='val_loss',patience=3) "
   ]
  },
  {
   "cell_type": "code",
   "execution_count": 283,
   "metadata": {},
   "outputs": [],
   "source": [
    "MODEL_PATH='./modelFiles'\n",
    "modelCB=ModelCheckpoint(MODEL_PATH,save_best_only=True,save_weights_only=True)"
   ]
  },
  {
   "cell_type": "markdown",
   "metadata": {},
   "source": [
    "- save_best_only=True는 베스트만 보여줌\n",
    "- save_weights_only=True는 가중치를 넣어서 보겠다는 의미"
   ]
  },
  {
   "cell_type": "code",
   "execution_count": 235,
   "metadata": {},
   "outputs": [],
   "source": [
    "# 학습을 위한 배열 변경\n",
    "x_train=x_train.reshape(-1,28*28)\n",
    "x_val=x_val.reshape(-1,28*28)\n",
    "x_test=x_test.reshape(-1,28*28)"
   ]
  },
  {
   "cell_type": "code",
   "execution_count": 284,
   "metadata": {},
   "outputs": [
    {
     "name": "stdout",
     "output_type": "stream",
     "text": [
      "Epoch 1/5\n",
      "1407/1407 [==============================] - 4s 3ms/step - loss: 0.0227 - accuracy: 0.9934 - val_loss: 0.1219 - val_accuracy: 0.9796\n",
      "Epoch 2/5\n",
      "1407/1407 [==============================] - 4s 3ms/step - loss: 0.0238 - accuracy: 0.9929 - val_loss: 0.1321 - val_accuracy: 0.9776\n",
      "Epoch 3/5\n",
      "1407/1407 [==============================] - 4s 3ms/step - loss: 0.0220 - accuracy: 0.9930 - val_loss: 0.1380 - val_accuracy: 0.9783\n",
      "Epoch 4/5\n",
      "1407/1407 [==============================] - 4s 3ms/step - loss: 0.0219 - accuracy: 0.9938 - val_loss: 0.1317 - val_accuracy: 0.9790\n"
     ]
    }
   ],
   "source": [
    "his=model.fit(x_train,y_train,epochs=5,\n",
    "            validation_data=(x_val,y_val),callbacks=[stopCB,modelCB])"
   ]
  },
  {
   "cell_type": "code",
   "execution_count": 270,
   "metadata": {},
   "outputs": [
    {
     "data": {
      "image/png": "[encoded data removed]",
      "text/plain": [
       "<Figure size 1440x576 with 1 Axes>"
      ]
     },
     "metadata": {
      "needs_background": "light"
     },
     "output_type": "display_data"
    }
   ],
   "source": [
    "# 학습 진행 결과 시각화\n",
    "import matplotlib.pyplot as plt\n",
    "\n",
    "plt.figure(figsize=(20,8))\n",
    "plt.plot(his.epoch,his.history['loss'], label='Train loss')\n",
    "plt.plot(his.epoch,his.history['val_loss'],label='Validation loss')\n",
    "plt.legend()\n",
    "plt.xlabel('epoch')\n",
    "plt.ylabel('loss')\n",
    "plt.show()"
   ]
  },
  {
   "cell_type": "code",
   "execution_count": 271,
   "metadata": {},
   "outputs": [
    {
     "data": {
      "image/png": "[encoded data removed]",
      "text/plain": [
       "<Figure size 1440x576 with 1 Axes>"
      ]
     },
     "metadata": {
      "needs_background": "light"
     },
     "output_type": "display_data"
    }
   ],
   "source": [
    "# 학습 진행 결과 시각화\n",
    "import matplotlib.pyplot as plt\n",
    "\n",
    "plt.figure(figsize=(20,8))\n",
    "plt.plot(his.epoch,his.history['accuracy'], label='Train accuracy')\n",
    "plt.plot(his.epoch,his.history['val_accuracy'],label='Validation accuracy')\n",
    "plt.legend()\n",
    "plt.xlabel('epoch')\n",
    "plt.ylabel('accuracy')\n",
    "plt.show()"
   ]
  },
  {
   "cell_type": "markdown",
   "metadata": {},
   "source": [
    "### [5] 평가\n",
    "- evaluate() 메서드\n",
    "  - test data, target'\n",
    "  - 반환값: loss, metrics에서 지정한 성능평가항목"
   ]
  },
  {
   "cell_type": "code",
   "execution_count": 295,
   "metadata": {},
   "outputs": [
    {
     "name": "stdout",
     "output_type": "stream",
     "text": [
      "313/313 [==============================] - 0s 2ms/step - loss: 0.1270 - accuracy: 0.9820\n"
     ]
    }
   ],
   "source": [
    "test_result=model.evaluate(x_test,y_test)"
   ]
  },
  {
   "cell_type": "markdown",
   "metadata": {},
   "source": [
    "### [6] 테스트 예측"
   ]
  },
  {
   "cell_type": "code",
   "execution_count": 309,
   "metadata": {},
   "outputs": [
    {
     "name": "stdout",
     "output_type": "stream",
     "text": [
      "1/1 [==============================] - 0s 22ms/step\n",
      "x_test의\n",
      "  예측값 확률은 [[0. 0. 0. 0. 0. 0. 0. 1. 0. 0.]]입니다.\n",
      "실제값의 확률은 [0. 0. 0. 0. 0. 0. 0. 1. 0. 0.]입니다.\n"
     ]
    }
   ],
   "source": [
    "test_pred=model.predict(x_test[0].reshape(-1,784))\n",
    "print(f\"x_test의\\n  예측값 확률은 {np.round(test_pred,2)}입니다.\")\n",
    "print(f\"실제값의 확률은 {y_test[0]}입니다.\")"
   ]
  },
  {
   "cell_type": "code",
   "execution_count": 300,
   "metadata": {},
   "outputs": [
    {
     "data": {
      "text/plain": [
       "array([[2.1910031e-29, 5.3903467e-20, 3.5104470e-18, ..., 1.0000000e+00,\n",
       "        3.6031600e-29, 2.6361939e-25],\n",
       "       [3.4116369e-22, 4.4651298e-14, 1.0000000e+00, ..., 6.3031065e-28,\n",
       "        2.4326845e-24, 0.0000000e+00],\n",
       "       [5.3676607e-17, 1.0000000e+00, 1.3418263e-14, ..., 1.5880621e-12,\n",
       "        5.9447863e-11, 1.6661111e-19],\n",
       "       ...,\n",
       "       [7.3340959e-31, 1.5694241e-18, 4.4521702e-25, ..., 9.5913966e-18,\n",
       "        2.0997899e-21, 7.5404816e-16],\n",
       "       [5.6305067e-29, 3.7336408e-28, 2.7461787e-33, ..., 1.4090251e-25,\n",
       "        1.1640941e-15, 3.6022522e-22],\n",
       "       [1.6647066e-27, 0.0000000e+00, 2.3209556e-32, ..., 0.0000000e+00,\n",
       "        1.0872918e-31, 2.3207406e-34]], dtype=float32)"
      ]
     },
     "execution_count": 300,
     "metadata": {},
     "output_type": "execute_result"
    }
   ],
   "source": [
    "test_pred"
   ]
  },
  {
   "cell_type": "code",
   "execution_count": null,
   "metadata": {},
   "outputs": [],
   "source": []
  },
  {
   "cell_type": "code",
   "execution_count": null,
   "metadata": {},
   "outputs": [],
   "source": []
  },
  {
   "cell_type": "code",
   "execution_count": null,
   "metadata": {},
   "outputs": [],
   "source": []
  },
  {
   "cell_type": "code",
   "execution_count": null,
   "metadata": {},
   "outputs": [],
   "source": []
  },
  {
   "cell_type": "markdown",
   "metadata": {},
   "source": [
    "##### epochs=10으로 하여 정확도 값이 떨어지는지 확인하기"
   ]
  },
  {
   "cell_type": "code",
   "execution_count": 282,
   "metadata": {},
   "outputs": [
    {
     "name": "stdout",
     "output_type": "stream",
     "text": [
      "Epoch 1/10\n",
      "1396/1407 [============================>.] - ETA: 0s - loss: 0.0261 - accuracy: 0.9925INFO:tensorflow:Assets written to: .\\modelFiles2\\assets\n",
      "1407/1407 [==============================] - 6s 4ms/step - loss: 0.0260 - accuracy: 0.9926 - val_loss: 0.1332 - val_accuracy: 0.9789\n",
      "Epoch 2/10\n",
      "1388/1407 [============================>.] - ETA: 0s - loss: 0.0214 - accuracy: 0.9938INFO:tensorflow:Assets written to: .\\modelFiles2\\assets\n",
      "1407/1407 [==============================] - 5s 4ms/step - loss: 0.0216 - accuracy: 0.9938 - val_loss: 0.1250 - val_accuracy: 0.9784\n",
      "Epoch 3/10\n",
      "1389/1407 [============================>.] - ETA: 0s - loss: 0.0241 - accuracy: 0.9929INFO:tensorflow:Assets written to: .\\modelFiles2\\assets\n",
      "1407/1407 [==============================] - 5s 4ms/step - loss: 0.0239 - accuracy: 0.9930 - val_loss: 0.1291 - val_accuracy: 0.9783\n",
      "Epoch 4/10\n",
      "1398/1407 [============================>.] - ETA: 0s - loss: 0.0223 - accuracy: 0.9933INFO:tensorflow:Assets written to: .\\modelFiles2\\assets\n",
      "1407/1407 [==============================] - 6s 4ms/step - loss: 0.0224 - accuracy: 0.9933 - val_loss: 0.1336 - val_accuracy: 0.9787\n",
      "Epoch 5/10\n",
      "1401/1407 [============================>.] - ETA: 0s - loss: 0.0222 - accuracy: 0.9937INFO:tensorflow:Assets written to: .\\modelFiles2\\assets\n",
      "1407/1407 [==============================] - 5s 3ms/step - loss: 0.0223 - accuracy: 0.9937 - val_loss: 0.1449 - val_accuracy: 0.9786\n"
     ]
    }
   ],
   "source": [
    "MODEL_PATH='./modelFiles2'\n",
    "modelCB=ModelCheckpoint(MODEL_PATH)\n",
    "his=model.fit(x_train,y_train,epochs=10,\n",
    "            validation_data=(x_val,y_val),callbacks=[stopCB,modelCB])"
   ]
  },
  {
   "cell_type": "code",
   "execution_count": 276,
   "metadata": {},
   "outputs": [
    {
     "data": {
      "image/png": "[encoded data removed]",
      "text/plain": [
       "<Figure size 1440x576 with 1 Axes>"
      ]
     },
     "metadata": {
      "needs_background": "light"
     },
     "output_type": "display_data"
    }
   ],
   "source": [
    "# 학습 진행 결과 시각화\n",
    "import matplotlib.pyplot as plt\n",
    "\n",
    "plt.figure(figsize=(20,8))\n",
    "plt.plot(his.epoch,his.history['loss'], label='Train loss')\n",
    "plt.plot(his.epoch,his.history['val_loss'],label='Validation loss')\n",
    "plt.legend()\n",
    "plt.xlabel('epoch')\n",
    "plt.ylabel('loss')\n",
    "plt.show()"
   ]
  },
  {
   "cell_type": "code",
   "execution_count": 277,
   "metadata": {},
   "outputs": [
    {
     "data": {
      "image/png": "[encoded data removed]",
      "text/plain": [
       "<Figure size 1440x576 with 1 Axes>"
      ]
     },
     "metadata": {
      "needs_background": "light"
     },
     "output_type": "display_data"
    }
   ],
   "source": [
    "# 학습 진행 결과 시각화\n",
    "import matplotlib.pyplot as plt\n",
    "\n",
    "plt.figure(figsize=(20,8))\n",
    "plt.plot(his.epoch,his.history['accuracy'], label='Train accuracy')\n",
    "plt.plot(his.epoch,his.history['val_accuracy'],label='Validation accuracy')\n",
    "plt.legend()\n",
    "plt.xlabel('epoch')\n",
    "plt.ylabel('accuracy')\n",
    "plt.show()"
   ]
  },
  {
   "cell_type": "markdown",
   "metadata": {},
   "source": [
    "##### model.add()안쓰고 모델 생성하기"
   ]
  },
  {
   "cell_type": "code",
   "execution_count": 266,
   "metadata": {},
   "outputs": [],
   "source": [
    "model1=Sequential([Dense(10,activation='relu',input_shape=(3,)),Dense(5,activation='relu'),Dense(1,activation='sigmoid')])"
   ]
  },
  {
   "cell_type": "markdown",
   "metadata": {},
   "source": [
    "##### ModelCheckpoint 연습"
   ]
  },
  {
   "cell_type": "code",
   "execution_count": 319,
   "metadata": {},
   "outputs": [],
   "source": [
    "MODEL_PATH=\"{epoch:02d}-{val_loss:.2f}.h5\"\n",
    "\n",
    "modelCB=ModelCheckpoint(MODEL_PATH,save_best_only=True,save_weights_only=True)"
   ]
  },
  {
   "cell_type": "code",
   "execution_count": 320,
   "metadata": {},
   "outputs": [
    {
     "name": "stdout",
     "output_type": "stream",
     "text": [
      "Epoch 1/8\n",
      "1407/1407 [==============================] - 4s 3ms/step - loss: 0.0228 - accuracy: 0.9929 - val_loss: 0.1320 - val_accuracy: 0.9791\n",
      "Epoch 2/8\n",
      "1407/1407 [==============================] - 4s 3ms/step - loss: 0.0218 - accuracy: 0.9934 - val_loss: 0.1363 - val_accuracy: 0.9783\n",
      "Epoch 3/8\n",
      "1407/1407 [==============================] - 4s 3ms/step - loss: 0.0206 - accuracy: 0.9942 - val_loss: 0.1344 - val_accuracy: 0.9796\n",
      "Epoch 4/8\n",
      "1407/1407 [==============================] - 4s 3ms/step - loss: 0.0210 - accuracy: 0.9940 - val_loss: 0.1425 - val_accuracy: 0.9799\n"
     ]
    }
   ],
   "source": [
    "his=model.fit(x_train,y_train,epochs=8,\n",
    "            validation_data=(x_val,y_val),callbacks=[stopCB,modelCB])"
   ]
  },
  {
   "cell_type": "code",
   "execution_count": null,
   "metadata": {},
   "outputs": [
    {
     "ename": "TypeError",
     "evalue": "save_weights() missing 1 required positional argument: 'filepath'",
     "output_type": "error",
     "traceback": [
      "\u001b[1;31m---------------------------------------------------------------------------\u001b[0m\n",
      "\u001b[1;31mTypeError\u001b[0m                                 Traceback (most recent call last)\n",
      "\u001b[1;32mc:\\deeplearning\\0914\\ex_mnist.ipynb 셀 34\u001b[0m in \u001b[0;36m<cell line: 2>\u001b[1;34m()\u001b[0m\n",
      "\u001b[0;32m      <a href='vscode-notebook-cell:/c%3A/deeplearning/0914/ex_mnist.ipynb#Y131sZmlsZQ%3D%3D?line=0'>1</a>\u001b[0m \u001b[39m# 모든데이터의 가중치만 저장\u001b[39;00m\n",
      "\u001b[1;32m----> <a href='vscode-notebook-cell:/c%3A/deeplearning/0914/ex_mnist.ipynb#Y131sZmlsZQ%3D%3D?line=1'>2</a>\u001b[0m model\u001b[39m.\u001b[39;49msave_weights()\n",
      "\n",
      "File \u001b[1;32m~\\AppData\\Roaming\\Python\\Python39\\site-packages\\keras\\utils\\traceback_utils.py:67\u001b[0m, in \u001b[0;36mfilter_traceback.<locals>.error_handler\u001b[1;34m(*args, **kwargs)\u001b[0m\n",
      "\u001b[0;32m     65\u001b[0m \u001b[39mexcept\u001b[39;00m \u001b[39mException\u001b[39;00m \u001b[39mas\u001b[39;00m e:  \u001b[39m# pylint: disable=broad-except\u001b[39;00m\n",
      "\u001b[0;32m     66\u001b[0m   filtered_tb \u001b[39m=\u001b[39m _process_traceback_frames(e\u001b[39m.\u001b[39m__traceback__)\n",
      "\u001b[1;32m---> 67\u001b[0m   \u001b[39mraise\u001b[39;00m e\u001b[39m.\u001b[39mwith_traceback(filtered_tb) \u001b[39mfrom\u001b[39;00m \u001b[39mNone\u001b[39m\n",
      "\u001b[0;32m     68\u001b[0m \u001b[39mfinally\u001b[39;00m:\n",
      "\u001b[0;32m     69\u001b[0m   \u001b[39mdel\u001b[39;00m filtered_tb\n",
      "\n",
      "File \u001b[1;32m~\\AppData\\Roaming\\Python\\Python39\\site-packages\\keras\\utils\\traceback_utils.py:64\u001b[0m, in \u001b[0;36mfilter_traceback.<locals>.error_handler\u001b[1;34m(*args, **kwargs)\u001b[0m\n",
      "\u001b[0;32m     62\u001b[0m filtered_tb \u001b[39m=\u001b[39m \u001b[39mNone\u001b[39;00m\n",
      "\u001b[0;32m     63\u001b[0m \u001b[39mtry\u001b[39;00m:\n",
      "\u001b[1;32m---> 64\u001b[0m   \u001b[39mreturn\u001b[39;00m fn(\u001b[39m*\u001b[39margs, \u001b[39m*\u001b[39m\u001b[39m*\u001b[39mkwargs)\n",
      "\u001b[0;32m     65\u001b[0m \u001b[39mexcept\u001b[39;00m \u001b[39mException\u001b[39;00m \u001b[39mas\u001b[39;00m e:  \u001b[39m# pylint: disable=broad-except\u001b[39;00m\n",
      "\u001b[0;32m     66\u001b[0m   filtered_tb \u001b[39m=\u001b[39m _process_traceback_frames(e\u001b[39m.\u001b[39m__traceback__)\n",
      "\n",
      "\u001b[1;31mTypeError\u001b[0m: save_weights() missing 1 required positional argument: 'filepath'"
     ]
    }
   ],
   "source": [
    "# 모든데이터의 가중치만 저장\n",
    "model.save_weights()"
   ]
  },
  {
   "cell_type": "code",
   "execution_count": null,
   "metadata": {},
   "outputs": [],
   "source": [
    "# \n",
    "model.save()"
   ]
  },
  {
   "cell_type": "code",
   "execution_count": null,
   "metadata": {},
   "outputs": [],
   "source": []
  },
  {
   "cell_type": "code",
   "execution_count": null,
   "metadata": {},
   "outputs": [],
   "source": []
  },
  {
   "cell_type": "code",
   "execution_count": null,
   "metadata": {},
   "outputs": [],
   "source": []
  }
 ],
 "metadata": {
  "kernelspec": {
   "display_name": "Python 3.9.12 ('EV_PY39')",
   "language": "python",
   "name": "python3"
  },
  "language_info": {
   "codemirror_mode": {
    "name": "ipython",
    "version": 3
   },
   "file_extension": ".py",
   "mimetype": "text/x-python",
   "name": "python",
   "nbconvert_exporter": "python",
   "pygments_lexer": "ipython3",
   "version": "3.9.12"
  },
  "orig_nbformat": 4,
  "vscode": {
   "interpreter": {
    "hash": "d1dde8d3f1fc6169eb2afb9c884f1482ff31994a855398e316a83a9dc8ff488b"
   }
  }
 },
 "nbformat": 4,
 "nbformat_minor": 2
}
