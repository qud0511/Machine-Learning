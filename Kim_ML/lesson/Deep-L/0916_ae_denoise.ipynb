{
 "cells": [
  {
   "cell_type": "markdown",
   "id": "c3bb9cd0-5b01-4948-9384-e1f1e7fca4bc",
   "metadata": {},
   "source": [
    "## AutoEncode 노이즈 제거\n",
    "- 데이터에 노이즈 제거 활용\n",
    "- 데이터에서 주요 특징만 추출 압축하기 때문에 노이즈는 주요 특징에서 제거\n",
    "- 압축된 주요 특징으로 데이터 복원 => 노이즈 제거"
   ]
  },
  {
   "cell_type": "code",
   "execution_count": null,
   "id": "161b1958-569f-4c58-8763-803b9441f3c5",
   "metadata": {},
   "outputs": [],
   "source": []
  }
 ],
 "metadata": {
  "kernelspec": {
   "display_name": "Python 3 (ipykernel)",
   "language": "python",
   "name": "python3"
  },
  "language_info": {
   "codemirror_mode": {
    "name": "ipython",
    "version": 3
   },
   "file_extension": ".py",
   "mimetype": "text/x-python",
   "name": "python",
   "nbconvert_exporter": "python",
   "pygments_lexer": "ipython3",
   "version": "3.9.12"
  }
 },
 "nbformat": 4,
 "nbformat_minor": 5
}
