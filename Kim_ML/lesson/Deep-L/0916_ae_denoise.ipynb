{
 "cells": [
  {
   "cell_type": "markdown",
   "id": "c3bb9cd0-5b01-4948-9384-e1f1e7fca4bc",
   "metadata": {},
   "source": [
    "## AutoEncode 노이즈 제거\n",
    "- 데이터에 노이즈 제거 활용\n",
    "- 데이터에서 주요 특징만 추출 압축하기 때문에 노이즈는 주요 특징에서 제거\n",
    "- 압축된 주요 특징으로 데이터 복원 => 노이즈 제거"
   ]
  },
  {
   "cell_type": "code",
   "execution_count": 1,
   "id": "161b1958-569f-4c58-8763-803b9441f3c5",
   "metadata": {},
   "outputs": [],
   "source": [
    "from tensorflow.keras.datasets.mnist import load_data\n",
    "from tensorflow.keras.utils import set_random_seed, plot_model\n",
    "from tensorflow.keras import Sequential\n",
    "from tensorflow.keras.layers import Dense\n",
    "import numpy as np\n",
    "import matplotlib.pyplot as plt"
   ]
  },
  {
   "cell_type": "code",
   "execution_count": 2,
   "id": "ef0153e2-1df8-4486-8c85-f62e3b7ad010",
   "metadata": {},
   "outputs": [],
   "source": [
    "# W,b 고정하도록 seed 설정\n",
    "set_random_seed(42)"
   ]
  },
  {
   "cell_type": "markdown",
   "id": "0ce9a112-05a1-4307-8fb2-5aec59724728",
   "metadata": {},
   "source": [
    "### [1] 데이터 준비 및 로딩"
   ]
  },
  {
   "cell_type": "code",
   "execution_count": 3,
   "id": "cceb90f1-5d7d-4da4-aec8-dfcd5715e256",
   "metadata": {},
   "outputs": [
    {
     "data": {
      "text/plain": [
       "((60000, 28, 28), (10000, 28, 28))"
      ]
     },
     "execution_count": 3,
     "metadata": {},
     "output_type": "execute_result"
    }
   ],
   "source": [
    "(x_train, y_train), (x_test, y_test) = load_data()\n",
    "x_train.shape, x_test.shape"
   ]
  },
  {
   "cell_type": "markdown",
   "id": "44e3a181-4dd0-417b-a68f-b2ae954e4d2c",
   "metadata": {},
   "source": [
    "## [2] 데이터 전처리"
   ]
  },
  {
   "cell_type": "code",
   "execution_count": 4,
   "id": "42c0d5df-af7a-461c-b4b5-0b39f29df9d6",
   "metadata": {},
   "outputs": [],
   "source": [
    "# 스케일링 => 픽셀 / 255.0\n",
    "x_train=x_train/255.0\n",
    "x_test=x_test/255.0"
   ]
  },
  {
   "cell_type": "code",
   "execution_count": 5,
   "id": "ccc270a5-713f-4486-b4dc-2248873e6543",
   "metadata": {},
   "outputs": [],
   "source": [
    "x_train=x_train.reshape(-1, 28*28)\n",
    "x_test=x_test.reshape(-1, 28*28)"
   ]
  },
  {
   "cell_type": "code",
   "execution_count": 6,
   "id": "cc304f4c-5d55-4391-8e13-d8ea6df451db",
   "metadata": {},
   "outputs": [
    {
     "data": {
      "text/plain": [
       "((60000, 784), (60000,), (10000, 784), (10000,))"
      ]
     },
     "execution_count": 6,
     "metadata": {},
     "output_type": "execute_result"
    }
   ],
   "source": [
    "x_train.shape, y_train.shape, x_test.shape, y_test.shape"
   ]
  },
  {
   "cell_type": "code",
   "execution_count": 8,
   "id": "f1915818-8502-4b31-816e-69275a6d1bdf",
   "metadata": {},
   "outputs": [],
   "source": [
    "# 데이터셋에 노이즈 추가\n",
    "# np.radom.normal(평균loc=0.0, scale=1.0, size=None)\n",
    "X_train_noised = x_train + np.random.normal(0, 0.5, size=x_train.shape)\n",
    "X_test_noised = x_test + np.random.normal(0, 0.5, size=x_test.shape)\n",
    "\n",
    "# 픽셀 범위 0.0~1.0 벗어나는 픽셀값 조정 => np.clip(array, min, max)\n",
    "X_train_noised = np.clip(X_train_noised, a_min=0, a_max=1)\n",
    "X_test_noised = np.clip(X_test_noised, a_min=0, a_max=1)"
   ]
  },
  {
   "cell_type": "code",
   "execution_count": 10,
   "id": "c0801beb-b47c-40ae-97b1-108576fe1c53",
   "metadata": {},
   "outputs": [
    {
     "data": {
      "image/png": "[encoded data removed]",
      "text/plain": [
       "<Figure size 432x288 with 1 Axes>"
      ]
     },
     "metadata": {
      "needs_background": "light"
     },
     "output_type": "display_data"
    }
   ],
   "source": [
    "plt.imshow(x_train[0].reshape(28,28))\n",
    "plt.show()"
   ]
  },
  {
   "cell_type": "code",
   "execution_count": 12,
   "id": "2ba12858-c0f5-4773-bbf1-ed4e96b264d7",
   "metadata": {},
   "outputs": [
    {
     "data": {
      "text/plain": [
       "<matplotlib.image.AxesImage at 0x21f9c5a19d0>"
      ]
     },
     "execution_count": 12,
     "metadata": {},
     "output_type": "execute_result"
    },
    {
     "data": {
      "image/png": "[encoded data removed]",
      "text/plain": [
       "<Figure size 432x288 with 1 Axes>"
      ]
     },
     "metadata": {
      "needs_background": "light"
     },
     "output_type": "display_data"
    }
   ],
   "source": [
    "plt.imshow(X_train_noised[0].reshape(28,28))"
   ]
  },
  {
   "cell_type": "markdown",
   "id": "300550ba-453b-4916-9084-f1ba62f111a3",
   "metadata": {},
   "source": [
    "## [3] 모델 구성"
   ]
  },
  {
   "cell_type": "code",
   "execution_count": 13,
   "id": "e7a755ae-ac08-4e21-87b3-2a49adf40c77",
   "metadata": {},
   "outputs": [],
   "source": [
    "def createModel(n_nords):\n",
    "    model=Sequential()\n",
    "    model.add(Dense(units=n_nords, activation='relu', input_shape=(784,)))\n",
    "    model.add(Dense(784, activation='sigmoid'))\n",
    "    \n",
    "    model.compile(loss='mean_squared_error', optimizer='adam')\n",
    "    return model"
   ]
  },
  {
   "cell_type": "code",
   "execution_count": null,
   "id": "f0a4b9c7-7092-49d8-bd56-5cdbc470a88a",
   "metadata": {},
   "outputs": [],
   "source": []
  },
  {
   "cell_type": "code",
   "execution_count": 14,
   "id": "54461241-e12b-4326-9f37-cb6ee87eb4d7",
   "metadata": {},
   "outputs": [],
   "source": [
    "model01=createModel(1)\n",
    "model02=createModel(2)\n",
    "model03=createModel(3)\n",
    "model15=createModel(15)\n",
    "model100=createModel(100)\n",
    "model1000=createModel(1000)"
   ]
  },
  {
   "cell_type": "code",
   "execution_count": 24,
   "id": "49fe165b-eb4f-4f03-8f0d-b8752c752fd8",
   "metadata": {},
   "outputs": [
    {
     "name": "stdout",
     "output_type": "stream",
     "text": [
      "313/313 [==============================] - 1s 1ms/step - loss: 0.1118\n",
      "313/313 [==============================] - 1s 1ms/step - loss: 0.1094\n",
      "313/313 [==============================] - 1s 1ms/step - loss: 0.1070\n",
      "313/313 [==============================] - 1s 1ms/step - loss: 0.0984\n",
      "313/313 [==============================] - 1s 2ms/step - loss: 0.0880\n",
      "313/313 [==============================] - 3s 9ms/step - loss: 0.0586\n"
     ]
    },
    {
     "data": {
      "text/plain": [
       "<keras.callbacks.History at 0x21fd53e88b0>"
      ]
     },
     "execution_count": 24,
     "metadata": {},
     "output_type": "execute_result"
    }
   ],
   "source": [
    "model01.fit(X_test_noised, X_test_noised, epochs=1)\n",
    "model02.fit(X_test_noised, X_test_noised, epochs=1)\n",
    "model03.fit(X_test_noised, X_test_noised, epochs=1)\n",
    "model15.fit(X_test_noised, X_test_noised, epochs=1)\n",
    "model100.fit(X_test_noised, X_test_noised, epochs=1)\n",
    "model1000.fit(X_test_noised, X_test_noised, epochs=1)"
   ]
  },
  {
   "cell_type": "code",
   "execution_count": 25,
   "id": "764af394-ef6e-47a9-815c-a105849f0164",
   "metadata": {},
   "outputs": [
    {
     "name": "stdout",
     "output_type": "stream",
     "text": [
      "1875/1875 [==============================] - 2s 805us/step - loss: 0.0774\n",
      "0.07739965617656708\n",
      "1875/1875 [==============================] - 2s 812us/step - loss: 0.0756\n",
      "0.07562984526157379\n",
      "1875/1875 [==============================] - 2s 810us/step - loss: 0.0768\n",
      "0.07682894915342331\n",
      "1875/1875 [==============================] - 2s 830us/step - loss: 0.0605\n",
      "0.0605059489607811\n",
      "1875/1875 [==============================] - 2s 1ms/step - loss: 0.0348\n",
      "0.03483137488365173\n",
      "1875/1875 [==============================] - 6s 3ms/step - loss: 0.0309\n",
      "0.03093409352004528\n"
     ]
    }
   ],
   "source": [
    "print(model01.evaluate(x_train, x_train))\n",
    "print(model02.evaluate(x_train, x_train))\n",
    "print(model03.evaluate(x_train, x_train))\n",
    "print(model15.evaluate(x_train, x_train))\n",
    "print(model100.evaluate(x_train, x_train))\n",
    "print(model1000.evaluate(x_train, x_train))"
   ]
  },
  {
   "cell_type": "code",
   "execution_count": 26,
   "id": "d7bd51f2-b45e-44fe-ae70-5f2845f2e856",
   "metadata": {},
   "outputs": [
    {
     "name": "stdout",
     "output_type": "stream",
     "text": [
      "1/1 [==============================] - 0s 18ms/step\n",
      "1/1 [==============================] - 0s 18ms/step\n",
      "1/1 [==============================] - 0s 17ms/step\n",
      "1/1 [==============================] - 0s 18ms/step\n",
      "1/1 [==============================] - 0s 17ms/step\n",
      "1/1 [==============================] - 0s 17ms/step\n"
     ]
    }
   ],
   "source": [
    "pre_out01=model01.predict(x_train[0].reshape(-1,784))\n",
    "pre_out02=model02.predict(x_train[0].reshape(-1,784))\n",
    "pre_out03=model03.predict(x_train[0].reshape(-1,784))\n",
    "pre_out15=model15.predict(x_train[0].reshape(-1,784))\n",
    "pre_out100=model100.predict(x_train[0].reshape(-1,784))\n",
    "pre_out1000=model1000.predict(x_train[0].reshape(-1,784))"
   ]
  },
  {
   "cell_type": "code",
   "execution_count": 27,
   "id": "6ae9de34-4b7c-4225-b58c-4d3391f73e0f",
   "metadata": {},
   "outputs": [
    {
     "data": {
      "text/plain": [
       "<matplotlib.image.AxesImage at 0x21fd0cb0220>"
      ]
     },
     "execution_count": 27,
     "metadata": {},
     "output_type": "execute_result"
    },
    {
     "data": {
      "image/png": "[encoded data removed]",
      "text/plain": [
       "<Figure size 432x288 with 1 Axes>"
      ]
     },
     "metadata": {
      "needs_background": "light"
     },
     "output_type": "display_data"
    }
   ],
   "source": [
    "plt.imshow(pre_out01.reshape(28,28))"
   ]
  },
  {
   "cell_type": "code",
   "execution_count": 28,
   "id": "55de7b57-bd5a-4d8f-98de-5220449d5cf8",
   "metadata": {},
   "outputs": [
    {
     "data": {
      "text/plain": [
       "<matplotlib.image.AxesImage at 0x21fd0c5a520>"
      ]
     },
     "execution_count": 28,
     "metadata": {},
     "output_type": "execute_result"
    },
    {
     "data": {
      "image/png": "[encoded data removed]",
      "text/plain": [
       "<Figure size 432x288 with 1 Axes>"
      ]
     },
     "metadata": {
      "needs_background": "light"
     },
     "output_type": "display_data"
    }
   ],
   "source": [
    "plt.imshow(pre_out02.reshape(28,28))"
   ]
  },
  {
   "cell_type": "code",
   "execution_count": 29,
   "id": "fe326a96-dde8-4d22-b065-51796c306b31",
   "metadata": {},
   "outputs": [
    {
     "data": {
      "text/plain": [
       "<matplotlib.image.AxesImage at 0x21fd0d0b610>"
      ]
     },
     "execution_count": 29,
     "metadata": {},
     "output_type": "execute_result"
    },
    {
     "data": {
      "image/png": "[encoded data removed]",
      "text/plain": [
       "<Figure size 432x288 with 1 Axes>"
      ]
     },
     "metadata": {
      "needs_background": "light"
     },
     "output_type": "display_data"
    }
   ],
   "source": [
    "plt.imshow(pre_out03.reshape(28,28))"
   ]
  },
  {
   "cell_type": "code",
   "execution_count": 32,
   "id": "842a52fd-5000-4da8-b21f-b3a8d191c931",
   "metadata": {},
   "outputs": [
    {
     "data": {
      "text/plain": [
       "<matplotlib.image.AxesImage at 0x21fd5641970>"
      ]
     },
     "execution_count": 32,
     "metadata": {},
     "output_type": "execute_result"
    },
    {
     "data": {
      "image/png": "[encoded data removed]",
      "text/plain": [
       "<Figure size 432x288 with 1 Axes>"
      ]
     },
     "metadata": {
      "needs_background": "light"
     },
     "output_type": "display_data"
    }
   ],
   "source": [
    "plt.imshow(pre_out15.reshape(28,28))"
   ]
  },
  {
   "cell_type": "code",
   "execution_count": 33,
   "id": "9426424e-cba1-40b6-911a-fbe2b20be503",
   "metadata": {},
   "outputs": [
    {
     "data": {
      "text/plain": [
       "<matplotlib.image.AxesImage at 0x21fd0d3eb50>"
      ]
     },
     "execution_count": 33,
     "metadata": {},
     "output_type": "execute_result"
    },
    {
     "data": {
      "image/png": "[encoded data removed]",
      "text/plain": [
       "<Figure size 432x288 with 1 Axes>"
      ]
     },
     "metadata": {
      "needs_background": "light"
     },
     "output_type": "display_data"
    }
   ],
   "source": [
    "plt.imshow(pre_out100.reshape(28,28))"
   ]
  },
  {
   "cell_type": "code",
   "execution_count": 34,
   "id": "89841f70-3d17-447e-b42e-f55b42cb2dfb",
   "metadata": {},
   "outputs": [
    {
     "data": {
      "text/plain": [
       "<matplotlib.image.AxesImage at 0x21fd56cb100>"
      ]
     },
     "execution_count": 34,
     "metadata": {},
     "output_type": "execute_result"
    },
    {
     "data": {
      "image/png": "[encoded data removed]",
      "text/plain": [
       "<Figure size 432x288 with 1 Axes>"
      ]
     },
     "metadata": {
      "needs_background": "light"
     },
     "output_type": "display_data"
    }
   ],
   "source": [
    "plt.imshow(pre_out1000.reshape(28,28))"
   ]
  },
  {
   "cell_type": "code",
   "execution_count": null,
   "id": "1e1508b2-3ff7-4625-8617-a4f7307db2a7",
   "metadata": {},
   "outputs": [],
   "source": []
  }
 ],
 "metadata": {
  "kernelspec": {
   "display_name": "Python 3 (ipykernel)",
   "language": "python",
   "name": "python3"
  },
  "language_info": {
   "codemirror_mode": {
    "name": "ipython",
    "version": 3
   },
   "file_extension": ".py",
   "mimetype": "text/x-python",
   "name": "python",
   "nbconvert_exporter": "python",
   "pygments_lexer": "ipython3",
   "version": "3.9.12"
  }
 },
 "nbformat": 4,
 "nbformat_minor": 5
}
