{
 "cells": [
  {
   "cell_type": "markdown",
   "id": "bebadd20-0d94-47fd-b9f3-f25de1b26edf",
   "metadata": {},
   "source": [
    "# AutoEncode\n",
    "- 표현(특징) 학습\n",
    "    * 데이터에 주요 특징을 찾아 압축 후 복원하는 학습 모델\n",
    "\n",
    "- 구성\n",
    "    * 인코더(Encoder) : 입력 데이터에서 주요 특징 추출\n",
    "    * 디코더(Decoder) : 주요 특징에서 원 데이터로 복원"
   ]
  },
  {
   "cell_type": "code",
   "execution_count": 40,
   "id": "a1c4b823-f7aa-48df-abdd-cbb440bfdb09",
   "metadata": {},
   "outputs": [],
   "source": [
    "from tensorflow.keras.datasets.mnist import load_data\n",
    "from tensorflow.keras.utils import set_random_seed, plot_model\n",
    "from tensorflow.keras import Sequential\n",
    "from tensorflow.keras.layers import Dense\n",
    "import numpy as np\n",
    "import matplotlib.pyplot as plt"
   ]
  },
  {
   "cell_type": "code",
   "execution_count": 24,
   "id": "b151b2b1-1bec-4cb2-8acd-4d5afdb7c12d",
   "metadata": {},
   "outputs": [],
   "source": [
    "# W,b 고정하도록 seed 설정\n",
    "set_random_seed(42)"
   ]
  },
  {
   "cell_type": "markdown",
   "id": "bf7e04ab-cbb6-40ab-b49f-a38f614b8338",
   "metadata": {
    "tags": []
   },
   "source": [
    "### [1] 데이터 준비 및 로딩"
   ]
  },
  {
   "cell_type": "code",
   "execution_count": 25,
   "id": "a8f404b9-6831-4005-8cc5-c1b4ebcccec8",
   "metadata": {},
   "outputs": [],
   "source": [
    "(x_train, y_train), (x_test, y_test) = load_data()"
   ]
  },
  {
   "cell_type": "code",
   "execution_count": 26,
   "id": "2268475f-815f-4706-b8eb-f9c513392dca",
   "metadata": {},
   "outputs": [
    {
     "data": {
      "text/plain": [
       "((60000, 28, 28), (10000, 28, 28))"
      ]
     },
     "execution_count": 26,
     "metadata": {},
     "output_type": "execute_result"
    }
   ],
   "source": [
    "x_train.shape, x_test.shape"
   ]
  },
  {
   "cell_type": "markdown",
   "id": "8bde8f27-38b4-4c6f-8e1b-e7ad932c2de5",
   "metadata": {},
   "source": [
    "## [2] 데이터 전처리"
   ]
  },
  {
   "cell_type": "code",
   "execution_count": 27,
   "id": "28762a84-2e91-4cc5-bf27-6d69f47dfcd1",
   "metadata": {},
   "outputs": [],
   "source": [
    "# 스케일링 => 픽셀 / 255.0\n",
    "x_train=x_train/255.0\n",
    "x_test=x_test/255.0"
   ]
  },
  {
   "cell_type": "code",
   "execution_count": 28,
   "id": "4194cc4c-218a-4d05-ba53-11f4821d28e2",
   "metadata": {},
   "outputs": [],
   "source": [
    "x_train=x_train.reshape(-1, 28*28)\n",
    "x_test=x_test.reshape(-1, 28*28)"
   ]
  },
  {
   "cell_type": "code",
   "execution_count": 29,
   "id": "dbd3f518-fd64-4e35-adad-cd75e5bc224a",
   "metadata": {},
   "outputs": [
    {
     "data": {
      "text/plain": [
       "((60000, 784), (60000,), (10000, 784), (10000,))"
      ]
     },
     "execution_count": 29,
     "metadata": {},
     "output_type": "execute_result"
    }
   ],
   "source": [
    "x_train.shape, y_train.shape, x_test.shape, y_test.shape"
   ]
  },
  {
   "cell_type": "code",
   "execution_count": 30,
   "id": "c2e9b097-5a5a-4af3-8e06-59f82cc4c08a",
   "metadata": {},
   "outputs": [],
   "source": [
    "# 검증용 데이터 준비\n",
    "from sklearn.model_selection import train_test_split\n",
    "x_train, x_test, y_train, y_test=train_test_split(\n",
    "x_train, y_train, stratify=y_train ,random_state=12, test_size=0.2)\n",
    "\n",
    "x_train, x_val, y_train, y_val=train_test_split(\n",
    "x_train, y_train, stratify=y_train ,random_state=12, test_size=0.2)"
   ]
  },
  {
   "cell_type": "markdown",
   "id": "786e1305-c617-4d1a-8b5a-8e4722d12435",
   "metadata": {},
   "source": [
    "## [3] 모델 구성"
   ]
  },
  {
   "cell_type": "code",
   "execution_count": 33,
   "id": "1c7d01c3-cc1e-4ca5-9e5d-481648254344",
   "metadata": {},
   "outputs": [],
   "source": [
    "def createModel(n_node):\n",
    "    model=Sequential()\n",
    "    model.add(Dense(units=n_node, activation='relu', input_shape=(784,)))\n",
    "    model.add(Dense(784, activation='sigmoid'))\n",
    "    model.compile(loss='mean_squared_error', optimizer='adam')\n",
    "    \n",
    "    return model"
   ]
  },
  {
   "cell_type": "code",
   "execution_count": 54,
   "id": "ee474d86-97b9-46df-9ba3-be9b32f48819",
   "metadata": {
    "collapsed": true,
    "jupyter": {
     "outputs_hidden": true
    },
    "tags": []
   },
   "outputs": [
    {
     "name": "stdout",
     "output_type": "stream",
     "text": [
      "Model: \"sequential_2\"\n",
      "_________________________________________________________________\n",
      " Layer (type)                Output Shape              Param #   \n",
      "=================================================================\n",
      " dense_4 (Dense)             (None, 1)                 785       \n",
      "                                                                 \n",
      " dense_5 (Dense)             (None, 784)               1568      \n",
      "                                                                 \n",
      "=================================================================\n",
      "Total params: 2,353\n",
      "Trainable params: 2,353\n",
      "Non-trainable params: 0\n",
      "_________________________________________________________________\n",
      "Model: \"sequential_3\"\n",
      "_________________________________________________________________\n",
      " Layer (type)                Output Shape              Param #   \n",
      "=================================================================\n",
      " dense_6 (Dense)             (None, 2)                 1570      \n",
      "                                                                 \n",
      " dense_7 (Dense)             (None, 784)               2352      \n",
      "                                                                 \n",
      "=================================================================\n",
      "Total params: 3,922\n",
      "Trainable params: 3,922\n",
      "Non-trainable params: 0\n",
      "_________________________________________________________________\n",
      "Model: \"sequential_4\"\n",
      "_________________________________________________________________\n",
      " Layer (type)                Output Shape              Param #   \n",
      "=================================================================\n",
      " dense_8 (Dense)             (None, 3)                 2355      \n",
      "                                                                 \n",
      " dense_9 (Dense)             (None, 784)               3136      \n",
      "                                                                 \n",
      "=================================================================\n",
      "Total params: 5,491\n",
      "Trainable params: 5,491\n",
      "Non-trainable params: 0\n",
      "_________________________________________________________________\n"
     ]
    },
    {
     "data": {
      "text/plain": [
       "(None, None, None)"
      ]
     },
     "execution_count": 54,
     "metadata": {},
     "output_type": "execute_result"
    }
   ],
   "source": [
    "model01.summary(), model02.summary(), model03.summary()"
   ]
  },
  {
   "cell_type": "markdown",
   "id": "7be40341-92a8-41a7-908c-10f7a522fbc0",
   "metadata": {},
   "source": [
    "## [4] 모델 학습"
   ]
  },
  {
   "cell_type": "code",
   "execution_count": 120,
   "id": "b186c72f-8a0c-4d79-b76a-6e391794a6f0",
   "metadata": {},
   "outputs": [],
   "source": [
    "model01=createModel(1)\n",
    "model02=createModel(2)\n",
    "model03=createModel(3)\n",
    "model15=createModel(15)\n",
    "model100=createModel(100)\n",
    "model1000=createModel(1000)"
   ]
  },
  {
   "cell_type": "code",
   "execution_count": 121,
   "id": "52fde10b-8feb-4f46-9c94-6550803cd8dd",
   "metadata": {},
   "outputs": [
    {
     "name": "stdout",
     "output_type": "stream",
     "text": [
      "You must install pydot (`pip install pydot`) and install graphviz (see instructions at https://graphviz.gitlab.io/download/) for plot_model to work.\n"
     ]
    }
   ],
   "source": [
    "plot_model(model01)"
   ]
  },
  {
   "cell_type": "code",
   "execution_count": 122,
   "id": "5ea6e493-8d07-49a2-babd-36d8d585f6d6",
   "metadata": {
    "tags": []
   },
   "outputs": [
    {
     "name": "stdout",
     "output_type": "stream",
     "text": [
      "1200/1200 [==============================] - 2s 1ms/step - loss: 0.0793\n",
      "1200/1200 [==============================] - 2s 1ms/step - loss: 0.0744\n",
      "1200/1200 [==============================] - 2s 1ms/step - loss: 0.0705\n",
      "1200/1200 [==============================] - 2s 1ms/step - loss: 0.0499\n",
      "1200/1200 [==============================] - 3s 2ms/step - loss: 0.0260\n",
      "1200/1200 [==============================] - 11s 9ms/step - loss: 0.0111\n"
     ]
    },
    {
     "data": {
      "text/plain": [
       "<keras.callbacks.History at 0x277bb193040>"
      ]
     },
     "execution_count": 122,
     "metadata": {},
     "output_type": "execute_result"
    }
   ],
   "source": [
    "# x값, x값 입력 데이터 -> 답을 가지고 있지 않아서? 비지도 학습\n",
    "model01.fit(x_train, x_train, epochs=1)\n",
    "model02.fit(x_train, x_train, epochs=1)\n",
    "model03.fit(x_train, x_train, epochs=1)\n",
    "model15.fit(x_train, x_train, epochs=1)\n",
    "model100.fit(x_train, x_train, epochs=1)\n",
    "model1000.fit(x_train, x_train, epochs=1)"
   ]
  },
  {
   "cell_type": "code",
   "execution_count": 123,
   "id": "97f2c1a4-e583-4588-a976-9dbb27c56cd3",
   "metadata": {
    "tags": []
   },
   "outputs": [
    {
     "name": "stdout",
     "output_type": "stream",
     "text": [
      "1200/1200 [==============================] - 1s 794us/step - loss: 0.0675\n",
      "0.06749356538057327\n",
      "1200/1200 [==============================] - 1s 883us/step - loss: 0.0617\n",
      "0.061676036566495895\n",
      "1200/1200 [==============================] - 1s 900us/step - loss: 0.0576\n",
      "0.05758882686495781\n",
      "1200/1200 [==============================] - 1s 1ms/step - loss: 0.0314\n",
      "0.031449709087610245\n",
      "1200/1200 [==============================] - 2s 1ms/step - loss: 0.0106\n",
      "0.010619799606502056\n",
      "1200/1200 [==============================] - 4s 4ms/step - loss: 0.0030\n",
      "0.002983082551509142\n"
     ]
    }
   ],
   "source": [
    "print(model01.evaluate(x_train, x_train))\n",
    "print(model02.evaluate(x_train, x_train))\n",
    "print(model03.evaluate(x_train, x_train))\n",
    "print(model15.evaluate(x_train, x_train))\n",
    "print(model100.evaluate(x_train, x_train))\n",
    "print(model1000.evaluate(x_train, x_train))"
   ]
  },
  {
   "cell_type": "markdown",
   "id": "37bbfc75-952c-4ce8-897f-80199940bd3f",
   "metadata": {},
   "source": [
    "## 원본 - AE 진행된 이미지 비교"
   ]
  },
  {
   "cell_type": "code",
   "execution_count": 131,
   "id": "0e7113c0-8257-4a70-9dbc-94c98357fb43",
   "metadata": {},
   "outputs": [
    {
     "name": "stdout",
     "output_type": "stream",
     "text": [
      "1/1 [==============================] - 0s 18ms/step\n",
      "1/1 [==============================] - 0s 16ms/step\n",
      "1/1 [==============================] - 0s 17ms/step\n",
      "1/1 [==============================] - 0s 16ms/step\n",
      "1/1 [==============================] - 0s 16ms/step\n",
      "1/1 [==============================] - 0s 43ms/step\n"
     ]
    }
   ],
   "source": [
    "pre_out01=model01.predict(x_train[0].reshape(-1,784))\n",
    "pre_out02=model02.predict(x_train[0].reshape(-1,784))\n",
    "pre_out03=model03.predict(x_train[0].reshape(-1,784))\n",
    "pre_out15=model15.predict(x_train[0].reshape(-1,784))\n",
    "pre_out100=model100.predict(x_train[0].reshape(-1,784))\n",
    "pre_out1000=model1000.predict(x_train[0].reshape(-1,784))"
   ]
  },
  {
   "cell_type": "code",
   "execution_count": 141,
   "id": "08d0fb65-9a50-46ee-a72c-7bd415022a55",
   "metadata": {},
   "outputs": [
    {
     "data": {
      "text/plain": [
       "<matplotlib.image.AxesImage at 0x277a2cbfd00>"
      ]
     },
     "execution_count": 141,
     "metadata": {},
     "output_type": "execute_result"
    },
    {
     "data": {
      "image/png": "[encoded data removed]",
      "text/plain": [
       "<Figure size 432x288 with 1 Axes>"
      ]
     },
     "metadata": {
      "needs_background": "light"
     },
     "output_type": "display_data"
    }
   ],
   "source": [
    "# 원본\n",
    "plt.imshow(x_train[0].reshape(28,28))"
   ]
  },
  {
   "cell_type": "code",
   "execution_count": 132,
   "id": "307f53a2-636c-4970-8ef5-e39aa725388b",
   "metadata": {},
   "outputs": [
    {
     "data": {
      "text/plain": [
       "<matplotlib.image.AxesImage at 0x277a6b15250>"
      ]
     },
     "execution_count": 132,
     "metadata": {},
     "output_type": "execute_result"
    },
    {
     "data": {
      "image/png": "[encoded data removed]",
      "text/plain": [
       "<Figure size 432x288 with 1 Axes>"
      ]
     },
     "metadata": {
      "needs_background": "light"
     },
     "output_type": "display_data"
    }
   ],
   "source": [
    "plt.imshow(pre_out01.reshape(28,28))"
   ]
  },
  {
   "cell_type": "code",
   "execution_count": 133,
   "id": "5db74d95-6a2e-4569-a83d-22d90812c013",
   "metadata": {},
   "outputs": [
    {
     "data": {
      "text/plain": [
       "<matplotlib.image.AxesImage at 0x2779bb484c0>"
      ]
     },
     "execution_count": 133,
     "metadata": {},
     "output_type": "execute_result"
    },
    {
     "data": {
      "image/png": "[encoded data removed]",
      "text/plain": [
       "<Figure size 432x288 with 1 Axes>"
      ]
     },
     "metadata": {
      "needs_background": "light"
     },
     "output_type": "display_data"
    }
   ],
   "source": [
    "plt.imshow(pre_out02.reshape(28,28))"
   ]
  },
  {
   "cell_type": "code",
   "execution_count": 134,
   "id": "ba7e6a3b-f268-464b-a5a4-13336c8f5992",
   "metadata": {},
   "outputs": [
    {
     "data": {
      "text/plain": [
       "<matplotlib.image.AxesImage at 0x277a656f8b0>"
      ]
     },
     "execution_count": 134,
     "metadata": {},
     "output_type": "execute_result"
    },
    {
     "data": {
      "image/png": "[encoded data removed]",
      "text/plain": [
       "<Figure size 432x288 with 1 Axes>"
      ]
     },
     "metadata": {
      "needs_background": "light"
     },
     "output_type": "display_data"
    }
   ],
   "source": [
    "plt.imshow(pre_out03.reshape(28,28))"
   ]
  },
  {
   "cell_type": "code",
   "execution_count": 135,
   "id": "b3aa7988-70fb-4e40-9a3d-62bb73a6d669",
   "metadata": {},
   "outputs": [
    {
     "data": {
      "text/plain": [
       "<matplotlib.image.AxesImage at 0x2779e9b17c0>"
      ]
     },
     "execution_count": 135,
     "metadata": {},
     "output_type": "execute_result"
    },
    {
     "data": {
      "image/png": "[encoded data removed]",
      "text/plain": [
       "<Figure size 432x288 with 1 Axes>"
      ]
     },
     "metadata": {
      "needs_background": "light"
     },
     "output_type": "display_data"
    }
   ],
   "source": [
    "plt.imshow(pre_out15.reshape(28,28))"
   ]
  },
  {
   "cell_type": "code",
   "execution_count": 136,
   "id": "c77fbcbc-3266-4bec-94ed-b1d374dd5bc0",
   "metadata": {},
   "outputs": [
    {
     "data": {
      "text/plain": [
       "<matplotlib.image.AxesImage at 0x2779bc822e0>"
      ]
     },
     "execution_count": 136,
     "metadata": {},
     "output_type": "execute_result"
    },
    {
     "data": {
      "image/png": "[encoded data removed]",
      "text/plain": [
       "<Figure size 432x288 with 1 Axes>"
      ]
     },
     "metadata": {
      "needs_background": "light"
     },
     "output_type": "display_data"
    }
   ],
   "source": [
    "plt.imshow(pre_out100.reshape(28,28))"
   ]
  },
  {
   "cell_type": "code",
   "execution_count": 137,
   "id": "7dc764c9-f9fe-4575-8771-df0ad708e7f5",
   "metadata": {},
   "outputs": [
    {
     "data": {
      "text/plain": [
       "<matplotlib.image.AxesImage at 0x2779b814880>"
      ]
     },
     "execution_count": 137,
     "metadata": {},
     "output_type": "execute_result"
    },
    {
     "data": {
      "image/png": "[encoded data removed]",
      "text/plain": [
       "<Figure size 432x288 with 1 Axes>"
      ]
     },
     "metadata": {
      "needs_background": "light"
     },
     "output_type": "display_data"
    }
   ],
   "source": [
    "plt.imshow(pre_out1000.reshape(28,28))"
   ]
  },
  {
   "cell_type": "code",
   "execution_count": null,
   "id": "f34af313-7b99-4421-9a24-1ec8d357b76c",
   "metadata": {},
   "outputs": [],
   "source": []
  },
  {
   "cell_type": "code",
   "execution_count": null,
   "id": "0297c70d-457d-4cb5-af44-d29992e011d1",
   "metadata": {},
   "outputs": [],
   "source": []
  }
 ],
 "metadata": {
  "kernelspec": {
   "display_name": "Python 3 (ipykernel)",
   "language": "python",
   "name": "python3"
  },
  "language_info": {
   "codemirror_mode": {
    "name": "ipython",
    "version": 3
   },
   "file_extension": ".py",
   "mimetype": "text/x-python",
   "name": "python",
   "nbconvert_exporter": "python",
   "pygments_lexer": "ipython3",
   "version": "3.9.12"
  }
 },
 "nbformat": 4,
 "nbformat_minor": 5
}
