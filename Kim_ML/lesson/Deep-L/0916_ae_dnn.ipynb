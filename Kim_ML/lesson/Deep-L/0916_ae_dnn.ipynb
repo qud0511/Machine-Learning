{
 "cells": [
  {
   "cell_type": "markdown",
   "id": "bebadd20-0d94-47fd-b9f3-f25de1b26edf",
   "metadata": {},
   "source": [
    "# AutoEncode\n",
    "- 표현(특징) 학습\n",
    "    * 데이터에 주요 특징을 찾아 압축 후 복원하는 학습 모델\n",
    "\n",
    "- 구성\n",
    "    * 인코더(Encoder) : 입력 데이터에서 주요 특징 추출\n",
    "    * 디코더(Decoder) : 주요 특징에서 원 데이터로 복원"
   ]
  },
  {
   "cell_type": "code",
   "execution_count": 40,
   "id": "a1c4b823-f7aa-48df-abdd-cbb440bfdb09",
   "metadata": {},
   "outputs": [],
   "source": [
    "from tensorflow.keras.datasets.mnist import load_data\n",
    "from tensorflow.keras.utils import set_random_seed, plot_model\n",
    "from tensorflow.keras import Sequential\n",
    "from tensorflow.keras.layers import Dense\n",
    "import numpy as np\n",
    "import matplotlib.pyplot as plt"
   ]
  },
  {
   "cell_type": "code",
   "execution_count": 24,
   "id": "b151b2b1-1bec-4cb2-8acd-4d5afdb7c12d",
   "metadata": {},
   "outputs": [],
   "source": [
    "# W,b 고정하도록 seed 설정\n",
    "set_random_seed(42)"
   ]
  },
  {
   "cell_type": "markdown",
   "id": "bf7e04ab-cbb6-40ab-b49f-a38f614b8338",
   "metadata": {
    "tags": []
   },
   "source": [
    "### [1] 데이터 준비 및 로딩"
   ]
  },
  {
   "cell_type": "code",
   "execution_count": 25,
   "id": "a8f404b9-6831-4005-8cc5-c1b4ebcccec8",
   "metadata": {},
   "outputs": [],
   "source": [
    "(x_train, y_train), (x_test, y_test) = load_data()"
   ]
  },
  {
   "cell_type": "code",
   "execution_count": 26,
   "id": "2268475f-815f-4706-b8eb-f9c513392dca",
   "metadata": {},
   "outputs": [
    {
     "data": {
      "text/plain": [
       "((60000, 28, 28), (10000, 28, 28))"
      ]
     },
     "execution_count": 26,
     "metadata": {},
     "output_type": "execute_result"
    }
   ],
   "source": [
    "x_train.shape, x_test.shape"
   ]
  },
  {
   "cell_type": "markdown",
   "id": "8bde8f27-38b4-4c6f-8e1b-e7ad932c2de5",
   "metadata": {},
   "source": [
    "## [2] 데이터 전처리"
   ]
  },
  {
   "cell_type": "code",
   "execution_count": 27,
   "id": "28762a84-2e91-4cc5-bf27-6d69f47dfcd1",
   "metadata": {},
   "outputs": [],
   "source": [
    "# 스케일링 => 픽셀 / 255.0\n",
    "x_train=x_train/255.0\n",
    "x_test=x_test/255.0"
   ]
  },
  {
   "cell_type": "code",
   "execution_count": 28,
   "id": "4194cc4c-218a-4d05-ba53-11f4821d28e2",
   "metadata": {},
   "outputs": [],
   "source": [
    "x_train=x_train.reshape(-1, 28*28)\n",
    "x_test=x_test.reshape(-1, 28*28)"
   ]
  },
  {
   "cell_type": "code",
   "execution_count": 29,
   "id": "dbd3f518-fd64-4e35-adad-cd75e5bc224a",
   "metadata": {},
   "outputs": [
    {
     "data": {
      "text/plain": [
       "((60000, 784), (60000,), (10000, 784), (10000,))"
      ]
     },
     "execution_count": 29,
     "metadata": {},
     "output_type": "execute_result"
    }
   ],
   "source": [
    "x_train.shape, y_train.shape, x_test.shape, y_test.shape"
   ]
  },
  {
   "cell_type": "code",
   "execution_count": 30,
   "id": "c2e9b097-5a5a-4af3-8e06-59f82cc4c08a",
   "metadata": {},
   "outputs": [],
   "source": [
    "# 검증용 데이터 준비\n",
    "from sklearn.model_selection import train_test_split\n",
    "x_train, x_test, y_train, y_test=train_test_split(\n",
    "x_train, y_train, stratify=y_train ,random_state=12, test_size=0.2)\n",
    "\n",
    "x_train, x_val, y_train, y_val=train_test_split(\n",
    "x_train, y_train, stratify=y_train ,random_state=12, test_size=0.2)"
   ]
  },
  {
   "cell_type": "markdown",
   "id": "786e1305-c617-4d1a-8b5a-8e4722d12435",
   "metadata": {},
   "source": [
    "## [3] 모델 구성"
   ]
  },
  {
   "cell_type": "code",
   "execution_count": 33,
   "id": "1c7d01c3-cc1e-4ca5-9e5d-481648254344",
   "metadata": {},
   "outputs": [],
   "source": [
    "def createModel(n_node):\n",
    "    model=Sequential()\n",
    "    model.add(Dense(units=n_node, activation='relu', input_shape=(784,)))\n",
    "    model.add(Dense(784, activation='sigmoid'))\n",
    "    model.compile(loss='mean_squared_error', optimizer='adam')\n",
    "    \n",
    "    return model"
   ]
  },
  {
   "cell_type": "code",
   "execution_count": 54,
   "id": "ee474d86-97b9-46df-9ba3-be9b32f48819",
   "metadata": {
    "collapsed": true,
    "jupyter": {
     "outputs_hidden": true
    },
    "tags": []
   },
   "outputs": [
    {
     "name": "stdout",
     "output_type": "stream",
     "text": [
      "Model: \"sequential_2\"\n",
      "_________________________________________________________________\n",
      " Layer (type)                Output Shape              Param #   \n",
      "=================================================================\n",
      " dense_4 (Dense)             (None, 1)                 785       \n",
      "                                                                 \n",
      " dense_5 (Dense)             (None, 784)               1568      \n",
      "                                                                 \n",
      "=================================================================\n",
      "Total params: 2,353\n",
      "Trainable params: 2,353\n",
      "Non-trainable params: 0\n",
      "_________________________________________________________________\n",
      "Model: \"sequential_3\"\n",
      "_________________________________________________________________\n",
      " Layer (type)                Output Shape              Param #   \n",
      "=================================================================\n",
      " dense_6 (Dense)             (None, 2)                 1570      \n",
      "                                                                 \n",
      " dense_7 (Dense)             (None, 784)               2352      \n",
      "                                                                 \n",
      "=================================================================\n",
      "Total params: 3,922\n",
      "Trainable params: 3,922\n",
      "Non-trainable params: 0\n",
      "_________________________________________________________________\n",
      "Model: \"sequential_4\"\n",
      "_________________________________________________________________\n",
      " Layer (type)                Output Shape              Param #   \n",
      "=================================================================\n",
      " dense_8 (Dense)             (None, 3)                 2355      \n",
      "                                                                 \n",
      " dense_9 (Dense)             (None, 784)               3136      \n",
      "                                                                 \n",
      "=================================================================\n",
      "Total params: 5,491\n",
      "Trainable params: 5,491\n",
      "Non-trainable params: 0\n",
      "_________________________________________________________________\n"
     ]
    },
    {
     "data": {
      "text/plain": [
       "(None, None, None)"
      ]
     },
     "execution_count": 54,
     "metadata": {},
     "output_type": "execute_result"
    }
   ],
   "source": [
    "model01.summary(), model02.summary(), model03.summary()"
   ]
  },
  {
   "cell_type": "markdown",
   "id": "7be40341-92a8-41a7-908c-10f7a522fbc0",
   "metadata": {},
   "source": [
    "## [4] 모델 학습"
   ]
  },
  {
   "cell_type": "code",
   "execution_count": 88,
   "id": "b186c72f-8a0c-4d79-b76a-6e391794a6f0",
   "metadata": {},
   "outputs": [],
   "source": [
    "model01=createModel(1)\n",
    "model02=createModel(2)\n",
    "model03=createModel(3)\n",
    "model15=createModel(15)\n",
    "model100=createModel(100)"
   ]
  },
  {
   "cell_type": "code",
   "execution_count": null,
   "id": "52fde10b-8feb-4f46-9c94-6550803cd8dd",
   "metadata": {},
   "outputs": [],
   "source": [
    "plot_model(model01)"
   ]
  },
  {
   "cell_type": "code",
   "execution_count": 73,
   "id": "5ea6e493-8d07-49a2-babd-36d8d585f6d6",
   "metadata": {
    "collapsed": true,
    "jupyter": {
     "outputs_hidden": true
    },
    "tags": []
   },
   "outputs": [
    {
     "name": "stdout",
     "output_type": "stream",
     "text": [
      "Epoch 1/20\n",
      "1200/1200 [==============================] - 1s 958us/step - loss: 0.0795\n",
      "Epoch 2/20\n",
      "1200/1200 [==============================] - 1s 1ms/step - loss: 0.0665\n",
      "Epoch 3/20\n",
      "1200/1200 [==============================] - 1s 984us/step - loss: 0.0651\n",
      "Epoch 4/20\n",
      "1200/1200 [==============================] - 1s 988us/step - loss: 0.0643\n",
      "Epoch 5/20\n",
      "1200/1200 [==============================] - 1s 1ms/step - loss: 0.0638\n",
      "Epoch 6/20\n",
      "1200/1200 [==============================] - 1s 942us/step - loss: 0.0635\n",
      "Epoch 7/20\n",
      "1200/1200 [==============================] - 1s 1ms/step - loss: 0.0632\n",
      "Epoch 8/20\n",
      "1200/1200 [==============================] - 1s 944us/step - loss: 0.0630\n",
      "Epoch 9/20\n",
      "1200/1200 [==============================] - 1s 971us/step - loss: 0.0628\n",
      "Epoch 10/20\n",
      "1200/1200 [==============================] - 1s 948us/step - loss: 0.0626\n",
      "Epoch 11/20\n",
      "1200/1200 [==============================] - 1s 954us/step - loss: 0.0623\n",
      "Epoch 12/20\n",
      "1200/1200 [==============================] - 1s 1ms/step - loss: 0.0620\n",
      "Epoch 13/20\n",
      "1200/1200 [==============================] - 1s 1ms/step - loss: 0.0618\n",
      "Epoch 14/20\n",
      "1200/1200 [==============================] - 1s 955us/step - loss: 0.0615\n",
      "Epoch 15/20\n",
      "1200/1200 [==============================] - 1s 952us/step - loss: 0.0613\n",
      "Epoch 16/20\n",
      "1200/1200 [==============================] - 1s 954us/step - loss: 0.0611\n",
      "Epoch 17/20\n",
      "1200/1200 [==============================] - 1s 942us/step - loss: 0.0609\n",
      "Epoch 18/20\n",
      "1200/1200 [==============================] - 1s 957us/step - loss: 0.0608\n",
      "Epoch 19/20\n",
      "1200/1200 [==============================] - 1s 931us/step - loss: 0.0607\n",
      "Epoch 20/20\n",
      "1200/1200 [==============================] - 1s 967us/step - loss: 0.0606\n",
      "Epoch 1/30\n",
      "1200/1200 [==============================] - 2s 1ms/step - loss: 0.0737\n",
      "Epoch 2/30\n",
      "1200/1200 [==============================] - 1s 1ms/step - loss: 0.0607\n",
      "Epoch 3/30\n",
      "1200/1200 [==============================] - 1s 1ms/step - loss: 0.0590\n",
      "Epoch 4/30\n",
      "1200/1200 [==============================] - 1s 1ms/step - loss: 0.0581\n",
      "Epoch 5/30\n",
      "1200/1200 [==============================] - 1s 1ms/step - loss: 0.0577\n",
      "Epoch 6/30\n",
      "1200/1200 [==============================] - 1s 1ms/step - loss: 0.0574\n",
      "Epoch 7/30\n",
      "1200/1200 [==============================] - 1s 1ms/step - loss: 0.0572\n",
      "Epoch 8/30\n",
      "1200/1200 [==============================] - 1s 1ms/step - loss: 0.0570\n",
      "Epoch 9/30\n",
      "1200/1200 [==============================] - 1s 1ms/step - loss: 0.0569\n",
      "Epoch 10/30\n",
      "1200/1200 [==============================] - 1s 1ms/step - loss: 0.0568\n",
      "Epoch 11/30\n",
      "1200/1200 [==============================] - 1s 1ms/step - loss: 0.0568\n",
      "Epoch 12/30\n",
      "1200/1200 [==============================] - 1s 1ms/step - loss: 0.0567\n",
      "Epoch 13/30\n",
      "1200/1200 [==============================] - 1s 1ms/step - loss: 0.0566\n",
      "Epoch 14/30\n",
      "1200/1200 [==============================] - 1s 1ms/step - loss: 0.0566\n",
      "Epoch 15/30\n",
      "1200/1200 [==============================] - 1s 1ms/step - loss: 0.0565\n",
      "Epoch 16/30\n",
      "1200/1200 [==============================] - 1s 1ms/step - loss: 0.0565\n",
      "Epoch 17/30\n",
      "1200/1200 [==============================] - 1s 1ms/step - loss: 0.0564\n",
      "Epoch 18/30\n",
      "1200/1200 [==============================] - 1s 1ms/step - loss: 0.0564\n",
      "Epoch 19/30\n",
      "1200/1200 [==============================] - 1s 1ms/step - loss: 0.0563\n",
      "Epoch 20/30\n",
      "1200/1200 [==============================] - 1s 1ms/step - loss: 0.0563\n",
      "Epoch 21/30\n",
      "1200/1200 [==============================] - 1s 1ms/step - loss: 0.0562\n",
      "Epoch 22/30\n",
      "1200/1200 [==============================] - 1s 1ms/step - loss: 0.0561\n",
      "Epoch 23/30\n",
      "1200/1200 [==============================] - 1s 1ms/step - loss: 0.0561\n",
      "Epoch 24/30\n",
      "1200/1200 [==============================] - 1s 1ms/step - loss: 0.0560\n",
      "Epoch 25/30\n",
      "1200/1200 [==============================] - 1s 1ms/step - loss: 0.0560\n",
      "Epoch 26/30\n",
      "1200/1200 [==============================] - 1s 1ms/step - loss: 0.0559\n",
      "Epoch 27/30\n",
      "1200/1200 [==============================] - 1s 1ms/step - loss: 0.0559\n",
      "Epoch 28/30\n",
      "1200/1200 [==============================] - 2s 1ms/step - loss: 0.0559\n",
      "Epoch 29/30\n",
      "1200/1200 [==============================] - 1s 1ms/step - loss: 0.0558\n",
      "Epoch 30/30\n",
      "1200/1200 [==============================] - 2s 1ms/step - loss: 0.0558\n",
      "Epoch 1/40\n",
      "1200/1200 [==============================] - 2s 1ms/step - loss: 0.0699\n",
      "Epoch 2/40\n",
      "1200/1200 [==============================] - 1s 1ms/step - loss: 0.0554\n",
      "Epoch 3/40\n",
      "1200/1200 [==============================] - 1s 1ms/step - loss: 0.0538\n",
      "Epoch 4/40\n",
      "1200/1200 [==============================] - 1s 1ms/step - loss: 0.0530\n",
      "Epoch 5/40\n",
      "1200/1200 [==============================] - 1s 1ms/step - loss: 0.0525\n",
      "Epoch 6/40\n",
      "1200/1200 [==============================] - 1s 1ms/step - loss: 0.0521\n",
      "Epoch 7/40\n",
      "1200/1200 [==============================] - 1s 1ms/step - loss: 0.0519\n",
      "Epoch 8/40\n",
      "1200/1200 [==============================] - 1s 1ms/step - loss: 0.0517\n",
      "Epoch 9/40\n",
      "1200/1200 [==============================] - 1s 1ms/step - loss: 0.0516\n",
      "Epoch 10/40\n",
      "1200/1200 [==============================] - 1s 1ms/step - loss: 0.0515\n",
      "Epoch 11/40\n",
      "1200/1200 [==============================] - 1s 1ms/step - loss: 0.0515\n",
      "Epoch 12/40\n",
      "1200/1200 [==============================] - 1s 1ms/step - loss: 0.0514\n",
      "Epoch 13/40\n",
      "1200/1200 [==============================] - 1s 1ms/step - loss: 0.0514\n",
      "Epoch 14/40\n",
      "1200/1200 [==============================] - 1s 1ms/step - loss: 0.0513\n",
      "Epoch 15/40\n",
      "1200/1200 [==============================] - 1s 1ms/step - loss: 0.0513\n",
      "Epoch 16/40\n",
      "1200/1200 [==============================] - 1s 1ms/step - loss: 0.0513\n",
      "Epoch 17/40\n",
      "1200/1200 [==============================] - 1s 1ms/step - loss: 0.0512\n",
      "Epoch 18/40\n",
      "1200/1200 [==============================] - 1s 1ms/step - loss: 0.0512\n",
      "Epoch 19/40\n",
      "1200/1200 [==============================] - 1s 1ms/step - loss: 0.0512\n",
      "Epoch 20/40\n",
      "1200/1200 [==============================] - 1s 1ms/step - loss: 0.0511\n",
      "Epoch 21/40\n",
      "1200/1200 [==============================] - 1s 1ms/step - loss: 0.0511\n",
      "Epoch 22/40\n",
      "1200/1200 [==============================] - 1s 1ms/step - loss: 0.0510\n",
      "Epoch 23/40\n",
      "1200/1200 [==============================] - 1s 1ms/step - loss: 0.0510\n",
      "Epoch 24/40\n",
      "1200/1200 [==============================] - 1s 1ms/step - loss: 0.0510\n",
      "Epoch 25/40\n",
      "1200/1200 [==============================] - 1s 1ms/step - loss: 0.0509\n",
      "Epoch 26/40\n",
      "1200/1200 [==============================] - 1s 1ms/step - loss: 0.0509\n",
      "Epoch 27/40\n",
      "1200/1200 [==============================] - 1s 1ms/step - loss: 0.0509\n",
      "Epoch 28/40\n",
      "1200/1200 [==============================] - 1s 1ms/step - loss: 0.0508\n",
      "Epoch 29/40\n",
      "1200/1200 [==============================] - 1s 1ms/step - loss: 0.0508\n",
      "Epoch 30/40\n",
      "1200/1200 [==============================] - 1s 1ms/step - loss: 0.0508\n",
      "Epoch 31/40\n",
      "1200/1200 [==============================] - 1s 1ms/step - loss: 0.0507\n",
      "Epoch 32/40\n",
      "1200/1200 [==============================] - 1s 1ms/step - loss: 0.0507\n",
      "Epoch 33/40\n",
      "1200/1200 [==============================] - 2s 1ms/step - loss: 0.0506\n",
      "Epoch 34/40\n",
      "1200/1200 [==============================] - 1s 1ms/step - loss: 0.0506\n",
      "Epoch 35/40\n",
      "1200/1200 [==============================] - 1s 1ms/step - loss: 0.0506\n",
      "Epoch 36/40\n",
      "1200/1200 [==============================] - 1s 1ms/step - loss: 0.0505\n",
      "Epoch 37/40\n",
      "1200/1200 [==============================] - 1s 1ms/step - loss: 0.0505\n",
      "Epoch 38/40\n",
      "1200/1200 [==============================] - 1s 1ms/step - loss: 0.0505\n",
      "Epoch 39/40\n",
      "1200/1200 [==============================] - 1s 1ms/step - loss: 0.0504\n",
      "Epoch 40/40\n",
      "1200/1200 [==============================] - 1s 1ms/step - loss: 0.0504\n",
      "Epoch 1/100\n",
      "1200/1200 [==============================] - 2s 1ms/step - loss: 0.0488\n",
      "Epoch 2/100\n",
      "1200/1200 [==============================] - 1s 1ms/step - loss: 0.0284\n",
      "Epoch 3/100\n",
      "1200/1200 [==============================] - 1s 1ms/step - loss: 0.0257\n",
      "Epoch 4/100\n",
      "1200/1200 [==============================] - 1s 1ms/step - loss: 0.0245\n",
      "Epoch 5/100\n",
      "1200/1200 [==============================] - 1s 1ms/step - loss: 0.0239\n",
      "Epoch 6/100\n",
      "1200/1200 [==============================] - 1s 1ms/step - loss: 0.0236\n",
      "Epoch 7/100\n",
      "1200/1200 [==============================] - 1s 1ms/step - loss: 0.0234\n",
      "Epoch 8/100\n",
      "1200/1200 [==============================] - 1s 1ms/step - loss: 0.0233\n",
      "Epoch 9/100\n",
      "1200/1200 [==============================] - 1s 1ms/step - loss: 0.0232\n",
      "Epoch 10/100\n",
      "1200/1200 [==============================] - 2s 1ms/step - loss: 0.0231\n",
      "Epoch 11/100\n",
      "1200/1200 [==============================] - 1s 1ms/step - loss: 0.0230\n",
      "Epoch 12/100\n",
      "1200/1200 [==============================] - 1s 1ms/step - loss: 0.0229\n",
      "Epoch 13/100\n",
      "1200/1200 [==============================] - 1s 1ms/step - loss: 0.0228\n",
      "Epoch 14/100\n",
      "1200/1200 [==============================] - 1s 1ms/step - loss: 0.0228\n",
      "Epoch 15/100\n",
      "1200/1200 [==============================] - 1s 1ms/step - loss: 0.0227\n",
      "Epoch 16/100\n",
      "1200/1200 [==============================] - 2s 1ms/step - loss: 0.0227\n",
      "Epoch 17/100\n",
      "1200/1200 [==============================] - 2s 1ms/step - loss: 0.0226\n",
      "Epoch 18/100\n",
      "1200/1200 [==============================] - 1s 1ms/step - loss: 0.0226\n",
      "Epoch 19/100\n",
      "1200/1200 [==============================] - 1s 1ms/step - loss: 0.0226\n",
      "Epoch 20/100\n",
      "1200/1200 [==============================] - 1s 1ms/step - loss: 0.0225\n",
      "Epoch 21/100\n",
      "1200/1200 [==============================] - 1s 1ms/step - loss: 0.0225\n",
      "Epoch 22/100\n",
      "1200/1200 [==============================] - 1s 1ms/step - loss: 0.0224\n",
      "Epoch 23/100\n",
      "1200/1200 [==============================] - 1s 1ms/step - loss: 0.0224\n",
      "Epoch 24/100\n",
      "1200/1200 [==============================] - 2s 1ms/step - loss: 0.0224\n",
      "Epoch 25/100\n",
      "1200/1200 [==============================] - 1s 1ms/step - loss: 0.0224\n",
      "Epoch 26/100\n",
      "1200/1200 [==============================] - 1s 1ms/step - loss: 0.0223\n",
      "Epoch 27/100\n",
      "1200/1200 [==============================] - 1s 1ms/step - loss: 0.0223\n",
      "Epoch 28/100\n",
      "1200/1200 [==============================] - 1s 1ms/step - loss: 0.0223\n",
      "Epoch 29/100\n",
      "1200/1200 [==============================] - 1s 1ms/step - loss: 0.0222\n",
      "Epoch 30/100\n",
      "1200/1200 [==============================] - 1s 1ms/step - loss: 0.0222\n",
      "Epoch 31/100\n",
      "1200/1200 [==============================] - 1s 1ms/step - loss: 0.0222\n",
      "Epoch 32/100\n",
      "1200/1200 [==============================] - 1s 1ms/step - loss: 0.0222\n",
      "Epoch 33/100\n",
      "1200/1200 [==============================] - 1s 1ms/step - loss: 0.0222\n",
      "Epoch 34/100\n",
      "1200/1200 [==============================] - 1s 1ms/step - loss: 0.0222\n",
      "Epoch 35/100\n",
      "1200/1200 [==============================] - 1s 1ms/step - loss: 0.0221\n",
      "Epoch 36/100\n",
      "1200/1200 [==============================] - 1s 1ms/step - loss: 0.0221\n",
      "Epoch 37/100\n",
      "1200/1200 [==============================] - 1s 1ms/step - loss: 0.0221\n",
      "Epoch 38/100\n",
      "1200/1200 [==============================] - 2s 1ms/step - loss: 0.0221\n",
      "Epoch 39/100\n",
      "1200/1200 [==============================] - 1s 1ms/step - loss: 0.0221\n",
      "Epoch 40/100\n",
      "1200/1200 [==============================] - 1s 1ms/step - loss: 0.0221\n",
      "Epoch 41/100\n",
      "1200/1200 [==============================] - 1s 1ms/step - loss: 0.0221\n",
      "Epoch 42/100\n",
      "1200/1200 [==============================] - 1s 1ms/step - loss: 0.0220\n",
      "Epoch 43/100\n",
      "1200/1200 [==============================] - 1s 1ms/step - loss: 0.0220\n",
      "Epoch 44/100\n",
      "1200/1200 [==============================] - 1s 1ms/step - loss: 0.0220\n",
      "Epoch 45/100\n",
      "1200/1200 [==============================] - 1s 1ms/step - loss: 0.0220\n",
      "Epoch 46/100\n",
      "1200/1200 [==============================] - 1s 1ms/step - loss: 0.0220\n",
      "Epoch 47/100\n",
      "1200/1200 [==============================] - 1s 1ms/step - loss: 0.0220\n",
      "Epoch 48/100\n",
      "1200/1200 [==============================] - 1s 1ms/step - loss: 0.0220\n",
      "Epoch 49/100\n",
      "1200/1200 [==============================] - 1s 1ms/step - loss: 0.0220\n",
      "Epoch 50/100\n",
      "1200/1200 [==============================] - 2s 1ms/step - loss: 0.0220\n",
      "Epoch 51/100\n",
      "1200/1200 [==============================] - 1s 1ms/step - loss: 0.0220\n",
      "Epoch 52/100\n",
      "1200/1200 [==============================] - 1s 1ms/step - loss: 0.0220\n",
      "Epoch 53/100\n",
      "1200/1200 [==============================] - 1s 1ms/step - loss: 0.0220\n",
      "Epoch 54/100\n",
      "1200/1200 [==============================] - 1s 1ms/step - loss: 0.0219\n",
      "Epoch 55/100\n",
      "1200/1200 [==============================] - 1s 1ms/step - loss: 0.0219\n",
      "Epoch 56/100\n",
      "1200/1200 [==============================] - 1s 1ms/step - loss: 0.0219\n",
      "Epoch 57/100\n",
      "1200/1200 [==============================] - 1s 1ms/step - loss: 0.0219\n",
      "Epoch 58/100\n",
      "1200/1200 [==============================] - 1s 1ms/step - loss: 0.0219\n",
      "Epoch 59/100\n",
      "1200/1200 [==============================] - 1s 1ms/step - loss: 0.0219\n",
      "Epoch 60/100\n",
      "1200/1200 [==============================] - 1s 1ms/step - loss: 0.0219\n",
      "Epoch 61/100\n",
      "1200/1200 [==============================] - 1s 1ms/step - loss: 0.0219\n",
      "Epoch 62/100\n",
      "1200/1200 [==============================] - 1s 1ms/step - loss: 0.0219\n",
      "Epoch 63/100\n",
      "1200/1200 [==============================] - 1s 1ms/step - loss: 0.0219\n",
      "Epoch 64/100\n",
      "1200/1200 [==============================] - 1s 1ms/step - loss: 0.0219\n",
      "Epoch 65/100\n",
      "1200/1200 [==============================] - 1s 1ms/step - loss: 0.0219\n",
      "Epoch 66/100\n",
      "1200/1200 [==============================] - 1s 1ms/step - loss: 0.0219\n",
      "Epoch 67/100\n",
      "1200/1200 [==============================] - 1s 1ms/step - loss: 0.0219\n",
      "Epoch 68/100\n",
      "1200/1200 [==============================] - 1s 1ms/step - loss: 0.0219\n",
      "Epoch 69/100\n",
      "1200/1200 [==============================] - 2s 1ms/step - loss: 0.0219\n",
      "Epoch 70/100\n",
      "1200/1200 [==============================] - 2s 1ms/step - loss: 0.0219\n",
      "Epoch 71/100\n",
      "1200/1200 [==============================] - 1s 1ms/step - loss: 0.0219\n",
      "Epoch 72/100\n",
      "1200/1200 [==============================] - 1s 1ms/step - loss: 0.0219\n",
      "Epoch 73/100\n",
      "1200/1200 [==============================] - 2s 1ms/step - loss: 0.0219\n",
      "Epoch 74/100\n",
      "1200/1200 [==============================] - 2s 1ms/step - loss: 0.0219\n",
      "Epoch 75/100\n",
      "1200/1200 [==============================] - 1s 1ms/step - loss: 0.0219\n",
      "Epoch 76/100\n",
      "1200/1200 [==============================] - 2s 1ms/step - loss: 0.0219\n",
      "Epoch 77/100\n",
      "1200/1200 [==============================] - 1s 1ms/step - loss: 0.0218\n",
      "Epoch 78/100\n",
      "1200/1200 [==============================] - 2s 1ms/step - loss: 0.0219\n",
      "Epoch 79/100\n",
      "1200/1200 [==============================] - 2s 1ms/step - loss: 0.0218\n",
      "Epoch 80/100\n",
      "1200/1200 [==============================] - 2s 1ms/step - loss: 0.0218\n",
      "Epoch 81/100\n",
      "1200/1200 [==============================] - 2s 1ms/step - loss: 0.0218\n",
      "Epoch 82/100\n",
      "1200/1200 [==============================] - 2s 1ms/step - loss: 0.0218\n",
      "Epoch 83/100\n",
      "1200/1200 [==============================] - 2s 1ms/step - loss: 0.0218\n",
      "Epoch 84/100\n",
      "1200/1200 [==============================] - 2s 1ms/step - loss: 0.0218\n",
      "Epoch 85/100\n",
      "1200/1200 [==============================] - 2s 1ms/step - loss: 0.0218\n",
      "Epoch 86/100\n",
      "1200/1200 [==============================] - 2s 1ms/step - loss: 0.0218\n",
      "Epoch 87/100\n",
      "1200/1200 [==============================] - 2s 1ms/step - loss: 0.0218\n",
      "Epoch 88/100\n",
      "1200/1200 [==============================] - 2s 1ms/step - loss: 0.0218\n",
      "Epoch 89/100\n",
      "1200/1200 [==============================] - 2s 1ms/step - loss: 0.0218\n",
      "Epoch 90/100\n",
      "1200/1200 [==============================] - 2s 1ms/step - loss: 0.0218\n",
      "Epoch 91/100\n",
      "1200/1200 [==============================] - 2s 1ms/step - loss: 0.0218\n",
      "Epoch 92/100\n",
      "1200/1200 [==============================] - 2s 1ms/step - loss: 0.0218\n",
      "Epoch 93/100\n",
      "1200/1200 [==============================] - 2s 1ms/step - loss: 0.0218\n",
      "Epoch 94/100\n",
      "1200/1200 [==============================] - 2s 1ms/step - loss: 0.0218\n",
      "Epoch 95/100\n",
      "1200/1200 [==============================] - 1s 1ms/step - loss: 0.0218\n",
      "Epoch 96/100\n",
      "1200/1200 [==============================] - 1s 1ms/step - loss: 0.0218\n",
      "Epoch 97/100\n",
      "1200/1200 [==============================] - 2s 1ms/step - loss: 0.0218\n",
      "Epoch 98/100\n",
      "1200/1200 [==============================] - 2s 2ms/step - loss: 0.0218\n",
      "Epoch 99/100\n",
      "1200/1200 [==============================] - 2s 1ms/step - loss: 0.0218\n",
      "Epoch 100/100\n",
      "1200/1200 [==============================] - 2s 1ms/step - loss: 0.0218\n"
     ]
    },
    {
     "data": {
      "text/plain": [
       "<keras.callbacks.History at 0x27795ec5bb0>"
      ]
     },
     "execution_count": 73,
     "metadata": {},
     "output_type": "execute_result"
    }
   ],
   "source": [
    "# x값, x값 입력 데이터 -> 답을 가지고 있지 않아서? 비지도 학습\n",
    "model01.fit(x_train, x_train, epochs=20)\n",
    "model02.fit(x_train, x_train, epochs=30)\n",
    "model03.fit(x_train, x_train, epochs=40)\n",
    "model15.fit(x_train, x_train, epochs=100)"
   ]
  },
  {
   "cell_type": "code",
   "execution_count": 89,
   "id": "381d6386-b013-4824-904d-758c1f669d29",
   "metadata": {
    "collapsed": true,
    "jupyter": {
     "outputs_hidden": true
    },
    "tags": []
   },
   "outputs": [
    {
     "name": "stdout",
     "output_type": "stream",
     "text": [
      "Epoch 1/10\n",
      "1200/1200 [==============================] - 2s 1ms/step - loss: 0.0495\n",
      "Epoch 2/10\n",
      "1200/1200 [==============================] - 1s 1ms/step - loss: 0.0286\n",
      "Epoch 3/10\n",
      "1200/1200 [==============================] - 1s 1ms/step - loss: 0.0261\n",
      "Epoch 4/10\n",
      "1200/1200 [==============================] - 1s 1ms/step - loss: 0.0248\n",
      "Epoch 5/10\n",
      "1200/1200 [==============================] - 1s 1ms/step - loss: 0.0241\n",
      "Epoch 6/10\n",
      "1200/1200 [==============================] - 1s 1ms/step - loss: 0.0237\n",
      "Epoch 7/10\n",
      "1200/1200 [==============================] - 1s 1ms/step - loss: 0.0234\n",
      "Epoch 8/10\n",
      "1200/1200 [==============================] - 1s 1ms/step - loss: 0.0233\n",
      "Epoch 9/10\n",
      "1200/1200 [==============================] - 1s 1ms/step - loss: 0.0231\n",
      "Epoch 10/10\n",
      "1200/1200 [==============================] - 1s 1ms/step - loss: 0.0230\n"
     ]
    },
    {
     "data": {
      "text/plain": [
       "<keras.callbacks.History at 0x2779e70abb0>"
      ]
     },
     "execution_count": 89,
     "metadata": {},
     "output_type": "execute_result"
    }
   ],
   "source": [
    "model15.fit(x_train, x_train, epochs=10)"
   ]
  },
  {
   "cell_type": "code",
   "execution_count": null,
   "id": "97f2c1a4-e583-4588-a976-9dbb27c56cd3",
   "metadata": {
    "tags": []
   },
   "outputs": [
    {
     "name": "stdout",
     "output_type": "stream",
     "text": [
      "1200/1200 [==============================] - 1s 934us/step - loss: 0.2313\n",
      "0.23132474720478058\n",
      "1200/1200 [==============================] - 1s 838us/step - loss: 0.2313\n",
      "0.23132166266441345\n",
      "1200/1200 [==============================] - 1s 918us/step - loss: 0.2314\n",
      "0.23138485848903656\n",
      "1200/1200 [==============================] - 1s 881us/step - loss: 0.0230\n",
      "0.023002659901976585\n",
      "1200/1200 [==============================] - 1s 1ms/step - loss: 0.2338\n",
      "0.23384582996368408\n"
     ]
    }
   ],
   "source": [
    "print(model01.evaluate(x_train, x_train))\n",
    "print(model02.evaluate(x_train, x_train))\n",
    "print(model03.evaluate(x_train, x_train))\n",
    "print(model15.evaluate(x_train, x_train))\n",
    "print(model100.evaluate(x_train, x_train))"
   ]
  },
  {
   "cell_type": "markdown",
   "id": "37bbfc75-952c-4ce8-897f-80199940bd3f",
   "metadata": {},
   "source": [
    "## 원본 - AE 진행된 이미지 비교"
   ]
  },
  {
   "cell_type": "code",
   "execution_count": 93,
   "id": "0e7113c0-8257-4a70-9dbc-94c98357fb43",
   "metadata": {},
   "outputs": [
    {
     "name": "stdout",
     "output_type": "stream",
     "text": [
      "1/1 [==============================] - 0s 38ms/step\n",
      "1/1 [==============================] - 0s 20ms/step\n",
      "1/1 [==============================] - 0s 20ms/step\n",
      "1/1 [==============================] - 0s 20ms/step\n",
      "1/1 [==============================] - 0s 18ms/step\n"
     ]
    }
   ],
   "source": [
    "pre_out01=model01.predict(x_train[0].reshape(-1,784))\n",
    "pre_out02=model02.predict(x_train[0].reshape(-1,784))\n",
    "pre_out03=model03.predict(x_train[0].reshape(-1,784))\n",
    "pre_out15=model15.predict(x_train[0].reshape(-1,784))\n",
    "pre_out100=model100.predict(x_train[0].reshape(-1,784))"
   ]
  },
  {
   "cell_type": "code",
   "execution_count": 94,
   "id": "307f53a2-636c-4970-8ef5-e39aa725388b",
   "metadata": {},
   "outputs": [
    {
     "data": {
      "text/plain": [
       "<matplotlib.image.AxesImage at 0x2779fdc30d0>"
      ]
     },
     "execution_count": 94,
     "metadata": {},
     "output_type": "execute_result"
    },
    {
     "data": {
      "image/png": "[encoded data removed]",
      "text/plain": [
       "<Figure size 432x288 with 1 Axes>"
      ]
     },
     "metadata": {
      "needs_background": "light"
     },
     "output_type": "display_data"
    }
   ],
   "source": [
    "plt.imshow(pre_out01.reshape(28,28))"
   ]
  },
  {
   "cell_type": "code",
   "execution_count": 95,
   "id": "5db74d95-6a2e-4569-a83d-22d90812c013",
   "metadata": {},
   "outputs": [
    {
     "data": {
      "text/plain": [
       "<matplotlib.image.AxesImage at 0x2779fe2c9d0>"
      ]
     },
     "execution_count": 95,
     "metadata": {},
     "output_type": "execute_result"
    },
    {
     "data": {
      "image/png": "[encoded data removed]",
      "text/plain": [
       "<Figure size 432x288 with 1 Axes>"
      ]
     },
     "metadata": {
      "needs_background": "light"
     },
     "output_type": "display_data"
    }
   ],
   "source": [
    "plt.imshow(pre_out02.reshape(28,28))"
   ]
  },
  {
   "cell_type": "code",
   "execution_count": 96,
   "id": "ba7e6a3b-f268-464b-a5a4-13336c8f5992",
   "metadata": {},
   "outputs": [
    {
     "data": {
      "text/plain": [
       "<matplotlib.image.AxesImage at 0x2779fe89e50>"
      ]
     },
     "execution_count": 96,
     "metadata": {},
     "output_type": "execute_result"
    },
    {
     "data": {
      "image/png": "[encoded data removed]",
      "text/plain": [
       "<Figure size 432x288 with 1 Axes>"
      ]
     },
     "metadata": {
      "needs_background": "light"
     },
     "output_type": "display_data"
    }
   ],
   "source": [
    "plt.imshow(pre_out03.reshape(28,28))"
   ]
  },
  {
   "cell_type": "code",
   "execution_count": 97,
   "id": "b3aa7988-70fb-4e40-9a3d-62bb73a6d669",
   "metadata": {},
   "outputs": [
    {
     "data": {
      "text/plain": [
       "<matplotlib.image.AxesImage at 0x2779fef54f0>"
      ]
     },
     "execution_count": 97,
     "metadata": {},
     "output_type": "execute_result"
    },
    {
     "data": {
      "image/png": "[encoded data removed]",
      "text/plain": [
       "<Figure size 432x288 with 1 Axes>"
      ]
     },
     "metadata": {
      "needs_background": "light"
     },
     "output_type": "display_data"
    }
   ],
   "source": [
    "plt.imshow(pre_out15.reshape(28,28))"
   ]
  },
  {
   "cell_type": "code",
   "execution_count": null,
   "id": "c77fbcbc-3266-4bec-94ed-b1d374dd5bc0",
   "metadata": {},
   "outputs": [],
   "source": []
  },
  {
   "cell_type": "code",
   "execution_count": null,
   "id": "7dc764c9-f9fe-4575-8771-df0ad708e7f5",
   "metadata": {},
   "outputs": [],
   "source": []
  }
 ],
 "metadata": {
  "kernelspec": {
   "display_name": "Python 3 (ipykernel)",
   "language": "python",
   "name": "python3"
  },
  "language_info": {
   "codemirror_mode": {
    "name": "ipython",
    "version": 3
   },
   "file_extension": ".py",
   "mimetype": "text/x-python",
   "name": "python",
   "nbconvert_exporter": "python",
   "pygments_lexer": "ipython3",
   "version": "3.9.12"
  }
 },
 "nbformat": 4,
 "nbformat_minor": 5
}
