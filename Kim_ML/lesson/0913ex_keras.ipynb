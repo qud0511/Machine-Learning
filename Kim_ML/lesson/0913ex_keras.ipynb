{
 "cells": [
  {
   "cell_type": "markdown",
   "metadata": {},
   "source": [
    "# Keras LIB\n",
    "---\n",
    "- Tensorflow 기반은 keras 패키지\n",
    "- 기본데이터 Tensor 타입\n",
    "- 모델을 직접 설계/생성 해야함!!!"
   ]
  },
  {
   "cell_type": "code",
   "execution_count": 1,
   "metadata": {},
   "outputs": [],
   "source": [
    "import tensorflow as tf"
   ]
  },
  {
   "cell_type": "code",
   "execution_count": 339,
   "metadata": {},
   "outputs": [],
   "source": [
    "from keras import Sequential\n",
    "from keras.layers import Dense\n",
    "import numpy as np\n"
   ]
  },
  {
   "cell_type": "markdown",
   "metadata": {},
   "source": [
    "### [1] 모델 구성"
   ]
  },
  {
   "cell_type": "code",
   "execution_count": 340,
   "metadata": {},
   "outputs": [],
   "source": [
    "model = Sequential(name = 'name')"
   ]
  },
  {
   "cell_type": "code",
   "execution_count": 341,
   "metadata": {},
   "outputs": [],
   "source": [
    "# 첫번쨰 층은 반드시 입력정보 파라미터 설정 => input_shape = () 튜플, input_dim = 숫자\n",
    "# shape은 반드시 1차원으로 넣어야 함.\n",
    "l1 = Dense(10, activation = 'relu', input_shape=(5,))"
   ]
  },
  {
   "cell_type": "code",
   "execution_count": 342,
   "metadata": {},
   "outputs": [],
   "source": [
    "# 각 노드(퍼셉트론, 유닛): 10개 입력 / 출력 : 50개\n",
    "l2 = Dense(50, activation = 'softmax')"
   ]
  },
  {
   "cell_type": "code",
   "execution_count": 343,
   "metadata": {},
   "outputs": [],
   "source": [
    "# 각 노드(퍼셉트론, 유닛): 10개 입력 / 출력 : 50개\n",
    "l3 = Dense(50, activation = 'softmax')"
   ]
  },
  {
   "cell_type": "code",
   "execution_count": 344,
   "metadata": {},
   "outputs": [],
   "source": [
    "model.add(l1)\n",
    "model.add(l2)\n",
    "model.add(l3)"
   ]
  },
  {
   "cell_type": "code",
   "execution_count": 345,
   "metadata": {},
   "outputs": [
    {
     "name": "stdout",
     "output_type": "stream",
     "text": [
      "Model: \"name\"\n",
      "_________________________________________________________________\n",
      " Layer (type)                Output Shape              Param #   \n",
      "=================================================================\n",
      " dense_81 (Dense)            (None, 10)                60        \n",
      "                                                                 \n",
      " dense_82 (Dense)            (None, 50)                550       \n",
      "                                                                 \n",
      " dense_83 (Dense)            (None, 50)                2550      \n",
      "                                                                 \n",
      "=================================================================\n",
      "Total params: 3,160\n",
      "Trainable params: 3,160\n",
      "Non-trainable params: 0\n",
      "_________________________________________________________________\n"
     ]
    }
   ],
   "source": [
    "# 모델 구성 확인 => summary\n",
    "model.summary()"
   ]
  },
  {
   "cell_type": "markdown",
   "metadata": {},
   "source": [
    "### [2] 모델 생성"
   ]
  },
  {
   "cell_type": "markdown",
   "metadata": {},
   "source": [
    "- 손실함수, 최적화 기법, 성능평가항목 설정\n",
    "- compile() 메서드\n",
    "    * optimizer : string 타입의 최적화기법명 입력 또는 객체 <- 기본값 사용하지 않는 경우\n",
    "    * loss : 손실함수로 string 타입의 이름 입력\n",
    "        - 분류 : categorical_crossentropy, sparse_categorical_crossentropy,binary_crossentropy\n",
    "        - 회구 : mean_squared_error, mean_absolute_error..\n",
    "    * metrics : 모델 평가 항목\n",
    "        - accuracy"
   ]
  },
  {
   "cell_type": "code",
   "execution_count": 346,
   "metadata": {},
   "outputs": [],
   "source": [
    "model.compile(optimizer = 'adam', \n",
    "            loss = 'categorical_crossentropy', \n",
    "            metrics = ['accuracy'])"
   ]
  },
  {
   "cell_type": "markdown",
   "metadata": {},
   "source": [
    "### [3] 학습\n",
    "---\n",
    "- fit() 메서드\n",
    "    * 훈련용 데이터\n",
    "    * 훈련용 타겟\n",
    "    * epochs : 학습횟수(처음~끝까지)\n",
    "    * batch_size : 1번의 학습량(기본:32)\n",
    "    * validation_split / validation_data = (,) : 검증 데이터 설정\n",
    "    * callbacks : 이벤트처리 함수 목록 (예: 학습중단 이벤트 ,모델 검증 및 저장 이벤트...)\n",
    "    * verbose : 학습 과정 출력 여부 설정(기본값:True)\n",
    "    "
   ]
  },
  {
   "cell_type": "markdown",
   "metadata": {},
   "source": [
    "# 실습 - iris\n",
    "---"
   ]
  },
  {
   "cell_type": "code",
   "execution_count": 347,
   "metadata": {},
   "outputs": [],
   "source": [
    "from sklearn.datasets import load_iris\n",
    "from sklearn.model_selection import train_test_split\n",
    "iris = load_iris()"
   ]
  },
  {
   "cell_type": "code",
   "execution_count": 348,
   "metadata": {},
   "outputs": [],
   "source": [
    "data = iris.data\n",
    "target = iris.target"
   ]
  },
  {
   "cell_type": "code",
   "execution_count": 349,
   "metadata": {},
   "outputs": [
    {
     "name": "stdout",
     "output_type": "stream",
     "text": [
      "(150, 4) (150,)\n"
     ]
    }
   ],
   "source": [
    "print(data.shape,target.shape)"
   ]
  },
  {
   "cell_type": "code",
   "execution_count": 350,
   "metadata": {},
   "outputs": [],
   "source": [
    "from sklearn.preprocessing import LabelEncoder, OneHotEncoder"
   ]
  },
  {
   "cell_type": "markdown",
   "metadata": {},
   "source": [
    "### fit할 때 shape 맞지 않다는 오류 발생하는 경우\n",
    "- 방법1. target을 onehot인코딩하고 complie 시  -> loss='categorical_crossentropy'\n",
    "- 방법2. complie 시  -> loss='sparse_categorical_crossentropy'"
   ]
  },
  {
   "cell_type": "code",
   "execution_count": 351,
   "metadata": {},
   "outputs": [],
   "source": [
    "ohe = OneHotEncoder()\n",
    "target_2 = ohe.fit(target.reshape(-1,1)).transform(target.reshape(-1,1))"
   ]
  },
  {
   "cell_type": "code",
   "execution_count": 352,
   "metadata": {},
   "outputs": [
    {
     "data": {
      "text/plain": [
       "scipy.sparse._csr.csr_matrix"
      ]
     },
     "execution_count": 352,
     "metadata": {},
     "output_type": "execute_result"
    }
   ],
   "source": [
    "type(target_2)"
   ]
  },
  {
   "cell_type": "code",
   "execution_count": 353,
   "metadata": {},
   "outputs": [
    {
     "data": {
      "text/plain": [
       "(numpy.ndarray, array([1., 0., 0.]), (150, 3))"
      ]
     },
     "execution_count": 353,
     "metadata": {},
     "output_type": "execute_result"
    }
   ],
   "source": [
    "target_3 = target_2.toarray()\n",
    "type(target_3), target_3[0], target_3.shape"
   ]
  },
  {
   "cell_type": "code",
   "execution_count": 354,
   "metadata": {},
   "outputs": [],
   "source": [
    "train_X,test_X,train_y,test_y = train_test_split(data,target)"
   ]
  },
  {
   "cell_type": "code",
   "execution_count": 355,
   "metadata": {},
   "outputs": [],
   "source": [
    "model = Sequential(name = 'iris')"
   ]
  },
  {
   "cell_type": "code",
   "execution_count": 356,
   "metadata": {},
   "outputs": [],
   "source": [
    "# 첫번째 층, 입력: 4 / 출력: 50\n",
    "l1 = Dense(10, activation = 'relu', input_shape=(4,))"
   ]
  },
  {
   "cell_type": "code",
   "execution_count": 357,
   "metadata": {},
   "outputs": [],
   "source": [
    "# 각 노드(퍼셉트론, 형식) 입력 50 / 출력 50\n",
    "l2 = Dense(10, activation = 'relu')"
   ]
  },
  {
   "cell_type": "code",
   "execution_count": 358,
   "metadata": {},
   "outputs": [],
   "source": [
    "# 각 노드(퍼셉트론, 형식) 입력 50 / 출력 50\n",
    "l3 = Dense(10, activation = 'softmax')"
   ]
  },
  {
   "cell_type": "code",
   "execution_count": 359,
   "metadata": {},
   "outputs": [],
   "source": [
    "model.add(l1)\n",
    "model.add(l2)\n",
    "model.add(l3)"
   ]
  },
  {
   "cell_type": "code",
   "execution_count": 360,
   "metadata": {},
   "outputs": [],
   "source": [
    "model.compile(loss='sparse_categorical_crossentropy', \n",
    "            optimizer='Adam', \n",
    "            metrics=['accuracy'])"
   ]
  },
  {
   "cell_type": "code",
   "execution_count": 361,
   "metadata": {},
   "outputs": [
    {
     "name": "stdout",
     "output_type": "stream",
     "text": [
      "Model: \"iris\"\n",
      "_________________________________________________________________\n",
      " Layer (type)                Output Shape              Param #   \n",
      "=================================================================\n",
      " dense_84 (Dense)            (None, 10)                50        \n",
      "                                                                 \n",
      " dense_85 (Dense)            (None, 10)                110       \n",
      "                                                                 \n",
      " dense_86 (Dense)            (None, 10)                110       \n",
      "                                                                 \n",
      "=================================================================\n",
      "Total params: 270\n",
      "Trainable params: 270\n",
      "Non-trainable params: 0\n",
      "_________________________________________________________________\n"
     ]
    }
   ],
   "source": [
    "model.summary()"
   ]
  },
  {
   "cell_type": "code",
   "execution_count": 362,
   "metadata": {},
   "outputs": [
    {
     "name": "stdout",
     "output_type": "stream",
     "text": [
      "Epoch 1/100\n",
      "4/4 [==============================] - 1s 4ms/step - loss: 2.8104 - accuracy: 0.0000e+00\n",
      "Epoch 2/100\n",
      "4/4 [==============================] - 0s 5ms/step - loss: 2.7092 - accuracy: 0.0000e+00\n",
      "Epoch 3/100\n",
      "4/4 [==============================] - 0s 5ms/step - loss: 2.6184 - accuracy: 0.0000e+00\n",
      "Epoch 4/100\n",
      "4/4 [==============================] - 0s 6ms/step - loss: 2.5352 - accuracy: 0.0000e+00\n",
      "Epoch 5/100\n",
      "4/4 [==============================] - 0s 5ms/step - loss: 2.4531 - accuracy: 0.0000e+00\n",
      "Epoch 6/100\n",
      "4/4 [==============================] - 0s 5ms/step - loss: 2.3793 - accuracy: 0.0000e+00\n",
      "Epoch 7/100\n",
      "4/4 [==============================] - 0s 6ms/step - loss: 2.3056 - accuracy: 0.0000e+00\n",
      "Epoch 8/100\n",
      "4/4 [==============================] - 0s 6ms/step - loss: 2.2357 - accuracy: 0.0000e+00\n",
      "Epoch 9/100\n",
      "4/4 [==============================] - 0s 7ms/step - loss: 2.1680 - accuracy: 0.0000e+00\n",
      "Epoch 10/100\n",
      "4/4 [==============================] - 0s 6ms/step - loss: 2.1004 - accuracy: 0.0000e+00\n",
      "Epoch 11/100\n",
      "4/4 [==============================] - 0s 6ms/step - loss: 2.0339 - accuracy: 0.0089\n",
      "Epoch 12/100\n",
      "4/4 [==============================] - 0s 4ms/step - loss: 1.9702 - accuracy: 0.0268\n",
      "Epoch 13/100\n",
      "4/4 [==============================] - 0s 7ms/step - loss: 1.9047 - accuracy: 0.0268\n",
      "Epoch 14/100\n",
      "4/4 [==============================] - 0s 6ms/step - loss: 1.8407 - accuracy: 0.0268\n",
      "Epoch 15/100\n",
      "4/4 [==============================] - 0s 6ms/step - loss: 1.7766 - accuracy: 0.0536\n",
      "Epoch 16/100\n",
      "4/4 [==============================] - 0s 7ms/step - loss: 1.7127 - accuracy: 0.1429\n",
      "Epoch 17/100\n",
      "4/4 [==============================] - 0s 5ms/step - loss: 1.6500 - accuracy: 0.1875\n",
      "Epoch 18/100\n",
      "4/4 [==============================] - 0s 7ms/step - loss: 1.5865 - accuracy: 0.2946\n",
      "Epoch 19/100\n",
      "4/4 [==============================] - 0s 4ms/step - loss: 1.5231 - accuracy: 0.4464\n",
      "Epoch 20/100\n",
      "4/4 [==============================] - 0s 4ms/step - loss: 1.4610 - accuracy: 0.7768\n",
      "Epoch 21/100\n",
      "4/4 [==============================] - 0s 5ms/step - loss: 1.3990 - accuracy: 0.8661\n",
      "Epoch 22/100\n",
      "4/4 [==============================] - 0s 7ms/step - loss: 1.3377 - accuracy: 0.8304\n",
      "Epoch 23/100\n",
      "4/4 [==============================] - 0s 10ms/step - loss: 1.2787 - accuracy: 0.8304\n",
      "Epoch 24/100\n",
      "4/4 [==============================] - 0s 6ms/step - loss: 1.2219 - accuracy: 0.8125\n",
      "Epoch 25/100\n",
      "4/4 [==============================] - 0s 8ms/step - loss: 1.1700 - accuracy: 0.7589\n",
      "Epoch 26/100\n",
      "4/4 [==============================] - 0s 6ms/step - loss: 1.1183 - accuracy: 0.7321\n",
      "Epoch 27/100\n",
      "4/4 [==============================] - 0s 7ms/step - loss: 1.0721 - accuracy: 0.7232\n",
      "Epoch 28/100\n",
      "4/4 [==============================] - 0s 5ms/step - loss: 1.0303 - accuracy: 0.7232\n",
      "Epoch 29/100\n",
      "4/4 [==============================] - 0s 6ms/step - loss: 0.9914 - accuracy: 0.7232\n",
      "Epoch 30/100\n",
      "4/4 [==============================] - 0s 6ms/step - loss: 0.9559 - accuracy: 0.7232\n",
      "Epoch 31/100\n",
      "4/4 [==============================] - 0s 6ms/step - loss: 0.9238 - accuracy: 0.7232\n",
      "Epoch 32/100\n",
      "4/4 [==============================] - 0s 7ms/step - loss: 0.8948 - accuracy: 0.7232\n",
      "Epoch 33/100\n",
      "4/4 [==============================] - 0s 4ms/step - loss: 0.8680 - accuracy: 0.7232\n",
      "Epoch 34/100\n",
      "4/4 [==============================] - 0s 6ms/step - loss: 0.8429 - accuracy: 0.7232\n",
      "Epoch 35/100\n",
      "4/4 [==============================] - 0s 6ms/step - loss: 0.8198 - accuracy: 0.7232\n",
      "Epoch 36/100\n",
      "4/4 [==============================] - 0s 5ms/step - loss: 0.7987 - accuracy: 0.7232\n",
      "Epoch 37/100\n",
      "4/4 [==============================] - 0s 7ms/step - loss: 0.7783 - accuracy: 0.7232\n",
      "Epoch 38/100\n",
      "4/4 [==============================] - 0s 7ms/step - loss: 0.7596 - accuracy: 0.7232\n",
      "Epoch 39/100\n",
      "4/4 [==============================] - 0s 5ms/step - loss: 0.7411 - accuracy: 0.7232\n",
      "Epoch 40/100\n",
      "4/4 [==============================] - 0s 5ms/step - loss: 0.7258 - accuracy: 0.7411\n",
      "Epoch 41/100\n",
      "4/4 [==============================] - 0s 5ms/step - loss: 0.7087 - accuracy: 0.7411\n",
      "Epoch 42/100\n",
      "4/4 [==============================] - 0s 7ms/step - loss: 0.6929 - accuracy: 0.7411\n",
      "Epoch 43/100\n",
      "4/4 [==============================] - 0s 6ms/step - loss: 0.6772 - accuracy: 0.7411\n",
      "Epoch 44/100\n",
      "4/4 [==============================] - 0s 6ms/step - loss: 0.6620 - accuracy: 0.7321\n",
      "Epoch 45/100\n",
      "4/4 [==============================] - 0s 6ms/step - loss: 0.6490 - accuracy: 0.7321\n",
      "Epoch 46/100\n",
      "4/4 [==============================] - 0s 5ms/step - loss: 0.6357 - accuracy: 0.7232\n",
      "Epoch 47/100\n",
      "4/4 [==============================] - 0s 5ms/step - loss: 0.6221 - accuracy: 0.7321\n",
      "Epoch 48/100\n",
      "4/4 [==============================] - 0s 7ms/step - loss: 0.6091 - accuracy: 0.7411\n",
      "Epoch 49/100\n",
      "4/4 [==============================] - 0s 4ms/step - loss: 0.5969 - accuracy: 0.7411\n",
      "Epoch 50/100\n",
      "4/4 [==============================] - 0s 4ms/step - loss: 0.5855 - accuracy: 0.7411\n",
      "Epoch 51/100\n",
      "4/4 [==============================] - 0s 7ms/step - loss: 0.5742 - accuracy: 0.7589\n",
      "Epoch 52/100\n",
      "4/4 [==============================] - 0s 6ms/step - loss: 0.5630 - accuracy: 0.7768\n",
      "Epoch 53/100\n",
      "4/4 [==============================] - 0s 7ms/step - loss: 0.5525 - accuracy: 0.7768\n",
      "Epoch 54/100\n",
      "4/4 [==============================] - 0s 7ms/step - loss: 0.5427 - accuracy: 0.7857\n",
      "Epoch 55/100\n",
      "4/4 [==============================] - 0s 6ms/step - loss: 0.5330 - accuracy: 0.7946\n",
      "Epoch 56/100\n",
      "4/4 [==============================] - 0s 6ms/step - loss: 0.5243 - accuracy: 0.7857\n",
      "Epoch 57/100\n",
      "4/4 [==============================] - 0s 5ms/step - loss: 0.5153 - accuracy: 0.7857\n",
      "Epoch 58/100\n",
      "4/4 [==============================] - 0s 5ms/step - loss: 0.5068 - accuracy: 0.7946\n",
      "Epoch 59/100\n",
      "4/4 [==============================] - 0s 6ms/step - loss: 0.4980 - accuracy: 0.8214\n",
      "Epoch 60/100\n",
      "4/4 [==============================] - 0s 5ms/step - loss: 0.4897 - accuracy: 0.8393\n",
      "Epoch 61/100\n",
      "4/4 [==============================] - 0s 6ms/step - loss: 0.4818 - accuracy: 0.8393\n",
      "Epoch 62/100\n",
      "4/4 [==============================] - 0s 5ms/step - loss: 0.4746 - accuracy: 0.8482\n",
      "Epoch 63/100\n",
      "4/4 [==============================] - 0s 5ms/step - loss: 0.4671 - accuracy: 0.8571\n",
      "Epoch 64/100\n",
      "4/4 [==============================] - 0s 5ms/step - loss: 0.4601 - accuracy: 0.8571\n",
      "Epoch 65/100\n",
      "4/4 [==============================] - 0s 6ms/step - loss: 0.4527 - accuracy: 0.8482\n",
      "Epoch 66/100\n",
      "4/4 [==============================] - 0s 5ms/step - loss: 0.4466 - accuracy: 0.8571\n",
      "Epoch 67/100\n",
      "4/4 [==============================] - 0s 5ms/step - loss: 0.4393 - accuracy: 0.8750\n",
      "Epoch 68/100\n",
      "4/4 [==============================] - 0s 6ms/step - loss: 0.4326 - accuracy: 0.8750\n",
      "Epoch 69/100\n",
      "4/4 [==============================] - 0s 5ms/step - loss: 0.4266 - accuracy: 0.8661\n",
      "Epoch 70/100\n",
      "4/4 [==============================] - 0s 6ms/step - loss: 0.4202 - accuracy: 0.8661\n",
      "Epoch 71/100\n",
      "4/4 [==============================] - 0s 5ms/step - loss: 0.4144 - accuracy: 0.8839\n",
      "Epoch 72/100\n",
      "4/4 [==============================] - 0s 5ms/step - loss: 0.4083 - accuracy: 0.9107\n",
      "Epoch 73/100\n",
      "4/4 [==============================] - 0s 6ms/step - loss: 0.4027 - accuracy: 0.9107\n",
      "Epoch 74/100\n",
      "4/4 [==============================] - 0s 6ms/step - loss: 0.3971 - accuracy: 0.9107\n",
      "Epoch 75/100\n",
      "4/4 [==============================] - 0s 6ms/step - loss: 0.3917 - accuracy: 0.9107\n",
      "Epoch 76/100\n",
      "4/4 [==============================] - 0s 6ms/step - loss: 0.3865 - accuracy: 0.9107\n",
      "Epoch 77/100\n",
      "4/4 [==============================] - 0s 5ms/step - loss: 0.3813 - accuracy: 0.9196\n",
      "Epoch 78/100\n",
      "4/4 [==============================] - 0s 7ms/step - loss: 0.3762 - accuracy: 0.9375\n",
      "Epoch 79/100\n",
      "4/4 [==============================] - 0s 5ms/step - loss: 0.3715 - accuracy: 0.9375\n",
      "Epoch 80/100\n",
      "4/4 [==============================] - 0s 7ms/step - loss: 0.3664 - accuracy: 0.9375\n",
      "Epoch 81/100\n",
      "4/4 [==============================] - 0s 6ms/step - loss: 0.3620 - accuracy: 0.9375\n",
      "Epoch 82/100\n",
      "4/4 [==============================] - 0s 6ms/step - loss: 0.3572 - accuracy: 0.9375\n",
      "Epoch 83/100\n",
      "4/4 [==============================] - 0s 6ms/step - loss: 0.3526 - accuracy: 0.9375\n",
      "Epoch 84/100\n",
      "4/4 [==============================] - 0s 5ms/step - loss: 0.3487 - accuracy: 0.9375\n",
      "Epoch 85/100\n",
      "4/4 [==============================] - 0s 6ms/step - loss: 0.3439 - accuracy: 0.9375\n",
      "Epoch 86/100\n",
      "4/4 [==============================] - 0s 5ms/step - loss: 0.3397 - accuracy: 0.9375\n",
      "Epoch 87/100\n",
      "4/4 [==============================] - 0s 6ms/step - loss: 0.3356 - accuracy: 0.9375\n",
      "Epoch 88/100\n",
      "4/4 [==============================] - 0s 5ms/step - loss: 0.3317 - accuracy: 0.9464\n",
      "Epoch 89/100\n",
      "4/4 [==============================] - 0s 5ms/step - loss: 0.3277 - accuracy: 0.9554\n",
      "Epoch 90/100\n",
      "4/4 [==============================] - 0s 6ms/step - loss: 0.3238 - accuracy: 0.9375\n",
      "Epoch 91/100\n",
      "4/4 [==============================] - 0s 5ms/step - loss: 0.3199 - accuracy: 0.9375\n",
      "Epoch 92/100\n",
      "4/4 [==============================] - 0s 6ms/step - loss: 0.3155 - accuracy: 0.9464\n",
      "Epoch 93/100\n",
      "4/4 [==============================] - 0s 6ms/step - loss: 0.3117 - accuracy: 0.9464\n",
      "Epoch 94/100\n",
      "4/4 [==============================] - 0s 6ms/step - loss: 0.3085 - accuracy: 0.9554\n",
      "Epoch 95/100\n",
      "4/4 [==============================] - 0s 6ms/step - loss: 0.3043 - accuracy: 0.9554\n",
      "Epoch 96/100\n",
      "4/4 [==============================] - 0s 6ms/step - loss: 0.3017 - accuracy: 0.9643\n",
      "Epoch 97/100\n",
      "4/4 [==============================] - 0s 6ms/step - loss: 0.2989 - accuracy: 0.9732\n",
      "Epoch 98/100\n",
      "4/4 [==============================] - 0s 5ms/step - loss: 0.2954 - accuracy: 0.9732\n",
      "Epoch 99/100\n",
      "4/4 [==============================] - 0s 5ms/step - loss: 0.2909 - accuracy: 0.9643\n",
      "Epoch 100/100\n",
      "4/4 [==============================] - 0s 5ms/step - loss: 0.2893 - accuracy: 0.9554\n"
     ]
    },
    {
     "data": {
      "text/plain": [
       "<keras.callbacks.History at 0x7f95cc6fe380>"
      ]
     },
     "execution_count": 362,
     "metadata": {},
     "output_type": "execute_result"
    }
   ],
   "source": [
    "model.fit(train_X, train_y, epochs =100) # 몇번 돌릴지"
   ]
  },
  {
   "cell_type": "code",
   "execution_count": 363,
   "metadata": {},
   "outputs": [
    {
     "name": "stdout",
     "output_type": "stream",
     "text": [
      "2/2 [==============================] - 0s 5ms/step\n"
     ]
    },
    {
     "data": {
      "text/plain": [
       "array([[4.14904281e-02, 6.30865157e-01, 3.22498620e-01, 9.05504057e-05,\n",
       "        1.22073950e-04, 4.40170476e-03, 1.68237602e-04, 1.81162206e-04,\n",
       "        4.52138629e-05, 1.36886971e-04],\n",
       "       [8.46763030e-02, 6.52205408e-01, 2.51484394e-01, 3.50313494e-04,\n",
       "        5.08459285e-04, 8.75945389e-03, 6.72155234e-04, 5.96570899e-04,\n",
       "        2.31204613e-04, 5.15737920e-04],\n",
       "       [4.25852928e-03, 2.28135020e-01, 7.65609324e-01, 2.58559394e-05,\n",
       "        1.74864126e-05, 1.82773103e-03, 2.73502083e-05, 6.11869109e-05,\n",
       "        5.52231495e-06, 3.20097752e-05],\n",
       "       [6.00814307e-03, 3.06960911e-01, 6.84919119e-01, 2.41580929e-05,\n",
       "        1.85229183e-05, 1.94563786e-03, 2.76198407e-05, 5.94660669e-05,\n",
       "        5.76215098e-06, 3.07618648e-05],\n",
       "       [9.21826839e-01, 6.90041631e-02, 5.39438520e-03, 7.86850942e-05,\n",
       "        5.51451463e-04, 5.49597898e-04, 7.63997901e-04, 1.08820898e-03,\n",
       "        4.34835936e-04, 3.07817303e-04],\n",
       "       [9.22446191e-01, 6.87978193e-02, 5.20446012e-03, 7.27269362e-05,\n",
       "        5.21534297e-04, 5.23762137e-04, 7.12001638e-04, 1.03160995e-03,\n",
       "        4.03002254e-04, 2.86750757e-04],\n",
       "       [9.33754086e-01, 5.94245270e-02, 4.17764345e-03, 4.89439481e-05,\n",
       "        3.77789023e-04, 3.75193253e-04, 5.43058792e-04, 7.90898222e-04,\n",
       "        3.01763474e-04, 2.06055614e-04],\n",
       "       [9.27987278e-01, 6.26828521e-02, 5.41898888e-03, 8.06550743e-05,\n",
       "        5.43693313e-04, 5.25430311e-04, 8.18658445e-04, 1.14892214e-03,\n",
       "        4.75498644e-04, 3.17769416e-04],\n",
       "       [2.87922546e-02, 5.09257972e-01, 4.56171453e-01, 1.07895481e-04,\n",
       "        1.28096799e-04, 4.86068474e-03, 1.70163839e-04, 2.97739665e-04,\n",
       "        5.23762028e-05, 1.61330841e-04],\n",
       "       [2.59658843e-02, 4.91039902e-01, 4.76674318e-01, 1.51529282e-04,\n",
       "        1.35168739e-04, 5.41014364e-03, 2.08603888e-04, 1.85454934e-04,\n",
       "        4.79828268e-05, 1.81012263e-04],\n",
       "       [5.65201938e-02, 6.52449667e-01, 2.84523785e-01, 1.30185450e-04,\n",
       "        1.95854285e-04, 5.34328166e-03, 2.59490276e-04, 2.90144264e-04,\n",
       "        7.97698158e-05, 2.07644276e-04],\n",
       "       [4.83454205e-03, 1.92754880e-01, 7.99145460e-01, 6.21237632e-05,\n",
       "        4.05985629e-05, 2.83624302e-03, 5.94506819e-05, 1.75695925e-04,\n",
       "        1.57165032e-05, 7.54008070e-05],\n",
       "       [8.92657399e-01, 9.27229598e-02, 8.28069169e-03, 1.60725671e-04,\n",
       "        9.77593707e-04, 1.02071569e-03, 1.24947983e-03, 1.66099332e-03,\n",
       "        7.09916174e-04, 5.59493026e-04],\n",
       "       [6.00786433e-02, 6.16347790e-01, 3.14995527e-01, 2.00171824e-04,\n",
       "        2.94172904e-04, 6.75451430e-03, 3.79192323e-04, 4.99279995e-04,\n",
       "        1.31942608e-04, 3.18655919e-04],\n",
       "       [3.68037168e-03, 1.90326199e-01, 8.03667426e-01, 3.36568955e-05,\n",
       "        2.22796298e-05, 2.07722862e-03, 3.20950312e-05, 1.10767935e-04,\n",
       "        8.10392066e-06, 4.18119744e-05],\n",
       "       [9.37739015e-03, 2.87131399e-01, 6.99590623e-01, 6.55439435e-05,\n",
       "        5.74896985e-05, 3.34097049e-03, 7.79278998e-05, 2.42735070e-04,\n",
       "        2.35171228e-05, 9.22920663e-05],\n",
       "       [1.14251032e-01, 6.31820500e-01, 2.37915918e-01, 5.69527096e-04,\n",
       "        9.05195542e-04, 1.10392133e-02, 1.15036836e-03, 1.03474711e-03,\n",
       "        4.40477481e-04, 8.73034238e-04],\n",
       "       [9.02349532e-01, 8.14566240e-02, 8.71452037e-03, 1.90050865e-04,\n",
       "        1.07296277e-03, 1.04849960e-03, 1.50074949e-03, 2.09714216e-03,\n",
       "        9.18928243e-04, 6.50954666e-04],\n",
       "       [7.83999860e-01, 1.75054550e-01, 2.56166980e-02, 5.61369350e-04,\n",
       "        2.23476905e-03, 3.30793322e-03, 2.98881624e-03, 3.10603715e-03,\n",
       "        1.65711250e-03, 1.47296069e-03],\n",
       "       [3.44897732e-02, 5.09218693e-01, 4.48804557e-01, 1.61225646e-04,\n",
       "        1.97235669e-04, 6.06225850e-03, 2.53222272e-04, 4.81443800e-04,\n",
       "        8.81616506e-05, 2.43374991e-04],\n",
       "       [5.84515855e-02, 6.75572693e-01, 2.60016143e-01, 1.15424795e-04,\n",
       "        1.76083384e-04, 4.95060999e-03, 2.38295339e-04, 2.27824057e-04,\n",
       "        6.84783590e-05, 1.82838456e-04],\n",
       "       [6.29292848e-03, 2.87989914e-01, 7.03501701e-01, 2.78769767e-05,\n",
       "        2.15374876e-05, 2.02379841e-03, 3.32869204e-05, 6.56641132e-05,\n",
       "        6.79195909e-06, 3.64831249e-05],\n",
       "       [3.06632766e-03, 1.95673078e-01, 7.99712598e-01, 1.73122244e-05,\n",
       "        1.15109797e-05, 1.42655638e-03, 1.79323306e-05, 4.89144986e-05,\n",
       "        3.58200214e-06, 2.21217142e-05],\n",
       "       [3.75388414e-02, 6.20758593e-01, 3.37235421e-01, 6.99989978e-05,\n",
       "        9.71304253e-05, 3.86059447e-03, 1.33461275e-04, 1.59850184e-04,\n",
       "        3.54788062e-05, 1.10681911e-04],\n",
       "       [1.25114873e-01, 6.58716917e-01, 2.06845790e-01, 2.48962751e-04,\n",
       "        4.67009988e-04, 6.70524221e-03, 6.06929534e-04, 6.33929973e-04,\n",
       "        2.14796019e-04, 4.45482554e-04],\n",
       "       [1.26989484e-01, 6.18310213e-01, 2.38361299e-01, 5.85710630e-04,\n",
       "        9.59808880e-04, 1.08908350e-02, 1.21095800e-03, 1.26844633e-03,\n",
       "        4.88174555e-04, 9.35073418e-04],\n",
       "       [9.17456806e-01, 7.12744892e-02, 6.38024183e-03, 1.09571709e-04,\n",
       "        7.01380661e-04, 6.84975763e-04, 1.00663013e-03, 1.38588855e-03,\n",
       "        5.89053147e-04, 4.10990528e-04],\n",
       "       [2.98511721e-02, 5.92911184e-01, 3.73331249e-01, 5.65258742e-05,\n",
       "        7.25663340e-05, 3.43896635e-03, 1.01642116e-04, 1.25084087e-04,\n",
       "        2.52658810e-05, 8.64378671e-05],\n",
       "       [8.28311685e-03, 2.73492485e-01, 7.14254677e-01, 7.37224109e-05,\n",
       "        5.61552733e-05, 3.44516570e-03, 7.97606117e-05, 2.00283655e-04,\n",
       "        2.17638499e-05, 9.29205198e-05],\n",
       "       [9.13842380e-01, 7.51651376e-02, 6.31180219e-03, 1.04521037e-04,\n",
       "        6.90447690e-04, 6.90234418e-04, 9.34963638e-04, 1.32839952e-03,\n",
       "        5.41563786e-04, 3.90518573e-04],\n",
       "       [3.79855074e-02, 4.97048587e-01, 4.55133229e-01, 2.92390556e-04,\n",
       "        2.96937418e-04, 7.84269627e-03, 4.21940815e-04, 4.74898261e-04,\n",
       "        1.25798804e-04, 3.77917022e-04],\n",
       "       [7.53977075e-02, 6.28048599e-01, 2.87936002e-01, 2.01424904e-04,\n",
       "        3.15368961e-04, 6.54012663e-03, 4.06200532e-04, 6.55055745e-04,\n",
       "        1.55849033e-04, 3.43578489e-04],\n",
       "       [6.85213581e-02, 6.15817845e-01, 3.04488391e-01, 3.31257936e-04,\n",
       "        4.38420044e-04, 8.56909715e-03, 5.89053554e-04, 5.74314385e-04,\n",
       "        1.96065899e-04, 4.74141882e-04],\n",
       "       [2.66611744e-02, 5.54725349e-01, 4.14213985e-01, 7.39760289e-05,\n",
       "        8.12854487e-05, 3.86965345e-03, 1.18948316e-04, 1.26164086e-04,\n",
       "        2.76661376e-05, 1.01794882e-04],\n",
       "       [8.85304749e-01, 9.84564945e-02, 9.28987563e-03, 1.81676965e-04,\n",
       "        1.06710813e-03, 1.14128285e-03, 1.36693229e-03, 1.79959054e-03,\n",
       "        7.65733072e-04, 6.26583293e-04],\n",
       "       [7.43513033e-02, 6.33222818e-01, 2.84202039e-01, 1.85917612e-04,\n",
       "        2.94674275e-04, 6.29061228e-03, 3.75553122e-04, 6.16024248e-04,\n",
       "        1.43474303e-04, 3.17522150e-04],\n",
       "       [4.41716285e-03, 2.31965184e-01, 7.61701286e-01, 2.16401058e-05,\n",
       "        1.68720508e-05, 1.73721032e-03, 2.42823626e-05, 8.06354219e-05,\n",
       "        5.79438210e-06, 3.00250613e-05],\n",
       "       [1.58462138e-03, 1.26777053e-01, 8.70079339e-01, 2.31660633e-05,\n",
       "        1.05154513e-05, 1.43632456e-03, 1.72861983e-05, 4.49986546e-05,\n",
       "        3.21099765e-06, 2.34569143e-05]], dtype=float32)"
      ]
     },
     "execution_count": 363,
     "metadata": {},
     "output_type": "execute_result"
    }
   ],
   "source": [
    "model.predict(test_X)"
   ]
  },
  {
   "cell_type": "code",
   "execution_count": 364,
   "metadata": {},
   "outputs": [
    {
     "name": "stdout",
     "output_type": "stream",
     "text": [
      "2/2 [==============================] - 0s 6ms/step - loss: 0.3709 - accuracy: 0.9737\n"
     ]
    }
   ],
   "source": [
    "loss, accuracy = model.evaluate(test_X, test_y)"
   ]
  },
  {
   "cell_type": "code",
   "execution_count": 365,
   "metadata": {},
   "outputs": [
    {
     "name": "stdout",
     "output_type": "stream",
     "text": [
      "Accuracy = 0.97\n"
     ]
    }
   ],
   "source": [
    "print(\"Accuracy = {:.2f}\".format(accuracy))"
   ]
  },
  {
   "cell_type": "code",
   "execution_count": null,
   "metadata": {},
   "outputs": [],
   "source": []
  }
 ],
 "metadata": {
  "kernelspec": {
   "display_name": "Python 3.9.12 ('base')",
   "language": "python",
   "name": "python3"
  },
  "language_info": {
   "codemirror_mode": {
    "name": "ipython",
    "version": 3
   },
   "file_extension": ".py",
   "mimetype": "text/x-python",
   "name": "python",
   "nbconvert_exporter": "python",
   "pygments_lexer": "ipython3",
   "version": "3.9.12"
  },
  "orig_nbformat": 4,
  "vscode": {
   "interpreter": {
    "hash": "ad2bdc8ecc057115af97d19610ffacc2b4e99fae6737bb82f5d7fb13d2f2c186"
   }
  }
 },
 "nbformat": 4,
 "nbformat_minor": 2
}
