{
 "cells": [
  {
   "cell_type": "markdown",
   "id": "e758e10c-fd1e-4a07-b667-0057c7dc630f",
   "metadata": {},
   "source": [
    "# 텍스트 전처리\n",
    "- 패키지 설치\n",
    "    - NLTK : pip install nltk\n",
    "    - KoNLP"
   ]
  },
  {
   "cell_type": "code",
   "execution_count": 7,
   "id": "23e73455-17b2-4921-878f-c9daa469c8e4",
   "metadata": {},
   "outputs": [],
   "source": [
    "# ! pip install --user --upgrade pip"
   ]
  },
  {
   "cell_type": "code",
   "execution_count": 3,
   "id": "55637c55-d927-4f16-b9c8-d3adc03c45f8",
   "metadata": {},
   "outputs": [],
   "source": [
    "# ! pip install nltk"
   ]
  },
  {
   "cell_type": "code",
   "execution_count": 10,
   "id": "5ef4af37-d1f2-4c08-a21b-dedde76b26d5",
   "metadata": {},
   "outputs": [],
   "source": [
    "# ! pip install konlpy"
   ]
  },
  {
   "cell_type": "code",
   "execution_count": null,
   "id": "5a9205cf-b9ac-40f7-9430-70ff97cdb1b0",
   "metadata": {},
   "outputs": [],
   "source": []
  }
 ],
 "metadata": {
  "kernelspec": {
   "display_name": "Python 3 (ipykernel)",
   "language": "python",
   "name": "python3"
  },
  "language_info": {
   "codemirror_mode": {
    "name": "ipython",
    "version": 3
   },
   "file_extension": ".py",
   "mimetype": "text/x-python",
   "name": "python",
   "nbconvert_exporter": "python",
   "pygments_lexer": "ipython3",
   "version": "3.9.12"
  }
 },
 "nbformat": 4,
 "nbformat_minor": 5
}
