{
 "cells": [
  {
   "cell_type": "markdown",
   "id": "e758e10c-fd1e-4a07-b667-0057c7dc630f",
   "metadata": {},
   "source": [
    "# 텍스트 전처리\n",
    "- 패키지 설치\n",
    "    - NLTK : pip install nltk\n",
    "    - KoNLP"
   ]
  },
  {
   "cell_type": "code",
   "execution_count": 7,
   "id": "23e73455-17b2-4921-878f-c9daa469c8e4",
   "metadata": {},
   "outputs": [],
   "source": [
    "# ! pip install --user --upgrade pip"
   ]
  },
  {
   "cell_type": "code",
   "execution_count": 3,
   "id": "55637c55-d927-4f16-b9c8-d3adc03c45f8",
   "metadata": {},
   "outputs": [],
   "source": [
    "# ! pip install nltk"
   ]
  },
  {
   "cell_type": "code",
   "execution_count": 10,
   "id": "5ef4af37-d1f2-4c08-a21b-dedde76b26d5",
   "metadata": {},
   "outputs": [],
   "source": [
    "# ! pip install konlpy"
   ]
  },
  {
   "cell_type": "code",
   "execution_count": 91,
   "id": "8a2e2fc0-6ac5-4d93-8941-d141e2581dfc",
   "metadata": {},
   "outputs": [],
   "source": [
    "import nltk\n",
    "import konlpy"
   ]
  },
  {
   "cell_type": "code",
   "execution_count": 90,
   "id": "6181b8d2-184c-4c90-89d7-b67e3b27dd61",
   "metadata": {},
   "outputs": [],
   "source": [
    "# nltk LookupError\n",
    "# nltk.download()"
   ]
  },
  {
   "cell_type": "markdown",
   "id": "4f3fe31d-0bb7-41b6-9688-b3161c55d48d",
   "metadata": {},
   "source": [
    "##  [1] 토큰화(Tokenize)\n",
    "- 문장/ 문서를 의미를 지닌 작은 단위로 나뉘는 것\n",
    "- 나누어진 단어를 토큰(Token)이라 함.\n",
    "- 종류\n",
    "    - 문장 토큰화\n",
    "    - 단어 토큰화"
   ]
  },
  {
   "cell_type": "code",
   "execution_count": 48,
   "id": "aa93c647-2029-424d-8102-4b6e57cb9bbc",
   "metadata": {},
   "outputs": [],
   "source": [
    "from nltk.tokenize import sent_tokenize, word_tokenize"
   ]
  },
  {
   "cell_type": "code",
   "execution_count": 57,
   "id": "a3c361a0-fe6f-4fce-9656-27be55207e1d",
   "metadata": {},
   "outputs": [],
   "source": [
    "raw_text_01='Caution: when tokenizing a Unicode string,\\\n",
    "make sure you are not using an encoded version of the string (it may be necessary to decode it first,\\\n",
    "e.g. with s.decode(\"utf8\").'\n",
    "\n",
    "raw_text_02=\"\"\"Return a tokenized copy of text, using NLTK’s recommended word tokenizer (currently an improved TreebankWordTokenizer along with PunktSentenceTokenizer for the specified language).\n",
    "\"\"\"\n",
    "\n",
    "raw_text_03=\"This particular tokenizer requires the Punkt sentence tokenization models to be installed.\\\n",
    "NLTK also provides a simpler, regular-expression based tokenizer, which splits text on whitespace and punctuation:\""
   ]
  },
  {
   "cell_type": "code",
   "execution_count": 63,
   "id": "bf65f988-c0a9-4f87-b92c-b2a7b3895b1a",
   "metadata": {},
   "outputs": [
    {
     "name": "stdout",
     "output_type": "stream",
     "text": [
      "['Caution', ':', 'when', 'tokenizing', 'a', 'Unicode', 'string', ',', 'make', 'sure', 'you', 'are', 'not', 'using', 'an', 'encoded', 'version', 'of', 'the', 'string', '(', 'it', 'may', 'be', 'necessary', 'to', 'decode', 'it', 'first', ',', 'e.g', '.', 'with', 's.decode', '(', '``', 'utf8', \"''\", ')', '.']\n"
     ]
    }
   ],
   "source": [
    "# 단어 단위 토큰화 word_tokenize\n",
    "result_01=word_tokenize(raw_text_01)\n",
    "print(result_01)"
   ]
  },
  {
   "cell_type": "code",
   "execution_count": 67,
   "id": "720cb553-dc26-4f18-895d-176c0f6562cc",
   "metadata": {},
   "outputs": [
    {
     "name": "stdout",
     "output_type": "stream",
     "text": [
      "['Caution: when tokenizing a Unicode string, make sure you are not using an encoded version of the string (it may be necessary to decode it first, e.g. with s.decode(\"utf8\").', 'Return a tokenized copy of text, using NLTK’s recommended word tokenizer (currently an improved TreebankWordTokenizer along with PunktSentenceTokenizer for the specified language).\\n', 'This particular tokenizer requires the Punkt sentence tokenization models to be installed.NLTK also provides a simpler, regular-expression based tokenizer, which splits text on whitespace and punctuation:']\n"
     ]
    }
   ],
   "source": [
    "raw_text_list=[raw_text01, raw_text_02, raw_text_03]\n",
    "print(raw_text_list)"
   ]
  },
  {
   "cell_type": "code",
   "execution_count": 68,
   "id": "67ce8232-27ee-4181-a7d5-26c54dc699fb",
   "metadata": {},
   "outputs": [
    {
     "name": "stdout",
     "output_type": "stream",
     "text": [
      "['Caution: when tokenizing a Unicode string,make sure you are not using an encoded version of the string (it may be necessary to decode it first,e.g.', 'with s.decode(\"utf8\").'] 2\n"
     ]
    }
   ],
   "source": [
    "# sent_tokenize\n",
    "st = sent_tokenize(raw_text_01)\n",
    "print(st, len(st))"
   ]
  },
  {
   "cell_type": "markdown",
   "id": "1ad9452d-f284-4274-b47c-9412b1ff080e",
   "metadata": {},
   "source": [
    "### 여러 문장에 토큰 추출"
   ]
  },
  {
   "cell_type": "code",
   "execution_count": 93,
   "id": "5e480527-1e57-42ee-ae86-6be147e6f97e",
   "metadata": {
    "tags": []
   },
   "outputs": [],
   "source": [
    "# # 문장 단위로 추출\n",
    "# for sent in raw_text_list:\n",
    "#     total_token=[] # 중복 안하려면 set()\n",
    "    \n",
    "#     # 문장 추출\n",
    "#     sentResult=sent_tokenize(sent)\n",
    "    \n",
    "#     # 문장에서 추출한 토큰\n",
    "#     print(f'sent => {sentResult}')\n",
    "        \n",
    "#     for ele in sent:\n",
    "#         print(f'ele => {ele}')\n",
    "#         wordResult=word_tokenize(ele)\n",
    "#         print(f'wordResult => {wordResult}')\n",
    "#         total_token.append(wordResult)\n",
    "\n",
    "# print(f'total_token => {total_token}')"
   ]
  },
  {
   "cell_type": "markdown",
   "id": "a87cebc8-9a6b-40d0-a2ae-6cf19a1c64bc",
   "metadata": {
    "tags": []
   },
   "source": [
    "## [2] 정제 & 정규화\n",
    "- 불용어 제거 => 노이즈 제거\n",
    "- 텍스트의 동일화\n",
    "    - 대문자 또는 소문자로 통일\n",
    "    - 문장의 길이"
   ]
  },
  {
   "cell_type": "code",
   "execution_count": 94,
   "id": "e735ef79-19d1-4a65-8fd3-1ed8c3b69e14",
   "metadata": {},
   "outputs": [],
   "source": [
    "## [2-1] 불용어 (Stopword)"
   ]
  },
  {
   "cell_type": "code",
   "execution_count": 96,
   "id": "cca78f33-83c6-4703-ae28-a334be7de74b",
   "metadata": {},
   "outputs": [],
   "source": [
    "# nltk.corpus.stopwords"
   ]
  },
  {
   "cell_type": "code",
   "execution_count": 97,
   "id": "77f45c19-f1c2-4563-819a-6643f4859711",
   "metadata": {},
   "outputs": [
    {
     "data": {
      "text/plain": [
       "179"
      ]
     },
     "execution_count": 97,
     "metadata": {},
     "output_type": "execute_result"
    }
   ],
   "source": [
    "en_stopwords=nltk.corpus.stopwords.words('english')\n",
    "len(en_stopwords)"
   ]
  },
  {
   "cell_type": "code",
   "execution_count": 98,
   "id": "efbbec7c-8da5-441a-8983-ac25cb8aeade",
   "metadata": {},
   "outputs": [
    {
     "data": {
      "text/plain": [
       "['i', 'me', 'my', 'myself', 'we', 'our', 'ours', 'ourselves', 'you', \"you're\"]"
      ]
     },
     "execution_count": 98,
     "metadata": {},
     "output_type": "execute_result"
    }
   ],
   "source": [
    "en_stopwords[:10]"
   ]
  },
  {
   "cell_type": "markdown",
   "id": "f764858e-2302-4da3-846e-f737fa681fc3",
   "metadata": {},
   "source": [
    "## [2-2] 어간 및 표제어 처리"
   ]
  },
  {
   "cell_type": "code",
   "execution_count": 101,
   "id": "9f096551-ecc9-4291-8580-10bb383506d3",
   "metadata": {},
   "outputs": [],
   "source": [
    "from nltk.stem import LancasterStemmer # 어간만 자름"
   ]
  },
  {
   "cell_type": "code",
   "execution_count": 102,
   "id": "e1112d0b-f7f5-4d18-8561-6d86b27d1a8c",
   "metadata": {},
   "outputs": [],
   "source": [
    "lstem=LancasterStemmer()"
   ]
  },
  {
   "cell_type": "code",
   "execution_count": 104,
   "id": "c68afc67-30cc-4fce-9acf-3996e77faf52",
   "metadata": {},
   "outputs": [
    {
     "data": {
      "text/plain": [
       "('happy', 'happy')"
      ]
     },
     "execution_count": 104,
     "metadata": {},
     "output_type": "execute_result"
    }
   ],
   "source": [
    "lstem.stem('happy'), lstem.stem('happiness')"
   ]
  },
  {
   "cell_type": "code",
   "execution_count": 106,
   "id": "784c2a16-9af9-407d-8379-b1c576e0fd5c",
   "metadata": {},
   "outputs": [
    {
     "data": {
      "text/plain": [
       "('amus', 'amus')"
      ]
     },
     "execution_count": 106,
     "metadata": {},
     "output_type": "execute_result"
    }
   ],
   "source": [
    "lstem.stem('amuse'), lstem.stem('amused') # amuse 원래 단어의 일부가 잘리는 현상 발생"
   ]
  },
  {
   "cell_type": "code",
   "execution_count": 107,
   "id": "85d08d33-9714-4992-8ad1-2982f3c46ca8",
   "metadata": {},
   "outputs": [],
   "source": [
    "# 표제어(사전에 등록된 단어 추출)"
   ]
  },
  {
   "cell_type": "code",
   "execution_count": 108,
   "id": "0ef6ba96-33e0-4405-81f6-b6e1b64f5be4",
   "metadata": {},
   "outputs": [],
   "source": [
    "from nltk.stem import WordNetLemmatizer"
   ]
  },
  {
   "cell_type": "code",
   "execution_count": 109,
   "id": "6ca0e628-11f4-45aa-9493-0416d3f0f4dd",
   "metadata": {},
   "outputs": [],
   "source": [
    "wlema=WordNetLemmatizer()"
   ]
  },
  {
   "cell_type": "code",
   "execution_count": 110,
   "id": "4e186fc8-6db2-4afb-8704-7691ce9d2f6a",
   "metadata": {},
   "outputs": [
    {
     "data": {
      "text/plain": [
       "('work', 'work')"
      ]
     },
     "execution_count": 110,
     "metadata": {},
     "output_type": "execute_result"
    }
   ],
   "source": [
    "wlema.lemmatize('working', 'v'), wlema.lemmatize('worked', 'v')"
   ]
  },
  {
   "cell_type": "code",
   "execution_count": 112,
   "id": "1587b1cc-f046-49e1-ad24-d9996a2ef620",
   "metadata": {},
   "outputs": [
    {
     "data": {
      "text/plain": [
       "('amuse', 'amuse')"
      ]
     },
     "execution_count": 112,
     "metadata": {},
     "output_type": "execute_result"
    }
   ],
   "source": [
    "wlema.lemmatize('amusing', 'v'), wlema.lemmatize('amused', 'v')"
   ]
  },
  {
   "cell_type": "markdown",
   "id": "894223c2-0c29-46d5-9803-102651084c6f",
   "metadata": {},
   "source": [
    "## [3] 텍스트 벡터화\n",
    "- 텍스트를 수치화\n",
    "- 희소벡터(OHE) : BOW 방식 --> Count 기반, TF-IDF 기반\n",
    "- 밀집벡터(공간행렬) : Embedding 방식, Word2Vect"
   ]
  },
  {
   "cell_type": "code",
   "execution_count": 114,
   "id": "ada9561b-e030-4af2-a5d0-0f518e323b65",
   "metadata": {},
   "outputs": [],
   "source": [
    "from sklearn.feature_extraction.text import CountVectorizer, TfidfVectorizer"
   ]
  },
  {
   "cell_type": "code",
   "execution_count": 115,
   "id": "d3c9e47d-1a17-4f4e-bb7a-96f1e74de995",
   "metadata": {},
   "outputs": [],
   "source": [
    "corpus=[raw_text_01, raw_text_02]"
   ]
  },
  {
   "cell_type": "code",
   "execution_count": 116,
   "id": "15e4ea7f-4197-4de8-8aca-fadd9696b2f4",
   "metadata": {},
   "outputs": [],
   "source": [
    "ohe=CountVectorizer()"
   ]
  },
  {
   "cell_type": "code",
   "execution_count": 117,
   "id": "2322d243-2855-46c1-bf2a-55a26de3193e",
   "metadata": {},
   "outputs": [
    {
     "data": {
      "text/plain": [
       "<2x41 sparse matrix of type '<class 'numpy.int64'>'\n",
       "\twith 46 stored elements in Compressed Sparse Row format>"
      ]
     },
     "execution_count": 117,
     "metadata": {},
     "output_type": "execute_result"
    }
   ],
   "source": [
    "ohe.fit_transform(corpus)"
   ]
  },
  {
   "cell_type": "code",
   "execution_count": null,
   "id": "73abbfac-b476-498c-823c-7940ec641de4",
   "metadata": {},
   "outputs": [],
   "source": []
  }
 ],
 "metadata": {
  "kernelspec": {
   "display_name": "Python 3 (ipykernel)",
   "language": "python",
   "name": "python3"
  },
  "language_info": {
   "codemirror_mode": {
    "name": "ipython",
    "version": 3
   },
   "file_extension": ".py",
   "mimetype": "text/x-python",
   "name": "python",
   "nbconvert_exporter": "python",
   "pygments_lexer": "ipython3",
   "version": "3.9.12"
  }
 },
 "nbformat": 4,
 "nbformat_minor": 5
}
