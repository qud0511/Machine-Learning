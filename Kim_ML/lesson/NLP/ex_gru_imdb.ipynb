{
 "cells": [
  {
   "cell_type": "code",
   "execution_count": null,
   "id": "ea094a35",
   "metadata": {},
   "outputs": [],
   "source": []
  },
  {
   "cell_type": "code",
   "execution_count": 1,
   "id": "c114e3c6",
   "metadata": {},
   "outputs": [],
   "source": [
    "import numpy as np\n",
    "import matplotlib.pyplot as plt\n",
    "from tensorflow.keras.datasets import imdb\n",
    "from tensorflow.keras.preprocessing.sequence import pad_sequences\n"
   ]
  },
  {
   "cell_type": "code",
   "execution_count": 2,
   "id": "d845150a",
   "metadata": {},
   "outputs": [],
   "source": [
    "(X_train, y_train), (X_test, y_test) = imdb.load_data()"
   ]
  },
  {
   "cell_type": "code",
   "execution_count": 3,
   "id": "101cb6a1",
   "metadata": {},
   "outputs": [
    {
     "name": "stdout",
     "output_type": "stream",
     "text": [
      "카테고리 : 2\n",
      "훈련용 리뷰 개수 : 25000\n",
      "테스트용 리뷰 개수 : 25000\n"
     ]
    }
   ],
   "source": [
    "num_classes = len(set(y_train))\n",
    "\n",
    "print(f'카테고리 : {num_classes}')\n",
    "print(f'훈련용 리뷰 개수 : {len(X_train)}')\n",
    "print(f'테스트용 리뷰 개수 : {len(X_test)}')"
   ]
  },
  {
   "cell_type": "code",
   "execution_count": 4,
   "id": "1b1ae766",
   "metadata": {},
   "outputs": [],
   "source": [
    "reviews_length = [len(review) for review in X_train]"
   ]
  },
  {
   "cell_type": "code",
   "execution_count": 5,
   "id": "09345956",
   "metadata": {},
   "outputs": [
    {
     "name": "stdout",
     "output_type": "stream",
     "text": [
      "리뷰의 최대 길이 : 2494\n",
      "리뷰의 평균 길이 : 2494\n"
     ]
    }
   ],
   "source": [
    "print(f'리뷰의 최대 길이 : {np.max(reviews_length)}')\n",
    "print(f'리뷰의 평균 길이 : {np.max(reviews_length)}')"
   ]
  },
  {
   "cell_type": "code",
   "execution_count": 6,
   "id": "41b1fdfa",
   "metadata": {},
   "outputs": [
    {
     "data": {
      "image/png": "[encoded data removed]",
      "text/plain": [
       "<Figure size 432x288 with 2 Axes>"
      ]
     },
     "metadata": {
      "needs_background": "light"
     },
     "output_type": "display_data"
    }
   ],
   "source": [
    "# 데이터 분포 시각화 \n",
    "plt.subplot(1,2,1)\n",
    "plt.boxplot(reviews_length)\n",
    "plt.subplot(1,2,2)\n",
    "plt.hist(reviews_length, bins=50)\n",
    "plt.show()"
   ]
  },
  {
   "cell_type": "code",
   "execution_count": 7,
   "id": "6937dfd7",
   "metadata": {},
   "outputs": [
    {
     "name": "stdout",
     "output_type": "stream",
     "text": [
      "[ 레이블별 빈도수 ]\n",
      "[[    0     1]\n",
      " [12500 12500]]\n"
     ]
    }
   ],
   "source": [
    "label, counts = np.unique(y_train, return_counts=True)\n",
    "print(\"[ 레이블별 빈도수 ]\")\n",
    "print(np.asarray((label, counts)))"
   ]
  },
  {
   "cell_type": "code",
   "execution_count": 8,
   "id": "c8e9a26e",
   "metadata": {},
   "outputs": [],
   "source": [
    "# get_word_index() => 각 단어와 맵핑되는 정수 가져오기\n",
    "word_to_index = imdb.get_word_index()\n",
    "\n",
    "# 전처리 전에 단어 저장\n",
    "index_to_word = {}\n",
    "for key, value in word_to_index.items():\n",
    "    # imdb의 경우 4번 인덱스 부터 데이터 \n",
    "    index_to_word[value+3] = key"
   ]
  },
  {
   "cell_type": "code",
   "execution_count": 9,
   "id": "c702e33d",
   "metadata": {},
   "outputs": [
    {
     "name": "stdout",
     "output_type": "stream",
     "text": [
      "빈도수 상위   1번째 단어 : the\n",
      "빈도수 상위 100번째 단어 : could\n"
     ]
    }
   ],
   "source": [
    "print(f'빈도수 상위   1번째 단어 : {index_to_word[4]}')\n",
    "print(f'빈도수 상위 100번째 단어 : {index_to_word[100]}')"
   ]
  },
  {
   "cell_type": "markdown",
   "id": "775a66f4",
   "metadata": {},
   "source": [
    "####  단어사전 단어수 설정 데이터 로딩"
   ]
  },
  {
   "cell_type": "code",
   "execution_count": 10,
   "id": "799f93e4",
   "metadata": {},
   "outputs": [],
   "source": [
    "VOCA_SIZE = 10000\n",
    "PAD_LEN = 500"
   ]
  },
  {
   "cell_type": "code",
   "execution_count": 12,
   "id": "dea0eb9e",
   "metadata": {},
   "outputs": [],
   "source": [
    "(X_train, y_train), (X_test, y_test) = imdb.load_data(num_words=VOCA_SIZE)\n",
    "\n",
    "X_train = pad_sequences(X_train, maxlen=PAD_LEN)\n",
    "X_test = pad_sequences(X_test, maxlen=PAD_LEN)"
   ]
  },
  {
   "cell_type": "markdown",
   "id": "a9843467",
   "metadata": {},
   "source": [
    "### 모델 생성"
   ]
  },
  {
   "cell_type": "code",
   "execution_count": 13,
   "id": "a3f67edf",
   "metadata": {},
   "outputs": [],
   "source": [
    "from tensorflow.keras.utils import plot_model\n",
    "from tensorflow.keras.models import Sequential\n",
    "from tensorflow.keras.layers import Dense, GRU, Embedding\n",
    "from tensorflow.keras.callbacks import EarlyStopping, ModelCheckpoint"
   ]
  },
  {
   "cell_type": "code",
   "execution_count": 14,
   "id": "2cbb8530",
   "metadata": {},
   "outputs": [],
   "source": [
    "EMB_DIM=100\n",
    "HIDDEN_NODE=128"
   ]
  },
  {
   "cell_type": "code",
   "execution_count": 15,
   "id": "d9ffce4e",
   "metadata": {},
   "outputs": [
    {
     "name": "stdout",
     "output_type": "stream",
     "text": [
      "Model: \"sequential\"\n",
      "_________________________________________________________________\n",
      " Layer (type)                Output Shape              Param #   \n",
      "=================================================================\n",
      " embedding (Embedding)       (None, 500, 100)          1000000   \n",
      "                                                                 \n",
      " gru (GRU)                   (None, 128)               88320     \n",
      "                                                                 \n",
      " dense (Dense)               (None, 1)                 129       \n",
      "                                                                 \n",
      "=================================================================\n",
      "Total params: 1,088,449\n",
      "Trainable params: 1,088,449\n",
      "Non-trainable params: 0\n",
      "_________________________________________________________________\n"
     ]
    }
   ],
   "source": [
    "model = Sequential()\n",
    "model.add(Embedding(VOCA_SIZE, EMB_DIM, input_length=PAD_LEN))\n",
    "model.add(GRU(HIDDEN_NODE))\n",
    "model.add(Dense(1, activation='sigmoid'))\n",
    "\n",
    "model.summary()"
   ]
  },
  {
   "cell_type": "code",
   "execution_count": 16,
   "id": "8289f375",
   "metadata": {},
   "outputs": [
    {
     "data": {
      "image/png": "[encoded data removed]",
      "text/plain": [
       "<IPython.core.display.Image object>"
      ]
     },
     "execution_count": 16,
     "metadata": {},
     "output_type": "execute_result"
    }
   ],
   "source": [
    "plot_model(model, show_shapes=True)"
   ]
  },
  {
   "cell_type": "code",
   "execution_count": 17,
   "id": "c3997e2f",
   "metadata": {},
   "outputs": [],
   "source": [
    "model.compile(optimizer='adam', \n",
    "              loss='binary_crossentropy', \n",
    "              metrics=['acc'])"
   ]
  },
  {
   "cell_type": "code",
   "execution_count": 18,
   "id": "df6930b1",
   "metadata": {},
   "outputs": [],
   "source": [
    "es = EarlyStopping(monitor='val_loss', \n",
    "                   mode='min', \n",
    "                   verbose=1, \n",
    "                   patience=4)\n",
    "\n",
    "mc = ModelCheckpoint('GRU_model.h5',\n",
    "                     monitor='val_acc', \n",
    "                     mode='max', \n",
    "                     verbose=1, save_best_only=True)\n",
    "\n"
   ]
  },
  {
   "cell_type": "code",
   "execution_count": 19,
   "id": "8b7010db",
   "metadata": {},
   "outputs": [
    {
     "name": "stdout",
     "output_type": "stream",
     "text": [
      "Epoch 1/15\n",
      "313/313 [==============================] - ETA: 0s - loss: 0.4812 - acc: 0.7551\n",
      "Epoch 1: val_acc improved from -inf to 0.85500, saving model to GRU_model.h5\n",
      "313/313 [==============================] - 246s 777ms/step - loss: 0.4812 - acc: 0.7551 - val_loss: 0.3506 - val_acc: 0.8550\n",
      "Epoch 2/15\n",
      "313/313 [==============================] - ETA: 0s - loss: 0.2697 - acc: 0.8931\n",
      "Epoch 2: val_acc improved from 0.85500 to 0.87620, saving model to GRU_model.h5\n",
      "313/313 [==============================] - 386s 1s/step - loss: 0.2697 - acc: 0.8931 - val_loss: 0.3192 - val_acc: 0.8762\n",
      "Epoch 3/15\n",
      "313/313 [==============================] - ETA: 0s - loss: 0.1838 - acc: 0.9316\n",
      "Epoch 3: val_acc did not improve from 0.87620\n",
      "313/313 [==============================] - 300s 959ms/step - loss: 0.1838 - acc: 0.9316 - val_loss: 0.3672 - val_acc: 0.8560\n",
      "Epoch 4/15\n",
      "313/313 [==============================] - ETA: 0s - loss: 0.1288 - acc: 0.9553\n",
      "Epoch 4: val_acc did not improve from 0.87620\n",
      "313/313 [==============================] - 304s 973ms/step - loss: 0.1288 - acc: 0.9553 - val_loss: 0.4000 - val_acc: 0.8378\n",
      "Epoch 5/15\n",
      "313/313 [==============================] - ETA: 0s - loss: 0.0908 - acc: 0.9692\n",
      "Epoch 5: val_acc improved from 0.87620 to 0.87880, saving model to GRU_model.h5\n",
      "313/313 [==============================] - 347s 1s/step - loss: 0.0908 - acc: 0.9692 - val_loss: 0.4056 - val_acc: 0.8788\n",
      "Epoch 6/15\n",
      "313/313 [==============================] - ETA: 0s - loss: 0.0582 - acc: 0.9817\n",
      "Epoch 6: val_acc did not improve from 0.87880\n",
      "313/313 [==============================] - 357s 1s/step - loss: 0.0582 - acc: 0.9817 - val_loss: 0.5473 - val_acc: 0.8610\n",
      "Epoch 6: early stopping\n"
     ]
    }
   ],
   "source": [
    "history = model.fit(X_train, y_train, \n",
    "                    epochs=15, \n",
    "                    callbacks=[es, mc], \n",
    "                    batch_size=64, \n",
    "                    validation_split=0.2)"
   ]
  },
  {
   "cell_type": "markdown",
   "id": "028bdd0a",
   "metadata": {},
   "source": [
    "#### 예측"
   ]
  },
  {
   "cell_type": "code",
   "execution_count": 28,
   "id": "8b76ad92",
   "metadata": {},
   "outputs": [
    {
     "name": "stdout",
     "output_type": "stream",
     "text": [
      "782/782 [==============================] - 96s 121ms/step - loss: 0.4315 - acc: 0.8669\n",
      "\n",
      " 테스트 정확도: 0.8669\n"
     ]
    }
   ],
   "source": [
    "from tensorflow.keras.models import load_model\n",
    "\n",
    "loaded_model = load_model('GRU_model.h5')\n",
    "\n",
    "print(\"\\n 테스트 정확도: %.4f\" % (loaded_model.evaluate(X_test, y_test)[1]))"
   ]
  },
  {
   "cell_type": "code",
   "execution_count": 29,
   "id": "27b56308",
   "metadata": {},
   "outputs": [],
   "source": [
    "import re\n",
    "\n",
    "def sentiment_predict(new_sentence):\n",
    "  # 알파벳과 숫자를 제외하고 모두 제거 및 알파벳 소문자화\n",
    "  new_sentence = re.sub('[^0-9a-zA-Z ]', '', new_sentence).lower()\n",
    "  encodeSent = []\n",
    "\n",
    "  # 띄어쓰기 단위 토큰화 후 정수 인코딩\n",
    "  for word in new_sentence.split():\n",
    "    try :\n",
    "      # 단어 사전 크기 VOCA_SIZE 10,000제한.\n",
    "      if word_to_index[word] <= VOCA_SIZE:\n",
    "        encodeSent.append(word_to_index[word]+3)\n",
    "      else:\n",
    "        # 10,000 이상의 숫자는 <unk> 토큰 변환.\n",
    "        encodeSent.append(2)\n",
    "        \n",
    "    # 단어 사전에 없는 단어는 <unk> 토큰 변환.\n",
    "    except KeyError:\n",
    "      encodeSent.append(2)\n",
    "\n",
    "  # 가변 > 고정 길이 설정 \n",
    "  pad_sequence = pad_sequences([encodeSent], maxlen=PAD_LEN)\n",
    "  score = float(loaded_model.predict(pad_sequence)) # 예측\n",
    "\n",
    "  if(score > 0.5):\n",
    "    print(f\"{round(score * 100,2)}% 확률로 긍정 리뷰입니다.\")\n",
    "  else:\n",
    "    print(f\"{round((1 - score) * 100,2)}% 확률로 부정 리뷰입니다.\")"
   ]
  },
  {
   "cell_type": "code",
   "execution_count": 30,
   "id": "f0fd130d",
   "metadata": {},
   "outputs": [
    {
     "name": "stdout",
     "output_type": "stream",
     "text": [
      "1/1 [==============================] - 1s 1s/step\n",
      "77.58% 확률로 부정 리뷰입니다.\n"
     ]
    }
   ],
   "source": [
    "test_input = \"This movie was just way too overrated. The fighting was not professional and in slow motion. I was expecting more from a 200 million budget movie. The little sister of T.Challa was just trying too hard to be funny. The story was really dumb as well. Don't watch this movie if you are going because others say its great unless you are a Black Panther fan or Marvels fan.\"\n",
    "\n",
    "sentiment_predict(test_input)"
   ]
  },
  {
   "cell_type": "markdown",
   "id": "c9730492",
   "metadata": {},
   "source": [
    "### ConV"
   ]
  },
  {
   "cell_type": "code",
   "execution_count": 1,
   "id": "f68a78ec",
   "metadata": {},
   "outputs": [],
   "source": [
    "from tensorflow.keras.models import Sequential\n",
    "from tensorflow.keras.layers import Embedding, Dropout, Conv1D, GlobalMaxPooling1D, Dense\n",
    "from tensorflow.keras.callbacks import EarlyStopping, ModelCheckpoint\n",
    "from tensorflow.keras.models import load_model"
   ]
  },
  {
   "cell_type": "code",
   "execution_count": null,
   "id": "4b54c57c",
   "metadata": {},
   "outputs": [],
   "source": [
    "embedding_dim = 256   # 임베딩 벡터의 차원\n",
    "dropout_ratio = 0.3   # 드롭아웃 비율\n",
    "num_filters = 256     # 커널의 수\n",
    "kernel_size = 3      # 커널의 크기\n",
    "hidden_units = 128   # 뉴런의 수"
   ]
  },
  {
   "cell_type": "code",
   "execution_count": 2,
   "id": "1b0501f1",
   "metadata": {},
   "outputs": [
    {
     "ename": "NameError",
     "evalue": "name 'vocab_size' is not defined",
     "output_type": "error",
     "traceback": [
      "\u001b[1;31m---------------------------------------------------------------------------\u001b[0m",
      "\u001b[1;31mNameError\u001b[0m                                 Traceback (most recent call last)",
      "Input \u001b[1;32mIn [2]\u001b[0m, in \u001b[0;36m<cell line: 3>\u001b[1;34m()\u001b[0m\n\u001b[0;32m      1\u001b[0m \u001b[38;5;66;03m# 모델 구성\u001b[39;00m\n\u001b[0;32m      2\u001b[0m model \u001b[38;5;241m=\u001b[39m Sequential()\n\u001b[1;32m----> 3\u001b[0m model\u001b[38;5;241m.\u001b[39madd(Embedding(\u001b[43mvocab_size\u001b[49m, embedding_dim))\n\u001b[0;32m      4\u001b[0m model\u001b[38;5;241m.\u001b[39madd(Dropout(dropout_ratio))\n\u001b[0;32m      5\u001b[0m model\u001b[38;5;241m.\u001b[39madd(Conv1D(num_filters, kernel_size, padding\u001b[38;5;241m=\u001b[39m\u001b[38;5;124m'\u001b[39m\u001b[38;5;124mvalid\u001b[39m\u001b[38;5;124m'\u001b[39m, activation\u001b[38;5;241m=\u001b[39m\u001b[38;5;124m'\u001b[39m\u001b[38;5;124mrelu\u001b[39m\u001b[38;5;124m'\u001b[39m))\n",
      "\u001b[1;31mNameError\u001b[0m: name 'vocab_size' is not defined"
     ]
    }
   ],
   "source": [
    "# 모델 구성\n",
    "model = Sequential()\n",
    "model.add(Embedding(vocab_size, embedding_dim))\n",
    "model.add(Dropout(dropout_ratio))\n",
    "model.add(Conv1D(num_filters, kernel_size, padding='valid', activation='relu'))\n",
    "model.add(GlobalMaxPooling1D())\n",
    "model.add(Dense(hidden_units, activation='relu'))\n",
    "model.add(Dropout(dropout_ratio))\n",
    "model.add(Dense(1, activation='sigmoid'))\n",
    "\n",
    "model.summary()"
   ]
  },
  {
   "cell_type": "code",
   "execution_count": null,
   "id": "c60d251b",
   "metadata": {},
   "outputs": [],
   "source": [
    "es = EarlyStopping(monitor='val_loss', mode='min', verbose=1, patience=3)\n",
    "mc = ModelCheckpoint('best_model.h5', monitor='val_acc', mode='max', verbose=1, save_best_only=True)"
   ]
  },
  {
   "cell_type": "code",
   "execution_count": null,
   "id": "925f72ae",
   "metadata": {},
   "outputs": [],
   "source": [
    "model.compile(optimizer='adam', loss='binary_crossentropy', metrics=['acc'])"
   ]
  },
  {
   "cell_type": "code",
   "execution_count": null,
   "id": "fd6e6811",
   "metadata": {},
   "outputs": [],
   "source": [
    "history = fit(X_train, y_train, epochs=20, validation_data=(X_test, y_test), callbacks=[es, mc])"
   ]
  }
 ],
 "metadata": {
  "kernelspec": {
   "display_name": "Python 3 (ipykernel)",
   "language": "python",
   "name": "python3"
  },
  "language_info": {
   "codemirror_mode": {
    "name": "ipython",
    "version": 3
   },
   "file_extension": ".py",
   "mimetype": "text/x-python",
   "name": "python",
   "nbconvert_exporter": "python",
   "pygments_lexer": "ipython3",
   "version": "3.9.12"
  }
 },
 "nbformat": 4,
 "nbformat_minor": 5
}
