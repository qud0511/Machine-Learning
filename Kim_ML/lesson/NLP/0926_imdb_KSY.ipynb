{
 "cells": [
  {
   "cell_type": "markdown",
   "id": "a0d01eb0",
   "metadata": {},
   "source": [
    "## 감성분석 - 영화리뷰 분석\n",
    "---\n",
    "- IMDB 데이터 활용"
   ]
  },
  {
   "cell_type": "code",
   "execution_count": 41,
   "id": "2f7d6fee",
   "metadata": {},
   "outputs": [],
   "source": [
    "from tensorflow.keras.datasets.imdb import load_data\n",
    "import numpy as np"
   ]
  },
  {
   "cell_type": "markdown",
   "id": "de6a9dd5",
   "metadata": {},
   "source": [
    "## [1] 데이터 준비"
   ]
  },
  {
   "cell_type": "code",
   "execution_count": 64,
   "id": "7bb12e73",
   "metadata": {},
   "outputs": [],
   "source": [
    "# 단어사전(voca)에서 빈도가 높은 500개까지만 사용하도록 설정\n",
    "(X_train, y_train), (X_test, y_test)=load_data(num_words=500)"
   ]
  },
  {
   "cell_type": "code",
   "execution_count": 65,
   "id": "eb770953",
   "metadata": {},
   "outputs": [
    {
     "name": "stdout",
     "output_type": "stream",
     "text": [
      "imDB 정보 \n",
      "X_train : (25000,)   y_train : (25000,)\n",
      "X_test : (25000,)    y_test : (25000,)\n"
     ]
    }
   ],
   "source": [
    "print(f'imDB 정보 \\nX_train : {X_train.shape}   y_train : {y_train.shape}')\n",
    "print(f'X_test : {X_test.shape}    y_test : {y_test.shape}')"
   ]
  },
  {
   "cell_type": "code",
   "execution_count": 44,
   "id": "7a165609",
   "metadata": {},
   "outputs": [
    {
     "name": "stdout",
     "output_type": "stream",
     "text": [
      "[0 - 1 : 218]\n",
      "[1, 14, 22, 16, 43, 2, 2, 2, 2, 65, 458, 2, 66, 2, 4, 173, 36, 256, 5, 25, 100, 43, 2, 112, 50, 2, 2, 9, 35, 480, 284, 5, 150, 4, 172, 112, 167, 2, 336, 385, 39, 4, 172, 2, 2, 17, 2, 38, 13, 447, 4, 192, 50, 16, 6, 147, 2, 19, 14, 22, 4, 2, 2, 469, 4, 22, 71, 87, 12, 16, 43, 2, 38, 76, 15, 13, 2, 4, 22, 17, 2, 17, 12, 16, 2, 18, 2, 5, 62, 386, 12, 8, 316, 8, 106, 5, 4, 2, 2, 16, 480, 66, 2, 33, 4, 130, 12, 16, 38, 2, 5, 25, 124, 51, 36, 135, 48, 25, 2, 33, 6, 22, 12, 215, 28, 77, 52, 5, 14, 407, 16, 82, 2, 8, 4, 107, 117, 2, 15, 256, 4, 2, 7, 2, 5, 2, 36, 71, 43, 2, 476, 26, 400, 317, 46, 7, 4, 2, 2, 13, 104, 88, 4, 381, 15, 297, 98, 32, 2, 56, 26, 141, 6, 194, 2, 18, 4, 226, 22, 21, 134, 476, 26, 480, 5, 144, 30, 2, 18, 51, 36, 28, 224, 92, 25, 104, 4, 226, 65, 16, 38, 2, 88, 12, 16, 283, 5, 16, 2, 113, 103, 32, 15, 16, 2, 19, 178, 32]\n",
      "----------------------------------------------\n",
      "[1 - 0 : 189]\n",
      "[1, 194, 2, 194, 2, 78, 228, 5, 6, 2, 2, 2, 134, 26, 4, 2, 8, 118, 2, 14, 394, 20, 13, 119, 2, 189, 102, 5, 207, 110, 2, 21, 14, 69, 188, 8, 30, 23, 7, 4, 249, 126, 93, 4, 114, 9, 2, 2, 5, 2, 4, 116, 9, 35, 2, 4, 229, 9, 340, 2, 4, 118, 9, 4, 130, 2, 19, 4, 2, 5, 89, 29, 2, 46, 37, 4, 455, 9, 45, 43, 38, 2, 2, 398, 4, 2, 26, 2, 5, 163, 11, 2, 2, 4, 2, 9, 194, 2, 7, 2, 2, 349, 2, 148, 2, 2, 2, 15, 123, 125, 68, 2, 2, 15, 349, 165, 2, 98, 5, 4, 228, 9, 43, 2, 2, 15, 299, 120, 5, 120, 174, 11, 220, 175, 136, 50, 9, 2, 228, 2, 5, 2, 2, 245, 2, 5, 4, 2, 131, 152, 491, 18, 2, 32, 2, 2, 14, 9, 6, 371, 78, 22, 2, 64, 2, 9, 8, 168, 145, 23, 4, 2, 15, 16, 4, 2, 5, 28, 6, 52, 154, 462, 33, 89, 78, 285, 16, 145, 95]\n",
      "----------------------------------------------\n",
      "[2 - 0 : 141]\n",
      "[1, 14, 47, 8, 30, 31, 7, 4, 249, 108, 7, 4, 2, 54, 61, 369, 13, 71, 149, 14, 22, 112, 4, 2, 311, 12, 16, 2, 33, 75, 43, 2, 296, 4, 86, 320, 35, 2, 19, 263, 2, 2, 4, 2, 33, 89, 78, 12, 66, 16, 4, 360, 7, 4, 58, 316, 334, 11, 4, 2, 43, 2, 2, 8, 257, 85, 2, 42, 2, 2, 83, 68, 2, 15, 36, 165, 2, 278, 36, 69, 2, 2, 8, 106, 14, 2, 2, 18, 6, 22, 12, 215, 28, 2, 40, 6, 87, 326, 23, 2, 21, 23, 22, 12, 272, 40, 57, 31, 11, 4, 22, 47, 6, 2, 51, 9, 170, 23, 2, 116, 2, 2, 13, 191, 79, 2, 89, 2, 14, 9, 8, 106, 2, 2, 35, 2, 6, 227, 7, 129, 113]\n",
      "----------------------------------------------\n"
     ]
    }
   ],
   "source": [
    "for idx  in range(3):\n",
    "    print(f'[{idx} - {y_train[idx]} : {len(X_train[idx])}]\\n{X_train[idx]}')\n",
    "    print('----------------------------------------------')"
   ]
  },
  {
   "cell_type": "markdown",
   "id": "07f7f0a5",
   "metadata": {},
   "source": [
    "## [2] 학습용 데이터 변환\n",
    "---\n",
    "- keras에서 이미 대부분의 전처리 끝난 데이터\n",
    "- 길이 조정 => 패딩(Padding)"
   ]
  },
  {
   "cell_type": "markdown",
   "id": "617be4ba",
   "metadata": {},
   "source": [
    "### [2-1] 리뷰 데이터 길이 지정"
   ]
  },
  {
   "cell_type": "code",
   "execution_count": 45,
   "id": "d095fed6",
   "metadata": {},
   "outputs": [
    {
     "name": "stdout",
     "output_type": "stream",
     "text": [
      "all_lengh : 238.71364, 178.0\n"
     ]
    }
   ],
   "source": [
    "# (1) 전체 리뷰의 길이 측정\n",
    "all_length=np.array([ len(x) for x in X_train])\n",
    "\n",
    "print(f'all_lengh : {np.mean(all_length)}, {np.median(all_length)}')"
   ]
  },
  {
   "cell_type": "code",
   "execution_count": 46,
   "id": "7754416d",
   "metadata": {},
   "outputs": [],
   "source": [
    "import pandas as pd\n",
    "\n",
    "uniqueDF=pd.DataFrame(np.unique(all_length, return_counts=True))\n",
    "uniqueDF=uniqueDF.T"
   ]
  },
  {
   "cell_type": "code",
   "execution_count": 47,
   "id": "bef382ad",
   "metadata": {},
   "outputs": [
    {
     "data": {
      "text/html": [
       "<div>\n",
       "<style scoped>\n",
       "    .dataframe tbody tr th:only-of-type {\n",
       "        vertical-align: middle;\n",
       "    }\n",
       "\n",
       "    .dataframe tbody tr th {\n",
       "        vertical-align: top;\n",
       "    }\n",
       "\n",
       "    .dataframe thead th {\n",
       "        text-align: right;\n",
       "    }\n",
       "</style>\n",
       "<table border=\"1\" class=\"dataframe\">\n",
       "  <thead>\n",
       "    <tr style=\"text-align: right;\">\n",
       "      <th></th>\n",
       "      <th>0</th>\n",
       "      <th>1</th>\n",
       "    </tr>\n",
       "  </thead>\n",
       "  <tbody>\n",
       "    <tr>\n",
       "      <th>118</th>\n",
       "      <td>132</td>\n",
       "      <td>196</td>\n",
       "    </tr>\n",
       "    <tr>\n",
       "      <th>111</th>\n",
       "      <td>125</td>\n",
       "      <td>194</td>\n",
       "    </tr>\n",
       "    <tr>\n",
       "      <th>116</th>\n",
       "      <td>130</td>\n",
       "      <td>191</td>\n",
       "    </tr>\n",
       "    <tr>\n",
       "      <th>108</th>\n",
       "      <td>122</td>\n",
       "      <td>181</td>\n",
       "    </tr>\n",
       "    <tr>\n",
       "      <th>110</th>\n",
       "      <td>124</td>\n",
       "      <td>180</td>\n",
       "    </tr>\n",
       "    <tr>\n",
       "      <th>...</th>\n",
       "      <td>...</td>\n",
       "      <td>...</td>\n",
       "    </tr>\n",
       "    <tr>\n",
       "      <th>921</th>\n",
       "      <td>974</td>\n",
       "      <td>1</td>\n",
       "    </tr>\n",
       "    <tr>\n",
       "      <th>743</th>\n",
       "      <td>761</td>\n",
       "      <td>1</td>\n",
       "    </tr>\n",
       "    <tr>\n",
       "      <th>919</th>\n",
       "      <td>972</td>\n",
       "      <td>1</td>\n",
       "    </tr>\n",
       "    <tr>\n",
       "      <th>744</th>\n",
       "      <td>762</td>\n",
       "      <td>1</td>\n",
       "    </tr>\n",
       "    <tr>\n",
       "      <th>1007</th>\n",
       "      <td>2494</td>\n",
       "      <td>1</td>\n",
       "    </tr>\n",
       "  </tbody>\n",
       "</table>\n",
       "<p>1008 rows × 2 columns</p>\n",
       "</div>"
      ],
      "text/plain": [
       "         0    1\n",
       "118    132  196\n",
       "111    125  194\n",
       "116    130  191\n",
       "108    122  181\n",
       "110    124  180\n",
       "...    ...  ...\n",
       "921    974    1\n",
       "743    761    1\n",
       "919    972    1\n",
       "744    762    1\n",
       "1007  2494    1\n",
       "\n",
       "[1008 rows x 2 columns]"
      ]
     },
     "execution_count": 47,
     "metadata": {},
     "output_type": "execute_result"
    }
   ],
   "source": [
    "uniqueDF.sort_values(by=1, ascending=False)"
   ]
  },
  {
   "cell_type": "code",
   "execution_count": 48,
   "id": "26158609",
   "metadata": {},
   "outputs": [
    {
     "data": {
      "image/png": "[encoded data removed]",
      "text/plain": [
       "<Figure size 432x288 with 1 Axes>"
      ]
     },
     "metadata": {
      "needs_background": "light"
     },
     "output_type": "display_data"
    }
   ],
   "source": [
    "import matplotlib.pyplot as plt\n",
    "\n",
    "plt.hist(all_length)\n",
    "plt.grid()\n",
    "plt.show()"
   ]
  },
  {
   "cell_type": "code",
   "execution_count": 49,
   "id": "8015cfb0",
   "metadata": {},
   "outputs": [
    {
     "data": {
      "text/plain": [
       "((25000, 100),\n",
       " array([  2,   4,   2,  33,  89,  78,  12,  66,  16,   4, 360,   7,   4,\n",
       "         58, 316, 334,  11,   4,   2,  43,   2,   2,   8, 257,  85,   2,\n",
       "         42,   2,   2,  83,  68,   2,  15,  36, 165,   2, 278,  36,  69,\n",
       "          2,   2,   8, 106,  14,   2,   2,  18,   6,  22,  12, 215,  28,\n",
       "          2,  40,   6,  87, 326,  23,   2,  21,  23,  22,  12, 272,  40,\n",
       "         57,  31,  11,   4,  22,  47,   6,   2,  51,   9, 170,  23,   2,\n",
       "        116,   2,   2,  13, 191,  79,   2,  89,   2,  14,   9,   8, 106,\n",
       "          2,   2,  35,   2,   6, 227,   7, 129, 113]),\n",
       " (100,),\n",
       " 100)"
      ]
     },
     "execution_count": 49,
     "metadata": {},
     "output_type": "execute_result"
    }
   ],
   "source": [
    "# [2-2] 데이터별 길이 변경\n",
    "from tensorflow.keras.preprocessing.sequence import pad_sequences\n",
    "\n",
    "train_seq = pad_sequences(X_train, maxlen=100)\n",
    "train_seq.shape, train_seq[2], train_seq[2].shape, train_seq[2].size"
   ]
  },
  {
   "cell_type": "code",
   "execution_count": 50,
   "id": "b059f91f",
   "metadata": {},
   "outputs": [
    {
     "data": {
      "text/plain": [
       "(25000, 100)"
      ]
     },
     "execution_count": 50,
     "metadata": {},
     "output_type": "execute_result"
    }
   ],
   "source": [
    "test_seq = pad_sequences(X_test, maxlen=100)\n",
    "test_seq.shape"
   ]
  },
  {
   "cell_type": "code",
   "execution_count": 51,
   "id": "7aafb873",
   "metadata": {},
   "outputs": [
    {
     "name": "stdout",
     "output_type": "stream",
     "text": [
      "X_train[0]   : 141길이 [1, 14, 47, 8, 30, 31, 7, 4, 249, 108]\n",
      "train_seq[0] : 100길이 [ 2  4  2 33 89 78 12 66 16  4]\n"
     ]
    }
   ],
   "source": [
    "## 패딩 확인\n",
    "print(f'X_train[0]   : {len(X_train[2])}길이 {X_train[2][:10]}')\n",
    "print(f'train_seq[0] : {len(train_seq[2])}길이 {train_seq[2][:10]}')"
   ]
  },
  {
   "cell_type": "markdown",
   "id": "d0799d33",
   "metadata": {},
   "source": [
    "### [2-2] 타겟 데이터 인코딩"
   ]
  },
  {
   "cell_type": "code",
   "execution_count": 52,
   "id": "8771f4a8",
   "metadata": {},
   "outputs": [],
   "source": [
    "from tensorflow.keras.utils import to_categorical"
   ]
  },
  {
   "cell_type": "code",
   "execution_count": 60,
   "id": "a8332d1b",
   "metadata": {},
   "outputs": [],
   "source": [
    "train_oh =to_categorical(train_seq)\n",
    "test_oh=to_categorical(test_seq)"
   ]
  },
  {
   "cell_type": "code",
   "execution_count": 66,
   "id": "9cd3f147",
   "metadata": {},
   "outputs": [
    {
     "data": {
      "text/plain": [
       "((25000, 100, 500),\n",
       " array([[0., 0., 1., ..., 0., 0., 0.],\n",
       "        [0., 0., 0., ..., 0., 0., 0.],\n",
       "        [0., 0., 0., ..., 0., 0., 0.],\n",
       "        ...,\n",
       "        [0., 0., 0., ..., 0., 0., 0.],\n",
       "        [0., 0., 0., ..., 0., 0., 0.],\n",
       "        [0., 0., 0., ..., 0., 0., 0.]], dtype=float32),\n",
       " (25000, 100, 500),\n",
       " array([[1., 0., 0., ..., 0., 0., 0.],\n",
       "        [1., 0., 0., ..., 0., 0., 0.],\n",
       "        [1., 0., 0., ..., 0., 0., 0.],\n",
       "        ...,\n",
       "        [0., 0., 0., ..., 0., 0., 0.],\n",
       "        [0., 0., 0., ..., 0., 0., 0.],\n",
       "        [0., 0., 1., ..., 0., 0., 0.]], dtype=float32),\n",
       " (25000,))"
      ]
     },
     "execution_count": 66,
     "metadata": {},
     "output_type": "execute_result"
    }
   ],
   "source": [
    "train_oh.shape, train_oh[0], test_oh.shape, test_oh[0], y_train.shape"
   ]
  },
  {
   "cell_type": "markdown",
   "id": "3b0c6712",
   "metadata": {},
   "source": [
    "### [2-3] 훈련/테스트 데이터 준비"
   ]
  },
  {
   "cell_type": "code",
   "execution_count": 55,
   "id": "ac2c530b",
   "metadata": {},
   "outputs": [],
   "source": [
    "from sklearn.model_selection import train_test_split"
   ]
  },
  {
   "cell_type": "code",
   "execution_count": 67,
   "id": "8c2e42cb",
   "metadata": {},
   "outputs": [],
   "source": [
    "X_train, X_val, y_train, y_val = train_test_split(train_oh, \n",
    "                                                  y_train, test_size=0.2, random_state=42)"
   ]
  },
  {
   "cell_type": "code",
   "execution_count": 70,
   "id": "afdcb9ac",
   "metadata": {},
   "outputs": [
    {
     "name": "stdout",
     "output_type": "stream",
     "text": [
      "X_train : (20000, 100, 500)\n",
      "test_seq : (25000, 100)\n",
      "X_val : (5000, 100, 500)\n",
      "y_train : (20000,)\n",
      "y_test   : (25000,)\n",
      "y_val : (5000,)\n"
     ]
    }
   ],
   "source": [
    "print(f'X_train : {X_train.shape}\\ntest_seq : {test_seq.shape}\\nX_val : {X_val.shape}')\n",
    "print(f'y_train : {y_train.shape}\\ny_test   : {y_test.shape}\\ny_val : {y_val.shape}')"
   ]
  },
  {
   "cell_type": "markdown",
   "id": "4eb5a670",
   "metadata": {},
   "source": [
    "## [3] 모델\n",
    "---\n",
    "- 목표 : 영화리뷰 데이터 학습 후 사용자가 입력하는 리뷰가 긍정/부정 분류\n",
    "- 학습 : RNN 순환신경망\n",
    "- 입력 : 500\n",
    "- 출력 : 1 => 분류 => 2진분류"
   ]
  },
  {
   "cell_type": "code",
   "execution_count": 71,
   "id": "0bc255a4",
   "metadata": {},
   "outputs": [],
   "source": [
    "from tensorflow.keras.models import Sequential\n",
    "from tensorflow.keras.layers import SimpleRNN, Dense"
   ]
  },
  {
   "cell_type": "markdown",
   "id": "f7c1a960",
   "metadata": {},
   "source": [
    "### [3-1] 모델 구성\n",
    "---\n",
    "- 입력층 : 노드 n개   타임스템수,피쳐수   => SimpleRNN\n",
    "- 출력층 : 노드 1개   sigmoid             => Dense"
   ]
  },
  {
   "cell_type": "code",
   "execution_count": 91,
   "id": "3d53b6f9",
   "metadata": {
    "collapsed": true
   },
   "outputs": [
    {
     "name": "stdout",
     "output_type": "stream",
     "text": [
      "Model: \"sequential_7\"\n",
      "_________________________________________________________________\n",
      " Layer (type)                Output Shape              Param #   \n",
      "=================================================================\n",
      " simple_rnn_11 (SimpleRNN)   (None, 100, 9)            4590      \n",
      "                                                                 \n",
      " simple_rnn_12 (SimpleRNN)   (None, 9)                 171       \n",
      "                                                                 \n",
      " dense_4 (Dense)             (None, 1)                 10        \n",
      "                                                                 \n",
      "=================================================================\n",
      "Total params: 4,771\n",
      "Trainable params: 4,771\n",
      "Non-trainable params: 0\n",
      "_________________________________________________________________\n"
     ]
    }
   ],
   "source": [
    "model=Sequential()\n",
    "# input_shape=(타임스템프크기, 토큰크기)\n",
    "model.add(SimpleRNN(9, input_shape=(100, 500), return_sequences=True))   # 1개 노드 = w500+b+hw9  * 9 전체 노드수 \n",
    "model.add(SimpleRNN(9))\n",
    "model.add(Dense(1, activation='sigmoid'))\n",
    "model.summary()"
   ]
  },
  {
   "cell_type": "code",
   "execution_count": 92,
   "id": "2fe18d3d",
   "metadata": {},
   "outputs": [
    {
     "data": {
      "image/png": "[encoded data removed]",
      "text/plain": [
       "<IPython.core.display.Image object>"
      ]
     },
     "execution_count": 92,
     "metadata": {},
     "output_type": "execute_result"
    }
   ],
   "source": [
    "from tensorflow.keras.utils import plot_model\n",
    "\n",
    "plot_model(model, show_shapes=True)"
   ]
  },
  {
   "cell_type": "markdown",
   "id": "27a27d1f",
   "metadata": {},
   "source": [
    "### [3-2] 모델 생성\n",
    "---\n",
    "- 손실함수, 최적화방법, 평가함목 => compile()"
   ]
  },
  {
   "cell_type": "code",
   "execution_count": 74,
   "id": "c8dd115e",
   "metadata": {},
   "outputs": [],
   "source": [
    "model.compile(loss='binary_crossentropy', \n",
    "              optimizer='adam', \n",
    "              metrics='accuracy')"
   ]
  },
  {
   "cell_type": "markdown",
   "id": "f9266c28",
   "metadata": {},
   "source": [
    "## [4] 학습\n",
    "---\n",
    "- train 데이터와 타겟으로 학습 진행\n",
    "- epoch마다 검증 진행 => validation_data, validataion_split\n",
    "- 학습 중 이벤트 처리 => callbacks=[]\n",
    "- 학습 진행 내용 조절 => verbose\n",
    "- 학습 횟수 조절  => epochs\n",
    "- 배치사이즈 조절 => batch_size (기:32)"
   ]
  },
  {
   "cell_type": "code",
   "execution_count": 77,
   "id": "9ac67a86",
   "metadata": {
    "collapsed": true
   },
   "outputs": [
    {
     "name": "stdout",
     "output_type": "stream",
     "text": [
      "Epoch 1/10\n",
      "625/625 [==============================] - 12s 20ms/step - loss: 0.3753 - accuracy: 0.8406\n",
      "Epoch 2/10\n",
      "625/625 [==============================] - 15s 23ms/step - loss: 0.3674 - accuracy: 0.8433\n",
      "Epoch 3/10\n",
      "625/625 [==============================] - 16s 25ms/step - loss: 0.3613 - accuracy: 0.8470\n",
      "Epoch 4/10\n",
      "625/625 [==============================] - 20s 32ms/step - loss: 0.3584 - accuracy: 0.8496\n",
      "Epoch 5/10\n",
      "625/625 [==============================] - 29s 47ms/step - loss: 0.3535 - accuracy: 0.8502\n",
      "Epoch 6/10\n",
      "625/625 [==============================] - 25s 40ms/step - loss: 0.3463 - accuracy: 0.8565\n",
      "Epoch 7/10\n",
      "625/625 [==============================] - 16s 26ms/step - loss: 0.3495 - accuracy: 0.8527\n",
      "Epoch 8/10\n",
      "625/625 [==============================] - 11s 18ms/step - loss: 0.3421 - accuracy: 0.8579\n",
      "Epoch 9/10\n",
      "625/625 [==============================] - 12s 20ms/step - loss: 0.3392 - accuracy: 0.8608\n",
      "Epoch 10/10\n",
      "625/625 [==============================] - 14s 23ms/step - loss: 0.3382 - accuracy: 0.8601\n"
     ]
    }
   ],
   "source": [
    "history=model.fit(X_train, y_train, epochs=10)"
   ]
  },
  {
   "cell_type": "code",
   "execution_count": 78,
   "id": "a9554c15",
   "metadata": {},
   "outputs": [],
   "source": [
    "import matplotlib.pyplot as plt"
   ]
  },
  {
   "cell_type": "code",
   "execution_count": 79,
   "id": "239a14dd",
   "metadata": {},
   "outputs": [
    {
     "data": {
      "image/png": "[encoded data removed]",
      "text/plain": [
       "<Figure size 432x288 with 1 Axes>"
      ]
     },
     "metadata": {
      "needs_background": "light"
     },
     "output_type": "display_data"
    }
   ],
   "source": [
    "plt.plot(history.history['loss'])\n",
    "plt.xlabel('epoch')\n",
    "plt.ylabel('loss')\n",
    "plt.legend(['train'])\n",
    "plt.show()"
   ]
  },
  {
   "cell_type": "markdown",
   "id": "7635ff65",
   "metadata": {},
   "source": [
    "## Embedding RNN Model\n",
    "---\n",
    "- One-Hot-Encoding 입력 데이터의 많은 메모리 소모에 대한 문제 해결\n",
    "- 토큰을 밀집형태의 벡터로 변경 ==> Word Embedding\n",
    "- Embedding Layer 적용\n",
    "    * 입력 차원 - 토큰의 크기 즉 단어사전의 크기\n",
    "    * 출력 차원 - 줄여서 생성하는 벡터 크기\n",
    "    * 입력 층일경우 -> input_dim = 타임스템프 즉 하나의 문장을 구성하는 토큰 수"
   ]
  },
  {
   "cell_type": "code",
   "execution_count": 93,
   "id": "27cf3d46",
   "metadata": {},
   "outputs": [],
   "source": [
    "from tensorflow.keras.layers import Embedding"
   ]
  },
  {
   "cell_type": "code",
   "execution_count": 94,
   "id": "575c5d26",
   "metadata": {
    "collapsed": true
   },
   "outputs": [
    {
     "name": "stdout",
     "output_type": "stream",
     "text": [
      "Model: \"sequential_8\"\n",
      "_________________________________________________________________\n",
      " Layer (type)                Output Shape              Param #   \n",
      "=================================================================\n",
      " embedding (Embedding)       (None, 100, 20)           10000     \n",
      "                                                                 \n",
      " simple_rnn_13 (SimpleRNN)   (None, 10)                310       \n",
      "                                                                 \n",
      " dense_5 (Dense)             (None, 1)                 11        \n",
      "                                                                 \n",
      "=================================================================\n",
      "Total params: 10,321\n",
      "Trainable params: 10,321\n",
      "Non-trainable params: 0\n",
      "_________________________________________________________________\n"
     ]
    }
   ],
   "source": [
    "model2=Sequential()\n",
    "# One-Hot-Encoding 500의 거대한 데이터 => 밀집형태 20크기 벡터로 변환\n",
    "model2.add(Embedding(500, 20, input_length=100))\n",
    "model2.add(SimpleRNN(10))\n",
    "model2.add(Dense(1, activation='sigmoid'))\n",
    "\n",
    "model2.summary()"
   ]
  },
  {
   "cell_type": "code",
   "execution_count": 95,
   "id": "cd8422b8",
   "metadata": {},
   "outputs": [
    {
     "data": {
      "image/png": "[encoded data removed]",
      "text/plain": [
       "<IPython.core.display.Image object>"
      ]
     },
     "execution_count": 95,
     "metadata": {},
     "output_type": "execute_result"
    }
   ],
   "source": [
    "plot_model(model2, show_shapes=True)"
   ]
  },
  {
   "cell_type": "code",
   "execution_count": 97,
   "id": "681ff55d",
   "metadata": {},
   "outputs": [],
   "source": [
    "model.compile(loss='binary_crossentropy', \n",
    "              optimizer='adam', \n",
    "              metrics='accuracy')"
   ]
  },
  {
   "cell_type": "code",
   "execution_count": 98,
   "id": "8e83f709",
   "metadata": {},
   "outputs": [
    {
     "name": "stdout",
     "output_type": "stream",
     "text": [
      "Epoch 1/10\n",
      "625/625 [==============================] - 22s 32ms/step - loss: 0.6293 - accuracy: 0.6286\n",
      "Epoch 2/10\n",
      "625/625 [==============================] - 15s 24ms/step - loss: 0.4904 - accuracy: 0.7715\n",
      "Epoch 3/10\n",
      "625/625 [==============================] - 18s 29ms/step - loss: 0.4604 - accuracy: 0.7913\n",
      "Epoch 4/10\n",
      "625/625 [==============================] - 19s 30ms/step - loss: 0.4443 - accuracy: 0.7996\n",
      "Epoch 5/10\n",
      "625/625 [==============================] - 27s 43ms/step - loss: 0.4284 - accuracy: 0.8095\n",
      "Epoch 6/10\n",
      "625/625 [==============================] - 22s 36ms/step - loss: 0.4089 - accuracy: 0.8188\n",
      "Epoch 7/10\n",
      "625/625 [==============================] - 19s 31ms/step - loss: 0.4005 - accuracy: 0.8249\n",
      "Epoch 8/10\n",
      "625/625 [==============================] - 17s 27ms/step - loss: 0.3844 - accuracy: 0.8321\n",
      "Epoch 9/10\n",
      "625/625 [==============================] - 16s 25ms/step - loss: 0.3807 - accuracy: 0.8334\n",
      "Epoch 10/10\n",
      "625/625 [==============================] - 16s 26ms/step - loss: 0.3765 - accuracy: 0.8360\n"
     ]
    }
   ],
   "source": [
    "history=model.fit(X_train, y_train, epochs=10)"
   ]
  },
  {
   "cell_type": "code",
   "execution_count": null,
   "id": "ddbf1ba4",
   "metadata": {},
   "outputs": [],
   "source": [
    "plt.plot(history.history['loss'])\n",
    "plt.xlabel('epoch')\n",
    "plt.ylabel('loss')\n",
    "plt.legend(['train'])\n",
    "plt.show()"
   ]
  }
 ],
 "metadata": {
  "kernelspec": {
   "display_name": "Python 3 (ipykernel)",
   "language": "python",
   "name": "python3"
  },
  "language_info": {
   "codemirror_mode": {
    "name": "ipython",
    "version": 3
   },
   "file_extension": ".py",
   "mimetype": "text/x-python",
   "name": "python",
   "nbconvert_exporter": "python",
   "pygments_lexer": "ipython3",
   "version": "3.9.12"
  }
 },
 "nbformat": 4,
 "nbformat_minor": 5
}
