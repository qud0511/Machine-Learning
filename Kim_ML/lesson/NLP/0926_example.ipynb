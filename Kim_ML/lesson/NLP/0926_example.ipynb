{
 "cells": [
  {
   "cell_type": "code",
   "execution_count": 3,
   "id": "b04d612e-04d0-4494-aafc-cc8c7e58f260",
   "metadata": {},
   "outputs": [],
   "source": [
    "import tensorflow as tf\n",
    "from tensorflow.keras.preprocessing.text import Tokenizer\n",
    "from tensorflow.keras.preprocessing.sequence import pad_sequences\n",
    "\n",
    "import os\n",
    "import pandas as pd"
   ]
  },
  {
   "cell_type": "code",
   "execution_count": 4,
   "id": "ad13b78d-381d-4d36-90aa-f0c9c6133d8d",
   "metadata": {
    "tags": []
   },
   "outputs": [
    {
     "data": {
      "text/html": [
       "<div>\n",
       "<style scoped>\n",
       "    .dataframe tbody tr th:only-of-type {\n",
       "        vertical-align: middle;\n",
       "    }\n",
       "\n",
       "    .dataframe tbody tr th {\n",
       "        vertical-align: top;\n",
       "    }\n",
       "\n",
       "    .dataframe thead th {\n",
       "        text-align: right;\n",
       "    }\n",
       "</style>\n",
       "<table border=\"1\" class=\"dataframe\">\n",
       "  <thead>\n",
       "    <tr style=\"text-align: right;\">\n",
       "      <th></th>\n",
       "      <th></th>\n",
       "      <th></th>\n",
       "      <th></th>\n",
       "      <th>The main Henry Ford Museum building houses some of the classrooms for the Henry Ford Academy</th>\n",
       "    </tr>\n",
       "  </thead>\n",
       "  <tbody>\n",
       "    <tr>\n",
       "      <th>Henry Ford Academy is the first charter school in the United States to be developed jointly by a global corporation</th>\n",
       "      <th>public education</th>\n",
       "      <th>and a major nonprofit cultural institution. The school is sponsored by the Ford Motor Company</th>\n",
       "      <th>Wayne County Regional Educational Service Agency and The Henry Ford Museum and admits high school students. It is located in Dearborn</th>\n",
       "      <td>Michigan on the campus of the Henry Ford muse...</td>\n",
       "    </tr>\n",
       "  </tbody>\n",
       "</table>\n",
       "</div>"
      ],
      "text/plain": [
       "                                                                                                                                                                           The main Henry Ford Museum building houses some of the classrooms for the Henry Ford Academy\n",
       "Henry Ford Academy is the first charter school ...  public education  and a major nonprofit cultural institution. Th...  Wayne County Regional Educational Service Agen...   Michigan on the campus of the Henry Ford muse...                                          "
      ]
     },
     "execution_count": 4,
     "metadata": {},
     "output_type": "execute_result"
    }
   ],
   "source": [
    "# f=open('./example.txt')\n",
    "# sentences = f.read()\n",
    "# for row in sentences:\n",
    "#     print(row)\n",
    "# sentences\n",
    "sentences=pd.read_csv('./example.txt')\n",
    "sentences.head(1)"
   ]
  },
  {
   "cell_type": "markdown",
   "id": "946d2b8a-ceda-43c9-8418-ce03dec65a82",
   "metadata": {},
   "source": [
    "---\n",
    "## 단어 기반 인코딩 \n",
    "- Tokenizer : 문장으로부터 단어를 토큰화하고 숫자에 대응시키는 딕셔너리를 사용할 수 있도록\n",
    "\n",
    "- fit_on_texts() 메서드 => 문자 데이터를 입력받아서 리스트의 형태로 변환\n",
    "- texts_to_sequences() => 텍스트를 시퀀스로 변환하기\n",
    "- oov_token => 토큰화되지 않은 단어 처리하기\n",
    "- word_index 속성 => 단어와 숫자의 키-값 쌍을 포함하는 딕셔너리를 반환\n",
    "    - 구두점(,!?)은 인코딩에 영향을 주지 않음, 대문자-소문자 변환"
   ]
  },
  {
   "cell_type": "markdown",
   "id": "13c17804-62ee-412b-85e3-d0f4b4512063",
   "metadata": {},
   "source": [
    "- 패딩 설정하기 =>  pad_sequences() : 서로 다른 개수의 단어로 이루어진 문장을 같은 길이로 만들어주기 위해, 길이 기준 설정\n",
    "    - 긴 경우, 짧은 경우 => 앞/뒤 중 선택\n",
    "    - 값 => 패딩에 들어갈 값\n",
    "        - 파라미터 padding을 ‘post’로 지정하면 시퀀스의 뒤에 패딩이 채워짐. 디폴트는 ‘pre’\n",
    "        - maxlen 파라미터는 시퀀스의 최대 길이를 제한, 넘는 시퀸스는 잘라냄."
   ]
  },
  {
   "cell_type": "markdown",
   "id": "25a53778-be9c-4bac-a39a-eecaf385dcf2",
   "metadata": {},
   "source": [
    "- sequences는 정수의 시퀀스로 변환된 텍스트 문장.\n",
    "- pad_sequences 함수에 이 시퀀스를 입력하면 숫자 0을 이용해서 같은 길이의 시퀀스로 변환\n",
    "- 가장 긴 시퀀스의 길이를 기준으로 모두 같은 길이의 시퀀스를 포함하는 NumPy 어레이로 변환함."
   ]
  },
  {
   "cell_type": "code",
   "execution_count": 5,
   "id": "7660aa1e-bb2d-4d7f-bc53-67c9d7a0280c",
   "metadata": {},
   "outputs": [],
   "source": [
    "tokneizer=Tokenizer(num_words=1000, oov_token=\"<OOV>\")"
   ]
  },
  {
   "cell_type": "code",
   "execution_count": 6,
   "id": "3b1ee214-89b9-4e3c-b2ed-4d025a931a81",
   "metadata": {},
   "outputs": [],
   "source": [
    "# 문자 -> 리스트\n",
    "tokneizer.fit_on_texts(sentences)"
   ]
  },
  {
   "cell_type": "code",
   "execution_count": 7,
   "id": "cf16ffa3-d2ec-45ef-be46-b06baf6d624e",
   "metadata": {},
   "outputs": [
    {
     "name": "stdout",
     "output_type": "stream",
     "text": [
      "{'<OOV>': 1, 'the': 2, 'henry': 3, 'ford': 4, 'main': 5, 'museum': 6, 'building': 7, 'houses': 8, 'some': 9, 'of': 10, 'classrooms': 11, 'for': 12, 'academy': 13}\n"
     ]
    }
   ],
   "source": [
    "# 단어:숫자 - 키:값\n",
    "word_index=tokneizer.word_index\n",
    "print(word_index)"
   ]
  },
  {
   "cell_type": "code",
   "execution_count": 8,
   "id": "394297f8-9809-45da-8fd9-581533e080ad",
   "metadata": {},
   "outputs": [
    {
     "name": "stdout",
     "output_type": "stream",
     "text": [
      "[[2, 5, 3, 4, 6, 7, 8, 9, 10, 2, 11, 12, 2, 3, 4, 13]]\n"
     ]
    }
   ],
   "source": [
    "# 텍스트 -> 시퀀스\n",
    "sequences=tokneizer.texts_to_sequences(sentences)\n",
    "print(sequences)"
   ]
  },
  {
   "cell_type": "code",
   "execution_count": 9,
   "id": "209aabda-dd63-467b-9ae2-bb1437c53d93",
   "metadata": {},
   "outputs": [
    {
     "name": "stdout",
     "output_type": "stream",
     "text": [
      "[[ 2  5  3  4  6  7  8  9 10  2 11 12  2  3  4 13]]\n"
     ]
    }
   ],
   "source": [
    "# 패딩 설정\n",
    "padded=pad_sequences(sequences, padding='post')\n",
    "print(padded)"
   ]
  },
  {
   "cell_type": "code",
   "execution_count": null,
   "id": "0dcdec35-45e3-4934-892e-df74b12fb688",
   "metadata": {},
   "outputs": [],
   "source": []
  },
  {
   "cell_type": "code",
   "execution_count": null,
   "id": "188e828f-814b-427c-8db3-dee1b0f1da1b",
   "metadata": {},
   "outputs": [],
   "source": []
  },
  {
   "cell_type": "code",
   "execution_count": null,
   "id": "c100f1f7-c6ca-42ab-8577-86b068ef50fb",
   "metadata": {},
   "outputs": [],
   "source": []
  }
 ],
 "metadata": {
  "kernelspec": {
   "display_name": "Python 3 (ipykernel)",
   "language": "python",
   "name": "python3"
  },
  "language_info": {
   "codemirror_mode": {
    "name": "ipython",
    "version": 3
   },
   "file_extension": ".py",
   "mimetype": "text/x-python",
   "name": "python",
   "nbconvert_exporter": "python",
   "pygments_lexer": "ipython3",
   "version": "3.9.12"
  }
 },
 "nbformat": 4,
 "nbformat_minor": 5
}
