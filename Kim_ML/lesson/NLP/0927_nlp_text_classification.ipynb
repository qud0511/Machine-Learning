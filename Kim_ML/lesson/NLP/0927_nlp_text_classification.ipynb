{
 "cells": [
  {
   "cell_type": "markdown",
   "id": "d5b24b19-d980-4763-a9a6-1fe06c842cb0",
   "metadata": {},
   "source": [
    "## 텍스트 분류 - 뉴스\n",
    "- scikit-learn의 dataset인 20대 뉴스 데이터 분류"
   ]
  },
  {
   "cell_type": "markdown",
   "id": "ea5f9d96-87d0-4272-a8c9-a45beb5fb931",
   "metadata": {},
   "source": [
    "## [1] 데이터 준비"
   ]
  },
  {
   "cell_type": "code",
   "execution_count": null,
   "id": "ef4fa849-1815-4097-a7fb-748b94480ce4",
   "metadata": {},
   "outputs": [],
   "source": [
    "from sklearn.datasets import fetch_20newsgroups"
   ]
  },
  {
   "cell_type": "code",
   "execution_count": null,
   "id": "7116d2b8-978a-4712-9402-316a331ac6a8",
   "metadata": {},
   "outputs": [],
   "source": [
    "newsData=fetch_20newsgroups()"
   ]
  },
  {
   "cell_type": "code",
   "execution_count": null,
   "id": "59c1b916-dd2a-4c7f-9358-54acd9afcc62",
   "metadata": {},
   "outputs": [],
   "source": [
    "newsData.keys()"
   ]
  },
  {
   "cell_type": "code",
   "execution_count": null,
   "id": "788cacce-0694-45d5-9df8-9f2b69a28db3",
   "metadata": {},
   "outputs": [],
   "source": [
    "print(f'data => {newsData['data']}')"
   ]
  },
  {
   "cell_type": "code",
   "execution_count": null,
   "id": "a8de3a53-588a-4da0-8a0b-de68a64674aa",
   "metadata": {},
   "outputs": [],
   "source": [
    "newsData20=newsData['data']\n",
    "type(newsData20)"
   ]
  },
  {
   "cell_type": "code",
   "execution_count": null,
   "id": "0fb4e1d1-19ed-434a-8785-1faa45e02b0b",
   "metadata": {},
   "outputs": [],
   "source": [
    "print(newsData20[0])"
   ]
  },
  {
   "cell_type": "code",
   "execution_count": null,
   "id": "53af6dd4-73c4-41f8-bff0-51dcb450d4c1",
   "metadata": {},
   "outputs": [],
   "source": [
    "# 타겟 데이터 확인\n",
    "target=newsData['target']\n",
    "type(target)"
   ]
  },
  {
   "cell_type": "code",
   "execution_count": null,
   "id": "2331c55f-7c57-4056-aae1-4ef7b127af6e",
   "metadata": {},
   "outputs": [],
   "source": [
    "print(f'target => {newsData['target_names']}개')\n",
    "for name in newsData['target_names']:\n",
    "    print(name)\n",
    "print(f'target => {target}')"
   ]
  },
  {
   "cell_type": "code",
   "execution_count": null,
   "id": "01b0d83a-e07d-4efc-b90c-514629f16ad4",
   "metadata": {},
   "outputs": [],
   "source": []
  },
  {
   "cell_type": "code",
   "execution_count": null,
   "id": "45c781ff-6fd3-414c-a139-ca027304bba6",
   "metadata": {},
   "outputs": [],
   "source": []
  }
 ],
 "metadata": {
  "kernelspec": {
   "display_name": "Python 3 (ipykernel)",
   "language": "python",
   "name": "python3"
  },
  "language_info": {
   "codemirror_mode": {
    "name": "ipython",
    "version": 3
   },
   "file_extension": ".py",
   "mimetype": "text/x-python",
   "name": "python",
   "nbconvert_exporter": "python",
   "pygments_lexer": "ipython3",
   "version": "3.9.12"
  }
 },
 "nbformat": 4,
 "nbformat_minor": 5
}
