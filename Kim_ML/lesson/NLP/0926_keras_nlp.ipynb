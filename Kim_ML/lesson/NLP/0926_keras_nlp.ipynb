{
 "cells": [
  {
   "cell_type": "markdown",
   "id": "0e8a2cb6-dac2-498a-885e-ea44f488dde7",
   "metadata": {},
   "source": [
    "## 영화 리뷰분석\n",
    "- IMDB 데이터 활용"
   ]
  },
  {
   "cell_type": "code",
   "execution_count": 74,
   "id": "b624396a-4c05-4541-9dd5-f1a1791fd2ab",
   "metadata": {},
   "outputs": [],
   "source": [
    "from tensorflow.keras.preprocessing.sequence import pad_sequences\n",
    "from tensorflow.keras.utils import to_categorical\n",
    "from tensorflow.keras.datasets.imdb import load_data\n",
    "import numpy as np\n",
    "import matplotlib.pyplot as plt"
   ]
  },
  {
   "cell_type": "markdown",
   "id": "75bb461a-45d4-4869-92fd-d4b2a45d6d0c",
   "metadata": {},
   "source": [
    "## [1] 데이터 준비"
   ]
  },
  {
   "cell_type": "code",
   "execution_count": 75,
   "id": "4b2eade9-d8c1-4d09-9cb5-d35eda87567e",
   "metadata": {},
   "outputs": [],
   "source": [
    "(X_train, y_train), (X_test, y_test) = load_data()"
   ]
  },
  {
   "cell_type": "code",
   "execution_count": 76,
   "id": "381451a5-39de-4106-bf61-a5c476398ce5",
   "metadata": {
    "tags": []
   },
   "outputs": [
    {
     "data": {
      "text/plain": [
       "((25000,), (25000,), (25000,), (25000,))"
      ]
     },
     "execution_count": 76,
     "metadata": {},
     "output_type": "execute_result"
    }
   ],
   "source": [
    "X_train.shape, y_train.shape, X_test.shape, y_test.shape"
   ]
  },
  {
   "cell_type": "code",
   "execution_count": 77,
   "id": "23f8f454-82bb-4b4b-90e2-558a2c528f67",
   "metadata": {},
   "outputs": [
    {
     "name": "stdout",
     "output_type": "stream",
     "text": [
      "[0] - 1]\n",
      "[1, 14, 22, 16, 43, 530, 973, 1622, 1385, 65, 458, 4468, 66, 3941, 4, 173, 36, 256, 5, 25, 100, 43, 838, 112, 50, 670, 22665, 9, 35, 480, 284, 5, 150, 4, 172, 112, 167, 21631, 336, 385, 39, 4, 172, 4536, 1111, 17, 546, 38, 13, 447, 4, 192, 50, 16, 6, 147, 2025, 19, 14, 22, 4, 1920, 4613, 469, 4, 22, 71, 87, 12, 16, 43, 530, 38, 76, 15, 13, 1247, 4, 22, 17, 515, 17, 12, 16, 626, 18, 19193, 5, 62, 386, 12, 8, 316, 8, 106, 5, 4, 2223, 5244, 16, 480, 66, 3785, 33, 4, 130, 12, 16, 38, 619, 5, 25, 124, 51, 36, 135, 48, 25, 1415, 33, 6, 22, 12, 215, 28, 77, 52, 5, 14, 407, 16, 82, 10311, 8, 4, 107, 117, 5952, 15, 256, 4, 31050, 7, 3766, 5, 723, 36, 71, 43, 530, 476, 26, 400, 317, 46, 7, 4, 12118, 1029, 13, 104, 88, 4, 381, 15, 297, 98, 32, 2071, 56, 26, 141, 6, 194, 7486, 18, 4, 226, 22, 21, 134, 476, 26, 480, 5, 144, 30, 5535, 18, 51, 36, 28, 224, 92, 25, 104, 4, 226, 65, 16, 38, 1334, 88, 12, 16, 283, 5, 16, 4472, 113, 103, 32, 15, 16, 5345, 19, 178, 32]\n",
      "------------------------------------------------------------\n",
      "[1] - 0]\n",
      "[1, 194, 1153, 194, 8255, 78, 228, 5, 6, 1463, 4369, 5012, 134, 26, 4, 715, 8, 118, 1634, 14, 394, 20, 13, 119, 954, 189, 102, 5, 207, 110, 3103, 21, 14, 69, 188, 8, 30, 23, 7, 4, 249, 126, 93, 4, 114, 9, 2300, 1523, 5, 647, 4, 116, 9, 35, 8163, 4, 229, 9, 340, 1322, 4, 118, 9, 4, 130, 4901, 19, 4, 1002, 5, 89, 29, 952, 46, 37, 4, 455, 9, 45, 43, 38, 1543, 1905, 398, 4, 1649, 26, 6853, 5, 163, 11, 3215, 10156, 4, 1153, 9, 194, 775, 7, 8255, 11596, 349, 2637, 148, 605, 15358, 8003, 15, 123, 125, 68, 23141, 6853, 15, 349, 165, 4362, 98, 5, 4, 228, 9, 43, 36893, 1157, 15, 299, 120, 5, 120, 174, 11, 220, 175, 136, 50, 9, 4373, 228, 8255, 5, 25249, 656, 245, 2350, 5, 4, 9837, 131, 152, 491, 18, 46151, 32, 7464, 1212, 14, 9, 6, 371, 78, 22, 625, 64, 1382, 9, 8, 168, 145, 23, 4, 1690, 15, 16, 4, 1355, 5, 28, 6, 52, 154, 462, 33, 89, 78, 285, 16, 145, 95]\n",
      "------------------------------------------------------------\n"
     ]
    }
   ],
   "source": [
    "# print(X_train[n]) for문\n",
    "# for idx in range(len(X_train)):\n",
    "for idx in range(2): # 2개만\n",
    "    print(f'[{idx}] - {y_train[idx]}]\\n{X_train[idx]}')\n",
    "    print('--'*30)"
   ]
  },
  {
   "cell_type": "markdown",
   "id": "e4149372-780a-4bca-ae37-a6ad73f243a2",
   "metadata": {},
   "source": [
    "## [2] 학습용 데아터 변환\n",
    "- keras에서 이미 대부분의 전처리가 끝난 데이터\n",
    "- 길이 조정이 필요 => 패딩(Padding)"
   ]
  },
  {
   "cell_type": "code",
   "execution_count": 78,
   "id": "f9b99cf6-9be8-4071-8088-c5e85268cfef",
   "metadata": {},
   "outputs": [],
   "source": [
    "# [2-1] 데이터별 길이 결정"
   ]
  },
  {
   "cell_type": "code",
   "execution_count": 79,
   "id": "7a2a70ad-7119-47d3-b55f-fbeda9553905",
   "metadata": {},
   "outputs": [
    {
     "data": {
      "text/plain": [
       "(11, 2494, 238.71364)"
      ]
     },
     "execution_count": 79,
     "metadata": {},
     "output_type": "execute_result"
    }
   ],
   "source": [
    "len_idx=[]\n",
    "for idx in X_train:\n",
    "    len_idx.append(len(idx))\n",
    "\n",
    "min(len_idx), max(len_idx), sum(len_idx)/25000"
   ]
  },
  {
   "cell_type": "code",
   "execution_count": 80,
   "id": "cacc501c-91e1-491f-a6dd-b71e782ce2f5",
   "metadata": {},
   "outputs": [
    {
     "data": {
      "text/plain": [
       "{'whiskers': [<matplotlib.lines.Line2D at 0x226015b10a0>,\n",
       "  <matplotlib.lines.Line2D at 0x226015b15b0>],\n",
       " 'caps': [<matplotlib.lines.Line2D at 0x226016207f0>,\n",
       "  <matplotlib.lines.Line2D at 0x22601620c40>],\n",
       " 'boxes': [<matplotlib.lines.Line2D at 0x226015bf610>],\n",
       " 'medians': [<matplotlib.lines.Line2D at 0x22601620a90>],\n",
       " 'fliers': [<matplotlib.lines.Line2D at 0x22601620250>],\n",
       " 'means': []}"
      ]
     },
     "execution_count": 80,
     "metadata": {},
     "output_type": "execute_result"
    },
    {
     "data": {
      "image/png": "[encoded data removed]",
      "text/plain": [
       "<Figure size 432x288 with 1 Axes>"
      ]
     },
     "metadata": {
      "needs_background": "light"
     },
     "output_type": "display_data"
    }
   ],
   "source": [
    "plt.boxplot(len_idx)"
   ]
  },
  {
   "cell_type": "code",
   "execution_count": 81,
   "id": "3fde7ea5-87ae-4ce3-a612-e9a281f4a337",
   "metadata": {},
   "outputs": [
    {
     "data": {
      "text/plain": [
       "(238.71364, 176.49367364852034, 11, 2494)"
      ]
     },
     "execution_count": 81,
     "metadata": {},
     "output_type": "execute_result"
    }
   ],
   "source": [
    "all_length=np.array([ len(x) for x in X_train])\n",
    "all_length.mean(), all_length.std(), all_length.min(), all_length.max()"
   ]
  },
  {
   "cell_type": "code",
   "execution_count": 82,
   "id": "464b3494-0a99-4863-b76c-fdb0707d27eb",
   "metadata": {},
   "outputs": [
    {
     "data": {
      "text/plain": [
       "(array([1.7598e+04, 5.3690e+03, 1.4070e+03, 5.1700e+02, 9.4000e+01,\n",
       "        7.0000e+00, 5.0000e+00, 2.0000e+00, 0.0000e+00, 1.0000e+00]),\n",
       " array([  11. ,  259.3,  507.6,  755.9, 1004.2, 1252.5, 1500.8, 1749.1,\n",
       "        1997.4, 2245.7, 2494. ]),\n",
       " <BarContainer object of 10 artists>)"
      ]
     },
     "execution_count": 82,
     "metadata": {},
     "output_type": "execute_result"
    },
    {
     "data": {
      "image/png": "[encoded data removed]",
      "text/plain": [
       "<Figure size 432x288 with 1 Axes>"
      ]
     },
     "metadata": {
      "needs_background": "light"
     },
     "output_type": "display_data"
    }
   ],
   "source": [
    "plt.hist(all_length)"
   ]
  },
  {
   "cell_type": "code",
   "execution_count": 83,
   "id": "d2596304-fb71-441f-a67f-7174cd9c53d4",
   "metadata": {},
   "outputs": [],
   "source": [
    "# [2-2] 데이터별 길이 변경"
   ]
  },
  {
   "cell_type": "code",
   "execution_count": 89,
   "id": "ad476060-75b5-455a-963d-57dcb80c3a55",
   "metadata": {},
   "outputs": [
    {
     "data": {
      "text/plain": [
       "((25000, 100),\n",
       " array([[   1,   14,   22, ..., 2223, 5244,   16],\n",
       "        [   1,  194, 1153, ...,  775,    7, 8255],\n",
       "        [   1,   14,   47, ...,  326,   23, 2300],\n",
       "        ...,\n",
       "        [   1,   11,    6, ..., 4780,   11,    4],\n",
       "        [   1, 1446, 7079, ...,    4,  719, 3798],\n",
       "        [   1,   17,    6, ...,    5, 2642,  272]]))"
      ]
     },
     "execution_count": 89,
     "metadata": {},
     "output_type": "execute_result"
    }
   ],
   "source": [
    "train_seq = pad_sequences(X_train, padding='pre',\n",
    "                       maxlen=100, truncating='post')\n",
    "train_seq.shape, train_seq"
   ]
  },
  {
   "cell_type": "code",
   "execution_count": 88,
   "id": "d609c621-ac93-41d4-ba5a-843931c5d67b",
   "metadata": {},
   "outputs": [],
   "source": [
    "# to_categorical()"
   ]
  },
  {
   "cell_type": "markdown",
   "id": "48445648-92d1-408f-8c4b-a6f525ebd430",
   "metadata": {},
   "source": [
    "## [3] 모델 생성\n",
    "https://keras.io/api/layers/recurrent_layers/simple_rnn/\n",
    "https://keras.io/api/layers/recurrent_layers/"
   ]
  },
  {
   "cell_type": "code",
   "execution_count": null,
   "id": "f77f8185-3a33-44ac-a7f5-0753f7db192d",
   "metadata": {},
   "outputs": [],
   "source": []
  }
 ],
 "metadata": {
  "kernelspec": {
   "display_name": "Python 3 (ipykernel)",
   "language": "python",
   "name": "python3"
  },
  "language_info": {
   "codemirror_mode": {
    "name": "ipython",
    "version": 3
   },
   "file_extension": ".py",
   "mimetype": "text/x-python",
   "name": "python",
   "nbconvert_exporter": "python",
   "pygments_lexer": "ipython3",
   "version": "3.9.12"
  }
 },
 "nbformat": 4,
 "nbformat_minor": 5
}
