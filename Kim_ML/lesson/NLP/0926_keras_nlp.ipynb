{
 "cells": [
  {
   "cell_type": "markdown",
   "id": "0e8a2cb6-dac2-498a-885e-ea44f488dde7",
   "metadata": {},
   "source": [
    "## 영화 리뷰분석\n",
    "- IMDB 데이터 활용"
   ]
  },
  {
   "cell_type": "code",
   "execution_count": 9,
   "id": "b624396a-4c05-4541-9dd5-f1a1791fd2ab",
   "metadata": {},
   "outputs": [],
   "source": [
    "from tensorflow.keras.preprocessing.sequence import pad_sequences\n",
    "from tensorflow.keras.utils import to_categorical, plot_model\n",
    "from tensorflow.keras.datasets.imdb import load_data\n",
    "\n",
    "from tensorflow.keras.models import Sequential\n",
    "from tensorflow.keras.layers import SimpleRNN, Dense\n",
    "\n",
    "\n",
    "from sklearn.model_selection import train_test_split\n",
    "import numpy as np\n",
    "import matplotlib.pyplot as plt"
   ]
  },
  {
   "cell_type": "markdown",
   "id": "75bb461a-45d4-4869-92fd-d4b2a45d6d0c",
   "metadata": {},
   "source": [
    "## [1] 데이터 준비"
   ]
  },
  {
   "cell_type": "code",
   "execution_count": 10,
   "id": "4b2eade9-d8c1-4d09-9cb5-d35eda87567e",
   "metadata": {},
   "outputs": [],
   "source": [
    "(X_train, y_train), (X_test, y_test) = load_data(num_words=500)"
   ]
  },
  {
   "cell_type": "code",
   "execution_count": 11,
   "id": "381451a5-39de-4106-bf61-a5c476398ce5",
   "metadata": {
    "tags": []
   },
   "outputs": [
    {
     "data": {
      "text/plain": [
       "((25000,), (25000,), (25000,), (25000,))"
      ]
     },
     "execution_count": 11,
     "metadata": {},
     "output_type": "execute_result"
    }
   ],
   "source": [
    "X_train.shape, y_train.shape, X_test.shape, y_test.shape"
   ]
  },
  {
   "cell_type": "code",
   "execution_count": 12,
   "id": "23f8f454-82bb-4b4b-90e2-558a2c528f67",
   "metadata": {},
   "outputs": [
    {
     "name": "stdout",
     "output_type": "stream",
     "text": [
      "[0] - 1]\n",
      "[1, 14, 22, 16, 43, 2, 2, 2, 2, 65, 458, 2, 66, 2, 4, 173, 36, 256, 5, 25, 100, 43, 2, 112, 50, 2, 2, 9, 35, 480, 284, 5, 150, 4, 172, 112, 167, 2, 336, 385, 39, 4, 172, 2, 2, 17, 2, 38, 13, 447, 4, 192, 50, 16, 6, 147, 2, 19, 14, 22, 4, 2, 2, 469, 4, 22, 71, 87, 12, 16, 43, 2, 38, 76, 15, 13, 2, 4, 22, 17, 2, 17, 12, 16, 2, 18, 2, 5, 62, 386, 12, 8, 316, 8, 106, 5, 4, 2, 2, 16, 480, 66, 2, 33, 4, 130, 12, 16, 38, 2, 5, 25, 124, 51, 36, 135, 48, 25, 2, 33, 6, 22, 12, 215, 28, 77, 52, 5, 14, 407, 16, 82, 2, 8, 4, 107, 117, 2, 15, 256, 4, 2, 7, 2, 5, 2, 36, 71, 43, 2, 476, 26, 400, 317, 46, 7, 4, 2, 2, 13, 104, 88, 4, 381, 15, 297, 98, 32, 2, 56, 26, 141, 6, 194, 2, 18, 4, 226, 22, 21, 134, 476, 26, 480, 5, 144, 30, 2, 18, 51, 36, 28, 224, 92, 25, 104, 4, 226, 65, 16, 38, 2, 88, 12, 16, 283, 5, 16, 2, 113, 103, 32, 15, 16, 2, 19, 178, 32]\n",
      "------------------------------------------------------------\n",
      "[1] - 0]\n",
      "[1, 194, 2, 194, 2, 78, 228, 5, 6, 2, 2, 2, 134, 26, 4, 2, 8, 118, 2, 14, 394, 20, 13, 119, 2, 189, 102, 5, 207, 110, 2, 21, 14, 69, 188, 8, 30, 23, 7, 4, 249, 126, 93, 4, 114, 9, 2, 2, 5, 2, 4, 116, 9, 35, 2, 4, 229, 9, 340, 2, 4, 118, 9, 4, 130, 2, 19, 4, 2, 5, 89, 29, 2, 46, 37, 4, 455, 9, 45, 43, 38, 2, 2, 398, 4, 2, 26, 2, 5, 163, 11, 2, 2, 4, 2, 9, 194, 2, 7, 2, 2, 349, 2, 148, 2, 2, 2, 15, 123, 125, 68, 2, 2, 15, 349, 165, 2, 98, 5, 4, 228, 9, 43, 2, 2, 15, 299, 120, 5, 120, 174, 11, 220, 175, 136, 50, 9, 2, 228, 2, 5, 2, 2, 245, 2, 5, 4, 2, 131, 152, 491, 18, 2, 32, 2, 2, 14, 9, 6, 371, 78, 22, 2, 64, 2, 9, 8, 168, 145, 23, 4, 2, 15, 16, 4, 2, 5, 28, 6, 52, 154, 462, 33, 89, 78, 285, 16, 145, 95]\n",
      "------------------------------------------------------------\n"
     ]
    }
   ],
   "source": [
    "# print(X_train[n]) for문\n",
    "# for idx in range(len(X_train)):\n",
    "for idx in range(2): # 2개만\n",
    "    print(f'[{idx}] - {y_train[idx]}]\\n{X_train[idx]}')\n",
    "    print('--'*30)"
   ]
  },
  {
   "cell_type": "markdown",
   "id": "e4149372-780a-4bca-ae37-a6ad73f243a2",
   "metadata": {},
   "source": [
    "---\n",
    "## [2] 학습용 데아터 변환\n",
    "- keras에서 이미 대부분의 전처리가 끝난 데이터\n",
    "- 길이 조정이 필요 => 패딩(Padding)"
   ]
  },
  {
   "cell_type": "markdown",
   "id": "11212f72-bcf0-4b64-a23c-552300427e09",
   "metadata": {},
   "source": [
    "#### [2-1] 데이터별 길이 결정"
   ]
  },
  {
   "cell_type": "code",
   "execution_count": 13,
   "id": "7a2a70ad-7119-47d3-b55f-fbeda9553905",
   "metadata": {},
   "outputs": [
    {
     "data": {
      "text/plain": [
       "(11, 2494, 238.71364)"
      ]
     },
     "execution_count": 13,
     "metadata": {},
     "output_type": "execute_result"
    }
   ],
   "source": [
    "len_idx=[]\n",
    "for idx in X_train:\n",
    "    len_idx.append(len(idx))\n",
    "\n",
    "min(len_idx), max(len_idx), sum(len_idx)/25000"
   ]
  },
  {
   "cell_type": "code",
   "execution_count": 14,
   "id": "cacc501c-91e1-491f-a6dd-b71e782ce2f5",
   "metadata": {},
   "outputs": [
    {
     "data": {
      "text/plain": [
       "{'whiskers': [<matplotlib.lines.Line2D at 0x1d39afd2ac0>,\n",
       "  <matplotlib.lines.Line2D at 0x1d39af6b760>],\n",
       " 'caps': [<matplotlib.lines.Line2D at 0x1d39ae94400>,\n",
       "  <matplotlib.lines.Line2D at 0x1d39ae94790>],\n",
       " 'boxes': [<matplotlib.lines.Line2D at 0x1d39b8edfa0>],\n",
       " 'medians': [<matplotlib.lines.Line2D at 0x1d39ae94d00>],\n",
       " 'fliers': [<matplotlib.lines.Line2D at 0x1d39ae947c0>],\n",
       " 'means': []}"
      ]
     },
     "execution_count": 14,
     "metadata": {},
     "output_type": "execute_result"
    },
    {
     "data": {
      "image/png": "[encoded data removed]",
      "text/plain": [
       "<Figure size 432x288 with 1 Axes>"
      ]
     },
     "metadata": {
      "needs_background": "light"
     },
     "output_type": "display_data"
    }
   ],
   "source": [
    "plt.boxplot(len_idx)"
   ]
  },
  {
   "cell_type": "code",
   "execution_count": 15,
   "id": "3fde7ea5-87ae-4ce3-a612-e9a281f4a337",
   "metadata": {},
   "outputs": [
    {
     "data": {
      "text/plain": [
       "(238.71364, 176.49367364852034, 11, 2494)"
      ]
     },
     "execution_count": 15,
     "metadata": {},
     "output_type": "execute_result"
    }
   ],
   "source": [
    "all_length=np.array([ len(x) for x in X_train])\n",
    "all_length.mean(), all_length.std(), all_length.min(), all_length.max()"
   ]
  },
  {
   "cell_type": "code",
   "execution_count": 16,
   "id": "464b3494-0a99-4863-b76c-fdb0707d27eb",
   "metadata": {},
   "outputs": [
    {
     "data": {
      "text/plain": [
       "(array([1.7598e+04, 5.3690e+03, 1.4070e+03, 5.1700e+02, 9.4000e+01,\n",
       "        7.0000e+00, 5.0000e+00, 2.0000e+00, 0.0000e+00, 1.0000e+00]),\n",
       " array([  11. ,  259.3,  507.6,  755.9, 1004.2, 1252.5, 1500.8, 1749.1,\n",
       "        1997.4, 2245.7, 2494. ]),\n",
       " <BarContainer object of 10 artists>)"
      ]
     },
     "execution_count": 16,
     "metadata": {},
     "output_type": "execute_result"
    },
    {
     "data": {
      "image/png": "[encoded data removed]",
      "text/plain": [
       "<Figure size 432x288 with 1 Axes>"
      ]
     },
     "metadata": {
      "needs_background": "light"
     },
     "output_type": "display_data"
    }
   ],
   "source": [
    "plt.hist(all_length)"
   ]
  },
  {
   "cell_type": "markdown",
   "id": "5dc9ebec-9276-4533-b311-c422ebe27b9b",
   "metadata": {},
   "source": [
    "#### [2-2] 데이터별 길이 변경"
   ]
  },
  {
   "cell_type": "code",
   "execution_count": 17,
   "id": "ad476060-75b5-455a-963d-57dcb80c3a55",
   "metadata": {},
   "outputs": [
    {
     "data": {
      "text/plain": [
       "((25000, 100),\n",
       " array([[  1,  14,  22, ...,   2,   2,  16],\n",
       "        [  1, 194,   2, ...,   2,   7,   2],\n",
       "        [  1,  14,  47, ..., 326,  23,   2],\n",
       "        ...,\n",
       "        [  1,  11,   6, ...,   2,  11,   4],\n",
       "        [  1,   2,   2, ...,   4,   2,   2],\n",
       "        [  1,  17,   6, ...,   5,   2, 272]]))"
      ]
     },
     "execution_count": 17,
     "metadata": {},
     "output_type": "execute_result"
    }
   ],
   "source": [
    "train_seq = pad_sequences(X_train, padding='pre',\n",
    "                       maxlen=100, truncating='post')\n",
    "\n",
    "test_seq = pad_sequences(X_test, padding='pre',\n",
    "                       maxlen=100, truncating='post')\n",
    "train_seq.shape, train_seq"
   ]
  },
  {
   "cell_type": "code",
   "execution_count": 56,
   "id": "f77f8185-3a33-44ac-a7f5-0753f7db192d",
   "metadata": {},
   "outputs": [],
   "source": [
    "train_oh=to_categorical(train_seq)\n",
    "test_oh=to_categorical(test_seq)"
   ]
  },
  {
   "cell_type": "markdown",
   "id": "58832726-9d35-40e7-a02b-15f09a154e44",
   "metadata": {},
   "source": [
    "#### [2=3] 훈련/테스트 데이터 준비"
   ]
  },
  {
   "cell_type": "code",
   "execution_count": 62,
   "id": "bd3b5684-7ffc-401e-bd11-9eacccb95743",
   "metadata": {},
   "outputs": [
    {
     "ename": "ValueError",
     "evalue": "Found input variables with inconsistent numbers of samples: [25000, 20000]",
     "output_type": "error",
     "traceback": [
      "\u001b[1;31m---------------------------------------------------------------------------\u001b[0m",
      "\u001b[1;31mValueError\u001b[0m                                Traceback (most recent call last)",
      "Input \u001b[1;32mIn [62]\u001b[0m, in \u001b[0;36m<cell line: 1>\u001b[1;34m()\u001b[0m\n\u001b[1;32m----> 1\u001b[0m X_train, X_val, y_train, y_val\u001b[38;5;241m=\u001b[39m\u001b[43mtrain_test_split\u001b[49m\u001b[43m(\u001b[49m\u001b[43mtrain_oh\u001b[49m\u001b[43m,\u001b[49m\n\u001b[0;32m      2\u001b[0m \u001b[43m                               \u001b[49m\u001b[43my_train\u001b[49m\u001b[43m,\u001b[49m\u001b[43m \u001b[49m\u001b[43mtest_size\u001b[49m\u001b[38;5;241;43m=\u001b[39;49m\u001b[38;5;241;43m0.2\u001b[39;49m\u001b[43m,\u001b[49m\n\u001b[0;32m      3\u001b[0m \u001b[43m                               \u001b[49m\u001b[43mrandom_state\u001b[49m\u001b[38;5;241;43m=\u001b[39;49m\u001b[38;5;241;43m42\u001b[39;49m\u001b[43m,\u001b[49m\u001b[43m \u001b[49m\u001b[43mstratify\u001b[49m\u001b[38;5;241;43m=\u001b[39;49m\u001b[43my_train\u001b[49m\u001b[43m)\u001b[49m\n",
      "File \u001b[1;32mC:\\ProgramData\\Anaconda3\\lib\\site-packages\\sklearn\\model_selection\\_split.py:2417\u001b[0m, in \u001b[0;36mtrain_test_split\u001b[1;34m(test_size, train_size, random_state, shuffle, stratify, *arrays)\u001b[0m\n\u001b[0;32m   2414\u001b[0m \u001b[38;5;28;01mif\u001b[39;00m n_arrays \u001b[38;5;241m==\u001b[39m \u001b[38;5;241m0\u001b[39m:\n\u001b[0;32m   2415\u001b[0m     \u001b[38;5;28;01mraise\u001b[39;00m \u001b[38;5;167;01mValueError\u001b[39;00m(\u001b[38;5;124m\"\u001b[39m\u001b[38;5;124mAt least one array required as input\u001b[39m\u001b[38;5;124m\"\u001b[39m)\n\u001b[1;32m-> 2417\u001b[0m arrays \u001b[38;5;241m=\u001b[39m \u001b[43mindexable\u001b[49m\u001b[43m(\u001b[49m\u001b[38;5;241;43m*\u001b[39;49m\u001b[43marrays\u001b[49m\u001b[43m)\u001b[49m\n\u001b[0;32m   2419\u001b[0m n_samples \u001b[38;5;241m=\u001b[39m _num_samples(arrays[\u001b[38;5;241m0\u001b[39m])\n\u001b[0;32m   2420\u001b[0m n_train, n_test \u001b[38;5;241m=\u001b[39m _validate_shuffle_split(\n\u001b[0;32m   2421\u001b[0m     n_samples, test_size, train_size, default_test_size\u001b[38;5;241m=\u001b[39m\u001b[38;5;241m0.25\u001b[39m\n\u001b[0;32m   2422\u001b[0m )\n",
      "File \u001b[1;32mC:\\ProgramData\\Anaconda3\\lib\\site-packages\\sklearn\\utils\\validation.py:378\u001b[0m, in \u001b[0;36mindexable\u001b[1;34m(*iterables)\u001b[0m\n\u001b[0;32m    359\u001b[0m \u001b[38;5;124;03m\"\"\"Make arrays indexable for cross-validation.\u001b[39;00m\n\u001b[0;32m    360\u001b[0m \n\u001b[0;32m    361\u001b[0m \u001b[38;5;124;03mChecks consistent length, passes through None, and ensures that everything\u001b[39;00m\n\u001b[1;32m   (...)\u001b[0m\n\u001b[0;32m    374\u001b[0m \u001b[38;5;124;03m    sparse matrix, or dataframe) or `None`.\u001b[39;00m\n\u001b[0;32m    375\u001b[0m \u001b[38;5;124;03m\"\"\"\u001b[39;00m\n\u001b[0;32m    377\u001b[0m result \u001b[38;5;241m=\u001b[39m [_make_indexable(X) \u001b[38;5;28;01mfor\u001b[39;00m X \u001b[38;5;129;01min\u001b[39;00m iterables]\n\u001b[1;32m--> 378\u001b[0m \u001b[43mcheck_consistent_length\u001b[49m\u001b[43m(\u001b[49m\u001b[38;5;241;43m*\u001b[39;49m\u001b[43mresult\u001b[49m\u001b[43m)\u001b[49m\n\u001b[0;32m    379\u001b[0m \u001b[38;5;28;01mreturn\u001b[39;00m result\n",
      "File \u001b[1;32mC:\\ProgramData\\Anaconda3\\lib\\site-packages\\sklearn\\utils\\validation.py:332\u001b[0m, in \u001b[0;36mcheck_consistent_length\u001b[1;34m(*arrays)\u001b[0m\n\u001b[0;32m    330\u001b[0m uniques \u001b[38;5;241m=\u001b[39m np\u001b[38;5;241m.\u001b[39munique(lengths)\n\u001b[0;32m    331\u001b[0m \u001b[38;5;28;01mif\u001b[39;00m \u001b[38;5;28mlen\u001b[39m(uniques) \u001b[38;5;241m>\u001b[39m \u001b[38;5;241m1\u001b[39m:\n\u001b[1;32m--> 332\u001b[0m     \u001b[38;5;28;01mraise\u001b[39;00m \u001b[38;5;167;01mValueError\u001b[39;00m(\n\u001b[0;32m    333\u001b[0m         \u001b[38;5;124m\"\u001b[39m\u001b[38;5;124mFound input variables with inconsistent numbers of samples: \u001b[39m\u001b[38;5;132;01m%r\u001b[39;00m\u001b[38;5;124m\"\u001b[39m\n\u001b[0;32m    334\u001b[0m         \u001b[38;5;241m%\u001b[39m [\u001b[38;5;28mint\u001b[39m(l) \u001b[38;5;28;01mfor\u001b[39;00m l \u001b[38;5;129;01min\u001b[39;00m lengths]\n\u001b[0;32m    335\u001b[0m     )\n",
      "\u001b[1;31mValueError\u001b[0m: Found input variables with inconsistent numbers of samples: [25000, 20000]"
     ]
    }
   ],
   "source": [
    "X_train, X_val, y_train, y_val=train_test_split(train_oh,\n",
    "                               y_train, test_size=0.2,\n",
    "                               random_state=42, stratify=y_train)"
   ]
  },
  {
   "cell_type": "code",
   "execution_count": null,
   "id": "feb686a0-048d-4c2f-951a-81da822b413e",
   "metadata": {},
   "outputs": [],
   "source": [
    "X_train.shape, X_val.shape, y_train.shape, y_val.shape"
   ]
  },
  {
   "cell_type": "markdown",
   "id": "48445648-92d1-408f-8c4b-a6f525ebd430",
   "metadata": {},
   "source": [
    "---\n",
    "## [3] 모델 생성\n",
    "- 목표 : 영화리뷰 데이터 학습 후 사용자가 입력하는 리뷰가 긍정/부정 분류\n",
    "- 학습모델 : RNN 순환신경망\n",
    "- 입력 : 500\n",
    "- 출력 : 1 => 분류 => 2진분류\n",
    "https://keras.io/api/layers/recurrent_layers/simple_rnn/\n",
    "https://keras.io/api/layers/recurrent_layers/"
   ]
  },
  {
   "cell_type": "markdown",
   "id": "b30d3689-559c-41c2-b947-cf637c52824a",
   "metadata": {},
   "source": [
    "#### [3-1] 모델 구성\n",
    "- 입력층 : n개 - 타임스템프 수, 토큰 수\n",
    "- 출력층 : 노드 1개 - sigmoid => Dense"
   ]
  },
  {
   "cell_type": "code",
   "execution_count": null,
   "id": "2b26a332-53fc-4aba-bca5-a5ff7f965e4a",
   "metadata": {},
   "outputs": [],
   "source": [
    "model=Sequential()\n",
    "\n",
    "# 1개 노드 = w500 + b + w9 * 9\n",
    "# input_shape=(타임스템프 크기, 토큰 크기)\n",
    "model.add(SimpleRNN(9, input_shape=(100, 500), return_state=True))\n",
    "# return_state?\n",
    "model.add(SimpleRNN(9))\n",
    "model.add(Dense(1, activation='sigmoid'))\n",
    "\n",
    "model.summary()"
   ]
  },
  {
   "cell_type": "code",
   "execution_count": null,
   "id": "10a5d4ad-6f66-4b6a-8f7d-5ec34e16e211",
   "metadata": {},
   "outputs": [],
   "source": [
    "plot_model(model, show_shapes=True)"
   ]
  },
  {
   "cell_type": "markdown",
   "id": "1f29ca51-61e6-47ba-8179-9cba0a19931b",
   "metadata": {},
   "source": [
    "#### [3-2] 모델 생성\n",
    "- 손실함수, 최적화방법, 평가항목 => compile()"
   ]
  },
  {
   "cell_type": "code",
   "execution_count": null,
   "id": "fd79feca-6620-4bbb-b7a9-41c2a63eff3b",
   "metadata": {},
   "outputs": [],
   "source": [
    "model.compile(loss='binary_crossentropy',\n",
    "             optimizer='adam',\n",
    "             metrics='accuracy')"
   ]
  },
  {
   "cell_type": "markdown",
   "id": "8c6a17b4-8d2f-46d5-8666-27475757c7af",
   "metadata": {},
   "source": [
    "## [4] 학습\n",
    "- train 데이터와 타겟으로 학습 진행\n",
    "- epoch마다 검증 진행 => validation_data, validataion_split\n",
    "- 학습 중 이벤트 처리 => callbacks=[]\n",
    "- 학습 진행 내용 출력 조절 => verbose\n",
    "- 학습 횟수 조절 => epochs\n",
    "- 배치 사이즈 조절 => batch_size (기:32)"
   ]
  },
  {
   "cell_type": "code",
   "execution_count": 58,
   "id": "cc0a5838-a9ad-4cf8-b0b0-5ec8d2d2e924",
   "metadata": {},
   "outputs": [
    {
     "name": "stdout",
     "output_type": "stream",
     "text": [
      "Epoch 1/5\n",
      "625/625 [==============================] - 10s 17ms/step - loss: 0.3409 - accuracy: 0.8583 - val_loss: 0.6714 - val_accuracy: 0.7260\n",
      "Epoch 2/5\n",
      "625/625 [==============================] - 9s 14ms/step - loss: 0.3301 - accuracy: 0.8660 - val_loss: 0.6811 - val_accuracy: 0.7282\n",
      "Epoch 3/5\n",
      "625/625 [==============================] - 9s 14ms/step - loss: 0.3693 - accuracy: 0.8440 - val_loss: 0.7453 - val_accuracy: 0.6964\n",
      "Epoch 4/5\n",
      "625/625 [==============================] - 8s 14ms/step - loss: 0.3507 - accuracy: 0.8565 - val_loss: 0.6759 - val_accuracy: 0.7240\n",
      "Epoch 5/5\n",
      "625/625 [==============================] - 8s 13ms/step - loss: 0.3489 - accuracy: 0.8555 - val_loss: 0.7093 - val_accuracy: 0.7152\n"
     ]
    }
   ],
   "source": [
    "result = model.fit(X_train, y_train,\n",
    "          epochs=5,\n",
    "          validation_data=(X_val, y_val))"
   ]
  },
  {
   "cell_type": "markdown",
   "id": "d1567c99-ee6e-471f-befb-b661a3a7e8db",
   "metadata": {},
   "source": [
    "## [5] 평가"
   ]
  },
  {
   "cell_type": "code",
   "execution_count": 59,
   "id": "0c0ec39f-68cb-48f2-961c-7a8a8484fab5",
   "metadata": {},
   "outputs": [
    {
     "name": "stdout",
     "output_type": "stream",
     "text": [
      "625/625 [==============================] - 5s 7ms/step - loss: 0.3856 - accuracy: 0.8384\n"
     ]
    },
    {
     "data": {
      "text/plain": [
       "[0.38561028242111206, 0.8384000062942505]"
      ]
     },
     "execution_count": 59,
     "metadata": {},
     "output_type": "execute_result"
    }
   ],
   "source": [
    "model.evaluate(X_train, y_train)"
   ]
  },
  {
   "cell_type": "code",
   "execution_count": 60,
   "id": "0df24d7b-ea94-4e93-803a-ff0969d96079",
   "metadata": {},
   "outputs": [
    {
     "name": "stdout",
     "output_type": "stream",
     "text": [
      "157/157 [==============================] - 1s 7ms/step - loss: 0.7093 - accuracy: 0.7152\n"
     ]
    },
    {
     "data": {
      "text/plain": [
       "[0.7093456983566284, 0.7152000069618225]"
      ]
     },
     "execution_count": 60,
     "metadata": {},
     "output_type": "execute_result"
    }
   ],
   "source": [
    "model.evaluate(X_val, y_val)"
   ]
  },
  {
   "cell_type": "code",
   "execution_count": 61,
   "id": "c673f32b-2f5d-4691-844b-7562937f6a92",
   "metadata": {},
   "outputs": [
    {
     "data": {
      "image/png": "[encoded data removed]",
      "text/plain": [
       "<Figure size 1440x576 with 2 Axes>"
      ]
     },
     "metadata": {
      "needs_background": "light"
     },
     "output_type": "display_data"
    }
   ],
   "source": [
    "def plot_accuracy_and_loss(train_model):\n",
    "    hist = train_model.history\n",
    "    acc = hist['accuracy']\n",
    "    val_acc = hist['val_accuracy']\n",
    "    loss = hist['loss']\n",
    "    val_loss = hist['val_loss']\n",
    "    epochs = range(len(acc))\n",
    "    f, ax = plt.subplots(1,2, figsize=(20, 8))\n",
    "    ax[0].plot(epochs, acc, 'g', label='Training accuracy')\n",
    "    ax[0].plot(epochs, val_acc, 'r', label='Validation accuracy')\n",
    "    ax[0].set_title('Training and validation accuracy')\n",
    "    ax[0].legend(fontsize=10)\n",
    "    ax[1].plot(epochs, loss, 'g', label='Training loss')\n",
    "    ax[1].plot(epochs, val_loss, 'r', label='Validation loss')\n",
    "    ax[1].set_title('Training and validation loss')\n",
    "    ax[1].legend()\n",
    "    plt.show()\n",
    "plot_accuracy_and_loss(result)"
   ]
  },
  {
   "cell_type": "code",
   "execution_count": null,
   "id": "eabc6855-c7a4-4525-9cb8-c2cab1b985af",
   "metadata": {},
   "outputs": [],
   "source": []
  },
  {
   "cell_type": "code",
   "execution_count": null,
   "id": "f25b111a-8c7e-48ed-9761-c7df3d1e3e6c",
   "metadata": {},
   "outputs": [],
   "source": []
  }
 ],
 "metadata": {
  "kernelspec": {
   "display_name": "Python 3 (ipykernel)",
   "language": "python",
   "name": "python3"
  },
  "language_info": {
   "codemirror_mode": {
    "name": "ipython",
    "version": 3
   },
   "file_extension": ".py",
   "mimetype": "text/x-python",
   "name": "python",
   "nbconvert_exporter": "python",
   "pygments_lexer": "ipython3",
   "version": "3.9.12"
  }
 },
 "nbformat": 4,
 "nbformat_minor": 5
}
