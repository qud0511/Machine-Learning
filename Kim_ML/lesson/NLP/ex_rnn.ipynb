{
 "cells": [
  {
   "cell_type": "markdown",
   "id": "4ef2c8c0",
   "metadata": {},
   "source": [
    "### many-to-one 방식"
   ]
  },
  {
   "cell_type": "code",
   "execution_count": null,
   "id": "dda26d1f",
   "metadata": {},
   "outputs": [],
   "source": [
    "from keras.models import Model\n",
    "from keras.layers import Input, Dense, LSTM\n",
    "import numpy as np\n",
    "\n",
    "\n",
    "x = np.array([[[1.], [2.], [3.], [4.], [5.]]])\n",
    "y = np.array([[6.]])\n",
    "\n",
    "\n",
    "xInput = Input(batch_shape=(None, 5, 1))\n",
    "xLstm = LSTM(3)(xInput)\n",
    "xOutput = Dense(1)(xLstm)\n",
    "\n",
    "\n",
    "model = Model(xInput, xOutput)\n",
    "model.compile(loss='mean_squared_error', optimizer='adam')\n",
    "\n",
    "print(model.summary())\n",
    "\n",
    "\n",
    "model.fit(x, y, epochs=50, batch_size=1, verbose=0)\n",
    "model.predict(x, batch_size=1)\n"
   ]
  },
  {
   "cell_type": "markdown",
   "id": "6c01dded",
   "metadata": {},
   "source": [
    "### 양방향-단층 & many-to-many 유형 "
   ]
  },
  {
   "cell_type": "code",
   "execution_count": null,
   "id": "ea70668d",
   "metadata": {},
   "outputs": [],
   "source": [
    "from keras.models import Model\n",
    "from keras.layers import Input, Dense, LSTM, Bidirectional\n",
    "import numpy as np\n",
    "\n",
    "\n",
    "x = np.array([[[1.], [2.], [3.], [4.], [5.]]])\n",
    "y = np.array([[6.]])\n",
    "\n",
    "\n",
    "xInput = Input(batch_shape=(None, 5, 1))\n",
    "xBiLstm = Bidirectional(LSTM(3), merge_mode = 'concat')(xInput)\n",
    "xOutput = Dense(1)(xBiLstm)\n",
    "\n",
    "\n",
    "model = Model(xInput, xOutput)\n",
    "model.compile(loss='mean_squared_error', optimizer='adam')\n",
    "print(model.summary())"
   ]
  },
  {
   "cell_type": "code",
   "execution_count": null,
   "id": "c5b4ac55",
   "metadata": {},
   "outputs": [],
   "source": []
  },
  {
   "cell_type": "code",
   "execution_count": null,
   "id": "3822d0a4",
   "metadata": {},
   "outputs": [],
   "source": [
    "from keras.models import Model\n",
    "from keras.layers import Input, Dense, LSTM\n",
    "from keras.layers import Bidirectional, TimeDistributed\n",
    "import numpy as np\n",
    "\n",
    "\n",
    "x = np.array([[[1.], [2.], [3.], [4.], [5.]]])\n",
    "y = np.array([[[2.], [3.], [4.], [5.], [6.]]])\n",
    "\n",
    "\n",
    "xInput = Input(batch_shape=(None, 5, 1))\n",
    "xBiLstm = Bidirectional(LSTM(3, return_sequences=True), merge_mode = 'concat')(xInput)\n",
    "xOutput = TimeDistributed(Dense(1))(xBiLstm)\n",
    "\n",
    "\n",
    "model = Model(xInput, xOutput)\n",
    "model.compile(loss='mean_squared_error', optimizer='adam')\n",
    "print(model.summary())"
   ]
  },
  {
   "cell_type": "markdown",
   "id": "242124a1",
   "metadata": {},
   "source": [
    "###  many-to-many 방식"
   ]
  },
  {
   "cell_type": "code",
   "execution_count": null,
   "id": "9c8499b5",
   "metadata": {},
   "outputs": [],
   "source": [
    "from keras.models import Model\n",
    "from keras.layers import Input, Dense, LSTM, TimeDistributed\n",
    "import numpy as np\n",
    "\n",
    "\n",
    "x = np.array([[[1.], [2.], [3.], [4.], [5.]]])\n",
    "y = np.array([[[2.], [3.], [4.], [5.], [6.]]])\n",
    "xInput = Input(batch_shape=(None, 5, 1))\n",
    "xLstm = LSTM(3, return_sequences=True)(xInput)\n",
    "xOutput = TimeDistributed(Dense(1))(xLstm)\n",
    "model = Model(xInput, xOutput)\n",
    "model.compile(loss='mean_squared_error', optimizer='adam')\n",
    "print(model.summary)"
   ]
  },
  {
   "cell_type": "markdown",
   "id": "8c2fee16",
   "metadata": {},
   "source": [
    "## many-to-many 방식 ==> many-to-one 방식"
   ]
  },
  {
   "cell_type": "code",
   "execution_count": null,
   "id": "90d5a215",
   "metadata": {},
   "outputs": [],
   "source": [
    " from keras.models import Model\n",
    " from keras.layers import Input, Dense, LSTM, Lambda\n",
    " import numpy as np\n",
    "\n",
    " from keras import backend as K\n",
    "  \n",
    "\n",
    " x = np.array([[[1.], [2.], [3.], [4.], [5.]]])\n",
    " y = np.array([[6.]])\n",
    " xInput = Input(batch_shape=(None, 5, 1))\n",
    " xLstm = LSTM(3, return_sequences=True)(xInput)\n",
    " xReduced = Lambda(lambda z: K.mean(z, axis=1))(xLstm)\n",
    " xOutput = Dense(1)(xReduced)\n",
    "\n",
    "\n",
    " model = Model(xInput, xOutput)\n",
    " model.compile(loss='mean_squared_error', optimizer='adam')\n",
    " print(model.summary())"
   ]
  }
 ],
 "metadata": {
  "kernelspec": {
   "display_name": "Python 3 (ipykernel)",
   "language": "python",
   "name": "python3"
  },
  "language_info": {
   "codemirror_mode": {
    "name": "ipython",
    "version": 3
   },
   "file_extension": ".py",
   "mimetype": "text/x-python",
   "name": "python",
   "nbconvert_exporter": "python",
   "pygments_lexer": "ipython3",
   "version": "3.9.12"
  }
 },
 "nbformat": 4,
 "nbformat_minor": 5
}
