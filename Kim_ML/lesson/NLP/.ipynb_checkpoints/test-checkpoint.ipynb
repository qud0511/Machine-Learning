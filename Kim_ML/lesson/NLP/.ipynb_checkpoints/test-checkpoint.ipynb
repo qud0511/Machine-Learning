{
 "cells": [
  {
   "cell_type": "code",
   "execution_count": 1,
   "id": "3d670498-0ce1-491a-81a9-18c6d2018760",
   "metadata": {},
   "outputs": [
    {
     "name": "stdout",
     "output_type": "stream",
     "text": [
      "Hello Team05\n"
     ]
    }
   ],
   "source": [
    "print('Hello Team05')"
   ]
  },
  {
   "cell_type": "code",
   "execution_count": null,
   "id": "3223612d-6c00-4010-9401-78b9564069bd",
   "metadata": {},
   "outputs": [],
   "source": []
  }
 ],
 "metadata": {
  "kernelspec": {
   "display_name": "Python 3 (ipykernel)",
   "language": "python",
   "name": "python3"
  },
  "language_info": {
   "codemirror_mode": {
    "name": "ipython",
    "version": 3
   },
   "file_extension": ".py",
   "mimetype": "text/x-python",
   "name": "python",
   "nbconvert_exporter": "python",
   "pygments_lexer": "ipython3",
   "version": "3.9.13"
  }
 },
 "nbformat": 4,
 "nbformat_minor": 5
}
