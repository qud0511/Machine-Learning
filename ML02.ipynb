{
 "cells": [
  {
   "cell_type": "code",
   "execution_count": null,
   "metadata": {},
   "outputs": [],
   "source": []
  },
  {
   "cell_type": "markdown",
   "metadata": {},
   "source": [
    "#### 훈련 세트와 테스트 세트 만들기 #1\n",
    "\n",
    "- 도미와 빙어 데이터를 2차원 리스트로 변경</br>\n",
    "    • 총 49마리의 데이터: 도미 35마리, 빙어 14마리</br>\n",
    "    • zip() 함수 사용"
   ]
  },
  {
   "cell_type": "code",
   "execution_count": 19,
   "metadata": {},
   "outputs": [],
   "source": [
    "# 데이터 생성\n",
    "# • 길이와 무게를 합친 2차원 리스트 생성: fish_data\n",
    "# • 결과 확인을 위한 리스트 생성: fish_target\n",
    "\n",
    "fish_length = [25.4, 26.3, 26.5, 29.0, 29.0, 29.7, 29.7, 30.0, 30.0, 30.7, \n",
    "31.0, 31.0, 31.5, 32.0, 32.0, 32.0, 33.0, 33.0, 33.5, 33.5, \n",
    "34.0, 34.0, 34.5, 35.0, 35.0, 35.0, 35.0, 36.0, 36.0, 37.0, \n",
    "38.5, 38.5, 39.5, 41.0, 41.0, 9.8, 10.5, 10.6, 11.0, 11.2, \n",
    "11.3, 11.8, 11.8, 12.0, 12.2, 12.4, 13.0, 14.3, 15.0]\n",
    "fish_weight = [242.0, 290.0, 340.0, 363.0, 430.0, 450.0, 500.0, 390.0, 450.0, 500.0, \n",
    "475.0, 500.0, 500.0, 340.0, 600.0, 600.0, 700.0, 700.0, 610.0, 650.0, \n",
    "575.0, 685.0, 620.0, 680.0, 700.0, 725.0, 720.0, 714.0, 850.0, 1000.0, \n",
    "920.0, 955.0, 925.0, 975.0, 950.0, 6.7, 7.5, 7.0, 9.7, 9.8, \n",
    "8.7, 10.0, 9.9, 9.8, 12.2, 13.4, 12.2, 19.7, 19.9]\n",
    "\n",
    "fish_data = [[l, w] for l, w in zip(fish_length, fish_weight)] # 2차원 리스트[길이, 무게]\n",
    "\n",
    "fish_target = [1] * 35 + [0]*14 # target 값 생성"
   ]
  },
  {
   "cell_type": "markdown",
   "metadata": {},
   "source": [
    "#### 훈련 세트와 테스트 세트 만들기 #2\n",
    "\n",
    "• fish_data, fish_target 리스트를 훈련 세트와 테스트 세트로 분리</br>\n",
    "    - 훈련 세트: 35개, 테스트 세트: 14개로 분리"
   ]
  },
  {
   "cell_type": "code",
   "execution_count": 20,
   "metadata": {},
   "outputs": [],
   "source": [
    "#\t훈련 세트 생성(35개)\n",
    "train_input =\tfish_data[:35]\t# 0 ~ 34\n",
    "train_target =\tfish_target[:35]\n",
    "\n",
    "#\t테스트 세트 생성(14개)\n",
    "test_input =\tfish_data[35:] # 35 ~ 끝까지\n",
    "test_target =\tfish_target[35:]"
   ]
  },
  {
   "cell_type": "markdown",
   "metadata": {},
   "source": [
    "#### 테스트 세트로 평가하기\n",
    "- k-최근접 알고리즘 모델 생성 및 평가하기</br>\n",
    "    • 훈련 세트로 모델을 훈련</br>\n",
    "    • 테스트 세트로 정확도 평가"
   ]
  },
  {
   "cell_type": "code",
   "execution_count": 21,
   "metadata": {},
   "outputs": [
    {
     "data": {
      "text/plain": [
       "0.0"
      ]
     },
     "execution_count": 21,
     "metadata": {},
     "output_type": "execute_result"
    }
   ],
   "source": [
    "from cgi import test\n",
    "from sklearn.neighbors import KNeighborsClassifier\n",
    "\n",
    "kn = KNeighborsClassifier() # 객체 생성\n",
    "kn = kn.fit(train_input, train_target) # 모델 훈련\n",
    "kn.score(test_input, test_target) # 테스트 세트로 평가(정확도 출력)\n",
    "\n",
    "# • 잘못된 훈련 데이터 사용 결과 => 정확도 0.0\n",
    "#  도미 데이터로만 훈련했기 때문에(샘플링 편향)"
   ]
  },
  {
   "cell_type": "markdown",
   "metadata": {},
   "source": [
    "### Numpy를 활용한 배열 생성\n",
    "- Numpy 사용</br>\n",
    "    - 다차원 배열을 쉽게 조작할 수 있음"
   ]
  },
  {
   "cell_type": "code",
   "execution_count": 22,
   "metadata": {},
   "outputs": [
    {
     "name": "stdout",
     "output_type": "stream",
     "text": [
      "[[  25.4  242. ]\n",
      " [  26.3  290. ]\n",
      " [  26.5  340. ]\n",
      " [  29.   363. ]\n",
      " [  29.   430. ]\n",
      " [  29.7  450. ]\n",
      " [  29.7  500. ]\n",
      " [  30.   390. ]\n",
      " [  30.   450. ]\n",
      " [  30.7  500. ]\n",
      " [  31.   475. ]\n",
      " [  31.   500. ]\n",
      " [  31.5  500. ]\n",
      " [  32.   340. ]\n",
      " [  32.   600. ]\n",
      " [  32.   600. ]\n",
      " [  33.   700. ]\n",
      " [  33.   700. ]\n",
      " [  33.5  610. ]\n",
      " [  33.5  650. ]\n",
      " [  34.   575. ]\n",
      " [  34.   685. ]\n",
      " [  34.5  620. ]\n",
      " [  35.   680. ]\n",
      " [  35.   700. ]\n",
      " [  35.   725. ]\n",
      " [  35.   720. ]\n",
      " [  36.   714. ]\n",
      " [  36.   850. ]\n",
      " [  37.  1000. ]\n",
      " [  38.5  920. ]\n",
      " [  38.5  955. ]\n",
      " [  39.5  925. ]\n",
      " [  41.   975. ]\n",
      " [  41.   950. ]\n",
      " [   9.8    6.7]\n",
      " [  10.5    7.5]\n",
      " [  10.6    7. ]\n",
      " [  11.     9.7]\n",
      " [  11.2    9.8]\n",
      " [  11.3    8.7]\n",
      " [  11.8   10. ]\n",
      " [  11.8    9.9]\n",
      " [  12.     9.8]\n",
      " [  12.2   12.2]\n",
      " [  12.4   13.4]\n",
      " [  13.    12.2]\n",
      " [  14.3   19.7]\n",
      " [  15.    19.9]]\n",
      "(49, 2)\n"
     ]
    }
   ],
   "source": [
    "# 기존 fish_data와 fish_target를 Numpy 배열로 변경\n",
    "# • Numpy.array(list):\t파이썬의 list를 Numpy의 array로 변경\n",
    "import numpy as np\n",
    "\n",
    "input_arr = np.array(fish_data)\n",
    "target_arr = np.array(fish_target)\n",
    "\n",
    "print(input_arr)\n",
    "print(input_arr.shape) #\tshape:\t배열의 크기 리턴"
   ]
  },
  {
   "cell_type": "markdown",
   "metadata": {},
   "source": [
    "### Numpy를 이용하여 데이터 섞기\n",
    "- Numpy 사용</br>\n",
    "    • random.seed(seed) : 랜덤값 생성을 위한 초기값 지정\n",
    "    - 초기값(seed)값이 같으면 동일한 랜덤값을 뽑을 수 있음</br>\n",
    "\n",
    "    • Numpy.arange(stop):\tstop-1까지 1의 간격으로 배열 생성</br> \n",
    "    - arange: array range</br>\n",
    "        \n",
    "    • random.shuffle(x):\t배열 x(ndarray 타입)를 무작위로 섞음"
   ]
  },
  {
   "cell_type": "code",
   "execution_count": 23,
   "metadata": {},
   "outputs": [
    {
     "name": "stdout",
     "output_type": "stream",
     "text": [
      "[ 0  1  2  3  4  5  6  7  8  9 10 11 12 13 14 15 16 17 18 19 20 21 22 23\n",
      " 24 25 26 27 28 29 30 31 32 33 34 35 36 37 38 39 40 41 42 43 44 45 46 47\n",
      " 48]\n"
     ]
    }
   ],
   "source": [
    "import numpy as np\n",
    "np.random.seed(42)\n",
    "index_list = np.arange(49) # 0~48까지 값을 가지는 배열 생성\n",
    "print(index_list)"
   ]
  },
  {
   "cell_type": "code",
   "execution_count": 24,
   "metadata": {},
   "outputs": [
    {
     "name": "stdout",
     "output_type": "stream",
     "text": [
      "[13 45 47 44 17 27 26 25 31 19 12  4 34  8  3  6 40 41 46 15  9 16 24 33\n",
      " 30  0 43 32  5 29 11 36  1 21  2 37 35 23 39 10 22 18 48 20  7 42 14 28\n",
      " 38]\n"
     ]
    }
   ],
   "source": [
    "np.random.shuffle(index_list) # 배열 내용을 무작위로 섞음\n",
    "print(index_list)"
   ]
  },
  {
   "cell_type": "markdown",
   "metadata": {},
   "source": [
    "#### 랜덤 배열로 훈련 세트와 테스트 세트 만들기\n",
    "- Numpy의 배열 인덱싱 이용</br>\n",
    "    • 여러 개의 인덱스로 한 번에 여러 개의 배열 원소를 선택할 수 있음"
   ]
  },
  {
   "cell_type": "code",
   "execution_count": 25,
   "metadata": {},
   "outputs": [],
   "source": [
    "#\t훈련 세트 생성\n",
    "train_input =\tinput_arr[index_list[:35]] # 랜덤하게 섞인 배열을 인덱스로 사용\n",
    "train_target =\ttarget_arr[index_list[:35]]\n",
    "\n",
    "#\t테스트 세트 생성\n",
    "test_input =\tinput_arr[index_list[35:]]\n",
    "test_target =\ttarget_arr[index_list[35:]]\n",
    "# 총 4개의 배열 생성"
   ]
  },
  {
   "cell_type": "markdown",
   "metadata": {},
   "source": [
    "### 무작위로 섞인 데이터 확인하기"
   ]
  },
  {
   "cell_type": "code",
   "execution_count": 26,
   "metadata": {},
   "outputs": [
    {
     "data": {
      "image/png": "[encoded data removed]",
      "text/plain": [
       "<Figure size 432x288 with 1 Axes>"
      ]
     },
     "metadata": {
      "needs_background": "light"
     },
     "output_type": "display_data"
    }
   ],
   "source": [
    "# 훈련 데이터와 테스트 데이터 다시 확인\n",
    "import matplotlib.pyplot as plt\n",
    "#\t[:,\t0]:\t모든 행에서 0번째 length,\t[:,\t1]:\t모든 행에서 1번째 weight\n",
    "plt.scatter(train_input[:, 0], train_input[:, 1], label = \"train set\")\n",
    "plt.scatter(test_input[:, 0], test_input[:, 1], label = \"test set\")\n",
    "\n",
    "plt.xlabel('length')\n",
    "plt.ylabel('weight')\n",
    "plt.legend()\n",
    "plt.show()"
   ]
  },
  {
   "cell_type": "markdown",
   "metadata": {},
   "source": [
    "### 두 번째 머신러닝 프로그램\n",
    "- 무작위로 섞인 훈련 세트와 테스트 세트를 이용하여 k-최근접 이웃모델 생성 및 훈련\n",
    "-  fit()\t->\tscore()\t->\tpredict() 호출"
   ]
  },
  {
   "cell_type": "code",
   "execution_count": 27,
   "metadata": {},
   "outputs": [
    {
     "name": "stdout",
     "output_type": "stream",
     "text": [
      "score :  1.0\n",
      "predict:\t\t\t\t\t [0 0 1 0 1 1 1 0 1 1 0 1 1 0]\n",
      "test_target:\t [0 0 1 0 1 1 1 0 1 1 0 1 1 0]\n"
     ]
    }
   ],
   "source": [
    "kn = kn.fit(train_input, train_target)\n",
    "print(\"score : \", kn.score(test_input, test_target))\n",
    "\n",
    "print(\"predict:\t\t\t\t\t\",\tkn.predict(test_input))\n",
    "print(\"test_target:\t\",\ttest_target)\t#\tpredict 결과값과 비교를 위해 출력\n",
    "# predict와 test_target 완전 일치 : 100% 정확도\n",
    "# [0, ...0] : Numpy 배열 scikit-learn 모델의 입출력값은 모두 Numpy의 배열"
   ]
  },
  {
   "cell_type": "code",
   "execution_count": 28,
   "metadata": {},
   "outputs": [
    {
     "data": {
      "image/png": "[encoded data removed]",
      "text/plain": [
       "<Figure size 432x288 with 1 Axes>"
      ]
     },
     "metadata": {
      "needs_background": "light"
     },
     "output_type": "display_data"
    },
    {
     "name": "stdout",
     "output_type": "stream",
     "text": [
      "score:  1.0\n",
      "predict:  [0 0 1 0 1 1 1 0 1 1 0 1 1 0]\n",
      "test_target:  [0 0 1 0 1 1 1 0 1 1 0 1 1 0]\n"
     ]
    }
   ],
   "source": [
    "# 소스 코드\n",
    "from sklearn.neighbors import KNeighborsClassifier\n",
    "import numpy as np\n",
    "fish_length = [25.4, 26.3, 26.5, 29.0, 29.0, 29.7, 29.7, 30.0, 30.0, 30.7, 31.0, 31.0,\n",
    "31.5, 32.0, 32.0, 32.0, 33.0, 33.0, 33.5, 33.5, 34.0, 34.0, 34.5, 35.0,\n",
    "35.0, 35.0, 35.0, 36.0, 36.0, 37.0, 38.5, 38.5, 39.5, 41.0, 41.0, 9.8,\n",
    "10.5, 10.6, 11.0, 11.2, 11.3, 11.8, 11.8, 12.0, 12.2, 12.4, 13.0, 14.3, 15.0]\n",
    "fish_weight = [242.0, 290.0, 340.0, 363.0, 430.0, 450.0, 500.0, 390.0, 450.0, 500.0, \n",
    "475.0, 500.0, 500.0, 340.0, 600.0, 600.0, 700.0, 700.0, 610.0, 650.0, \n",
    "575.0, 685.0, 620.0, 680.0, 700.0, 725.0, 720.0, 714.0, 850.0, 1000.0, \n",
    "920.0, 955.0, 925.0, 975.0, 950.0, 6.7, 7.5, 7.0, 9.7, 9.8, \n",
    "8.7, 10.0, 9.9, 9.8, 12.2, 13.4, 12.2, 19.7, 19.9]\n",
    "# 길이와 무게를 합쳐 2차원 리스트 생성\n",
    "fish_data = [[l, w] for l, w in zip(fish_length, fish_weight)]\n",
    "fish_target = [1] * 35 + [0]*14 # target 값 생성\n",
    "\n",
    "'''\n",
    "Numpy 활용\n",
    "'''\n",
    "input_arr = np.array(fish_data)\n",
    "target_arr = np.array(fish_target)\n",
    "np.random.seed(42)\n",
    "index_list = np.arange(49) # 0~48까지 배열 생성\n",
    "np.random.shuffle(index_list) # 무작위로 섞음\n",
    "'''\n",
    "랜덤하게 섞인 index_list의 값을 이용 input_arr에서 훈련용 데이터를 가져옴\n",
    "(올바른 훈련 데이터를 얻기 위함)\n",
    "'''\n",
    "\n",
    "# 훈련 세트 생성\n",
    "train_input = input_arr[index_list[:35]]\n",
    "train_target = target_arr[index_list[:35]]\n",
    "# 테스트 세트 생성\n",
    "test_input = input_arr[index_list[35:]]\n",
    "test_target = target_arr[index_list[35:]]\n",
    "import matplotlib.pyplot as plt\n",
    "# [:, 0]: 모든 행에서 0번째 length, [:, 1]: 모든 행에서 1번째 weight\n",
    "plt.scatter(train_input[:, 0], train_input[:, 1], label='train set')\n",
    "plt.scatter(test_input[:, 0], test_input[:, 1], label='test set')\n",
    "plt.xlabel('length')\n",
    "plt.ylabel('weight')\n",
    "plt.legend()\n",
    "plt.show()\n",
    "# KNeighborClassifier 객체 생성 및 모델 훈현\n",
    "kn = KNeighborsClassifier()\n",
    "kn = kn.fit(train_input, train_target)\n",
    "print(\"score: \", kn.score(test_input, test_target))\n",
    "print(\"predict: \", kn.predict(test_input))\n",
    "print(\"test_target: \", test_target) # predict 결과값과 비교를 위해 출력"
   ]
  },
  {
   "cell_type": "markdown",
   "metadata": {},
   "source": [
    "### 문제점 발생\n",
    "- 2-1 머신러닝 프로그램의 문제점 발생</br>\n",
    "    • 길이 25cm, 무게 150g인 도미(1)를 빙어(0)로 판단함.\n",
    "\n",
    "==>\n",
    "\n",
    "- 샘플 데이터의 두 특성(길이, 무게)의 스케일이 다르기 때문</br>\n",
    "    - 스케일을 조정해야 됨: 표준점수로 변환해야 됨</br>\n",
    "- 표준 점수: 평균과의 거리"
   ]
  },
  {
   "cell_type": "code",
   "execution_count": 33,
   "metadata": {},
   "outputs": [
    {
     "name": "stdout",
     "output_type": "stream",
     "text": [
      "predict(길이 25cm, 무게 150kg):  [0]\n"
     ]
    },
    {
     "data": {
      "image/png": "[encoded data removed]",
      "text/plain": [
       "<Figure size 432x288 with 1 Axes>"
      ]
     },
     "metadata": {
      "needs_background": "light"
     },
     "output_type": "display_data"
    }
   ],
   "source": [
    "print(\"predict(길이 25cm, 무게 150kg): \", kn.predict([[25, 150.0]]))\n",
    "\n",
    "plt.scatter(train_input[:, 0], train_input[:, 1], label='train set')\n",
    "plt.scatter(test_input[:, 0], test_input[:, 1], label='test set')\n",
    "plt.scatter(24, 150.0, marker='^', color = \"red\")\n",
    "plt.xlabel('length')\n",
    "plt.ylabel('weight')\n",
    "plt.legend()\n",
    "plt.show()"
   ]
  },
  {
   "cell_type": "markdown",
   "metadata": {},
   "source": [
    "### Numpy를 활용한 데이터 전처리 #1\n",
    "- column_stack()\n",
    "    - Numpy 제공 함수: 리스트를 일렬로 세운 다음 차례대로 연결\n",
    "    - Python에서 제공하는 zip()함수와 동일한 기능"
   ]
  },
  {
   "cell_type": "code",
   "execution_count": 36,
   "metadata": {},
   "outputs": [
    {
     "name": "stdout",
     "output_type": "stream",
     "text": [
      "[[ 25.4 242. ]\n",
      " [ 26.3 290. ]\n",
      " [ 26.5 340. ]\n",
      " [ 29.  363. ]\n",
      " [ 29.  430. ]]\n"
     ]
    }
   ],
   "source": [
    "#\tcolumn_stack((list1,\tlist2)):\t튜플 형태로 전달\n",
    "fish_data = np.column_stack((fish_length, fish_weight))\n",
    "print(fish_data[:5])"
   ]
  },
  {
   "cell_type": "markdown",
   "metadata": {},
   "source": [
    "- ones(n),\tzeros(n)\n",
    "    - 개수(n)만큼 각각 1과 0으로 채운 배열을 생성함"
   ]
  },
  {
   "cell_type": "code",
   "execution_count": 37,
   "metadata": {},
   "outputs": [
    {
     "name": "stdout",
     "output_type": "stream",
     "text": [
      "[1. 1. 1. 1. 1. 1. 1. 1. 1. 1. 1. 1. 1. 1. 1. 1. 1. 1. 1. 1. 1. 1. 1. 1.\n",
      " 1. 1. 1. 1. 1. 1. 1. 1. 1. 1. 1.]\n",
      "[0. 0. 0. 0. 0. 0. 0. 0. 0. 0. 0. 0. 0. 0.]\n"
     ]
    }
   ],
   "source": [
    "print(np.ones(35))\n",
    "print(np.zeros(14))"
   ]
  },
  {
   "cell_type": "markdown",
   "metadata": {},
   "source": [
    "- concatenate((a1,\ta2,\t...))\n",
    "    - a1,\ta2\t배열을 서로 연결함 (a1 배열 다음에 a2 배열 연결)\n",
    "    - 연결할 배열을 튜플로 전달"
   ]
  },
  {
   "cell_type": "code",
   "execution_count": 38,
   "metadata": {},
   "outputs": [
    {
     "name": "stdout",
     "output_type": "stream",
     "text": [
      "[1. 1. 1. 1. 1. 1. 1. 1. 1. 1. 1. 1. 1. 1. 1. 1. 1. 1. 1. 1. 1. 1. 1. 1.\n",
      " 1. 1. 1. 1. 1. 1. 1. 1. 1. 1. 1. 0. 0. 0. 0. 0. 0. 0. 0. 0. 0. 0. 0. 0.\n",
      " 0.]\n"
     ]
    }
   ],
   "source": [
    "fish_target = np.concatenate((np.ones(35), np.zeros(14)))\n",
    "print(fish_target)"
   ]
  },
  {
   "cell_type": "markdown",
   "metadata": {},
   "source": [
    "### 사이킷런으로 훈련 세트와 테스트 세트 나누기 #1\n",
    "- train_test_split() 함수 원형\n",
    "    - sklearn.model_selection.train_test_split(*arrays, test_size=None, train_\n",
    "size=None, random_state=None, shuffle=True, stratify=None)\n",
    "\n",
    "    - 전달되는 리스트나 배열을 비율에 맞게 훈련 세트와 테스트 세트로 나눔\n",
    "    - 총 4개의 배열이 반환됨\n",
    "\n",
    "    - 함수 파라미터 내용\n",
    "        - test_size:\t0.0 ~ 1.0\t사이\n",
    "        Ø None:\t자동으로 25% 비율로 테스트 세트 생성\n",
    "        - train_size:\t0.0\t~\t1.0\t사이\n",
    "        Ø None: 자동으로 75% 비율로 훈련 세트 생성\n",
    "        - random_state:\t랜덤 시드 설정\n",
    "        - stratify:\ttarget 데이터를 전달하면, 클래스 비율(0, 1)에 맞게 데이터\n",
    "        를 나눔"
   ]
  },
  {
   "cell_type": "code",
   "execution_count": 75,
   "metadata": {},
   "outputs": [
    {
     "name": "stdout",
     "output_type": "stream",
     "text": [
      "train_input.shape:  (36, 2) test_input.shape (13, 2)\n",
      "train_target:  [1. 0. 1. 0. 1. 1. 1. 1. 1. 1. 1. 0. 1. 0. 1. 1. 1. 1. 1. 0. 1. 1. 0. 1.\n",
      " 0. 1. 0. 1. 1. 1. 0. 1. 1. 0. 1. 1.]\n",
      "test_target:  [0. 0. 1. 0. 1. 0. 1. 1. 1. 1. 1. 1. 1.]\n"
     ]
    }
   ],
   "source": [
    "# • 4개의 데이터 셋을 리턴\n",
    "from sklearn.model_selection import train_test_split\n",
    "\n",
    "train_input, test_input, train_target, test_target = train_test_split(\n",
    "    fish_data, fish_target, stratify=fish_target, random_state=42)\n",
    "\n",
    "print('train_input.shape: ', train_input.shape,\n",
    "'test_input.shape', test_input.shape)\n",
    "\n",
    "print('train_target: ', train_target)\n",
    "print('test_target: ', test_target)"
   ]
  },
  {
   "cell_type": "markdown",
   "metadata": {},
   "source": [
    "### 가장 가까운 이웃 찾기"
   ]
  },
  {
   "cell_type": "code",
   "execution_count": 46,
   "metadata": {},
   "outputs": [
    {
     "name": "stdout",
     "output_type": "stream",
     "text": [
      "score:  1.0\n",
      "[0.]\n"
     ]
    }
   ],
   "source": [
    "#  k-최근접 이웃 모델 적용\n",
    "# • train_test_split()함수로 나눈 데이터 사용\n",
    "\n",
    "from sklearn.neighbors import KNeighborsClassifier\n",
    "\n",
    "kn = KNeighborsClassifier()\n",
    "kn.fit(train_input, train_target)\n",
    "\n",
    "print(\"score: \", kn.score(test_input, test_target))\n",
    "\n",
    "#\t25cm,\t150g의 생선 분류 (수상한 도미)\n",
    "print(kn.predict([[25,\t150]])) # 빙어(0)로 분류"
   ]
  },
  {
   "cell_type": "code",
   "execution_count": 48,
   "metadata": {},
   "outputs": [
    {
     "data": {
      "image/png": "[encoded data removed]",
      "text/plain": [
       "<Figure size 432x288 with 1 Axes>"
      ]
     },
     "metadata": {
      "needs_background": "light"
     },
     "output_type": "display_data"
    }
   ],
   "source": [
    "#  길이 25cm, 무게 150g의 생선을 산점도로 표시\n",
    "import matplotlib.pyplot as plt\n",
    "\n",
    "plt.scatter(train_input[:, 0], train_input[:, 1])\n",
    "plt.scatter(25,\t150,\tmarker='^')\n",
    "plt.xlabel('length')\n",
    "plt.ylabel('weight')\n",
    "plt.show()"
   ]
  },
  {
   "cell_type": "code",
   "execution_count": 50,
   "metadata": {},
   "outputs": [
    {
     "name": "stdout",
     "output_type": "stream",
     "text": [
      "[[ 92.00086956 130.48375378 130.73859415 138.32150953 138.39320793]]\n",
      "[[21 33 19 30  1]]\n"
     ]
    }
   ],
   "source": [
    "#  가장 가까운 이웃과의 거리 계산\n",
    "# • kneighbors(): n_neighbors(default값 5)개의 이웃을 찾음\n",
    "\n",
    "distances, indexes = kn.kneighbors([[25, 150]])\n",
    "print(distances)\n",
    "print(indexes)"
   ]
  },
  {
   "cell_type": "code",
   "execution_count": 52,
   "metadata": {},
   "outputs": [
    {
     "data": {
      "image/png": "[encoded data removed]",
      "text/plain": [
       "<Figure size 432x288 with 1 Axes>"
      ]
     },
     "metadata": {
      "needs_background": "light"
     },
     "output_type": "display_data"
    }
   ],
   "source": [
    "#  가장 가까운 이웃 5개를 산점도로 표시\n",
    "import\tmatplotlib.pyplot as\tplt\n",
    "plt.scatter(train_input[:,\t0],\ttrain_input[:,\t1],\tlabel='train_data',\tcolor='b')\n",
    "plt.scatter(25,\t150,\tmarker='^',\tcolor='orange',\tlabel='Unknown')\n",
    "plt.scatter(train_input[indexes,\t0],\ttrain_input[indexes,\t1],\n",
    "marker='D',\tlabel='neighbors',\tcolor='r')\n",
    "plt.xlabel('length')\n",
    "plt.ylabel('weight')\n",
    "plt.legend()\n",
    "plt.show()"
   ]
  },
  {
   "cell_type": "code",
   "execution_count": 54,
   "metadata": {},
   "outputs": [
    {
     "name": "stdout",
     "output_type": "stream",
     "text": [
      "neighbors:\t [[[ 25.4 242. ]\n",
      "  [ 15.   19.9]\n",
      "  [ 14.3  19.7]\n",
      "  [ 13.   12.2]\n",
      "  [ 12.2  12.2]]]\n",
      "target:\t [[1. 0. 0. 0. 0.]]\n"
     ]
    }
   ],
   "source": [
    "print(\"neighbors:\t\",\ttrain_input[indexes])\n",
    "print(\"target:\t\",\ttrain_target[indexes])\n",
    "\n",
    "# target:\t [[1. 0. 0. 0. 0.]] => (25cm, 150g) 생선의 이웃 4개는 빙어"
   ]
  },
  {
   "cell_type": "markdown",
   "metadata": {},
   "source": [
    "### Scale을 동일하게 수정\n",
    "    - 두 특성(길이, 무게)의 scale이 다름  \n",
    "    - xlim(), ylim()함수: x, y축의 범위를 지정"
   ]
  },
  {
   "cell_type": "code",
   "execution_count": 58,
   "metadata": {},
   "outputs": [
    {
     "data": {
      "image/png": "[encoded data removed]",
      "text/plain": [
       "<Figure size 432x288 with 1 Axes>"
      ]
     },
     "metadata": {
      "needs_background": "light"
     },
     "output_type": "display_data"
    }
   ],
   "source": [
    "plt.scatter(train_input[:,\t0],\ttrain_input[:,\t1],\t\n",
    "label='train_data',\tcolor='b')\n",
    "plt.scatter(25,\t150,\tmarker='^'\n",
    ",\tcolor='orange',\tlabel='Unknown')\n",
    "plt.scatter(train_input[indexes,\t0],\ttrain_input[indexes,\t1],\n",
    "marker='D',\tlabel='neighbors',\tcolor='r')\n",
    "plt.xlim((0,\t1000)) #\tx축의 눈금 간격을 y축과 동일하게 변경\n",
    "plt.xlabel('length')\n",
    "plt.ylabel('weight')\n",
    "plt.legend()\n",
    "plt.show()\n",
    "\n",
    "# 생선의 무게에 따라 분류에 큰 영향을 미침"
   ]
  },
  {
   "cell_type": "markdown",
   "metadata": {},
   "source": [
    "### 데이터 전처리 (Data Preprocessing)\n",
    "- 데이터 전처리\n",
    "    - 특성값을 일정한 기준으로 맞춤\n",
    "    - 표준 점수 (Standard\tScore, Z 점수)\n",
    "        - 각 특성(길이, 무게)의 값이 0에서 표준편차의 몇 배만큼 떨어져 있는지를\n",
    "        나타냄"
   ]
  },
  {
   "cell_type": "code",
   "execution_count": 59,
   "metadata": {},
   "outputs": [
    {
     "name": "stdout",
     "output_type": "stream",
     "text": [
      "[ 27.29722222 454.09722222] [  9.98244253 323.29893931]\n"
     ]
    }
   ],
   "source": [
    "#  평균 및 표준편차 계산\n",
    "# • 브로드 캐스팅\n",
    "# – 행(row)이나 열(column)의 모든 데이터에 대해 한 번에 연산을 수행\n",
    "\n",
    "mean\t=\tnp.mean(train_input,\taxis=0)\t#\taxes=0:\t각 컬럼의 평균 계산\n",
    "std\t=\tnp.std(train_input,\taxis=0)\n",
    "print(mean,\tstd)\n",
    "\n",
    "# [ 27.29722222 454.09722222] [  9.98244253 323.29893931]\n",
    "# [length 평균 weight 평균] [length 표준편차 weight 표준편차]\n"
   ]
  },
  {
   "cell_type": "code",
   "execution_count": 62,
   "metadata": {},
   "outputs": [
    {
     "name": "stdout",
     "output_type": "stream",
     "text": [
      "[[ 0.24070039  0.14198246]\n",
      " [-1.51237757 -1.36683783]\n",
      " [ 0.5712808   0.76060496]\n",
      " [-1.60253587 -1.37766373]\n",
      " [ 1.22242404  1.45655528]]\n"
     ]
    }
   ],
   "source": [
    "#  표준 점수(Z값) 계산\n",
    "train_scaled =\t(train_input - mean)\t/\tstd\t\t#\t표준 점수로 변환한 데이터\n",
    "print(train_scaled[:5])"
   ]
  },
  {
   "cell_type": "markdown",
   "metadata": {},
   "source": [
    "## 전처리 데이터로 모델 훈련"
   ]
  },
  {
   "cell_type": "code",
   "execution_count": 64,
   "metadata": {},
   "outputs": [
    {
     "data": {
      "image/png": "[encoded data removed]",
      "text/plain": [
       "<Figure size 432x288 with 1 Axes>"
      ]
     },
     "metadata": {
      "needs_background": "light"
     },
     "output_type": "display_data"
    }
   ],
   "source": [
    "#  표준 점수로 변환한 훈련 데이터 분포 확인\n",
    "# • train_scaled 데이터와 샘플 데이터(25, 150) 비교\n",
    "\n",
    "plt.scatter(train_scaled[:,\t0],\ttrain_scaled[:,\t1],\tlabel='train_scaled')\n",
    "plt.scatter(25,\t150,\tmarker='^'\n",
    ",\tlabel='unknown')\n",
    "plt.xlabel('length')\n",
    "plt.ylabel('weight')\n",
    "plt.legend()\n",
    "plt.show()\n",
    "\n",
    "# 하지만 정작 샘플 데이터(25, 150)은 표준 점수가 아님"
   ]
  },
  {
   "cell_type": "code",
   "execution_count": 65,
   "metadata": {},
   "outputs": [
    {
     "name": "stdout",
     "output_type": "stream",
     "text": [
      "표준 점수 sample [-0.23012627 -0.94060693]\n"
     ]
    },
    {
     "data": {
      "image/png": "[encoded data removed]",
      "text/plain": [
       "<Figure size 432x288 with 1 Axes>"
      ]
     },
     "metadata": {
      "needs_background": "light"
     },
     "output_type": "display_data"
    }
   ],
   "source": [
    "# 샘플 데이터를 표준 점수로 변환\n",
    "new = ([25, 150] - mean) / std\n",
    "print(\"표준 점수 sample\",\tnew)\n",
    "\n",
    "plt.scatter(train_scaled[:,\t0],\ttrain_scaled[:,\t1],\tlabel='train_scaled')\n",
    "plt.scatter(new[0],\tnew[1],\tmarker='^'\n",
    ",\tlabel='unknown')\n",
    "plt.xlabel('length')\n",
    "plt.ylabel('weight')\n",
    "plt.legend()\n",
    "plt.show()"
   ]
  },
  {
   "cell_type": "code",
   "execution_count": 66,
   "metadata": {},
   "outputs": [
    {
     "name": "stdout",
     "output_type": "stream",
     "text": [
      "1.0\n",
      "[1.]\n"
     ]
    }
   ],
   "source": [
    "# 표준 점수로 변환한 훈련 데이터로 k-최근접 이웃 모델 훈련\n",
    "\n",
    "#\t표준점수로 변환한 훈련 데이터로 k-NN\t훈련\n",
    "kn.fit(train_scaled,\ttrain_target)\n",
    "#\t테스트 세트를 표준 점수로 변환\n",
    "test_scaled =\t(test_input - mean)\t/\tstd\n",
    "print(kn.score(test_scaled,\ttest_target))\n",
    "#\t표준 점수로 변환된 샘플 데이터를 가지고 예측\n",
    "print(kn.predict([new]))\n",
    "\n",
    "# 결과 – 길이가 25cm, 무게가 150g인 생선을 도미로 인식함"
   ]
  },
  {
   "cell_type": "markdown",
   "metadata": {},
   "source": [
    "### 최종 이웃 찾기 및 산점도"
   ]
  },
  {
   "cell_type": "code",
   "execution_count": 72,
   "metadata": {},
   "outputs": [
    {
     "name": "stdout",
     "output_type": "stream",
     "text": [
      "[[0.2873737  0.7711188  0.89552179 0.91493515 0.95427626]]\n"
     ]
    },
    {
     "data": {
      "image/png": "[encoded data removed]",
      "text/plain": [
       "<Figure size 432x288 with 1 Axes>"
      ]
     },
     "metadata": {
      "needs_background": "light"
     },
     "output_type": "display_data"
    }
   ],
   "source": [
    "#\t표준 점수로 변경된 샘플 데이터의 이웃 찾기 및 산점도\n",
    "distances, indexes = kn.kneighbors([new])\n",
    "print(distances)\n",
    "\n",
    "plt.scatter(train_scaled[:,\t0],\ttrain_scaled[:,\t1],\tlabel='train_scaled')\n",
    "plt.scatter(new[0],\tnew[1],\tmarker='^'\n",
    ",\tlabel='sample')\n",
    "plt.scatter(train_scaled[indexes,\t0],\ttrain_scaled[indexes,\t1],\n",
    "marker='D',\tlabel='neighbors')\n",
    "plt.xlabel('length')\n",
    "plt.ylabel('weight')\n",
    "plt.legend()\n",
    "plt.show()\n",
    "\n",
    "# 샘플 데이터(25cm, 150g)에 가장 가까운 이웃들은 도미"
   ]
  },
  {
   "cell_type": "code",
   "execution_count": null,
   "metadata": {},
   "outputs": [],
   "source": []
  }
 ],
 "metadata": {
  "kernelspec": {
   "display_name": "Python 3.9.12 ('EV_PY39')",
   "language": "python",
   "name": "python3"
  },
  "language_info": {
   "codemirror_mode": {
    "name": "ipython",
    "version": 3
   },
   "file_extension": ".py",
   "mimetype": "text/x-python",
   "name": "python",
   "nbconvert_exporter": "python",
   "pygments_lexer": "ipython3",
   "version": "3.9.12"
  },
  "orig_nbformat": 4,
  "vscode": {
   "interpreter": {
    "hash": "c34f60c4b6508d34c0193a1e5ad16bfc3f81e2e087a9e2f73ef284bcb9806a0b"
   }
  }
 },
 "nbformat": 4,
 "nbformat_minor": 2
}
