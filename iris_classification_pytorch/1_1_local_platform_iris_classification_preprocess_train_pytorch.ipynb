{
 "cells": [
  {
   "cell_type": "markdown",
   "id": "97fe4cb8-a583-424b-b1c8-e45ed01b3db0",
   "metadata": {},
   "source": [
    "# 플랫폼 업로드를 쉽게하기 위한 로컬 개발 코드\n",
    "- T3Q.ai(T3Q.cep + T3Q.dl): 빅데이터/인공지능 통합 플랫폼\n",
    "- 플랫폼 업로드를 쉽게하기 위하여 로컬에서 2개의 파일로 나누어 코드를 개발한다.\n",
    "- 파일 1_1: 전처리와 학습모델을 개발하는 코드, 전처리 객체나 성능이 검증된 학습모델 객체를 저장한다.\n",
    "- 파일 1_2: 학습모델을 통해 추론(예측)을 개발하는 코드, 전처리 객체나 학습모델 객체를 불러와서 추론을 수행한다. \n",
    "\n",
    "- 파일 1_1(파일명): 1_1_local_platform_iris_classification_preprocess_train_pytorch.ipynb\n",
    "- 파일 1_2(파일명): 1_2_local_platform_iris_classification_inference_pytorch.ipynb\n",
    "\n",
    "### 전처리 객체 또는 학습모델 객체\n",
    "- 전처리 객체나 학습모델 객쳬는 meta_data 폴더 아래에 저장한다.\n",
    "\n",
    "### 데이터 세트(학습 데이터/테스트 데이터)\n",
    "- 학습과 테스트에 사용되는 데이터를 나누어 관리한다.\n",
    "- 학습 데이터: dataset 폴더 아래에 저장하거나 dataset.zip 파일 형태로 저장한다.\n",
    "- 테스트 데이터: test_dataset 폴더 아래에 저장하거나 test_dataset.zip 파일 형태로 저장한다.\n",
    "\n",
    "### 로컬 개발 워크플로우(workflow)  \n",
    "- 로컬 개발 워크플로우를 다음의 4단계로 분리한다.\n",
    "\n",
    "1. **데이터 세트 준비(Data Setup)**\n",
    "- 로컬 저장소에서 전처리 및 학습에 필요한 학습 데이터 세트를 준비한다.\n",
    "\n",
    "2. **데이터 전처리(Data Preprocessing)**\n",
    "- 데이터 세트의 분석 및 정규화(Normalization)등의 전처리를 수행한다.\n",
    "- 데이터를 모델 학습에 사용할 수 있도록 가공한다.\n",
    "- 추론과정에서 필요한 경우, 데이터 전처리에 사용된 객체를 meta_data 폴더 아래에 저장한다.\n",
    "\n",
    "3. **학습 모델 훈련(Train Model)**\n",
    "- 데이터를 훈련에 사용할 수 있도록 가공한 뒤에 학습 모델을 구성한다. \n",
    "- 학습 모델을 준비된 데이터 세트로 훈련시킨다.\n",
    "- 정확도(Accuracy)나 손실(Loss)등 학습 모델의 성능을 검증한다.\n",
    "- 학습 모델의 성능 검증 후, 학습 모델을 배포한다.\n",
    "- 배포할 학습 모델을 meta_data 폴더 아래에 저장한다.\n",
    "\n",
    "4. **추론(Inference)**\n",
    "- 저장된 전처리 객체나 학습 모델 객체를 준비한다.\n",
    "- 추론에 필요한 테스트 데이터 세트를 준비한다.\n",
    "- 배포된 학습 모델을 통해 테스트 데이터에 대한 추론을 진행한다. "
   ]
  },
  {
   "cell_type": "code",
   "execution_count": 1,
   "id": "81e61d73",
   "metadata": {},
   "outputs": [
    {
     "name": "stderr",
     "output_type": "stream",
     "text": [
      "C:\\Users\\USER\\anaconda3\\envs\\tf_gpu\\lib\\site-packages\\tqdm\\auto.py:22: TqdmWarning: IProgress not found. Please update jupyter and ipywidgets. See https://ipywidgets.readthedocs.io/en/stable/user_install.html\n",
      "  from .autonotebook import tqdm as notebook_tqdm\n"
     ]
    }
   ],
   "source": [
    "#Imports\n",
    "import numpy as np\n",
    "import pandas as pd\n",
    "import matplotlib.pyplot as plt\n",
    "\n",
    "import torch\n",
    "import torch.nn as nn\n",
    "import torch.nn.functional as F\n",
    "from torch.autograd import Variable\n",
    "\n",
    "from sklearn.model_selection import train_test_split\n",
    "from sklearn.metrics import accuracy_score, precision_score, recall_score"
   ]
  },
  {
   "cell_type": "markdown",
   "id": "b25c40c1",
   "metadata": {},
   "source": [
    "## **1. 데이터 세트 준비(Data Setup)**"
   ]
  },
  {
   "cell_type": "code",
   "execution_count": 2,
   "id": "2e680925",
   "metadata": {},
   "outputs": [],
   "source": [
    "# IRIS dataset를 불러온다.\n",
    "dataset = pd.read_csv('dataset/iris.csv')\n",
    "\n",
    "# Species을 numerics로 변환한다.\n",
    "dataset.loc[dataset.iloc[:,-1]=='Iris-setosa', dataset.columns[-1]] = 0\n",
    "dataset.loc[dataset.iloc[:,-1]=='Iris-versicolor', dataset.columns[-1]] = 1\n",
    "dataset.loc[dataset.iloc[:,-1]=='Iris-virginica', dataset.columns[-1]] = 2"
   ]
  },
  {
   "cell_type": "markdown",
   "id": "33e89e88-81ab-488f-901d-dc72270ce359",
   "metadata": {},
   "source": [
    "## **2. 데이터 전처리(Data Preprocessing)**"
   ]
  },
  {
   "cell_type": "code",
   "execution_count": 3,
   "id": "24ef6681",
   "metadata": {},
   "outputs": [],
   "source": [
    "train_X, test_X, train_y, test_y = train_test_split(dataset[dataset.columns[0:4]].values, dataset.iloc[:,-1].values, test_size=0.2)"
   ]
  },
  {
   "cell_type": "code",
   "execution_count": 4,
   "id": "f7c28da9",
   "metadata": {},
   "outputs": [],
   "source": [
    "# Pytorch에서 수학적 연산을 가속화하기 위해 tensor data를 사용한다.\n",
    "\n",
    "train_X = Variable(torch.Tensor(train_X).float())\n",
    "test_X = Variable(torch.Tensor(test_X).float())\n",
    "\n",
    "train_y = np.array(train_y, dtype=np.int64)\n",
    "test_y = np.array(test_y, dtype=np.int64)\n",
    "train_y = torch.from_numpy(train_y)\n",
    "test_y = torch.from_numpy(test_y)"
   ]
  },
  {
   "cell_type": "markdown",
   "id": "b5d64643",
   "metadata": {},
   "source": [
    "## 3. 신경망 구축하기"
   ]
  },
  {
   "cell_type": "code",
   "execution_count": 5,
   "id": "2763cc79",
   "metadata": {},
   "outputs": [],
   "source": [
    "class Net(nn.Module):\n",
    "    # define nn\n",
    "    def __init__(self):\n",
    "        super(Net, self).__init__()\n",
    "        # an affine operation: y = Wx + b\n",
    "        self.fc1 = nn.Linear(4, 32)\n",
    "        self.fc2 = nn.Linear(32, 32)\n",
    "        self.fc3 = nn.Linear(32, 3)\n",
    "        self.softmax = nn.Softmax(dim=1)\n",
    "\n",
    "    def forward(self, X):\n",
    "        X = F.relu(self.fc1(X))\n",
    "        X = self.fc2(X)\n",
    "        X = self.fc3(X)\n",
    "        X = self.softmax(X)\n",
    "\n",
    "        return X    "
   ]
  },
  {
   "cell_type": "code",
   "execution_count": 6,
   "id": "cffe27ad",
   "metadata": {},
   "outputs": [
    {
     "name": "stdout",
     "output_type": "stream",
     "text": [
      "Net(\n",
      "  (fc1): Linear(in_features=4, out_features=32, bias=True)\n",
      "  (fc2): Linear(in_features=32, out_features=32, bias=True)\n",
      "  (fc3): Linear(in_features=32, out_features=3, bias=True)\n",
      "  (softmax): Softmax(dim=1)\n",
      ")\n"
     ]
    }
   ],
   "source": [
    "# Net 클래스를 인스턴스화하고 model 객체를 생성합니다.\n",
    "# torch.nn.Module의 하위 클래스는 생성한 레이어와 해당 모양 및 매개변수를 보고합니다.\n",
    "\n",
    "model = Net()\n",
    "print(model)"
   ]
  },
  {
   "cell_type": "markdown",
   "id": "94526f53",
   "metadata": {},
   "source": [
    "### 4. Optimizer 설정"
   ]
  },
  {
   "cell_type": "code",
   "execution_count": 7,
   "id": "965e29be",
   "metadata": {
    "scrolled": true
   },
   "outputs": [],
   "source": [
    "# loss function: 모델의 예측이 이상적인 출력에서 얼마나 멀리 떨어져 있는지 측정\n",
    "# optimizer: 학습을 주도(확률적 경사 하강법)\n",
    "#            학습률, 운동량 외에도 모든 학습 가중치 모음인 net.parameters()도 전달\n",
    "\n",
    "criterion = nn.CrossEntropyLoss()# cross entropy loss\n",
    "optimizer = torch.optim.Adam(model.parameters(), lr=0.01)"
   ]
  },
  {
   "cell_type": "markdown",
   "id": "e612113e",
   "metadata": {},
   "source": [
    "### 5. 학습 모델 훈련(Train Model)"
   ]
  },
  {
   "cell_type": "code",
   "execution_count": 8,
   "id": "a22e293c",
   "metadata": {},
   "outputs": [
    {
     "name": "stdout",
     "output_type": "stream",
     "text": [
      "number of epoch 10 loss tensor(0.8184)\n",
      "number of epoch 20 loss tensor(0.6311)\n",
      "number of epoch 30 loss tensor(0.5842)\n",
      "number of epoch 40 loss tensor(0.5770)\n",
      "number of epoch 50 loss tensor(0.5747)\n",
      "number of epoch 60 loss tensor(0.5743)\n",
      "number of epoch 70 loss tensor(0.5732)\n",
      "number of epoch 80 loss tensor(0.5724)\n",
      "number of epoch 90 loss tensor(0.5720)\n",
      "number of epoch 100 loss tensor(0.5716)\n"
     ]
    }
   ],
   "source": [
    "# loss function과 optimizer를 훈련 루프에 통합\n",
    "\n",
    "epochs = 100\n",
    "for epoch in range(1, epochs+1):\n",
    "    optimizer.zero_grad()\n",
    "    output = model(train_X)\n",
    "    loss = criterion(output, train_y)\n",
    "    loss.backward()\n",
    "    optimizer.step()\n",
    "\n",
    "    if epoch % 10 == 0:\n",
    "        print('number of epoch', epoch, 'loss', loss.data)"
   ]
  },
  {
   "cell_type": "markdown",
   "id": "bda549bc",
   "metadata": {},
   "source": [
    "### 학습 모델 저장"
   ]
  },
  {
   "cell_type": "code",
   "execution_count": 9,
   "id": "bbb7e487",
   "metadata": {},
   "outputs": [],
   "source": [
    "# 경로 지정\n",
    "# Pytorch에서 모델을 저장할 때, 확장자로 .pt나 .pth를 사용한다.\n",
    "PATH = \"iris_model.pth\"\n",
    "\n",
    "# 저장하기\n",
    "torch.save(model.state_dict(), PATH)"
   ]
  },
  {
   "cell_type": "code",
   "execution_count": null,
   "id": "0ce01cfb",
   "metadata": {},
   "outputs": [],
   "source": []
  }
 ],
 "metadata": {
  "kernelspec": {
   "display_name": "Python 3 (ipykernel)",
   "language": "python",
   "name": "python3"
  },
  "language_info": {
   "codemirror_mode": {
    "name": "ipython",
    "version": 3
   },
   "file_extension": ".py",
   "mimetype": "text/x-python",
   "name": "python",
   "nbconvert_exporter": "python",
   "pygments_lexer": "ipython3",
   "version": "3.9.12"
  },
  "vscode": {
   "interpreter": {
    "hash": "96871778faee9c09b2e28625a92105168b2cbbfe426fa89ee6fcb164ada35bcf"
   }
  }
 },
 "nbformat": 4,
 "nbformat_minor": 5
}
