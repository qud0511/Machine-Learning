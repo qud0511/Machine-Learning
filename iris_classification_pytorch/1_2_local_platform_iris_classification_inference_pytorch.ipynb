{
 "cells": [
  {
   "cell_type": "markdown",
   "id": "cd94c8a0-04b0-4783-926c-65f85aef162d",
   "metadata": {},
   "source": [
    "# 플랫폼 업로드를 쉽게하기 위한 로컬 개발 코드\n",
    "- T3Q.ai(T3Q.cep + T3Q.dl): 빅데이터/인공지능 통합 플랫폼\n",
    "- 플랫폼 업로드를 쉽게하기 위하여 로컬에서 2개의 파일로 나누어 코드를 개발한다.\n",
    "- 파일 1_1: 전처리와 학습모델을 개발하는 코드, 전처리 객체나 성능이 검증된 학습모델 객체를 저장한다.\n",
    "- 파일 1_2: 학습모델을 통해 추론(예측)을 개발하는 코드, 전처리 객체나 학습모델 객체를 불러와서 추론을 수행한다. \n",
    "\n",
    "- 파일 1_1(파일명): 1_1_local_platform_iris_classification_preprocess_train_pytorch.ipynb\n",
    "- 파일 1_2(파일명): 1_2_local_platform_iris_classification_inference_pytorch.ipynb\n",
    "\n",
    "### 전처리 객체 또는 학습모델 객체\n",
    "- 전처리 객체나 학습모델 객쳬는 meta_data 폴더 아래에 저장한다.\n",
    "\n",
    "### 데이터 세트(학습 데이터/테스트 데이터)\n",
    "- 학습과 테스트에 사용되는 데이터를 나누어 관리한다.\n",
    "- 학습 데이터: dataset 폴더 아래에 저장하거나 dataset.zip 파일 형태로 저장한다.\n",
    "- 테스트 데이터: test_dataset 폴더 아래에 저장하거나 test_dataset.zip 파일 형태로 저장한다.\n",
    "\n",
    "### 로컬 개발 워크플로우(workflow)  \n",
    "- 로컬 개발 워크플로우를 다음의 4단계로 분리한다.\n",
    "\n",
    "1. **데이터 세트 준비(Data Setup)**\n",
    "- 로컬 저장소에서 전처리 및 학습에 필요한 학습 데이터 세트를 준비한다.\n",
    "\n",
    "2. **데이터 전처리(Data Preprocessing)**\n",
    "- 데이터 세트의 분석 및 정규화(Normalization)등의 전처리를 수행한다.\n",
    "- 데이터를 모델 학습에 사용할 수 있도록 가공한다.\n",
    "- 추론과정에서 필요한 경우, 데이터 전처리에 사용된 객체를 meta_data 폴더 아래에 저장한다.\n",
    "\n",
    "3. **학습 모델 훈련(Train Model)**\n",
    "- 데이터를 훈련에 사용할 수 있도록 가공한 뒤에 학습 모델을 구성한다. \n",
    "- 학습 모델을 준비된 데이터 세트로 훈련시킨다.\n",
    "- 정확도(Accuracy)나 손실(Loss)등 학습 모델의 성능을 검증한다.\n",
    "- 학습 모델의 성능 검증 후, 학습 모델을 배포한다.\n",
    "- 배포할 학습 모델을 meta_data 폴더 아래에 저장한다.\n",
    "\n",
    "4. **추론(Inference)**\n",
    "- 저장된 전처리 객체나 학습 모델 객체를 준비한다.\n",
    "- 추론에 필요한 테스트 데이터 세트를 준비한다.\n",
    "- 배포된 학습 모델을 통해 테스트 데이터에 대한 추론을 진행한다. "
   ]
  },
  {
   "cell_type": "code",
   "execution_count": 1,
   "id": "71737557",
   "metadata": {},
   "outputs": [
    {
     "name": "stderr",
     "output_type": "stream",
     "text": [
      "C:\\Users\\USER\\anaconda3\\envs\\tf_gpu\\lib\\site-packages\\tqdm\\auto.py:22: TqdmWarning: IProgress not found. Please update jupyter and ipywidgets. See https://ipywidgets.readthedocs.io/en/stable/user_install.html\n",
      "  from .autonotebook import tqdm as notebook_tqdm\n"
     ]
    }
   ],
   "source": [
    "# import\n",
    "import torch\n",
    "import torch.nn as nn\n",
    "import torch.nn.functional as F\n",
    "from torch.autograd import Variable\n",
    "\n",
    "import pandas as pd\n",
    "import numpy as np\n",
    "from sklearn.model_selection import train_test_split\n",
    "from sklearn.metrics import accuracy_score"
   ]
  },
  {
   "cell_type": "code",
   "execution_count": 2,
   "id": "4e94d045",
   "metadata": {},
   "outputs": [],
   "source": [
    "# 저장한 모델을 불러오기 위해 Net 클래스를 인스턴스화하고 model 객체를 생성합니다.\n",
    "\n",
    "class Net(nn.Module):\n",
    "    # define nn\n",
    "    def __init__(self):\n",
    "        super(Net, self).__init__()\n",
    "        # an affine operation: y = Wx + b\n",
    "        self.fc1 = nn.Linear(4, 32)\n",
    "        self.fc2 = nn.Linear(32, 32)\n",
    "        self.fc3 = nn.Linear(32, 3)\n",
    "        self.softmax = nn.Softmax(dim=1)\n",
    "\n",
    "    def forward(self, X):\n",
    "        X = F.relu(self.fc1(X))\n",
    "        X = self.fc2(X)\n",
    "        X = self.fc3(X)\n",
    "        X = self.softmax(X)\n",
    "        return X\n",
    "        \n",
    "model = Net()"
   ]
  },
  {
   "cell_type": "code",
   "execution_count": 3,
   "id": "7102b1f0",
   "metadata": {},
   "outputs": [],
   "source": [
    "# IRIS dataset를 불러온다.\n",
    "dataset = pd.read_csv('dataset/iris.csv')\n",
    "\n",
    "# Species을 numerics로 변환한다.\n",
    "dataset.loc[dataset.iloc[:,-1]=='Iris-setosa', dataset.columns[-1]] = 0\n",
    "dataset.loc[dataset.iloc[:,-1]=='Iris-versicolor', dataset.columns[-1]] = 1\n",
    "dataset.loc[dataset.iloc[:,-1]=='Iris-virginica', dataset.columns[-1]] = 2\n",
    "\n",
    "train_X, test_X, train_y, test_y = train_test_split(dataset[dataset.columns[0:4]].values, dataset.iloc[:,-1].values, test_size=0.2)\n",
    "train_X = Variable(torch.Tensor(train_X).float())\n",
    "test_X = Variable(torch.Tensor(test_X).float())"
   ]
  },
  {
   "cell_type": "code",
   "execution_count": 4,
   "id": "71e061ec",
   "metadata": {},
   "outputs": [
    {
     "data": {
      "text/plain": [
       "Net(\n",
       "  (fc1): Linear(in_features=4, out_features=32, bias=True)\n",
       "  (fc2): Linear(in_features=32, out_features=32, bias=True)\n",
       "  (fc3): Linear(in_features=32, out_features=3, bias=True)\n",
       "  (softmax): Softmax(dim=1)\n",
       ")"
      ]
     },
     "execution_count": 4,
     "metadata": {},
     "output_type": "execute_result"
    }
   ],
   "source": [
    "# 학습 모델 준비\n",
    "PATH = \"./iris_model.pth\"\n",
    "model.load_state_dict(torch.load(PATH))\n",
    "model.eval()"
   ]
  },
  {
   "cell_type": "markdown",
   "id": "d0da5061",
   "metadata": {},
   "source": [
    "### 6. 추론(Inference)"
   ]
  },
  {
   "cell_type": "code",
   "execution_count": 5,
   "id": "204964cb",
   "metadata": {
    "scrolled": true
   },
   "outputs": [],
   "source": [
    "# test_X를 model에 통과시켜 tensor(Iris-setosa, Iris-versicolor, Iris-virginica)로 이루어진 튜플 predict_out를 출력한다.\n",
    "# torch.max() 함수를 통해, predict_out의 튜플들 중에서 가장 높은 숫자로 이루어진 1차원 tensor 배열 predict_y를 출력한다.\n",
    "\n",
    "predict_out = model(test_X)\n",
    "_, predict_y = torch.max(predict_out, 1)"
   ]
  },
  {
   "cell_type": "code",
   "execution_count": 6,
   "id": "3223ce14",
   "metadata": {},
   "outputs": [],
   "source": [
    "# tensor(0, 1, 2)를 Iris-setosa, Iris-versicolor, Iris-virginica로 변환해준다.\n",
    "# 예상값들을 리스트 prediction에 넣어 저장한다.\n",
    "\n",
    "prediction = []\n",
    "for data in predict_y:\n",
    "    if data == 0:\n",
    "        prediction.append(\"Iris-setosa\")\n",
    "    elif data == 1:\n",
    "        prediction.append(\"Iris-versicolor\")\n",
    "    elif data == 2:\n",
    "        prediction.append(\"Iris-virginica\")"
   ]
  },
  {
   "cell_type": "code",
   "execution_count": 7,
   "id": "e222bd14",
   "metadata": {},
   "outputs": [
    {
     "name": "stdout",
     "output_type": "stream",
     "text": [
      "prediction accuracy: \t 1.0\n",
      "['Iris-setosa', 'Iris-versicolor', 'Iris-versicolor', 'Iris-virginica', 'Iris-setosa', 'Iris-setosa', 'Iris-versicolor', 'Iris-virginica', 'Iris-setosa', 'Iris-setosa', 'Iris-versicolor', 'Iris-versicolor', 'Iris-virginica', 'Iris-setosa', 'Iris-versicolor', 'Iris-virginica', 'Iris-setosa', 'Iris-virginica', 'Iris-setosa', 'Iris-setosa', 'Iris-virginica', 'Iris-virginica', 'Iris-versicolor', 'Iris-versicolor', 'Iris-versicolor', 'Iris-setosa', 'Iris-virginica', 'Iris-setosa', 'Iris-versicolor', 'Iris-setosa']\n"
     ]
    }
   ],
   "source": [
    "# 실제값(test_y)과 예상값(predict_y)의 Accuracy를 계산하고 prediction에 저장된 리스트를 출력한다.\n",
    "\n",
    "print('prediction accuracy: \\t', accuracy_score(test_y.tolist(), predict_y))\n",
    "print(prediction)"
   ]
  },
  {
   "cell_type": "code",
   "execution_count": null,
   "id": "a5712f12",
   "metadata": {},
   "outputs": [],
   "source": []
  }
 ],
 "metadata": {
  "kernelspec": {
   "display_name": "Python 3 (ipykernel)",
   "language": "python",
   "name": "python3"
  },
  "language_info": {
   "codemirror_mode": {
    "name": "ipython",
    "version": 3
   },
   "file_extension": ".py",
   "mimetype": "text/x-python",
   "name": "python",
   "nbconvert_exporter": "python",
   "pygments_lexer": "ipython3",
   "version": "3.9.12"
  },
  "vscode": {
   "interpreter": {
    "hash": "96871778faee9c09b2e28625a92105168b2cbbfe426fa89ee6fcb164ada35bcf"
   }
  }
 },
 "nbformat": 4,
 "nbformat_minor": 5
}
