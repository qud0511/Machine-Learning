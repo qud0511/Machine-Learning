{
 "cells": [
  {
   "cell_type": "markdown",
   "id": "97fe4cb8-a583-424b-b1c8-e45ed01b3db0",
   "metadata": {},
   "source": [
    "# 로컬 개발 코드\n",
    "- 로컬에서 주피터 노트북(Jupyter Notebook), 주피터 랩(JupyterLab) 또는 파이썬(Python)을 이용한다. \n",
    "- 사이킷 런(scikit-learn), 텐서플로우(tensorflow), 파이토치(pytorch)를 사용하여 딥러닝 프로그램을 개발한다.\n",
    "- 파일명: 0_local_iris_classification.ipynb\n",
    "\n",
    "### 로컬 개발 워크플로우(workflow)  \n",
    "- 로컬 개발 워크플로우를 다음의 4단계로 분리한다.\n",
    "\n",
    "1. **데이터 세트 준비(Data Setup)**\n",
    "- 로컬 저장소에서 전처리 및 학습에 필요한 학습 데이터 세트를 준비한다.\n",
    "\n",
    "2. **데이터 전처리(Data Preprocessing)**\n",
    "- 데이터 세트의 분석 및 정규화(Normalization)등의 전처리를 수행한다.\n",
    "- 데이터를 모델 학습에 사용할 수 있도록 가공한다.\n",
    "- 추론과정에서 필요한 경우, 데이터 전처리에 사용된 객체를 meta_data 폴더 아래에 저장한다.\n",
    "\n",
    "3. **학습 모델 훈련(Train Model)**\n",
    "- 데이터를 훈련에 사용할 수 있도록 가공한 뒤에 학습 모델을 구성한다. \n",
    "- 학습 모델을 준비된 데이터 세트로 훈련시킨다.\n",
    "- 정확도(Accuracy)나 손실(Loss)등 학습 모델의 성능을 검증한다.\n",
    "- 학습 모델의 성능 검증 후, 학습 모델을 배포한다.\n",
    "- 배포할 학습 모델을 meta_data 폴더 아래에 저장한다.\n",
    "\n",
    "4. **추론(Inference)**\n",
    "- 저장된 전처리 객체나 학습 모델 객체를 준비한다.\n",
    "- 추론에 필요한 테스트 데이터 세트를 준비한다.\n",
    "- 배포된 학습 모델을 통해 테스트 데이터에 대한 추론을 진행한다. "
   ]
  },
  {
   "cell_type": "code",
   "execution_count": null,
   "id": "d0286830",
   "metadata": {},
   "outputs": [],
   "source": []
  },
  {
   "cell_type": "markdown",
   "id": "2b9e8d37-1035-4171-84d3-ba9e3bcc9bf9",
   "metadata": {},
   "source": [
    "# 아이리스 분류(Iris Classification)"
   ]
  },
  {
   "cell_type": "code",
   "execution_count": null,
   "id": "2c2bbfd8-aa1b-453a-9954-8e0ba1b3734f",
   "metadata": {},
   "outputs": [],
   "source": []
  },
  {
   "cell_type": "markdown",
   "id": "caa5132e-f97c-495c-82dc-e3589e2f7866",
   "metadata": {},
   "source": [
    "### Pytorch를 이용한 아이리스 품종 분류 워크플로우(workflow)\n",
    "- 아이리스 데이터 파일(iris.csv) 얻기\n",
    "- 학습을 위한 데이터 전처리(훈련 데이터, 테스트 데이터)\n",
    "- SVM을 이용한 모델 생성 및 훈련\n",
    "- 아이리스 품종 추론\n",
    "\n",
    "### 아이리스 데이터 세트\n",
    "- 아이리스 데이터 세트에는 150개의 데이터 세트가 저장되어 있다.\n",
    "- 아이리스 데이터 세트는 꽃받침 길이, 꽃받침 폭, 꽃잎 길이, 꽃잎 폭 총 5개의 컬럼으로 구성되어 있다.\n"
   ]
  },
  {
   "cell_type": "code",
   "execution_count": null,
   "id": "34f35e3a",
   "metadata": {},
   "outputs": [],
   "source": []
  },
  {
   "cell_type": "code",
   "execution_count": 1,
   "id": "81e61d73",
   "metadata": {},
   "outputs": [
    {
     "name": "stderr",
     "output_type": "stream",
     "text": [
      "c:\\Users\\USER\\anaconda3\\envs\\T3Q_DL\\lib\\site-packages\\tqdm\\auto.py:22: TqdmWarning: IProgress not found. Please update jupyter and ipywidgets. See https://ipywidgets.readthedocs.io/en/stable/user_install.html\n",
      "  from .autonotebook import tqdm as notebook_tqdm\n"
     ]
    }
   ],
   "source": [
    "#Imports\n",
    "import numpy as np\n",
    "import pandas as pd\n",
    "import matplotlib.pyplot as plt\n",
    "\n",
    "import torch\n",
    "import torch.nn as nn\n",
    "import torch.nn.functional as F\n",
    "from torch.autograd import Variable\n",
    "\n",
    "from sklearn.model_selection import train_test_split\n",
    "from sklearn.metrics import accuracy_score"
   ]
  },
  {
   "cell_type": "markdown",
   "id": "53ee289e",
   "metadata": {},
   "source": [
    "## **1. 데이터 세트 준비(Data Setup)**"
   ]
  },
  {
   "cell_type": "code",
   "execution_count": 2,
   "id": "2e680925",
   "metadata": {},
   "outputs": [],
   "source": [
    "# IRIS dataset를 불러온다.\n",
    "dataset = pd.read_csv('dataset/iris.csv')\n",
    "\n",
    "# Species을 numerics로 변환한다.\n",
    "dataset.loc[dataset.iloc[:,-1]=='Iris-setosa', dataset.columns[-1]] = 0\n",
    "dataset.loc[dataset.iloc[:,-1]=='Iris-versicolor', dataset.columns[-1]] = 1\n",
    "dataset.loc[dataset.iloc[:,-1]=='Iris-virginica', dataset.columns[-1]] = 2"
   ]
  },
  {
   "cell_type": "markdown",
   "id": "33e89e88-81ab-488f-901d-dc72270ce359",
   "metadata": {},
   "source": [
    "## **2. 데이터 전처리(Data Preprocessing)**"
   ]
  },
  {
   "cell_type": "code",
   "execution_count": 3,
   "id": "24ef6681",
   "metadata": {},
   "outputs": [],
   "source": [
    "train_X, test_X, train_y, test_y = train_test_split(dataset[dataset.columns[0:4]].values, dataset.iloc[:,-1].values, test_size=0.2)"
   ]
  },
  {
   "cell_type": "code",
   "execution_count": 4,
   "id": "f7c28da9",
   "metadata": {},
   "outputs": [],
   "source": [
    "# Pytorch에서 수학적 연산을 가속화하기 위해 tensor data를 사용한다.\n",
    "\n",
    "train_X = Variable(torch.Tensor(train_X).float())\n",
    "test_X = Variable(torch.Tensor(test_X).float())\n",
    "\n",
    "train_y = np.array(train_y, dtype=np.int64)\n",
    "test_y = np.array(test_y, dtype=np.int64)\n",
    "train_y = torch.from_numpy(train_y)\n",
    "test_y = torch.from_numpy(test_y)"
   ]
  },
  {
   "cell_type": "markdown",
   "id": "065f1516",
   "metadata": {},
   "source": [
    "## 3. 신경망 구축(Building a Neural Network)"
   ]
  },
  {
   "cell_type": "code",
   "execution_count": 5,
   "id": "2763cc79",
   "metadata": {},
   "outputs": [],
   "source": [
    "class Net(nn.Module):\n",
    "    # define nn\n",
    "    def __init__(self):\n",
    "        super(Net, self).__init__()\n",
    "        # an affine operation: y = Wx + b\n",
    "        self.fc1 = nn.Linear(4, 32)\n",
    "        self.fc2 = nn.Linear(32, 32)\n",
    "        self.fc3 = nn.Linear(32, 3)\n",
    "        self.softmax = nn.Softmax(dim=1)\n",
    "\n",
    "    def forward(self, X):\n",
    "        X = F.relu(self.fc1(X))\n",
    "        X = self.fc2(X)\n",
    "        X = self.fc3(X)\n",
    "        X = self.softmax(X)\n",
    "\n",
    "        return X    "
   ]
  },
  {
   "cell_type": "code",
   "execution_count": 6,
   "id": "cffe27ad",
   "metadata": {},
   "outputs": [
    {
     "name": "stdout",
     "output_type": "stream",
     "text": [
      "Net(\n",
      "  (fc1): Linear(in_features=4, out_features=100, bias=True)\n",
      "  (fc2): Linear(in_features=100, out_features=100, bias=True)\n",
      "  (fc3): Linear(in_features=100, out_features=3, bias=True)\n",
      "  (softmax): Softmax(dim=1)\n",
      ")\n"
     ]
    }
   ],
   "source": [
    "# Net 클래스를 인스턴스화하고 model 객체를 생성합니다.\n",
    "# torch.nn.Module의 하위 클래스는 생성한 레이어와 해당 모양 및 매개변수를 보고합니다.\n",
    "\n",
    "model = Net()\n",
    "print(model)"
   ]
  },
  {
   "cell_type": "markdown",
   "id": "f52653b1",
   "metadata": {},
   "source": [
    "### 4. Optimizer 설정"
   ]
  },
  {
   "cell_type": "code",
   "execution_count": 7,
   "id": "965e29be",
   "metadata": {
    "scrolled": true
   },
   "outputs": [],
   "source": [
    "# loss function: 모델의 예측이 이상적인 출력에서 얼마나 멀리 떨어져 있는지 측정\n",
    "# optimizer: 학습을 주도(확률적 경사 하강법)\n",
    "#            학습률, 운동량 외에도 모든 학습 가중치 모음인 net.parameters()도 전달\n",
    "\n",
    "criterion = nn.CrossEntropyLoss()# cross entropy loss\n",
    "optimizer = torch.optim.Adam(model.parameters(), lr=0.01)"
   ]
  },
  {
   "cell_type": "markdown",
   "id": "7562acc3",
   "metadata": {},
   "source": [
    "### 5. 학습 모델 훈련(Train Model)"
   ]
  },
  {
   "cell_type": "code",
   "execution_count": 8,
   "id": "1aedfcaf",
   "metadata": {},
   "outputs": [
    {
     "name": "stdout",
     "output_type": "stream",
     "text": [
      "number of epoch 10 loss tensor(0.8627)\n",
      "number of epoch 20 loss tensor(0.6934)\n",
      "number of epoch 30 loss tensor(0.5987)\n",
      "number of epoch 40 loss tensor(0.5811)\n",
      "number of epoch 50 loss tensor(0.5796)\n",
      "number of epoch 60 loss tensor(0.5749)\n",
      "number of epoch 70 loss tensor(0.5723)\n",
      "number of epoch 80 loss tensor(0.5705)\n",
      "number of epoch 90 loss tensor(0.5691)\n",
      "number of epoch 100 loss tensor(0.5682)\n"
     ]
    }
   ],
   "source": [
    "# loss function과 optimizer를 훈련 루프에 통합\n",
    "\n",
    "epochs = 100\n",
    "for epoch in range(1, epochs+1):\n",
    "    optimizer.zero_grad()\n",
    "    output = model(train_X)\n",
    "    loss = criterion(output, train_y)\n",
    "    loss.backward()\n",
    "    optimizer.step()\n",
    "\n",
    "    if epoch % 10 == 0:\n",
    "        print('number of epoch', epoch, 'loss', loss.data)"
   ]
  },
  {
   "cell_type": "markdown",
   "id": "c96d0fe6",
   "metadata": {},
   "source": [
    "### 6. 추론(Inference)"
   ]
  },
  {
   "cell_type": "code",
   "execution_count": 9,
   "id": "204964cb",
   "metadata": {
    "scrolled": true
   },
   "outputs": [],
   "source": [
    "# test_X를 model에 통과시켜 tensor(Iris-setosa, Iris-versicolor, Iris-virginica)로 이루어진 튜플 predict_out를 출력한다.\n",
    "# torch.max() 함수를 통해, predict_out의 튜플들 중에서 가장 높은 숫자로 이루어진 1차원 tensor 배열 predict_y를 출력한다.\n",
    "\n",
    "predict_out = model(test_X)\n",
    "_, predict_y = torch.max(predict_out, 1)"
   ]
  },
  {
   "cell_type": "code",
   "execution_count": 10,
   "id": "613a1e60",
   "metadata": {},
   "outputs": [],
   "source": [
    "# tensor(0, 1, 2)를 Iris-setosa, Iris-versicolor, Iris-virginica로 변환해준다.\n",
    "# 예상값들을 리스트 prediction에 넣어 저장한다.\n",
    "prediction = []\n",
    "\n",
    "for data in predict_y:\n",
    "    if data == 0:\n",
    "        prediction.append(\"Iris-setosa\")\n",
    "    elif data == 1:\n",
    "        prediction.append(\"Iris-versicolor\")\n",
    "    else:\n",
    "        prediction.append(\"Iris-virginica\")"
   ]
  },
  {
   "cell_type": "code",
   "execution_count": 11,
   "id": "e222bd14",
   "metadata": {},
   "outputs": [
    {
     "name": "stdout",
     "output_type": "stream",
     "text": [
      "prediction accuracy: \t 0.9666666666666667\n",
      "['Iris-versicolor', 'Iris-virginica', 'Iris-setosa', 'Iris-setosa', 'Iris-versicolor', 'Iris-setosa', 'Iris-setosa', 'Iris-setosa', 'Iris-versicolor', 'Iris-setosa', 'Iris-virginica', 'Iris-versicolor', 'Iris-virginica', 'Iris-setosa', 'Iris-virginica', 'Iris-virginica', 'Iris-versicolor', 'Iris-virginica', 'Iris-virginica', 'Iris-setosa', 'Iris-setosa', 'Iris-versicolor', 'Iris-virginica', 'Iris-virginica', 'Iris-setosa', 'Iris-virginica', 'Iris-versicolor', 'Iris-virginica', 'Iris-setosa', 'Iris-virginica']\n"
     ]
    }
   ],
   "source": [
    "# 실제값(test_y)과 예상값(predict_y)의 Accuracy를 계산하고 prediction에 저장된 리스트를 출력한다.\n",
    "\n",
    "print('prediction accuracy: \\t', accuracy_score(test_y.data, predict_y.data))\n",
    "print(prediction)"
   ]
  },
  {
   "cell_type": "code",
   "execution_count": null,
   "id": "c22c9c1a",
   "metadata": {},
   "outputs": [],
   "source": []
  }
 ],
 "metadata": {
  "kernelspec": {
   "display_name": "Python 3 (ipykernel)",
   "language": "python",
   "name": "python3"
  },
  "language_info": {
   "codemirror_mode": {
    "name": "ipython",
    "version": 3
   },
   "file_extension": ".py",
   "mimetype": "text/x-python",
   "name": "python",
   "nbconvert_exporter": "python",
   "pygments_lexer": "ipython3",
   "version": "3.9.12"
  },
  "vscode": {
   "interpreter": {
    "hash": "96871778faee9c09b2e28625a92105168b2cbbfe426fa89ee6fcb164ada35bcf"
   }
  }
 },
 "nbformat": 4,
 "nbformat_minor": 5
}
