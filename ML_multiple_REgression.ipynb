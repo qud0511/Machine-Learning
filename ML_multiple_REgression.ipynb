{
 "cells": [
  {
   "cell_type": "markdown",
   "metadata": {},
   "source": [
    "## 다중 회귀 (Multiple Regression)\n",
    "\n",
    "- 다중 회귀</br>\n",
    "• 여러 ***특성***을 사용한 선형 회귀</br>\n",
    "– 길이, 높이, 두께 사용</br>\n",
    "– 다양한 특성의 조합을 생성</br>\n",
    "\n",
    "- PolynomialFeatures 클래스 사용</br>\n",
    "\n",
    "- 특성 공학 (Feature\tengineering)</br>\n",
    "• 기존의 특성을 사용하여 새로운 특성을 뽑아내는 작업"
   ]
  },
  {
   "cell_type": "code",
   "execution_count": 17,
   "metadata": {},
   "outputs": [
    {
     "name": "stdout",
     "output_type": "stream",
     "text": [
      "[[ 8.4   2.11  1.41]\n",
      " [13.7   3.53  2.  ]\n",
      " [15.    3.82  2.43]\n",
      " [16.2   4.59  2.63]\n",
      " [17.4   4.59  2.94]]\n",
      "(56, 3)\n"
     ]
    }
   ],
   "source": [
    "# Pandas로 데이터 준비\n",
    "import\tpandas\tas\tpd\n",
    "df =\tpd.read_csv('https://bit.ly/perch_csv')\n",
    "perch_full =\tdf.to_numpy()\t#\tDataFrame을 Numpy의 array로 변환\n",
    "print(perch_full[:5])\n",
    "print(perch_full.shape)"
   ]
  },
  {
   "cell_type": "code",
   "execution_count": 18,
   "metadata": {},
   "outputs": [],
   "source": [
    "# target 데이터(perch_weight)는 기존과 동일\n",
    "# perch_full,\tperch_weight를 훈련 세트와 테스트 세트로 분리\n",
    "import\tnumpy as\tnp\n",
    "perch_weight =\tnp.array(\n",
    "[5.9,\t32.0,\t40.0,\t51.5,\t70.0,\t100.0,\t78.0,\t80.0,\t85.0,\t85.0,\n",
    "110.0,\t115.0,\t125.0,\t130.0,\t120.0,\t120.0,\t130.0,\t135.0,\t110.0,\n",
    "130.0,\t150.0,\t145.0,\t150.0,\t170.0,\t225.0,\t145.0,\t188.0,\t180.0,\n",
    "197.0,\t218.0,\t300.0,\t260.0,\t265.0,\t250.0,\t250.0,\t300.0,\t320.0,\n",
    "514.0,\t556.0,\t840.0,\t685.0,\t700.0,\t700.0,\t690.0,\t900.0,\t650.0,\n",
    "820.0,\t850.0,\t900.0,\t1015.0,\t820.0,\t1100.0,\t1000.0,\t1100.0,\n",
    "1000.0,\t1000.0])"
   ]
  },
  {
   "cell_type": "code",
   "execution_count": 19,
   "metadata": {},
   "outputs": [],
   "source": [
    "from sklearn.model_selection import train_test_split\n",
    "\n",
    "train_input, test_input, train_target, test_target = train_test_split(\n",
    "    perch_full, perch_weight, random_state=42)"
   ]
  },
  {
   "cell_type": "markdown",
   "metadata": {},
   "source": [
    "### 사이킷런의 변환기 (Transformer)\n",
    "- 다항 특성 만들기</br>\n",
    "• PolynomialFeatures 클래스 사용</br>\n",
    "– *각 특성을 제곱한 항을 추가하고, 특성끼리 서로 곱한 항을 추가*</br>\n",
    "\n",
    "• 1. **PloynomialFeatures(include_bias=True)**</br>\n",
    "– include_bias=True:\tbias(절편,\t0차항) 추가</br>\n",
    "– include_bias=False:\tbias\t삭제</br>\n",
    "\n",
    "• 2. **fit([a,\tb]): 특성 조합을 찾음**</br>\n",
    "– [1,\ta,\tb,\ta*b,\ta^2,\tb^2]\t추가</br>\n",
    "\n",
    "• 3. **transform([[a,\tb]]): 특성 조합을 실제 데이터로 변환**</br>\n",
    "– [1,\ta,\tb,\ta*b,\ta^2,\tb^2]\t로 변환"
   ]
  },
  {
   "cell_type": "code",
   "execution_count": 20,
   "metadata": {},
   "outputs": [
    {
     "name": "stdout",
     "output_type": "stream",
     "text": [
      "[[1. 2. 3. 4. 6. 9.]]\n",
      "[[2. 3. 4. 6. 9.]]\n"
     ]
    }
   ],
   "source": [
    "from sklearn.preprocessing import PolynomialFeatures\n",
    "\n",
    "poly = PolynomialFeatures()         # PolynomialFeatures(include_bias=True)\t(기본값)\n",
    "poly.fit([[2,3]])                   # 2, 3의 조합을 찾음(2^2,\t3^2,\t2x3)\n",
    "print(poly.transform([[2,3]]))      # 특성 조합을 데이터로 변환\n",
    "\n",
    "poly_F=PolynomialFeatures(include_bias=False)\n",
    "poly_F.fit([[2,3]])\n",
    "print(poly_F.transform([[2,3]]))\n",
    "#  PolynomialFeatures(include_bias=False) : 1 제거"
   ]
  },
  {
   "cell_type": "markdown",
   "metadata": {},
   "source": [
    "#### 다항 특성 만들기\n",
    "- 훈련 세트(train_input)을 사용하여 다항 특성 만들기(ex) 3개)"
   ]
  },
  {
   "cell_type": "code",
   "execution_count": 30,
   "metadata": {},
   "outputs": [
    {
     "name": "stdout",
     "output_type": "stream",
     "text": [
      "[[ 19.6      5.14     3.04   384.16   100.744   59.584   26.4196  15.6256\n",
      "    9.2416]\n",
      " [ 22.       5.88     3.52   484.     129.36    77.44    34.5744  20.6976\n",
      "   12.3904]\n",
      " [ 18.7      5.2      3.12   349.69    97.24    58.344   27.04    16.224\n",
      "    9.7344]]\n",
      "(42, 9)\n",
      "[[  8.4      2.11     1.41    70.56    17.724   11.844    4.4521   2.9751\n",
      "    1.9881]\n",
      " [ 18.       5.22     3.32   324.      93.96    59.76    27.2484  17.3304\n",
      "   11.0224]\n",
      " [ 27.5      7.28     4.57   756.25   200.2    125.675   52.9984  33.2696\n",
      "   20.8849]]\n"
     ]
    }
   ],
   "source": [
    "from sklearn.preprocessing import PolynomialFeatures\n",
    "\n",
    "poly\t=\tPolynomialFeatures(include_bias=False)\n",
    "poly.fit(train_input)\n",
    "train_poly =\tpoly.transform(train_input)\t\n",
    "#\ttrain_input 데이터를 이용하여 총 9개의 특성이 만들어짐\n",
    "\n",
    "print(train_poly[0:3])\n",
    "print(train_poly.shape)\n",
    "test_poly =\tpoly.transform(test_input)\t#\t테스트 세트 변환:\tfit()호출 안함\n",
    "# 훈련 세트를 기준으로 만들어진 특성을 이용하여 테스트 세트를 변환하기 위해서 호출 안함.\n",
    "\n",
    "print(test_poly[0:3])"
   ]
  },
  {
   "cell_type": "code",
   "execution_count": 32,
   "metadata": {},
   "outputs": [
    {
     "name": "stdout",
     "output_type": "stream",
     "text": [
      "['x0' 'x1' 'x2' 'x0^2' 'x0 x1' 'x0 x2' 'x1^2' 'x1 x2' 'x2^2']\n"
     ]
    }
   ],
   "source": [
    "# get_feature_names()\n",
    "# • 각 특성의 조합을 알려줌\n",
    "print(poly.get_feature_names_out())\n",
    "\n",
    "# ['x0', 'x1', 'x2', 'x0^2', 'x0 x1', 'x0 x2', 'x1^2', 'x1 x2', 'x2^2']\n",
    "# x0 : length, x1 : width, x2 : height"
   ]
  },
  {
   "cell_type": "markdown",
   "metadata": {},
   "source": [
    "### 다중 회귀 모델 훈련"
   ]
  },
  {
   "cell_type": "markdown",
   "metadata": {},
   "source": [
    "• 선형 회귀 모델 훈련과 동일 (여러 개의 특성을 사용할 뿐임)</br>\n",
    "– 특성이 늘어나면 선형 회귀의 정확도 증가"
   ]
  },
  {
   "cell_type": "code",
   "execution_count": 35,
   "metadata": {},
   "outputs": [
    {
     "name": "stdout",
     "output_type": "stream",
     "text": [
      "0.9903183436982125\n"
     ]
    }
   ],
   "source": [
    "\n",
    "# • 선형 회귀 모델 훈련과 동일 (여러 개의 특성을 사용할 뿐임)\n",
    "\n",
    "from sklearn.linear_model import LinearRegression\n",
    "\n",
    "lr = LinearRegression()\n",
    "lr.fit(train_poly, train_target)\n",
    "print(lr.score(train_poly, train_target))"
   ]
  },
  {
   "cell_type": "markdown",
   "metadata": {},
   "source": [
    "- degree 증가</br>\n",
    "• 고차항의 최대 차수 지정</br>\n",
    "• 3제곱, 4제곱, 5제곱 항 추가"
   ]
  },
  {
   "cell_type": "code",
   "execution_count": 44,
   "metadata": {},
   "outputs": [
    {
     "name": "stdout",
     "output_type": "stream",
     "text": [
      "(42, 55) (14, 55)\n"
     ]
    }
   ],
   "source": [
    "poly = PolynomialFeatures(degree=5, include_bias=False)\n",
    "poly.fit(train_input)\n",
    "train_poly=poly.transform(train_input)\n",
    "test_poly =\tpoly.transform(test_input)\n",
    "print(train_poly.shape, test_poly.shape)"
   ]
  },
  {
   "cell_type": "markdown",
   "metadata": {},
   "source": [
    "- 선형 회귀 모델 훈련 및 점수 계산"
   ]
  },
  {
   "cell_type": "code",
   "execution_count": 39,
   "metadata": {},
   "outputs": [
    {
     "name": "stdout",
     "output_type": "stream",
     "text": [
      "0.9999999999938143\n",
      "-144.40744532797535\n"
     ]
    }
   ],
   "source": [
    "#\t선형 회귀 모델 훈련 및 훈련 세트 점수 계산\n",
    "lr.fit(train_poly,\ttrain_target)\n",
    "print(lr.score(train_poly,\ttrain_target))\n",
    "#\t테스트 세트 점수 계산\n",
    "print(lr.score(test_poly,\ttest_target))\n",
    "\n",
    "# 훈련 세트에 과대 적합"
   ]
  },
  {
   "cell_type": "code",
   "execution_count": null,
   "metadata": {},
   "outputs": [],
   "source": []
  }
 ],
 "metadata": {
  "kernelspec": {
   "display_name": "Python 3.9.12 ('EV_PY39')",
   "language": "python",
   "name": "python3"
  },
  "language_info": {
   "codemirror_mode": {
    "name": "ipython",
    "version": 3
   },
   "file_extension": ".py",
   "mimetype": "text/x-python",
   "name": "python",
   "nbconvert_exporter": "python",
   "pygments_lexer": "ipython3",
   "version": "3.9.12"
  },
  "orig_nbformat": 4,
  "vscode": {
   "interpreter": {
    "hash": "c34f60c4b6508d34c0193a1e5ad16bfc3f81e2e087a9e2f73ef284bcb9806a0b"
   }
  }
 },
 "nbformat": 4,
 "nbformat_minor": 2
}
