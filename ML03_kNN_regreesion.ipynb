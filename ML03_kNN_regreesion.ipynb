{
 "cells": [
  {
   "cell_type": "markdown",
   "metadata": {},
   "source": [
    "### k-최근접 이웃 회귀\n",
    "- k-최근접 이웃 분류\n",
    "    - 예측하려는 샘플에 가장 가까운 이웃을 k개를 선택\n",
    "    - 이웃들의 클래스를 확인\n",
    "    - 샘플 주변의 다수의 클래스를 샘플의 클래스로 예측\n",
    "- k-최근접 이웃 회귀\n",
    "    - 예측하려는 샘플에 가장 가까운 이웃 k개를 선택\n",
    "    - 이웃의 평균을 구함"
   ]
  },
  {
   "cell_type": "markdown",
   "metadata": {},
   "source": [
    "##### 데이터 준비\n",
    "- 농어(perch)의 길이로 무게를 잘 예측할 수 있을까?"
   ]
  },
  {
   "cell_type": "code",
   "execution_count": 2,
   "metadata": {},
   "outputs": [
    {
     "data": {
      "image/png": "[encoded data removed]",
      "text/plain": [
       "<Figure size 432x288 with 1 Axes>"
      ]
     },
     "metadata": {
      "needs_background": "light"
     },
     "output_type": "display_data"
    }
   ],
   "source": [
    "import\tnumpy as\tnp\n",
    "import\tmatplotlib.pyplot as\tplt\n",
    "\n",
    "perch_length =\tnp.array([8.4,\t13.7,\t15.0,\t16.2,\t17.4,\t18.0,\t18.7,\t19.0,\t19.6,\t20.0,\t\n",
    "21.0,\t21.0,\t21.0,\t21.3,\t22.0,\t22.0,\t22.0,\t22.0,\t22.0,\t22.5,\t\n",
    "22.5,\t22.7,\t23.0,\t23.5,\t24.0,\t24.0,\t24.6,\t25.0,\t25.6,\t26.5,\t\n",
    "27.3,\t27.5,\t27.5,\t27.5,\t28.0,\t28.7,\t30.0,\t32.8,\t34.5,\t35.0,\t\n",
    "36.5,\t36.0,\t37.0,\t37.0,\t39.0,\t39.0,\t39.0,\t40.0,\t40.0,\t40.0,\t\n",
    "40.0,\t42.0,\t43.0,\t43.0,\t43.5,\t44.0])\n",
    "perch_weight =\tnp.array([5.9,\t32.0,\t40.0,\t51.5,\t70.0,\t100.0,\t78.0,\t80.0,\t85.0,\t85.0,\t\n",
    "110.0,\t115.0,\t125.0,\t130.0,\t120.0,\t120.0,\t130.0,\t135.0,\t110.0,\t130.0,\n",
    "150.0,\t145.0,\t150.0,\t170.0,\t225.0,\t145.0,\t188.0,\t180.0,\t197.0,\t218.0,\t\n",
    "300.0,\t260.0,\t265.0,\t250.0,\t250.0,\t300.0,\t320.0,\t514.0,\t556.0,\t840.0,\t\n",
    "685.0,\t700.0,\t700.0,\t690.0,\t900.0,\t650.0,\t820.0,\t850.0,\t900.0,\t1015.0,\n",
    "820.0,\t1100.0,\t1000.0,\t1100.0,\t1000.0,\t1000.0])\n",
    "#\t산점도 확인\n",
    "plt.scatter(perch_length,\tperch_weight)\n",
    "plt.xlabel('length')\n",
    "plt.ylabel('weight')\n",
    "plt.show()"
   ]
  },
  {
   "cell_type": "markdown",
   "metadata": {},
   "source": [
    "훈련 세트와 테스트 세트 준비\n",
    "§ train_test_split() 함수 사용\n",
    "• 1개의 데이터 세트(perch_length)만 사용\n",
    "• scikit-learn의 훈련 세트는 2차원 배열을 사용\n",
    "– 입력 데이터 세트를 2차원 배열 형태로 변경이 필요\n",
    "– reshape(row,\tcol) 함수 사용\n",
    "– (42,) -> (42, 1)형태로 변경"
   ]
  },
  {
   "cell_type": "code",
   "execution_count": 3,
   "metadata": {},
   "outputs": [
    {
     "name": "stdout",
     "output_type": "stream",
     "text": [
      "(42,) (14,)\n",
      "(42, 1) (14, 1)\n"
     ]
    }
   ],
   "source": [
    "from sklearn.model_selection import train_test_split\n",
    "\n",
    "train_input,\ttest_input,\ttrain_target,\ttest_target = train_test_split(\n",
    "    perch_length, perch_weight, random_state=42)\n",
    "\n",
    "print(train_input.shape,\ttest_input.shape)\n",
    "\n",
    "#\treshape(-1,\t1):\t-1:\t행의 크기를 자동 지정\n",
    "train_input=train_input.reshape(-1, 1) # 2차원 배열로 변경\n",
    "test_input=test_input.reshape(-1, 1) # 2차원 배열로 변경\\\n",
    "\n",
    "print(train_input.shape,\ttest_input.shape)"
   ]
  },
  {
   "cell_type": "markdown",
   "metadata": {},
   "source": [
    "#### k-최근접 이웃 회귀 알고리즘 정확도 계산\n",
    "- k-최근접 이웃 회귀 알고리즘\n",
    "    - KNeighborsRegressor 클래스 사용\n",
    "- n_neighbors: 기본 값=5\n",
    "\n",
    "- score()\n",
    "    - 결정 계수(R2)를 리턴함\n",
    "    - 출력하는 값이 높을수록 정확도가 높음"
   ]
  },
  {
   "cell_type": "code",
   "execution_count": 4,
   "metadata": {},
   "outputs": [
    {
     "name": "stdout",
     "output_type": "stream",
     "text": [
      "0.992809406101064\n"
     ]
    }
   ],
   "source": [
    "from sklearn.neighbors import KNeighborsRegressor\n",
    "\n",
    "knr=KNeighborsRegressor()\n",
    "# 모델 훈련\n",
    "knr.fit(train_input, train_target)\n",
    "\n",
    "#\tscore():\t훈련 모델 점수 확인,\t결정 계수(R2)를 리턴\n",
    "print(knr.score(test_input,\ttest_target))\n",
    "# 0.992809406101064 => 결정계수"
   ]
  },
  {
   "cell_type": "markdown",
   "metadata": {},
   "source": [
    "##### 결정 계수(R2)\n",
    "- 결정 계수 (R2) 값</br>\n",
    "    • 회귀식이 얼마나 정확한지를 나타내는 숫자 (0 ≤ $R^2$ ≤ 1)</br>\n",
    "    – 0에 가까울수록, 회귀식의 정확도는 낮음</br>\n",
    "    – 1에 가까울 수록, 회귀식의 정확도는 높음</br>\n",
    "\n",
    "- $R^2$ = 1 − $(target − 예측)^2$의 합 / $(target - target평균)^2$의 합\n"
   ]
  },
  {
   "cell_type": "markdown",
   "metadata": {},
   "source": [
    "#### mean_absolute_error\n",
    "- mean_absolute_error (MAE): 평균 절대 오차</br>\n",
    "• 타킷(실제 값)과 예측 값의 절대값 오차 평균</br>\n",
    "• 절대값을 사용: 에러의 크기를 반영</br>\n",
    "• sklearn.merics 패키지 포함"
   ]
  },
  {
   "cell_type": "code",
   "execution_count": 5,
   "metadata": {},
   "outputs": [
    {
     "name": "stdout",
     "output_type": "stream",
     "text": [
      "19.157142857142862\n"
     ]
    }
   ],
   "source": [
    "from\tsklearn.metrics import\tmean_absolute_error\n",
    "\n",
    "#\t테스트 세트에 대한 예측값 계산\n",
    "test_prediction =\tknr.predict(test_input)\n",
    "\n",
    "#\t테스트 세트에 대한 평균 절대 오차 계산\n",
    "mae =\tmean_absolute_error(test_target,\ttest_prediction)\n",
    "print(mae) # 19.157142857142862 # 19g 정도의 오차 발생"
   ]
  },
  {
   "cell_type": "markdown",
   "metadata": {},
   "source": [
    "### 과대적합 vs 과소적합\n",
    "\n",
    "- 과대적합(Overfitting)</br>\n",
    "• 훈련 세트에만 잘 맞는 모델</br>\n",
    "– 테스트 세트에서는 점수가 굉장히 나쁨</br>\n",
    "– 일반성이 떨어짐\n",
    "\n",
    "- 과소적합(Underfitting)</br>\n",
    "• 훈련 세트보다 테스트 세트의 점수가 높거나, 훈련 세트와 테스트 세트의 두 점수가 모두 낮음</br>\n",
    "– 모델이 너무 단순해서 훈련 세트로 훈련이 되지 않은 경우"
   ]
  },
  {
   "cell_type": "code",
   "execution_count": 6,
   "metadata": {},
   "outputs": [
    {
     "name": "stdout",
     "output_type": "stream",
     "text": [
      "0.992809406101064\n",
      "0.9698823289099254\n"
     ]
    }
   ],
   "source": [
    "# - 앞 예제에서 훈련 세트와 테스트 세트의 score() 비교\n",
    "# • 테스트 세트의 점수가 더 높음: 과소 적합(underfitting)\n",
    "\n",
    "#\t테스트 세트를 사용하여 R2값 계산\n",
    "print(knr.score(test_input,\ttest_target))\n",
    "\n",
    "#\t훈련 세트 R2값 계산\n",
    "print(knr.score(train_input, train_target))\n",
    "\n",
    "# 0.992809406101064 > 0.9698823289099254 : 테스트 세트의 값 > 훈련 세트의 값\n",
    "# => 테스트 세트의 점수가 더 높음: 과소 적합(underfitting)"
   ]
  },
  {
   "cell_type": "markdown",
   "metadata": {},
   "source": [
    "### 모델 개선: 이웃 개수 줄이기\n",
    "- 과소 적합 해결 방안: 이웃의 개수 줄임</br>\n",
    "    • 기본 값 5에서 n_neighbors =\t3으로 변경</br>\n",
    "    - 모델이 더 복잡해짐</br>\n",
    "    - 훈련 세트의 국지적 패턴에 더 민감해짐"
   ]
  },
  {
   "cell_type": "code",
   "execution_count": 7,
   "metadata": {},
   "outputs": [
    {
     "name": "stdout",
     "output_type": "stream",
     "text": [
      "훈련 데이터로 모델의 정확도 점수 계산:  0.9804899950518966\n",
      "테스트 데이터로 모델의 정확도 점수 계산:  0.9746459963987609\n"
     ]
    }
   ],
   "source": [
    "knr.n_neighbors = 3\n",
    "\n",
    "# 모델을 다시 훈련\n",
    "knr.fit(train_input, train_target)\n",
    "\n",
    "print(\"훈련 데이터로 모델의 정확도 점수 계산: \",\n",
    "knr.score(train_input, train_target)) # 훈련 데이터의 점수가 5일때보다 높아짐.\n",
    "print(\"테스트 데이터로 모델의 정확도 점수 계산: \",\n",
    "knr.score(test_input, test_target))"
   ]
  },
  {
   "cell_type": "markdown",
   "metadata": {},
   "source": [
    "#### 이웃의 수에 따른 그래프 비교\n",
    "- k-최근접 회귀 알고리즘에서 이웃의 수 변경: 1, 5, 10</br>\n",
    "• 농어의 길이를 5~45까지 변경하면서 무게 예측"
   ]
  },
  {
   "cell_type": "code",
   "execution_count": 8,
   "metadata": {},
   "outputs": [
    {
     "name": "stderr",
     "output_type": "stream",
     "text": [
      "c:\\ProgramData\\Miniconda3\\envs\\EV_PY39\\lib\\site-packages\\IPython\\core\\pylabtools.py:151: UserWarning: Glyph 9 (\t) missing from current font.\n",
      "  fig.canvas.print_figure(bytes_io, **kw)\n"
     ]
    },
    {
     "data": {
      "image/png": "[encoded data removed]",
      "text/plain": [
       "<Figure size 432x288 with 1 Axes>"
      ]
     },
     "metadata": {
      "needs_background": "light"
     },
     "output_type": "display_data"
    },
    {
     "name": "stderr",
     "output_type": "stream",
     "text": [
      "c:\\ProgramData\\Miniconda3\\envs\\EV_PY39\\lib\\site-packages\\IPython\\core\\pylabtools.py:151: UserWarning: Glyph 9 (\t) missing from current font.\n",
      "  fig.canvas.print_figure(bytes_io, **kw)\n"
     ]
    },
    {
     "data": {
      "image/png": "[encoded data removed]",
      "text/plain": [
       "<Figure size 432x288 with 1 Axes>"
      ]
     },
     "metadata": {
      "needs_background": "light"
     },
     "output_type": "display_data"
    },
    {
     "name": "stderr",
     "output_type": "stream",
     "text": [
      "c:\\ProgramData\\Miniconda3\\envs\\EV_PY39\\lib\\site-packages\\IPython\\core\\pylabtools.py:151: UserWarning: Glyph 9 (\t) missing from current font.\n",
      "  fig.canvas.print_figure(bytes_io, **kw)\n"
     ]
    },
    {
     "data": {
      "image/png": "[encoded data removed]",
      "text/plain": [
       "<Figure size 432x288 with 1 Axes>"
      ]
     },
     "metadata": {
      "needs_background": "light"
     },
     "output_type": "display_data"
    }
   ],
   "source": [
    "import platform\n",
    "if\tplatform.system()\t==\t'Windows':\n",
    "        plt.rc('font',\tfamily='Malgun Gothic')\n",
    "elif platform.system()\t==\t'Darwin':\t#\tMacOS\n",
    "    plt.rc('font',\tfamily='AppleGothic')\n",
    "else:\n",
    "    plt.rc('font',\tfamily='AppleGothic')\n",
    "\n",
    "#\tk-최근접 이웃 회귀 객체 생성\n",
    "knr =\tKNeighborsRegressor()\n",
    "\n",
    "# x:농어의 길이(5 ~ 45까지 범위 설정)\n",
    "x = np.arange(5, 45).reshape(-1, 1)\n",
    "\n",
    "# n=1,\t5,\t10일때 예측 결과 그래프\n",
    "for n in [1, 5, 10]:\n",
    "    # 모델 훈련\n",
    "    knr.n_neighbors=n\n",
    "    knr.fit(train_input, train_target) # n_neighbors의 값을 1, 5, 10으로 증가시키면서 모델 훈련\n",
    "\n",
    "    #\t지정한 범위 x(농어의 길이)에 대한 농어 무게 예측하기\n",
    "    prediction=knr.predict(x)\n",
    "\n",
    "    #\t훈련 세트와 예측 결과 그래프 그리기\n",
    "    plt.scatter(train_input,\ttrain_target,\tlabel='train\tset')\n",
    "    plt.plot(x,\tprediction,\tlabel='prediction',\tcolor='orange')\n",
    "    plt.title('n_neighbors =\t{}'.format(n))\n",
    "    plt.xlabel('length')\n",
    "    plt.ylabel('weight')\n",
    "    plt.show()\n",
    "\n",
    "# n의 값이 커질수록 모델이 단순 (과소적합)"
   ]
  },
  {
   "cell_type": "markdown",
   "metadata": {},
   "source": [
    "### 마무리 정리\n",
    "- 회귀(Regression)</br>\n",
    "    • 임의의 수치를 예측하는 문제</br>\n",
    "    • k-최근접 이웃 회귀</br>\n",
    "        – 가장 가까운 이웃 샘플을 찾고 타깃값을 평균하여 예측\n",
    "\n",
    "- 과대 적합(Overfitting)</br>\n",
    "    • 훈련 세트에만 잘 맞음 (일반성이 떨어짐)</br>\n",
    "    • 훈련 세트의 성능 > 테스트 세트 성능\n",
    "\n",
    "- 과소 적합(Underfitting)</br>\n",
    "    • 모델이 단순하여 훈련 세트의 패턴을 모두 잡아내지 못함</br>\n",
    "    • 훈련 세트와 테스트 세트의 성능이 모두 낮거나</br>\n",
    "    • 훈련 세트의 성능 < 테스트 세트의 성능"
   ]
  },
  {
   "cell_type": "markdown",
   "metadata": {},
   "source": [
    "## *k-최근접 이웃 알고리즘의 문제점*\n",
    "- k-최근접 이웃 회귀 알고리즘의 문제점</br>\n",
    "• 가장 가까운 샘플을 찾아 평균값 계산</br>\n",
    "• 새로운 샘플이 훈련 세트의 범위를 벗어나면 잘못된 예측을 함"
   ]
  },
  {
   "cell_type": "markdown",
   "metadata": {},
   "source": [
    "- 훈련 세트 밖의 샘플 예측</br>\n",
    "• 50cm,\t100cm\t길이의 농어 무게 예측: 동일한 예측값"
   ]
  },
  {
   "cell_type": "code",
   "execution_count": 35,
   "metadata": {},
   "outputs": [
    {
     "name": "stdout",
     "output_type": "stream",
     "text": [
      "50cm: [1033.33333333]\n",
      "100cm: [1033.33333333]\n"
     ]
    }
   ],
   "source": [
    "from sklearn.model_selection import train_test_split\n",
    "\n",
    "# 훈련 세트와 테스트 세트로 나눔\n",
    "train_input, test_input, train_target, test_target = train_test_split(\n",
    "    perch_length, perch_weight, random_state=42)\n",
    "\n",
    "#\t훈련 세트와 테스트 세트를 2차원 배열로 변경\n",
    "train_input =\ttrain_input.reshape(-1,\t1)\n",
    "test_input =\ttest_input.reshape(-1, 1)\n",
    "\n",
    "from\tsklearn.neighbors import\tKNeighborsRegressor\n",
    "\n",
    "knr = KNeighborsRegressor(n_neighbors=3)\n",
    "# k-최근접 이웃 회귀 모델을 훈련\n",
    "knr.fit(train_input, train_target)\n",
    "\n",
    "print('50cm:',\tknr.predict([[50]]))\n",
    "print('100cm:',\tknr.predict([[100]]))\n",
    "# 100cm 농어의 예측값은 50cm 농어의 예측값과 동일: 1033g"
   ]
  },
  {
   "cell_type": "markdown",
   "metadata": {},
   "source": [
    "##### 50cm,\t100cm\t길이의 농어의 이웃 및 산점도 비교"
   ]
  },
  {
   "cell_type": "code",
   "execution_count": 34,
   "metadata": {},
   "outputs": [
    {
     "name": "stderr",
     "output_type": "stream",
     "text": [
      "c:\\ProgramData\\Miniconda3\\envs\\EV_PY39\\lib\\site-packages\\IPython\\core\\pylabtools.py:151: UserWarning: Glyph 9 (\t) missing from current font.\n",
      "  fig.canvas.print_figure(bytes_io, **kw)\n"
     ]
    },
    {
     "data": {
      "image/png": "[encoded data removed]",
      "text/plain": [
       "<Figure size 432x288 with 1 Axes>"
      ]
     },
     "metadata": {
      "needs_background": "light"
     },
     "output_type": "display_data"
    }
   ],
   "source": [
    "#\t50cm\t농어의 이웃을 구함\n",
    "distances_50,\tindexes_50\t=\tknr.kneighbors([[50]])\n",
    "#\t100cm\t농어의 이웃을 구함\n",
    "distances_100,\tindexes_100\t=\tknr.kneighbors([[100]])\n",
    "\n",
    "#\t훈련 세트의 산점도\n",
    "plt.scatter(train_input,\ttrain_target,\tlabel='train\tset')\n",
    "\n",
    "#\t훈련 세트 중에서 50cm\t농어의 이웃 데이터만 다시 그림\n",
    "plt.scatter(train_input[indexes_50],\ttrain_target[indexes_50],\n",
    "marker='D',\tlabel='50cm\tneighbors')\n",
    "\n",
    "#\t50cm\t농어 데이터\n",
    "plt.scatter(50,\t1033,\tmarker='^',\tlabel='50cm')\n",
    "\n",
    "#\t훈련 세트 중에서 100cm\t농어의 이웃 데이터만 다시 그림\n",
    "plt.scatter(train_input[indexes_100],\ttrain_target[indexes_100],\n",
    "marker='P',\tlabel='100cm\tneighbors')\n",
    "\n",
    "#\t100cm\t농어 데이터\n",
    "plt.scatter(100,\t1033,\tmarker='s',\tlabel='100cm')\n",
    "plt.xlim(0,\t110)\n",
    "plt.legend(loc=5)\n",
    "plt.show()"
   ]
  },
  {
   "cell_type": "code",
   "execution_count": 33,
   "metadata": {},
   "outputs": [
    {
     "name": "stdout",
     "output_type": "stream",
     "text": [
      "50cm\tneighbor\tindexes: [[34  8 14]]\n",
      "100cm\tneighbor\tindexes: [[34  8 14]]\n",
      "1033.3333333333333\n",
      "1033.3333333333333\n"
     ]
    }
   ],
   "source": [
    "#  50cm 농어와 100cm 농어의 이웃 비교\n",
    "\n",
    "# 훈련데이터에서 이웃 데이터의 인덱스 확인\n",
    "print('50cm\tneighbor\tindexes:',\tindexes_50)\n",
    "print('100cm\tneighbor\tindexes:',\tindexes_100)\n",
    "\n",
    "# 이웃 데이터의 무게 평균 계산\n",
    "print(np.mean(train_target[indexes_50]))\n",
    "print(np.mean(train_target[indexes_100]))"
   ]
  },
  {
   "cell_type": "markdown",
   "metadata": {},
   "source": [
    "- k-최근접 이웃 회귀: 이웃의 평균을 구함</br>\n",
    "    - 50cm 농어의 이웃과 100cm 농어의 이웃이 동일함</br>\n",
    "    - 서로 다른 길이의 무게 예측하기 위해 이웃의 평균값을 사용했을 때</br>\n",
    "    - 50cm 농어와 100cm 농어의 무게 예측값(1033g)이 동일한 문제점이 발생</br>"
   ]
  }
 ],
 "metadata": {
  "kernelspec": {
   "display_name": "Python 3.9.12 ('EV_PY39')",
   "language": "python",
   "name": "python3"
  },
  "language_info": {
   "codemirror_mode": {
    "name": "ipython",
    "version": 3
   },
   "file_extension": ".py",
   "mimetype": "text/x-python",
   "name": "python",
   "nbconvert_exporter": "python",
   "pygments_lexer": "ipython3",
   "version": "3.9.12"
  },
  "orig_nbformat": 4,
  "vscode": {
   "interpreter": {
    "hash": "c34f60c4b6508d34c0193a1e5ad16bfc3f81e2e087a9e2f73ef284bcb9806a0b"
   }
  }
 },
 "nbformat": 4,
 "nbformat_minor": 2
}
